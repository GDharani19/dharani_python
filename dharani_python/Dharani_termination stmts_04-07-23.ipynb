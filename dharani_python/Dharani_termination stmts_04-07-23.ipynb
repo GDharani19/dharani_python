{
 "cells": [
  {
   "attachments": {},
   "cell_type": "markdown",
   "metadata": {},
   "source": [
    "TERMINATION STATEMENTS\n",
    "\n",
    "* It is a one of the control statements.\n",
    "* It is a phenomenon of terminate or skip the iterations inside the looping statements.\n",
    "* Termination statements are classified into 3 types.\n",
    "             1.Break\n",
    "             2.Continue\n",
    "             3.Pass"
   ]
  },
  {
   "attachments": {},
   "cell_type": "markdown",
   "metadata": {},
   "source": [
    "BREAK :\n",
    "\n",
    "* Is is a keyword , it is used to terminate all the iterations inside the looping statements.\n",
    "* Break keyword / wnenever the controller see the break keyword it will stop the looping iteration and the control will go out \n",
    "  of the looping statements (or) it will go out of the else block."
   ]
  },
  {
   "attachments": {},
   "cell_type": "markdown",
   "metadata": {},
   "source": [
    "EXAMPLES :"
   ]
  },
  {
   "attachments": {},
   "cell_type": "markdown",
   "metadata": {},
   "source": [
    "1.WAP to print the range of numbers with out using break keyword."
   ]
  },
  {
   "cell_type": "code",
   "execution_count": 1,
   "metadata": {},
   "outputs": [
    {
     "name": "stdout",
     "output_type": "stream",
     "text": [
      "1\n",
      "2\n",
      "3\n",
      "4\n",
      "5\n",
      "6\n"
     ]
    }
   ],
   "source": [
    "start=1\n",
    "end=6\n",
    "while start<=end:\n",
    "    print(start)\n",
    "    start+=1"
   ]
  },
  {
   "attachments": {},
   "cell_type": "markdown",
   "metadata": {},
   "source": [
    "2.WAP to print the range of numbers using break keyword."
   ]
  },
  {
   "cell_type": "code",
   "execution_count": 2,
   "metadata": {},
   "outputs": [
    {
     "name": "stdout",
     "output_type": "stream",
     "text": [
      "1\n",
      "2\n",
      "3\n",
      "4\n"
     ]
    }
   ],
   "source": [
    "start=1\n",
    "end=6\n",
    "while start<=end:\n",
    "    print(start)   #The output will be based on position of the print function \n",
    "    if start==4:\n",
    "        break\n",
    "    start+=1"
   ]
  },
  {
   "cell_type": "code",
   "execution_count": 3,
   "metadata": {},
   "outputs": [
    {
     "name": "stdout",
     "output_type": "stream",
     "text": [
      "1\n",
      "2\n",
      "3\n"
     ]
    }
   ],
   "source": [
    "start=1\n",
    "end=6\n",
    "while start<=end:\n",
    "    if start==4:\n",
    "       break\n",
    "    print(start) #The output will be based on position of the print function  \n",
    "    start+=1"
   ]
  },
  {
   "attachments": {},
   "cell_type": "markdown",
   "metadata": {},
   "source": [
    "without using break keyword and else block."
   ]
  },
  {
   "cell_type": "code",
   "execution_count": 4,
   "metadata": {},
   "outputs": [
    {
     "name": "stdout",
     "output_type": "stream",
     "text": [
      "1\n",
      "2\n",
      "3\n",
      "4\n",
      "5\n",
      "6\n",
      "haii\n"
     ]
    }
   ],
   "source": [
    "start=1\n",
    "end=6\n",
    "while start<=end:\n",
    "    print(start)\n",
    "    start+=1\n",
    "else:\n",
    "    print(\"haii\")    "
   ]
  },
  {
   "attachments": {},
   "cell_type": "markdown",
   "metadata": {},
   "source": [
    "using break keword and else block also."
   ]
  },
  {
   "cell_type": "code",
   "execution_count": 5,
   "metadata": {},
   "outputs": [
    {
     "name": "stdout",
     "output_type": "stream",
     "text": [
      "1\n",
      "2\n",
      "3\n",
      "4\n"
     ]
    }
   ],
   "source": [
    "start=1\n",
    "end=6\n",
    "while start<=end:\n",
    "    if start==5:\n",
    "        break\n",
    "    print(start)\n",
    "    start+=1\n",
    "else:\n",
    "    print(\"haii\")    "
   ]
  },
  {
   "attachments": {},
   "cell_type": "markdown",
   "metadata": {},
   "source": [
    "CONTINUE :\n",
    "\n",
    "* It is a one of the termination statement by using continue statement we can skip current iteration.\n",
    "* Continue is a keyword , it will stop the current iteration then the while loop statement will continue other iterations.\n",
    "* Whenever the controller see the continue statement or continue keyword it will stop the looping or iteration then the control will go back\n",
    "  to looping condition  and remaining other iterations will execute.\n",
    "\n",
    "NOTE:\n",
    "\n",
    "* After continue statement if any other statement are there those stmts will not execute.\n",
    "* Before the continue statement , whatever the statements are available those statements will execute."
   ]
  },
  {
   "attachments": {},
   "cell_type": "markdown",
   "metadata": {},
   "source": [
    "1.WAP to print the range of numbers using continue keyword."
   ]
  },
  {
   "cell_type": "code",
   "execution_count": 6,
   "metadata": {},
   "outputs": [
    {
     "name": "stdout",
     "output_type": "stream",
     "text": [
      "start 1\n",
      "start 2\n",
      "start 3\n",
      "start 4\n",
      "start 5\n",
      "start 6\n"
     ]
    }
   ],
   "source": [
    "start=1\n",
    "end=6\n",
    "while start<=end:\n",
    "    print(\"start\",start)\n",
    "    start+=1\n",
    "    continue\n",
    "    print(stop)"
   ]
  },
  {
   "attachments": {},
   "cell_type": "markdown",
   "metadata": {},
   "source": [
    "2.WAP to print the factors of end value."
   ]
  },
  {
   "cell_type": "code",
   "execution_count": 1,
   "metadata": {},
   "outputs": [
    {
     "name": "stdout",
     "output_type": "stream",
     "text": [
      "1\n",
      "start 1\n",
      "2\n",
      "start 2\n",
      "3\n",
      "start 3\n",
      "6\n",
      "start 6\n"
     ]
    }
   ],
   "source": [
    "start=1\n",
    "end=6\n",
    "while start<=end:\n",
    "    if end%start==0:\n",
    "        print(start)\n",
    "    else:\n",
    "        start+=1\n",
    "        continue\n",
    "    print(\"start\",start)\n",
    "    start+=1    "
   ]
  },
  {
   "attachments": {},
   "cell_type": "markdown",
   "metadata": {},
   "source": [
    "3.WAP to print the non factors of end value."
   ]
  },
  {
   "cell_type": "code",
   "execution_count": 2,
   "metadata": {},
   "outputs": [
    {
     "name": "stdout",
     "output_type": "stream",
     "text": [
      "4\n",
      "start 4\n",
      "5\n",
      "start 5\n"
     ]
    }
   ],
   "source": [
    "start=1\n",
    "end=6\n",
    "while start<=end:\n",
    "    if end%start!=0:\n",
    "        print(start)\n",
    "    else:\n",
    "        start+=1\n",
    "        continue\n",
    "    print(\"start\",start)\n",
    "    start+=1    "
   ]
  },
  {
   "attachments": {},
   "cell_type": "markdown",
   "metadata": {},
   "source": [
    "PASS \n",
    "\n",
    "* It is a keyword , it represents empty block of code .\n",
    "* once we create the indentation block for any statement inside the indent block we should write atleast one statement.\n",
    "* If we are not written any statement inside indent block then interpreter will raise the indentation exception or error.\n",
    "* To overcome this problem we can use pass to terminate the indentation exception."
   ]
  },
  {
   "cell_type": "code",
   "execution_count": 2,
   "metadata": {},
   "outputs": [
    {
     "ename": "IndentationError",
     "evalue": "expected an indented block after 'if' statement on line 2 (475232540.py, line 3)",
     "output_type": "error",
     "traceback": [
      "\u001b[1;36m  Cell \u001b[1;32mIn[2], line 3\u001b[1;36m\u001b[0m\n\u001b[1;33m    print(\"stop\")\u001b[0m\n\u001b[1;37m    ^\u001b[0m\n\u001b[1;31mIndentationError\u001b[0m\u001b[1;31m:\u001b[0m expected an indented block after 'if' statement on line 2\n"
     ]
    }
   ],
   "source": [
    "print(\"start\")\n",
    "if True:\n",
    "print(\"stop\")"
   ]
  },
  {
   "attachments": {},
   "cell_type": "markdown",
   "metadata": {},
   "source": [
    "* To overcome this problem we have to use PASS."
   ]
  },
  {
   "cell_type": "code",
   "execution_count": 4,
   "metadata": {},
   "outputs": [
    {
     "name": "stdout",
     "output_type": "stream",
     "text": [
      "start\n",
      "stop\n"
     ]
    }
   ],
   "source": [
    "print(\"start\")\n",
    "if True:\n",
    "    pass\n",
    "print(\"stop\")"
   ]
  }
 ],
 "metadata": {
  "kernelspec": {
   "display_name": "Python 3",
   "language": "python",
   "name": "python3"
  },
  "language_info": {
   "codemirror_mode": {
    "name": "ipython",
    "version": 3
   },
   "file_extension": ".py",
   "mimetype": "text/x-python",
   "name": "python",
   "nbconvert_exporter": "python",
   "pygments_lexer": "ipython3",
   "version": "3.11.3"
  },
  "orig_nbformat": 4
 },
 "nbformat": 4,
 "nbformat_minor": 2
}
