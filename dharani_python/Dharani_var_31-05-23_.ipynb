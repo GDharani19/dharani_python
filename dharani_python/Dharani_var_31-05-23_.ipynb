{
 "cells": [
  {
   "attachments": {},
   "cell_type": "markdown",
   "metadata": {},
   "source": [
    "VARIABLE\n",
    "\n",
    "* Variable is a named memory block to store the data and to identify the data.\n",
    "* Variables are used to store the data and identify the data into the memory block.\n",
    "* It is a named memory block where the value is stored.\n",
    "* Python will support variable initilization and it will not support variable declaration,Because python is a dynamic programming language.\n",
    "* python interpreter only it will identify the user is given what type of the data and size of the data ,based on the results it will create memory block inside the stack space.\n",
    "* variables are created by end users.\n",
    "\n",
    "SYNTAX:\n",
    "\n",
    "* The variable syntax is mainly divided into two types.\n",
    "\n",
    "SINGLE VAR SYNTAX:\n",
    "\n",
    "Var name = value  (assigning the processed data or unprocessed data to the variable)\n",
    "\n",
    "MULTI VAR SYNTAX:\n",
    "\n",
    "Var1,Var2,Var3,Var4,....... = Val1,Val2,Val3,.......\n",
    "\n",
    "NOTE:The no of variables is equal to the no of values\n",
    "     We can assign no of values to the only one variable\n",
    "\n",
    "Var1 = Val1,Val2,Val3,.......\n",
    "\n",
    "*  The variables are stored for the purpose of future utilization.    \n",
    "\n"
   ]
  },
  {
   "attachments": {},
   "cell_type": "markdown",
   "metadata": {},
   "source": [
    "PYTHON MEMORY MANAGEMENT\n",
    "Execution area         var space              value space\n",
    "(instructions)      (visible memory)       (invisible space)"
   ]
  },
  {
   "attachments": {},
   "cell_type": "markdown",
   "metadata": {},
   "source": [
    "VARIABLE FUNCTIONS OR OPERATIONS\n",
    "\n",
    "* Initialization\n",
    "* Fetch/extract\n",
    "* Reinitialization\n",
    "* Delete\n",
    "\n",
    "INITIALIZATION:\n",
    "\n",
    "Assigning new value to the new variable name \n",
    "\n",
    "FETCH/EXTRACT:\n",
    "\n",
    "Fetch value from the value space by the help of the variable name with the referrence address\n",
    "\n",
    "REINITIALIZATION:\n",
    "\n",
    "Assigning the new value to the existing variable name \n",
    "\n",
    "DELETE:\n",
    "\n",
    "Deleting the variable name with referrence address inside the value space\n",
    "\n",
    "* so dynamically python only it will delete the value by the help of the \"garbage collector\"\n",
    "\n",
    "NOTE:\n",
    "if var name is not available inside the variable space ,then intepreter will return \"name error\""
   ]
  }
 ],
 "metadata": {
  "language_info": {
   "name": "python"
  },
  "orig_nbformat": 4
 },
 "nbformat": 4,
 "nbformat_minor": 2
}
