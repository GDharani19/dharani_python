{
 "cells": [
  {
   "cell_type": "markdown",
   "metadata": {},
   "source": [
    "TERMINATION STATEMENTS \n",
    "\n",
    "Continue :- continue will skip the particular/current iteration and it will go back to the next iteration."
   ]
  },
  {
   "cell_type": "code",
   "execution_count": 2,
   "metadata": {},
   "outputs": [
    {
     "name": "stdout",
     "output_type": "stream",
     "text": [
      "dharani 0\n",
      "dharani 1\n",
      "dharani 2\n",
      "dharani 4\n"
     ]
    }
   ],
   "source": [
    "for i in range(5):    # it skipped 3rd iteration\n",
    "    if i==3:\n",
    "        continue\n",
    "    print(\"dharani\",i)"
   ]
  },
  {
   "cell_type": "markdown",
   "metadata": {},
   "source": [
    "Break :- Break will stop the entire execution of the next iterations in the loop."
   ]
  },
  {
   "cell_type": "code",
   "execution_count": 3,
   "metadata": {},
   "outputs": [
    {
     "name": "stdout",
     "output_type": "stream",
     "text": [
      "dharani 0\n",
      "dharani 1\n",
      "dharani 2\n"
     ]
    }
   ],
   "source": [
    "for i in range(5):    # it skipped the iterations after break or after 3rd iteration\n",
    "    if i==3:\n",
    "        break\n",
    "    print(\"dharani\",i)"
   ]
  },
  {
   "cell_type": "markdown",
   "metadata": {},
   "source": [
    "Pass :- Pass is used to skip the empty block of code and whenever we don't know what to write inside that time we have to use pass."
   ]
  },
  {
   "cell_type": "code",
   "execution_count": 9,
   "metadata": {},
   "outputs": [
    {
     "name": "stdout",
     "output_type": "stream",
     "text": [
      "dharani 0\n",
      "dharani 1\n",
      "dharani 2\n",
      "dharani 4\n"
     ]
    }
   ],
   "source": [
    "for i in range(5):    # it skipped the iterations after break or after 3rd iteration\n",
    "    if i==3:\n",
    "        continue\n",
    "    print(\"dharani\",i)\n",
    "    if i==4:\n",
    "        pass"
   ]
  }
 ],
 "metadata": {
  "kernelspec": {
   "display_name": "Python 3",
   "language": "python",
   "name": "python3"
  },
  "language_info": {
   "codemirror_mode": {
    "name": "ipython",
    "version": 3
   },
   "file_extension": ".py",
   "mimetype": "text/x-python",
   "name": "python",
   "nbconvert_exporter": "python",
   "pygments_lexer": "ipython3",
   "version": "3.11.3"
  },
  "orig_nbformat": 4
 },
 "nbformat": 4,
 "nbformat_minor": 2
}
