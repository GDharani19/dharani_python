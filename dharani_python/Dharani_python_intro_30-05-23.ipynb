{
 "cells": [
  {
   "attachments": {},
   "cell_type": "markdown",
   "metadata": {},
   "source": [
    "PYTHON INTRODUCTION\n",
    "\n",
    "* Python is a high-level, general purpose programming language.\n",
    "* Father of python is \"GUIDO VAN ROSSUM\" in the year of 1989 and he got an approval and he released the first version in the year of 1991.\n",
    "* The latest version of python is 3.11.3.\n",
    "* It is a multi-variented programming language.\n",
    "* It is a dynamic programming language.\n",
    "* It is a procedural programming,functional programming,object-oriented programming,scripting programming,prototype programming language.\n",
    "* It will support dynamic typing/dynamic initialization.\n",
    "* It will support dynamic memory allocation and deallocation.\n",
    "* It is a interpreted programming language."
   ]
  },
  {
   "attachments": {},
   "cell_type": "markdown",
   "metadata": {},
   "source": [
    "ADVANTAGES:\n",
    "\n",
    "* It is a dyanamic programming language.\n",
    "* Dynamic memory management.\n",
    "* Code reusuability.\n",
    "* Code optimization.\n",
    "* Memory reusuability.\n",
    "* Interactive,portable and collabrative programming language.\n",
    "\n",
    "DISADVANTAGES:\n",
    "\n",
    "* Compilation time is high.\n",
    "* We can't develope mobile applications.\n"
   ]
  },
  {
   "attachments": {},
   "cell_type": "markdown",
   "metadata": {},
   "source": [
    "APPLICATIONS:\n",
    "\n",
    "1.Stand-alone applications\n",
    "2.Web-applications\n",
    "3.Client-server applications\n",
    "4.Console-based applications\n",
    "5.Embedded applications\n",
    "6.Gaming applications\n",
    "7.3D animation applications\n",
    "8.Enterprise applications"
   ]
  },
  {
   "attachments": {},
   "cell_type": "markdown",
   "metadata": {},
   "source": [
    "TECHNOOGIES/DOMAINS:\n",
    "\n",
    "1.Arificial intelligence\n",
    "2.Machine learning \n",
    "3.Deep learning\n",
    "4.Natural language processing\n",
    "5.Neural networks\n",
    "6.Image processing\n",
    "7.Robotics\n",
    "8.IOT\n",
    "9.Cloud computing\n",
    "10.Big data\n",
    "11.Block chain\n",
    "12.Ethical hacking"
   ]
  },
  {
   "attachments": {},
   "cell_type": "markdown",
   "metadata": {},
   "source": [
    "REAL TIME APPLICATIONS:\n",
    "\n",
    "1.Google search engine\n",
    "2.Chatgpt\n",
    "3.Netflix\n",
    "4.OLA\n",
    "5.Spotify\n",
    "6.Uber\n",
    "7.Instagram/Facebook/Youtube (or) Tagging systems\n",
    "8.Quora"
   ]
  }
 ],
 "metadata": {
  "language_info": {
   "name": "python"
  },
  "orig_nbformat": 4
 },
 "nbformat": 4,
 "nbformat_minor": 2
}
