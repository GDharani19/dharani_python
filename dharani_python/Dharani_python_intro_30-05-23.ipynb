{
 "cells": [
  {
   "attachments": {},
   "cell_type": "markdown",
   "metadata": {},
   "source": [
    "PYTHON INTRODUCTION\n",
    "\n",
    "* Python is a high-level, general purpose programming language.\n",
    "* Father of python is \"GUIDO VAN ROSSUM\" in the year of 1989 and he got an approval and he released the first version in the year of 1991.\n",
    "* The latest version of python is 3.11.3.\n",
    "* It is a multi-variented programming language.\n",
    "* It is a dynamic programming language.\n",
    "* It is a procedural programming,functional programming,object-oriented programming,scripting programming,prototype programming language.\n",
    "* It will support dynamic typing/dynamic initialization.\n",
    "* It will support dynamic memory allocation and deallocation.\n",
    "* It is a interpreted programming language."
   ]
  },
  {
   "attachments": {},
   "cell_type": "markdown",
   "metadata": {},
   "source": [
    "ADVANTAGES:\n",
    "\n",
    "* It is a dyanamic programming language.\n",
    "* Dynamic memory management.\n",
    "* Code reusuability.\n",
    "* Code optimization.\n",
    "* Memory reusuability.\n",
    "* Interactive,portable and collabrative programming language.\n",
    "\n",
    "DISADVANTAGES:\n",
    "\n",
    "* Compilation time is high.\n",
    "* We can't develope mobile applications.\n"
   ]
  },
  {
   "attachments": {},
   "cell_type": "markdown",
   "metadata": {},
   "source": [
    "APPLICATIONS:\n",
    "\n",
    "* Stand-alone applications\n",
    "* Web-applications\n",
    "* Client-server applications\n",
    "* Console-based applications\n",
    "* Embedded applications\n",
    "* Gaming applications\n",
    "* 3D animation applications\n",
    "* Enterprise applications"
   ]
  },
  {
   "attachments": {},
   "cell_type": "markdown",
   "metadata": {},
   "source": [
    "TECHNOOGIES/DOMAINS:\n",
    "\n",
    "* Arificial intelligence\n",
    "* Machine learning \n",
    "* Deep learning\n",
    "* Natural language processing\n",
    "* Neural networks\n",
    "* Image processing\n",
    "* Robotics\n",
    "* IOT\n",
    "* Cloud computing\n",
    "* Big data\n",
    "* Block chain\n",
    "* Ethical hacking"
   ]
  },
  {
   "attachments": {},
   "cell_type": "markdown",
   "metadata": {},
   "source": [
    "REAL TIME APPLICATIONS:\n",
    "\n",
    "* Google search engine\n",
    "* Chatgpt\n",
    "* Netflix\n",
    "* OLA\n",
    "* Spotify\n",
    "* Uber\n",
    "* Instagram/Facebook/Youtube (or) Tagging systems\n",
    "* Quora"
   ]
  }
 ],
 "metadata": {
  "language_info": {
   "name": "python"
  },
  "orig_nbformat": 4
 },
 "nbformat": 4,
 "nbformat_minor": 2
}
