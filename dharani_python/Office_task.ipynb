{
 "cells": [
  {
   "cell_type": "code",
   "execution_count": 1,
   "metadata": {},
   "outputs": [
    {
     "name": "stdout",
     "output_type": "stream",
     "text": [
      "'We are sorry to know about your experience. We would like to know about this incident. Please communicate with us and provide your transaction details through the Contact Us section at westernunion.com Our representatives will be happy to review your case.'\n",
      " 'We are sorry to know about your experience. We would like to know about this incident. Please communicate with us and provide your transaction details through the Contact Us section at westernunion.com Our representatives will be happy to review your case.'\n",
      " 'We are sorry to know about your experience. We would like to know about this incident. Please communicate with us and provide your transaction details through the Contact Us section at westernunion.com Our representatives will be happy to review your case.'\n",
      " 'We are sorry to know about your experience. We would like to know about this incident. Please communicate with us and provide your transaction details through the Contact Us section at westernunion.com Our representatives will be happy to review your case.'\n",
      " 'We are sorry to know about your experience. We would like to know about this incident. Please communicate with us and provide your transaction details through the Contact Us section at westernunion.com Our representatives will be happy to review your case.'\n",
      " 'We are sorry to know about your experience. We would like to know about this incident. Please communicate with us and provide your transaction details through the Contact Us section at westernunion.com Our representatives will be happy to review your case.'\n",
      " 'We are sorry to know about your experience. We would like to know about this incident. Please communicate with us and provide your transaction details through the Contact Us section at westernunion.com Our representatives will be happy to review your case.'\n",
      " 'We are sorry to know about your experience. We would like to know about this incident. Please communicate with us and provide your transaction details through the Contact Us section at westernunion.com Our representatives will be happy to review your case.'\n",
      " 'We are sorry to know about your experience. We would like to know about this incident. Please communicate with us and provide your transaction details through the Contact Us section at westernunion.com Our representatives will be happy to review your case.'\n",
      " 'We are sorry to know about your experience. We would like to know about this incident. Please communicate with us and provide your transaction details through the Contact Us section at westernunion.com Our representatives will be happy to review your case.'\n",
      " 'We are sorry to know about your experience. We would like to know about this incident. Please communicate with us and provide your transaction details through the Contact Us section at westernunion.com Our representatives will be happy to review your case.'\n",
      " 'We are sorry to know about your experience. We would like to know about this incident. Please communicate with us and provide your transaction details through the Contact Us section at westernunion.com Our representatives will be happy to review your case.'\n",
      " 'We are sorry to know about your experience. We would like to know about this incident. Please communicate with us and provide your transaction details through the Contact Us section at westernunion.com Our representatives will be happy to review your case.'\n",
      " 'We are sorry to know about your experience. We would like to know about this incident. Please communicate with us and provide your transaction details through the Contact Us section at westernunion.com Our representatives will be happy to review your case.'\n",
      " 'We are sorry to know about your experience. We would like to know about this incident. Please communicate with us and provide your transaction details through the Contact Us section at westernunion.com Our representatives will be happy to review your case.'\n",
      " 'We are sorry to know about your experience. We would like to know about this incident. Please communicate with us and provide your transaction details through the Contact Us section at westernunion.com Our representatives will be happy to review your case.'\n",
      " 'We are sorry to know about your experience. We would like to know about this incident. Please communicate with us and provide your transaction details through the Contact Us section at westernunion.com Our representatives will be happy to review your case.'\n",
      " 'We are sorry to know about your experience. We would like to know about this incident. Please communicate with us and provide your transaction details through the Contact Us section at westernunion.com Our representatives will be happy to review your case.'\n",
      " 'We are sorry to know about your experience. We would like to know about this incident. Please communicate with us and provide your transaction details through the Contact Us section at westernunion.com Our representatives will be happy to review your case.'\n",
      " 'We are sorry to know about your experience. We would like to know about this incident. Please communicate with us and provide your transaction details through the Contact Us section at westernunion.com Our representatives will be happy to review your case.'\n",
      " 'We are sorry to know about your experience. We would like to know about this incident. Please communicate with us and provide your transaction details through the Contact Us section at westernunion.com Our representatives will be happy to review your case.'\n",
      " 'We are sorry to know about your experience. We would like to know about this incident. Please communicate with us and provide your transaction details through the Contact Us section at westernunion.com Our representatives will be happy to review your case.'\n",
      " 'We are sorry to know about your experience. We would like to know about this incident. Please communicate with us and provide your transaction details through the Contact Us section at westernunion.com Our representatives will be happy to review your case.'\n",
      " 'We are sorry to know about your experience. We would like to know about this incident. Please communicate with us and provide your transaction details through the Contact Us section at westernunion.com Our representatives will be happy to review your case.'\n"
     ]
    }
   ],
   "source": [
    "import pandas as pd\n",
    "dataset = pd.read_csv(\"OFFICE_TASK.csv\")\n",
    "#print(dataset)\n",
    "data = dataset.iloc[:,:1].values\n",
    "print(str(data).replace(\"[\",\"\").replace(\"]\",\"\").replace(\",\",\"\"))"
   ]
  },
  {
   "cell_type": "code",
   "execution_count": null,
   "metadata": {},
   "outputs": [],
   "source": [
    "import json\n",
    "charstoremove = ['\\n','\\r']\n",
    "\n",
    "arr={'id':123,'body':\"\"}"
   ]
  }
 ],
 "metadata": {
  "kernelspec": {
   "display_name": "Python 3",
   "language": "python",
   "name": "python3"
  },
  "language_info": {
   "codemirror_mode": {
    "name": "ipython",
    "version": 3
   },
   "file_extension": ".py",
   "mimetype": "text/x-python",
   "name": "python",
   "nbconvert_exporter": "python",
   "pygments_lexer": "ipython3",
   "version": "3.11.3"
  }
 },
 "nbformat": 4,
 "nbformat_minor": 2
}
