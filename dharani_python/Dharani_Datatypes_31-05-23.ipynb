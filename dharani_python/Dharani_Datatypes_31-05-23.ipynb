{
 "cells": [
  {
   "attachments": {},
   "cell_type": "markdown",
   "metadata": {},
   "source": [
    "DATA TYPES \n",
    "\n",
    "* Classifying the data by the help of the type of the data and size of the data from the literals.\n",
    "* Data types are mainly classified into 2 types.\n",
    "     \n",
    "     * PRIMITIVE DATA TYPES\n",
    "          \n",
    "     * NON PRIMITIVE DATA TYPES\n",
    "\n",
    "\n",
    "PRIMITIVE DATA TYPES\n",
    "\n",
    "* It is a single value datatype , predefined datatype.\n",
    "* Each and every value will store in a single block of memory.\n",
    "* Predefined datatypes have fixed length(the memory inside the block size is fixed based on the type of the value).\n",
    "* It is immutable data type (we can't modify or del the value inside the memory block).\n",
    "* Each memory block have unique referrence address value."
   ]
  },
  {
   "attachments": {},
   "cell_type": "markdown",
   "metadata": {},
   "source": [
    "NUMERIC DATA TYPE :\n",
    "\n",
    "    * The data will be represented in the form of numbers.\n",
    "    * The numeric data types are already classified into 4 types. they are:\n",
    "          \n",
    "          1.Int\n",
    "          2.Float\n",
    "          3.Complex\n",
    "          4.Bytes\n",
    "\n",
    "INTEGER :\n",
    "\n",
    "* It is single valued / predefined / immutable datatype.\n",
    "* Integer is represented as natural values , whole numbers and real numbers with out decimal points.\n",
    "* Integer is classified into 2 types . they are:\n",
    "         \n",
    "         1.Positive integer \n",
    "         2.Negative integer \n",
    " \n",
    "SYNTAX\n",
    "\n",
    "Variable name = precision values\n",
    "32-bit = -5  to 256\n",
    "64-bit = -infinity to -6  and  257 to +infinity"
   ]
  },
  {
   "cell_type": "code",
   "execution_count": 2,
   "metadata": {},
   "outputs": [
    {
     "name": "stdout",
     "output_type": "stream",
     "text": [
      "140727643729800\n",
      "140727643729800\n",
      "2547869856464\n",
      "2547869850992\n",
      "2547869856976\n",
      "2547869851056\n",
      "258\n"
     ]
    }
   ],
   "source": [
    "a=100\n",
    "print(id(a))\n",
    "\n",
    "b=100\n",
    "print(id(b))\n",
    "\n",
    "c=258\n",
    "print(id(c))\n",
    "print(id(258))\n",
    "\n",
    "d=258\n",
    "print(id(258))\n",
    "print(id(258))\n",
    "\n",
    "258 == 258\n",
    "\n",
    "print(c)"
   ]
  },
  {
   "attachments": {},
   "cell_type": "markdown",
   "metadata": {},
   "source": [
    "FLOAT :\n",
    "\n",
    "* It is single valued / predefined / immutable datatype.\n",
    "* Float is represented as real numbers with decimal points.\n",
    "* Float is classified into 2 types . they are:\n",
    "         \n",
    "         1.Positive float\n",
    "         2.Negative float \n",
    " \n",
    "SYNTAX\n",
    "\n",
    "Variable name = scale values\n",
    "* Float always considered as 64-bit memory"
   ]
  },
  {
   "cell_type": "code",
   "execution_count": 3,
   "metadata": {},
   "outputs": [
    {
     "name": "stdout",
     "output_type": "stream",
     "text": [
      "2547869856784\n",
      "2547869856944\n",
      "2547868342736\n",
      "2547869851056\n",
      "2547869856816\n",
      "2547869857296\n"
     ]
    }
   ],
   "source": [
    "a=100.005\n",
    "print(id(a))\n",
    "\n",
    "b=100.005\n",
    "print(id(b))\n",
    "\n",
    "c=258.76\n",
    "print(id(c))\n",
    "print(id(258.76))\n",
    "\n",
    "d=258.76\n",
    "print(id(258.76))\n",
    "print(id(258.76))"
   ]
  },
  {
   "attachments": {},
   "cell_type": "markdown",
   "metadata": {},
   "source": [
    "COMPLEX  :\n",
    "\n",
    "* It is single valued / predefined / immutable datatype.\n",
    "* Complex number can be represented as real part with the imaginary part.\n",
    "* it is classified into 2 types . they are:\n",
    "         \n",
    "         1.Positive complex\n",
    "         2.Negative complex\n",
    " \n",
    "SYNTAX\n",
    "\n",
    "real number +- imaginary number followed by j/J.\n",
    "* imaginary values we represented as real number with character j/J.\n",
    "\n",
    "variable name = real value +- imaginary value j/J\n",
    "\n",
    "* complex can be always considered as 64-bit memory."
   ]
  },
  {
   "cell_type": "code",
   "execution_count": 8,
   "metadata": {},
   "outputs": [
    {
     "name": "stdout",
     "output_type": "stream",
     "text": [
      "(10+8j)\n",
      "2547869858480\n",
      "140727643726920\n"
     ]
    }
   ],
   "source": [
    "a=(10+8j)\n",
    "print(a)\n",
    "print(id(a))\n",
    "print(id(10))"
   ]
  },
  {
   "attachments": {},
   "cell_type": "markdown",
   "metadata": {},
   "source": [
    "BYTES :\n",
    "\n",
    "* Bytes is a single valued / predefined / immutabe datatype.\n",
    "* it is a collection of 0's and 1's enclosed between quotes with prefix 'b'\n",
    "\n",
    "     variable name = b\"0101\"\n",
    "\n",
    "SYNTAX \n",
    "        variable name = b\"0101\"        "
   ]
  },
  {
   "cell_type": "code",
   "execution_count": 10,
   "metadata": {},
   "outputs": [
    {
     "name": "stdout",
     "output_type": "stream",
     "text": [
      "2547869690224\n",
      "2547869691232\n"
     ]
    }
   ],
   "source": [
    "a=b\"0101\"\n",
    "print(id(a))\n",
    "\n",
    "b=b\"1010\"\n",
    "print(id(b))"
   ]
  },
  {
   "attachments": {},
   "cell_type": "markdown",
   "metadata": {},
   "source": [
    "BOOLEAN DATA TYPE : \n",
    "\n",
    "* It ia single valued / predefined / immutable datatype.\n",
    "* the boolean value can be represented as TRUE , FALSE.\n",
    "* It is used for condition is satisfied or not.\n",
    "* if the condition is satisfied , it will return TRUE.\n",
    "* if the condition is not satisfied , it will return FALSE.\n",
    "* It will considered as 32-bit memory."
   ]
  },
  {
   "cell_type": "code",
   "execution_count": 12,
   "metadata": {},
   "outputs": [
    {
     "name": "stdout",
     "output_type": "stream",
     "text": [
      "True\n",
      "False\n"
     ]
    }
   ],
   "source": [
    "a=10\n",
    "b=10 \n",
    "print(a is b)\n",
    "\n",
    "a=10\n",
    "b=100 \n",
    "print(a is b)"
   ]
  },
  {
   "attachments": {},
   "cell_type": "markdown",
   "metadata": {},
   "source": [
    "NONE DATA TYPE :\n",
    "\n",
    "* It is a single valued / predefined / immutable data type.\n",
    "* None type we represented as None.\n",
    "* None is nothing but a nothing or empty.\n",
    "* None will perform any functionality / task ."
   ]
  },
  {
   "cell_type": "code",
   "execution_count": 16,
   "metadata": {},
   "outputs": [
    {
     "name": "stdout",
     "output_type": "stream",
     "text": [
      "None\n",
      "140727642254536\n"
     ]
    }
   ],
   "source": [
    "a=None\n",
    "print(a)\n",
    "print(id(a))"
   ]
  },
  {
   "attachments": {},
   "cell_type": "markdown",
   "metadata": {},
   "source": [
    "NON - PRIMITIVE DATA TYPES \n",
    "\n",
    "* It is a multi valued / collectional / predefined data structures / literal data types.\n",
    "* it is a variable length memory based on the values.\n",
    "* it is combination of mutable and immutable data types.\n",
    "* it will accept '0' or more than '0' values inside the collection data type.\n",
    "* each and every value should be stored in a multi block of memory.\n",
    "* every non-primitive block have one unique address .\n",
    "* each and every sub blocks have sub addresses.\n",
    "* it will store the data in the form of sequence or mapping order.\n",
    "* The non-primitive memory block accept only referrence memory block addresses.\n",
    "\n",
    "The non-primitive data types are mainly classified into 2 types . they are:\n",
    "\n",
    "1.Sequence\n",
    "  * list \n",
    "  * string\n",
    "  * tuple\n",
    "  * range\n",
    "\n",
    "2.Mapping \n",
    "  * dict\n",
    "  * set"
   ]
  },
  {
   "attachments": {},
   "cell_type": "markdown",
   "metadata": {},
   "source": [
    "INDEXING \n",
    "\n",
    "* Indexing is a phenomenon of extracting the specific data item or element from the collection.\n",
    "* by the help of indexing values we are extracting the data items from the collection.\n",
    "\n",
    "SYNTAX :\n",
    "\n",
    "Variable name [index value]  (+ve index values or -ve index values)\n",
    "\n",
    "* Indexing is mainly divided into 2 types . they are :\n",
    " \n",
    " 1.Positive indexing\n",
    " 2.Negative indexing\n",
    "* it will store the data in the form of sequence manner or orderd manner with structural manner. "
   ]
  },
  {
   "cell_type": "code",
   "execution_count": 18,
   "metadata": {},
   "outputs": [
    {
     "name": "stdout",
     "output_type": "stream",
     "text": [
      "a\n",
      "p\n",
      "p\n",
      "l\n",
      "e\n",
      "e\n",
      "l\n",
      "p\n",
      "p\n",
      "a\n"
     ]
    },
    {
     "ename": "IndexError",
     "evalue": "string index out of range",
     "output_type": "error",
     "traceback": [
      "\u001b[1;31m---------------------------------------------------------------------------\u001b[0m",
      "\u001b[1;31mIndexError\u001b[0m                                Traceback (most recent call last)",
      "Cell \u001b[1;32mIn[18], line 13\u001b[0m\n\u001b[0;32m     11\u001b[0m \u001b[39mprint\u001b[39m(y[\u001b[39m-\u001b[39m\u001b[39m4\u001b[39m])\n\u001b[0;32m     12\u001b[0m \u001b[39mprint\u001b[39m(y[\u001b[39m-\u001b[39m\u001b[39m5\u001b[39m])\n\u001b[1;32m---> 13\u001b[0m \u001b[39mprint\u001b[39m(y[\u001b[39m-\u001b[39;49m\u001b[39m6\u001b[39;49m])\n",
      "\u001b[1;31mIndexError\u001b[0m: string index out of range"
     ]
    }
   ],
   "source": [
    "y=\"apple\"\n",
    "id(y)\n",
    "print(y[0])   # positive indexing\n",
    "print(y[1])\n",
    "print(y[2])\n",
    "print(y[3])\n",
    "print(y[4])\n",
    "print(y[-1])    # negative indexing\n",
    "print(y[-2])\n",
    "print(y[-3])\n",
    "print(y[-4])\n",
    "print(y[-5])\n",
    "print(y[-6])"
   ]
  },
  {
   "attachments": {},
   "cell_type": "markdown",
   "metadata": {},
   "source": [
    "SLICING\n",
    "\n",
    "* S licing is a phenomenon of extracting the required sequence of elements from the collection.\n",
    "* slicing operations , we can apply only on multi value data types such as (string,list,tuple).\n",
    "* slicing will not support the set and dictionary , because it doesn't support indexing.\n",
    "* slicing can be done using the index values .\n",
    "\n",
    "* if we are traversing or considering from left to right we always considered as +ve slicing.\n",
    "\n",
    "SYNTAX\n",
    "\n",
    "Variable_name [starting value:end value+1:+updation]\n",
    "\n",
    "* if we are traversing or considering from right to left we always considered as -ve slicing.\n",
    "\n",
    "SYNTAX\n",
    "\n",
    "Variable_name [starting value:end value-1:-updation]\n",
    "\n",
    "RULES FOR +VE SLICING : (WITH POSITIVE INDEX VALUES) :\n",
    "\n",
    "1.SI < EI+1\n",
    "2.Updation should be +ve\n",
    "3.difference between values should be the same\n",
    "\n",
    "RULES FOR -VE SLICING : (WITH NEGATIVE INDEX VALUES) :\n",
    "\n",
    "1.SI > EI-1\n",
    "2.Updation should be -ve\n",
    "3.difference between values should be the same"
   ]
  },
  {
   "attachments": {},
   "cell_type": "markdown",
   "metadata": {},
   "source": [
    "STRING\n",
    "\n",
    "* String is a multi valued / collectional / iterable / sequence / immutable data type.\n",
    "* it is predefined data structure.\n",
    "* it is a collecton of characters enclosed between single quotes(' ') / double quotes(\" \") / triple pair single quotes(''' ''') /\n",
    "  triple pair double quotes(\"\"\" \"\"\").        .\n",
    "* String is classified into 2 types \n",
    "        1.Normal string\n",
    "        2.Documentation string\n",
    "\n",
    "NORMAL STRING:\n",
    "\n",
    "* The normal string will represented as single quotes or double quotes.\n",
    "* if we want to store the data with in one line of characters , we have to use normal string.\n",
    "\n",
    "DOCUMENTATION STRING:\n",
    "\n",
    "* Documentation string will represented as single or double quotes\n",
    "* if we want to store more than one line of characters then we have to use documentation string.\n",
    "* documentation string is used for creating the documentation for the program.\n",
    "* string will support indexing values or indexes .\n",
    "* string will support indexing,slicing,appending the new value either satrting or ending.\n",
    "* string will not support modifying the characters or deleting the characters."
   ]
  }
 ],
 "metadata": {
  "kernelspec": {
   "display_name": "Python 3",
   "language": "python",
   "name": "python3"
  },
  "language_info": {
   "codemirror_mode": {
    "name": "ipython",
    "version": 3
   },
   "file_extension": ".py",
   "mimetype": "text/x-python",
   "name": "python",
   "nbconvert_exporter": "python",
   "pygments_lexer": "ipython3",
   "version": "3.11.3"
  },
  "orig_nbformat": 4
 },
 "nbformat": 4,
 "nbformat_minor": 2
}
