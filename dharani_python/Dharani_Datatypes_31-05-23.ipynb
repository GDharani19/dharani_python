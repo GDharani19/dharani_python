{
 "cells": [
  {
   "attachments": {},
   "cell_type": "markdown",
   "metadata": {},
   "source": [
    "DATA TYPES \n",
    "\n",
    "* Classifying the data by the help of the type of the data and size of the data from the literals.\n",
    "* Data types are mainly classified into 2 types.\n",
    "     \n",
    "     * PRIMITIVE DATA TYPES\n",
    "          \n",
    "     * NON PRIMITIVE DATA TYPES\n",
    "\n",
    "\n",
    "PRIMITIVE DATA TYPES\n",
    "\n",
    "* It is a single value datatype , predefined datatype.\n",
    "* Each and every value will store in a single block of memory.\n",
    "* Predefined datatypes have fixed length(the memory inside the block size is fixed based on the type of the value).\n",
    "* It is immutable data type (we can't modify or del the value inside the memory block).\n",
    "* Each memory block have unique referrence address value.\n",
    "\n"
   ]
  }
 ],
 "metadata": {
  "language_info": {
   "name": "python"
  },
  "orig_nbformat": 4
 },
 "nbformat": 4,
 "nbformat_minor": 2
}
