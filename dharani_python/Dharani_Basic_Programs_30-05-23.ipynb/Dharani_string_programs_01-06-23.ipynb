{
 "cells": [
  {
   "cell_type": "code",
   "execution_count": 9,
   "metadata": {},
   "outputs": [
    {
     "name": "stdout",
     "output_type": "stream",
     "text": [
      "gottamdharani\n",
      "gottamdharani\n",
      "dharanigottam\n",
      "gottamdharani\n",
      "dharanigottam\n",
      "gottamdharani\n"
     ]
    }
   ],
   "source": [
    "#string concatenation\n",
    "\n",
    "a=\"gottam\"    \n",
    "b=\"dharani\"\n",
    "print(a+b)\n",
    "a+=b\n",
    "print(a)\n",
    "\n",
    "a=\"gottam\"\n",
    "b=\"dharani\"\n",
    "b+=a\n",
    "print(b)\n",
    "\n",
    "a=\"gottam\"     #forward concatenation\n",
    "a=a+\"dharani\"\n",
    "print(a)\n",
    "\n",
    "a=\"gottam\"      #backward concatenation\n",
    "a=\"dharani\"+a\n",
    "print(a)\n",
    "\n",
    "a=\"gottamdharani\"\n",
    "a[:5]+'n'+a[5+1:]\n",
    "print(a)"
   ]
  },
  {
   "cell_type": "code",
   "execution_count": 14,
   "metadata": {},
   "outputs": [
    {
     "name": "stdout",
     "output_type": "stream",
     "text": [
      "inara\n",
      "gta\n",
      "dharani\n",
      "\n"
     ]
    }
   ],
   "source": [
    "a=\"gottamdharani\"\n",
    "print(a[-1:-5-1:-1])\n",
    "print(a[0:5+1:+2])\n",
    "print(a[6:12+1:+1])\n",
    "print(a[0:5+1:-1])\n"
   ]
  },
  {
   "cell_type": "code",
   "execution_count": 4,
   "metadata": {},
   "outputs": [
    {
     "name": "stdout",
     "output_type": "stream",
     "text": [
      "dharaniushagottam\n"
     ]
    }
   ],
   "source": [
    "a=\"dharanigottam\"\n",
    "b=a[:7]+\"usha\"+a[7:]\n",
    "print(b)"
   ]
  },
  {
   "cell_type": "code",
   "execution_count": 14,
   "metadata": {},
   "outputs": [
    {
     "name": "stdout",
     "output_type": "stream",
     "text": [
      "ushagottam\n"
     ]
    }
   ],
   "source": [
    "a=\"dharanigottam\"\n",
    "b=a[0:0]+\"usha\"+a[7:]\n",
    "print(b)"
   ]
  },
  {
   "cell_type": "code",
   "execution_count": 24,
   "metadata": {},
   "outputs": [
    {
     "name": "stdout",
     "output_type": "stream",
     "text": [
      "qspyrs\n"
     ]
    }
   ],
   "source": [
    "a=\"qspiders\"\n",
    "b=(a[0:2]+\"py\"+a[6:])\n",
    "print(b)"
   ]
  }
 ],
 "metadata": {
  "kernelspec": {
   "display_name": "Python 3",
   "language": "python",
   "name": "python3"
  },
  "language_info": {
   "codemirror_mode": {
    "name": "ipython",
    "version": 3
   },
   "file_extension": ".py",
   "mimetype": "text/x-python",
   "name": "python",
   "nbconvert_exporter": "python",
   "pygments_lexer": "ipython3",
   "version": "3.11.3"
  },
  "orig_nbformat": 4
 },
 "nbformat": 4,
 "nbformat_minor": 2
}
