{
 "cells": [
  {
   "attachments": {},
   "cell_type": "markdown",
   "metadata": {},
   "source": [
    "1.WAS to print \"Hello World\" by using shell."
   ]
  },
  {
   "cell_type": "code",
   "execution_count": 1,
   "metadata": {},
   "outputs": [
    {
     "data": {
      "text/plain": [
       "'Hello World'"
      ]
     },
     "execution_count": 1,
     "metadata": {},
     "output_type": "execute_result"
    }
   ],
   "source": [
    "\"Hello World\"       # WAS to print \"Hello World\" using shell"
   ]
  },
  {
   "attachments": {},
   "cell_type": "markdown",
   "metadata": {},
   "source": [
    "2.WAS to print \"Hello World\" usii=ng python print function."
   ]
  },
  {
   "cell_type": "code",
   "execution_count": 2,
   "metadata": {},
   "outputs": [
    {
     "name": "stdout",
     "output_type": "stream",
     "text": [
      "Hello World\n"
     ]
    }
   ],
   "source": [
    "print(\"Hello World\")               # WAS to print \"Hello World\" using print function"
   ]
  },
  {
   "cell_type": "code",
   "execution_count": 4,
   "metadata": {},
   "outputs": [
    {
     "name": "stdout",
     "output_type": "stream",
     "text": [
      "Hello World\n"
     ]
    }
   ],
   "source": [
    "a=\"Hello World\"\n",
    "print(a)"
   ]
  },
  {
   "attachments": {},
   "cell_type": "markdown",
   "metadata": {},
   "source": [
    "3.WAS to initialize variable and value as 50."
   ]
  },
  {
   "cell_type": "code",
   "execution_count": 5,
   "metadata": {},
   "outputs": [
    {
     "data": {
      "text/plain": [
       "50"
      ]
     },
     "execution_count": 5,
     "metadata": {},
     "output_type": "execute_result"
    }
   ],
   "source": [
    "apple=50                  # to initialize variable and value as 50\n",
    "apple"
   ]
  },
  {
   "attachments": {},
   "cell_type": "markdown",
   "metadata": {},
   "source": [
    "4.WAS to initialize multivariable value are 150,120,250(take your own variable names)."
   ]
  },
  {
   "cell_type": "code",
   "execution_count": 9,
   "metadata": {},
   "outputs": [
    {
     "name": "stdout",
     "output_type": "stream",
     "text": [
      "250\n",
      "120\n",
      "150\n"
     ]
    }
   ],
   "source": [
    "raja,rani,ravi=150,120,250                    # WAS to initialize multivalue variable are 150,120,150(take your own variables) \n",
    "print(ravi)\n",
    "print(rani)\n",
    "print(raja)"
   ]
  },
  {
   "attachments": {},
   "cell_type": "markdown",
   "metadata": {},
   "source": [
    "5.WAS to print the type of the data in the given value."
   ]
  },
  {
   "cell_type": "code",
   "execution_count": 20,
   "metadata": {},
   "outputs": [
    {
     "name": "stdout",
     "output_type": "stream",
     "text": [
      "<class 'int'>\n",
      "<class 'float'>\n",
      "<class 'complex'>\n",
      "<class 'bytes'>\n",
      "<class 'bool'>\n",
      "<class 'NoneType'>\n",
      "<class 'str'>\n",
      "<class 'list'>\n",
      "<class 'tuple'>\n",
      "<class 'set'>\n",
      "<class 'dict'>\n"
     ]
    }
   ],
   "source": [
    "a=10\n",
    "print(type(a))                      # WAS to print the type of the data in given value\n",
    "b=10.05\n",
    "print(type(b))\n",
    "c=10+2j\n",
    "print(type(c))\n",
    "d=b'1010'\n",
    "print(type(d))\n",
    "e=True\n",
    "print(type(e))\n",
    "f=None\n",
    "print(type(f))\n",
    "g=\"hello\"\n",
    "print(type(g))\n",
    "h=[10,30,40]\n",
    "print(type(h))\n",
    "i=(10,)\n",
    "print(type(i))\n",
    "j={10,20}\n",
    "print(type(j))\n",
    "k={\"a\":20}\n",
    "print(type(k))\n"
   ]
  },
  {
   "attachments": {},
   "cell_type": "markdown",
   "metadata": {},
   "source": [
    "6.WAS to print the address of the memory block in given value."
   ]
  },
  {
   "cell_type": "code",
   "execution_count": 25,
   "metadata": {},
   "outputs": [
    {
     "name": "stdout",
     "output_type": "stream",
     "text": [
      "140732981634120\n",
      "2509948621552\n",
      "2509948629872\n",
      "2509949017120\n",
      "140732980108136\n",
      "2509948841456\n",
      "2509948939008\n",
      "2509948871936\n",
      "2509948847264\n",
      "2509949110400\n",
      "140732980161736\n"
     ]
    }
   ],
   "source": [
    "a=10                    # WAS to print address of the memory block in given value\n",
    "print(id(a))\n",
    "b=10.05\n",
    "print(id(b))\n",
    "c=2+5j\n",
    "print(id(c))\n",
    "d=b'1010'\n",
    "print(id(d))\n",
    "e=True\n",
    "print(id(e))\n",
    "f=\"hello haii\"\n",
    "print(id(f))\n",
    "g=[12,13]\n",
    "print(id(g))\n",
    "h=(10,12,14)\n",
    "print(id(h))\n",
    "i={76,45}\n",
    "print(id(i))\n",
    "j={\"a\":18}\n",
    "print(id(j))\n",
    "k=None\n",
    "print(id(k))"
   ]
  },
  {
   "attachments": {},
   "cell_type": "markdown",
   "metadata": {},
   "source": [
    "7.WAS to print your details , first store your details , extract the values and display it."
   ]
  },
  {
   "cell_type": "code",
   "execution_count": 26,
   "metadata": {},
   "outputs": [
    {
     "name": "stdout",
     "output_type": "stream",
     "text": [
      "dharani 22 8328602360 gottamdharani7626@gmail.com\n"
     ]
    }
   ],
   "source": [
    "name=\"dharani\"                   # procedural programming (var concept)\n",
    "age=22\n",
    "phone=\"8328602360\"\n",
    "email=\"gottamdharani7626@gmail.com\"\n",
    "print(name,age,phone,email)"
   ]
  },
  {
   "cell_type": "code",
   "execution_count": 27,
   "metadata": {},
   "outputs": [
    {
     "data": {
      "text/plain": [
       "['dharani', 22, 8328602360, 'gottamdharani7626@gmail.com']"
      ]
     },
     "execution_count": 27,
     "metadata": {},
     "output_type": "execute_result"
    }
   ],
   "source": [
    "dharani=[\"dharani\",22,8328602360,\"gottamdharani7626@gmail.com\"]       # predefined collectional datastrctures with list\n",
    "dharani"
   ]
  },
  {
   "cell_type": "code",
   "execution_count": 35,
   "metadata": {},
   "outputs": [
    {
     "name": "stdout",
     "output_type": "stream",
     "text": [
      "narasimharao\n",
      "narasimharao\n"
     ]
    }
   ],
   "source": [
    "dharani={\"name\":\"dharani\",\"age\":22,\"phone\":8328602360,\"mail\":\"gottamdharani7626@gmail.com\",\"father name\":\"narasimharao\"}     # with dict\n",
    "print(dharani[\"father name\"])\n",
    "usha={\"name\":\"usha\",\"age\":20,\"phone\":1234567890,\"father name\":\"narasimharao\",\"mail\":\"gottamusha@gmail.com\"}\n",
    "print(usha[\"father name\"])\n"
   ]
  },
  {
   "attachments": {},
   "cell_type": "markdown",
   "metadata": {},
   "source": [
    "LIST RELATED PROBLEMS\n",
    "\n",
    "* When ever we are storing the data there will be in a structured manner or unstructured manner \n",
    "* Fetch: we can't extract the accelerate data from list "
   ]
  },
  {
   "attachments": {},
   "cell_type": "markdown",
   "metadata": {},
   "source": [
    "8.WAS to swap the two values by using temp variable."
   ]
  },
  {
   "cell_type": "code",
   "execution_count": 37,
   "metadata": {},
   "outputs": [
    {
     "name": "stdout",
     "output_type": "stream",
     "text": [
      "byee\n",
      "haii\n"
     ]
    }
   ],
   "source": [
    "a=\"haii\"                   # WAS to swap two values with a temp variable\n",
    "b=\"byee\"\n",
    "temp=a\n",
    "a=b\n",
    "b=temp\n",
    "print(a)\n",
    "print(b)"
   ]
  },
  {
   "attachments": {},
   "cell_type": "markdown",
   "metadata": {},
   "source": [
    "9.WAS to swap the two values without using temp variable. "
   ]
  },
  {
   "cell_type": "code",
   "execution_count": 38,
   "metadata": {},
   "outputs": [
    {
     "name": "stdout",
     "output_type": "stream",
     "text": [
      "{12, 14}\n",
      "[10, 20]\n"
     ]
    }
   ],
   "source": [
    "a=[10,20]                   # WAS to swap two values without using temp variable\n",
    "b={12,14}\n",
    "a,b=b,a\n",
    "print(a)\n",
    "print(b)"
   ]
  },
  {
   "attachments": {},
   "cell_type": "markdown",
   "metadata": {},
   "source": [
    "10.WAS to initialize a value and print the value,after print then reinitialize the new value to the existing variable and display the value."
   ]
  },
  {
   "cell_type": "code",
   "execution_count": 43,
   "metadata": {},
   "outputs": [
    {
     "name": "stdout",
     "output_type": "stream",
     "text": [
      "180\n",
      "[10, 23]\n"
     ]
    }
   ],
   "source": [
    "a=180                      # initialize the value and print the value and after print the value                         \n",
    "print(a)                       #  then reinitialize the new value to the existing var and display the value \n",
    "a=[10,23]\n",
    "print(a)\n"
   ]
  },
  {
   "attachments": {},
   "cell_type": "markdown",
   "metadata": {},
   "source": [
    "11.WAS to convert single to multi value datatype."
   ]
  },
  {
   "cell_type": "code",
   "execution_count": 44,
   "metadata": {},
   "outputs": [
    {
     "name": "stdout",
     "output_type": "stream",
     "text": [
      "10\n",
      "['1', '0']\n"
     ]
    }
   ],
   "source": [
    "a=10                       # WAS to convert single value to multi value datatype\n",
    "b=str(a)\n",
    "print(b)\n",
    "c=list(b)\n",
    "print(c)\n"
   ]
  },
  {
   "attachments": {},
   "cell_type": "markdown",
   "metadata": {},
   "source": [
    "12.WAS to concat the two multi value data types(str,list,tuple,dict)."
   ]
  },
  {
   "cell_type": "code",
   "execution_count": 1,
   "metadata": {},
   "outputs": [
    {
     "name": "stdout",
     "output_type": "stream",
     "text": [
      "['hello']\n",
      "[10, 30, 24]\n",
      "[12, 34, 56]\n",
      "[56, 45, 23]\n",
      "['a', 'b']\n",
      "[49, 48, 49, 48]\n"
     ]
    }
   ],
   "source": [
    "x=[]\n",
    "x+=[\"hello\"]\n",
    "print(x)\n",
    "\n",
    "y=[]\n",
    "y+=[10,30,24]\n",
    "print(y)\n",
    "\n",
    "z=[]\n",
    "z+=(12,34,56)\n",
    "print(z)\n",
    "\n",
    "a=[]\n",
    "a+={23,45,56}\n",
    "print(a)\n",
    "\n",
    "b=[]\n",
    "b+={\"a\":10,\"b\":30}\n",
    "print(b)\n",
    "\n",
    "c=[]\n",
    "c+=b\"1010\"\n",
    "print(c)\n",
    "\n"
   ]
  },
  {
   "cell_type": "code",
   "execution_count": 48,
   "metadata": {},
   "outputs": [
    {
     "name": "stdout",
     "output_type": "stream",
     "text": [
      "dharani\n",
      "dharaniusha\n",
      "dharaniusha\n",
      "usha\n",
      "raniraja\n"
     ]
    }
   ],
   "source": [
    "a=\"dharani\"\n",
    "b=\"usha\"\n",
    "print(a)\n",
    "\n",
    "c=a+b                    # forward concatenation using addition operation\n",
    "print(c)\n",
    "\n",
    "a+=b                     # compound arithmetic assignment/updated operator\n",
    "print(a)\n",
    "print(b)\n",
    "\n",
    "a=\"raja\"\n",
    "b=\"rani\"\n",
    "c=b+a                    # backward concatenation \n",
    "print(c)\n"
   ]
  },
  {
   "cell_type": "code",
   "execution_count": 3,
   "metadata": {},
   "outputs": [
    {
     "name": "stdout",
     "output_type": "stream",
     "text": [
      "[10, 20] 1972922176384\n",
      "[30, 40] 1972922176384\n",
      "[10, 20, 30, 40]\n",
      "1972922433088\n",
      "[10, 20, 30, 40]\n",
      "1972922176384\n"
     ]
    }
   ],
   "source": [
    "l=[10,20]\n",
    "t=[30,40]\n",
    "print(l,id(t))\n",
    "print(t,id(t))\n",
    "\n",
    "m=l+t           # forward/normal concatenation operation                                                                                           \n",
    "print(m)\n",
    "print(id(m))\n",
    "\n",
    "l+=t            # compound assignment arithmetic operator          \n",
    "print(l)\n",
    "print(id(t))\n"
   ]
  },
  {
   "attachments": {},
   "cell_type": "markdown",
   "metadata": {},
   "source": [
    "13.WAC to perform the length of the collection."
   ]
  },
  {
   "cell_type": "code",
   "execution_count": 21,
   "metadata": {},
   "outputs": [
    {
     "name": "stdout",
     "output_type": "stream",
     "text": [
      "7\n",
      "5\n",
      "5\n",
      "5\n",
      "4\n"
     ]
    }
   ],
   "source": [
    "a=\"dharani\"\n",
    "print(len(a))\n",
    "\n",
    "print(len(\"hello\"))\n",
    "\n",
    "print(len({\"a\":10,\"b\":20,\"c\":30,\"d\":50,\"e\":40}))\n",
    "\n",
    "print(len({12,13,12,14,15,16}))\n",
    "\n",
    "print(len((19,34,56,78)))"
   ]
  },
  {
   "attachments": {},
   "cell_type": "markdown",
   "metadata": {},
   "source": [
    "14.WAC to find out the middle value of the given collection."
   ]
  },
  {
   "cell_type": "code",
   "execution_count": 24,
   "metadata": {},
   "outputs": [
    {
     "name": "stdout",
     "output_type": "stream",
     "text": [
      "l\n",
      "l\n",
      "i\n"
     ]
    }
   ],
   "source": [
    "a=\"hello\"\n",
    "print(a[2])\n",
    "\n",
    "print(a[len(a)//2])\n",
    "\n",
    "b=\"haii\"\n",
    "print(b[len(b)//2])"
   ]
  },
  {
   "attachments": {},
   "cell_type": "markdown",
   "metadata": {},
   "source": [
    "15.WAC to concat the new string into the starting of the given string."
   ]
  },
  {
   "cell_type": "code",
   "execution_count": 6,
   "metadata": {},
   "outputs": [
    {
     "name": "stdout",
     "output_type": "stream",
     "text": [
      "1972922082416\n",
      "1972899774896\n",
      "dharanigottam\n",
      "dharanigottam\n",
      "1972922082416\n"
     ]
    }
   ],
   "source": [
    "a=\"gottam\"\n",
    "b=\"dharani\"\n",
    "print(id(a))\n",
    "print(id(b))\n",
    "c=b+a            # using concatenation\n",
    "print(c)\n",
    "\n",
    "b+=a             # using compound assignment arithmetic operator     \n",
    "print(b)\n",
    "print(id(a))"
   ]
  },
  {
   "attachments": {},
   "cell_type": "markdown",
   "metadata": {},
   "source": [
    "23.WAS to modify  the  new character into the middle of the given string."
   ]
  },
  {
   "cell_type": "code",
   "execution_count": 7,
   "metadata": {},
   "outputs": [
    {
     "name": "stdout",
     "output_type": "stream",
     "text": [
      "haii@rama\n",
      "haii@ rama\n"
     ]
    }
   ],
   "source": [
    "y=\"haii rama\"\n",
    "print(y[:len(y)//2]+\"@\"+y[(len(y)//2)+1:])\n",
    "\n",
    "print(y[0:len(y)//2]+\"@\"+y[(len(y)//2):])\n"
   ]
  },
  {
   "attachments": {},
   "cell_type": "markdown",
   "metadata": {},
   "source": [
    "16.WAS to concat the new string into the ending of the given string."
   ]
  },
  {
   "cell_type": "code",
   "execution_count": 46,
   "metadata": {},
   "outputs": [
    {
     "name": "stdout",
     "output_type": "stream",
     "text": [
      "haiibyee\n",
      "haiibyee\n"
     ]
    }
   ],
   "source": [
    "x=\"haii\"\n",
    "y=\"byee\"\n",
    "z=x+y\n",
    "print(z)\n",
    "\n",
    "x+=y\n",
    "print(x)"
   ]
  },
  {
   "attachments": {},
   "cell_type": "markdown",
   "metadata": {},
   "source": [
    "17.WAS to concat the new string into the middle of the given string."
   ]
  },
  {
   "cell_type": "code",
   "execution_count": 1,
   "metadata": {},
   "outputs": [
    {
     "name": "stdout",
     "output_type": "stream",
     "text": [
      "haii\n",
      " rama\n",
      "haiigood morning rama\n",
      "haii\n",
      "rama\n",
      "haiigood morning rama\n"
     ]
    }
   ],
   "source": [
    "x=\"haii rama\"\n",
    "print(x[0:len(x)//2])\n",
    "print(x[len(x)//2:])\n",
    "\n",
    "print(x[:len(x)//2]+\"good morning\"+x[len(x)//2:])\n",
    "\n",
    "x=\"haii rama\"      # by using slicing\n",
    "print(x[0:3+1:+1])\n",
    "print(x[5:8+1:+1])\n",
    "print(x[0:4]+\"good morning\"+x[4:])"
   ]
  },
  {
   "cell_type": "code",
   "execution_count": 3,
   "metadata": {},
   "outputs": [
    {
     "name": "stdout",
     "output_type": "stream",
     "text": [
      "haii@ rama\n",
      "haii@ rama\n"
     ]
    }
   ],
   "source": [
    "x=\"haii rama\"\n",
    "\n",
    "print(x[:len(x)//2]+\"@\"+x[len(x)//2:])\n",
    "print(x[:len(x)//2]+\"@\"+x[len(x)//2:])"
   ]
  },
  {
   "attachments": {},
   "cell_type": "markdown",
   "metadata": {},
   "source": [
    "18.WAS to replace the old character into a new character of the given string."
   ]
  },
  {
   "cell_type": "code",
   "execution_count": 3,
   "metadata": {},
   "outputs": [
    {
     "name": "stdout",
     "output_type": "stream",
     "text": [
      "PYSPIDQRS\n",
      "PYSPIDQRS\n"
     ]
    }
   ],
   "source": [
    "# WAS to replace the old character into a new character of the given string.\n",
    "\n",
    "st=\"PYSPIDERS\"\n",
    "print(st[:-3]+\"Q\"+st[-2:])\n",
    "print(st[:6]+\"Q\"+st[7:])"
   ]
  },
  {
   "cell_type": "code",
   "execution_count": 4,
   "metadata": {},
   "outputs": [
    {
     "name": "stdout",
     "output_type": "stream",
     "text": [
      "PYSPIDQRS\n",
      "PYSPIDQRS\n"
     ]
    }
   ],
   "source": [
    "st=\"PYSPIDERS\"                         \n",
    "res = st[:-3]+\"Q\"+st[-2:]\n",
    "print(res)\n",
    "temp=st[:6]+\"Q\"+st[7:]\n",
    "print(temp)"
   ]
  },
  {
   "attachments": {},
   "cell_type": "markdown",
   "metadata": {},
   "source": [
    "19.WAS to delete the specific character in the string."
   ]
  },
  {
   "cell_type": "code",
   "execution_count": 41,
   "metadata": {},
   "outputs": [
    {
     "name": "stdout",
     "output_type": "stream",
     "text": [
      "QSPIERS\n",
      "QSPIERS\n"
     ]
    }
   ],
   "source": [
    "# WAS to delete the specific character in the string.\n",
    "\n",
    "st=\"QSPIDERS\"\n",
    "res=st[:4]+st[4+1:]\n",
    "print(res)\n",
    "\n",
    "res=st[:-4]+st[-3:]\n",
    "print(res)"
   ]
  },
  {
   "attachments": {},
   "cell_type": "markdown",
   "metadata": {},
   "source": [
    "20.WAS to delete the sequence of characters in the given string.\n",
    "    i/p : st=\"QSPIDERS\"\n",
    "    O/P : QSRS"
   ]
  },
  {
   "cell_type": "code",
   "execution_count": 9,
   "metadata": {},
   "outputs": [
    {
     "name": "stdout",
     "output_type": "stream",
     "text": [
      "QSRS\n",
      "QSRS\n",
      "QSRS\n",
      "QSRS\n"
     ]
    }
   ],
   "source": [
    "# WAS to delete the sequence of characters in the given string.\n",
    "# i/p : st=\"QSPIDERS\"\n",
    "# O/P : QSRS\n",
    "st=\"QSPIDERS\"\n",
    "res = st[:2]+st[6:]\n",
    "print(res)\n",
    "\n",
    "res = st[:2]+st[-2:]\n",
    "print(res)\n",
    "\n",
    "res = st[:-6]+st[-2:]\n",
    "print(res)\n",
    "\n",
    "res = st[:-6]+st[6:]\n",
    "print(res)\n"
   ]
  },
  {
   "attachments": {},
   "cell_type": "markdown",
   "metadata": {},
   "source": [
    "21.WAS to concat the new string into the specific position of the given string.\n",
    "        I/P : st=\"QSPIDERS\"\n",
    "        O/P : \"QSPI123456DERS\" "
   ]
  },
  {
   "cell_type": "code",
   "execution_count": 16,
   "metadata": {},
   "outputs": [
    {
     "name": "stdout",
     "output_type": "stream",
     "text": [
      "QSPI123456DERS\n",
      "QSPI123456DERS\n",
      "SRED123456IPSQ\n",
      "SRED123456IPSQ\n"
     ]
    }
   ],
   "source": [
    "# WAS to concat the new string into the specific position of the given string.\n",
    "# I/P : st=\"QSPIDERS\"\n",
    "# O/P : \"QSPI123456DERS\" \n",
    "\n",
    "st=\"QSPIDERS\"\n",
    "res=st[0:4]+\"123456\"+st[4:]\n",
    "print(res)\n",
    "\n",
    "st=\"QSPIDERS\"\n",
    "res=st[0:-4]+\"123456\"+st[-4:]\n",
    "print(res)\n",
    "\n",
    "# i/p : st=\"QSPIDERS\"\n",
    "# o/p : \"SRED123456IPSQ\"\n",
    "\n",
    "st=\"QSPIDERS\"\n",
    "res=st[:3:-1]+\"123456\"+st[3::-1]\n",
    "print(res)\n",
    "\n",
    "st=\"QSPIDERS\"\n",
    "res=st[-1:-5:-1]+\"123456\"+st[-5::-1]\n",
    "print(res)"
   ]
  },
  {
   "attachments": {},
   "cell_type": "markdown",
   "metadata": {},
   "source": [
    "22.WAS to concat the new value into the starting of the given list.\n"
   ]
  },
  {
   "cell_type": "code",
   "execution_count": 11,
   "metadata": {},
   "outputs": [
    {
     "name": "stdout",
     "output_type": "stream",
     "text": [
      "[10, 20, 30, 50, 'hello', 'haii'] 2126012768576\n",
      "[100, 200, 10, 20, 30, 50, 'hello', 'haii']\n",
      "[10, 20, 30, 50, 'hello', 'haii'] 2126012766848\n",
      "[100, 200, 10, 20, 30, 50, 'hello', 'haii']\n",
      "[10, 20, 30, 50, 'hello', 'haii'] 2126012767680\n",
      "[100, 200, 10, 20, 30, 50, 'hello', 'haii'] 2126012767680\n"
     ]
    }
   ],
   "source": [
    "# WAS to concat the new value into the starting of the given list.\n",
    "\n",
    "l=[10,20,30,50,\"hello\",\"haii\"]\n",
    "print(l,id(l))\n",
    "t=[100,200]+l\n",
    "print(t)\n",
    "\n",
    "l=[10,20,30,50,\"hello\",\"haii\"]   #wrong way\n",
    "print(l,id(l))\n",
    "t=[100,200]\n",
    "t+=l\n",
    "print(t)\n",
    "\n",
    "l=[10,20,30,50,\"hello\",\"haii\"] \n",
    "print(l,id(l))\n",
    "l[0:0]=[100,200]\n",
    "print(l,id(l))"
   ]
  },
  {
   "attachments": {},
   "cell_type": "markdown",
   "metadata": {},
   "source": [
    "23.WAS to concat the new value into the ending of the given list"
   ]
  },
  {
   "cell_type": "code",
   "execution_count": 13,
   "metadata": {},
   "outputs": [
    {
     "name": "stdout",
     "output_type": "stream",
     "text": [
      "[10, 20, 30, 50, 'hello', 'haii'] 2126012943296\n",
      "[10, 20, 30, 50, 'hello', 'haii', 100, 200] 2126012943680\n",
      "-*--*--*--*--*--*--*--*--*--*--*--*--*--*--*--*--*--*--*--*-\n",
      "[10, 20, 30, 50, 'hello', 'haii'] 2126012942784\n",
      "[10, 20, 30, 50, 'hello', 'haii', 100, 200] 2126012942784\n",
      "-*--*--*--*--*--*--*--*--*--*--*--*--*--*--*--*--*--*--*--*-\n",
      "[10, 20, 30, 50, 'hello', 'haii'] 2126012943296\n",
      "[10, 20, 30, 50, 'hello', 'haii', 100, 200] 2126012943296\n",
      "-*--*--*--*--*--*--*--*--*--*--*--*--*--*--*--*--*--*--*--*-\n",
      "[10, 20, 30, 50, 'hello', 'haii'] 2126012956288\n",
      "[10, 20, 30, 50, 'hello', 100, 200, 'haii'] 2126012956288\n"
     ]
    }
   ],
   "source": [
    "# WAS to concat the new value into the ending of the given list\n",
    "\n",
    "t=[10,20,30,50,\"hello\",\"haii\"]      # this is normal concatenation\n",
    "print(t,id(t))\n",
    "t=t+[100,200]\n",
    "print(t,id(t))\n",
    "\n",
    "print(\"-*-\"*20)\n",
    "\n",
    "t=[10,20,30,50,\"hello\",\"haii\"]   # compound assignment arithematic operator(address not changed)\n",
    "print(t,id(t))\n",
    "t+=[100,200]\n",
    "print(t,id(t))\n",
    "\n",
    "print(\"-*-\"*20)\n",
    "\n",
    "t=[10,20,30,50,\"hello\",\"haii\"]    # by using list syntax to concat the specific position\n",
    "print(t,id(t))\n",
    "t[len(t):len(t)]=[100,200]\n",
    "print(t,id(t))\n",
    "\n",
    "print(\"-*-\"*20)\n",
    "\n",
    "t=[10,20,30,50,\"hello\",\"haii\"]\n",
    "print(t,id(t))\n",
    "t[-1:-1]=[100,200]\n",
    "print(t,id(t))"
   ]
  },
  {
   "attachments": {},
   "cell_type": "markdown",
   "metadata": {},
   "source": [
    "24.WAS to concat the new value into the middle of the given list."
   ]
  },
  {
   "cell_type": "code",
   "execution_count": 43,
   "metadata": {},
   "outputs": [
    {
     "name": "stdout",
     "output_type": "stream",
     "text": [
      "[10, 20, 30, 50, 'hello', 'haii'] 2253628196800\n",
      "[10, 20, 30, 'A', 'b', 50, 'hello', 'haii'] 2253628181696\n",
      "********************************************************************************************\n",
      "[10, 20, 30, 50, 'hello', 'haii'] 2253628197184\n",
      "['a', 'b', 50, 'hello', 'haii'] 2253628197184\n",
      "********************************************************************************************\n",
      "[10, 20, 30, 50, 'hello', 'haii'] 2253628196800\n",
      "[10, 20, 30, ['a', 'b'], 'hello', 'haii'] 2253628196800\n"
     ]
    }
   ],
   "source": [
    "# WAS to concat the new value into the middle of the given list\n",
    "\n",
    "y=[10,20,30,50,\"hello\",\"haii\"]\n",
    "print(y,id(y))\n",
    "y=y[:len(y)//2]+[\"A\",\"b\"]+y[len(y)//2:]\n",
    "print(y,id(y))\n",
    "\n",
    "\n",
    "print(\"**********************************************\"*2)\n",
    "\n",
    "y=[10,20,30,50,\"hello\",\"haii\"]\n",
    "print(y,id(y))\n",
    "y[:len(y)//2]:y[len(y)//2:]=['a','b']\n",
    "print(y,id(y))\n",
    "\n",
    "print(\"**********************************************\"*2)\n",
    "\n",
    "y=[10,20,30,50,\"hello\",\"haii\"]\n",
    "print(y,id(y))\n",
    "y[len(y)//2]:[len(y)//2]=['a','b']\n",
    "print(y,id(y))\n",
    "\n",
    "print(\"**********************************************\"*2)\n"
   ]
  },
  {
   "attachments": {},
   "cell_type": "markdown",
   "metadata": {},
   "source": [
    "25.WAS to modiffy the new value into the specific position of the given list."
   ]
  },
  {
   "cell_type": "code",
   "execution_count": 38,
   "metadata": {},
   "outputs": [
    {
     "name": "stdout",
     "output_type": "stream",
     "text": [
      "[10, 20, 'hello', 'a', 'b', 100, 'haii', 66] 2253628260160\n",
      "[10, 20, 'hello world', 'a', 'b', 100, 'haii', 66] 2253628260160\n"
     ]
    }
   ],
   "source": [
    "# WAS to modify the new value into the specific position of the given list.\n",
    "\n",
    "l=[10,20,\"hello\",\"a\",'b',100,'haii',66]\n",
    "print(l,id(l))\n",
    "l[2]=\"hello world\"\n",
    "print(l,id(l))"
   ]
  },
  {
   "attachments": {},
   "cell_type": "markdown",
   "metadata": {},
   "source": [
    "26.WAS to modify the sequence of new value into the specific position of the given list."
   ]
  },
  {
   "cell_type": "code",
   "execution_count": 5,
   "metadata": {},
   "outputs": [
    {
     "name": "stdout",
     "output_type": "stream",
     "text": [
      "[10, 20, 'hello', 'a', 'b', 100, 'haii', 66] 1259415748096\n",
      "[10, 20, 'hello world', 'good bye', 'hello', 'a', 'b', 100, 'haii', 66] 1259415748096\n"
     ]
    }
   ],
   "source": [
    "# WAS to modify the sequence of new value into the specific position of the list.\n",
    "\n",
    "\n",
    "l=[10,20,\"hello\",\"a\",'b',100,'haii',66]\n",
    "print(l,id(l))\n",
    "l[2:2]=[\"hello world\",\"good bye\"]\n",
    "print(l,id(l))\n"
   ]
  },
  {
   "attachments": {},
   "cell_type": "markdown",
   "metadata": {},
   "source": [
    "27.WAS to modify the new values into the starting of the given list."
   ]
  },
  {
   "cell_type": "code",
   "execution_count": 45,
   "metadata": {},
   "outputs": [
    {
     "name": "stdout",
     "output_type": "stream",
     "text": [
      "[10, 20, 'hello', 'a', 'b', 100, 'haii', 66] 2253627826944\n",
      "['dharani', 20, 'hello', 'a', 'b', 100, 'haii', 66] 2253627826944\n"
     ]
    }
   ],
   "source": [
    "#WAS to modify the new value into the starting of the given list\n",
    "\n",
    "l=[10,20,\"hello\",\"a\",\"b\",100,\"haii\",66]\n",
    "print(l,id(l))\n",
    "l[0]=\"dharani\"\n",
    "print(l,id(l))\n"
   ]
  },
  {
   "attachments": {},
   "cell_type": "markdown",
   "metadata": {},
   "source": [
    "28.WAS to modify the new values into the ending of the given list."
   ]
  },
  {
   "cell_type": "code",
   "execution_count": 46,
   "metadata": {},
   "outputs": [
    {
     "name": "stdout",
     "output_type": "stream",
     "text": [
      "[10, 20, 'hello', 'a', 'b', 100, 'haii', 66] 2253628260160\n",
      "[10, 20, 'hello', 'a', 'b', 100, 'haii', 'dharani'] 2253628260160\n"
     ]
    }
   ],
   "source": [
    "#WAS to modify the new value into the ending of the given list\n",
    "\n",
    "l=[10,20,\"hello\",\"a\",\"b\",100,\"haii\",66]\n",
    "print(l,id(l))\n",
    "l[-1]=\"dharani\"\n",
    "print(l,id(l))"
   ]
  },
  {
   "attachments": {},
   "cell_type": "markdown",
   "metadata": {},
   "source": [
    "29.WAS to modify the new value into the middle of the given list."
   ]
  },
  {
   "cell_type": "code",
   "execution_count": 5,
   "metadata": {},
   "outputs": [
    {
     "name": "stdout",
     "output_type": "stream",
     "text": [
      "[10, 20, 'hello', 'a', 'b', 100, 'haii', 66] 2565713720384\n",
      "[10, 20, 'hello', 'a', 'hello world', 'b', 100, 'haii', 66] 2565713720384\n",
      "********************************************************************************************\n",
      "[10, 20, 'hello', 'a', 'b', 100, 'haii', 66] 2565713255168\n",
      "[10, 20, 'hello', 'a', 'hello world', 100, 'haii', 66] 2565713255168\n",
      "********************************************************************************************\n",
      "[10, 20, 'hello', 'a', 'b', 100, 'haii', 66] 2565713716544\n",
      "[10, 20, 'hello', 'a', 'hello world', 'b', 100, 'haii', 66] 2565713716544\n"
     ]
    }
   ],
   "source": [
    "#WAS to modify the new value into the middle of the given list\n",
    "\n",
    "l=[10,20,\"hello\",\"a\",\"b\",100,\"haii\",66]\n",
    "print(l,id(l))\n",
    "l[len(l)//2:len(l)//2]=[\"hello world\"]\n",
    "print(l,id(l))\n",
    "\n",
    "print(\"**********************************************\"*2)\n",
    "\n",
    "l=[10,20,\"hello\",\"a\",\"b\",100,\"haii\",66]\n",
    "print(l,id(l))\n",
    "l[len(l)//2]=\"hello world\"\n",
    "print(l,id(l))\n",
    "\n",
    "print(\"**********************************************\"*2)\n",
    "\n",
    "l=[10,20,\"hello\",\"a\",\"b\",100,\"haii\",66]\n",
    "print(l,id(l))\n",
    "l[len(l)//2:len(l)//2]=\"hello world\"\n",
    "print(l,id(l))"
   ]
  },
  {
   "attachments": {},
   "cell_type": "markdown",
   "metadata": {},
   "source": [
    "28.WAS to modify the first 4 positions values into a given list."
   ]
  },
  {
   "cell_type": "code",
   "execution_count": 1,
   "metadata": {},
   "outputs": [
    {
     "name": "stdout",
     "output_type": "stream",
     "text": [
      "[1, 2, 3, 4, 5, 6] 2067547702848\n",
      "['a', 'b', 'c', 'd', 5, 6] 2067547702848\n"
     ]
    }
   ],
   "source": [
    "l=[1,2,3,4,5,6]\n",
    "print(l,id(l))\n",
    "l[0:4]=['a','b','c','d']\n",
    "print(l,id(l))\n"
   ]
  },
  {
   "attachments": {},
   "cell_type": "markdown",
   "metadata": {},
   "source": [
    "29.WAS to del the value in the specific position of the given list."
   ]
  },
  {
   "cell_type": "code",
   "execution_count": 3,
   "metadata": {},
   "outputs": [
    {
     "name": "stdout",
     "output_type": "stream",
     "text": [
      "[1, 2, 3, 4, 5, 6] 2067547530240\n",
      "[1, 2, 3, 5, 6] 2067547530240\n",
      "[1, 2, 3, 4, 5, 6] 2067547656640\n",
      "[1, 2, 3, 4, 5] 2067547656640\n"
     ]
    }
   ],
   "source": [
    "l=[1,2,3,4,5,6]\n",
    "print(l,id(l))\n",
    "del l[3]\n",
    "print(l,id(l))\n",
    "\n"
   ]
  },
  {
   "attachments": {},
   "cell_type": "markdown",
   "metadata": {},
   "source": [
    "30.WAS to del the new value into  the ending of the  list."
   ]
  },
  {
   "cell_type": "code",
   "execution_count": 6,
   "metadata": {},
   "outputs": [
    {
     "name": "stdout",
     "output_type": "stream",
     "text": [
      "[1, 2, 3, 4, 5, 6] 2067547689792\n",
      "[1, 2, 3, 4, 5] 2067547689792\n",
      "[1, 2, 3, 4, 5, 6] 2067547656640\n",
      "[1, 2, 3, 4, 5] 2067547656640\n"
     ]
    }
   ],
   "source": [
    "l=[1,2,3,4,5,6]\n",
    "print(l,id(l))\n",
    "\n",
    "del l[-1]\n",
    "print(l,id(l))\n",
    "\n",
    "\n",
    "l=[1,2,3,4,5,6]\n",
    "print(l,id(l))\n",
    "\n",
    "del l[len(l)-1]\n",
    "print(l,id(l))\n",
    "\n"
   ]
  },
  {
   "attachments": {},
   "cell_type": "markdown",
   "metadata": {},
   "source": [
    "31.WAS to del the new value into  the middle of the  list."
   ]
  },
  {
   "cell_type": "code",
   "execution_count": 7,
   "metadata": {},
   "outputs": [
    {
     "name": "stdout",
     "output_type": "stream",
     "text": [
      "[1, 2, 3, 4, 5, 6] 2067553168128\n",
      "[1, 2, 3, 5, 6] 2067553168128\n"
     ]
    }
   ],
   "source": [
    "\n",
    "l=[1,2,3,4,5,6]\n",
    "print(l,id(l))\n",
    "\n",
    "del l[len(l)//2]\n",
    "print(l,id(l))"
   ]
  },
  {
   "attachments": {},
   "cell_type": "markdown",
   "metadata": {},
   "source": [
    "31.WAS to del the new value into  the starting  of the  list."
   ]
  },
  {
   "cell_type": "code",
   "execution_count": 13,
   "metadata": {},
   "outputs": [
    {
     "name": "stdout",
     "output_type": "stream",
     "text": [
      "[1, 2, 3, 4, 5, 6] 2067553338240\n",
      "[2, 3, 4, 5, 6] 2067553338240\n",
      "*********************************************************************************************\n",
      "[1, 2, 3, 4, 5, 6] 2067547690368\n",
      "[2, 3, 4, 5, 6] 2067547690368\n"
     ]
    }
   ],
   "source": [
    "l=[1,2,3,4,5,6]\n",
    "print(l,id(l))\n",
    "\n",
    "del l[-(len(l))]\n",
    "print(l,id(l))\n",
    "\n",
    "print(\"*******************************\"*3)\n",
    "\n",
    "l=[1,2,3,4,5,6]\n",
    "print(l,id(l))\n",
    "\n",
    "del l[0]\n",
    "print(l,id(l))"
   ]
  },
  {
   "attachments": {},
   "cell_type": "markdown",
   "metadata": {},
   "source": [
    "WAS to delete the sequence of the values from the list."
   ]
  },
  {
   "cell_type": "code",
   "execution_count": 12,
   "metadata": {},
   "outputs": [
    {
     "name": "stdout",
     "output_type": "stream",
     "text": [
      "[1, 2, 3, 4, 5, 6] 2067553327744\n",
      "[5, 6] 2067553327744\n",
      "*********************************************************************************************\n",
      "[1, 2, 3, 4, 5, 6, 'a', 'b', 'c', 'd', 'e'] 2067553343296\n",
      "[1, 6, 'a', 'b', 'c', 'd', 'e'] 2067553343296\n",
      "*********************************************************************************************\n",
      "[1, 2, 3, 4, 5, 6, 'a', 'b', 'c', 'd', 'e'] 2067553339456\n",
      "[1, 2, 3, 4, 5, 6] 2067553339456\n"
     ]
    }
   ],
   "source": [
    "\n",
    "l=[1,2,3,4,5,6]\n",
    "print(l,id(l))\n",
    "del l[0:4]\n",
    "print(l,id(l))\n",
    "\n",
    "print(\"*******************************\"*3)\n",
    "\n",
    "l=[1,2,3,4,5,6,'a','b','c','d','e']\n",
    "print(l,id(l))\n",
    "del l[4:0:-1]\n",
    "print(l,id(l))\n",
    "\n",
    "print(\"*******************************\"*3)\n",
    "\n",
    "l=[1,2,3,4,5,6,'a','b','c','d','e']\n",
    "print(l,id(l))\n",
    "del l[-1:-6:-1]\n",
    "print(l,id(l))\n"
   ]
  },
  {
   "attachments": {},
   "cell_type": "markdown",
   "metadata": {},
   "source": [
    "32.WAS to concat the new value into the starting of the tuple."
   ]
  },
  {
   "cell_type": "code",
   "execution_count": 15,
   "metadata": {},
   "outputs": [
    {
     "name": "stdout",
     "output_type": "stream",
     "text": [
      "('hello', 'good', 'mornig', 'good night') 2067553482080\n",
      "('haii', 'hello', 'good', 'mornig', 'good night') 2067553075040\n"
     ]
    }
   ],
   "source": [
    "t=(\"hello\",\"good\",\"mornig\",\"good night\")\n",
    "print(t,id(t))\n",
    "\n",
    "t=(\"haii\",)+t\n",
    "print(t,id(t))"
   ]
  },
  {
   "attachments": {},
   "cell_type": "markdown",
   "metadata": {},
   "source": [
    "33.WAS to concat the new value into the middle of the tuple."
   ]
  },
  {
   "cell_type": "code",
   "execution_count": 47,
   "metadata": {},
   "outputs": [
    {
     "name": "stdout",
     "output_type": "stream",
     "text": [
      "('hello', 'good', 'morning', 'good night') 2067554713824\n",
      "('hello', 'good', [10, 20], 'morning', 'good night') 2067554726864\n"
     ]
    }
   ],
   "source": [
    "t=(\"hello\",\"good\",\"morning\",\"good night\")\n",
    "print(t,id(t))\n",
    "t=t[:len(t)//2]+([10,20],)+t[len(t)//2:]\n",
    "print(t,id(t))"
   ]
  },
  {
   "attachments": {},
   "cell_type": "markdown",
   "metadata": {},
   "source": [
    "34.WAS to concat the new value in to the ending of the  tuple."
   ]
  },
  {
   "cell_type": "code",
   "execution_count": 27,
   "metadata": {},
   "outputs": [
    {
     "name": "stdout",
     "output_type": "stream",
     "text": [
      "('hello', 'good', 'morning', 'good night') 2067554301920\n",
      "('hello', 'good', 'morning', 'good night', 'bye bye') 2067554303520\n",
      "('hello', 'good', 'morning', 'good night') 2067554301920\n",
      "('hello', 'good', 'morning', 'good night', 'bye bye') 2067554301840\n"
     ]
    }
   ],
   "source": [
    "t=(\"hello\",\"good\",\"morning\",\"good night\")\n",
    "print(t,id(t))\n",
    "t=t+(\"bye bye\",)\n",
    "print(t,id(t))\n",
    "\n",
    "u=(\"hello\",\"good\",\"morning\",\"good night\")\n",
    "print(u,id(u))\n",
    "u+=(\"bye bye\",)\n",
    "print(u,id(u))"
   ]
  },
  {
   "attachments": {},
   "cell_type": "markdown",
   "metadata": {},
   "source": [
    "WAS to modify the values into the tuple."
   ]
  },
  {
   "cell_type": "code",
   "execution_count": 37,
   "metadata": {},
   "outputs": [
    {
     "name": "stdout",
     "output_type": "stream",
     "text": [
      "('haii', 'good', 'morning', 'good night', 'bye', 'bye bye')\n",
      "('hello', 'good', 'morning', 'good night', 'bye', 'good bye')\n",
      "('hello', 'good', 'afternoon', 'bye', 'bye bye')\n",
      "('hello', 'good', 'morning', 'afternoon', 'bye', 'bye bye')\n",
      "('hello', 'good', [10, 20], 'bye', 'bye bye')\n"
     ]
    }
   ],
   "source": [
    "\n",
    "#STARTING\n",
    "x=('hello','good','morning','good night','bye','bye bye')\n",
    "x=(\"haii\",)+x[1:]\n",
    "print(x)\n",
    "\n",
    "#ENDING\n",
    "x=('hello','good','morning','good night','bye','bye bye')\n",
    "x=x[0:-1]+('good bye',)\n",
    "print(x)\n",
    "\n",
    "#SPECIFIC POSITION \n",
    "x=('hello','good','morning','good night','bye','bye bye')\n",
    "x=x[0:2]+('afternoon',)+x[2+2:]\n",
    "print(x)\n",
    "\n",
    "#MIDDLE POSITION\n",
    "x=('hello','good','morning','good night','bye','bye bye')\n",
    "x=x[0:len(x)//2]+('afternoon',)+x[len(x)//2+1:]\n",
    "print(x)\n",
    "\n",
    "#SEQUENCE OF VALUES\n",
    "x=('hello','good','morning','good night','bye','bye bye')\n",
    "x=x[0:2]+([10,20],)+x[4:]\n",
    "print(x)"
   ]
  },
  {
   "attachments": {},
   "cell_type": "markdown",
   "metadata": {},
   "source": [
    "WAS to delete the values into the tuple."
   ]
  },
  {
   "cell_type": "code",
   "execution_count": 1,
   "metadata": {},
   "outputs": [
    {
     "name": "stdout",
     "output_type": "stream",
     "text": [
      "('hello',)\n",
      "('hello', 'good', 'good night', 'bye')\n",
      "('good night',)\n"
     ]
    }
   ],
   "source": [
    "a=('hello','good','good night','bye','bye bye')\n",
    "a=a[:1]\n",
    "print(a)\n",
    "\n",
    "a=('hello','good','good night','bye','bye bye')\n",
    "a=a[:-1]\n",
    "print(a)\n",
    "\n",
    "a=('hello','good','good night','bye','bye bye')\n",
    "a=a[2:3]\n",
    "print(a)\n",
    "\n"
   ]
  },
  {
   "attachments": {},
   "cell_type": "markdown",
   "metadata": {},
   "source": [
    "WAS to perform set operations."
   ]
  },
  {
   "cell_type": "code",
   "execution_count": 43,
   "metadata": {},
   "outputs": [
    {
     "name": "stdout",
     "output_type": "stream",
     "text": [
      "{50, 20, 40, 10, 60, 30}\n",
      "{50, 20, 40, 10, 60, 30}\n",
      "{40, 10, 30}\n",
      "{40, 10, 30}\n"
     ]
    }
   ],
   "source": [
    "#union/concat\n",
    "\n",
    "s={10,20,30,40}\n",
    "t={20,50,60}\n",
    "res=s|t\n",
    "print(res)\n",
    "\n",
    "#by using compound pipe symbol(union updation/concat/union)\n",
    "\n",
    "s={10,20,30,40}\n",
    "t={20,50,60}\n",
    "s|=t\n",
    "print(res)\n",
    "\n",
    "#different/delete\n",
    "\n",
    "s={10,20,30,40}\n",
    "t={20}\n",
    "res=s-t\n",
    "print(res)\n",
    "\n",
    "#difference update\n",
    "\n",
    "s={10,20,30,40}\n",
    "t={20}\n",
    "s-=t\n",
    "print(res)"
   ]
  },
  {
   "attachments": {},
   "cell_type": "markdown",
   "metadata": {},
   "source": [
    "WAS to concat the new key and value into the dict."
   ]
  },
  {
   "cell_type": "code",
   "execution_count": 9,
   "metadata": {},
   "outputs": [
    {
     "name": "stdout",
     "output_type": "stream",
     "text": [
      "{'a': 10, 'hello': 'bye'} 2565713761088\n",
      "{'a': 10, 'hello': 'bye', 'c': 30} 2565713761088\n",
      "--*----*----*----*----*----*----*----*----*----*----*----*----*----*----*----*----*----*----*----*--\n",
      "{'a': 10, 'hello': 'bye'} 2565713763392\n",
      "{'a': 10, 'hello': 'bye', 'apple': 10, 'bat': 20, 'ball': 50} 2565713763392\n",
      "--*----*----*----*----*----*----*----*----*----*----*----*----*----*----*----*----*----*----*----*--\n",
      "{'a': 10, 'hello': 'bye'} 2565713761088\n",
      "{'a': 10, 'hello': 'bye', 'c': 30} 2565713761088\n",
      "--*----*----*----*----*----*----*----*----*----*----*----*----*----*----*----*----*----*----*----*--\n",
      "{'apple': 100, 'hello': 'bye'} 2565713760960\n",
      "{'apple': 200, 'hello': 'bye', 'bat': 'bye', 'ball': 50} 2565713760960\n"
     ]
    }
   ],
   "source": [
    "d={'a':10,'hello':'bye'}   #adding the single value key pair\n",
    "print(d,id(d))\n",
    "d['c']=30\n",
    "print(d,id(d))\n",
    "\n",
    "print(\"--*--\"*20)\n",
    "\n",
    "d={'a':10,'hello':'bye'}    #adding the multiple value key pairs\n",
    "x={'apple':10,'bat':20,\"ball\":50}\n",
    "print(d,id(d))\n",
    "d|=x\n",
    "print(d,id(d))\n",
    "\n",
    "print(\"--*--\"*20)\n",
    "\n",
    "\n",
    "d={'a':10,'hello':'bye'}   #adding the single value key pair\n",
    "print(d,id(d))\n",
    "d['c']=30\n",
    "print(d,id(d))\n",
    "\n",
    "print(\"--*--\"*20)\n",
    "\n",
    "d={'apple':100,'hello':'bye'}    #adding the multiple value key pairs(using same key values)\n",
    "x={'apple':200,'bat':'bye',\"ball\":50}\n",
    "print(d,id(d))\n",
    "d|=x\n",
    "print(d,id(d))"
   ]
  },
  {
   "attachments": {},
   "cell_type": "markdown",
   "metadata": {},
   "source": [
    "#WAS to delete the specific key and value in the given dict."
   ]
  },
  {
   "cell_type": "code",
   "execution_count": 8,
   "metadata": {},
   "outputs": [
    {
     "name": "stdout",
     "output_type": "stream",
     "text": [
      "{'apple': 200, 'hello': 'bye', 'bat': 'bye', 'ball': 60} 2565713275200\n",
      "{'apple': 200, 'hello': 'bye', 'bat': 'bye'} 2565713275200\n",
      "--*----*----*----*----*----*----*----*----*----*----*----*----*----*----*----*----*----*----*----*--\n",
      "{'apple': 200, 'hello': 'bye', 'bat': 'bye', 'ball': 60} 2565713277696\n",
      "{'hello': 'bye', 'bat': 'bye'} 2565713277696\n"
     ]
    }
   ],
   "source": [
    "d={'apple':200,'hello':'bye','bat':'bye','ball':60}  # for del single key\n",
    "print(d,id(d))\n",
    "del d['ball']\n",
    "print(d,id(d))\n",
    "\n",
    "print(\"--*--\"*20)\n",
    "\n",
    "d={'apple':200,'hello':'bye','bat':'bye','ball':60}   # for del no of keys\n",
    "print(d,id(d))\n",
    "del [d['ball'],d['apple']]\n",
    "print(d,id(d))\n"
   ]
  },
  {
   "attachments": {},
   "cell_type": "markdown",
   "metadata": {},
   "source": [
    "WAS to modify the specific value in the given dict."
   ]
  },
  {
   "cell_type": "code",
   "execution_count": 7,
   "metadata": {},
   "outputs": [
    {
     "name": "stdout",
     "output_type": "stream",
     "text": [
      "{'apple': 200, 'hello': 'bye', 'bat': 'bye', 'ball': 60} 2565713276032\n",
      "{'apple': 1500, 'hello': 'bye', 'bat': 'bye', 'ball': 60} 2565713276032\n",
      "--*----*----*----*----*----*----*----*----*----*----*----*----*----*----*----*----*----*----*----*--\n",
      "{'apple': 200, 'hello': 'bye', 'bat': 'bye', 'ball': 60} 2565713711360\n",
      "{'hello': 'bye', 'bat': 'bye'} 2565713711360\n"
     ]
    }
   ],
   "source": [
    "d={'apple':200,'hello':'bye','bat':'bye','ball':60}   # for del no of keys\n",
    "print(d,id(d))\n",
    "\n",
    "d[\"apple\"]=1500\n",
    "print(d,id(d))\n",
    "\n",
    "print(\"--*--\"*20)\n",
    "\n",
    "d={'apple':200,'hello':'bye','bat':'bye','ball':60}   # for del no of keys\n",
    "t={'apple':1500,'hello':'hello world'}\n",
    "print(d,id(d))\n",
    "del [d['ball'],d['apple']]\n",
    "print(d,id(d))\n",
    "\n"
   ]
  },
  {
   "attachments": {},
   "cell_type": "markdown",
   "metadata": {},
   "source": [
    "41.WAS to concat the list value and tuple value by using type casting."
   ]
  },
  {
   "cell_type": "code",
   "execution_count": 7,
   "metadata": {},
   "outputs": [
    {
     "name": "stdout",
     "output_type": "stream",
     "text": [
      "[10, 20, 30, 40, 'A', 'b', 'c', 'd']\n",
      "--*----*----*----*----*----*----*----*----*----*----*----*----*----*----*----*----*----*----*----*--\n",
      "(10, 20, 30, 40, 'A', 'b', 'c', 'd')\n",
      "--*----*----*----*----*----*----*----*----*----*----*----*----*----*----*----*----*----*----*----*--\n",
      "[10, 20, 30, 40, 'A', 'b', 'c', 'd']\n",
      "--*----*----*----*----*----*----*----*----*----*----*----*----*----*----*----*----*----*----*----*--\n",
      "('A', 'b', 'c', 'd', 10, 20, 30, 40)\n",
      "--*----*----*----*----*----*----*----*----*----*----*----*----*----*----*----*----*----*----*----*--\n"
     ]
    }
   ],
   "source": [
    "l=[10,20,30,40]\n",
    "j=(\"A\",\"b\",\"c\",\"d\")\n",
    "res=l+list(j)\n",
    "print(res)\n",
    "\n",
    "print(\"--*--\"*20)\n",
    "\n",
    "\n",
    "l=[10,20,30,40]\n",
    "j=(\"A\",\"b\",\"c\",\"d\")\n",
    "res=tuple(l)+(j)\n",
    "print(res)\n",
    "\n",
    "print(\"--*--\"*20)\n",
    "\n",
    "l=[10,20,30,40]\n",
    "j=(\"A\",\"b\",\"c\",\"d\")\n",
    "l+=list(j)\n",
    "print(l)\n",
    "\n",
    "print(\"--*--\"*20)\n",
    "\n",
    "l=[10,20,30,40]\n",
    "j=(\"A\",\"b\",\"c\",\"d\")\n",
    "j+=tuple(l)\n",
    "print(j)\n",
    "\n",
    "print(\"--*--\"*20)"
   ]
  },
  {
   "attachments": {},
   "cell_type": "markdown",
   "metadata": {},
   "source": [
    "42.WAS to concat the list value and tuple value with out type casting."
   ]
  },
  {
   "cell_type": "code",
   "execution_count": 9,
   "metadata": {},
   "outputs": [
    {
     "name": "stdout",
     "output_type": "stream",
     "text": [
      "['a', 'b', 'c', 'd', 1, 2, 3, 4, 5, 6]\n"
     ]
    },
    {
     "ename": "TypeError",
     "evalue": "can only concatenate tuple (not \"list\") to tuple",
     "output_type": "error",
     "traceback": [
      "\u001b[1;31m---------------------------------------------------------------------------\u001b[0m",
      "\u001b[1;31mTypeError\u001b[0m                                 Traceback (most recent call last)",
      "Cell \u001b[1;32mIn[9], line 8\u001b[0m\n\u001b[0;32m      6\u001b[0m l\u001b[39m=\u001b[39m[\u001b[39m'\u001b[39m\u001b[39ma\u001b[39m\u001b[39m'\u001b[39m,\u001b[39m'\u001b[39m\u001b[39mb\u001b[39m\u001b[39m'\u001b[39m,\u001b[39m'\u001b[39m\u001b[39mc\u001b[39m\u001b[39m'\u001b[39m,\u001b[39m'\u001b[39m\u001b[39md\u001b[39m\u001b[39m'\u001b[39m]\n\u001b[0;32m      7\u001b[0m t\u001b[39m=\u001b[39m(\u001b[39m1\u001b[39m,\u001b[39m2\u001b[39m,\u001b[39m3\u001b[39m,\u001b[39m4\u001b[39m,\u001b[39m5\u001b[39m,\u001b[39m6\u001b[39m)\n\u001b[1;32m----> 8\u001b[0m t\u001b[39m+\u001b[39;49m\u001b[39m=\u001b[39;49ml\n\u001b[0;32m      9\u001b[0m \u001b[39mprint\u001b[39m(l)\n",
      "\u001b[1;31mTypeError\u001b[0m: can only concatenate tuple (not \"list\") to tuple"
     ]
    }
   ],
   "source": [
    "l=['a','b','c','d']\n",
    "t=(1,2,3,4,5,6)\n",
    "l+=t\n",
    "print(l)\n",
    "\n",
    "l=['a','b','c','d']\n",
    "t=(1,2,3,4,5,6)\n",
    "t+=l\n",
    "print(l)"
   ]
  },
  {
   "attachments": {},
   "cell_type": "markdown",
   "metadata": {},
   "source": [
    "43.WAS to the given number is divisible by 3."
   ]
  },
  {
   "cell_type": "code",
   "execution_count": 11,
   "metadata": {},
   "outputs": [
    {
     "name": "stdout",
     "output_type": "stream",
     "text": [
      "True\n",
      "False\n"
     ]
    }
   ],
   "source": [
    "n=15\n",
    "res=n%3==0\n",
    "print(res)\n",
    "\n",
    "n=19\n",
    "res=n%3==0\n",
    "print(res)"
   ]
  },
  {
   "attachments": {},
   "cell_type": "markdown",
   "metadata": {},
   "source": [
    "44.WAS to the given number is divisible by 2 and 6."
   ]
  },
  {
   "cell_type": "code",
   "execution_count": 14,
   "metadata": {},
   "outputs": [
    {
     "name": "stdout",
     "output_type": "stream",
     "text": [
      "False\n",
      "True\n"
     ]
    }
   ],
   "source": [
    "n=16\n",
    "d=n%2==0 and n%6==0\n",
    "print(d)\n",
    "\n",
    "n=24\n",
    "d=n%2==0 and n%6==0\n",
    "print(d)\n"
   ]
  },
  {
   "attachments": {},
   "cell_type": "markdown",
   "metadata": {},
   "source": [
    "45.WAp to extract the last digit from given last integer number .(with out using typecasting). "
   ]
  },
  {
   "cell_type": "code",
   "execution_count": 15,
   "metadata": {},
   "outputs": [
    {
     "name": "stdout",
     "output_type": "stream",
     "text": [
      "9\n",
      "69\n",
      "569\n",
      "1569\n"
     ]
    }
   ],
   "source": [
    "n=1569\n",
    "res=(n%10)\n",
    "print(res)\n",
    "\n",
    "n=1569\n",
    "res=(n%100)\n",
    "print(res)\n",
    "\n",
    "n=1569\n",
    "res=(n%1000)\n",
    "print(res)\n",
    "\n",
    "n=1569\n",
    "res=(n%10000)\n",
    "print(res)"
   ]
  },
  {
   "attachments": {},
   "cell_type": "markdown",
   "metadata": {},
   "source": [
    "46.WAP to eliminate last digit from the given list."
   ]
  },
  {
   "cell_type": "code",
   "execution_count": 19,
   "metadata": {},
   "outputs": [
    {
     "name": "stdout",
     "output_type": "stream",
     "text": [
      "156\n",
      "15\n",
      "1\n",
      "0\n"
     ]
    }
   ],
   "source": [
    "n=1569\n",
    "res=(n//10)\n",
    "print(res)\n",
    "\n",
    "n=1569\n",
    "res=(n//100)\n",
    "print(res)\n",
    "\n",
    "n=1569\n",
    "res=(n//1000)\n",
    "print(res)\n",
    "\n",
    "n=1569\n",
    "res=(n//10000)\n",
    "print(res)"
   ]
  },
  {
   "attachments": {},
   "cell_type": "markdown",
   "metadata": {},
   "source": [
    "47.WAS to extract the last second digit from given integer number.(with out typecasting)"
   ]
  },
  {
   "cell_type": "code",
   "execution_count": 5,
   "metadata": {},
   "outputs": [
    {
     "name": "stdout",
     "output_type": "stream",
     "text": [
      "7\n",
      "8\n",
      "1\n",
      "9\n"
     ]
    }
   ],
   "source": [
    "n=1879\n",
    "res=(n%100)//10\n",
    "print(res)\n",
    "\n",
    "n=1879\n",
    "res=(n%1000)//100\n",
    "print(res) \n",
    "\n",
    "n=1879\n",
    "res=(n%10000)//1000\n",
    "print(res)\n",
    "\n",
    "n=1879\n",
    "res=(n%10)\n",
    "print(res)"
   ]
  },
  {
   "attachments": {},
   "cell_type": "markdown",
   "metadata": {},
   "source": [
    "48.WAS to the given number , the last digit is divisible by 3.(don't use typecasting)"
   ]
  },
  {
   "cell_type": "code",
   "execution_count": 2,
   "metadata": {},
   "outputs": [
    {
     "name": "stdout",
     "output_type": "stream",
     "text": [
      "True\n"
     ]
    }
   ],
   "source": [
    "n=1569\n",
    "res=((n%10)%3)==0\n",
    "print(res)"
   ]
  },
  {
   "attachments": {},
   "cell_type": "markdown",
   "metadata": {},
   "source": [
    "49.WAS to the given number , the last digit is divisible by 3.(with typecasting)"
   ]
  },
  {
   "cell_type": "code",
   "execution_count": 4,
   "metadata": {},
   "outputs": [
    {
     "name": "stdout",
     "output_type": "stream",
     "text": [
      "9 <class 'str'>\n",
      "9 <class 'int'>\n",
      "True <class 'bool'>\n"
     ]
    }
   ],
   "source": [
    "n=1569\n",
    "res=(str(n)[-1])\n",
    "print(res,type(res))\n",
    "\n",
    "res1=int(str(n)[-1])\n",
    "print(res1,type(res1))\n",
    "\n",
    "res1=(int(str(n)[-1])%3)==0\n",
    "print(res1,type(res1))"
   ]
  },
  {
   "attachments": {},
   "cell_type": "markdown",
   "metadata": {},
   "source": [
    "50.WAC to the given number is greater than 150."
   ]
  },
  {
   "cell_type": "code",
   "execution_count": 24,
   "metadata": {},
   "outputs": [
    {
     "name": "stdout",
     "output_type": "stream",
     "text": [
      "True\n"
     ]
    }
   ],
   "source": [
    "n=420\n",
    "res=n>150\n",
    "print(res)"
   ]
  },
  {
   "attachments": {},
   "cell_type": "markdown",
   "metadata": {},
   "source": [
    "51.WAC to check the given number is greater than or equal to 100."
   ]
  },
  {
   "cell_type": "code",
   "execution_count": 25,
   "metadata": {},
   "outputs": [
    {
     "name": "stdout",
     "output_type": "stream",
     "text": [
      "True\n"
     ]
    }
   ],
   "source": [
    "n=420\n",
    "res=(n>=100)\n",
    "print(res)"
   ]
  },
  {
   "attachments": {},
   "cell_type": "markdown",
   "metadata": {},
   "source": [
    "52.WAC to check the given number is less than 150, print the result."
   ]
  },
  {
   "cell_type": "code",
   "execution_count": 28,
   "metadata": {},
   "outputs": [
    {
     "name": "stdout",
     "output_type": "stream",
     "text": [
      "False\n"
     ]
    }
   ],
   "source": [
    "n=150\n",
    "res=(n<150)\n",
    "print(res)"
   ]
  },
  {
   "attachments": {},
   "cell_type": "markdown",
   "metadata": {},
   "source": [
    "53.WAC to check the given number is less than or equal to 150, print the result."
   ]
  },
  {
   "cell_type": "code",
   "execution_count": 29,
   "metadata": {},
   "outputs": [
    {
     "name": "stdout",
     "output_type": "stream",
     "text": [
      "True\n"
     ]
    }
   ],
   "source": [
    "n=150\n",
    "res=(n<=150)\n",
    "print(res)"
   ]
  },
  {
   "attachments": {},
   "cell_type": "markdown",
   "metadata": {},
   "source": [
    "54.WAC to check the given number is greater than 15 &less than 24, print the result."
   ]
  },
  {
   "cell_type": "code",
   "execution_count": 1,
   "metadata": {},
   "outputs": [
    {
     "name": "stdout",
     "output_type": "stream",
     "text": [
      "True\n",
      "True\n",
      "True\n"
     ]
    }
   ],
   "source": [
    "n=20\n",
    "res=(n>15 and n<24)\n",
    "print(res)\n",
    "\n",
    "n=20\n",
    "res=(15<n and n<24)\n",
    "print(res)\n",
    "\n",
    "n=20\n",
    "res=(15< n<24)\n",
    "print(res)\n",
    "\n"
   ]
  },
  {
   "attachments": {},
   "cell_type": "markdown",
   "metadata": {},
   "source": [
    "55.WAS to the number is even."
   ]
  },
  {
   "cell_type": "code",
   "execution_count": 31,
   "metadata": {},
   "outputs": [
    {
     "name": "stdout",
     "output_type": "stream",
     "text": [
      "True\n"
     ]
    }
   ],
   "source": [
    "n=18\n",
    "res=(n%2==0)\n",
    "print(res)\n",
    "\n"
   ]
  },
  {
   "attachments": {},
   "cell_type": "markdown",
   "metadata": {},
   "source": [
    "56.WAS to the given number is odd."
   ]
  },
  {
   "cell_type": "code",
   "execution_count": 32,
   "metadata": {},
   "outputs": [
    {
     "name": "stdout",
     "output_type": "stream",
     "text": [
      "False\n",
      "False\n"
     ]
    }
   ],
   "source": [
    "n=18\n",
    "res=(n%2!=0)\n",
    "print(res)\n",
    "\n",
    "n=18\n",
    "res=not(n%2==0)\n",
    "print(res)"
   ]
  },
  {
   "attachments": {},
   "cell_type": "markdown",
   "metadata": {},
   "source": [
    "57.WAS to perform the replication or repetition of a given string with 6 times."
   ]
  },
  {
   "cell_type": "code",
   "execution_count": 33,
   "metadata": {},
   "outputs": [
    {
     "name": "stdout",
     "output_type": "stream",
     "text": [
      "haiihaiihaiihaiihaiihaii\n"
     ]
    }
   ],
   "source": [
    "b=\"haii\"\n",
    "res=(b*6)\n",
    "print(res)"
   ]
  },
  {
   "attachments": {},
   "cell_type": "markdown",
   "metadata": {},
   "source": [
    "58.WAE to check the given number is divisible by 3 and also the number should be greater than 22. "
   ]
  },
  {
   "cell_type": "code",
   "execution_count": 35,
   "metadata": {},
   "outputs": [
    {
     "name": "stdout",
     "output_type": "stream",
     "text": [
      "True\n",
      "False\n"
     ]
    }
   ],
   "source": [
    "n=27\n",
    "res=(n%3==0) and (n>22)\n",
    "print(res)\n",
    "\n",
    "n=29\n",
    "res=(n%3==0) and (n>22)\n",
    "print(res)"
   ]
  },
  {
   "attachments": {},
   "cell_type": "markdown",
   "metadata": {},
   "source": [
    "59.WAC to perform the length of the collection is even or not. "
   ]
  },
  {
   "cell_type": "code",
   "execution_count": 42,
   "metadata": {},
   "outputs": [
    {
     "name": "stdout",
     "output_type": "stream",
     "text": [
      "False\n",
      "True\n"
     ]
    }
   ],
   "source": [
    "a=[1,2,23,45,56,7,8,9,5,6,6]\n",
    "res=(len(a)%2==0)\n",
    "print(res)\n",
    "\n",
    "a=[1,2,23,45,56,7,8,9,5,6]\n",
    "res=(len(a)%2==0)\n",
    "print(res)"
   ]
  },
  {
   "cell_type": "code",
   "execution_count": 44,
   "metadata": {},
   "outputs": [
    {
     "name": "stdout",
     "output_type": "stream",
     "text": [
      "True\n"
     ]
    }
   ],
   "source": [
    "n=\"helloworld\"\n",
    "res=(len(n)%2==0)\n",
    "print(res)"
   ]
  },
  {
   "attachments": {},
   "cell_type": "markdown",
   "metadata": {},
   "source": [
    "60.WAC to perform length of the collection is less than 55 and greater than 16."
   ]
  },
  {
   "cell_type": "code",
   "execution_count": 47,
   "metadata": {},
   "outputs": [
    {
     "name": "stdout",
     "output_type": "stream",
     "text": [
      "True\n"
     ]
    }
   ],
   "source": [
    "n=\"*\"*52\n",
    "res=(16<len(n)<55)\n",
    "print(res)"
   ]
  },
  {
   "attachments": {},
   "cell_type": "markdown",
   "metadata": {},
   "source": [
    "61.WAS to check the length of the collection is divisible by 5 and odd."
   ]
  },
  {
   "cell_type": "code",
   "execution_count": 54,
   "metadata": {},
   "outputs": [
    {
     "name": "stdout",
     "output_type": "stream",
     "text": [
      "False\n",
      "True\n"
     ]
    }
   ],
   "source": [
    "n=\"HELLOWORLDHAII\"\n",
    "res=(len(n)%5==0 and len(n)%2!=0)\n",
    "print(res)\n",
    "\n",
    "n=\"HELLOWORLDHAII \"\n",
    "res=(len(n)%5==0 and len(n)%2!=0)\n",
    "print(res)"
   ]
  },
  {
   "attachments": {},
   "cell_type": "markdown",
   "metadata": {},
   "source": [
    "62.WAS to extract the middle position value of a given collection .(str,list,tuple)"
   ]
  },
  {
   "cell_type": "code",
   "execution_count": 49,
   "metadata": {},
   "outputs": [
    {
     "name": "stdout",
     "output_type": "stream",
     "text": [
      "I\n",
      "3\n",
      "a\n"
     ]
    }
   ],
   "source": [
    "s=\"PYSPIDERS\"\n",
    "res=s[len(s)//2]\n",
    "print(res)\n",
    "\n",
    "s=[1,2,3,4,5]\n",
    "res=s[len(s)//2]\n",
    "print(res)\n",
    "\n",
    "s=(10,\"a\",20)\n",
    "res=s[len(s)//2]\n",
    "print(res)\n",
    "\n"
   ]
  },
  {
   "attachments": {},
   "cell_type": "markdown",
   "metadata": {},
   "source": [
    "63.WAS to check the given  number is greater than 20 and less than 30 and it should be even . "
   ]
  },
  {
   "cell_type": "code",
   "execution_count": 55,
   "metadata": {},
   "outputs": [
    {
     "name": "stdout",
     "output_type": "stream",
     "text": [
      "True\n"
     ]
    }
   ],
   "source": [
    "n=26\n",
    "res=(20<n<30) and (n%2==0)\n",
    "print(res)"
   ]
  },
  {
   "attachments": {},
   "cell_type": "markdown",
   "metadata": {},
   "source": [
    "64.WAS to the given number is even and should be less than 120."
   ]
  },
  {
   "cell_type": "code",
   "execution_count": 57,
   "metadata": {},
   "outputs": [
    {
     "name": "stdout",
     "output_type": "stream",
     "text": [
      "True\n"
     ]
    }
   ],
   "source": [
    "n=116\n",
    "res=(n<120) and (n%2==0)\n",
    "print(res)"
   ]
  },
  {
   "attachments": {},
   "cell_type": "markdown",
   "metadata": {},
   "source": [
    "65.WAS to the given number is even and present from 40 to 70."
   ]
  },
  {
   "cell_type": "code",
   "execution_count": 59,
   "metadata": {},
   "outputs": [
    {
     "name": "stdout",
     "output_type": "stream",
     "text": [
      "True\n",
      "False\n"
     ]
    }
   ],
   "source": [
    "n=56\n",
    "res=(40<=n<=70) and (n%2==0)\n",
    "print(res)  \n",
    "\n",
    "n=99\n",
    "res=(40<=n<=70) and (n%2==0)\n",
    "print(res)"
   ]
  },
  {
   "attachments": {},
   "cell_type": "markdown",
   "metadata": {},
   "source": [
    "66.WAC to the given number is odd and it should be greater than 97. "
   ]
  },
  {
   "cell_type": "code",
   "execution_count": 8,
   "metadata": {},
   "outputs": [
    {
     "name": "stdout",
     "output_type": "stream",
     "text": [
      "True\n",
      "False\n"
     ]
    }
   ],
   "source": [
    "a=107\n",
    "res=(a%2!=0)and(a>97)\n",
    "print(res)\n",
    "\n",
    "a=108\n",
    "res=(a%2!=0)and(a>97)\n",
    "print(res)"
   ]
  },
  {
   "attachments": {},
   "cell_type": "markdown",
   "metadata": {},
   "source": [
    "67.WAC to the given number is less than 122 and greater than 48 and the number should be divisible by 4."
   ]
  },
  {
   "cell_type": "code",
   "execution_count": 9,
   "metadata": {},
   "outputs": [
    {
     "name": "stdout",
     "output_type": "stream",
     "text": [
      "False\n"
     ]
    }
   ],
   "source": [
    "a=78\n",
    "res=(48<a<122) and (a%4==0)\n",
    "print(res)"
   ]
  },
  {
   "attachments": {},
   "cell_type": "markdown",
   "metadata": {},
   "source": [
    "68.WAC to the given number is divisible by 3 or 5 display the value. "
   ]
  },
  {
   "cell_type": "code",
   "execution_count": 12,
   "metadata": {},
   "outputs": [
    {
     "name": "stdout",
     "output_type": "stream",
     "text": [
      "True\n",
      "True\n",
      "False\n"
     ]
    }
   ],
   "source": [
    "a=33\n",
    "res=(a%3==0) or (a%5==0)\n",
    "print(res)  \n",
    "\n",
    "a=55\n",
    "res=(a%3==0) or (a%5==0)\n",
    "print(res) \n",
    "\n",
    "a=32\n",
    "res=(a%3==0) or (a%5==0)\n",
    "print(res) "
   ]
  },
  {
   "attachments": {},
   "cell_type": "markdown",
   "metadata": {},
   "source": [
    "69.WAC to the given number is between 100 to 200 including the limit."
   ]
  },
  {
   "cell_type": "code",
   "execution_count": 14,
   "metadata": {},
   "outputs": [
    {
     "name": "stdout",
     "output_type": "stream",
     "text": [
      "True\n",
      "False\n"
     ]
    }
   ],
   "source": [
    "a=155\n",
    "res=(100<a<200)\n",
    "print(res)\n",
    "\n",
    "a=205\n",
    "res=(100<a<200)\n",
    "print(res)"
   ]
  },
  {
   "attachments": {},
   "cell_type": "markdown",
   "metadata": {},
   "source": [
    "70.WAC to the given number is even or less than 25."
   ]
  },
  {
   "cell_type": "code",
   "execution_count": 19,
   "metadata": {},
   "outputs": [
    {
     "name": "stdout",
     "output_type": "stream",
     "text": [
      "True\n",
      "True\n",
      "False\n"
     ]
    }
   ],
   "source": [
    "a=16\n",
    "res=(a%2==0) or (a<25)\n",
    "print(res)\n",
    "\n",
    "a=44\n",
    "res=(a%2==0) or (a<25)\n",
    "print(res)\n",
    "\n",
    "a=45\n",
    "res=(a%2==0) or (a<25)\n",
    "print(res)\n",
    "\n",
    "\n"
   ]
  },
  {
   "attachments": {},
   "cell_type": "markdown",
   "metadata": {},
   "source": [
    "71.WAC to the given number is even or greater than 25."
   ]
  },
  {
   "cell_type": "code",
   "execution_count": 22,
   "metadata": {},
   "outputs": [
    {
     "name": "stdout",
     "output_type": "stream",
     "text": [
      "True\n",
      "True\n",
      "True\n",
      "True\n",
      "False\n",
      "False\n"
     ]
    }
   ],
   "source": [
    "a=16\n",
    "res=(a%2==0) or (a<25)\n",
    "print(res)\n",
    "\n",
    "a=43\n",
    "res=(a%2==0) or (a>25)\n",
    "print(res)\n",
    "\n",
    "a=50\n",
    "res=(a%2==0) or (a>25)\n",
    "print(res)\n",
    "\n",
    "a=16\n",
    "res=(a%2==0) or (a>25)\n",
    "print(res)\n",
    "\n",
    "a=23\n",
    "res=(a%2==0) or (a>25)\n",
    "print(res)\n",
    "\n",
    "a=13\n",
    "res=(a%2==0) or (a>25)\n",
    "print(res)"
   ]
  },
  {
   "attachments": {},
   "cell_type": "markdown",
   "metadata": {},
   "source": [
    "72.WAC to the given number is divisible by either 3 or 5. "
   ]
  },
  {
   "cell_type": "code",
   "execution_count": 24,
   "metadata": {},
   "outputs": [
    {
     "name": "stdout",
     "output_type": "stream",
     "text": [
      "True\n",
      "False\n",
      "True\n"
     ]
    }
   ],
   "source": [
    "a=155\n",
    "res=(a%3==0) or (a%5==0)\n",
    "print(res)\n",
    "\n",
    "a=23\n",
    "res=(a%3==0) or (a%5==0)\n",
    "print(res)\n",
    "\n",
    "a=27\n",
    "res=(a%3==0) or (a%5==0)\n",
    "print(res)\n",
    "\n"
   ]
  },
  {
   "attachments": {},
   "cell_type": "markdown",
   "metadata": {},
   "source": [
    "73.WAC to the given number is not an even number."
   ]
  },
  {
   "cell_type": "code",
   "execution_count": 26,
   "metadata": {},
   "outputs": [
    {
     "name": "stdout",
     "output_type": "stream",
     "text": [
      "True\n",
      "False\n"
     ]
    }
   ],
   "source": [
    "a=55\n",
    "res=(a%2!=0)\n",
    "print(res)\n",
    "\n",
    "a=24\n",
    "res=(a%2!=0)\n",
    "print(res)"
   ]
  },
  {
   "attachments": {},
   "cell_type": "markdown",
   "metadata": {},
   "source": [
    "74.WAC to the given number is not a number."
   ]
  },
  {
   "cell_type": "code",
   "execution_count": 27,
   "metadata": {},
   "outputs": [
    {
     "name": "stdout",
     "output_type": "stream",
     "text": [
      "True\n",
      "False\n"
     ]
    }
   ],
   "source": [
    "a=54\n",
    "res=(a%2==0)\n",
    "print(res)\n",
    "\n",
    "a=25\n",
    "res=(a%2==0)\n",
    "print(res)"
   ]
  },
  {
   "attachments": {},
   "cell_type": "markdown",
   "metadata": {},
   "source": [
    "75.WAC to the given number is not divisible by 3."
   ]
  },
  {
   "cell_type": "code",
   "execution_count": 28,
   "metadata": {},
   "outputs": [
    {
     "name": "stdout",
     "output_type": "stream",
     "text": [
      "True\n",
      "False\n"
     ]
    }
   ],
   "source": [
    "a=77\n",
    "res=(a%3!=0)\n",
    "print(res)\n",
    "\n",
    "a=33\n",
    "res=(a%3!=0)\n",
    "print(res)"
   ]
  },
  {
   "attachments": {},
   "cell_type": "markdown",
   "metadata": {},
   "source": [
    "76.WAC to the given number is not divisible by 3 and 5."
   ]
  },
  {
   "cell_type": "code",
   "execution_count": 31,
   "metadata": {},
   "outputs": [
    {
     "name": "stdout",
     "output_type": "stream",
     "text": [
      "True\n",
      "False\n"
     ]
    }
   ],
   "source": [
    "a=76\n",
    "res=(a%3!=0) and (a%5!=0)\n",
    "print(res)\n",
    "\n",
    "a=15\n",
    "res=(a%3!=0) and (a%5!=0)\n",
    "print(res)"
   ]
  },
  {
   "attachments": {},
   "cell_type": "markdown",
   "metadata": {},
   "source": [
    "77.WAC to the given number is present between 60 t0 130 and the number should be divisible by 3 and 4 and the last digit should be greater than 9. "
   ]
  },
  {
   "cell_type": "code",
   "execution_count": 1,
   "metadata": {},
   "outputs": [
    {
     "name": "stdout",
     "output_type": "stream",
     "text": [
      "True\n"
     ]
    }
   ],
   "source": [
    "a=120\n",
    "res=(60<a<130) and (a%3==0) and (a%4==0)\n",
    "print(res)"
   ]
  },
  {
   "attachments": {},
   "cell_type": "markdown",
   "metadata": {},
   "source": [
    "78.WAC to the given character ASCII value is not divisible by 5.\n",
    "\n",
    "WAC to the given string's last character ASCII value should not be divisible by 5."
   ]
  },
  {
   "attachments": {},
   "cell_type": "markdown",
   "metadata": {},
   "source": [
    "78.WAE to find out the ASCII character in a given number. "
   ]
  },
  {
   "cell_type": "code",
   "execution_count": 2,
   "metadata": {},
   "outputs": [
    {
     "name": "stdout",
     "output_type": "stream",
     "text": [
      "C\n",
      "A\n",
      "Z\n",
      "z\n",
      "0\n",
      "6\n",
      "\u0000\n",
      ":\n"
     ]
    }
   ],
   "source": [
    "a=67\n",
    "print(chr(a))\n",
    "\n",
    "a=65\n",
    "print(chr(a))\n",
    "\n",
    "a=90\n",
    "print(chr(a))\n",
    "\n",
    "a=122\n",
    "print(chr(a))\n",
    "\n",
    "a=48\n",
    "print(chr(a))\n",
    "\n",
    "a=54\n",
    "print(chr(a))\n",
    "\n",
    "a=0\n",
    "print(chr(a))\n",
    "\n",
    "a=58\n",
    "print(chr(a))"
   ]
  },
  {
   "attachments": {},
   "cell_type": "markdown",
   "metadata": {},
   "source": [
    "79.WAE to find out the ASCII value in a given character."
   ]
  },
  {
   "cell_type": "code",
   "execution_count": 3,
   "metadata": {},
   "outputs": [
    {
     "name": "stdout",
     "output_type": "stream",
     "text": [
      "65\n",
      "90\n",
      "122\n",
      "90\n",
      "48\n"
     ]
    }
   ],
   "source": [
    "ch='A'\n",
    "print(ord(ch))\n",
    "\n",
    "chr='Z'\n",
    "print(ord(chr))\n",
    "\n",
    "A='z'\n",
    "print(ord(A))\n",
    "\n",
    "ch='Z'\n",
    "print(ord(ch))\n",
    "\n",
    "ch='0'\n",
    "print(ord(ch))\n"
   ]
  },
  {
   "attachments": {},
   "cell_type": "markdown",
   "metadata": {},
   "source": [
    "80.WAC to convert uppercase to lowercase ."
   ]
  },
  {
   "cell_type": "code",
   "execution_count": 5,
   "metadata": {},
   "outputs": [
    {
     "name": "stdout",
     "output_type": "stream",
     "text": [
      "a\n",
      "a\n",
      "A\n"
     ]
    }
   ],
   "source": [
    "ch='A'     \n",
    "print(chr(ord(ch)+32))\n",
    "\n",
    "#with out using any functions\n",
    "#we can use utility functions they are ASCII ,ord\n",
    "\n",
    "ch='A'\n",
    "print(ch.lower())\n",
    "\n",
    "#upper case\n",
    "\n",
    "ch='a'                 \n",
    "print(chr(ord(ch)-32))\n",
    "\n"
   ]
  },
  {
   "attachments": {},
   "cell_type": "markdown",
   "metadata": {},
   "source": [
    "81.WAE to check the given character is uppercase or not."
   ]
  },
  {
   "cell_type": "code",
   "execution_count": 4,
   "metadata": {},
   "outputs": [
    {
     "name": "stdout",
     "output_type": "stream",
     "text": [
      "True\n",
      "True\n",
      "True\n",
      "False\n",
      "False\n",
      "True\n"
     ]
    }
   ],
   "source": [
    "ch=\"Y\"\n",
    "print(65<=ord(ch)<=90)\n",
    " \n",
    "ch=\"Ya\"\n",
    "print(chr(65) <= ch <= chr(90))\n",
    "\n",
    "ch=\"M\"\n",
    "print(\"A\" <= ch <= \"Z\")\n",
    "\n",
    "ch=\"Ya\"\n",
    "print(len(ch)==1) and chr(65)<=chr<=chr(90)\n",
    "\n",
    "ch=\"Ma\"\n",
    "print(len(ch)==1 and \"A\"<=ch<=\"Z\")\n",
    "\n",
    "ch=\"MA\"\n",
    "print(ch.isupper()) # is upper will support each character in the string"
   ]
  },
  {
   "attachments": {},
   "cell_type": "markdown",
   "metadata": {},
   "source": [
    "82.WAE to check the given character is lower case or not."
   ]
  },
  {
   "cell_type": "code",
   "execution_count": 3,
   "metadata": {},
   "outputs": [
    {
     "name": "stdout",
     "output_type": "stream",
     "text": [
      "True\n",
      "True\n",
      "False\n",
      "False\n",
      "False\n",
      "False\n"
     ]
    }
   ],
   "source": [
    "ch='a'\n",
    "print(97<=ord(ch)<=122)\n",
    "\n",
    "ch='yA'\n",
    "print(chr(97)<=ch<=chr(122))\n",
    "\n",
    "ch='m'\n",
    "print('A'<=ch<='Z')\n",
    "\n",
    "ch='aY'\n",
    "print(len(ch)==1) and chr(97)<=chr<=chr(122)  #len(ch) is taken as 2 bcz aY are 2\n",
    "\n",
    "ch='Ma'\n",
    "print(len(ch)==1 and 'A'<=ch<='Z')\n",
    "\n",
    "ch='at'\n",
    "print(ch.isupper())                     #each string is considered"
   ]
  },
  {
   "attachments": {},
   "cell_type": "markdown",
   "metadata": {},
   "source": [
    "83.WAE to check the given character is alphabet or not."
   ]
  },
  {
   "cell_type": "code",
   "execution_count": 2,
   "metadata": {},
   "outputs": [
    {
     "name": "stdout",
     "output_type": "stream",
     "text": [
      "True\n",
      "True\n",
      "False\n",
      "True\n",
      "False\n",
      "True\n"
     ]
    },
    {
     "data": {
      "text/plain": [
       "True"
      ]
     },
     "execution_count": 2,
     "metadata": {},
     "output_type": "execute_result"
    }
   ],
   "source": [
    "ch='a'\n",
    "print(97<=ord(ch)<=122 or 65<=ord(ch)<=90)\n",
    "\n",
    "\n",
    "ch='yA'\n",
    "print(chr(97)<=ch<=chr(122) or chr(65)<=ch<=chr(90))\n",
    "\n",
    "ch='aY'\n",
    "print(len(ch)==1) and chr(97)<=chr<=chr(122) or (len(ch)==1 and chr(65)<=chr<=chr(90))\n",
    "\n",
    "ch='m'\n",
    "print('A'<=ch<='Z' or 'a'<=ch<='z')\n",
    "\n",
    "ch='Ma'\n",
    "print(len(ch)==1 and 'A'<=ch<='Z') or (len(ch)==1 and 'a'<=ch<='z')\n",
    "\n",
    "ch='at'\n",
    "print(ch.isupper() or ch.islower())\n",
    "\n",
    "ch='a'\n",
    "ch.isalpha()"
   ]
  },
  {
   "attachments": {},
   "cell_type": "markdown",
   "metadata": {},
   "source": [
    "84.WAE to check the given number is ASCII or not."
   ]
  },
  {
   "cell_type": "code",
   "execution_count": 7,
   "metadata": {},
   "outputs": [
    {
     "name": "stdout",
     "output_type": "stream",
     "text": [
      "True\n",
      "True\n",
      "True\n",
      "True\n",
      "True\n"
     ]
    }
   ],
   "source": [
    "ch='9'\n",
    "print(chr(48) <= ch <= chr(57))\n",
    "\n",
    "#or\n",
    "\n",
    "ch='8'\n",
    "print('0'<=ch<='9')\n",
    "\n",
    "#or\n",
    "\n",
    "ch='B'\n",
    "print(len(ch)==1) and chr('0')<=chr<=chr('9')\n",
    "\n",
    "#or\n",
    "\n",
    "ch='6'\n",
    "print(len(ch)==1 and '0'<=ch<='9')\n",
    "\n",
    "#or\n",
    "\n",
    "ch='89'\n",
    "print(ch.isnumeric())\n",
    "\n"
   ]
  },
  {
   "attachments": {},
   "cell_type": "markdown",
   "metadata": {},
   "source": [
    "85.WAE to check the given character is special character or not."
   ]
  },
  {
   "cell_type": "code",
   "execution_count": 11,
   "metadata": {},
   "outputs": [
    {
     "ename": "TypeError",
     "evalue": "'<=' not supported between instances of 'str' and 'int'",
     "output_type": "error",
     "traceback": [
      "\u001b[1;31m---------------------------------------------------------------------------\u001b[0m",
      "\u001b[1;31mTypeError\u001b[0m                                 Traceback (most recent call last)",
      "Cell \u001b[1;32mIn[11], line 2\u001b[0m\n\u001b[0;32m      1\u001b[0m b\u001b[39m=\u001b[39m\u001b[39m'\u001b[39m\u001b[39m*\u001b[39m\u001b[39m'\u001b[39m\n\u001b[1;32m----> 2\u001b[0m a\u001b[39m=\u001b[39m\u001b[39mnot\u001b[39;00m(\u001b[39m'\u001b[39;49m\u001b[39mA\u001b[39;49m\u001b[39m'\u001b[39;49m\u001b[39m<\u001b[39;49m\u001b[39m=\u001b[39;49m\u001b[39mord\u001b[39;49m(b)\u001b[39m<\u001b[39;49m\u001b[39m=\u001b[39;49m\u001b[39m'\u001b[39;49m\u001b[39mZ\u001b[39;49m\u001b[39m'\u001b[39;49m \u001b[39mor\u001b[39;00m \u001b[39m'\u001b[39m\u001b[39ma\u001b[39m\u001b[39m'\u001b[39m\u001b[39m<\u001b[39m\u001b[39m=\u001b[39m\u001b[39mord\u001b[39m(b)\u001b[39m<\u001b[39m\u001b[39m=\u001b[39m\u001b[39m'\u001b[39m\u001b[39mz\u001b[39m\u001b[39m'\u001b[39m \u001b[39mor\u001b[39;00m \u001b[39m'\u001b[39m\u001b[39m0\u001b[39m\u001b[39m'\u001b[39m\u001b[39m<\u001b[39m\u001b[39m=\u001b[39m\u001b[39mord\u001b[39m(b)\u001b[39m<\u001b[39m\u001b[39m=\u001b[39m\u001b[39m'\u001b[39m\u001b[39m9\u001b[39m\u001b[39m'\u001b[39m)\n\u001b[0;32m      3\u001b[0m \u001b[39mprint\u001b[39m(a)\n\u001b[0;32m      5\u001b[0m b\u001b[39m=\u001b[39m(\u001b[39m1\u001b[39m\u001b[39m<\u001b[39m\u001b[39m=\u001b[39m\u001b[39mord\u001b[39m(b)\u001b[39m<\u001b[39m\u001b[39m=\u001b[39m\u001b[39m47\u001b[39m \u001b[39mor\u001b[39;00m \u001b[39m59\u001b[39m\u001b[39m<\u001b[39m\u001b[39m=\u001b[39m\u001b[39mord\u001b[39m(b)\u001b[39m<\u001b[39m\u001b[39m=\u001b[39m\u001b[39m64\u001b[39m \u001b[39mor\u001b[39;00m \u001b[39m91\u001b[39m\u001b[39m<\u001b[39m\u001b[39m=\u001b[39m\u001b[39mord\u001b[39m(b)\u001b[39m<\u001b[39m\u001b[39m=\u001b[39m\u001b[39m96\u001b[39m \u001b[39mor\u001b[39;00m \u001b[39m122\u001b[39m\u001b[39m<\u001b[39m\u001b[39m=\u001b[39m\u001b[39mord\u001b[39m(ch)\u001b[39m<\u001b[39m\u001b[39m=\u001b[39m\u001b[39m127\u001b[39m)\n",
      "\u001b[1;31mTypeError\u001b[0m: '<=' not supported between instances of 'str' and 'int'"
     ]
    }
   ],
   "source": [
    "b='*'\n",
    "a=not('A'<=ord(b)<='Z' or 'a'<=ord(b)<='z' or '0'<=ord(b)<='9')\n",
    "print(a)\n",
    "\n",
    "b=(1<=ord(b)<=47 or 59<=ord(b)<=64 or 91<=ord(b)<=96 or 122<=ord(ch)<=127)\n",
    "print(b)"
   ]
  },
  {
   "attachments": {},
   "cell_type": "markdown",
   "metadata": {},
   "source": [
    "86.WAE to check the given character should not be upper case."
   ]
  },
  {
   "cell_type": "code",
   "execution_count": 13,
   "metadata": {},
   "outputs": [
    {
     "name": "stdout",
     "output_type": "stream",
     "text": [
      "True\n",
      "True\n",
      "False\n"
     ]
    }
   ],
   "source": [
    "ch='G'\n",
    "print(len(ch)==1 and not ('a'<=ch<='z'))\n",
    "\n",
    "ch='D'\n",
    "print(len(ch)==1 and not ('a'<=ch<='z'))\n",
    "\n",
    "ch='a'\n",
    "print(len(ch)==1 and not ('a'<=ch<='z'))\n"
   ]
  },
  {
   "attachments": {},
   "cell_type": "markdown",
   "metadata": {},
   "source": [
    "87.WAS extrct the previous characters in the given character.\n",
    "  for d previous character is c and after cahracter is e so print both."
   ]
  },
  {
   "cell_type": "code",
   "execution_count": 15,
   "metadata": {},
   "outputs": [
    {
     "name": "stdout",
     "output_type": "stream",
     "text": [
      "D\n",
      "68\n",
      "C D E\n"
     ]
    }
   ],
   "source": [
    "ch='D'\n",
    "print(chr(ord(ch)))\n",
    "print(ord(ch))\n",
    "\n",
    "print(chr(ord(ch)-1),ch,chr(ord(ch)+1))"
   ]
  },
  {
   "attachments": {},
   "cell_type": "markdown",
   "metadata": {},
   "source": [
    "88.WAE to check the given number is a special character or not."
   ]
  },
  {
   "cell_type": "code",
   "execution_count": 16,
   "metadata": {},
   "outputs": [
    {
     "name": "stdout",
     "output_type": "stream",
     "text": [
      "]\n",
      "True\n"
     ]
    }
   ],
   "source": [
    "a=93\n",
    "print(chr(a))\n",
    "\n",
    "b= not('A'<=chr(a)<='B' or 'a'<=chr(a)<='z' or '0'<=chr(a)<='9')\n",
    "print(b)"
   ]
  },
  {
   "attachments": {},
   "cell_type": "markdown",
   "metadata": {},
   "source": [
    "89.WAS to check the given character is converted to ASCII value is even as well as \n",
    "#the character should be lower"
   ]
  },
  {
   "cell_type": "code",
   "execution_count": 17,
   "metadata": {},
   "outputs": [
    {
     "name": "stdout",
     "output_type": "stream",
     "text": [
      "True\n",
      "True\n"
     ]
    }
   ],
   "source": [
    "ch='l'\n",
    "print(ord(ch)%2==0 and 'a'<=ch<='z')  # this is only possible for single character \n",
    "\n",
    "print(len(ch)==1 and ord(ch)%2==0 and 'a'<=ch<='z')   # it support multiple characters"
   ]
  },
  {
   "attachments": {},
   "cell_type": "markdown",
   "metadata": {},
   "source": [
    "90.WAS to check the given character is converted to ASCII value is even as well as \n",
    "#the given character should be upper."
   ]
  },
  {
   "cell_type": "code",
   "execution_count": 18,
   "metadata": {},
   "outputs": [
    {
     "name": "stdout",
     "output_type": "stream",
     "text": [
      "False\n",
      "False\n",
      "True\n",
      "False\n"
     ]
    }
   ],
   "source": [
    "ch='l'\n",
    "print(ord(ch)%2==0 and 'A'<=ch<='Z')  # this is only possible for single character \n",
    "\n",
    "print(len(ch)==1 and ord(ch)%2==0 and 'A'<=ch<='Z')   # it support multiple characters\n",
    "\n",
    "ch='D'\n",
    "print(ord(ch)%2==0 and 'A'<=ch<='Z')\n",
    "\n",
    "b='daa'\n",
    "print(len(b)==1 and ord(b)%2==0 and 'A'<=b<='Z')"
   ]
  },
  {
   "attachments": {},
   "cell_type": "markdown",
   "metadata": {},
   "source": [
    "91.WAS to check the given number is ASCII character is vowel."
   ]
  },
  {
   "cell_type": "code",
   "execution_count": 19,
   "metadata": {},
   "outputs": [
    {
     "name": "stdout",
     "output_type": "stream",
     "text": [
      "True\n",
      "True\n"
     ]
    }
   ],
   "source": [
    "ch=65\n",
    "res=chr(ch)=='A' or chr(ch)=='E' or chr(ch)=='I' or chr(ch)=='O' or chr(ch)=='U' or chr(ch)=='a' or chr(ch)=='e' or chr(ch)=='i' or chr(ch)=='o' or chr(ch)=='u'\n",
    "print(res)\n",
    "\n",
    "a=chr(ch) in 'AEIOUaeiou'\n",
    "print(a)"
   ]
  },
  {
   "attachments": {},
   "cell_type": "markdown",
   "metadata": {},
   "source": [
    "92.WAE to check if the first and second character are sequence or not in the given string "
   ]
  },
  {
   "cell_type": "code",
   "execution_count": 21,
   "metadata": {},
   "outputs": [
    {
     "name": "stdout",
     "output_type": "stream",
     "text": [
      "65 66 67 68\n",
      "True\n",
      "True\n"
     ]
    }
   ],
   "source": [
    "st='ABCD'\n",
    "print(ord(st[0]),ord(st[1]),ord(st[2]),ord(st[3]))\n",
    "\n",
    "print(ord(st[0])==ord(st[1])-1)\n",
    "\n",
    "\n",
    "print(ord(st[0])+1==ord(st[1]))"
   ]
  },
  {
   "attachments": {},
   "cell_type": "markdown",
   "metadata": {},
   "source": [
    "93.WAE to check the given character ASCII value should be greater then 50 or graeter than 25 or less than 112."
   ]
  },
  {
   "cell_type": "code",
   "execution_count": 22,
   "metadata": {},
   "outputs": [
    {
     "name": "stdout",
     "output_type": "stream",
     "text": [
      "True\n"
     ]
    }
   ],
   "source": [
    "a='0'\n",
    "print(25<ord(a)<112)"
   ]
  },
  {
   "attachments": {},
   "cell_type": "markdown",
   "metadata": {},
   "source": [
    "94.WAE to the given number is incresed by 1."
   ]
  },
  {
   "cell_type": "code",
   "execution_count": 23,
   "metadata": {},
   "outputs": [
    {
     "name": "stdout",
     "output_type": "stream",
     "text": [
      "6\n"
     ]
    }
   ],
   "source": [
    "n=5\n",
    "n+=1\n",
    "print(n)"
   ]
  },
  {
   "attachments": {},
   "cell_type": "markdown",
   "metadata": {},
   "source": [
    "95.WAE to the given number is dicreased by 2."
   ]
  },
  {
   "cell_type": "code",
   "execution_count": 24,
   "metadata": {},
   "outputs": [
    {
     "name": "stdout",
     "output_type": "stream",
     "text": [
      "7\n"
     ]
    }
   ],
   "source": [
    "n=5\n",
    "n+=2\n",
    "print(n)"
   ]
  },
  {
   "attachments": {},
   "cell_type": "markdown",
   "metadata": {},
   "source": [
    "96.WAE to the given number is dicreased by 3."
   ]
  },
  {
   "cell_type": "code",
   "execution_count": 25,
   "metadata": {},
   "outputs": [
    {
     "name": "stdout",
     "output_type": "stream",
     "text": [
      "8\n"
     ]
    }
   ],
   "source": [
    "n=5\n",
    "n+=3\n",
    "print(n)"
   ]
  },
  {
   "attachments": {},
   "cell_type": "markdown",
   "metadata": {},
   "source": [
    "97.WAE to the given number is dicreased by 1,2,3."
   ]
  },
  {
   "cell_type": "code",
   "execution_count": 26,
   "metadata": {},
   "outputs": [
    {
     "name": "stdout",
     "output_type": "stream",
     "text": [
      "4\n",
      "3\n",
      "2\n"
     ]
    }
   ],
   "source": [
    "n=5\n",
    "n-=1\n",
    "print(n)\n",
    "\n",
    "n=5\n",
    "n-=2\n",
    "print(n)\n",
    "\n",
    "n=5\n",
    "n-=3\n",
    "print(n)"
   ]
  },
  {
   "attachments": {},
   "cell_type": "markdown",
   "metadata": {},
   "source": [
    "98.WAE to check the givn number is present in the collection ."
   ]
  },
  {
   "cell_type": "code",
   "execution_count": 27,
   "metadata": {},
   "outputs": [
    {
     "name": "stdout",
     "output_type": "stream",
     "text": [
      "True\n",
      "True\n",
      "True\n",
      "False\n",
      "True\n"
     ]
    }
   ],
   "source": [
    "a=400\n",
    "b=[20,30,400,60,78]\n",
    "print(a in b)\n",
    "\n",
    "a=400\n",
    "b=(20,30,400,60,78)\n",
    "print(a in b)\n",
    "\n",
    "a=400\n",
    "b={20,30,400,60,78}\n",
    "print(a in b)\n",
    "\n",
    "a=256\n",
    "b={10:20,115:105,156:256}\n",
    "print(a in b)\n",
    "\n",
    "a=115\n",
    "b={10:20,115:105,156:256}\n",
    "print(a in b)\n"
   ]
  }
 ],
 "metadata": {
  "kernelspec": {
   "display_name": "Python 3",
   "language": "python",
   "name": "python3"
  },
  "language_info": {
   "codemirror_mode": {
    "name": "ipython",
    "version": 3
   },
   "file_extension": ".py",
   "mimetype": "text/x-python",
   "name": "python",
   "nbconvert_exporter": "python",
   "pygments_lexer": "ipython3",
   "version": "3.11.3"
  },
  "orig_nbformat": 4
 },
 "nbformat": 4,
 "nbformat_minor": 2
}
