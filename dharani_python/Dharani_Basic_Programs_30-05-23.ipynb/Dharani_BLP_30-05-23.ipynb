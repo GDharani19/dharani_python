{
 "cells": [
  {
   "cell_type": "code",
   "execution_count": 1,
   "metadata": {},
   "outputs": [
    {
     "data": {
      "text/plain": [
       "'Hello World'"
      ]
     },
     "execution_count": 1,
     "metadata": {},
     "output_type": "execute_result"
    }
   ],
   "source": [
    "\"Hello World\"       # WAS to print \"Hello World\" using shell"
   ]
  },
  {
   "cell_type": "code",
   "execution_count": 2,
   "metadata": {},
   "outputs": [
    {
     "name": "stdout",
     "output_type": "stream",
     "text": [
      "Hello World\n"
     ]
    }
   ],
   "source": [
    "print(\"Hello World\")               # WAS to print \"Hello World\" using print function"
   ]
  },
  {
   "cell_type": "code",
   "execution_count": 4,
   "metadata": {},
   "outputs": [
    {
     "name": "stdout",
     "output_type": "stream",
     "text": [
      "Hello World\n"
     ]
    }
   ],
   "source": [
    "a=\"Hello World\"\n",
    "print(a)"
   ]
  },
  {
   "cell_type": "code",
   "execution_count": 5,
   "metadata": {},
   "outputs": [
    {
     "data": {
      "text/plain": [
       "50"
      ]
     },
     "execution_count": 5,
     "metadata": {},
     "output_type": "execute_result"
    }
   ],
   "source": [
    "apple=50                  # to initialize variable and value as 50\n",
    "apple"
   ]
  },
  {
   "cell_type": "code",
   "execution_count": 9,
   "metadata": {},
   "outputs": [
    {
     "name": "stdout",
     "output_type": "stream",
     "text": [
      "250\n",
      "120\n",
      "150\n"
     ]
    }
   ],
   "source": [
    "raja,rani,ravi=150,120,250                    # WAS to initialize multivalue variable are 150,120,150(take your own variables) \n",
    "print(ravi)\n",
    "print(rani)\n",
    "print(raja)"
   ]
  },
  {
   "cell_type": "code",
   "execution_count": 20,
   "metadata": {},
   "outputs": [
    {
     "name": "stdout",
     "output_type": "stream",
     "text": [
      "<class 'int'>\n",
      "<class 'float'>\n",
      "<class 'complex'>\n",
      "<class 'bytes'>\n",
      "<class 'bool'>\n",
      "<class 'NoneType'>\n",
      "<class 'str'>\n",
      "<class 'list'>\n",
      "<class 'tuple'>\n",
      "<class 'set'>\n",
      "<class 'dict'>\n"
     ]
    }
   ],
   "source": [
    "a=10\n",
    "print(type(a))                      # WAS to print the type of the data in given value\n",
    "b=10.05\n",
    "print(type(b))\n",
    "c=10+2j\n",
    "print(type(c))\n",
    "d=b'1010'\n",
    "print(type(d))\n",
    "e=True\n",
    "print(type(e))\n",
    "f=None\n",
    "print(type(f))\n",
    "g=\"hello\"\n",
    "print(type(g))\n",
    "h=[10,30,40]\n",
    "print(type(h))\n",
    "i=(10,)\n",
    "print(type(i))\n",
    "j={10,20}\n",
    "print(type(j))\n",
    "k={\"a\":20}\n",
    "print(type(k))\n"
   ]
  },
  {
   "cell_type": "code",
   "execution_count": 25,
   "metadata": {},
   "outputs": [
    {
     "name": "stdout",
     "output_type": "stream",
     "text": [
      "140732981634120\n",
      "2509948621552\n",
      "2509948629872\n",
      "2509949017120\n",
      "140732980108136\n",
      "2509948841456\n",
      "2509948939008\n",
      "2509948871936\n",
      "2509948847264\n",
      "2509949110400\n",
      "140732980161736\n"
     ]
    }
   ],
   "source": [
    "a=10                    # WAS to print address of the memory block in given value\n",
    "print(id(a))\n",
    "b=10.05\n",
    "print(id(b))\n",
    "c=2+5j\n",
    "print(id(c))\n",
    "d=b'1010'\n",
    "print(id(d))\n",
    "e=True\n",
    "print(id(e))\n",
    "f=\"hello haii\"\n",
    "print(id(f))\n",
    "g=[12,13]\n",
    "print(id(g))\n",
    "h=(10,12,14)\n",
    "print(id(h))\n",
    "i={76,45}\n",
    "print(id(i))\n",
    "j={\"a\":18}\n",
    "print(id(j))\n",
    "k=None\n",
    "print(id(k))"
   ]
  },
  {
   "cell_type": "code",
   "execution_count": 26,
   "metadata": {},
   "outputs": [
    {
     "name": "stdout",
     "output_type": "stream",
     "text": [
      "dharani 22 8328602360 gottamdharani7626@gmail.com\n"
     ]
    }
   ],
   "source": [
    "name=\"dharani\"                   # procedural programming (var concept)\n",
    "age=22\n",
    "phone=\"8328602360\"\n",
    "email=\"gottamdharani7626@gmail.com\"\n",
    "print(name,age,phone,email)"
   ]
  },
  {
   "cell_type": "code",
   "execution_count": 27,
   "metadata": {},
   "outputs": [
    {
     "data": {
      "text/plain": [
       "['dharani', 22, 8328602360, 'gottamdharani7626@gmail.com']"
      ]
     },
     "execution_count": 27,
     "metadata": {},
     "output_type": "execute_result"
    }
   ],
   "source": [
    "dharani=[\"dharani\",22,8328602360,\"gottamdharani7626@gmail.com\"]       # predefined collectional datastrctures with list\n",
    "dharani"
   ]
  },
  {
   "cell_type": "code",
   "execution_count": 35,
   "metadata": {},
   "outputs": [
    {
     "name": "stdout",
     "output_type": "stream",
     "text": [
      "narasimharao\n",
      "narasimharao\n"
     ]
    }
   ],
   "source": [
    "dharani={\"name\":\"dharani\",\"age\":22,\"phone\":8328602360,\"mail\":\"gottamdharani7626@gmail.com\",\"father name\":\"narasimharao\"}     # with dict\n",
    "print(dharani[\"father name\"])\n",
    "usha={\"name\":\"usha\",\"age\":20,\"phone\":1234567890,\"father name\":\"narasimharao\",\"mail\":\"gottamusha@gmail.com\"}\n",
    "print(usha[\"father name\"])\n"
   ]
  },
  {
   "attachments": {},
   "cell_type": "markdown",
   "metadata": {},
   "source": [
    "LIST RELATED PROBLEMS\n",
    "\n",
    "* When ever we are storing the data there will be in a structured manner or unstructured manner \n",
    "* Fetch: we can't extract the accelerate data from list "
   ]
  },
  {
   "cell_type": "code",
   "execution_count": 37,
   "metadata": {},
   "outputs": [
    {
     "name": "stdout",
     "output_type": "stream",
     "text": [
      "byee\n",
      "haii\n"
     ]
    }
   ],
   "source": [
    "a=\"haii\"                   # WAS to swap two values with a temp variable\n",
    "b=\"byee\"\n",
    "temp=a\n",
    "a=b\n",
    "b=temp\n",
    "print(a)\n",
    "print(b)"
   ]
  },
  {
   "cell_type": "code",
   "execution_count": 38,
   "metadata": {},
   "outputs": [
    {
     "name": "stdout",
     "output_type": "stream",
     "text": [
      "{12, 14}\n",
      "[10, 20]\n"
     ]
    }
   ],
   "source": [
    "a=[10,20]                   # WAS to swap two values without using temp variable\n",
    "b={12,14}\n",
    "a,b=b,a\n",
    "print(a)\n",
    "print(b)"
   ]
  }
 ],
 "metadata": {
  "kernelspec": {
   "display_name": "Python 3",
   "language": "python",
   "name": "python3"
  },
  "language_info": {
   "codemirror_mode": {
    "name": "ipython",
    "version": 3
   },
   "file_extension": ".py",
   "mimetype": "text/x-python",
   "name": "python",
   "nbconvert_exporter": "python",
   "pygments_lexer": "ipython3",
   "version": "3.11.3"
  },
  "orig_nbformat": 4
 },
 "nbformat": 4,
 "nbformat_minor": 2
}
