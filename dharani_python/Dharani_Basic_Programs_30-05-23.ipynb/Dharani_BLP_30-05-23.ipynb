{
 "cells": [
  {
   "attachments": {},
   "cell_type": "markdown",
   "metadata": {},
   "source": [
    "1.WAS to print \"Hello World\" by using shell."
   ]
  },
  {
   "cell_type": "code",
   "execution_count": 1,
   "metadata": {},
   "outputs": [
    {
     "data": {
      "text/plain": [
       "'Hello World'"
      ]
     },
     "execution_count": 1,
     "metadata": {},
     "output_type": "execute_result"
    }
   ],
   "source": [
    "\"Hello World\"       # WAS to print \"Hello World\" using shell"
   ]
  },
  {
   "attachments": {},
   "cell_type": "markdown",
   "metadata": {},
   "source": [
    "2.WAS to print \"Hello World\" usii=ng python print function."
   ]
  },
  {
   "cell_type": "code",
   "execution_count": 2,
   "metadata": {},
   "outputs": [
    {
     "name": "stdout",
     "output_type": "stream",
     "text": [
      "Hello World\n"
     ]
    }
   ],
   "source": [
    "print(\"Hello World\")               # WAS to print \"Hello World\" using print function"
   ]
  },
  {
   "cell_type": "code",
   "execution_count": 4,
   "metadata": {},
   "outputs": [
    {
     "name": "stdout",
     "output_type": "stream",
     "text": [
      "Hello World\n"
     ]
    }
   ],
   "source": [
    "a=\"Hello World\"\n",
    "print(a)"
   ]
  },
  {
   "attachments": {},
   "cell_type": "markdown",
   "metadata": {},
   "source": [
    "3.WAS to initialize variable and value as 50."
   ]
  },
  {
   "cell_type": "code",
   "execution_count": 5,
   "metadata": {},
   "outputs": [
    {
     "data": {
      "text/plain": [
       "50"
      ]
     },
     "execution_count": 5,
     "metadata": {},
     "output_type": "execute_result"
    }
   ],
   "source": [
    "apple=50                  # to initialize variable and value as 50\n",
    "apple"
   ]
  },
  {
   "attachments": {},
   "cell_type": "markdown",
   "metadata": {},
   "source": [
    "4.WAS to initialize multivariable value are 150,120,250(take your own variable names)."
   ]
  },
  {
   "cell_type": "code",
   "execution_count": 9,
   "metadata": {},
   "outputs": [
    {
     "name": "stdout",
     "output_type": "stream",
     "text": [
      "250\n",
      "120\n",
      "150\n"
     ]
    }
   ],
   "source": [
    "raja,rani,ravi=150,120,250                    # WAS to initialize multivalue variable are 150,120,150(take your own variables) \n",
    "print(ravi)\n",
    "print(rani)\n",
    "print(raja)"
   ]
  },
  {
   "cell_type": "code",
   "execution_count": 20,
   "metadata": {},
   "outputs": [
    {
     "name": "stdout",
     "output_type": "stream",
     "text": [
      "<class 'int'>\n",
      "<class 'float'>\n",
      "<class 'complex'>\n",
      "<class 'bytes'>\n",
      "<class 'bool'>\n",
      "<class 'NoneType'>\n",
      "<class 'str'>\n",
      "<class 'list'>\n",
      "<class 'tuple'>\n",
      "<class 'set'>\n",
      "<class 'dict'>\n"
     ]
    }
   ],
   "source": [
    "a=10\n",
    "print(type(a))                      # WAS to print the type of the data in given value\n",
    "b=10.05\n",
    "print(type(b))\n",
    "c=10+2j\n",
    "print(type(c))\n",
    "d=b'1010'\n",
    "print(type(d))\n",
    "e=True\n",
    "print(type(e))\n",
    "f=None\n",
    "print(type(f))\n",
    "g=\"hello\"\n",
    "print(type(g))\n",
    "h=[10,30,40]\n",
    "print(type(h))\n",
    "i=(10,)\n",
    "print(type(i))\n",
    "j={10,20}\n",
    "print(type(j))\n",
    "k={\"a\":20}\n",
    "print(type(k))\n"
   ]
  },
  {
   "cell_type": "code",
   "execution_count": 25,
   "metadata": {},
   "outputs": [
    {
     "name": "stdout",
     "output_type": "stream",
     "text": [
      "140732981634120\n",
      "2509948621552\n",
      "2509948629872\n",
      "2509949017120\n",
      "140732980108136\n",
      "2509948841456\n",
      "2509948939008\n",
      "2509948871936\n",
      "2509948847264\n",
      "2509949110400\n",
      "140732980161736\n"
     ]
    }
   ],
   "source": [
    "a=10                    # WAS to print address of the memory block in given value\n",
    "print(id(a))\n",
    "b=10.05\n",
    "print(id(b))\n",
    "c=2+5j\n",
    "print(id(c))\n",
    "d=b'1010'\n",
    "print(id(d))\n",
    "e=True\n",
    "print(id(e))\n",
    "f=\"hello haii\"\n",
    "print(id(f))\n",
    "g=[12,13]\n",
    "print(id(g))\n",
    "h=(10,12,14)\n",
    "print(id(h))\n",
    "i={76,45}\n",
    "print(id(i))\n",
    "j={\"a\":18}\n",
    "print(id(j))\n",
    "k=None\n",
    "print(id(k))"
   ]
  },
  {
   "cell_type": "code",
   "execution_count": 26,
   "metadata": {},
   "outputs": [
    {
     "name": "stdout",
     "output_type": "stream",
     "text": [
      "dharani 22 8328602360 gottamdharani7626@gmail.com\n"
     ]
    }
   ],
   "source": [
    "name=\"dharani\"                   # procedural programming (var concept)\n",
    "age=22\n",
    "phone=\"8328602360\"\n",
    "email=\"gottamdharani7626@gmail.com\"\n",
    "print(name,age,phone,email)"
   ]
  },
  {
   "cell_type": "code",
   "execution_count": 27,
   "metadata": {},
   "outputs": [
    {
     "data": {
      "text/plain": [
       "['dharani', 22, 8328602360, 'gottamdharani7626@gmail.com']"
      ]
     },
     "execution_count": 27,
     "metadata": {},
     "output_type": "execute_result"
    }
   ],
   "source": [
    "dharani=[\"dharani\",22,8328602360,\"gottamdharani7626@gmail.com\"]       # predefined collectional datastrctures with list\n",
    "dharani"
   ]
  },
  {
   "cell_type": "code",
   "execution_count": 35,
   "metadata": {},
   "outputs": [
    {
     "name": "stdout",
     "output_type": "stream",
     "text": [
      "narasimharao\n",
      "narasimharao\n"
     ]
    }
   ],
   "source": [
    "dharani={\"name\":\"dharani\",\"age\":22,\"phone\":8328602360,\"mail\":\"gottamdharani7626@gmail.com\",\"father name\":\"narasimharao\"}     # with dict\n",
    "print(dharani[\"father name\"])\n",
    "usha={\"name\":\"usha\",\"age\":20,\"phone\":1234567890,\"father name\":\"narasimharao\",\"mail\":\"gottamusha@gmail.com\"}\n",
    "print(usha[\"father name\"])\n"
   ]
  },
  {
   "attachments": {},
   "cell_type": "markdown",
   "metadata": {},
   "source": [
    "LIST RELATED PROBLEMS\n",
    "\n",
    "* When ever we are storing the data there will be in a structured manner or unstructured manner \n",
    "* Fetch: we can't extract the accelerate data from list "
   ]
  },
  {
   "cell_type": "code",
   "execution_count": 37,
   "metadata": {},
   "outputs": [
    {
     "name": "stdout",
     "output_type": "stream",
     "text": [
      "byee\n",
      "haii\n"
     ]
    }
   ],
   "source": [
    "a=\"haii\"                   # WAS to swap two values with a temp variable\n",
    "b=\"byee\"\n",
    "temp=a\n",
    "a=b\n",
    "b=temp\n",
    "print(a)\n",
    "print(b)"
   ]
  },
  {
   "cell_type": "code",
   "execution_count": 38,
   "metadata": {},
   "outputs": [
    {
     "name": "stdout",
     "output_type": "stream",
     "text": [
      "{12, 14}\n",
      "[10, 20]\n"
     ]
    }
   ],
   "source": [
    "a=[10,20]                   # WAS to swap two values without using temp variable\n",
    "b={12,14}\n",
    "a,b=b,a\n",
    "print(a)\n",
    "print(b)"
   ]
  },
  {
   "cell_type": "code",
   "execution_count": 43,
   "metadata": {},
   "outputs": [
    {
     "name": "stdout",
     "output_type": "stream",
     "text": [
      "180\n",
      "[10, 23]\n"
     ]
    }
   ],
   "source": [
    "a=180                      # initialize the value and print the value and after print the value                         \n",
    "print(a)                       #  then reinitialize the new value to the existing var and display the value \n",
    "a=[10,23]\n",
    "print(a)\n"
   ]
  },
  {
   "cell_type": "code",
   "execution_count": 44,
   "metadata": {},
   "outputs": [
    {
     "name": "stdout",
     "output_type": "stream",
     "text": [
      "10\n",
      "['1', '0']\n"
     ]
    }
   ],
   "source": [
    "a=10                       # WAS to convert single value to multi value datatype\n",
    "b=str(a)\n",
    "print(b)\n",
    "c=list(b)\n",
    "print(c)\n"
   ]
  },
  {
   "cell_type": "code",
   "execution_count": 48,
   "metadata": {},
   "outputs": [
    {
     "name": "stdout",
     "output_type": "stream",
     "text": [
      "dharani\n",
      "dharaniusha\n",
      "dharaniusha\n",
      "usha\n",
      "raniraja\n"
     ]
    }
   ],
   "source": [
    "a=\"dharani\"\n",
    "b=\"usha\"\n",
    "print(a)\n",
    "\n",
    "c=a+b                    # forward concatenation using addition operation\n",
    "print(c)\n",
    "\n",
    "a+=b                     # compound arithmetic assignment/updated operator\n",
    "print(a)\n",
    "print(b)\n",
    "\n",
    "a=\"raja\"\n",
    "b=\"rani\"\n",
    "c=b+a                    # backward concatenation \n",
    "print(c)\n"
   ]
  },
  {
   "cell_type": "code",
   "execution_count": 1,
   "metadata": {},
   "outputs": [
    {
     "name": "stdout",
     "output_type": "stream",
     "text": [
      "[10, 20]\n",
      "[30, 40]\n",
      "[10, 20, 30, 40]\n",
      "[10, 20, 30, 40]\n"
     ]
    }
   ],
   "source": [
    "l=[10,20]\n",
    "t=[30,40]\n",
    "print(l)\n",
    "print(t)\n",
    "\n",
    "m=l+t           # forward/normal concatenation operation                                                                                           \n",
    "print(m)\n",
    "\n",
    "l+=t            # compound assignment arithmetic operator          \n",
    "print(l)\n"
   ]
  },
  {
   "attachments": {},
   "cell_type": "markdown",
   "metadata": {},
   "source": [
    "13.WAC to perform the length of the collection."
   ]
  },
  {
   "cell_type": "code",
   "execution_count": 21,
   "metadata": {},
   "outputs": [
    {
     "name": "stdout",
     "output_type": "stream",
     "text": [
      "7\n",
      "5\n",
      "5\n",
      "5\n",
      "4\n"
     ]
    }
   ],
   "source": [
    "a=\"dharani\"\n",
    "print(len(a))\n",
    "\n",
    "print(len(\"hello\"))\n",
    "\n",
    "print(len({\"a\":10,\"b\":20,\"c\":30,\"d\":50,\"e\":40}))\n",
    "\n",
    "print(len({12,13,12,14,15,16}))\n",
    "\n",
    "print(len((19,34,56,78)))"
   ]
  },
  {
   "attachments": {},
   "cell_type": "markdown",
   "metadata": {},
   "source": [
    "14.WAC to find out the middle value of the given colleection."
   ]
  },
  {
   "cell_type": "code",
   "execution_count": 24,
   "metadata": {},
   "outputs": [
    {
     "name": "stdout",
     "output_type": "stream",
     "text": [
      "l\n",
      "l\n",
      "i\n"
     ]
    }
   ],
   "source": [
    "a=\"hello\"\n",
    "print(a[2])\n",
    "\n",
    "print(a[len(a)//2])\n",
    "\n",
    "b=\"haii\"\n",
    "print(b[len(b)//2])"
   ]
  },
  {
   "attachments": {},
   "cell_type": "markdown",
   "metadata": {},
   "source": [
    "15.WAC to concat the new string into the starting of the given string."
   ]
  },
  {
   "cell_type": "code",
   "execution_count": 26,
   "metadata": {},
   "outputs": [
    {
     "name": "stdout",
     "output_type": "stream",
     "text": [
      "dharanigottam\n",
      "dharanigottam\n"
     ]
    }
   ],
   "source": [
    "a=\"gottam\"\n",
    "b=\"dharani\"\n",
    "c=b+a            # using concatenation\n",
    "print(c)\n",
    "\n",
    "b+=a             # using compound assignment arithmetic operator     \n",
    "print(b)"
   ]
  },
  {
   "attachments": {},
   "cell_type": "markdown",
   "metadata": {},
   "source": [
    "16.WAS to concat the new string into the ending of the given string."
   ]
  },
  {
   "cell_type": "code",
   "execution_count": 28,
   "metadata": {},
   "outputs": [
    {
     "name": "stdout",
     "output_type": "stream",
     "text": [
      "haiibyee\n",
      "haiibyee\n"
     ]
    }
   ],
   "source": [
    "x=\"haii\"\n",
    "y=\"byee\"\n",
    "z=x+y\n",
    "print(z)\n",
    "\n",
    "x+=y\n",
    "print(x)"
   ]
  },
  {
   "attachments": {},
   "cell_type": "markdown",
   "metadata": {},
   "source": [
    "17.WAS to concat the new string into the middle of the given string."
   ]
  },
  {
   "cell_type": "code",
   "execution_count": 31,
   "metadata": {},
   "outputs": [
    {
     "name": "stdout",
     "output_type": "stream",
     "text": [
      "haii\n",
      " rama\n",
      "haiigood morning rama\n"
     ]
    }
   ],
   "source": [
    "x=\"haii rama\"\n",
    "print(x[0:len(x)//2])\n",
    "\n",
    "print(x[len(x)//2:])\n",
    "\n",
    "print(x[0:len(x)//2]+\"good morning\"+x[len(x)//2:])\n"
   ]
  },
  {
   "attachments": {},
   "cell_type": "markdown",
   "metadata": {},
   "source": [
    "18.WAS to modify the  new character into the middle of the given string."
   ]
  },
  {
   "cell_type": "code",
   "execution_count": 39,
   "metadata": {},
   "outputs": [
    {
     "name": "stdout",
     "output_type": "stream",
     "text": [
      "haii@rama\n",
      "haii@ rama\n"
     ]
    }
   ],
   "source": [
    "y=\"haii rama\"\n",
    "print(x[0:len(x)//2]+\"@\"+x[(len(x)//2)+1:])\n",
    "\n",
    "print(x[0:len(x)//2]+\"@\"+x[(len(x)//2):])\n"
   ]
  },
  {
   "attachments": {},
   "cell_type": "markdown",
   "metadata": {},
   "source": [
    "19.WAC to concat the two multi value data types (str,list,tuple,set,dict)."
   ]
  },
  {
   "cell_type": "code",
   "execution_count": 55,
   "metadata": {},
   "outputs": [
    {
     "name": "stdout",
     "output_type": "stream",
     "text": [
      "['h', 'e', 'l', 'l', 'o']\n",
      "[10, 30, 24]\n",
      "[12, 34, 56]\n",
      "[56, 45, 23]\n",
      "['a', 'b']\n",
      "[49, 48, 49, 48]\n"
     ]
    },
    {
     "ename": "TypeError",
     "evalue": "'int' object is not iterable",
     "output_type": "error",
     "traceback": [
      "\u001b[1;31m---------------------------------------------------------------------------\u001b[0m",
      "\u001b[1;31mTypeError\u001b[0m                                 Traceback (most recent call last)",
      "Cell \u001b[1;32mIn[55], line 26\u001b[0m\n\u001b[0;32m     23\u001b[0m \u001b[39mprint\u001b[39m(c)\n\u001b[0;32m     25\u001b[0m x\u001b[39m=\u001b[39m[]\n\u001b[1;32m---> 26\u001b[0m x\u001b[39m+\u001b[39;49m\u001b[39m=\u001b[39;49m\u001b[39m10\u001b[39;49m\n",
      "\u001b[1;31mTypeError\u001b[0m: 'int' object is not iterable"
     ]
    }
   ],
   "source": [
    "x=[]\n",
    "x+=\"hello\"\n",
    "print(x)\n",
    "\n",
    "y=[]\n",
    "y+=[10,30,24]\n",
    "print(y)\n",
    "\n",
    "z=[]\n",
    "z+=(12,34,56)\n",
    "print(z)\n",
    "\n",
    "a=[]\n",
    "a+={23,45,56}\n",
    "print(a)\n",
    "\n",
    "b=[]\n",
    "b+={\"a\":10,\"b\":30}\n",
    "print(b)\n",
    "\n",
    "c=[]\n",
    "c+=b\"1010\"\n",
    "print(c)\n",
    "\n",
    "x=[]\n",
    "x+=10\n"
   ]
  },
  {
   "cell_type": "code",
   "execution_count": 3,
   "metadata": {},
   "outputs": [
    {
     "name": "stdout",
     "output_type": "stream",
     "text": [
      "PYSPIDQRS\n",
      "PYSPIDQRS\n"
     ]
    }
   ],
   "source": [
    "# WAS to replace the old character into a new character of the given string.\n",
    "\n",
    "st=\"PYSPIDERS\"\n",
    "print(st[:-3]+\"Q\"+st[-2:])\n",
    "print(st[:6]+\"Q\"+st[7:])"
   ]
  },
  {
   "cell_type": "code",
   "execution_count": 4,
   "metadata": {},
   "outputs": [
    {
     "name": "stdout",
     "output_type": "stream",
     "text": [
      "PYSPIDQRS\n",
      "PYSPIDQRS\n"
     ]
    }
   ],
   "source": [
    "st=\"PYSPIDERS\"                         \n",
    "res = st[:-3]+\"Q\"+st[-2:]\n",
    "print(res)\n",
    "temp=st[:6]+\"Q\"+st[7:]\n",
    "print(temp)"
   ]
  },
  {
   "cell_type": "code",
   "execution_count": 40,
   "metadata": {},
   "outputs": [
    {
     "ename": "SyntaxError",
     "evalue": "invalid syntax (391487130.py, line 1)",
     "output_type": "error",
     "traceback": [
      "\u001b[1;36m  Cell \u001b[1;32mIn[40], line 1\u001b[1;36m\u001b[0m\n\u001b[1;33m    19 WAS to delete the specific character in the string.\u001b[0m\n\u001b[1;37m       ^\u001b[0m\n\u001b[1;31mSyntaxError\u001b[0m\u001b[1;31m:\u001b[0m invalid syntax\n"
     ]
    }
   ],
   "source": [
    "# WAS to delete the specific character in the string.\n",
    "\n",
    "st=\"QSPIDERS\"\n",
    "res=st[:4]+st[4+1:]\n",
    "print(res)\n",
    "\n",
    "res=st[:-4]+st[-3:]\n",
    "print(res)"
   ]
  },
  {
   "cell_type": "code",
   "execution_count": 8,
   "metadata": {},
   "outputs": [
    {
     "name": "stdout",
     "output_type": "stream",
     "text": [
      "QSRS\n",
      "QSRS\n",
      "QSRS\n",
      "QSRS\n"
     ]
    }
   ],
   "source": [
    "# WAS to delete the sequence of characters in the given string.\n",
    "# i/p : st=\"QSPIDERS\"\n",
    "# O/P : QSRS\n",
    "\n",
    "res = st[:2]+st[6:]\n",
    "print(res)\n",
    "\n",
    "res = st[:2]+st[-2:]\n",
    "print(res)\n",
    "\n",
    "res = st[:-6]+st[-2:]\n",
    "print(res)\n",
    "\n",
    "res = st[:-6]+st[6:]\n",
    "print(res)"
   ]
  },
  {
   "cell_type": "code",
   "execution_count": 16,
   "metadata": {},
   "outputs": [
    {
     "name": "stdout",
     "output_type": "stream",
     "text": [
      "QSPI123456DERS\n",
      "QSPI123456DERS\n",
      "SRED123456IPSQ\n",
      "SRED123456IPSQ\n"
     ]
    }
   ],
   "source": [
    "# WAS to concat the new string into the specific position of the given string.\n",
    "# I/P : st=\"QSPIDERS\"\n",
    "# O/P : \"QSPI123456DERS\" \n",
    "\n",
    "st=\"QSPIDERS\"\n",
    "res=st[0:4]+\"123456\"+st[4:]\n",
    "print(res)\n",
    "\n",
    "st=\"QSPIDERS\"\n",
    "res=st[0:-4]+\"123456\"+st[-4:]\n",
    "print(res)\n",
    "\n",
    "# i/p : st=\"QSPIDERS\"\n",
    "# o/p : \"SRED123456IPSQ\"\n",
    "\n",
    "st=\"QSPIDERS\"\n",
    "res=st[:3:-1]+\"123456\"+st[3::-1]\n",
    "print(res)\n",
    "\n",
    "st=\"QSPIDERS\"\n",
    "res=st[-1:-5:-1]+\"123456\"+st[-5::-1]\n",
    "print(res)"
   ]
  },
  {
   "cell_type": "code",
   "execution_count": 29,
   "metadata": {},
   "outputs": [
    {
     "name": "stdout",
     "output_type": "stream",
     "text": [
      "[10, 20, 30, 50, 'hello', 'haii'] 2253627692096\n",
      "[100, 200, 10, 20, 30, 50, 'hello', 'haii']\n",
      "[10, 20, 30, 50, 'hello', 100, 200, 'haii'] 2253627832320\n",
      "[100, 200, 10, 20, 30, 50, 'hello', 'haii']\n",
      "[10, 20, 30, 50, 'hello', 'haii'] 2253627828032\n",
      "[100, 200, 10, 20, 30, 50, 'hello', 'haii']\n",
      "[10, 20, 30, 50, 'hello', 'haii'] 140733099008808\n",
      "[100, 200, 10, 20, 30, 50, 'hello', 'haii'] 2253627831232\n"
     ]
    }
   ],
   "source": [
    "# WAS to concat the new value into the starting of the given string.\n",
    "\n",
    "l=[10,20,30,50,\"hello\",\"haii\"]\n",
    "print(l,id(l))\n",
    "            # using \"+\" operator(concatenation)\n",
    "l=[100,200]+l\n",
    "print(l)\n",
    "\n",
    "\n",
    "# we are storing the values in t (wrong way)\n",
    "\n",
    "l=[10,20,30,50,\"hello\",\"haii\"]\n",
    "print(t,id(t))\n",
    "\n",
    "t=[100,200]\n",
    "t+=l\n",
    "print(t)\n",
    "\n",
    "# adding value using specific position\n",
    "\n",
    "l=[10,20,30,50,\"hello\",\"haii\"]\n",
    "print(l,id(l))\n",
    "\n",
    "l[0:0]=[100,200]\n",
    "print(l)\n",
    "\n",
    "l=[10,20,30,50,\"hello\",\"haii\"] \n",
    "print(l,id(1))\n",
    "\n",
    "l[0:0]=[100,200]\n",
    "print(l,id(l))"
   ]
  },
  {
   "cell_type": "code",
   "execution_count": 28,
   "metadata": {},
   "outputs": [
    {
     "name": "stdout",
     "output_type": "stream",
     "text": [
      "[10, 20, 30, 50, 'hello', 'haii'] 2253627832000\n",
      "[10, 20, 30, 50, 'hello', 'haii', 100, 200] 2253627753984\n",
      "[10, 20, 30, 50, 'hello', 'haii'] 2253627832320\n",
      "[10, 20, 30, 50, 'hello', 'haii', 100, 200] 2253627832320\n",
      "[10, 20, 30, 50, 'hello', 'haii'] 2253627753984\n",
      "[10, 20, 30, 50, 'hello', 'haii', 100, 200] 2253627753984\n",
      "[10, 20, 30, 50, 'hello', 'haii'] 2253627832320\n",
      "[10, 20, 30, 50, 'hello', 100, 200, 'haii'] 2253627832320\n"
     ]
    }
   ],
   "source": [
    "# WAS to concat the new value into the ending of the given list\n",
    "\n",
    "t=[10,20,30,50,\"hello\",\"haii\"]\n",
    "print(t,id(t))\n",
    "t=t+[100,200]\n",
    "print(t,id(t))\n",
    "\n",
    "t=[10,20,30,50,\"hello\",\"haii\"]   # compound assignment arithematic operator(address not changed)\n",
    "print(t,id(t))\n",
    "t+=[100,200]\n",
    "print(t,id(t))\n",
    "\n",
    "t=[10,20,30,50,\"hello\",\"haii\"]\n",
    "print(t,id(t))\n",
    "t[len(t):len(t)]=[100,200]\n",
    "print(t,id(t))\n",
    "\n",
    "\n",
    "t=[10,20,30,50,\"hello\",\"haii\"]\n",
    "print(t,id(t))\n",
    "t[-1:-1]=[100,200]\n",
    "print(t,id(t))"
   ]
  },
  {
   "cell_type": "code",
   "execution_count": 43,
   "metadata": {},
   "outputs": [
    {
     "name": "stdout",
     "output_type": "stream",
     "text": [
      "[10, 20, 30, 50, 'hello', 'haii'] 2253628196800\n",
      "[10, 20, 30, 'A', 'b', 50, 'hello', 'haii'] 2253628181696\n",
      "********************************************************************************************\n",
      "[10, 20, 30, 50, 'hello', 'haii'] 2253628197184\n",
      "['a', 'b', 50, 'hello', 'haii'] 2253628197184\n",
      "********************************************************************************************\n",
      "[10, 20, 30, 50, 'hello', 'haii'] 2253628196800\n",
      "[10, 20, 30, ['a', 'b'], 'hello', 'haii'] 2253628196800\n"
     ]
    }
   ],
   "source": [
    "# WAS to concat the new value into the middle of the given list\n",
    "\n",
    "y=[10,20,30,50,\"hello\",\"haii\"]\n",
    "print(y,id(y))\n",
    "y=y[:len(y)//2]+[\"A\",\"b\"]+y[len(y)//2:]\n",
    "print(y,id(y))\n",
    "\n",
    "\n",
    "print(\"**********************************************\"*2)\n",
    "\n",
    "y=[10,20,30,50,\"hello\",\"haii\"]\n",
    "print(y,id(y))\n",
    "y[:len(y)//2]:y[len(y)//2:]=['a','b']\n",
    "print(y,id(y))\n",
    "\n",
    "print(\"**********************************************\"*2)\n",
    "\n",
    "y=[10,20,30,50,\"hello\",\"haii\"]\n",
    "print(y,id(y))\n",
    "y[len(y)//2]:[len(y)//2]=['a','b']\n",
    "print(y,id(y))\n",
    "\n",
    "print(\"**********************************************\"*2)\n",
    "\n"
   ]
  },
  {
   "cell_type": "code",
   "execution_count": 38,
   "metadata": {},
   "outputs": [
    {
     "name": "stdout",
     "output_type": "stream",
     "text": [
      "[10, 20, 'hello', 'a', 'b', 100, 'haii', 66] 2253628260160\n",
      "[10, 20, 'hello world', 'a', 'b', 100, 'haii', 66] 2253628260160\n"
     ]
    }
   ],
   "source": [
    "# WAS to modify the new value into the specific position of the given list.\n",
    "\n",
    "l=[10,20,\"hello\",\"a\",'b',100,'haii',66]\n",
    "print(l,id(l))\n",
    "l[2]=\"hello world\"\n",
    "print(l,id(l))"
   ]
  },
  {
   "cell_type": "code",
   "execution_count": 39,
   "metadata": {},
   "outputs": [
    {
     "name": "stdout",
     "output_type": "stream",
     "text": [
      "[10, 20, 'hello', 'a', 'b', 100, 'haii', 66] 2253628238336\n",
      "[10, 20, 'hello world', 'good bye', 'hello', 'a', 'b', 100, 'haii', 66] 2253628238336\n"
     ]
    }
   ],
   "source": [
    "# WAS to modify the sequence of new values into the specific position of the list.\n",
    "\n",
    "\n",
    "l=[10,20,\"hello\",\"a\",'b',100,'haii',66]\n",
    "print(l,id(l))\n",
    "l[2:2]=[\"hello world\",\"good bye\"]\n",
    "print(l,id(l))\n"
   ]
  },
  {
   "cell_type": "code",
   "execution_count": 45,
   "metadata": {},
   "outputs": [
    {
     "name": "stdout",
     "output_type": "stream",
     "text": [
      "[10, 20, 'hello', 'a', 'b', 100, 'haii', 66] 2253627826944\n",
      "['dharani', 20, 'hello', 'a', 'b', 100, 'haii', 66] 2253627826944\n"
     ]
    }
   ],
   "source": [
    "#WAS to modify the new value into the starting of the given list\n",
    "\n",
    "l=[10,20,\"hello\",\"a\",\"b\",100,\"haii\",66]\n",
    "print(l,id(l))\n",
    "l[0]=\"dharani\"\n",
    "print(l,id(l))\n"
   ]
  },
  {
   "cell_type": "code",
   "execution_count": 46,
   "metadata": {},
   "outputs": [
    {
     "name": "stdout",
     "output_type": "stream",
     "text": [
      "[10, 20, 'hello', 'a', 'b', 100, 'haii', 66] 2253628260160\n",
      "[10, 20, 'hello', 'a', 'b', 100, 'haii', 'dharani'] 2253628260160\n"
     ]
    }
   ],
   "source": [
    "#WAS to modify the new value into the ending of the given list\n",
    "\n",
    "l=[10,20,\"hello\",\"a\",\"b\",100,\"haii\",66]\n",
    "print(l,id(l))\n",
    "l[-1]=\"dharani\"\n",
    "print(l,id(l))"
   ]
  },
  {
   "cell_type": "code",
   "execution_count": 52,
   "metadata": {},
   "outputs": [
    {
     "name": "stdout",
     "output_type": "stream",
     "text": [
      "[10, 20, 'hello', 'a', 'b', 100, 'haii', 66] 2253628599680\n",
      "[10, 20, 'hello', 'a', 'hello world', 'b', 100, 'haii', 66] 2253628599680\n",
      "********************************************************************************************\n",
      "[10, 20, 'hello', 'a', 'b', 100, 'haii', 66] 2253628594240\n",
      "[10, 20, 'hello', 'a', 'hello world', 100, 'haii', 66] 2253628594240\n"
     ]
    }
   ],
   "source": [
    "#WAS to modify the new value into the middle of the given list\n",
    "\n",
    "l=[10,20,\"hello\",\"a\",\"b\",100,\"haii\",66]\n",
    "print(l,id(l))\n",
    "l[len(l)//2:len(l)//2]=[\"hello world\"]\n",
    "print(l,id(l))\n",
    "\n",
    "print(\"**********************************************\"*2)\n",
    "\n",
    "l=[10,20,\"hello\",\"a\",\"b\",100,\"haii\",66]\n",
    "print(l,id(l))\n",
    "l[len(l)//2]=\"hello world\"\n",
    "print(l,id(l))"
   ]
  }
 ],
 "metadata": {
  "kernelspec": {
   "display_name": "Python 3",
   "language": "python",
   "name": "python3"
  },
  "language_info": {
   "codemirror_mode": {
    "name": "ipython",
    "version": 3
   },
   "file_extension": ".py",
   "mimetype": "text/x-python",
   "name": "python",
   "nbconvert_exporter": "python",
   "pygments_lexer": "ipython3",
   "version": "3.11.3"
  },
  "orig_nbformat": 4
 },
 "nbformat": 4,
 "nbformat_minor": 2
}
