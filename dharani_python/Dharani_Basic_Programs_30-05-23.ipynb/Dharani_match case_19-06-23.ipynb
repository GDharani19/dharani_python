{
 "cells": [
  {
   "attachments": {},
   "cell_type": "markdown",
   "metadata": {},
   "source": [
    "1.Example for match case."
   ]
  },
  {
   "cell_type": "code",
   "execution_count": 1,
   "metadata": {},
   "outputs": [
    {
     "name": "stdout",
     "output_type": "stream",
     "text": [
      "good bye\n"
     ]
    }
   ],
   "source": [
    "n=int(input(\"enter the value\"))\n",
    "match n:\n",
    "    case 10:\n",
    "        print(\"good morning\")\n",
    "    case 20:\n",
    "        print(\"good afternoon\")\n",
    "    case 30:\n",
    "        print(\"good evening\")\n",
    "    case 40:\n",
    "        print(\"good night\")\n",
    "    case 50:\n",
    "        print(\"good bye\")\n",
    "    case _:\n",
    "        print(\"thank you\")\n",
    "\n",
    "\n"
   ]
  },
  {
   "attachments": {},
   "cell_type": "markdown",
   "metadata": {},
   "source": [
    "2.arithmetical operations without users choice"
   ]
  },
  {
   "cell_type": "code",
   "execution_count": 2,
   "metadata": {},
   "outputs": [
    {
     "name": "stdout",
     "output_type": "stream",
     "text": [
      "50\n",
      "-10\n",
      "600\n",
      "0.6666666666666666\n",
      "0\n",
      "1073741824000000000000000000000000000000\n"
     ]
    }
   ],
   "source": [
    "a=20\n",
    "b=30\n",
    "print(a+b)\n",
    "print(a-b)\n",
    "print(a*b)\n",
    "print(a/b)\n",
    "print(a//b)\n",
    "print(a**b)"
   ]
  },
  {
   "attachments": {},
   "cell_type": "markdown",
   "metadata": {},
   "source": [
    "3.arithmetical operations with users choice"
   ]
  },
  {
   "cell_type": "code",
   "execution_count": 3,
   "metadata": {},
   "outputs": [
    {
     "name": "stdout",
     "output_type": "stream",
     "text": [
      "addition 150\n"
     ]
    }
   ],
   "source": [
    "a=int(input(\"entear the a value:\"))\n",
    "b=int(input(\"entear the b value:\"))\n",
    "ch=input(\"enter the value:\")\n",
    "if ch=='+' :\n",
    "    print(\"addition\",a+b)\n",
    "elif ch=='-':\n",
    "    print(\"subraction\",a-b)\n",
    "elif ch=='*':\n",
    "    print(\"multiplication\",a*b)\n",
    "elif ch=='/':\n",
    "    print(\"true division\",a/b)\n",
    "elif ch=='//':\n",
    "    print(\"floor division\",a//b)\n",
    "elif ch=='%':\n",
    "    print(\"modulus\",a%b)\n",
    "elif ch=='**':\n",
    "    print(\"power\",a**b) \n",
    "else:\n",
    "    print(\"invalid symbol\")                           \n"
   ]
  },
  {
   "attachments": {},
   "cell_type": "markdown",
   "metadata": {},
   "source": [
    "4. arithmetical operations using match case"
   ]
  },
  {
   "cell_type": "code",
   "execution_count": 4,
   "metadata": {},
   "outputs": [
    {
     "name": "stdout",
     "output_type": "stream",
     "text": [
      "multiplication 5000\n"
     ]
    }
   ],
   "source": [
    "a=int(input(\"entear the a value:\"))\n",
    "b=int(input(\"entear the b value:\"))\n",
    "ch=input(\"enter the value:\")\n",
    "match ch:\n",
    "    case '+' :\n",
    "       print(\"addition\",a+b)\n",
    "    case '-':\n",
    "       print(\"subraction\",a-b)\n",
    "    case '*':\n",
    "       print(\"multiplication\",a*b)\n",
    "    case '/':\n",
    "       print(\"true division\",a/b)\n",
    "    case '//':\n",
    "       print(\"floor division\",a//b)\n",
    "    case '%':\n",
    "       print(\"modulus\",a%b)\n",
    "    case '**':\n",
    "       print(\"power\",a**b) \n",
    "    case _:\n",
    "       print(\"invalid symbol\") "
   ]
  }
 ],
 "metadata": {
  "kernelspec": {
   "display_name": "Python 3",
   "language": "python",
   "name": "python3"
  },
  "language_info": {
   "codemirror_mode": {
    "name": "ipython",
    "version": 3
   },
   "file_extension": ".py",
   "mimetype": "text/x-python",
   "name": "python",
   "nbconvert_exporter": "python",
   "pygments_lexer": "ipython3",
   "version": "3.11.3"
  },
  "orig_nbformat": 4
 },
 "nbformat": 4,
 "nbformat_minor": 2
}
