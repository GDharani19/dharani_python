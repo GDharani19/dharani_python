{
 "cells": [
  {
   "attachments": {},
   "cell_type": "markdown",
   "metadata": {},
   "source": [
    "1.Example for match case."
   ]
  },
  {
   "cell_type": "code",
   "execution_count": 1,
   "metadata": {},
   "outputs": [
    {
     "name": "stdout",
     "output_type": "stream",
     "text": [
      "good bye\n"
     ]
    }
   ],
   "source": [
    "n=int(input(\"enter the value\"))\n",
    "match n:\n",
    "    case 10:\n",
    "        print(\"good morning\")\n",
    "    case 20:\n",
    "        print(\"good afternoon\")\n",
    "    case 30:\n",
    "        print(\"good evening\")\n",
    "    case 40:\n",
    "        print(\"good night\")\n",
    "    case 50:\n",
    "        print(\"good bye\")\n",
    "    case _:\n",
    "        print(\"thank you\")\n",
    "\n",
    "\n"
   ]
  },
  {
   "attachments": {},
   "cell_type": "markdown",
   "metadata": {},
   "source": [
    "2.arithmetical operations without users choice"
   ]
  },
  {
   "cell_type": "code",
   "execution_count": 2,
   "metadata": {},
   "outputs": [
    {
     "name": "stdout",
     "output_type": "stream",
     "text": [
      "50\n",
      "-10\n",
      "600\n",
      "0.6666666666666666\n",
      "0\n",
      "1073741824000000000000000000000000000000\n"
     ]
    }
   ],
   "source": [
    "a=20\n",
    "b=30\n",
    "print(a+b)\n",
    "print(a-b)\n",
    "print(a*b)\n",
    "print(a/b)\n",
    "print(a//b)\n",
    "print(a**b)"
   ]
  },
  {
   "attachments": {},
   "cell_type": "markdown",
   "metadata": {},
   "source": [
    "3.arithmetical operations with users choice"
   ]
  },
  {
   "cell_type": "code",
   "execution_count": 1,
   "metadata": {},
   "outputs": [
    {
     "name": "stdout",
     "output_type": "stream",
     "text": [
      "addition 70\n"
     ]
    }
   ],
   "source": [
    "a=int(input(\"entear the a value:\"))\n",
    "b=int(input(\"entear the b value:\"))\n",
    "ch=input(\"enter the operator:\")\n",
    "if ch=='+' :\n",
    "    print(\"addition\",a+b)\n",
    "elif ch=='-':\n",
    "    print(\"subraction\",a-b)\n",
    "elif ch=='*':\n",
    "    print(\"multiplication\",a*b)\n",
    "elif ch=='/':\n",
    "    print(\"true division\",a/b)\n",
    "elif ch=='//':\n",
    "    print(\"floor division\",a//b)\n",
    "elif ch=='%':\n",
    "    print(\"modulus\",a%b)\n",
    "elif ch=='**':\n",
    "    print(\"power\",a**b) \n",
    "else:\n",
    "    print(\"invalid symbol\")                           \n"
   ]
  },
  {
   "attachments": {},
   "cell_type": "markdown",
   "metadata": {},
   "source": [
    "4. arithmetical operations using match case"
   ]
  },
  {
   "cell_type": "code",
   "execution_count": 4,
   "metadata": {},
   "outputs": [
    {
     "name": "stdout",
     "output_type": "stream",
     "text": [
      "multiplication 5000\n"
     ]
    }
   ],
   "source": [
    "a=int(input(\"entear the a value:\"))\n",
    "b=int(input(\"entear the b value:\"))\n",
    "ch=input(\"enter the value:\")\n",
    "match ch:\n",
    "    case '+' :\n",
    "       print(\"addition\",a+b)\n",
    "    case '-':\n",
    "       print(\"subraction\",a-b)\n",
    "    case '*':\n",
    "       print(\"multiplication\",a*b)\n",
    "    case '/':\n",
    "       print(\"true division\",a/b)\n",
    "    case '//':\n",
    "       print(\"floor division\",a//b)\n",
    "    case '%':\n",
    "       print(\"modulus\",a%b)\n",
    "    case '**':\n",
    "       print(\"power\",a**b) \n",
    "    case _:\n",
    "       print(\"invalid symbol\") "
   ]
  },
  {
   "attachments": {},
   "cell_type": "markdown",
   "metadata": {},
   "source": [
    "using match case. "
   ]
  },
  {
   "cell_type": "code",
   "execution_count": 3,
   "metadata": {},
   "outputs": [
    {
     "name": "stdout",
     "output_type": "stream",
     "text": [
      "haii hello\n",
      "haii hello\n",
      "thank\n"
     ]
    }
   ],
   "source": [
    "match \"hello\":\n",
    "    case \"haii\"|\"hello\":\n",
    "        print(\"haii hello\")\n",
    "    case \"bye\":\n",
    "        print(\"bye\")\n",
    "    case _:\n",
    "        print(\"thank\") \n",
    "\n",
    "\n",
    "\n",
    "match \"haii\":\n",
    "    case \"haii\"|\"hello\":\n",
    "        print(\"haii hello\")\n",
    "    case \"bye\":\n",
    "        print(\"bye\")\n",
    "    case _:\n",
    "        print(\"thank\") \n",
    "\n",
    "\n",
    "match \"dharani\":\n",
    "    case \"haii\"|\"hello\":\n",
    "        print(\"haii hello\")\n",
    "    case \"bye\":\n",
    "        print(\"bye\")\n",
    "    case _:\n",
    "        print(\"thank\")         \n",
    "    "
   ]
  },
  {
   "cell_type": "code",
   "execution_count": 8,
   "metadata": {},
   "outputs": [
    {
     "name": "stdout",
     "output_type": "stream",
     "text": [
      "good night\n",
      "thank\n",
      "thank\n",
      "thank\n"
     ]
    }
   ],
   "source": [
    "a=\"haii\"\n",
    "b=\"bye\"\n",
    "match a,b:\n",
    "    case \"haii\"|\"hello\":\n",
    "        print(\"haii hello\")\n",
    "    case \"bye\":\n",
    "        print(\"bye\")\n",
    "    case (\"haii\",\"bye\"):\n",
    "        print(\"good night\")  \n",
    "    case _:\n",
    "        print(\"thank\") \n",
    "\n",
    "\n",
    "a=\"haii\"\n",
    "b=\"hello\"\n",
    "match a,b:\n",
    "    case \"haii\"|\"hello\":\n",
    "        print(\"haii hello\")\n",
    "    case \"bye\":\n",
    "        print(\"bye\")\n",
    "    case (\"haii\",\"bye\"):\n",
    "        print(\"good night\")  \n",
    "    case _:\n",
    "        print(\"thank\") \n",
    "\n",
    "\n",
    "a=\"haii,hello\"\n",
    "b=\"bye\"\n",
    "match a,b:\n",
    "    case \"haii\"|\"hello\":\n",
    "        print(\"haii hello\")\n",
    "    case \"bye\":\n",
    "        print(\"bye\")\n",
    "    case (\"haii\",\"bye\"):\n",
    "        print(\"good night\")  \n",
    "    case _:\n",
    "        print(\"thank\") \n",
    "\n",
    "\n",
    "a=\"haii,hello\"\n",
    "b=\"haii,hello\"\n",
    "match a,b:\n",
    "    case \"haii\"|\"hello\":\n",
    "        print(\"haii hello\")\n",
    "    case \"bye\":\n",
    "        print(\"bye\")\n",
    "    case (\"haii\",\"bye\"):\n",
    "        print(\"good night\")  \n",
    "    case _:\n",
    "        print(\"thank\")                                  "
   ]
  },
  {
   "attachments": {},
   "cell_type": "markdown",
   "metadata": {},
   "source": [
    "6.match case using dictionary values"
   ]
  },
  {
   "cell_type": "code",
   "execution_count": 9,
   "metadata": {},
   "outputs": [
    {
     "name": "stdout",
     "output_type": "stream",
     "text": [
      "10\n",
      "thankyou\n",
      "20\n"
     ]
    }
   ],
   "source": [
    "d={'a':10,'b':20}\n",
    "match d['a']:\n",
    "    case 10:\n",
    "        print(d['a'])\n",
    "    case 20:\n",
    "        print(d['b'])\n",
    "    case _:\n",
    "        print(\"thankyou\")\n",
    "\n",
    "\n",
    "\n",
    "d={'a':10,'b':20}\n",
    "match 30 :\n",
    "    case 10:\n",
    "        print(d['a'])\n",
    "    case 20:\n",
    "        print(d['b'])\n",
    "    case _:\n",
    "        print(\"thankyou\") \n",
    "\n",
    "\n",
    "d={'a':10,'b':20}\n",
    "match d['b'] :\n",
    "    case 10:\n",
    "        print(d['a'])\n",
    "    case 20:\n",
    "        print(d['b'])\n",
    "    case _:\n",
    "        print(\"thankyou\")                "
   ]
  },
  {
   "attachments": {},
   "cell_type": "markdown",
   "metadata": {},
   "source": [
    "7.match case using list"
   ]
  },
  {
   "cell_type": "code",
   "execution_count": 11,
   "metadata": {},
   "outputs": [
    {
     "name": "stdout",
     "output_type": "stream",
     "text": [
      "haii\n",
      "hello\n",
      "dharani\n",
      "bye\n",
      "haii\n"
     ]
    }
   ],
   "source": [
    "\n",
    "l=['a']\n",
    "match l:\n",
    "    case ['a'|'b']:\n",
    "        print(\"haii\")\n",
    "    case ['c']:\n",
    "        print(\"hello\")\n",
    "    case []:\n",
    "        print(\"bye\")  \n",
    "\n",
    "l=['c']\n",
    "match l:\n",
    "    case ['a'|'b']:\n",
    "        print(\"haii\")\n",
    "    case ['c']:\n",
    "        print(\"hello\")\n",
    "    case []:\n",
    "        print(\"bye\") \n",
    "\n",
    "\n",
    "l=['a','b']\n",
    "match l:\n",
    "    case ['a'|'b']:\n",
    "        print(\"haii\")\n",
    "    case ['c']:\n",
    "        print(\"hello\")\n",
    "    case []:\n",
    "        print(\"bye\") \n",
    "    case _:\n",
    "        print(\"dharani\")             \n",
    "\n",
    "\n",
    "l=[]\n",
    "match l:\n",
    "    case ['a'|'b']:\n",
    "        print(\"haii\")\n",
    "    case ['c']:\n",
    "        print(\"hello\")\n",
    "    case []:\n",
    "        print(\"bye\") \n",
    "\n",
    "l=['b']\n",
    "match l:\n",
    "    case ['a'|'b']:\n",
    "        print(\"haii\")\n",
    "    case ['c']:\n",
    "        print(\"hello\")\n",
    "    case []:\n",
    "        print(\"bye\")                                                    "
   ]
  },
  {
   "attachments": {},
   "cell_type": "markdown",
   "metadata": {},
   "source": []
  },
  {
   "cell_type": "code",
   "execution_count": 22,
   "metadata": {},
   "outputs": [
    {
     "name": "stdout",
     "output_type": "stream",
     "text": [
      "['c', 'd', 'e', 'h'] demo\n",
      "['b', 'c', 'd', 'e', 'h'] sample\n"
     ]
    }
   ],
   "source": [
    "l=['a','b','c','d','e','h']         #using packing concept(it will create one var and the var will accept 'n' no of values )\n",
    "match l:                            # *sample (it will store all the values ) \n",
    "    case ['a'|'b']:\n",
    "        print(\"haii\")\n",
    "    case ['c']:\n",
    "        print(\"hello\")\n",
    "    case []:\n",
    "        print(\"bye\")\n",
    "    case ['a','b',*demo]:\n",
    "        print(demo,\"demo\") \n",
    "    case ['a',*sample]:\n",
    "        print(sample,\"sample\") \n",
    "\n",
    "l=['a','b','c','d','e','h']         #using packing concept(it will create one var and the var will accept 'n' no of values )\n",
    "match l:                            # *sample (it will store all the values ) \n",
    "    case ['a'|'b']:\n",
    "        print(\"haii\")\n",
    "    case ['c']:\n",
    "        print(\"hello\")\n",
    "    case []:\n",
    "        print(\"bye\")\n",
    "    case ['a',*sample]:\n",
    "        print(sample,\"sample\") \n",
    "    case ['a','b',*demo]:\n",
    "        print(demo,\"demo\")            "
   ]
  },
  {
   "attachments": {},
   "cell_type": "markdown",
   "metadata": {},
   "source": []
  },
  {
   "cell_type": "code",
   "execution_count": 24,
   "metadata": {},
   "outputs": [
    {
     "name": "stdout",
     "output_type": "stream",
     "text": [
      "['a', 'b', 'c', 'd'] sample\n",
      "['a', 'b', 'c', 'd'] demo\n"
     ]
    }
   ],
   "source": [
    "l=['a','b','c','d','e','f']         #using packing concept(it will create one var and the var will accept 'n' no of values )\n",
    "match l:                            # *sample (it will store all the values ) \n",
    "    case ['a'|'b']:\n",
    "        print(\"haii\")\n",
    "    case [*sample,'e','f']:\n",
    "        print(sample,\"sample\") \n",
    "    case [*demo,\"demo\"]:\n",
    "        print(demo,\"demo\") \n",
    "\n",
    "\n",
    "l=['a','b','c','d','e','f']         #using packing concept(it will create one var and the var will accept 'n' no of values )\n",
    "match l:                            # *sample (it will store all the values ) \n",
    "    case ['a'|'b']:\n",
    "        print(\"haii\") \n",
    "    case [*demo,'e','f']:\n",
    "        print(demo,\"demo\") \n",
    "    case [*sample,'e','f']:\n",
    "        print(sample,\"sample\")           "
   ]
  },
  {
   "attachments": {},
   "cell_type": "markdown",
   "metadata": {},
   "source": []
  },
  {
   "cell_type": "code",
   "execution_count": 27,
   "metadata": {},
   "outputs": [
    {
     "name": "stdout",
     "output_type": "stream",
     "text": [
      "a\n",
      "a b\n"
     ]
    }
   ],
   "source": [
    "l=['a']\n",
    "match l:\n",
    "    case [x]:\n",
    "        print(x)\n",
    "    case [a,b]:\n",
    "        print(a,b) \n",
    "    case [m,n,o]:\n",
    "        print(m,n,o)\n",
    "    case [*abc]:\n",
    "        print(abc)\n",
    "\n",
    "\n",
    "l=['a','b']\n",
    "match l:\n",
    "    case [x]:\n",
    "        print(x)\n",
    "    case [a,b]:\n",
    "        print(a,b) \n",
    "    case [m,n,o]:\n",
    "        print(m,n,o)\n",
    "    case [*abc]:\n",
    "        print(abc)\n",
    "\n",
    "    "
   ]
  },
  {
   "attachments": {},
   "cell_type": "markdown",
   "metadata": {},
   "source": [
    "1.WAP to find out the greatest number from the given number."
   ]
  },
  {
   "cell_type": "code",
   "execution_count": 28,
   "metadata": {},
   "outputs": [
    {
     "name": "stdout",
     "output_type": "stream",
     "text": [
      "30 is a greatest value\n"
     ]
    }
   ],
   "source": [
    "n=eval(input(\"enter the list of values\"))                        \n",
    "match n:\n",
    "    case [a]:                   #10 \"great 10\"\n",
    "        print(a,\"is a greatest value\")\n",
    "    case [a,b]:                   #10,30 \"greatst one print\"\n",
    "        if a<b:\n",
    "            print(b,\"is a greatest value\")\n",
    "        else:\n",
    "            print(a,\"is a greatest value\")\n",
    "    case [a,b,c]:                  #10,20,30 \"greatest one print among the 3 values\"\n",
    "        if a>b and a>c:\n",
    "            print(a,\"is a greatest value\")\n",
    "        elif b>c:\n",
    "            print(b,\"is a greatest value\")\n",
    "        else:\n",
    "            print(c,\"is a greatest value\")\n",
    "    case [*abc]:          # print max value from the given list\n",
    "        print(max(abc))                                "
   ]
  },
  {
   "attachments": {},
   "cell_type": "markdown",
   "metadata": {},
   "source": [
    "2.conditions for cases"
   ]
  },
  {
   "cell_type": "code",
   "execution_count": 32,
   "metadata": {},
   "outputs": [
    {
     "name": "stdout",
     "output_type": "stream",
     "text": [
      "not eligible\n",
      "okk\n",
      "eligible\n"
     ]
    }
   ],
   "source": [
    "m=17\n",
    "match m:\n",
    "    case m if m<18:\n",
    "        print(\"not eligible\")\n",
    "    case m if m>18:\n",
    "        print(\"eligible\") \n",
    "    case m if m==18:\n",
    "        print(\"okk\") \n",
    "\n",
    "m=18\n",
    "match m:\n",
    "    case m if m<18:\n",
    "        print(\"not eligible\")\n",
    "    case m if m>18:\n",
    "        print(\"eligible\") \n",
    "    case m if m==18:\n",
    "        print(\"okk\")\n",
    "\n",
    "m=19\n",
    "match m:\n",
    "    case m if m<18:\n",
    "        print(\"not eligible\")\n",
    "    case m if m>18:\n",
    "        print(\"eligible\") \n",
    "    case m if m==18:\n",
    "        print(\"okk\")                    "
   ]
  },
  {
   "attachments": {},
   "cell_type": "markdown",
   "metadata": {},
   "source": []
  },
  {
   "cell_type": "code",
   "execution_count": 33,
   "metadata": {},
   "outputs": [
    {
     "name": "stdout",
     "output_type": "stream",
     "text": [
      "user request is www.fb.com response ok page found\n"
     ]
    }
   ],
   "source": [
    "m={'url':'www.fb.com','status':200,'response':'ok','resource':'home'}  \n",
    "match m:\n",
    "    case {'url':url,'status':403,'response':res,'resource':temp}:\n",
    "        print(\"user request is {url} response {res} but page not found\")\n",
    "    case {'url':url,'status':200,'response':res,'resource':temp}: \n",
    "        print(f\"user request is {url} response {res} page found\")   "
   ]
  },
  {
   "cell_type": "code",
   "execution_count": 37,
   "metadata": {},
   "outputs": [
    {
     "name": "stdout",
     "output_type": "stream",
     "text": [
      "user request is www.fb.com response ok page found\n",
      "user request is www.fb.com response ok but page not found server error\n"
     ]
    }
   ],
   "source": [
    "m={'url':'www.fb.com','status':200,'response':'ok','resource':'home'}  \n",
    "match m:\n",
    "    case {'url':url,'status':403,'response':res,'resource':temp}:\n",
    "        print(f\"user request is {url} response {res} but page not found\")\n",
    "    case {'url':url,'status':status,'response':res,'resource':temp} if 400<status<500:\n",
    "        print(f\"user request is {url} response {res} but page not found server error\")    \n",
    "    case {'url':url,'status':200,'response':res,'resource':temp}: \n",
    "        print(f\"user request is {url} response {res} page found\") \n",
    "\n",
    "\n",
    "m={'url':'www.fb.com','status':405,'response':'ok','resource':'home'}  \n",
    "match m:\n",
    "    case {'url':url,'status':403,'response':res,'resource':temp}:\n",
    "        print(f\"user request is {url} response {res} but page not found\")\n",
    "    case {'url':url,'status':status,'response':res,'resource':temp} if 400<status<500:\n",
    "        print(f\"user request is {url} response {res} but page not found server error\")    \n",
    "    case {'url':url,'status':200,'response':res,'resource':temp}: \n",
    "        print(f\"user request is {url} response {res} page found\") "
   ]
  }
 ],
 "metadata": {
  "kernelspec": {
   "display_name": "Python 3",
   "language": "python",
   "name": "python3"
  },
  "language_info": {
   "codemirror_mode": {
    "name": "ipython",
    "version": 3
   },
   "file_extension": ".py",
   "mimetype": "text/x-python",
   "name": "python",
   "nbconvert_exporter": "python",
   "pygments_lexer": "ipython3",
   "version": "3.11.3"
  },
  "orig_nbformat": 4
 },
 "nbformat": 4,
 "nbformat_minor": 2
}
