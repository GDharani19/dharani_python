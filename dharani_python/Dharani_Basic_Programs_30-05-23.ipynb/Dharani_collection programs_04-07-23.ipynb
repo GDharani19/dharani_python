{
 "cells": [
  {
   "attachments": {},
   "cell_type": "markdown",
   "metadata": {},
   "source": [
    "COLLECTION PROGRAMS USING WHILE LOOP "
   ]
  },
  {
   "attachments": {},
   "cell_type": "markdown",
   "metadata": {},
   "source": [
    "1.WAP to extract the each and every character or data items from the given collection (one by one)."
   ]
  },
  {
   "cell_type": "code",
   "execution_count": 1,
   "metadata": {},
   "outputs": [
    {
     "name": "stdout",
     "output_type": "stream",
     "text": [
      "P\n",
      "Y\n",
      "S\n",
      "P\n",
      "I\n",
      "D\n",
      "E\n",
      "R\n",
      "S\n"
     ]
    }
   ],
   "source": [
    "st='PYSPIDERS'\n",
    "start=0\n",
    "while start<len(st):\n",
    "    print(st[start])\n",
    "    start+=1"
   ]
  },
  {
   "attachments": {},
   "cell_type": "markdown",
   "metadata": {},
   "source": [
    "2.WAP to extract the values in list by using while loop."
   ]
  },
  {
   "cell_type": "code",
   "execution_count": 15,
   "metadata": {},
   "outputs": [
    {
     "name": "stdout",
     "output_type": "stream",
     "text": [
      "10\n",
      "20\n",
      "30\n",
      "40\n",
      "50\n",
      "60\n"
     ]
    }
   ],
   "source": [
    "list=[10,20,30,40,50,60]\n",
    "start=0\n",
    "while start<len(list):\n",
    "    print(list[start])\n",
    "    start+=1"
   ]
  },
  {
   "attachments": {},
   "cell_type": "markdown",
   "metadata": {},
   "source": [
    "3.WAP to extract the values in tuple by using while loop."
   ]
  },
  {
   "cell_type": "code",
   "execution_count": 17,
   "metadata": {},
   "outputs": [
    {
     "name": "stdout",
     "output_type": "stream",
     "text": [
      "10\n",
      "20\n",
      "30\n",
      "40\n",
      "50\n",
      "60\n"
     ]
    }
   ],
   "source": [
    "tup=(10,20,30,40,50,60)\n",
    "start=0\n",
    "while start<len(tup):\n",
    "    print(tup[start])\n",
    "    start+=1"
   ]
  },
  {
   "attachments": {},
   "cell_type": "markdown",
   "metadata": {},
   "source": [
    "4.WAP to extract the values in set by using while loop."
   ]
  },
  {
   "cell_type": "code",
   "execution_count": 8,
   "metadata": {},
   "outputs": [
    {
     "name": "stdout",
     "output_type": "stream",
     "text": [
      "1\n",
      "2\n",
      "3\n",
      "4\n",
      "5\n",
      "6\n",
      "7\n",
      "8\n"
     ]
    }
   ],
   "source": [
    "s={1,2,3,4,5,6,7,8}\n",
    "res=list(s)\n",
    "start=0\n",
    "while start<len(res):\n",
    "    print(res[start])\n",
    "    start+=1"
   ]
  },
  {
   "attachments": {},
   "cell_type": "markdown",
   "metadata": {},
   "source": [
    "5.WAP to extarct the keys from the dict by using while loop."
   ]
  },
  {
   "cell_type": "code",
   "execution_count": 7,
   "metadata": {},
   "outputs": [
    {
     "name": "stdout",
     "output_type": "stream",
     "text": [
      "a\n",
      "b\n",
      "c\n",
      "d\n"
     ]
    }
   ],
   "source": [
    "a={\"a\":10,\"b\":20,\"c\":30,\"d\":40}\n",
    "res=list(a)\n",
    "start=0\n",
    "while start<len(res):\n",
    "    print(res[start])\n",
    "    start+=1"
   ]
  },
  {
   "attachments": {},
   "cell_type": "markdown",
   "metadata": {},
   "source": [
    "6.WAP to extarct the values from the dict by using while loop."
   ]
  },
  {
   "cell_type": "code",
   "execution_count": 11,
   "metadata": {},
   "outputs": [
    {
     "name": "stdout",
     "output_type": "stream",
     "text": [
      "10\n",
      "20\n",
      "30\n",
      "40\n"
     ]
    }
   ],
   "source": [
    "a={\"a\":10,\"b\":20,\"c\":30,\"d\":40}\n",
    "res=list(a)\n",
    "start=0\n",
    "while start<len(res):\n",
    "    print(a[res[start]])\n",
    "    start+=1"
   ]
  },
  {
   "attachments": {},
   "cell_type": "markdown",
   "metadata": {},
   "source": [
    "7.WAP to extarct both the keys and values from the dict by using while loop."
   ]
  },
  {
   "cell_type": "code",
   "execution_count": 12,
   "metadata": {},
   "outputs": [
    {
     "name": "stdout",
     "output_type": "stream",
     "text": [
      "a 10\n",
      "b 20\n",
      "c 30\n",
      "d 40\n"
     ]
    }
   ],
   "source": [
    "a={\"a\":10,\"b\":20,\"c\":30,\"d\":40}\n",
    "res=list(a)\n",
    "start=0\n",
    "while start<len(res):\n",
    "    print(res[start],a[res[start]])\n",
    "    start+=1"
   ]
  },
  {
   "attachments": {},
   "cell_type": "markdown",
   "metadata": {},
   "source": [
    "8.WAP to extract the values in reverse order [right to left] from the given collection.\n",
    "using negative indexing "
   ]
  },
  {
   "cell_type": "code",
   "execution_count": 8,
   "metadata": {},
   "outputs": [
    {
     "name": "stdout",
     "output_type": "stream",
     "text": [
      "SREDIPSYP\n",
      "SREDIPSYP"
     ]
    }
   ],
   "source": [
    "st=\"PYSPIDERS\"\n",
    "start=-1\n",
    "end=-(len(st)+1)\n",
    "while start>end:\n",
    "    print(st[start],end=\"\")\n",
    "    start-=1\n",
    "\n",
    "print()\n",
    "\n",
    "st=\"PYSPIDERS\"\n",
    "start=-1\n",
    "end=-(len(st))\n",
    "while start>=end:\n",
    "    print(st[start],end=\"\")\n",
    "    start-=1    "
   ]
  },
  {
   "attachments": {},
   "cell_type": "markdown",
   "metadata": {},
   "source": [
    "9.WAP to extract the values in reverse order [right to left] from the given collection."
   ]
  },
  {
   "cell_type": "code",
   "execution_count": 18,
   "metadata": {},
   "outputs": [
    {
     "name": "stdout",
     "output_type": "stream",
     "text": [
      "40\n",
      "30\n",
      "20\n",
      "10\n"
     ]
    }
   ],
   "source": [
    "st=[10,20,30,40]\n",
    "start=len(st)-1\n",
    "end=0\n",
    "while start>=end:\n",
    "    print(st[start])\n",
    "    start-=1"
   ]
  },
  {
   "attachments": {},
   "cell_type": "markdown",
   "metadata": {},
   "source": [
    "10.WAP to extract the even index position values in a given collection."
   ]
  },
  {
   "cell_type": "code",
   "execution_count": 4,
   "metadata": {},
   "outputs": [
    {
     "name": "stdout",
     "output_type": "stream",
     "text": [
      "PSIES"
     ]
    }
   ],
   "source": [
    "st=\"PYSPIDERS\"\n",
    "start=0\n",
    "end=len(st)\n",
    "while start<end:\n",
    "    if start%2==0:\n",
    "        print(st[start],end=\"\")\n",
    "    start+=1    "
   ]
  },
  {
   "attachments": {},
   "cell_type": "markdown",
   "metadata": {},
   "source": [
    "11 . I/P:PYSPIDERS\n",
    "    O/P:PPE"
   ]
  },
  {
   "cell_type": "code",
   "execution_count": 10,
   "metadata": {},
   "outputs": [
    {
     "name": "stdout",
     "output_type": "stream",
     "text": [
      "PPE\n",
      "PPE"
     ]
    }
   ],
   "source": [
    "st=\"PYSPIDERS\"\n",
    "start=0\n",
    "end=len(st)\n",
    "while start<end:\n",
    "    if start%3==0:\n",
    "        print(st[start],end=\"\")\n",
    "    start+=1\n",
    "print()\n",
    "st=\"PYSPIDERS\"\n",
    "start=0\n",
    "end=len(st)\n",
    "while start<end:\n",
    "        print(st[start],end=\"\")\n",
    "        start+=3    "
   ]
  },
  {
   "attachments": {},
   "cell_type": "markdown",
   "metadata": {},
   "source": [
    "12.Generic program for +ve slicing."
   ]
  },
  {
   "cell_type": "code",
   "execution_count": 12,
   "metadata": {},
   "outputs": [
    {
     "name": "stdout",
     "output_type": "stream",
     "text": [
      "PYSPIDERS\n",
      "PSIES"
     ]
    }
   ],
   "source": [
    "st=\"PYSPIDERS\"\n",
    "start=0\n",
    "end=len(st)\n",
    "up=1\n",
    "while start<end:\n",
    "    if start%up==0:\n",
    "        print(st[start],end=\"\")\n",
    "    start+=1\n",
    "\n",
    "\n",
    "print()\n",
    "\n",
    "\n",
    "st=\"PYSPIDERS\"\n",
    "start=0\n",
    "end=len(st)\n",
    "#up=2\n",
    "while start<end:\n",
    "    if start%up==0:\n",
    "        print(st[start],end=\"\")\n",
    "    start+=2       "
   ]
  },
  {
   "attachments": {},
   "cell_type": "markdown",
   "metadata": {},
   "source": [
    "13.Generic program for -ve slicing."
   ]
  },
  {
   "cell_type": "code",
   "execution_count": 5,
   "metadata": {},
   "outputs": [
    {
     "name": "stdout",
     "output_type": "stream",
     "text": [
      "SREDIPSYP\n",
      "RDPY"
     ]
    }
   ],
   "source": [
    "st=\"PYSPIDERS\"\n",
    "start=-1\n",
    "end=-(len(st))\n",
    "up=-1\n",
    "while start>=end:\n",
    "    if start%up==0:\n",
    "        print(st[start],end=\"\")\n",
    "    start-=1  \n",
    "\n",
    "print()\n",
    "\n",
    "st=\"PYSPIDERS\"\n",
    "start=-1\n",
    "end=-(len(st))\n",
    "up=-2\n",
    "while start>=end:\n",
    "    if start%up==0:\n",
    "        print(st[start],end=\"\")\n",
    "    start-=1  \n"
   ]
  },
  {
   "attachments": {},
   "cell_type": "markdown",
   "metadata": {},
   "source": [
    "ASSIGNMENT QUESTIONS"
   ]
  },
  {
   "cell_type": "code",
   "execution_count": 1,
   "metadata": {},
   "outputs": [
    {
     "name": "stdout",
     "output_type": "stream",
     "text": [
      "PYSPIDERS"
     ]
    }
   ],
   "source": [
    "x=\"PYSPIDERS  10string QSPIDERS Ram Sam 10 20 30 Hello venu kashi\"\n",
    "start=0\n",
    "end=8\n",
    "while start<=end:\n",
    "    print(x[start],end=\"\")\n",
    "    start+=1    "
   ]
  },
  {
   "cell_type": "code",
   "execution_count": 9,
   "metadata": {},
   "outputs": [
    {
     "name": "stdout",
     "output_type": "stream",
     "text": [
      "str"
     ]
    }
   ],
   "source": [
    "x=\"PYSPIDERS  10string QSPIDERS Ram Sam 10 20 30 Hello venu kashi\"\n",
    "start=13\n",
    "end=15\n",
    "while start<=end:\n",
    "    print(x[start],end=\"\")\n",
    "    start+=1"
   ]
  },
  {
   "cell_type": "code",
   "execution_count": 11,
   "metadata": {},
   "outputs": [
    {
     "name": "stdout",
     "output_type": "stream",
     "text": [
      "SPIDE"
     ]
    }
   ],
   "source": [
    "x=\"PYSPIDERS  10string QSPIDERS Ram Sam 10 20 30 Hello venu kashi\"\n",
    "start=2\n",
    "end=6\n",
    "while start<=end:\n",
    "    print(x[start],end=\"\")\n",
    "    start+=1"
   ]
  },
  {
   "cell_type": "code",
   "execution_count": 13,
   "metadata": {},
   "outputs": [
    {
     "name": "stdout",
     "output_type": "stream",
     "text": [
      "QPD"
     ]
    }
   ],
   "source": [
    "x=\"PYSPIDERS  10string QSPIDERS Ram Sam 10 20 30 Hello venu kashi\"\n",
    "start=20\n",
    "end=24\n",
    "while start<=end:\n",
    "    print(x[start],end=\"\")\n",
    "    start+=2"
   ]
  },
  {
   "cell_type": "code",
   "execution_count": 26,
   "metadata": {},
   "outputs": [
    {
     "name": "stdout",
     "output_type": "stream",
     "text": [
      " maS maR"
     ]
    }
   ],
   "source": [
    "x=\"PYSPIDERS  10string QSPIDERS Ram Sam 10 20 30 Hello venu kashi\"\n",
    "start=-26\n",
    "end=-33\n",
    "while start>=end:\n",
    "    print(x[start],end=\"\")\n",
    "    start-=1\n"
   ]
  },
  {
   "cell_type": "code",
   "execution_count": 39,
   "metadata": {},
   "outputs": [
    {
     "name": "stdout",
     "output_type": "stream",
     "text": [
      "30 10 20"
     ]
    }
   ],
   "source": [
    "x=\"PYSPIDERS  10string QSPIDERS Ram Sam 10 20 30 Hello venu kashi\"\n",
    "print(x[43]+x[44],end=\" \")\n",
    "start=37\n",
    "end=41\n",
    "while start<=end:\n",
    "    print(x[start],end=\"\")\n",
    "    start+=1"
   ]
  },
  {
   "cell_type": "code",
   "execution_count": 49,
   "metadata": {},
   "outputs": [
    {
     "name": "stdout",
     "output_type": "stream",
     "text": [
      "3010 20"
     ]
    }
   ],
   "source": [
    "x=\"PYSPIDERS  10string QSPIDERS Ram Sam 10 20 30 Hello venu kashi\"\n",
    "start=43\n",
    "end=44\n",
    "while start<=end:\n",
    "    print(x[start],end=\"\")\n",
    "    start+=1\n",
    "start=37\n",
    "end=41\n",
    "while start<=end:\n",
    "    print(x[start],end=\"\")\n",
    "    start+=1\n"
   ]
  },
  {
   "cell_type": "code",
   "execution_count": 60,
   "metadata": {},
   "outputs": [
    {
     "name": "stdout",
     "output_type": "stream",
     "text": [
      "venu"
     ]
    }
   ],
   "source": [
    "x=\"PYSPIDERS  10string QSPIDERS Ram Sam 10 20 30 Hello venu kashi\"\n",
    "start=52\n",
    "end=55\n",
    "while start<=end:\n",
    "    print(x[start],end=\"\")\n",
    "    start+=1"
   ]
  },
  {
   "cell_type": "code",
   "execution_count": 65,
   "metadata": {},
   "outputs": [
    {
     "name": "stdout",
     "output_type": "stream",
     "text": [
      "kashi venu"
     ]
    }
   ],
   "source": [
    "x=\"PYSPIDERS  10string QSPIDERS Ram Sam 10 20 30 Hello venu kashi\"\n",
    "start=57\n",
    "end=61\n",
    "while start<=end:\n",
    "    print(x[start],end=\"\")\n",
    "    start+=1\n",
    "start=51\n",
    "end=55\n",
    "while start<=end:\n",
    "    print(x[start],end=\"\")\n",
    "    start+=1"
   ]
  },
  {
   "cell_type": "code",
   "execution_count": 68,
   "metadata": {},
   "outputs": [
    {
     "name": "stdout",
     "output_type": "stream",
     "text": [
      "SEIS"
     ]
    }
   ],
   "source": [
    "x=\"PYSPIDERS  10string QSPIDERS Ram Sam 10 20 30 Hello venu kashi\"\n",
    "start=2\n",
    "end=6\n",
    "while start<=end:\n",
    "    print(x[start],end=\"\")\n",
    "    start+=4\n",
    "start=4\n",
    "end=8\n",
    "while start<=end:\n",
    "    print(x[start],end=\"\")\n",
    "    start+=4    "
   ]
  },
  {
   "cell_type": "code",
   "execution_count": 69,
   "metadata": {},
   "outputs": [
    {
     "name": "stdout",
     "output_type": "stream",
     "text": [
      "srn"
     ]
    }
   ],
   "source": [
    "x=\"PYSPIDERS  10string QSPIDERS Ram Sam 10 20 30 Hello venu kashi\"\n",
    "start=13\n",
    "end=17\n",
    "while start<=end:\n",
    "    print(x[start],end=\"\")\n",
    "    start+=2"
   ]
  },
  {
   "cell_type": "code",
   "execution_count": 84,
   "metadata": {},
   "outputs": [
    {
     "name": "stdout",
     "output_type": "stream",
     "text": [
      "SEDIP"
     ]
    }
   ],
   "source": [
    "x=\"PYSPIDERS  10string QSPIDERS Ram Sam 10 20 30 Hello venu kashi\"\n",
    "start=2\n",
    "end=6\n",
    "while start<=end:\n",
    "    print(x[start],end=\"\")\n",
    "    start+=4 \n",
    "start=5\n",
    "end=3\n",
    "while start>=end:\n",
    "    print(x[start],end=\"\")\n",
    "    start-=1     "
   ]
  },
  {
   "cell_type": "code",
   "execution_count": 3,
   "metadata": {},
   "outputs": [
    {
     "name": "stdout",
     "output_type": "stream",
     "text": [
      "SREDIPSQ"
     ]
    }
   ],
   "source": [
    "x=\"PYSPIDERS  10string QSPIDERS Ram Sam 10 20 30 Hello venu kashi\"\n",
    "start=27\n",
    "end=20\n",
    "while start>=end:\n",
    "    print(x[start],end=\"\")\n",
    "    start-=1"
   ]
  },
  {
   "cell_type": "code",
   "execution_count": 6,
   "metadata": {},
   "outputs": [
    {
     "name": "stdout",
     "output_type": "stream",
     "text": [
      "gnirts01"
     ]
    }
   ],
   "source": [
    "x=\"PYSPIDERS  10string QSPIDERS Ram Sam 10 20 30 Hello venu kashi\"\n",
    "start=18\n",
    "end=11\n",
    "while start>=end:\n",
    "    print(x[start],end=\"\")\n",
    "    start-=1"
   ]
  },
  {
   "cell_type": "code",
   "execution_count": 9,
   "metadata": {},
   "outputs": [
    {
     "name": "stdout",
     "output_type": "stream",
     "text": [
      "a\n"
     ]
    }
   ],
   "source": [
    "x=\"PYSPIDERS  10string QSPIDERS Ram Sam 10 20 30 Hello venu kashi\"\n",
    "start=30\n",
    "end=start\n",
    "while start==end:\n",
    "    print(x[end])\n",
    "    start+=1"
   ]
  },
  {
   "cell_type": "code",
   "execution_count": 11,
   "metadata": {},
   "outputs": [
    {
     "name": "stdout",
     "output_type": "stream",
     "text": [
      "Sm"
     ]
    }
   ],
   "source": [
    "x=\"PYSPIDERS  10string QSPIDERS Ram Sam 10 20 30 Hello venu kashi\"\n",
    "start=33\n",
    "end=35\n",
    "while start<=end:\n",
    "    print(x[start],end=\"\")\n",
    "    start+=2"
   ]
  },
  {
   "cell_type": "code",
   "execution_count": 14,
   "metadata": {},
   "outputs": [
    {
     "name": "stdout",
     "output_type": "stream",
     "text": [
      "SREDIPSQ"
     ]
    }
   ],
   "source": [
    "x=\"PYSPIDERS  10string QSPIDERS Ram Sam 10 20 30 Hello venu kashi\"\n",
    "start=27\n",
    "end=20\n",
    "while start>=end:\n",
    "    print(x[start],end=\"\")\n",
    "    start-=1"
   ]
  },
  {
   "attachments": {},
   "cell_type": "markdown",
   "metadata": {},
   "source": [
    "14.WAP to extract uppercase characters from the given string."
   ]
  },
  {
   "cell_type": "code",
   "execution_count": 3,
   "metadata": {},
   "outputs": [
    {
     "name": "stdout",
     "output_type": "stream",
     "text": [
      "DHAN\n",
      "PYSPIDERSQSPIDERSRSH"
     ]
    }
   ],
   "source": [
    "x=\"DHarANi\"\n",
    "start=0\n",
    "end=len(x)\n",
    "while start<end:\n",
    "    if \"A\"<=x[start]<=\"Z\":\n",
    "        print(x[start],end=\"\")\n",
    "    start+=1\n",
    "\n",
    "print()\n",
    "\n",
    "x=\"PYSPIDERS  10string QSPIDERS Ram Sam 10 20 30 Hello venu kashi\"\n",
    "start=0\n",
    "end=len(x)\n",
    "while start<end:\n",
    "    if 'A'<=x[start]<='Z':\n",
    "        print(x[start],end=\"\")\n",
    "    start+=1   "
   ]
  },
  {
   "attachments": {},
   "cell_type": "markdown",
   "metadata": {},
   "source": [
    "14.WAP to extract uppercase characters from the given string. and store the values."
   ]
  },
  {
   "cell_type": "code",
   "execution_count": 68,
   "metadata": {},
   "outputs": [
    {
     "name": "stdout",
     "output_type": "stream",
     "text": [
      "DHAN\n"
     ]
    }
   ],
   "source": [
    "x=\"DHarANi\"\n",
    "start=0\n",
    "res=\"\"\n",
    "end=len(x)\n",
    "while start<end:\n",
    "    if \"A\"<=x[start]<=\"Z\":\n",
    "        res+=x[start]\n",
    "    start+=1 \n",
    "print(res)           \n"
   ]
  },
  {
   "attachments": {},
   "cell_type": "markdown",
   "metadata": {},
   "source": [
    "15.WAP to extract lowercase characters from the given string."
   ]
  },
  {
   "cell_type": "code",
   "execution_count": 14,
   "metadata": {},
   "outputs": [
    {
     "name": "stdout",
     "output_type": "stream",
     "text": [
      "ari"
     ]
    }
   ],
   "source": [
    "x=\"DHarANi\"\n",
    "start=0\n",
    "end=len(x)\n",
    "while start<end:\n",
    "    if \"a\"<=x[start]<=\"z\":\n",
    "        print(x[start],end=\"\")\n",
    "    start+=1"
   ]
  },
  {
   "attachments": {},
   "cell_type": "markdown",
   "metadata": {},
   "source": [
    "16.WAP to extract numbers from the given string."
   ]
  },
  {
   "cell_type": "code",
   "execution_count": 1,
   "metadata": {},
   "outputs": [
    {
     "name": "stdout",
     "output_type": "stream",
     "text": [
      "1 4 9 6 "
     ]
    }
   ],
   "source": [
    "x=\"DH14ar9A6Ni\"\n",
    "start=0\n",
    "end=len(x)\n",
    "while start<end:\n",
    "    if \"0\"<=x[start]<=\"9\":\n",
    "        print(x[start],end=\" \")\n",
    "    start+=1"
   ]
  },
  {
   "attachments": {},
   "cell_type": "markdown",
   "metadata": {},
   "source": [
    "17.WAP to print the even positions or even index positions from the given string."
   ]
  },
  {
   "cell_type": "code",
   "execution_count": 2,
   "metadata": {},
   "outputs": [
    {
     "name": "stdout",
     "output_type": "stream",
     "text": [
      "Daai\n",
      "D\n"
     ]
    }
   ],
   "source": [
    "st=\"DHaRaNi\"\n",
    "start=0\n",
    "end=len(st)\n",
    "while start<end:\n",
    "    if start%2==0:\n",
    "        print(st[start],end=\"\")\n",
    "    start+=1 \n",
    "\n",
    "print()\n",
    "\n",
    "st=\"DHaRaNi\"\n",
    "start=0\n",
    "end=len(st)\n",
    "while start<end:\n",
    "    if 'A'<=st[start]<='Z' and start%2==0:\n",
    "        print(st[start])\n",
    "    start+=1        "
   ]
  },
  {
   "attachments": {},
   "cell_type": "markdown",
   "metadata": {},
   "source": [
    "18.WAP to print the odd positions from the given string."
   ]
  },
  {
   "cell_type": "code",
   "execution_count": 47,
   "metadata": {},
   "outputs": [
    {
     "name": "stdout",
     "output_type": "stream",
     "text": [
      "HRN"
     ]
    }
   ],
   "source": [
    "st=\"DHaRaNi\"\n",
    "start=0\n",
    "end=len(st)\n",
    "while start<end:\n",
    "    if start%2!=0:\n",
    "        print(st[start],end=\"\")\n",
    "    start+=1    "
   ]
  },
  {
   "attachments": {},
   "cell_type": "markdown",
   "metadata": {},
   "source": [
    "19.WAP to print the special characters."
   ]
  },
  {
   "cell_type": "code",
   "execution_count": 1,
   "metadata": {},
   "outputs": [
    {
     "name": "stdout",
     "output_type": "stream",
     "text": [
      "@@\n",
      "@@*$%\n"
     ]
    }
   ],
   "source": [
    "st=\"Dh@r@ni\"\n",
    "start=0\n",
    "end=len(st)\n",
    "while start<end:\n",
    "    if not ( 'A'<=st[start]<='Z' or 'a'<=st[start]<='z' or '0'<=st[start]<='9'):\n",
    "        print(st[start],end=\"\")\n",
    "    start+=1  \n",
    "\n",
    "print()\n",
    "\n",
    "st=\"Dh@r@*$%ni\"\n",
    "start=0\n",
    "res=\"\"\n",
    "end=len(st)\n",
    "while start<end:\n",
    "    if not ( 'A'<=st[start]<='Z' or 'a'<=st[start]<='z' or '0'<=st[start]<='9'):\n",
    "        res+=st[start]\n",
    "    start+=1 \n",
    "print(res)           "
   ]
  },
  {
   "attachments": {},
   "cell_type": "markdown",
   "metadata": {},
   "source": [
    "20.WAP to print the vowels from the given string."
   ]
  },
  {
   "cell_type": "code",
   "execution_count": 1,
   "metadata": {},
   "outputs": [
    {
     "name": "stdout",
     "output_type": "stream",
     "text": [
      "aai\n",
      "DHRN"
     ]
    }
   ],
   "source": [
    "st=\"DHaRaNi\" \n",
    "start=0\n",
    "end=len(st)\n",
    "while start<end:\n",
    "    if st[start] in \"AEIOUaeiou\":\n",
    "        print(st[start],end=\"\")\n",
    "    start+=1  \n",
    "\n",
    "print()\n",
    "\n",
    "st=\"DHaRaNi\" \n",
    "start=0\n",
    "end=len(st)\n",
    "while start<end:\n",
    "    if st[start] not in \"AEIOUaeiou\":\n",
    "        print(st[start],end=\"\")\n",
    "    start+=1        "
   ]
  },
  {
   "attachments": {},
   "cell_type": "markdown",
   "metadata": {},
   "source": [
    "21.WAP to print the ascii values of each character in the given string."
   ]
  },
  {
   "cell_type": "code",
   "execution_count": 56,
   "metadata": {},
   "outputs": [
    {
     "name": "stdout",
     "output_type": "stream",
     "text": [
      "68 104 97 82 97 78 105 "
     ]
    }
   ],
   "source": [
    "st=\"DhaRaNi\"\n",
    "start=0\n",
    "end=len(st)\n",
    "while start<end:\n",
    "    if 'A'<=st[start]<='Z' or 'a'<=st[start]<='z' :\n",
    "        print(ord(st[start]),end=\" \")\n",
    "    start+=1    "
   ]
  },
  {
   "attachments": {},
   "cell_type": "markdown",
   "metadata": {},
   "source": [
    "22.WAP to extract and store the values from the given string."
   ]
  },
  {
   "cell_type": "code",
   "execution_count": 62,
   "metadata": {},
   "outputs": [
    {
     "name": "stdout",
     "output_type": "stream",
     "text": [
      "aai\n"
     ]
    }
   ],
   "source": [
    "a=input(\"enter a string\")\n",
    "start=0\n",
    "res=\"\" \n",
    "while start<len(a):\n",
    "    if a[start] in \"AEIOUaeiou\":\n",
    "        res+=a[start]\n",
    "    start+=1\n",
    "print(res)    "
   ]
  },
  {
   "attachments": {},
   "cell_type": "markdown",
   "metadata": {},
   "source": [
    "23.WAP to eliminate the vowels from the given string."
   ]
  },
  {
   "cell_type": "code",
   "execution_count": 1,
   "metadata": {},
   "outputs": [
    {
     "name": "stdout",
     "output_type": "stream",
     "text": [
      "PYSPDRS  10strng QSPDRS Rm Sm 10 20 30 Hll vn ksh\n"
     ]
    }
   ],
   "source": [
    "x=\"PYSPIDERS  10string QSPIDERS Ram Sam 10 20 30 Hello venu kashi\"\n",
    "start=0\n",
    "end=len(x)\n",
    "emp=\"\"\n",
    "while start<end:\n",
    "    if x[start] not in \"AEIOUaeiou\":\n",
    "        emp+=x[start]\n",
    "    start+=1\n",
    "print(emp)        "
   ]
  },
  {
   "cell_type": "markdown",
   "metadata": {},
   "source": [
    "24.WAP to eliminate the duplicate values from the given string.[USING \"NOT IN\" OPERATOR]\n",
    "\n",
    "   24.WAP to extract the unique characters from the given string.[USING \"NOT IN\" OPERATOR]"
   ]
  },
  {
   "cell_type": "code",
   "execution_count": 2,
   "metadata": {},
   "outputs": [
    {
     "name": "stdout",
     "output_type": "stream",
     "text": [
      "HELOWRD\n"
     ]
    }
   ],
   "source": [
    "st=\"HELLOWORLD\"\n",
    "start=0\n",
    "res=\"\"  \n",
    "while start<len(st):\n",
    "    if st[start] not in res:\n",
    "        res+=st[start]\n",
    "    start+=1\n",
    "print(res)    "
   ]
  },
  {
   "cell_type": "markdown",
   "metadata": {},
   "source": [
    "25.WAP to extract the duplicate and unique values from the given string."
   ]
  },
  {
   "cell_type": "code",
   "execution_count": 14,
   "metadata": {},
   "outputs": [
    {
     "name": "stdout",
     "output_type": "stream",
     "text": [
      "HELOWRD\n",
      "LOL\n"
     ]
    }
   ],
   "source": [
    "st=\"HELLOWORLD\"\n",
    "start=0\n",
    "uni=\"\" \n",
    "dup=\"\"  \n",
    "while start<len(st):\n",
    "    if st[start] not in uni:\n",
    "        uni+=st[start]\n",
    "    else:\n",
    "        dup+=st[start] \n",
    "    start+=1\n",
    "print(uni)\n",
    "print(dup)           "
   ]
  },
  {
   "cell_type": "markdown",
   "metadata": {},
   "source": [
    "26.WAP to count the duplicate characters from the givem string."
   ]
  },
  {
   "cell_type": "code",
   "execution_count": 4,
   "metadata": {},
   "outputs": [
    {
     "name": "stdout",
     "output_type": "stream",
     "text": [
      "3\n"
     ]
    }
   ],
   "source": [
    "st=\"HELLOWORLD\"\n",
    "res=0\n",
    "start=0\n",
    "while start<len(st):\n",
    "    count=0\n",
    "    j=start+1\n",
    "    while j<len(st):\n",
    "        if st[start]==st[j]:\n",
    "            count+=1\n",
    "        j+=1\n",
    "    if count!=0:\n",
    "        res+=1\n",
    "    start+=1\n",
    "print(res)                "
   ]
  },
  {
   "cell_type": "markdown",
   "metadata": {},
   "source": [
    "27.WAP to count the unique characters from the givem string."
   ]
  },
  {
   "cell_type": "code",
   "execution_count": 5,
   "metadata": {},
   "outputs": [
    {
     "name": "stdout",
     "output_type": "stream",
     "text": [
      "7\n"
     ]
    }
   ],
   "source": [
    "st=\"HELLOWORLD\"\n",
    "res=0\n",
    "start=0\n",
    "while start<len(st):\n",
    "    count=0\n",
    "    j=start+1\n",
    "    while j<len(st):\n",
    "        if st[start]==st[j]:\n",
    "            count+=1\n",
    "        j+=1\n",
    "    if count==0:\n",
    "        res+=1\n",
    "    start+=1\n",
    "print(res)                "
   ]
  },
  {
   "cell_type": "markdown",
   "metadata": {},
   "source": [
    "28.WAP to remove or eliminate the duplicate characters from the given string.(without using \"in\" operator)"
   ]
  },
  {
   "cell_type": "code",
   "execution_count": 6,
   "metadata": {},
   "outputs": [
    {
     "name": "stdout",
     "output_type": "stream",
     "text": [
      "HEWORLD\n"
     ]
    }
   ],
   "source": [
    "st=\"HELLOWORLD\"\n",
    "start=0\n",
    "res=\"\"\n",
    "while start<len(st):\n",
    "    count=0\n",
    "    j=start+1\n",
    "    while j<len(st):\n",
    "        if st[start]==st[j]:\n",
    "            count+=1\n",
    "        j+=1\n",
    "    if count==0:\n",
    "        res+=st[start] \n",
    "    start+=1\n",
    "print(res)               "
   ]
  },
  {
   "cell_type": "markdown",
   "metadata": {},
   "source": [
    "29.WAP to extract the duplicate characters from the given string. (with out using \"in\" operator)."
   ]
  },
  {
   "cell_type": "code",
   "execution_count": 7,
   "metadata": {},
   "outputs": [
    {
     "name": "stdout",
     "output_type": "stream",
     "text": [
      "LLO\n"
     ]
    }
   ],
   "source": [
    "st=\"HELLOWORLD\"\n",
    "start=0\n",
    "res=\"\"\n",
    "while start<len(st):\n",
    "    count=0\n",
    "    j=start+1\n",
    "    while j<len(st):\n",
    "        if st[start]==st[j]:\n",
    "            count+=1\n",
    "        j+=1\n",
    "    if count!=0:\n",
    "        res+=st[start] \n",
    "    start+=1\n",
    "print(res)               "
   ]
  },
  {
   "cell_type": "markdown",
   "metadata": {},
   "source": [
    "29.WAP to extract the unique characters from the given string. (with out using \"in\" operator)."
   ]
  },
  {
   "cell_type": "code",
   "execution_count": 8,
   "metadata": {},
   "outputs": [
    {
     "name": "stdout",
     "output_type": "stream",
     "text": [
      "HEWORLD\n"
     ]
    }
   ],
   "source": [
    "st=\"HELLOWORLD\"\n",
    "start=0\n",
    "res=\"\"\n",
    "while start<len(st):\n",
    "    count=0\n",
    "    j=start+1\n",
    "    while j<len(st):\n",
    "        if st[start]==st[j]:\n",
    "            count+=1\n",
    "        j+=1\n",
    "    if count==0:\n",
    "        res+=st[start] \n",
    "    start+=1\n",
    "print(res)               "
   ]
  },
  {
   "cell_type": "markdown",
   "metadata": {},
   "source": [
    "30.WAP to count the unique characters from the given string. (with out using \"in\" operator)."
   ]
  },
  {
   "cell_type": "code",
   "execution_count": 9,
   "metadata": {},
   "outputs": [
    {
     "name": "stdout",
     "output_type": "stream",
     "text": [
      "7\n"
     ]
    }
   ],
   "source": [
    "st=\"HELLOWORLD\"\n",
    "start=0\n",
    "res=\"\"\n",
    "while start<len(st):\n",
    "    count=0\n",
    "    j=start+1\n",
    "    while j<len(st):\n",
    "        if st[start]==st[j]:\n",
    "            count+=1\n",
    "        j+=1\n",
    "    if count==0:\n",
    "        res+=st[start] \n",
    "    start+=1\n",
    "print(len(res))               "
   ]
  },
  {
   "cell_type": "markdown",
   "metadata": {},
   "source": [
    "30.WAP to count the duplicate characters from the given string. (with out using \"in\" operator)."
   ]
  },
  {
   "cell_type": "code",
   "execution_count": 11,
   "metadata": {},
   "outputs": [
    {
     "name": "stdout",
     "output_type": "stream",
     "text": [
      "3\n"
     ]
    }
   ],
   "source": [
    "st=\"HELLOWORLD\"\n",
    "start=0\n",
    "res=\"\"\n",
    "while start<len(st):\n",
    "    count=0\n",
    "    j=start+1\n",
    "    while j<len(st):\n",
    "        if st[start]==st[j]:\n",
    "            count+=1\n",
    "        j+=1\n",
    "    if count!=0:\n",
    "        res+=st[start] \n",
    "    start+=1\n",
    "print(len(res))               "
   ]
  }
 ],
 "metadata": {
  "kernelspec": {
   "display_name": "Python 3",
   "language": "python",
   "name": "python3"
  },
  "language_info": {
   "codemirror_mode": {
    "name": "ipython",
    "version": 3
   },
   "file_extension": ".py",
   "mimetype": "text/x-python",
   "name": "python",
   "nbconvert_exporter": "python",
   "pygments_lexer": "ipython3",
   "version": "3.11.3"
  },
  "orig_nbformat": 4
 },
 "nbformat": 4,
 "nbformat_minor": 2
}
