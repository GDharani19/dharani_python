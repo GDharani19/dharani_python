{
 "cells": [
  {
   "attachments": {},
   "cell_type": "markdown",
   "metadata": {},
   "source": [
    "COLLECTION PROGRAMS USING WHILE LOOP "
   ]
  },
  {
   "attachments": {},
   "cell_type": "markdown",
   "metadata": {},
   "source": [
    "1.WAP to extract the each and every character or data items from the given collection (one by one)."
   ]
  },
  {
   "cell_type": "code",
   "execution_count": 1,
   "metadata": {},
   "outputs": [
    {
     "name": "stdout",
     "output_type": "stream",
     "text": [
      "P\n",
      "Y\n",
      "S\n",
      "P\n",
      "I\n",
      "D\n",
      "E\n",
      "R\n",
      "S\n"
     ]
    }
   ],
   "source": [
    "st='PYSPIDERS'\n",
    "start=0\n",
    "while start<len(st):\n",
    "    print(st[start])\n",
    "    start+=1"
   ]
  },
  {
   "cell_type": "code",
   "execution_count": 6,
   "metadata": {},
   "outputs": [
    {
     "name": "stdout",
     "output_type": "stream",
     "text": [
      "P\n",
      "Y\n",
      "S\n",
      "P\n",
      "I\n",
      "D\n",
      "E\n",
      "R\n",
      "S\n"
     ]
    }
   ],
   "source": [
    "x=\"PYSPIDERS  10string QSPIDERS Ram Sam 10 20 30 Hello venu kashi\"\n",
    "start=0\n",
    "end=8\n",
    "while start<=end:\n",
    "    print(x[start])\n",
    "    start+=1    "
   ]
  },
  {
   "cell_type": "code",
   "execution_count": 9,
   "metadata": {},
   "outputs": [
    {
     "name": "stdout",
     "output_type": "stream",
     "text": [
      "str"
     ]
    }
   ],
   "source": [
    "x=\"PYSPIDERS  10string QSPIDERS Ram Sam 10 20 30 Hello venu kashi\"\n",
    "start=13\n",
    "end=15\n",
    "while start<=end:\n",
    "    print(x[start],end=\"\")\n",
    "    start+=1"
   ]
  },
  {
   "cell_type": "code",
   "execution_count": 11,
   "metadata": {},
   "outputs": [
    {
     "name": "stdout",
     "output_type": "stream",
     "text": [
      "SPIDE"
     ]
    }
   ],
   "source": [
    "x=\"PYSPIDERS  10string QSPIDERS Ram Sam 10 20 30 Hello venu kashi\"\n",
    "start=2\n",
    "end=6\n",
    "while start<=end:\n",
    "    print(x[start],end=\"\")\n",
    "    start+=1"
   ]
  },
  {
   "cell_type": "code",
   "execution_count": 13,
   "metadata": {},
   "outputs": [
    {
     "name": "stdout",
     "output_type": "stream",
     "text": [
      "QPD"
     ]
    }
   ],
   "source": [
    "x=\"PYSPIDERS  10string QSPIDERS Ram Sam 10 20 30 Hello venu kashi\"\n",
    "start=20\n",
    "end=24\n",
    "while start<=end:\n",
    "    print(x[start],end=\"\")\n",
    "    start+=2"
   ]
  },
  {
   "cell_type": "code",
   "execution_count": 26,
   "metadata": {},
   "outputs": [
    {
     "name": "stdout",
     "output_type": "stream",
     "text": [
      " maS maR"
     ]
    }
   ],
   "source": [
    "x=\"PYSPIDERS  10string QSPIDERS Ram Sam 10 20 30 Hello venu kashi\"\n",
    "start=-26\n",
    "end=-33\n",
    "while start>=end:\n",
    "    print(x[start],end=\"\")\n",
    "    start-=1\n"
   ]
  },
  {
   "cell_type": "code",
   "execution_count": 39,
   "metadata": {},
   "outputs": [
    {
     "name": "stdout",
     "output_type": "stream",
     "text": [
      "30 10 20"
     ]
    }
   ],
   "source": [
    "x=\"PYSPIDERS  10string QSPIDERS Ram Sam 10 20 30 Hello venu kashi\"\n",
    "print(x[43]+x[44],end=\" \")\n",
    "start=37\n",
    "end=41\n",
    "while start<=end:\n",
    "    print(x[start],end=\"\")\n",
    "    start+=1"
   ]
  },
  {
   "cell_type": "code",
   "execution_count": 49,
   "metadata": {},
   "outputs": [
    {
     "name": "stdout",
     "output_type": "stream",
     "text": [
      "3010 20"
     ]
    }
   ],
   "source": [
    "x=\"PYSPIDERS  10string QSPIDERS Ram Sam 10 20 30 Hello venu kashi\"\n",
    "start=43\n",
    "end=44\n",
    "while start<=end:\n",
    "    print(x[start],end=\"\")\n",
    "    start+=1\n",
    "start=37\n",
    "end=41\n",
    "while start<=end:\n",
    "    print(x[start],end=\"\")\n",
    "    start+=1\n"
   ]
  },
  {
   "cell_type": "code",
   "execution_count": 60,
   "metadata": {},
   "outputs": [
    {
     "name": "stdout",
     "output_type": "stream",
     "text": [
      "venu"
     ]
    }
   ],
   "source": [
    "x=\"PYSPIDERS  10string QSPIDERS Ram Sam 10 20 30 Hello venu kashi\"\n",
    "start=52\n",
    "end=55\n",
    "while start<=end:\n",
    "    print(x[start],end=\"\")\n",
    "    start+=1"
   ]
  },
  {
   "cell_type": "code",
   "execution_count": 65,
   "metadata": {},
   "outputs": [
    {
     "name": "stdout",
     "output_type": "stream",
     "text": [
      "kashi venu"
     ]
    }
   ],
   "source": [
    "x=\"PYSPIDERS  10string QSPIDERS Ram Sam 10 20 30 Hello venu kashi\"\n",
    "start=57\n",
    "end=61\n",
    "while start<=end:\n",
    "    print(x[start],end=\"\")\n",
    "    start+=1\n",
    "start=51\n",
    "end=55\n",
    "while start<=end:\n",
    "    print(x[start],end=\"\")\n",
    "    start+=1"
   ]
  },
  {
   "cell_type": "code",
   "execution_count": 68,
   "metadata": {},
   "outputs": [
    {
     "name": "stdout",
     "output_type": "stream",
     "text": [
      "SEIS"
     ]
    }
   ],
   "source": [
    "x=\"PYSPIDERS  10string QSPIDERS Ram Sam 10 20 30 Hello venu kashi\"\n",
    "start=2\n",
    "end=6\n",
    "while start<=end:\n",
    "    print(x[start],end=\"\")\n",
    "    start+=4\n",
    "start=4\n",
    "end=8\n",
    "while start<=end:\n",
    "    print(x[start],end=\"\")\n",
    "    start+=4    "
   ]
  },
  {
   "cell_type": "code",
   "execution_count": 69,
   "metadata": {},
   "outputs": [
    {
     "name": "stdout",
     "output_type": "stream",
     "text": [
      "srn"
     ]
    }
   ],
   "source": [
    "x=\"PYSPIDERS  10string QSPIDERS Ram Sam 10 20 30 Hello venu kashi\"\n",
    "start=13\n",
    "end=17\n",
    "while start<=end:\n",
    "    print(x[start],end=\"\")\n",
    "    start+=2"
   ]
  },
  {
   "cell_type": "code",
   "execution_count": 84,
   "metadata": {},
   "outputs": [
    {
     "name": "stdout",
     "output_type": "stream",
     "text": [
      "SEDIP"
     ]
    }
   ],
   "source": [
    "x=\"PYSPIDERS  10string QSPIDERS Ram Sam 10 20 30 Hello venu kashi\"\n",
    "start=2\n",
    "end=6\n",
    "while start<=end:\n",
    "    print(x[start],end=\"\")\n",
    "    start+=4 \n",
    "start=5\n",
    "end=3\n",
    "while start>=end:\n",
    "    print(x[start],end=\"\")\n",
    "    start-=1     "
   ]
  },
  {
   "cell_type": "code",
   "execution_count": 129,
   "metadata": {},
   "outputs": [
    {
     "name": "stdout",
     "output_type": "stream",
     "text": [
      "SRDIPSQ"
     ]
    }
   ],
   "source": [
    "x=\"PYSPIDERS  10string QSPIDERS Ram Sam 10 20 30 Hello venu kashi\"\n",
    "start=27\n",
    "end=26\n",
    "while start>=end:\n",
    "    print(x[start],end=\"\")\n",
    "    start-=1\n",
    "start=-38\n",
    "end=-42\n",
    "while start>=end:\n",
    "    print(x[start],end=\"\")\n",
    "    start-=1"
   ]
  },
  {
   "cell_type": "code",
   "execution_count": null,
   "metadata": {},
   "outputs": [],
   "source": []
  }
 ],
 "metadata": {
  "kernelspec": {
   "display_name": "Python 3",
   "language": "python",
   "name": "python3"
  },
  "language_info": {
   "codemirror_mode": {
    "name": "ipython",
    "version": 3
   },
   "file_extension": ".py",
   "mimetype": "text/x-python",
   "name": "python",
   "nbconvert_exporter": "python",
   "pygments_lexer": "ipython3",
   "version": "3.11.3"
  },
  "orig_nbformat": 4
 },
 "nbformat": 4,
 "nbformat_minor": 2
}
