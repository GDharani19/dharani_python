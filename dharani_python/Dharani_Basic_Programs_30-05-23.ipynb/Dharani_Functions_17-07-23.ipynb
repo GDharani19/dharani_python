{
 "cells": [
  {
   "cell_type": "code",
   "execution_count": 4,
   "metadata": {},
   "outputs": [
    {
     "data": {
      "text/plain": [
       "<function __main__.sample()>"
      ]
     },
     "execution_count": 4,
     "metadata": {},
     "output_type": "execute_result"
    }
   ],
   "source": [
    "def sample ():    # IT RETURNS FUNCTION ADDRESS\n",
    "    print(\"haii\")\n",
    "sample    "
   ]
  },
  {
   "cell_type": "code",
   "execution_count": 5,
   "metadata": {},
   "outputs": [
    {
     "name": "stdout",
     "output_type": "stream",
     "text": [
      "haii\n"
     ]
    }
   ],
   "source": [
    "def sample():        # IT WILL EXECUTE THE FUNCTION AND RETURNS THE VALUE FROM THE FUNCTION AREA. \n",
    "    print(\"haii\")\n",
    "sample()    "
   ]
  },
  {
   "cell_type": "code",
   "execution_count": 6,
   "metadata": {},
   "outputs": [
    {
     "data": {
      "text/plain": [
       "<function __main__.sample()>"
      ]
     },
     "execution_count": 6,
     "metadata": {},
     "output_type": "execute_result"
    }
   ],
   "source": [
    "def sample():                 # PASS BY REFERRENCE (FUNCTION ADDRESS IS ASSIGN TO A NEW VAR NAME)\n",
    "    print(\"haii\")             # IT RETURNS FUNCTION ADDRESS (BUT FUNCTION WILL NOT EXECUTE)\n",
    "demo=sample\n",
    "demo    "
   ]
  },
  {
   "cell_type": "code",
   "execution_count": 7,
   "metadata": {},
   "outputs": [
    {
     "name": "stdout",
     "output_type": "stream",
     "text": [
      "haii\n"
     ]
    }
   ],
   "source": [
    "def sample():                 # IT WILL EXECUTE THE FUNCTION AND RETURN THE VALUE.\n",
    "    print(\"haii\")             \n",
    "demo=sample\n",
    "demo()    "
   ]
  },
  {
   "cell_type": "code",
   "execution_count": 8,
   "metadata": {},
   "outputs": [
    {
     "name": "stdout",
     "output_type": "stream",
     "text": [
      "haii\n",
      "None\n"
     ]
    }
   ],
   "source": [
    "def sample ():               # SAMPLE CALL , IT RETURNS NONE VALUE.\n",
    "    print(\"haii\")\n",
    "print(sample())    "
   ]
  },
  {
   "cell_type": "code",
   "execution_count": 9,
   "metadata": {},
   "outputs": [
    {
     "name": "stdout",
     "output_type": "stream",
     "text": [
      "None\n"
     ]
    }
   ],
   "source": [
    "def sample ():\n",
    "    return               # RETURN KEYWORD IT RETURNS NONE VALUE.\n",
    "print(sample())          # RETURN IS A KEYWORD (IT IS A FUNCTION TERMINATION)\n",
    "                         # ONCE CONTROL SEEN THE RETURN KEYWORD IT WILL STOP THE FUNCTION EXECUTION AND RETURN'S THE VALUE\n",
    "                         # FROM FUNCTION AREA TO WHERE FUNCTION CALL HAPPEN'S.\n",
    "                         # DEFAULTLY IT WILL CARRY NONE VALUE.\n",
    "                         # IF DEVELOPER WILL ASSIGN ANY VALUE THEN IT RETURN THAT VALUE. "
   ]
  },
  {
   "cell_type": "code",
   "execution_count": 15,
   "metadata": {},
   "outputs": [
    {
     "name": "stdout",
     "output_type": "stream",
     "text": [
      "haii\n",
      "haii\n"
     ]
    }
   ],
   "source": [
    "def sample():\n",
    "    return\"haii\"\n",
    "print(sample())\n",
    "print(sample())"
   ]
  },
  {
   "cell_type": "markdown",
   "metadata": {},
   "source": [
    "POSITIONAL ARGUMENTS"
   ]
  },
  {
   "cell_type": "code",
   "execution_count": 17,
   "metadata": {},
   "outputs": [
    {
     "name": "stdout",
     "output_type": "stream",
     "text": [
      "modelno: oneplus 14 pro\n",
      "name: oneplus rock\n",
      "price: 85000\n"
     ]
    }
   ],
   "source": [
    "def mobile(modelno,name,price):                 \n",
    "    print(\"modelno:\",modelno)\n",
    "    print(\"name:\",name)\n",
    "    print(\"price:\",price)\n",
    "mobile(\"oneplus 14 pro\",\"oneplus rock\",85000)    \n"
   ]
  },
  {
   "cell_type": "markdown",
   "metadata": {},
   "source": [
    "POSITIONAL ARGUMENTS RULES:\n",
    "\n",
    "# NO OF ACTUAL POSITIONAL ARGUMENTS IS EQUAL TO THE NO OF FORMAL POSITIONAL ARGUMENTS. "
   ]
  },
  {
   "cell_type": "code",
   "execution_count": 18,
   "metadata": {},
   "outputs": [
    {
     "ename": "TypeError",
     "evalue": "mobile() missing 1 required positional argument: 'price'",
     "output_type": "error",
     "traceback": [
      "\u001b[1;31m---------------------------------------------------------------------------\u001b[0m",
      "\u001b[1;31mTypeError\u001b[0m                                 Traceback (most recent call last)",
      "Cell \u001b[1;32mIn[18], line 5\u001b[0m\n\u001b[0;32m      3\u001b[0m     \u001b[39mprint\u001b[39m(\u001b[39m\"\u001b[39m\u001b[39mname:\u001b[39m\u001b[39m\"\u001b[39m,name)\n\u001b[0;32m      4\u001b[0m     \u001b[39mprint\u001b[39m(\u001b[39m\"\u001b[39m\u001b[39mprice:\u001b[39m\u001b[39m\"\u001b[39m,price)\n\u001b[1;32m----> 5\u001b[0m mobile(\u001b[39m\"\u001b[39;49m\u001b[39moneplus 14 pro\u001b[39;49m\u001b[39m\"\u001b[39;49m,\u001b[39m\"\u001b[39;49m\u001b[39moneplus rock\u001b[39;49m\u001b[39m\"\u001b[39;49m)    \n",
      "\u001b[1;31mTypeError\u001b[0m: mobile() missing 1 required positional argument: 'price'"
     ]
    }
   ],
   "source": [
    "def mobile(modelno,name,price):                    # error: mobile() \n",
    "    print(\"modelno:\",modelno)\n",
    "    print(\"name:\",name)\n",
    "    print(\"price:\",price)\n",
    "mobile(\"oneplus 14 pro\",\"oneplus rock\")    \n"
   ]
  },
  {
   "cell_type": "code",
   "execution_count": 19,
   "metadata": {},
   "outputs": [
    {
     "ename": "TypeError",
     "evalue": "mobile() takes 3 positional arguments but 4 were given",
     "output_type": "error",
     "traceback": [
      "\u001b[1;31m---------------------------------------------------------------------------\u001b[0m",
      "\u001b[1;31mTypeError\u001b[0m                                 Traceback (most recent call last)",
      "Cell \u001b[1;32mIn[19], line 5\u001b[0m\n\u001b[0;32m      3\u001b[0m     \u001b[39mprint\u001b[39m(\u001b[39m\"\u001b[39m\u001b[39mname:\u001b[39m\u001b[39m\"\u001b[39m,name)\n\u001b[0;32m      4\u001b[0m     \u001b[39mprint\u001b[39m(\u001b[39m\"\u001b[39m\u001b[39mprice:\u001b[39m\u001b[39m\"\u001b[39m,price)\n\u001b[1;32m----> 5\u001b[0m mobile(\u001b[39m\"\u001b[39;49m\u001b[39moneplus 14 pro\u001b[39;49m\u001b[39m\"\u001b[39;49m,\u001b[39m\"\u001b[39;49m\u001b[39moneplus rock\u001b[39;49m\u001b[39m\"\u001b[39;49m,\u001b[39m85000\u001b[39;49m,\u001b[39m600\u001b[39;49m)    \n",
      "\u001b[1;31mTypeError\u001b[0m: mobile() takes 3 positional arguments but 4 were given"
     ]
    }
   ],
   "source": [
    "def mobile(modelno,name,price):\n",
    "    print(\"modelno:\",modelno)\n",
    "    print(\"name:\",name)\n",
    "    print(\"price:\",price)\n",
    "mobile(\"oneplus 14 pro\",\"oneplus rock\",85000,600)    "
   ]
  },
  {
   "cell_type": "code",
   "execution_count": 20,
   "metadata": {},
   "outputs": [
    {
     "ename": "TypeError",
     "evalue": "mobile() missing 3 required positional arguments: 'modelno', 'name', and 'price'",
     "output_type": "error",
     "traceback": [
      "\u001b[1;31m---------------------------------------------------------------------------\u001b[0m",
      "\u001b[1;31mTypeError\u001b[0m                                 Traceback (most recent call last)",
      "Cell \u001b[1;32mIn[20], line 5\u001b[0m\n\u001b[0;32m      3\u001b[0m     \u001b[39mprint\u001b[39m(\u001b[39m\"\u001b[39m\u001b[39mname:\u001b[39m\u001b[39m\"\u001b[39m,name)\n\u001b[0;32m      4\u001b[0m     \u001b[39mprint\u001b[39m(\u001b[39m\"\u001b[39m\u001b[39mprice:\u001b[39m\u001b[39m\"\u001b[39m,price)\n\u001b[1;32m----> 5\u001b[0m mobile()    \n",
      "\u001b[1;31mTypeError\u001b[0m: mobile() missing 3 required positional arguments: 'modelno', 'name', and 'price'"
     ]
    }
   ],
   "source": [
    "def mobile(modelno,name,price):\n",
    "    print(\"modelno:\",modelno)\n",
    "    print(\"name:\",name)\n",
    "    print(\"price:\",price)\n",
    "mobile()    "
   ]
  },
  {
   "cell_type": "markdown",
   "metadata": {},
   "source": [
    "DEFAULT ARGUMENTS:"
   ]
  },
  {
   "cell_type": "code",
   "execution_count": 21,
   "metadata": {},
   "outputs": [
    {
     "name": "stdout",
     "output_type": "stream",
     "text": [
      "pen name: cello fast\n",
      "pen type: ball pen\n",
      "pen company: cello\n",
      "pen price: 5\n"
     ]
    }
   ],
   "source": [
    "def pen(name=\"cello fast\",p_type=\"ball pen\",company=\"cello\",price=5):\n",
    "    print(\"pen name:\",name)\n",
    "    print(\"pen type:\",p_type)\n",
    "    print(\"pen company:\",company)\n",
    "    print(\"pen price:\",price)\n",
    "pen()    "
   ]
  },
  {
   "cell_type": "code",
   "execution_count": 22,
   "metadata": {},
   "outputs": [
    {
     "name": "stdout",
     "output_type": "stream",
     "text": [
      "pen name: iball slow\n",
      "pen type: ball pen\n",
      "pen company: iball\n",
      "pen price: 1500\n"
     ]
    }
   ],
   "source": [
    "def pen(name=\"cello fast\",p_type=\"ball pen\",company=\"cello\",price=5):\n",
    "    print(\"pen name:\",name)\n",
    "    print(\"pen type:\",p_type)\n",
    "    print(\"pen company:\",company)\n",
    "    print(\"pen price:\",price)\n",
    "pen(\"iball slow\",\"ball pen\",\"iball\",1500)    "
   ]
  },
  {
   "cell_type": "code",
   "execution_count": 23,
   "metadata": {},
   "outputs": [
    {
     "name": "stdout",
     "output_type": "stream",
     "text": [
      "pen name: iball slow\n",
      "pen type: ball pen\n",
      "pen company: cello\n",
      "pen price: 5\n"
     ]
    }
   ],
   "source": [
    "def pen(name=\"cello fast\",p_type=\"ball pen\",company=\"cello\",price=5):\n",
    "    print(\"pen name:\",name)\n",
    "    print(\"pen type:\",p_type)\n",
    "    print(\"pen company:\",company)\n",
    "    print(\"pen price:\",price)\n",
    "pen(\"iball slow\",\"ball pen\")    "
   ]
  },
  {
   "cell_type": "code",
   "execution_count": 24,
   "metadata": {},
   "outputs": [
    {
     "ename": "TypeError",
     "evalue": "pen() takes from 0 to 4 positional arguments but 5 were given",
     "output_type": "error",
     "traceback": [
      "\u001b[1;31m---------------------------------------------------------------------------\u001b[0m",
      "\u001b[1;31mTypeError\u001b[0m                                 Traceback (most recent call last)",
      "Cell \u001b[1;32mIn[24], line 6\u001b[0m\n\u001b[0;32m      4\u001b[0m     \u001b[39mprint\u001b[39m(\u001b[39m\"\u001b[39m\u001b[39mpen company:\u001b[39m\u001b[39m\"\u001b[39m,company)\n\u001b[0;32m      5\u001b[0m     \u001b[39mprint\u001b[39m(\u001b[39m\"\u001b[39m\u001b[39mpen price:\u001b[39m\u001b[39m\"\u001b[39m,price)\n\u001b[1;32m----> 6\u001b[0m pen(\u001b[39m\"\u001b[39;49m\u001b[39miball slow\u001b[39;49m\u001b[39m\"\u001b[39;49m,\u001b[39m\"\u001b[39;49m\u001b[39mball pen\u001b[39;49m\u001b[39m\"\u001b[39;49m,\u001b[39m\"\u001b[39;49m\u001b[39miball\u001b[39;49m\u001b[39m\"\u001b[39;49m,\u001b[39m1500\u001b[39;49m,\u001b[39m1560\u001b[39;49m)    \n",
      "\u001b[1;31mTypeError\u001b[0m: pen() takes from 0 to 4 positional arguments but 5 were given"
     ]
    }
   ],
   "source": [
    "def pen(name=\"cello fast\",p_type=\"ball pen\",company=\"cello\",price=5):\n",
    "    print(\"pen name:\",name)\n",
    "    print(\"pen type:\",p_type)\n",
    "    print(\"pen company:\",company)\n",
    "    print(\"pen price:\",price)\n",
    "pen(\"iball slow\",\"ball pen\",\"iball\",1500,1560)    "
   ]
  },
  {
   "cell_type": "markdown",
   "metadata": {},
   "source": [
    "KEYWORD ARGUMENTS:"
   ]
  },
  {
   "cell_type": "code",
   "execution_count": 25,
   "metadata": {},
   "outputs": [
    {
     "name": "stdout",
     "output_type": "stream",
     "text": [
      "college name: rainbow\n",
      "college address: hyd\n",
      "college branches: ['cse', 'ece', 'eee']\n",
      "college fee: 100000\n"
     ]
    }
   ],
   "source": [
    "def college(name,address,branches,fee):\n",
    "    print(\"college name:\",name)\n",
    "    print(\"college address:\",address)\n",
    "    print(\"college branches:\",branches)\n",
    "    print(\"college fee:\",fee)\n",
    "college(\"rainbow\",\"hyd\",['cse','ece','eee'],100000)    "
   ]
  },
  {
   "cell_type": "code",
   "execution_count": 26,
   "metadata": {},
   "outputs": [
    {
     "name": "stdout",
     "output_type": "stream",
     "text": [
      "college name: hyd\n",
      "college address: rainbow\n",
      "college branches: ['cse', 'ece', 'eee']\n",
      "college fee: 100000\n"
     ]
    }
   ],
   "source": [
    "def college(name,address,branches,fee):\n",
    "    print(\"college name:\",name)\n",
    "    print(\"college address:\",address)\n",
    "    print(\"college branches:\",branches)\n",
    "    print(\"college fee:\",fee)\n",
    "college(\"hyd\",\"rainbow\",['cse','ece','eee'],100000)    "
   ]
  },
  {
   "cell_type": "code",
   "execution_count": 27,
   "metadata": {},
   "outputs": [
    {
     "name": "stdout",
     "output_type": "stream",
     "text": [
      "college name: rainbow\n",
      "college address: hyd\n",
      "college branches: ['cse', 'ece', 'eee']\n",
      "college fee: 100000\n"
     ]
    }
   ],
   "source": [
    "def college(name,address,branches,fee):\n",
    "    print(\"college name:\",name)\n",
    "    print(\"college address:\",address)\n",
    "    print(\"college branches:\",branches)\n",
    "    print(\"college fee:\",fee)\n",
    "college(name=\"rainbow\",address=\"hyd\",branches=['cse','ece','eee'],fee=100000)    "
   ]
  },
  {
   "cell_type": "code",
   "execution_count": 2,
   "metadata": {},
   "outputs": [
    {
     "ename": "TypeError",
     "evalue": "college() missing 4 required positional arguments: 'name', 'address', 'branches', and 'fee'",
     "output_type": "error",
     "traceback": [
      "\u001b[1;31m---------------------------------------------------------------------------\u001b[0m",
      "\u001b[1;31mTypeError\u001b[0m                                 Traceback (most recent call last)",
      "Cell \u001b[1;32mIn[2], line 6\u001b[0m\n\u001b[0;32m      4\u001b[0m     \u001b[39mprint\u001b[39m(\u001b[39m\"\u001b[39m\u001b[39mcollege branches:\u001b[39m\u001b[39m\"\u001b[39m,branches)\n\u001b[0;32m      5\u001b[0m     \u001b[39mprint\u001b[39m(\u001b[39m\"\u001b[39m\u001b[39mcollege fee:\u001b[39m\u001b[39m\"\u001b[39m,fee)\n\u001b[1;32m----> 6\u001b[0m college()    \n",
      "\u001b[1;31mTypeError\u001b[0m: college() missing 4 required positional arguments: 'name', 'address', 'branches', and 'fee'"
     ]
    }
   ],
   "source": [
    "def college(name,address,branches,fee):\n",
    "    print(\"college name:\",name)\n",
    "    print(\"college address:\",address)\n",
    "    print(\"college branches:\",branches)\n",
    "    print(\"college fee:\",fee)\n",
    "college()    "
   ]
  },
  {
   "cell_type": "code",
   "execution_count": 31,
   "metadata": {},
   "outputs": [
    {
     "name": "stdout",
     "output_type": "stream",
     "text": [
      "college name: rainbow\n",
      "college address: hyd\n",
      "college branches: ['cse', 'ece', 'eee']\n",
      "college fee: 100000\n"
     ]
    }
   ],
   "source": [
    "def college(name,address,branches,fee):\n",
    "    print(\"college name:\",name)\n",
    "    print(\"college address:\",address)\n",
    "    print(\"college branches:\",branches)\n",
    "    print(\"college fee:\",fee)\n",
    "college(branches=['cse','ece','eee'],fee=100000,name=\"rainbow\",address=\"hyd\")    "
   ]
  },
  {
   "cell_type": "code",
   "execution_count": 32,
   "metadata": {},
   "outputs": [
    {
     "name": "stdout",
     "output_type": "stream",
     "text": [
      "college name: rainbow\n",
      "college address: ['cse', 'ece', 'eee']\n",
      "college branches: 100000\n",
      "college fee: 5000\n"
     ]
    }
   ],
   "source": [
    "def college(name=\"abc\",address=\"HYD\",branches=None,fee=5000):\n",
    "    print(\"college name:\",name)\n",
    "    print(\"college address:\",address)\n",
    "    print(\"college branches:\",branches)\n",
    "    print(\"college fee:\",fee)\n",
    "college(\"rainbow\",['cse','ece','eee'],100000)    "
   ]
  },
  {
   "cell_type": "code",
   "execution_count": 34,
   "metadata": {},
   "outputs": [
    {
     "name": "stdout",
     "output_type": "stream",
     "text": [
      "college name: rainbow\n",
      "college address: HYD\n",
      "college branches: ['cse', 'ece', 'eee']\n",
      "college fee: 100000\n"
     ]
    }
   ],
   "source": [
    "def college(name=\"abc\",address=\"HYD\",branches=None,fee=5000):\n",
    "    print(\"college name:\",name)\n",
    "    print(\"college address:\",address)\n",
    "    print(\"college branches:\",branches)\n",
    "    print(\"college fee:\",fee)\n",
    "college(name=\"rainbow\",branches=['cse','ece','eee'],fee=100000) "
   ]
  },
  {
   "cell_type": "code",
   "execution_count": 35,
   "metadata": {},
   "outputs": [
    {
     "ename": "TypeError",
     "evalue": "person() takes 3 positional arguments but 4 were given",
     "output_type": "error",
     "traceback": [
      "\u001b[1;31m---------------------------------------------------------------------------\u001b[0m",
      "\u001b[1;31mTypeError\u001b[0m                                 Traceback (most recent call last)",
      "Cell \u001b[1;32mIn[35], line 5\u001b[0m\n\u001b[0;32m      3\u001b[0m     \u001b[39mprint\u001b[39m(\u001b[39m\"\u001b[39m\u001b[39mperson age:\u001b[39m\u001b[39m\"\u001b[39m,age)\n\u001b[0;32m      4\u001b[0m     \u001b[39mprint\u001b[39m(\u001b[39m\"\u001b[39m\u001b[39mperson email:\u001b[39m\u001b[39m\"\u001b[39m,email)\n\u001b[1;32m----> 5\u001b[0m person(\u001b[39m\"\u001b[39;49m\u001b[39mram\u001b[39;49m\u001b[39m\"\u001b[39;49m,\u001b[39m23\u001b[39;49m,\u001b[39m\"\u001b[39;49m\u001b[39mram@gmaol.com\u001b[39;49m\u001b[39m\"\u001b[39;49m,\u001b[39m9963979285\u001b[39;49m)    \n",
      "\u001b[1;31mTypeError\u001b[0m: person() takes 3 positional arguments but 4 were given"
     ]
    }
   ],
   "source": [
    "def person(name,age,email):\n",
    "    print(\"person name:\",name)\n",
    "    print(\"person age:\",age)\n",
    "    print(\"person email:\",email)\n",
    "person(\"ram\",23,\"ram@gmail.com\",9963979285)    "
   ]
  },
  {
   "cell_type": "code",
   "execution_count": 3,
   "metadata": {},
   "outputs": [
    {
     "name": "stdout",
     "output_type": "stream",
     "text": [
      "person name: ram\n",
      "person age: 23\n",
      "person email: ram@gmail.com\n",
      "person phone: (9963979285, 5.6)\n"
     ]
    }
   ],
   "source": [
    "def person(name,age,email,*args):\n",
    "    print(\"person name:\",name)\n",
    "    print(\"person age:\",age)\n",
    "    print(\"person email:\",email)\n",
    "    print(\"person phone:\",args)\n",
    "person(\"ram\",23,\"ram@gmail.com\",9963979285,5.6)"
   ]
  },
  {
   "cell_type": "code",
   "execution_count": 38,
   "metadata": {},
   "outputs": [
    {
     "ename": "SyntaxError",
     "evalue": "positional argument follows keyword argument (1110203236.py, line 6)",
     "output_type": "error",
     "traceback": [
      "\u001b[1;36m  Cell \u001b[1;32mIn[38], line 6\u001b[1;36m\u001b[0m\n\u001b[1;33m    person(height=5.6,\"ram\",\"ram@gmail.com\",phone=9963979285,height=5.6)\u001b[0m\n\u001b[1;37m                                                                       ^\u001b[0m\n\u001b[1;31mSyntaxError\u001b[0m\u001b[1;31m:\u001b[0m positional argument follows keyword argument\n"
     ]
    }
   ],
   "source": [
    "def person(name,age,email,**kwargs):\n",
    "    print(\"person name:\",name)\n",
    "    print(\"person age:\",age)\n",
    "    print(\"person email:\",email)\n",
    "    print(\"person details:\",kwargs)\n",
    "person(height=5.6,\"ram\",\"ram@gmail.com\",phone=9963979285,height=5.6)    "
   ]
  },
  {
   "cell_type": "code",
   "execution_count": 6,
   "metadata": {},
   "outputs": [
    {
     "name": "stdout",
     "output_type": "stream",
     "text": [
      "person name: ram\n",
      "person age: 23\n",
      "person email: ram@gmail.com\n",
      "person details: {}\n"
     ]
    }
   ],
   "source": [
    "def person(name,age,email,**kwargs):\n",
    "    print(\"person name:\",name)\n",
    "    print(\"person age:\",age)\n",
    "    print(\"person email:\",email)\n",
    "    print(\"person details:\",kwargs)\n",
    "person(\"ram\",23,\"ram@gmail.com\")  "
   ]
  },
  {
   "cell_type": "code",
   "execution_count": 41,
   "metadata": {},
   "outputs": [
    {
     "name": "stdout",
     "output_type": "stream",
     "text": [
      "person name: ram\n",
      "person age: 23\n",
      "person email: ram@gmail.com\n",
      "person details: (9963979285,) {}\n"
     ]
    }
   ],
   "source": [
    "def person(name,age,email,*args,**kwargs):\n",
    "    print(\"person name:\",name)\n",
    "    print(\"person age:\",age)\n",
    "    print(\"person email:\",email)\n",
    "    print(\"person details:\",args,kwargs)\n",
    "person(\"ram\",23,\"ram@gmail.com\",9963979285)  "
   ]
  },
  {
   "cell_type": "code",
   "execution_count": 42,
   "metadata": {},
   "outputs": [
    {
     "name": "stdout",
     "output_type": "stream",
     "text": [
      "person name: ram\n",
      "person age: 23\n",
      "person email: ram@gmail.com\n",
      "person details: (9963979285,) {'height': 5.8}\n"
     ]
    }
   ],
   "source": [
    "def person(name,age,email,*args,**kwargs):\n",
    "    print(\"person name:\",name)\n",
    "    print(\"person age:\",age)\n",
    "    print(\"person email:\",email)\n",
    "    print(\"person details:\",args,kwargs)\n",
    "person(\"ram\",23,\"ram@gmail.com\",9963979285,height=5.8)  "
   ]
  },
  {
   "cell_type": "code",
   "execution_count": 43,
   "metadata": {},
   "outputs": [
    {
     "name": "stdout",
     "output_type": "stream",
     "text": [
      "person name: ram\n",
      "person age: 23\n",
      "person email: ram@gmail.com\n",
      "person details: (9963979285,) {'height': 5.8}\n"
     ]
    }
   ],
   "source": [
    "def person(name=\"\",age=0,email=\"\",*args,**kwargs):\n",
    "    print(\"person name:\",name)\n",
    "    print(\"person age:\",age)\n",
    "    print(\"person email:\",email)\n",
    "    print(\"person details:\",args,kwargs)\n",
    "person(\"ram\",23,\"ram@gmail.com\",9963979285,height=5.8)  "
   ]
  }
 ],
 "metadata": {
  "kernelspec": {
   "display_name": "Python 3",
   "language": "python",
   "name": "python3"
  },
  "language_info": {
   "codemirror_mode": {
    "name": "ipython",
    "version": 3
   },
   "file_extension": ".py",
   "mimetype": "text/x-python",
   "name": "python",
   "nbconvert_exporter": "python",
   "pygments_lexer": "ipython3",
   "version": "3.11.3"
  },
  "orig_nbformat": 4
 },
 "nbformat": 4,
 "nbformat_minor": 2
}
