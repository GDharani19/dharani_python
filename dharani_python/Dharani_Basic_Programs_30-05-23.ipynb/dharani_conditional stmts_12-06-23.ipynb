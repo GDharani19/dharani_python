{
 "cells": [
  {
   "attachments": {},
   "cell_type": "markdown",
   "metadata": {},
   "source": [
    "1. WAP to check whether a number is positive . if positive,print a message positive."
   ]
  },
  {
   "cell_type": "code",
   "execution_count": 3,
   "metadata": {},
   "outputs": [
    {
     "name": "stdout",
     "output_type": "stream",
     "text": [
      "given number is positive\n"
     ]
    }
   ],
   "source": [
    "a=eval(input(\"enter a value:\"))\n",
    "if a>0:\n",
    "    print(\"given number is positive\")"
   ]
  },
  {
   "attachments": {},
   "cell_type": "markdown",
   "metadata": {},
   "source": [
    "2.WAP to display hello world if the number is greater than 1 and lesser than 5."
   ]
  },
  {
   "cell_type": "code",
   "execution_count": 7,
   "metadata": {},
   "outputs": [
    {
     "name": "stdout",
     "output_type": "stream",
     "text": [
      "hello world\n"
     ]
    }
   ],
   "source": [
    "a=eval(input(\"enter the value:\"))\n",
    "if a>1 and a<5:\n",
    "    print(\"hello world\")\n",
    "    "
   ]
  },
  {
   "attachments": {},
   "cell_type": "markdown",
   "metadata": {},
   "source": [
    "3.WAP to check whether the given number is divisible by 3 or not if print fizz."
   ]
  },
  {
   "cell_type": "code",
   "execution_count": 8,
   "metadata": {},
   "outputs": [
    {
     "name": "stdout",
     "output_type": "stream",
     "text": [
      "fizz\n"
     ]
    }
   ],
   "source": [
    "a=eval(input(\"enter the value:\"))\n",
    "if a%3==0:\n",
    "    print(\"fizz\")"
   ]
  },
  {
   "attachments": {},
   "cell_type": "markdown",
   "metadata": {},
   "source": [
    "4.WAP to check whether the given number is divisible by 2 and 6 . if the condition is satisfied,convert the given number into a complex number."
   ]
  },
  {
   "cell_type": "code",
   "execution_count": 13,
   "metadata": {},
   "outputs": [
    {
     "name": "stdout",
     "output_type": "stream",
     "text": [
      "(12+0j)\n"
     ]
    }
   ],
   "source": [
    "a=eval(input(\"enter the value:\"))\n",
    "if a%2==0 and a%6==0:\n",
    "    b=(complex(a))\n",
    "    print(complex(a))\n"
   ]
  },
  {
   "attachments": {},
   "cell_type": "markdown",
   "metadata": {},
   "source": [
    "5.WAP to check whether a given input is divisible by 3 or 5. if the condition is satisfied , the number converted to a list\n",
    "i/p:30\n",
    "o/p:['3','0']"
   ]
  },
  {
   "cell_type": "code",
   "execution_count": 16,
   "metadata": {},
   "outputs": [
    {
     "name": "stdout",
     "output_type": "stream",
     "text": [
      "['3', '0']\n"
     ]
    }
   ],
   "source": [
    "a=eval(input(\"enter the value:\"))\n",
    "if a%3==0 and a%5==0:\n",
    "    b=str(a)\n",
    "    c=list(b)\n",
    "    print(c)"
   ]
  },
  {
   "attachments": {},
   "cell_type": "markdown",
   "metadata": {},
   "source": [
    "6.WAP to check whether a given number is multiple of 5 or not."
   ]
  },
  {
   "cell_type": "code",
   "execution_count": 19,
   "metadata": {},
   "outputs": [
    {
     "name": "stdout",
     "output_type": "stream",
     "text": [
      "25 is a multiple of 5\n"
     ]
    }
   ],
   "source": [
    "a=eval(input(\"enter the value:\"))\n",
    "if a%5==0:\n",
    "    print(a,\"is a multiple of 5\")"
   ]
  },
  {
   "attachments": {},
   "cell_type": "markdown",
   "metadata": {},
   "source": [
    "7.WAP to check whether a given input is 0 or not if 0 prints 0."
   ]
  },
  {
   "cell_type": "code",
   "execution_count": 23,
   "metadata": {},
   "outputs": [
    {
     "name": "stdout",
     "output_type": "stream",
     "text": [
      "0\n"
     ]
    }
   ],
   "source": [
    "a=eval(input(\"enter the value:\"))\n",
    "if a==0:\n",
    "    print(0)"
   ]
  },
  {
   "attachments": {},
   "cell_type": "markdown",
   "metadata": {},
   "source": [
    "8.WAP to check whether a number is even or not . if nagative,print a message nagative."
   ]
  },
  {
   "cell_type": "code",
   "execution_count": 25,
   "metadata": {},
   "outputs": [
    {
     "name": "stdout",
     "output_type": "stream",
     "text": [
      "given number is negative\n"
     ]
    }
   ],
   "source": [
    "a=eval(input(\"enter the value:\"))\n",
    "if a<0:\n",
    "    print(\"given number is negative\")"
   ]
  },
  {
   "attachments": {},
   "cell_type": "markdown",
   "metadata": {},
   "source": [
    "9.WAP to check whether a number is even or not . if even , store the value inside the list."
   ]
  },
  {
   "cell_type": "code",
   "execution_count": 30,
   "metadata": {},
   "outputs": [
    {
     "name": "stdout",
     "output_type": "stream",
     "text": [
      "['1', '2']\n"
     ]
    }
   ],
   "source": [
    "a=eval(input(\"enter the value:\"))\n",
    "if a%2==0:\n",
    "    b=str(a)\n",
    "    c=list(b)\n",
    "    print(c)"
   ]
  },
  {
   "attachments": {},
   "cell_type": "markdown",
   "metadata": {},
   "source": [
    "10.WAP to check whether a number is odd or not . if odd,store the value inside the tuple."
   ]
  },
  {
   "cell_type": "code",
   "execution_count": 31,
   "metadata": {},
   "outputs": [
    {
     "name": "stdout",
     "output_type": "stream",
     "text": [
      "('1', '3')\n"
     ]
    }
   ],
   "source": [
    "a=eval(input(\"enter the value:\"))\n",
    "if a%2!=0:\n",
    "    b=str(a)\n",
    "    c=tuple(b)\n",
    "    print(c)"
   ]
  },
  {
   "attachments": {},
   "cell_type": "markdown",
   "metadata": {},
   "source": [
    "11.WAP to check if the given number is even or not . if it is yes ,print the power of 4 in a given number."
   ]
  },
  {
   "cell_type": "code",
   "execution_count": 34,
   "metadata": {},
   "outputs": [
    {
     "name": "stdout",
     "output_type": "stream",
     "text": [
      "256\n"
     ]
    }
   ],
   "source": [
    "a=eval(input(\"enter the value:\"))\n",
    "if a%2==0:\n",
    "    print(a**4)"
   ]
  },
  {
   "attachments": {},
   "cell_type": "markdown",
   "metadata": {},
   "source": [
    "12.WAP to take the input from the user as a number and check whether it is a number or not.if yes,take the number and add some value and print it."
   ]
  },
  {
   "cell_type": "code",
   "execution_count": 81,
   "metadata": {},
   "outputs": [
    {
     "name": "stdout",
     "output_type": "stream",
     "text": [
      "47\n"
     ]
    }
   ],
   "source": [
    "a=eval(input(\"enter the value:\"))\n",
    "if a>0 or a<0 or a==0:\n",
    "    print(a+24)\n"
   ]
  },
  {
   "attachments": {},
   "cell_type": "markdown",
   "metadata": {},
   "source": [
    "13.WAP to display hello world if the number is greater than 1 and less than 5."
   ]
  },
  {
   "cell_type": "code",
   "execution_count": 40,
   "metadata": {},
   "outputs": [
    {
     "name": "stdout",
     "output_type": "stream",
     "text": [
      "hello world\n"
     ]
    }
   ],
   "source": [
    "a=eval(input(\"enter the value:\"))\n",
    "if a>1 and a<5:\n",
    "    print(\"hello world\")"
   ]
  },
  {
   "attachments": {},
   "cell_type": "markdown",
   "metadata": {},
   "source": [
    "14.WAP to check whether a given value is divisible by 5 and 7.if the value is divisible,display the square of the values."
   ]
  },
  {
   "cell_type": "code",
   "execution_count": 58,
   "metadata": {},
   "outputs": [
    {
     "name": "stdout",
     "output_type": "stream",
     "text": [
      "1225\n"
     ]
    }
   ],
   "source": [
    "a=eval(input(\"enter the value:\"))\n",
    "if a%5==0 and a%7==0:\n",
    "    print(a**2)"
   ]
  },
  {
   "attachments": {},
   "cell_type": "markdown",
   "metadata": {},
   "source": [
    "15.WAP to check whether the given value's last digit is greater than 5 or not . if greater ,perform the bitwise right shift operator (skipping value is 2)."
   ]
  },
  {
   "cell_type": "code",
   "execution_count": 87,
   "metadata": {},
   "outputs": [
    {
     "name": "stdout",
     "output_type": "stream",
     "text": [
      "9\n"
     ]
    }
   ],
   "source": [
    "a=eval(input(\"enter the value:\"))   \n",
    "if (a%10)>5:\n",
    "    print(a>>2)"
   ]
  },
  {
   "attachments": {},
   "cell_type": "markdown",
   "metadata": {},
   "source": [
    "16.WAP to check whether a given value is divisible by 3 and less than 30.if the value is divisible ,to display the square of the values."
   ]
  },
  {
   "cell_type": "code",
   "execution_count": 62,
   "metadata": {},
   "outputs": [
    {
     "name": "stdout",
     "output_type": "stream",
     "text": [
      "576\n"
     ]
    }
   ],
   "source": [
    "a=eval(input(\"enter the value:\"))\n",
    "if a%3==0 and a<30:\n",
    "    print(a**2)"
   ]
  },
  {
   "attachments": {},
   "cell_type": "markdown",
   "metadata": {},
   "source": [
    "17.WAP to check whether a given value is an even number and divisible by 4.if satisfied,to display the cube of the values."
   ]
  },
  {
   "cell_type": "code",
   "execution_count": 63,
   "metadata": {},
   "outputs": [
    {
     "name": "stdout",
     "output_type": "stream",
     "text": [
      "13824\n"
     ]
    }
   ],
   "source": [
    "a=eval(input(\"enter the value:\"))\n",
    "if a%2==0 and a%4==0:\n",
    "    print(a**3)"
   ]
  },
  {
   "attachments": {},
   "cell_type": "markdown",
   "metadata": {},
   "source": [
    "18.WAP to check whether a given value is even or not.if the number stores the values inside the list."
   ]
  },
  {
   "cell_type": "code",
   "execution_count": 64,
   "metadata": {},
   "outputs": [
    {
     "name": "stdout",
     "output_type": "stream",
     "text": [
      "['4', '0']\n"
     ]
    }
   ],
   "source": [
    "a=eval(input(\"enter the value:\"))\n",
    "if a%2==0:\n",
    "    b=str(a)\n",
    "    c=list(b)\n",
    "    print(c)"
   ]
  },
  {
   "attachments": {},
   "cell_type": "markdown",
   "metadata": {},
   "source": [
    "19.WAP to check whether a given value is a negative or even number . if satisfied , display the last digit of the values."
   ]
  },
  {
   "cell_type": "code",
   "execution_count": 90,
   "metadata": {},
   "outputs": [
    {
     "name": "stdout",
     "output_type": "stream",
     "text": [
      "6\n"
     ]
    }
   ],
   "source": [
    "a=eval(input(\"enter the value:\"))   \n",
    "if a<0 or a%2==0:\n",
    "    print(a%10)"
   ]
  },
  {
   "attachments": {},
   "cell_type": "markdown",
   "metadata": {},
   "source": [
    "20.WAP to check whether a given value is a negative or odd number and divisible by 4.if satisfied ,display the cubes of the values."
   ]
  },
  {
   "cell_type": "code",
   "execution_count": 126,
   "metadata": {},
   "outputs": [
    {
     "name": "stdout",
     "output_type": "stream",
     "text": [
      "-85184\n"
     ]
    }
   ],
   "source": [
    "a=eval(input(\"enter the value:\"))\n",
    "if a<0 or a%2!=0 and a%4==0:\n",
    "    print(a**3)"
   ]
  },
  {
   "attachments": {},
   "cell_type": "markdown",
   "metadata": {},
   "source": [
    "21.WAP to check whether a given ascii value is divisible by 4 and even value.if satisfied to display the ascii character."
   ]
  },
  {
   "cell_type": "code",
   "execution_count": 122,
   "metadata": {},
   "outputs": [
    {
     "name": "stdout",
     "output_type": "stream",
     "text": [
      "P\n"
     ]
    }
   ],
   "source": [
    "a=eval(input(\"enter the value:\"))  \n",
    "if chr(a%4==0) and chr(a%2==0):\n",
    "    print(chr(a))\n",
    "\n"
   ]
  },
  {
   "cell_type": "code",
   "execution_count": 120,
   "metadata": {},
   "outputs": [
    {
     "name": "stdout",
     "output_type": "stream",
     "text": [
      "P\n"
     ]
    }
   ],
   "source": [
    "a=eval(input(\"enter the value:\")) \n",
    "if ord(chr(a))%4==0 and ord(chr(a))%2==0:\n",
    "    print(chr(a))"
   ]
  },
  {
   "attachments": {},
   "cell_type": "markdown",
   "metadata": {},
   "source": [
    "22.WAP to check whether a given value is present in between 45 to 125 and the number should be divisible by 4 and 5 and even value.\n",
    "if satisfied , to display the ascii character."
   ]
  },
  {
   "cell_type": "code",
   "execution_count": 108,
   "metadata": {},
   "outputs": [
    {
     "name": "stdout",
     "output_type": "stream",
     "text": [
      "P\n"
     ]
    }
   ],
   "source": [
    "a=eval(input(\"enter the value:\")) \n",
    "if 45<a<125 and a%4==0 and a%5==0:\n",
    "    print(chr(a))"
   ]
  },
  {
   "attachments": {},
   "cell_type": "markdown",
   "metadata": {},
   "source": [
    "23.WAP to check whether a given value is present in between 25 to 100 and the number should be divisible by 4 and 5.if satisfied , to display\n",
    "the multiplication of given value with 5."
   ]
  },
  {
   "cell_type": "code",
   "execution_count": 109,
   "metadata": {},
   "outputs": [
    {
     "name": "stdout",
     "output_type": "stream",
     "text": [
      "400\n"
     ]
    }
   ],
   "source": [
    "a=eval(input(\"enter the value:\")) \n",
    "if 25<a<100 and a%4==0 and a%5==0:\n",
    "    print(a*5)"
   ]
  },
  {
   "attachments": {},
   "cell_type": "markdown",
   "metadata": {},
   "source": [
    "24.WAP to check whether a given number is integer and odd number.if the condition is satisfied ,the integer is divisible by 5 and diplay the result."
   ]
  },
  {
   "cell_type": "code",
   "execution_count": 141,
   "metadata": {},
   "outputs": [
    {
     "name": "stdout",
     "output_type": "stream",
     "text": [
      "True\n"
     ]
    }
   ],
   "source": [
    "a=int(input(\"enter the value:\"))\n",
    "if type(a)==int and a%2!=0:\n",
    "    print(a%5==0)\n"
   ]
  },
  {
   "attachments": {},
   "cell_type": "markdown",
   "metadata": {},
   "source": [
    "25.WAP to check whether a given value is an integer or not. If integer, the given value is converted to string and displays the result."
   ]
  },
  {
   "cell_type": "code",
   "execution_count": 145,
   "metadata": {},
   "outputs": [
    {
     "name": "stdout",
     "output_type": "stream",
     "text": [
      "24\n"
     ]
    }
   ],
   "source": [
    "a=eval(input(\"enter the value:\"))\n",
    "if type(a)==int:\n",
    "    print(a)"
   ]
  },
  {
   "attachments": {},
   "cell_type": "markdown",
   "metadata": {},
   "source": [
    "26.WAP to check whether a given value is less than 125 and greater than 60 or not. If the condition is satisfied, take the name and extract the middle character and display it."
   ]
  },
  {
   "cell_type": "code",
   "execution_count": 150,
   "metadata": {},
   "outputs": [
    {
     "name": "stdout",
     "output_type": "stream",
     "text": [
      "80\n",
      "r\n"
     ]
    }
   ],
   "source": [
    "a=eval(input(\"enter the value:\"))\n",
    "if 60<a<125:\n",
    "    print(a)\n",
    "    b=\"dharani\"\n",
    "    b=b[len(b)//2]\n",
    "    print(b)"
   ]
  },
  {
   "attachments": {},
   "cell_type": "markdown",
   "metadata": {},
   "source": [
    "27.WAP to check whether a given two integers are equal or not. If both are equal, to perform addition and display the result. "
   ]
  },
  {
   "cell_type": "code",
   "execution_count": 160,
   "metadata": {},
   "outputs": [
    {
     "name": "stdout",
     "output_type": "stream",
     "text": [
      "100\n"
     ]
    }
   ],
   "source": [
    "a=eval(input(\"enter the value:\"))\n",
    "b=eval(input(\"enter the value:\"))\n",
    "if (type(a)==int) and (type(b)==int):\n",
    "    print(a+b)"
   ]
  },
  {
   "attachments": {},
   "cell_type": "markdown",
   "metadata": {},
   "source": [
    "28.WAP to check whether two values are equal or not. if equal, to perform multiplication of two numbers and that result is division by 3 and display the value."
   ]
  },
  {
   "cell_type": "code",
   "execution_count": 162,
   "metadata": {},
   "outputs": [
    {
     "name": "stdout",
     "output_type": "stream",
     "text": [
      "1\n"
     ]
    }
   ],
   "source": [
    "a=eval(input(\"enter the value:\"))\n",
    "b=eval(input(\"enter the value:\"))\n",
    "if a==b:\n",
    "    print(a*b%3)"
   ]
  },
  {
   "attachments": {},
   "cell_type": "markdown",
   "metadata": {},
   "source": [
    "29.WAP to check whether a character is in the alphabet or not. If the alphabet, store the value inside the dict(key as a character and value as an ascii value)."
   ]
  },
  {
   "cell_type": "code",
   "execution_count": 3,
   "metadata": {},
   "outputs": [
    {
     "name": "stdout",
     "output_type": "stream",
     "text": [
      "100\n",
      "{'d': 100}\n"
     ]
    }
   ],
   "source": [
    "a=(input(\"enter the character:\"))\n",
    "if 'A'<=a<='Z' or 'a'<=a<='z':\n",
    "    print(ord(a))\n",
    "    d=[[a,ord(a)]]\n",
    "    print(dict(d))\n",
    "    "
   ]
  },
  {
   "attachments": {},
   "cell_type": "markdown",
   "metadata": {},
   "source": [
    "30.WAP to check whether a character is in the uppercase or not. If the uppercase, store the value inside the dict(key as a character and value as an ascii value)."
   ]
  },
  {
   "cell_type": "code",
   "execution_count": 7,
   "metadata": {},
   "outputs": [
    {
     "name": "stdout",
     "output_type": "stream",
     "text": [
      "65\n",
      "{'A': 65}\n"
     ]
    }
   ],
   "source": [
    "a=(input(\"enter the character:\"))\n",
    "if 'A'<=a<='Z':\n",
    "    print(ord(a))\n",
    "    d=[[a,ord(a)]]\n",
    "    print(dict(d))"
   ]
  },
  {
   "attachments": {},
   "cell_type": "markdown",
   "metadata": {},
   "source": [
    "31.WAP to check whether a character is in the uppercase or not. If the uppercase, convert to lowercase and store the value inside the dict(character as a key and ascii value as a value)."
   ]
  },
  {
   "cell_type": "code",
   "execution_count": 7,
   "metadata": {},
   "outputs": [
    {
     "name": "stdout",
     "output_type": "stream",
     "text": [
      "97\n",
      "{'a': 97}\n"
     ]
    }
   ],
   "source": [
    "a=(input(\"enter the character:\"))\n",
    "if 'A'<=a<='Z':\n",
    "    b=(chr(ord(a)+32)) \n",
    "    print(ord(b))\n",
    "    d=[[b,ord(b)]]\n",
    "    print(dict(d))\n",
    "    "
   ]
  },
  {
   "attachments": {},
   "cell_type": "markdown",
   "metadata": {},
   "source": [
    "32.WAP to check whether a character is in the lowercase or not. If the lowercase, to perform the replication operation on that character."
   ]
  },
  {
   "cell_type": "code",
   "execution_count": 180,
   "metadata": {},
   "outputs": [
    {
     "name": "stdout",
     "output_type": "stream",
     "text": [
      "ddddd\n"
     ]
    }
   ],
   "source": [
    "x=input(\"enter a character:\")\n",
    "if 'a'<=x<='z':\n",
    "    print(5*x)"
   ]
  },
  {
   "attachments": {},
   "cell_type": "markdown",
   "metadata": {},
   "source": [
    "33.WAP to check whether a character is in the ascii number or not. If the ascii number, to convert into integer."
   ]
  },
  {
   "cell_type": "code",
   "execution_count": 187,
   "metadata": {},
   "outputs": [
    {
     "name": "stdout",
     "output_type": "stream",
     "text": [
      "57\n"
     ]
    }
   ],
   "source": [
    "x=input(\"enter a character:\")\n",
    "if '0'<=x<='9':\n",
    "    print(int(ord(x)))"
   ]
  },
  {
   "attachments": {},
   "cell_type": "markdown",
   "metadata": {},
   "source": [
    "34.WAP to check whether a character is in the special symbol or not. If the special symbol, to display a symbol with ascii value."
   ]
  },
  {
   "cell_type": "code",
   "execution_count": 190,
   "metadata": {},
   "outputs": [
    {
     "name": "stdout",
     "output_type": "stream",
     "text": [
      "37\n"
     ]
    }
   ],
   "source": [
    "x=input(\"enter a character:\")\n",
    "if not ('A'<=x<='z' or 'a'<=x<='z' or '0'<=x<='9'):\n",
    "    print(ord(x))"
   ]
  },
  {
   "attachments": {},
   "cell_type": "markdown",
   "metadata": {},
   "source": [
    "35.WAP to check whether a character is an even number or not. If the even number, to display an even number."
   ]
  },
  {
   "cell_type": "code",
   "execution_count": 195,
   "metadata": {},
   "outputs": [
    {
     "name": "stdout",
     "output_type": "stream",
     "text": [
      "98\n"
     ]
    }
   ],
   "source": [
    "x=input(\"enter a character:\")\n",
    "if ord(x)%2==0 :\n",
    "    print(ord(x))"
   ]
  },
  {
   "attachments": {},
   "cell_type": "markdown",
   "metadata": {},
   "source": [
    "36.WAP to check whether a Given two integers a and b, if any of the integers is 10 or if their sum is 10, to perform the sum of the numbers and to display  the square of the result."
   ]
  },
  {
   "cell_type": "code",
   "execution_count": 10,
   "metadata": {},
   "outputs": [
    {
     "name": "stdout",
     "output_type": "stream",
     "text": [
      "400\n"
     ]
    }
   ],
   "source": [
    "x=int(input(\"enter an integer:\"))\n",
    "y=int(input(\"enter an integer:\"))\n",
    "if x==10 or y==10 and x+y==10:\n",
    "    print((x+y)**2) "
   ]
  },
  {
   "attachments": {},
   "cell_type": "markdown",
   "metadata": {},
   "source": [
    "37.WAP to check whether a character is in the vowel or not. If the vowel,print the next character."
   ]
  },
  {
   "cell_type": "code",
   "execution_count": 200,
   "metadata": {},
   "outputs": [
    {
     "name": "stdout",
     "output_type": "stream",
     "text": [
      "98\n"
     ]
    }
   ],
   "source": [
    "x=input(\"enter the character:\")   #for a\n",
    "if x in 'AEIOUaeiou':\n",
    "    print(ord(x)+1)"
   ]
  },
  {
   "cell_type": "code",
   "execution_count": 201,
   "metadata": {},
   "outputs": [
    {
     "name": "stdout",
     "output_type": "stream",
     "text": [
      "66\n"
     ]
    }
   ],
   "source": [
    "x=input(\"enter the character:\")   # for A\n",
    "if x in 'AEIOUaeiou':\n",
    "    print(ord(x)+1)"
   ]
  },
  {
   "attachments": {},
   "cell_type": "markdown",
   "metadata": {},
   "source": [
    "38.WAP to check whether a character is in the not a vowel. If it's not a vowel,print the previous character."
   ]
  },
  {
   "cell_type": "code",
   "execution_count": 203,
   "metadata": {},
   "outputs": [
    {
     "name": "stdout",
     "output_type": "stream",
     "text": [
      "97\n"
     ]
    }
   ],
   "source": [
    "x=input(\"enter the character:\")  # for b\n",
    "if x not in 'AEIOUaeiou':\n",
    "    print(ord(x)-1)"
   ]
  },
  {
   "cell_type": "code",
   "execution_count": 204,
   "metadata": {},
   "outputs": [
    {
     "name": "stdout",
     "output_type": "stream",
     "text": [
      "65\n"
     ]
    }
   ],
   "source": [
    "x=input(\"enter the character:\")  # for B\n",
    "if x not in 'AEIOUaeiou':\n",
    "    print(ord(x)-1)"
   ]
  },
  {
   "attachments": {},
   "cell_type": "markdown",
   "metadata": {},
   "source": [
    "39.WAP to check whether a given value is a single value data type or not. If single value, display the given value as a single value data type."
   ]
  },
  {
   "cell_type": "code",
   "execution_count": 205,
   "metadata": {},
   "outputs": [
    {
     "name": "stdout",
     "output_type": "stream",
     "text": [
      "12 is a single value data type\n"
     ]
    }
   ],
   "source": [
    "x=input(\"enter the value:\")\n",
    "if x not in (list,tuple,set,dict,set):\n",
    "    print(x,\"is a single value data type\") "
   ]
  },
  {
   "cell_type": "code",
   "execution_count": 206,
   "metadata": {},
   "outputs": [
    {
     "name": "stdout",
     "output_type": "stream",
     "text": [
      "10+5j is a single value data type\n"
     ]
    }
   ],
   "source": [
    "x=input(\"enter the value:\")\n",
    "if x not in (list,tuple,set,dict,set):\n",
    "    print(x,\"is a single value data type\") "
   ]
  },
  {
   "attachments": {},
   "cell_type": "markdown",
   "metadata": {},
   "source": [
    "40.WAP to check whether a given value is a multi-value data type or not. If multi value, store the given value inside the tuple and display it."
   ]
  },
  {
   "cell_type": "code",
   "execution_count": 1,
   "metadata": {},
   "outputs": [
    {
     "name": "stdout",
     "output_type": "stream",
     "text": [
      "('1', '2', '3', '4', '5')\n"
     ]
    }
   ],
   "source": [
    "x=eval(input(\"enter the value:\")) \n",
    "if x not in (int,bool,float,bytes,complex):\n",
    "    print(tuple(str(x))) "
   ]
  },
  {
   "attachments": {},
   "cell_type": "markdown",
   "metadata": {},
   "source": [
    "41.WAP to check whether a given value is an immutable data type or not. If an immutable data type value, store the given value inside the set and display it."
   ]
  },
  {
   "cell_type": "code",
   "execution_count": 24,
   "metadata": {},
   "outputs": [
    {
     "name": "stdout",
     "output_type": "stream",
     "text": [
      "{'2', '1', '3'}\n"
     ]
    }
   ],
   "source": [
    "x=eval(input(\"enter the value:\"))  \n",
    "if x not in(list,set,dict):\n",
    "    print(set(str(x)))\n",
    "    "
   ]
  },
  {
   "attachments": {},
   "cell_type": "markdown",
   "metadata": {},
   "source": [
    "42.WAP to check whether the middle element of a given list is odd or not. If it is odd then print odd then print the number else directly print the number."
   ]
  },
  {
   "cell_type": "code",
   "execution_count": 18,
   "metadata": {},
   "outputs": [
    {
     "name": "stdout",
     "output_type": "stream",
     "text": [
      "odd\n"
     ]
    }
   ],
   "source": [
    "x=eval(input(\"enter the value:\"))\n",
    "if (len(x)//2)%2!=0:\n",
    "    print(\"odd\")"
   ]
  },
  {
   "attachments": {},
   "cell_type": "markdown",
   "metadata": {},
   "source": [
    "43.WAP Return a new string with \"not\" prefixed to the front of the original string. Return the string unmodified if the string already has the word \"not\" at the beginning."
   ]
  },
  {
   "cell_type": "code",
   "execution_count": 11,
   "metadata": {},
   "outputs": [
    {
     "name": "stdout",
     "output_type": "stream",
     "text": [
      "not dharani\n"
     ]
    }
   ],
   "source": [
    "x=(input(\"enter the string:\"))             \n",
    "if x[0:2+1]==\"not\":\n",
    "    print(x)"
   ]
  },
  {
   "attachments": {},
   "cell_type": "markdown",
   "metadata": {},
   "source": [
    "44.WAP to check whether a given string(str) and one integer(n) value, to display a new string that is devoid of the character at index n. if you are given a non-empty string and an int n. The value of n will be a legitimate character index from the original string, therefore it will fall within the range of 0 to len(str)-1, inclusive."
   ]
  },
  {
   "cell_type": "code",
   "execution_count": null,
   "metadata": {},
   "outputs": [],
   "source": [
    "x=eval(input(\"enter the value:\")) ###########################\n",
    "if x==str and x==int:\n",
    "\n"
   ]
  },
  {
   "attachments": {},
   "cell_type": "markdown",
   "metadata": {},
   "source": [
    "45.WAP to check whether the two variables are pointing to the same memory location or not if they are pointing to the same memory location then print the address of both the variables."
   ]
  },
  {
   "cell_type": "code",
   "execution_count": 30,
   "metadata": {},
   "outputs": [
    {
     "name": "stdout",
     "output_type": "stream",
     "text": [
      "140713939952712 140713939952712\n"
     ]
    }
   ],
   "source": [
    "x=eval(input(\"enter the value:\"))\n",
    "y=eval(input(\"enter the value:\"))\n",
    "if id(x)==id(y):\n",
    "    print(id(x),id(y))"
   ]
  },
  {
   "attachments": {},
   "cell_type": "markdown",
   "metadata": {},
   "source": [
    "46.WAP to check whether the given length of the string is even or not. If the condition is satisfied, display the sequence of characters from zero position to length of collection -2. "
   ]
  },
  {
   "cell_type": "code",
   "execution_count": 12,
   "metadata": {},
   "outputs": [
    {
     "name": "stdout",
     "output_type": "stream",
     "text": [
      "dharan\n"
     ]
    }
   ],
   "source": [
    "x=str(input(\"enter the string:\"))\n",
    "if (len(x))%2==0:\n",
    "    y=x[0:len(x)-2]\n",
    "    print(y)\n"
   ]
  },
  {
   "attachments": {},
   "cell_type": "markdown",
   "metadata": {},
   "source": [
    "47.WAP to check whether the two given strings are having the same values or not. If both are not the same values then swap the values of one variable to another variable after swapping print the two values."
   ]
  },
  {
   "cell_type": "code",
   "execution_count": 1,
   "metadata": {},
   "outputs": [
    {
     "name": "stdout",
     "output_type": "stream",
     "text": [
      "40 30\n"
     ]
    }
   ],
   "source": [
    "x=str(input(\"enter the string:\"))\n",
    "y=str(input(\"enter the string:\"))\n",
    "if x!=y:\n",
    "    x=30\n",
    "    y=40\n",
    "    x,y=y,x\n",
    "    print(x,y) \n",
    "\n",
    "    \n"
   ]
  },
  {
   "attachments": {},
   "cell_type": "markdown",
   "metadata": {},
   "source": [
    "48.WAP to check whether a given  character is a special symbol or not. If satisfied, store the symbol as a key and value as a ascii value of the given character inside the dictionary. "
   ]
  },
  {
   "cell_type": "code",
   "execution_count": 16,
   "metadata": {},
   "outputs": [
    {
     "name": "stdout",
     "output_type": "stream",
     "text": [
      "35\n",
      "{'#': 35}\n"
     ]
    }
   ],
   "source": [
    "x=input(\"enter a character:\" )\n",
    "if not('A'<=x<='Z'or 'a'<=x<='z' or '0'<=x<='9' ):\n",
    "    print(ord(x))\n",
    "    d=[[x,ord(x)]]\n",
    "    print(dict(d))\n",
    "    \n"
   ]
  },
  {
   "attachments": {},
   "cell_type": "markdown",
   "metadata": {},
   "source": [
    "49.WAP to check whether a given key is not present in the dictionary or not. If the key is not present,\n",
    "append the new key inside the dictionary."
   ]
  },
  {
   "cell_type": "code",
   "execution_count": 4,
   "metadata": {},
   "outputs": [
    {
     "name": "stdout",
     "output_type": "stream",
     "text": [
      "{'A': 10, 'B': 20, 'C': 30, 'D': 40}\n"
     ]
    }
   ],
   "source": [
    "x={'A':10,'B':20,'C':30}\n",
    "if 'A' in x.keys():\n",
    "    print(x|{'D':40})  "
   ]
  },
  {
   "attachments": {},
   "cell_type": "markdown",
   "metadata": {},
   "source": [
    "50.WAP whether a given string, and it displays a new string with the first and last characters switched."
   ]
  },
  {
   "cell_type": "code",
   "execution_count": 7,
   "metadata": {},
   "outputs": [
    {
     "name": "stdout",
     "output_type": "stream",
     "text": [
      "adharaniu\n"
     ]
    }
   ],
   "source": [
    "x=(input(\"enter a string:\"))\n",
    "if type(x)==str:\n",
    "    print(x[-1]+\"dharani\"+x[0])\n"
   ]
  },
  {
   "attachments": {},
   "cell_type": "markdown",
   "metadata": {},
   "source": [
    "51.WAP to check whether the last digit should be 2  in the given number then print the last digit."
   ]
  },
  {
   "cell_type": "code",
   "execution_count": 18,
   "metadata": {},
   "outputs": [
    {
     "name": "stdout",
     "output_type": "stream",
     "text": [
      "2\n"
     ]
    }
   ],
   "source": [
    "x=eval(input(\"enter a value:\"))\n",
    "if x%10==2:\n",
    "    print(x%10)"
   ]
  },
  {
   "attachments": {},
   "cell_type": "markdown",
   "metadata": {},
   "source": [
    "52.WAP to check whether a Given two integers a and b, if any of the integers is 10 or if their sum is 10, to perform the sum of the numbers and to display  the square of the result."
   ]
  },
  {
   "cell_type": "code",
   "execution_count": 37,
   "metadata": {},
   "outputs": [
    {
     "name": "stdout",
     "output_type": "stream",
     "text": [
      "100\n"
     ]
    }
   ],
   "source": [
    "x=int(input(\"enter a value:\"))\n",
    "y=int(input(\"enter a value:\"))\n",
    "if x==10 or y==10 or x+y==10:\n",
    "    print((x+y)**2)\n"
   ]
  },
  {
   "attachments": {},
   "cell_type": "markdown",
   "metadata": {},
   "source": [
    "53.WAP to check whether a given string(str) and one integer(n) value, to display a new string that is devoid of the character at index n. if you are given a non-empty string and an int n. The value of n will be a legitimate character index from the original string, therefore it will fall within the range of 0 to len(str)-1, inclusive."
   ]
  },
  {
   "cell_type": "code",
   "execution_count": null,
   "metadata": {},
   "outputs": [],
   "source": []
  },
  {
   "attachments": {},
   "cell_type": "markdown",
   "metadata": {},
   "source": [
    "54.WAP to check whether both string collections are equal or not if it is not equal print the both strings along with the length of a string if both are equal ignore it."
   ]
  },
  {
   "cell_type": "code",
   "execution_count": 7,
   "metadata": {},
   "outputs": [
    {
     "name": "stdout",
     "output_type": "stream",
     "text": [
      "dharani 7\n",
      "gottam 6\n"
     ]
    }
   ],
   "source": [
    "x=(input(\"enter a string:\"))\n",
    "y=(input(\"enter a string:\"))\n",
    "if x!=y:\n",
    "    print(x,len(x))\n",
    "    print(y,len(y)) \n"
   ]
  },
  {
   "cell_type": "code",
   "execution_count": 12,
   "metadata": {},
   "outputs": [
    {
     "name": "stdout",
     "output_type": "stream",
     "text": [
      "{10: 20}\n",
      "{10: 30}\n"
     ]
    }
   ],
   "source": [
    "a=[(10,20)]\n",
    "print(dict(a))\n",
    "\n",
    "a=[{10,30}]\n",
    "print(dict(a))"
   ]
  }
 ],
 "metadata": {
  "kernelspec": {
   "display_name": "Python 3",
   "language": "python",
   "name": "python3"
  },
  "language_info": {
   "codemirror_mode": {
    "name": "ipython",
    "version": 3
   },
   "file_extension": ".py",
   "mimetype": "text/x-python",
   "name": "python",
   "nbconvert_exporter": "python",
   "pygments_lexer": "ipython3",
   "version": "3.11.3"
  },
  "orig_nbformat": 4
 },
 "nbformat": 4,
 "nbformat_minor": 2
}
