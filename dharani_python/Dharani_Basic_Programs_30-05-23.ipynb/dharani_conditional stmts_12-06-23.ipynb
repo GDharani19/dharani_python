{
 "cells": [
  {
   "attachments": {},
   "cell_type": "markdown",
   "metadata": {},
   "source": [
    "1. WAP to check whether a number is positive . if positive,print a message positive."
   ]
  },
  {
   "cell_type": "code",
   "execution_count": 3,
   "metadata": {},
   "outputs": [
    {
     "name": "stdout",
     "output_type": "stream",
     "text": [
      "given number is positive\n"
     ]
    }
   ],
   "source": [
    "a=eval(input(\"enter a value:\"))\n",
    "if a>0:\n",
    "    print(\"given number is positive\")"
   ]
  },
  {
   "attachments": {},
   "cell_type": "markdown",
   "metadata": {},
   "source": [
    "2.WAP to display hello world if the number is greater than 1 and lesser than 5."
   ]
  },
  {
   "cell_type": "code",
   "execution_count": 7,
   "metadata": {},
   "outputs": [
    {
     "name": "stdout",
     "output_type": "stream",
     "text": [
      "hello world\n"
     ]
    }
   ],
   "source": [
    "a=eval(input(\"enter the value:\"))\n",
    "if a>1 and a<5:\n",
    "    print(\"hello world\")\n",
    "    "
   ]
  },
  {
   "attachments": {},
   "cell_type": "markdown",
   "metadata": {},
   "source": [
    "3.WAP to check whether the given number is divisible by 3 or not if print fizz."
   ]
  },
  {
   "cell_type": "code",
   "execution_count": 8,
   "metadata": {},
   "outputs": [
    {
     "name": "stdout",
     "output_type": "stream",
     "text": [
      "fizz\n"
     ]
    }
   ],
   "source": [
    "a=eval(input(\"enter the value:\"))\n",
    "if a%3==0:\n",
    "    print(\"fizz\")"
   ]
  },
  {
   "attachments": {},
   "cell_type": "markdown",
   "metadata": {},
   "source": [
    "4.WAP to check whether the given number is divisible by 2 and 6 . if the condition is satisfied,convert the given number into a complex number."
   ]
  },
  {
   "cell_type": "code",
   "execution_count": 13,
   "metadata": {},
   "outputs": [
    {
     "name": "stdout",
     "output_type": "stream",
     "text": [
      "(12+0j)\n"
     ]
    }
   ],
   "source": [
    "a=eval(input(\"enter the value:\"))\n",
    "if a%2==0 and a%6==0:\n",
    "    b=(complex(a))\n",
    "    print(complex(a))\n"
   ]
  },
  {
   "attachments": {},
   "cell_type": "markdown",
   "metadata": {},
   "source": [
    "5.WAP to check whether a given input is divisible by 3 or 5. if the condition is satisfied , the number converted to a list\n",
    "i/p:30\n",
    "o/p:['3','0']"
   ]
  },
  {
   "cell_type": "code",
   "execution_count": 16,
   "metadata": {},
   "outputs": [
    {
     "name": "stdout",
     "output_type": "stream",
     "text": [
      "['3', '0']\n"
     ]
    }
   ],
   "source": [
    "a=eval(input(\"enter the value:\"))\n",
    "if a%3==0 and a%5==0:\n",
    "    b=str(a)\n",
    "    c=list(b)\n",
    "    print(c)"
   ]
  },
  {
   "attachments": {},
   "cell_type": "markdown",
   "metadata": {},
   "source": [
    "6.WAP to check whether a given number is multiple of 5 or not."
   ]
  },
  {
   "cell_type": "code",
   "execution_count": 19,
   "metadata": {},
   "outputs": [
    {
     "name": "stdout",
     "output_type": "stream",
     "text": [
      "25 is a multiple of 5\n"
     ]
    }
   ],
   "source": [
    "a=eval(input(\"enter the value:\"))\n",
    "if a%5==0:\n",
    "    print(a,\"is a multiple of 5\")"
   ]
  },
  {
   "attachments": {},
   "cell_type": "markdown",
   "metadata": {},
   "source": [
    "7.WAP to check whether a given input is 0 or not if 0 prints 0."
   ]
  },
  {
   "cell_type": "code",
   "execution_count": 23,
   "metadata": {},
   "outputs": [
    {
     "name": "stdout",
     "output_type": "stream",
     "text": [
      "0\n"
     ]
    }
   ],
   "source": [
    "a=eval(input(\"enter the value:\"))\n",
    "if a==0:\n",
    "    print(0)"
   ]
  },
  {
   "attachments": {},
   "cell_type": "markdown",
   "metadata": {},
   "source": [
    "8.WAP to check whether a number is even or not . if nagative,print a message nagative."
   ]
  },
  {
   "cell_type": "code",
   "execution_count": 25,
   "metadata": {},
   "outputs": [
    {
     "name": "stdout",
     "output_type": "stream",
     "text": [
      "given number is negative\n"
     ]
    }
   ],
   "source": [
    "a=eval(input(\"enter the value:\"))\n",
    "if a<0:\n",
    "    print(\"given number is negative\")"
   ]
  },
  {
   "attachments": {},
   "cell_type": "markdown",
   "metadata": {},
   "source": [
    "9.WAP to check whether a number is even or not . if even , store the value inside the list."
   ]
  },
  {
   "cell_type": "code",
   "execution_count": 30,
   "metadata": {},
   "outputs": [
    {
     "name": "stdout",
     "output_type": "stream",
     "text": [
      "['1', '2']\n"
     ]
    }
   ],
   "source": [
    "a=eval(input(\"enter the value:\"))\n",
    "if a%2==0:\n",
    "    b=str(a)\n",
    "    c=list(b)\n",
    "    print(c)"
   ]
  },
  {
   "attachments": {},
   "cell_type": "markdown",
   "metadata": {},
   "source": [
    "10.WAP to check whether a number is odd or not . if odd,store the value inside the tuple."
   ]
  },
  {
   "cell_type": "code",
   "execution_count": 31,
   "metadata": {},
   "outputs": [
    {
     "name": "stdout",
     "output_type": "stream",
     "text": [
      "('1', '3')\n"
     ]
    }
   ],
   "source": [
    "a=eval(input(\"enter the value:\"))\n",
    "if a%2!=0:\n",
    "    b=str(a)\n",
    "    c=tuple(b)\n",
    "    print(c)"
   ]
  },
  {
   "attachments": {},
   "cell_type": "markdown",
   "metadata": {},
   "source": [
    "11.WAP to check if the given number is even or not . if it is yes ,print the power of 4 in a given number."
   ]
  },
  {
   "cell_type": "code",
   "execution_count": 34,
   "metadata": {},
   "outputs": [
    {
     "name": "stdout",
     "output_type": "stream",
     "text": [
      "256\n"
     ]
    }
   ],
   "source": [
    "a=eval(input(\"enter the value:\"))\n",
    "if a%2==0:\n",
    "    print(a**4)"
   ]
  },
  {
   "attachments": {},
   "cell_type": "markdown",
   "metadata": {},
   "source": [
    "12.WAP to take the input from the user as a number and check whether it is a number or not.if yes,take the number and add some value and print it."
   ]
  },
  {
   "cell_type": "code",
   "execution_count": 81,
   "metadata": {},
   "outputs": [
    {
     "name": "stdout",
     "output_type": "stream",
     "text": [
      "47\n"
     ]
    }
   ],
   "source": [
    "a=eval(input(\"enter the value:\"))\n",
    "if a>0 or a<0 or a==0:\n",
    "    print(a+24)\n"
   ]
  },
  {
   "attachments": {},
   "cell_type": "markdown",
   "metadata": {},
   "source": [
    "13.WAP to display hello world if the number is greater than 1 and less than 5."
   ]
  },
  {
   "cell_type": "code",
   "execution_count": 40,
   "metadata": {},
   "outputs": [
    {
     "name": "stdout",
     "output_type": "stream",
     "text": [
      "hello world\n"
     ]
    }
   ],
   "source": [
    "a=eval(input(\"enter the value:\"))\n",
    "if a>1 and a<5:\n",
    "    print(\"hello world\")"
   ]
  },
  {
   "attachments": {},
   "cell_type": "markdown",
   "metadata": {},
   "source": [
    "14.WAP to check whether a given value is divisible by 5 and 7.if the value is divisible,display the square of the values."
   ]
  },
  {
   "cell_type": "code",
   "execution_count": 58,
   "metadata": {},
   "outputs": [
    {
     "name": "stdout",
     "output_type": "stream",
     "text": [
      "1225\n"
     ]
    }
   ],
   "source": [
    "a=eval(input(\"enter the value:\"))\n",
    "if a%5==0 and a%7==0:\n",
    "    print(a**2)"
   ]
  },
  {
   "attachments": {},
   "cell_type": "markdown",
   "metadata": {},
   "source": [
    "15.WAP to check whether the given value's last digit is greater than 5 or not . if greater ,perform the bitwise right shift operator (skipping value is 2)."
   ]
  },
  {
   "cell_type": "code",
   "execution_count": 87,
   "metadata": {},
   "outputs": [
    {
     "name": "stdout",
     "output_type": "stream",
     "text": [
      "9\n"
     ]
    }
   ],
   "source": [
    "a=eval(input(\"enter the value:\"))    ################################\n",
    "if (a%10)>5:\n",
    "    print(a>>2)"
   ]
  },
  {
   "attachments": {},
   "cell_type": "markdown",
   "metadata": {},
   "source": [
    "16.WAP to check whether a given value is divisible by 3 and less than 30.if the value is divisible ,to display the square of the values."
   ]
  },
  {
   "cell_type": "code",
   "execution_count": 62,
   "metadata": {},
   "outputs": [
    {
     "name": "stdout",
     "output_type": "stream",
     "text": [
      "576\n"
     ]
    }
   ],
   "source": [
    "a=eval(input(\"enter the value:\"))\n",
    "if a%3==0 and a<30:\n",
    "    print(a**2)"
   ]
  },
  {
   "attachments": {},
   "cell_type": "markdown",
   "metadata": {},
   "source": [
    "17.WAP to check whether a given value is an even number and divisible by 4.if satisfied,to display the cube of the values."
   ]
  },
  {
   "cell_type": "code",
   "execution_count": 63,
   "metadata": {},
   "outputs": [
    {
     "name": "stdout",
     "output_type": "stream",
     "text": [
      "13824\n"
     ]
    }
   ],
   "source": [
    "a=eval(input(\"enter the value:\"))\n",
    "if a%2==0 and a%4==0:\n",
    "    print(a**3)"
   ]
  },
  {
   "attachments": {},
   "cell_type": "markdown",
   "metadata": {},
   "source": [
    "18.WAP to check whether a given value is even or not.if the number stores the values inside the list."
   ]
  },
  {
   "cell_type": "code",
   "execution_count": 64,
   "metadata": {},
   "outputs": [
    {
     "name": "stdout",
     "output_type": "stream",
     "text": [
      "['4', '0']\n"
     ]
    }
   ],
   "source": [
    "a=eval(input(\"enter the value:\"))\n",
    "if a%2==0:\n",
    "    b=str(a)\n",
    "    c=list(b)\n",
    "    print(c)"
   ]
  },
  {
   "attachments": {},
   "cell_type": "markdown",
   "metadata": {},
   "source": [
    "19.WAP to check whether a given value is a negative or even number . if satisfied , display the last digit of the values."
   ]
  },
  {
   "cell_type": "code",
   "execution_count": 90,
   "metadata": {},
   "outputs": [
    {
     "name": "stdout",
     "output_type": "stream",
     "text": [
      "6\n"
     ]
    }
   ],
   "source": [
    "a=eval(input(\"enter the value:\"))   ############################\n",
    "if a<0 or a%2==0:\n",
    "    print(a%10)"
   ]
  },
  {
   "attachments": {},
   "cell_type": "markdown",
   "metadata": {},
   "source": [
    "20.WAP to check whether a given value is a negative or odd number and divisible by 4.if satisfied ,display the cubes of the values."
   ]
  },
  {
   "cell_type": "code",
   "execution_count": 126,
   "metadata": {},
   "outputs": [
    {
     "name": "stdout",
     "output_type": "stream",
     "text": [
      "-85184\n"
     ]
    }
   ],
   "source": [
    "a=eval(input(\"enter the value:\"))\n",
    "if a<0 or a%2!=0 and a%4==0:\n",
    "    print(a**3)"
   ]
  },
  {
   "attachments": {},
   "cell_type": "markdown",
   "metadata": {},
   "source": [
    "21.WAP to check whether a given ascii value is divisible by 4 and even value.if satisfied to display the ascii character."
   ]
  },
  {
   "cell_type": "code",
   "execution_count": 122,
   "metadata": {},
   "outputs": [
    {
     "name": "stdout",
     "output_type": "stream",
     "text": [
      "P\n"
     ]
    }
   ],
   "source": [
    "a=eval(input(\"enter the value:\"))    ################################\n",
    "if chr(a%4==0) and chr(a%2==0):\n",
    "    print(chr(a))\n",
    "\n"
   ]
  },
  {
   "cell_type": "code",
   "execution_count": 120,
   "metadata": {},
   "outputs": [
    {
     "name": "stdout",
     "output_type": "stream",
     "text": [
      "P\n"
     ]
    }
   ],
   "source": [
    "a=eval(input(\"enter the value:\")) \n",
    "if ord(chr(a))%4==0 and ord(chr(a))%2==0:\n",
    "    print(chr(a))"
   ]
  },
  {
   "attachments": {},
   "cell_type": "markdown",
   "metadata": {},
   "source": [
    "22.WAP to check whether a given value is present in between 45 to 125 and the number should be divisible by 4 and 5 and even value.\n",
    "if satisfied , to display the ascii character."
   ]
  },
  {
   "cell_type": "code",
   "execution_count": 108,
   "metadata": {},
   "outputs": [
    {
     "name": "stdout",
     "output_type": "stream",
     "text": [
      "P\n"
     ]
    }
   ],
   "source": [
    "a=eval(input(\"enter the value:\")) \n",
    "if 45<a<125 and a%4==0 and a%5==0:\n",
    "    print(chr(a))"
   ]
  },
  {
   "attachments": {},
   "cell_type": "markdown",
   "metadata": {},
   "source": [
    "23.WAP to check whether a given value is present in between 25 to 100 and the number should be divisible by 4 and 5.if satisfied , to display\n",
    "the multiplication of given value with 5."
   ]
  },
  {
   "cell_type": "code",
   "execution_count": 109,
   "metadata": {},
   "outputs": [
    {
     "name": "stdout",
     "output_type": "stream",
     "text": [
      "400\n"
     ]
    }
   ],
   "source": [
    "a=eval(input(\"enter the value:\")) \n",
    "if 25<a<100 and a%4==0 and a%5==0:\n",
    "    print(a*5)"
   ]
  },
  {
   "attachments": {},
   "cell_type": "markdown",
   "metadata": {},
   "source": [
    "24.WAP to check whether a given number is integer and odd number.if the condition is satisfied ,the integer is divisible by 5 and diplay the result."
   ]
  },
  {
   "cell_type": "code",
   "execution_count": 141,
   "metadata": {},
   "outputs": [
    {
     "name": "stdout",
     "output_type": "stream",
     "text": [
      "True\n"
     ]
    }
   ],
   "source": [
    "a=int(input(\"enter the value:\"))\n",
    "if type(a)==int and a%2!=0:\n",
    "    print(a%5==0)\n"
   ]
  },
  {
   "attachments": {},
   "cell_type": "markdown",
   "metadata": {},
   "source": [
    "25.WAP to check whether a given value is an integer or not. If integer, the given value is converted to string and displays the result."
   ]
  },
  {
   "cell_type": "code",
   "execution_count": 145,
   "metadata": {},
   "outputs": [
    {
     "name": "stdout",
     "output_type": "stream",
     "text": [
      "24\n"
     ]
    }
   ],
   "source": [
    "a=eval(input(\"enter the value:\"))\n",
    "if type(a)==int:\n",
    "    print(a)"
   ]
  },
  {
   "attachments": {},
   "cell_type": "markdown",
   "metadata": {},
   "source": [
    "26.WAP to check whether a given value is less than 125 and greater than 60 or not. If the condition is satisfied, take the name and extract the middle character and display it."
   ]
  },
  {
   "cell_type": "code",
   "execution_count": 150,
   "metadata": {},
   "outputs": [
    {
     "name": "stdout",
     "output_type": "stream",
     "text": [
      "80\n",
      "r\n"
     ]
    }
   ],
   "source": [
    "a=eval(input(\"enter the value:\"))\n",
    "if 60<a<125:\n",
    "    print(a)\n",
    "    b=\"dharani\"\n",
    "    b=b[len(b)//2]\n",
    "    print(b)"
   ]
  },
  {
   "attachments": {},
   "cell_type": "markdown",
   "metadata": {},
   "source": [
    "27.WAP to check whether a given two integers are equal or not. If both are equal, to perform addition and display the result. "
   ]
  },
  {
   "cell_type": "code",
   "execution_count": 160,
   "metadata": {},
   "outputs": [
    {
     "name": "stdout",
     "output_type": "stream",
     "text": [
      "100\n"
     ]
    }
   ],
   "source": [
    "a=eval(input(\"enter the value:\"))\n",
    "b=eval(input(\"enter the value:\"))\n",
    "if (type(a)==int) and (type(b)==int):\n",
    "    print(a+b)"
   ]
  },
  {
   "attachments": {},
   "cell_type": "markdown",
   "metadata": {},
   "source": [
    "28.WAP to check whether two values are equal or not. if equal, to perform multiplication of two numbers and that result is division by 3 and display the value."
   ]
  },
  {
   "cell_type": "code",
   "execution_count": 162,
   "metadata": {},
   "outputs": [
    {
     "name": "stdout",
     "output_type": "stream",
     "text": [
      "1\n"
     ]
    }
   ],
   "source": [
    "a=eval(input(\"enter the value:\"))\n",
    "b=eval(input(\"enter the value:\"))\n",
    "if a==b:\n",
    "    print(a*b%3)"
   ]
  },
  {
   "attachments": {},
   "cell_type": "markdown",
   "metadata": {},
   "source": [
    "29.WAP to check whether a character is in the alphabet or not. If the alphabet, store the value inside the dict(key as a character and value as an ascii value)."
   ]
  },
  {
   "cell_type": "code",
   "execution_count": 170,
   "metadata": {},
   "outputs": [
    {
     "ename": "NameError",
     "evalue": "name 'ab' is not defined",
     "output_type": "error",
     "traceback": [
      "\u001b[1;31m---------------------------------------------------------------------------\u001b[0m",
      "\u001b[1;31mNameError\u001b[0m                                 Traceback (most recent call last)",
      "Cell \u001b[1;32mIn[170], line 1\u001b[0m\n\u001b[1;32m----> 1\u001b[0m a\u001b[39m=\u001b[39m\u001b[39meval\u001b[39;49m(\u001b[39minput\u001b[39;49m(\u001b[39m\"\u001b[39;49m\u001b[39menter the value:\u001b[39;49m\u001b[39m\"\u001b[39;49m))\n\u001b[0;32m      2\u001b[0m \u001b[39mif\u001b[39;00m \u001b[39m'\u001b[39m\u001b[39mA\u001b[39m\u001b[39m'\u001b[39m\u001b[39m<\u001b[39m\u001b[39m=\u001b[39m\u001b[39mchr\u001b[39m(a)\u001b[39m<\u001b[39m\u001b[39m=\u001b[39m\u001b[39m'\u001b[39m\u001b[39mZ\u001b[39m\u001b[39m'\u001b[39m \u001b[39mor\u001b[39;00m \u001b[39m'\u001b[39m\u001b[39ma\u001b[39m\u001b[39m'\u001b[39m\u001b[39m<\u001b[39m\u001b[39m=\u001b[39m\u001b[39mchr\u001b[39m(a)\u001b[39m<\u001b[39m\u001b[39m=\u001b[39m\u001b[39m'\u001b[39m\u001b[39mz\u001b[39m\u001b[39m'\u001b[39m:\n\u001b[0;32m      3\u001b[0m     b\u001b[39m=\u001b[39mab\n",
      "File \u001b[1;32m<string>:1\u001b[0m\n",
      "\u001b[1;31mNameError\u001b[0m: name 'ab' is not defined"
     ]
    }
   ],
   "source": [
    "a=eval(input(\"enter the value:\"))\n",
    "if 'A'<=chr(a)<='Z' or 'a'<=chr(a)<='z':"
   ]
  },
  {
   "attachments": {},
   "cell_type": "markdown",
   "metadata": {},
   "source": [
    "30.WAP to check whether a character is in the uppercase or not. If the uppercase, store the value inside the dict(key as a character and value as an ascii value)."
   ]
  },
  {
   "cell_type": "code",
   "execution_count": null,
   "metadata": {},
   "outputs": [],
   "source": [
    "a=eval(input(\"enter the value:\"))\n",
    "if a"
   ]
  },
  {
   "attachments": {},
   "cell_type": "markdown",
   "metadata": {},
   "source": [
    "31.WAP to check whether a character is in the uppercase or not. If the uppercase, convert to lowercase and store the value inside the dict(character as a key and ascii value as a value)."
   ]
  },
  {
   "cell_type": "code",
   "execution_count": null,
   "metadata": {},
   "outputs": [],
   "source": []
  },
  {
   "attachments": {},
   "cell_type": "markdown",
   "metadata": {},
   "source": [
    "32.WAP to check whether a character is in the lowercase or not. If the lowercase, to perform the replication operation on that character."
   ]
  },
  {
   "cell_type": "code",
   "execution_count": 180,
   "metadata": {},
   "outputs": [
    {
     "name": "stdout",
     "output_type": "stream",
     "text": [
      "ddddd\n"
     ]
    }
   ],
   "source": [
    "x=input(\"enter a character:\")\n",
    "if 'a'<=x<='z':\n",
    "    print(5*x)"
   ]
  },
  {
   "attachments": {},
   "cell_type": "markdown",
   "metadata": {},
   "source": [
    "33.WAP to check whether a character is in the ascii number or not. If the ascii number, to convert into integer."
   ]
  },
  {
   "cell_type": "code",
   "execution_count": 187,
   "metadata": {},
   "outputs": [
    {
     "name": "stdout",
     "output_type": "stream",
     "text": [
      "57\n"
     ]
    }
   ],
   "source": [
    "x=input(\"enter a character:\")\n",
    "if '0'<=x<='9':\n",
    "    print(int(ord(x)))"
   ]
  },
  {
   "attachments": {},
   "cell_type": "markdown",
   "metadata": {},
   "source": [
    "34.WAP to check whether a character is in the special symbol or not. If the special symbol, to display a symbol with ascii value."
   ]
  },
  {
   "cell_type": "code",
   "execution_count": 190,
   "metadata": {},
   "outputs": [
    {
     "name": "stdout",
     "output_type": "stream",
     "text": [
      "37\n"
     ]
    }
   ],
   "source": [
    "x=input(\"enter a character:\")\n",
    "if not ('A'<=x<='z' or 'a'<=x<='z' or '0'<=x<='9'):\n",
    "    print(ord(x))"
   ]
  },
  {
   "attachments": {},
   "cell_type": "markdown",
   "metadata": {},
   "source": [
    "35.WAP to check whether a character is an even number or not. If the even number, to display an even number."
   ]
  },
  {
   "cell_type": "code",
   "execution_count": 195,
   "metadata": {},
   "outputs": [
    {
     "name": "stdout",
     "output_type": "stream",
     "text": [
      "98\n"
     ]
    }
   ],
   "source": [
    "x=input(\"enter a character:\")\n",
    "if ord(x)%2==0 :\n",
    "    print(ord(x))"
   ]
  },
  {
   "attachments": {},
   "cell_type": "markdown",
   "metadata": {},
   "source": [
    "36.WAP to check whether a Given two integers a and b, if any of the integers is 10 or if their sum is 10, to perform the sum of the numbers and to display  the square of the result."
   ]
  },
  {
   "cell_type": "code",
   "execution_count": 197,
   "metadata": {},
   "outputs": [
    {
     "name": "stdout",
     "output_type": "stream",
     "text": [
      "400\n"
     ]
    }
   ],
   "source": [
    "x=int(input(\"enter an integer:\"))\n",
    "y=int(input(\"enter an integer:\"))\n",
    "if x==10 or x+y==10:\n",
    "    print((x+y)**2) "
   ]
  },
  {
   "attachments": {},
   "cell_type": "markdown",
   "metadata": {},
   "source": [
    "37.WAP to check whether a character is in the vowel or not. If the vowel,print the next character."
   ]
  },
  {
   "cell_type": "code",
   "execution_count": 200,
   "metadata": {},
   "outputs": [
    {
     "name": "stdout",
     "output_type": "stream",
     "text": [
      "98\n"
     ]
    }
   ],
   "source": [
    "x=input(\"enter the character:\")   #for a\n",
    "if x in 'AEIOUaeiou':\n",
    "    print(ord(x)+1)"
   ]
  },
  {
   "cell_type": "code",
   "execution_count": 201,
   "metadata": {},
   "outputs": [
    {
     "name": "stdout",
     "output_type": "stream",
     "text": [
      "66\n"
     ]
    }
   ],
   "source": [
    "x=input(\"enter the character:\")   # for A\n",
    "if x in 'AEIOUaeiou':\n",
    "    print(ord(x)+1)"
   ]
  },
  {
   "attachments": {},
   "cell_type": "markdown",
   "metadata": {},
   "source": [
    "38.WAP to check whether a character is in the not a vowel. If it's not a vowel,print the previous character."
   ]
  },
  {
   "cell_type": "code",
   "execution_count": 203,
   "metadata": {},
   "outputs": [
    {
     "name": "stdout",
     "output_type": "stream",
     "text": [
      "97\n"
     ]
    }
   ],
   "source": [
    "x=input(\"enter the character:\")  # for b\n",
    "if x not in 'AEIOUaeiou':\n",
    "    print(ord(x)-1)"
   ]
  },
  {
   "cell_type": "code",
   "execution_count": 204,
   "metadata": {},
   "outputs": [
    {
     "name": "stdout",
     "output_type": "stream",
     "text": [
      "65\n"
     ]
    }
   ],
   "source": [
    "x=input(\"enter the character:\")  # for b\n",
    "if x not in 'AEIOUaeiou':\n",
    "    print(ord(x)-1)"
   ]
  }
 ],
 "metadata": {
  "kernelspec": {
   "display_name": "Python 3",
   "language": "python",
   "name": "python3"
  },
  "language_info": {
   "codemirror_mode": {
    "name": "ipython",
    "version": 3
   },
   "file_extension": ".py",
   "mimetype": "text/x-python",
   "name": "python",
   "nbconvert_exporter": "python",
   "pygments_lexer": "ipython3",
   "version": "3.11.3"
  },
  "orig_nbformat": 4
 },
 "nbformat": 4,
 "nbformat_minor": 2
}
