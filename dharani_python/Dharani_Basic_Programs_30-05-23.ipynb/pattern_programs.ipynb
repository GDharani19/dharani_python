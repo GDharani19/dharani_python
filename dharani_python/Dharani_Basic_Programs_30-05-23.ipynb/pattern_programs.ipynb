{
 "cells": [
  {
   "cell_type": "code",
   "execution_count": 19,
   "metadata": {},
   "outputs": [
    {
     "name": "stdout",
     "output_type": "stream",
     "text": [
      "11 12 13 14 15 \n",
      "21 22 23 24 25 \n",
      "31 32 33 34 35 \n",
      "41 42 43 44 45 \n",
      "51 52 53 54 55 \n"
     ]
    }
   ],
   "source": [
    "n=5\n",
    "for i in range(1,n+1):\n",
    "    for j in range(1,n+1):\n",
    "        print(i,j,end=\" \",sep=\"\")\n",
    "    print()    "
   ]
  },
  {
   "cell_type": "code",
   "execution_count": 20,
   "metadata": {},
   "outputs": [
    {
     "name": "stdout",
     "output_type": "stream",
     "text": [
      "* * * * * \n",
      "* * * * * \n",
      "* * * * * \n",
      "* * * * * \n",
      "* * * * * \n"
     ]
    }
   ],
   "source": [
    "n=5\n",
    "for i in range(1,n+1):\n",
    "    for j in range(1,n+1):\n",
    "        print(\"*\",end=\" \",sep=\"\")\n",
    "    print()    "
   ]
  },
  {
   "cell_type": "code",
   "execution_count": 22,
   "metadata": {},
   "outputs": [
    {
     "name": "stdout",
     "output_type": "stream",
     "text": [
      "-------------\n",
      "| D D D D D |\n",
      "| D D D D D |\n",
      "| D D D D D |\n",
      "| D D D D D |\n",
      "| D D D D D |\n",
      "-------------\n"
     ]
    }
   ],
   "source": [
    "n=5\n",
    "print(\"-\"*13)\n",
    "for i in range(1,n+1):\n",
    "    print(\"|\",end=\" \")\n",
    "    for j in range(1,n+1):\n",
    "        print(\"D\",end=\" \",sep=\"\")\n",
    "    print(\"|\")\n",
    "print(\"-\"*13)        "
   ]
  },
  {
   "cell_type": "code",
   "execution_count": 27,
   "metadata": {},
   "outputs": [
    {
     "name": "stdout",
     "output_type": "stream",
     "text": [
      "D D D D D \n",
      "\n",
      "\n",
      "\n",
      "\n"
     ]
    }
   ],
   "source": [
    "n=5\n",
    "for i in range (1,n+1):\n",
    "    for j in range(1,n+1):\n",
    "        if i==1:\n",
    "            print(\"D\",end=\" \",sep=\" \")\n",
    "    print()   "
   ]
  },
  {
   "cell_type": "code",
   "execution_count": 28,
   "metadata": {},
   "outputs": [
    {
     "name": "stdout",
     "output_type": "stream",
     "text": [
      "\n",
      "D D D D D \n",
      "\n",
      "\n",
      "\n"
     ]
    }
   ],
   "source": [
    "n=5\n",
    "for i in range (1,n+1):\n",
    "    for j in range(1,n+1):\n",
    "        if i==2:\n",
    "            print(\"D\",end=\" \",sep=\" \")\n",
    "    print()   "
   ]
  },
  {
   "cell_type": "code",
   "execution_count": 29,
   "metadata": {},
   "outputs": [
    {
     "name": "stdout",
     "output_type": "stream",
     "text": [
      "\n",
      "\n",
      "D D D D D \n",
      "\n",
      "\n"
     ]
    }
   ],
   "source": [
    "n=5\n",
    "for i in range (1,n+1):\n",
    "    for j in range(1,n+1):\n",
    "        if i==3:\n",
    "            print(\"D\",end=\" \",sep=\" \")\n",
    "    print()   "
   ]
  },
  {
   "cell_type": "code",
   "execution_count": 30,
   "metadata": {},
   "outputs": [
    {
     "name": "stdout",
     "output_type": "stream",
     "text": [
      "\n",
      "\n",
      "\n",
      "D D D D D \n",
      "\n"
     ]
    }
   ],
   "source": [
    "n=5\n",
    "for i in range (1,n+1):\n",
    "    for j in range(1,n+1):\n",
    "        if i==4:\n",
    "            print(\"D\",end=\" \",sep=\" \")\n",
    "    print()   "
   ]
  },
  {
   "cell_type": "code",
   "execution_count": 26,
   "metadata": {},
   "outputs": [
    {
     "name": "stdout",
     "output_type": "stream",
     "text": [
      "\n",
      "\n",
      "\n",
      "\n",
      "D D D D D \n"
     ]
    }
   ],
   "source": [
    "n=5\n",
    "for i in range (1,n+1):\n",
    "    for j in range(1,n+1):\n",
    "        if i==5:\n",
    "            print(\"D\",end=\" \",sep=\" \")\n",
    "    print()   "
   ]
  },
  {
   "cell_type": "code",
   "execution_count": 31,
   "metadata": {},
   "outputs": [
    {
     "name": "stdout",
     "output_type": "stream",
     "text": [
      "D - - - - \n",
      "D - - - - \n",
      "D - - - - \n",
      "D - - - - \n",
      "D - - - - \n"
     ]
    }
   ],
   "source": [
    "n=5\n",
    "for i in range (1,n+1):\n",
    "    for j in range(1,n+1):\n",
    "        if j==1:\n",
    "            print(\"D\",end=\" \",sep=\" \")\n",
    "        else:\n",
    "            print(\"-\",end=\" \")    \n",
    "    print()   "
   ]
  },
  {
   "cell_type": "code",
   "execution_count": 35,
   "metadata": {},
   "outputs": [
    {
     "name": "stdout",
     "output_type": "stream",
     "text": [
      "- D - - - \n",
      "- D - - - \n",
      "- D - - - \n",
      "- D - - - \n",
      "- D - - - \n"
     ]
    }
   ],
   "source": [
    "n=5\n",
    "for i in range (1,n+1):\n",
    "    for j in range(1,n+1):\n",
    "        if j==2:\n",
    "            print(\"D\",end=\" \",sep=\" \")\n",
    "        else:\n",
    "            print(\"-\",end=\" \")    \n",
    "    print()   "
   ]
  },
  {
   "cell_type": "code",
   "execution_count": 34,
   "metadata": {},
   "outputs": [
    {
     "name": "stdout",
     "output_type": "stream",
     "text": [
      "- - D - - \n",
      "- - D - - \n",
      "- - D - - \n",
      "- - D - - \n",
      "- - D - - \n"
     ]
    }
   ],
   "source": [
    "n=5\n",
    "for i in range (1,n+1):\n",
    "    for j in range(1,n+1):\n",
    "        if j==3:\n",
    "            print(\"D\",end=\" \",sep=\" \")\n",
    "        else:\n",
    "            print(\"-\",end=\" \")    \n",
    "    print()   "
   ]
  },
  {
   "cell_type": "code",
   "execution_count": 33,
   "metadata": {},
   "outputs": [
    {
     "name": "stdout",
     "output_type": "stream",
     "text": [
      "- - - D - \n",
      "- - - D - \n",
      "- - - D - \n",
      "- - - D - \n",
      "- - - D - \n"
     ]
    }
   ],
   "source": [
    "n=5\n",
    "for i in range (1,n+1):\n",
    "    for j in range(1,n+1):\n",
    "        if j==4:\n",
    "            print(\"D\",end=\" \",sep=\" \")\n",
    "        else:\n",
    "            print(\"-\",end=\" \")    \n",
    "    print()   "
   ]
  },
  {
   "cell_type": "code",
   "execution_count": 32,
   "metadata": {},
   "outputs": [
    {
     "name": "stdout",
     "output_type": "stream",
     "text": [
      "- - - - D \n",
      "- - - - D \n",
      "- - - - D \n",
      "- - - - D \n",
      "- - - - D \n"
     ]
    }
   ],
   "source": [
    "n=5\n",
    "for i in range (1,n+1):\n",
    "    for j in range(1,n+1):\n",
    "        if j==5:\n",
    "            print(\"D\",end=\" \",sep=\" \")\n",
    "        else:\n",
    "            print(\"-\",end=\" \")    \n",
    "    print()   "
   ]
  },
  {
   "cell_type": "code",
   "execution_count": null,
   "metadata": {},
   "outputs": [],
   "source": []
  },
  {
   "cell_type": "code",
   "execution_count": 36,
   "metadata": {},
   "outputs": [
    {
     "name": "stdout",
     "output_type": "stream",
     "text": [
      "D D D D D \n",
      "D \n",
      "D \n",
      "D \n",
      "D \n"
     ]
    }
   ],
   "source": [
    "n=5\n",
    "for i in range (1,n+1):\n",
    "    for j in range(1,n+1):\n",
    "        if j==1 or i==1:\n",
    "            print(\"D\",end=\" \",sep=\" \")\n",
    "    print()   "
   ]
  },
  {
   "cell_type": "code",
   "execution_count": 84,
   "metadata": {},
   "outputs": [
    {
     "name": "stdout",
     "output_type": "stream",
     "text": [
      "D \n",
      "D \n",
      "D \n",
      "D \n",
      "D D D D D \n"
     ]
    }
   ],
   "source": [
    "n=5\n",
    "for i in range (1,n+1):\n",
    "    for j in range(1,n+1):\n",
    "        if j==1 or i==5:\n",
    "            print(\"D\",end=\" \",sep=\" \")\n",
    "    print()   "
   ]
  },
  {
   "cell_type": "code",
   "execution_count": 21,
   "metadata": {},
   "outputs": [
    {
     "name": "stdout",
     "output_type": "stream",
     "text": [
      "D D D D D \n",
      "        D \n",
      "        D \n",
      "        D \n",
      "        D \n"
     ]
    }
   ],
   "source": [
    "n=5\n",
    "for i in range (1,n+1):\n",
    "    for j in range(1,n+1):\n",
    "        if i==1 or j==5:\n",
    "            print(\"D\",end=\" \",sep=\" \")\n",
    "        else:\n",
    "            print(\" \",end=\" \")    \n",
    "    print()   "
   ]
  },
  {
   "cell_type": "code",
   "execution_count": 22,
   "metadata": {},
   "outputs": [
    {
     "name": "stdout",
     "output_type": "stream",
     "text": [
      "        D \n",
      "        D \n",
      "        D \n",
      "        D \n",
      "D D D D D \n"
     ]
    }
   ],
   "source": [
    "n=5\n",
    "for i in range (1,n+1):\n",
    "    for j in range(1,n+1):\n",
    "        if i==5 or j==5:\n",
    "            print(\"D\",end=\" \",sep=\" \")\n",
    "        else:\n",
    "            print(\" \",end=\" \")    \n",
    "    print()   "
   ]
  },
  {
   "cell_type": "code",
   "execution_count": 23,
   "metadata": {},
   "outputs": [
    {
     "name": "stdout",
     "output_type": "stream",
     "text": [
      "D D D D D \n",
      "D       D \n",
      "D       D \n",
      "D       D \n",
      "D D D D D \n"
     ]
    }
   ],
   "source": [
    "n=5\n",
    "for i in range (1,n+1):\n",
    "    for j in range(1,n+1):\n",
    "        if i==1 or j==1 or i==5 or j==5:\n",
    "            print(\"D\",end=\" \",sep=\" \")\n",
    "        else:\n",
    "            print(\" \",end=\" \")    \n",
    "    print()   "
   ]
  },
  {
   "cell_type": "code",
   "execution_count": 24,
   "metadata": {},
   "outputs": [
    {
     "name": "stdout",
     "output_type": "stream",
     "text": [
      "    D     \n",
      "    D     \n",
      "D D D D D \n",
      "    D     \n",
      "    D     \n"
     ]
    }
   ],
   "source": [
    "n=5\n",
    "for i in range (1,n+1):\n",
    "    for j in range(1,n+1):\n",
    "        if i==3 or j==3:\n",
    "            print(\"D\",end=\" \",sep=\" \")\n",
    "        else:\n",
    "            print(\" \",end=\" \")    \n",
    "    print()   "
   ]
  },
  {
   "cell_type": "code",
   "execution_count": 26,
   "metadata": {},
   "outputs": [
    {
     "name": "stdout",
     "output_type": "stream",
     "text": [
      "        D \n",
      "      D   \n",
      "    D     \n",
      "  D       \n",
      "D         \n"
     ]
    }
   ],
   "source": [
    "n=5\n",
    "for i in range (1,n+1):\n",
    "    for j in range(1,n+1):\n",
    "        if i+j==n+1:\n",
    "            print(\"D\",end=\" \",sep=\" \")\n",
    "        else:\n",
    "            print(\" \",end=\" \")    \n",
    "    print()   "
   ]
  },
  {
   "cell_type": "code",
   "execution_count": 27,
   "metadata": {},
   "outputs": [
    {
     "name": "stdout",
     "output_type": "stream",
     "text": [
      "D         \n",
      "  D       \n",
      "    D     \n",
      "      D   \n",
      "        D \n"
     ]
    }
   ],
   "source": [
    "n=5\n",
    "for i in range (1,n+1):\n",
    "    for j in range(1,n+1):\n",
    "        if i==j:\n",
    "            print(\"D\",end=\" \",sep=\" \")\n",
    "        else:\n",
    "            print(\" \",end=\" \")    \n",
    "    print()   "
   ]
  },
  {
   "cell_type": "code",
   "execution_count": 28,
   "metadata": {},
   "outputs": [
    {
     "name": "stdout",
     "output_type": "stream",
     "text": [
      "D       D \n",
      "  D   D   \n",
      "    D     \n",
      "  D   D   \n",
      "D       D \n"
     ]
    }
   ],
   "source": [
    "n=5\n",
    "for i in range (1,n+1):\n",
    "    for j in range(1,n+1):\n",
    "        if i==j or i+j==n+1:\n",
    "            print(\"D\",end=\" \",sep=\" \")\n",
    "        else:\n",
    "            print(\" \",end=\" \")    \n",
    "    print()   "
   ]
  },
  {
   "cell_type": "code",
   "execution_count": 29,
   "metadata": {},
   "outputs": [
    {
     "name": "stdout",
     "output_type": "stream",
     "text": [
      "        D \n",
      "  D   D   \n",
      "    D     \n",
      "  D   D   \n",
      "D         \n"
     ]
    }
   ],
   "source": [
    "n=5\n",
    "for i in range (1,n+1):\n",
    "    for j in range(1,n+1):\n",
    "        if i+j==n+1 or i==j and j%2==0:\n",
    "            print(\"D\",end=\" \",sep=\" \")\n",
    "        else:\n",
    "            print(\" \",end=\" \")    \n",
    "    print()   "
   ]
  },
  {
   "cell_type": "code",
   "execution_count": 33,
   "metadata": {},
   "outputs": [
    {
     "name": "stdout",
     "output_type": "stream",
     "text": [
      "    D     \n",
      "  D       \n",
      "D       D \n",
      "      D   \n",
      "    D     \n"
     ]
    }
   ],
   "source": [
    "n=5\n",
    "for i in range (1,n+1):\n",
    "    for j in range(1,n+1):\n",
    "        if i+j==4 or i+j==8:\n",
    "            print(\"D\",end=\" \",sep=\" \")\n",
    "        else:\n",
    "            print(\" \",end=\" \")    \n",
    "    print()   "
   ]
  },
  {
   "cell_type": "code",
   "execution_count": 73,
   "metadata": {},
   "outputs": [
    {
     "name": "stdout",
     "output_type": "stream",
     "text": [
      "D D D D D \n",
      "D \n",
      "D D D D D \n",
      "D \n",
      "D D D D D \n"
     ]
    }
   ],
   "source": [
    "n=5\n",
    "for i in range(1,n+1):\n",
    "    for j in range(1,n+1):\n",
    "        if i==1 or i==5 or j==3 or i==3:\n",
    "            print(\"D\",end=\" \",sep=\" \")\n",
    "    print()    "
   ]
  },
  {
   "cell_type": "code",
   "execution_count": 204,
   "metadata": {},
   "outputs": [
    {
     "name": "stdout",
     "output_type": "stream",
     "text": [
      "D D D   \n",
      "D     D \n",
      "D     D \n",
      "D     D \n",
      "D     D \n",
      "D D D   \n"
     ]
    }
   ],
   "source": [
    "n=6\n",
    "for row in range(6):\n",
    "    for col in range(4):\n",
    "        if ((row==0 or row==5) and (col!=3)) or ((col==0 or col==3) and (row!=0 and row!=5)):\n",
    "            print('D',end=' ')\n",
    "        else:\n",
    "            print(end='  ')\n",
    "    print()"
   ]
  },
  {
   "cell_type": "code",
   "execution_count": 219,
   "metadata": {},
   "outputs": [
    {
     "name": "stdout",
     "output_type": "stream",
     "text": [
      "H \n",
      "H \n",
      "H H H H H \n",
      "H \n",
      "H \n"
     ]
    }
   ],
   "source": [
    "n=5\n",
    "for i in range(1,n+1):\n",
    "    for j in range(1,n+1):\n",
    "        if (j==1 or i==3):\n",
    "            print(\"H\",end=\" \",sep=\" \")\n",
    "    print()    "
   ]
  },
  {
   "cell_type": "code",
   "execution_count": 2,
   "metadata": {},
   "outputs": [
    {
     "name": "stdout",
     "output_type": "stream",
     "text": [
      "N \n",
      "N N \n",
      "N N N \n",
      "N N N N \n",
      "N N N N N \n"
     ]
    }
   ],
   "source": [
    "n=5\n",
    "for i in range(1,n+1):\n",
    "    for j in range(1,n+1):\n",
    "       if  i>=j :\n",
    "        print(\"N\",end=\" \",sep=\" \")\n",
    "    print()    "
   ]
  },
  {
   "cell_type": "code",
   "execution_count": 39,
   "metadata": {},
   "outputs": [
    {
     "name": "stdout",
     "output_type": "stream",
     "text": [
      "* * * * * \n",
      "* * * * \n",
      "* * * \n",
      "* * \n",
      "* \n"
     ]
    }
   ],
   "source": [
    "n=5\n",
    "for i in range(1,n+1):\n",
    "    for j in range(1,(n+2)-i):\n",
    "        print(\"*\",end=\" \")\n",
    "    print()\n"
   ]
  },
  {
   "cell_type": "code",
   "execution_count": 38,
   "metadata": {},
   "outputs": [
    {
     "name": "stdout",
     "output_type": "stream",
     "text": [
      "*         \n",
      "* *       \n",
      "* * *     \n",
      "* * * *   \n",
      "* * * * * \n"
     ]
    }
   ],
   "source": [
    "n=5\n",
    "for i in range(1,n+1):\n",
    "    for j in range(1,n+1):\n",
    "        if i>=j:    \n",
    "            print(\"*\",end=\" \")\n",
    "        else:\n",
    "            print(\" \",end=\" \")    \n",
    "    print()\n"
   ]
  },
  {
   "cell_type": "code",
   "execution_count": 41,
   "metadata": {},
   "outputs": [
    {
     "name": "stdout",
     "output_type": "stream",
     "text": [
      "* * * * * \n",
      "  * * * * \n",
      "    * * * \n",
      "      * * \n",
      "        * \n"
     ]
    }
   ],
   "source": [
    "n=5\n",
    "for i in range(1,n+1):\n",
    "    for j in range(1,n+1):\n",
    "        if i<=j:    \n",
    "            print(\"*\",end=\" \")\n",
    "        else:\n",
    "            print(\" \",end=\" \")    \n",
    "    print()\n"
   ]
  },
  {
   "cell_type": "code",
   "execution_count": 82,
   "metadata": {},
   "outputs": [
    {
     "name": "stdout",
     "output_type": "stream",
     "text": [
      "* * * * * \n",
      "* * * * \n",
      "* * * \n",
      "* * \n",
      "* \n"
     ]
    }
   ],
   "source": [
    "n=5                      # correct method \n",
    "for i in range(1,n+1):\n",
    "    for j in range(1,n+1):\n",
    "        if i+j<=n+1:\n",
    "            print(\"*\",end=\" \")\n",
    "    print()"
   ]
  },
  {
   "cell_type": "code",
   "execution_count": 83,
   "metadata": {},
   "outputs": [
    {
     "name": "stdout",
     "output_type": "stream",
     "text": [
      "* \n",
      "* * \n",
      "* * * \n",
      "* * * * \n",
      "* * * * * \n"
     ]
    }
   ],
   "source": [
    "n=5                      # correct method \n",
    "for i in range(1,n+1):\n",
    "    for j in range(1,n+1):\n",
    "        if i+j>=n+1:\n",
    "            print(\"*\",end=\" \")\n",
    "    print()"
   ]
  },
  {
   "cell_type": "code",
   "execution_count": 41,
   "metadata": {},
   "outputs": [
    {
     "name": "stdout",
     "output_type": "stream",
     "text": [
      "          @           \n",
      "        @ @         \n",
      "      @ @ @       \n",
      "    @ @ @ @     \n",
      "  @ @ @ @ @   \n",
      "  @ @ @ @   @ \n",
      "    @ @ @     @ \n",
      "      @ @       @ \n",
      "        @         @ \n",
      "                    @ \n"
     ]
    }
   ],
   "source": [
    "n=5                      # correct method \n",
    "for i in range(1,n+1):\n",
    "    for j in range(1,n+1):\n",
    "        if i+j<=n+1:\n",
    "            print(\" \",end=\" \")\n",
    "    else:\n",
    "        print(\"@\",end=\" \")\n",
    "    for j in range(1,n+1):\n",
    "        if i<=j:    \n",
    "            print(\" \",end=\" \")\n",
    "        else:\n",
    "            print(\"@\",end=\" \")    \n",
    "    print()\n",
    "n=5\n",
    "for i in range(1,n+1):\n",
    "    for j in range(1,n+1):\n",
    "        if i>=j:    \n",
    "            print(\" \",end=\" \")\n",
    "        else:\n",
    "            print(\"@\",end=\" \") \n",
    "    for j in range(1,n+1):\n",
    "        if i+j>=n+1:\n",
    "            print(\" \",end=\" \")\n",
    "    else:\n",
    "        print(\"@\",end=\" \")\n",
    "    print()               \n",
    "    \n",
    "    \n",
    "    \n"
   ]
  },
  {
   "cell_type": "code",
   "execution_count": 1,
   "metadata": {},
   "outputs": [
    {
     "name": "stdout",
     "output_type": "stream",
     "text": [
      "1 2 3 4 5 \n",
      "6 7 8 9 10 \n",
      "11 12 13 14 15 \n",
      "16 17 18 19 20 \n",
      "21 22 23 24 25 \n"
     ]
    }
   ],
   "source": [
    "n=1\n",
    "for i in range(1,5+1):\n",
    "    for j in range(1,5+1):\n",
    "        print(n,end=\" \")\n",
    "        n+=1\n",
    "    print()    "
   ]
  },
  {
   "cell_type": "code",
   "execution_count": 15,
   "metadata": {},
   "outputs": [
    {
     "name": "stdout",
     "output_type": "stream",
     "text": [
      "A B C D E F \n",
      "G H I J K L \n",
      "M N O P Q R \n",
      "S T U V W X \n",
      "Y Z [ \\ ] ^ \n",
      "_ ` a b c d \n"
     ]
    }
   ],
   "source": [
    "n=65\n",
    "for i in range(0,5+1):\n",
    "    for j in range(0,5+1):\n",
    "        print(chr(n),end=\" \")\n",
    "        n+=1\n",
    "    print()    "
   ]
  },
  {
   "cell_type": "code",
   "execution_count": 19,
   "metadata": {},
   "outputs": [
    {
     "name": "stdout",
     "output_type": "stream",
     "text": [
      "A B C D E \n",
      "F G H I J \n",
      "K L M N O \n",
      "P Q R S T \n",
      "U V W X Y \n"
     ]
    }
   ],
   "source": [
    "n=65\n",
    "for i in range(0,4+1):\n",
    "    for j in range(0,4+1):\n",
    "        print(chr(n),end=\" \")\n",
    "        n+=1                                                                                                                                           \n",
    "    print()    "
   ]
  },
  {
   "cell_type": "code",
   "execution_count": 17,
   "metadata": {},
   "outputs": [
    {
     "name": "stdout",
     "output_type": "stream",
     "text": [
      "A B C D E \n",
      "F       G \n",
      "H       I \n",
      "J       K \n",
      "L M N O P \n"
     ]
    }
   ],
   "source": [
    "n=65\n",
    "for i in range(1,5+1):\n",
    "    for j in range(1,5+1):\n",
    "        if i==1 or i==5 or j==1 or j==5:\n",
    "            print(chr(n),end=\" \")\n",
    "            n+=1\n",
    "        else:\n",
    "            print(\" \",end=\" \")\n",
    "    print()    "
   ]
  },
  {
   "cell_type": "code",
   "execution_count": 18,
   "metadata": {},
   "outputs": [
    {
     "name": "stdout",
     "output_type": "stream",
     "text": [
      "A B C D E \n",
      "F       G \n",
      "H   I   J \n",
      "K       L \n",
      "M N O P Q \n"
     ]
    }
   ],
   "source": [
    "n=65\n",
    "m=5\n",
    "for i in range(1,5+1):\n",
    "    for j in range(1,5+1):\n",
    "        if i==1 or i==m or j==1 or j==m or i==(m//2)+1 and j==(m//2)+1:\n",
    "            print(chr(n),end=\" \")\n",
    "            n+=1\n",
    "        else:\n",
    "            print(\" \",end=\" \")\n",
    "    print()    "
   ]
  },
  {
   "cell_type": "code",
   "execution_count": 35,
   "metadata": {},
   "outputs": [
    {
     "name": "stdout",
     "output_type": "stream",
     "text": [
      "1 \n",
      "2 2 \n",
      "3 3 3 \n",
      "4 4 4 4 \n",
      "5 5 5 5 5 \n"
     ]
    }
   ],
   "source": [
    "n=5\n",
    "for i in range(1,n+1):\n",
    "    for j in range(1,i+1):\n",
    "        print(i,end=\" \")\n",
    "    print()  "
   ]
  },
  {
   "cell_type": "code",
   "execution_count": 34,
   "metadata": {},
   "outputs": [
    {
     "name": "stdout",
     "output_type": "stream",
     "text": [
      "1 1 1 1 1 \n",
      "2 2 2 2 \n",
      "3 3 3 \n",
      "4 4 \n",
      "5 \n"
     ]
    }
   ],
   "source": [
    "n=5\n",
    "for i in range(1,n+1):\n",
    "    for j in range(i,n+1):\n",
    "        print(i,end=\" \")\n",
    "    print()    "
   ]
  },
  {
   "cell_type": "code",
   "execution_count": 36,
   "metadata": {},
   "outputs": [
    {
     "name": "stdout",
     "output_type": "stream",
     "text": [
      "1 2 3 4 5 \n",
      "2 3 4 5 \n",
      "3 4 5 \n",
      "4 5 \n",
      "5 \n"
     ]
    }
   ],
   "source": [
    "n=5\n",
    "for i in range(1,n+1):\n",
    "    for j in range(i,n+1):\n",
    "        print(j,end=\" \")\n",
    "    print()  "
   ]
  },
  {
   "cell_type": "code",
   "execution_count": 42,
   "metadata": {},
   "outputs": [
    {
     "name": "stdout",
     "output_type": "stream",
     "text": [
      "1 \n",
      "2 3 \n",
      "4 5 6 \n",
      "7 8 9 10 \n",
      "11 12 13 14 15 \n"
     ]
    }
   ],
   "source": [
    "n=5\n",
    "c=1\n",
    "for i in range(1,n+1):\n",
    "    for j in range(1,i+1):\n",
    "        print(c,end=\" \")\n",
    "        c+=1\n",
    "    print()    "
   ]
  },
  {
   "cell_type": "code",
   "execution_count": 48,
   "metadata": {},
   "outputs": [
    {
     "name": "stdout",
     "output_type": "stream",
     "text": [
      "  A B C D E F G   \n",
      "    H I J K L     \n",
      "      M N O       \n",
      "        P         \n",
      "                  \n"
     ]
    }
   ],
   "source": [
    "n=5\n",
    "m=65\n",
    "for i in range(1,n+1):\n",
    "    for j in range(1,n+1):\n",
    "        if i>=j:\n",
    "            print(\" \",end=\" \")\n",
    "        else:\n",
    "            print(chr(m),end=\" \")\n",
    "            m+=1\n",
    "    for j in range(2,n+1):\n",
    "        if i+j>=n+1:\n",
    "            print(\" \",end=\" \")\n",
    "        else:\n",
    "            print(chr(m),end=\" \")\n",
    "            m+=1\n",
    "    print()                        "
   ]
  },
  {
   "cell_type": "code",
   "execution_count": 50,
   "metadata": {},
   "outputs": [
    {
     "name": "stdout",
     "output_type": "stream",
     "text": [
      "A B C D E F G H I \n",
      "  J K L M N O P   \n",
      "    Q R S T U     \n",
      "      V W X       \n",
      "        Y         \n"
     ]
    }
   ],
   "source": [
    "n=5\n",
    "m=65\n",
    "for i in range(1,n+1):\n",
    "    for j in range(1,n+1):\n",
    "        if i<=j:\n",
    "            print(chr(m),end=\" \")\n",
    "            m+=1\n",
    "        else:\n",
    "            print(\" \",end=\" \")\n",
    "    for j in range(2,n+1):\n",
    "        if i+j<=n+1:\n",
    "            print(chr(m),end=\" \")\n",
    "            m+=1\n",
    "        else:\n",
    "            print(\" \",end=\" \")\n",
    "    print()            "
   ]
  },
  {
   "cell_type": "code",
   "execution_count": 52,
   "metadata": {},
   "outputs": [
    {
     "name": "stdout",
     "output_type": "stream",
     "text": [
      "        A         \n",
      "      B C D       \n",
      "    E F G H I     \n",
      "  J K L M N O P   \n",
      "Q R S T U V W X Y \n"
     ]
    }
   ],
   "source": [
    "n=5\n",
    "m=65\n",
    "for i in range(1,n+1):\n",
    "    for j in range(1,n+1):\n",
    "        if i+j>=n+1:\n",
    "            print(chr(m),end=\" \")\n",
    "            m+=1\n",
    "        else:\n",
    "            print(\" \",end=\" \")\n",
    "    for j in range(2,n+1):\n",
    "        if i>=j:\n",
    "            print(chr(m),end=\" \")\n",
    "            m+=1\n",
    "        else:\n",
    "            print(\" \",end=\" \")\n",
    "    print()            "
   ]
  },
  {
   "cell_type": "code",
   "execution_count": 47,
   "metadata": {},
   "outputs": [
    {
     "name": "stdout",
     "output_type": "stream",
     "text": [
      "                  \n",
      "A               B \n",
      "C D           E F \n",
      "G H I       J K L \n",
      "M N O P   Q R S T \n"
     ]
    }
   ],
   "source": [
    "n=5\n",
    "m=65\n",
    "for i in range(1,n+1):\n",
    "    for j in range(1,n+1):\n",
    "        if i<=j:\n",
    "            print(\" \",end=\" \")\n",
    "        else:\n",
    "            print(chr(m),end=\" \")\n",
    "            m+=1\n",
    "    for j in range(2,n+1):\n",
    "        if i+j<=n+1:\n",
    "            print(\" \",end=\" \")\n",
    "        else:\n",
    "            print(chr(m),end=\" \")\n",
    "            m+=1\n",
    "    print()                        \n"
   ]
  },
  {
   "cell_type": "code",
   "execution_count": 55,
   "metadata": {},
   "outputs": [
    {
     "name": "stdout",
     "output_type": "stream",
     "text": [
      "A B C D   E F G H \n",
      "I J K       L M N \n",
      "O P           Q R \n",
      "S               T \n",
      "                  \n"
     ]
    }
   ],
   "source": [
    "n=5\n",
    "m=65\n",
    "for i in range(1,n+1):\n",
    "    for j in range(1,n+1):\n",
    "        if i+j>=n+1:\n",
    "            print(\" \",end=\" \")\n",
    "        else:\n",
    "            print(chr(m),end=\" \")\n",
    "            m+=1\n",
    "    for j in range(2,n+1):\n",
    "        if i>=j:\n",
    "            print(\" \",end=\" \")\n",
    "        else:\n",
    "            print(chr(m),end=\" \")\n",
    "            m+=1\n",
    "    print()                        \n"
   ]
  },
  {
   "cell_type": "code",
   "execution_count": 56,
   "metadata": {},
   "outputs": [
    {
     "name": "stdout",
     "output_type": "stream",
     "text": [
      "A B C D E F G H I \n",
      "J K L M   N O P Q \n",
      "R S T       U V W \n",
      "X Y           Z [ \n",
      "\\               ] \n"
     ]
    }
   ],
   "source": [
    "n=5\n",
    "m=65\n",
    "for i in range(1,n+1):\n",
    "    for j in range(1,n+1):\n",
    "        if i+j<=n+1:\n",
    "            print(chr(m),end=\" \")\n",
    "            m+=1\n",
    "        else:\n",
    "            print(\" \",end=\" \")\n",
    "    for j in range(2,n+1):\n",
    "        if i<=j:\n",
    "            print(chr(m),end=\" \")\n",
    "            m+=1\n",
    "        else:\n",
    "            print(\" \",end=\" \")\n",
    "    print()                        \n"
   ]
  },
  {
   "cell_type": "code",
   "execution_count": 57,
   "metadata": {},
   "outputs": [
    {
     "name": "stdout",
     "output_type": "stream",
     "text": [
      "* * * * * * * * * \n",
      "* * * *   * * * * \n",
      "* * *       * * * \n",
      "* *           * * \n",
      "*               * \n"
     ]
    }
   ],
   "source": [
    "n=5\n",
    "m=65\n",
    "for i in range(1,n+1):\n",
    "    for j in range(1,n+1):\n",
    "        if i+j<=n+1:\n",
    "            print(\"*\",end=\" \")\n",
    "            c+=1\n",
    "        else:\n",
    "            print(\" \",end=\" \")\n",
    "    for j in range(2,n+1):\n",
    "        if i<=j:\n",
    "            print(\"*\",end=\" \")\n",
    "            c+=1\n",
    "        else:\n",
    "            print(\" \",end=\" \")\n",
    "    print()                        \n"
   ]
  }
 ],
 "metadata": {
  "kernelspec": {
   "display_name": "Python 3",
   "language": "python",
   "name": "python3"
  },
  "language_info": {
   "codemirror_mode": {
    "name": "ipython",
    "version": 3
   },
   "file_extension": ".py",
   "mimetype": "text/x-python",
   "name": "python",
   "nbconvert_exporter": "python",
   "pygments_lexer": "ipython3",
   "version": "3.11.3"
  },
  "orig_nbformat": 4
 },
 "nbformat": 4,
 "nbformat_minor": 2
}
