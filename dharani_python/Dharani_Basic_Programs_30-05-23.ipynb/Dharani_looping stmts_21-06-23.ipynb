{
 "cells": [
  {
   "attachments": {},
   "cell_type": "markdown",
   "metadata": {},
   "source": [
    "LOOPING STATEMENTS\n",
    "\n",
    "* It is a phenomenon of repeating the set of statements until the condition is false. \n",
    "* It is one of the control statement and it will iterate the statements for 'n' no of times.\n",
    "\n",
    "* Looping sattements are classified into 2 types \n",
    "\n",
    "     1.While loop\n",
    "     2.For loop\n",
    "\n",
    "\n",
    "WHILE LOOP   \n",
    "\n",
    "* It is a control statement and iterative statement , it will iterate the set of statements for infinity times .\n",
    "* If condition is satisfied it will iterate the statements until the condition is false.\n",
    "* For basic while statement it will iterate infinity times.\n",
    "* If you wnat to control the basic while loop we have to use 3 concepts \n",
    "     1.initialization\n",
    "     2.condition\n",
    "     3.incrementation/decrementation (updation)\n",
    "\n",
    "\n",
    "SYNTAX :\n",
    "         while  condition/expression :\n",
    "\n",
    "         _________________________\n",
    "        |                         |\n",
    "        |                         |\n",
    "        |         stmt            |    } infinity times \n",
    "        |                         |\n",
    "        |_________________________|\n",
    "\n",
    "* It will execute until the stack memory is full or execute infinity times or until the condition is false.\n",
    "* if we want to handle while we have to use initialize/condition /updation.\n",
    "* It will check the condition if the condition is true it will iterate the set of stmts/(while statement block).\n",
    "* Before iteration , whatever stmt's are present inside the while statement block,those all the statements are execute then only it will\n",
    "  iterate the true statement block (TSB) .\n",
    "* If the condition is false it will stop the iteration process.\n",
    "\n",
    "ADVANCED SYNTAX FOR WHILE LOOP :\n",
    "\n",
    "1.Initialize the variable's (initialization)\n",
    "2.While conditon / expression :\n",
    "\n",
    "             _____________________________\n",
    "            |                             |\n",
    "            |        statements           |\n",
    "            |                             |\n",
    "            |   increment/decrement       |\n",
    "            |                             |\n",
    "            |                             |\n",
    "            |_____________________________|\n",
    "\n",
    "\n",
    "FLOW CHART FOR WHILE LOOP :\n",
    "\n"
   ]
  },
  {
   "cell_type": "code",
   "execution_count": 1,
   "metadata": {},
   "outputs": [
    {
     "name": "stdout",
     "output_type": "stream",
     "text": [
      "10\n",
      "9\n",
      "8\n",
      "7\n",
      "6\n",
      "5\n",
      "4\n",
      "3\n",
      "2\n",
      "1\n"
     ]
    }
   ],
   "source": [
    "a=10\n",
    "while a:\n",
    "    print(a)\n",
    "    a-=1"
   ]
  },
  {
   "cell_type": "code",
   "execution_count": 1,
   "metadata": {},
   "outputs": [
    {
     "name": "stdout",
     "output_type": "stream",
     "text": [
      "1\n",
      "2\n",
      "3\n",
      "4\n",
      "5\n",
      "6\n",
      "7\n",
      "8\n",
      "9\n",
      "10\n"
     ]
    }
   ],
   "source": [
    "a=1\n",
    "while a<=10:\n",
    "    print(a)\n",
    "    a+=1"
   ]
  },
  {
   "attachments": {},
   "cell_type": "markdown",
   "metadata": {},
   "source": [
    "1.WAP to print the all upper case characters."
   ]
  },
  {
   "cell_type": "code",
   "execution_count": 2,
   "metadata": {},
   "outputs": [
    {
     "name": "stdout",
     "output_type": "stream",
     "text": [
      "A\n",
      "B\n",
      "C\n",
      "D\n",
      "E\n",
      "F\n",
      "G\n",
      "H\n",
      "I\n",
      "J\n",
      "K\n",
      "L\n",
      "M\n",
      "N\n",
      "O\n",
      "P\n",
      "Q\n",
      "R\n",
      "S\n",
      "T\n",
      "U\n",
      "V\n",
      "W\n",
      "X\n",
      "Y\n",
      "Z\n"
     ]
    }
   ],
   "source": [
    "start=65\n",
    "end=90\n",
    "while start<=end:\n",
    "  print(chr(start))\n",
    "  start+=1\n",
    "\n"
   ]
  },
  {
   "attachments": {},
   "cell_type": "markdown",
   "metadata": {},
   "source": [
    "2.WAP to print the numbers 0 to 9."
   ]
  },
  {
   "cell_type": "code",
   "execution_count": 1,
   "metadata": {},
   "outputs": [
    {
     "name": "stdout",
     "output_type": "stream",
     "text": [
      "0\n",
      "1\n",
      "2\n",
      "3\n",
      "4\n",
      "5\n",
      "6\n",
      "7\n",
      "8\n",
      "9\n"
     ]
    }
   ],
   "source": [
    "start=48\n",
    "end=57\n",
    "while start<=end:\n",
    "    print(chr(start))\n",
    "    start+=1"
   ]
  },
  {
   "attachments": {},
   "cell_type": "markdown",
   "metadata": {},
   "source": [
    "3.WAP to print the all smaller case characters."
   ]
  },
  {
   "cell_type": "code",
   "execution_count": 4,
   "metadata": {},
   "outputs": [
    {
     "name": "stdout",
     "output_type": "stream",
     "text": [
      "a\n",
      "b\n",
      "c\n",
      "d\n",
      "e\n",
      "f\n",
      "g\n",
      "h\n",
      "i\n",
      "j\n",
      "k\n",
      "l\n",
      "m\n",
      "n\n",
      "o\n",
      "p\n",
      "q\n",
      "r\n",
      "s\n",
      "t\n",
      "u\n",
      "v\n",
      "w\n",
      "x\n",
      "y\n",
      "z\n"
     ]
    }
   ],
   "source": [
    "start=97\n",
    "end=122\n",
    "while start<=end:\n",
    "    print(chr(start))\n",
    "    start+=1\n"
   ]
  },
  {
   "attachments": {},
   "cell_type": "markdown",
   "metadata": {},
   "source": [
    "WAP to print the number in a reverse order."
   ]
  },
  {
   "cell_type": "code",
   "execution_count": 4,
   "metadata": {},
   "outputs": [
    {
     "name": "stdout",
     "output_type": "stream",
     "text": [
      "4\n",
      "7\n",
      "8\n",
      "9\n"
     ]
    }
   ],
   "source": [
    "n=9874\n",
    "while n:\n",
    "    res=n%10\n",
    "    print(res)\n",
    "    n=n//10 "
   ]
  },
  {
   "attachments": {},
   "cell_type": "markdown",
   "metadata": {},
   "source": [
    "1.WAP to print the sum of the digits in a given number."
   ]
  },
  {
   "cell_type": "code",
   "execution_count": 3,
   "metadata": {},
   "outputs": [
    {
     "name": "stdout",
     "output_type": "stream",
     "text": [
      "18\n"
     ]
    }
   ],
   "source": [
    "\n",
    "a=3456\n",
    "sum1=0\n",
    "while a:\n",
    "    r=a%10\n",
    "    sum1=sum1+r\n",
    "    a=a//10\n",
    "print(sum1)    \n"
   ]
  },
  {
   "attachments": {},
   "cell_type": "markdown",
   "metadata": {},
   "source": [
    "2.WAP to reverse the given  number using while loop."
   ]
  },
  {
   "cell_type": "code",
   "execution_count": 2,
   "metadata": {},
   "outputs": [
    {
     "name": "stdout",
     "output_type": "stream",
     "text": [
      "4 3 2 1 "
     ]
    }
   ],
   "source": [
    "a=1234\n",
    "while a:\n",
    "    r=a%10\n",
    "    a=a//10\n",
    "    print(r,end=\" \")\n",
    "    "
   ]
  },
  {
   "attachments": {},
   "cell_type": "markdown",
   "metadata": {},
   "source": [
    "WAP to find out the smallest number from the given number."
   ]
  },
  {
   "cell_type": "code",
   "execution_count": 1,
   "metadata": {},
   "outputs": [
    {
     "name": "stdout",
     "output_type": "stream",
     "text": [
      "3\n"
     ]
    }
   ],
   "source": [
    "n = 45673898\n",
    "sm = 9\n",
    "while n:\n",
    "    res = n%10\n",
    "    if sm > res:\n",
    "        sm = res\n",
    "    n = n//10\n",
    "print(sm)"
   ]
  },
  {
   "attachments": {},
   "cell_type": "markdown",
   "metadata": {},
   "source": [
    "WAP to find out the second smallest number from the given number."
   ]
  },
  {
   "cell_type": "code",
   "execution_count": 4,
   "metadata": {},
   "outputs": [
    {
     "name": "stdout",
     "output_type": "stream",
     "text": [
      "2 3\n"
     ]
    }
   ],
   "source": [
    "n = 234567834\n",
    "f = 9\n",
    "s = 9\n",
    "while n:\n",
    "    res = n%10\n",
    "    if f>res:\n",
    "        s=f\n",
    "        f = res\n",
    "    elif res < s:\n",
    "        s = res\n",
    "    n = n//10\n",
    "print(f , s)"
   ]
  },
  {
   "cell_type": "code",
   "execution_count": 5,
   "metadata": {},
   "outputs": [
    {
     "name": "stdout",
     "output_type": "stream",
     "text": [
      "3.5\n"
     ]
    }
   ],
   "source": [
    "n = 1345672\n",
    "count = 0\n",
    "while n:\n",
    "    res = n%10\n",
    "    n = n//10\n",
    "    count += 1\n",
    "print(count/2)"
   ]
  }
 ],
 "metadata": {
  "kernelspec": {
   "display_name": "Python 3",
   "language": "python",
   "name": "python3"
  },
  "language_info": {
   "codemirror_mode": {
    "name": "ipython",
    "version": 3
   },
   "file_extension": ".py",
   "mimetype": "text/x-python",
   "name": "python",
   "nbconvert_exporter": "python",
   "pygments_lexer": "ipython3",
   "version": "3.11.3"
  },
  "orig_nbformat": 4
 },
 "nbformat": 4,
 "nbformat_minor": 2
}
