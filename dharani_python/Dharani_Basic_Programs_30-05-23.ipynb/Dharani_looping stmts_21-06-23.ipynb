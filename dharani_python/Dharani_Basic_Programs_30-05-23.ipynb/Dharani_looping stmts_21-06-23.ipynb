{
 "cells": [
  {
   "attachments": {},
   "cell_type": "markdown",
   "metadata": {},
   "source": [
    "LOOPING STATEMENTS\n",
    "\n",
    "* It is a phenomenon of repeating the set of statements until the condition is false. \n",
    "* It is one of the control statement and it will iterate the statements for 'n' no of times.\n",
    "\n",
    "* Looping sattements are classified into 2 types \n",
    "\n",
    "     1.While loop\n",
    "     2.For loop\n",
    "\n",
    "\n",
    "WHILE LOOP   \n",
    "\n",
    "* It is a control statement and iterative statement , it will iterate the set of statements for infinity times .\n",
    "* If condition is satisfied it will iterate the statements until the condition is false.\n",
    "* For basic while statement it will iterate infinity times.\n",
    "* If you wnat to control the basic while loop we have to use 3 concepts \n",
    "     1.initialization\n",
    "     2.condition\n",
    "     3.incrementation/decrementation (updation)\n",
    "\n",
    "\n",
    "SYNTAX :\n",
    "         while  condition/expression :\n",
    "\n",
    "         _________________________\n",
    "        |                         |\n",
    "        |                         |\n",
    "        |         stmt            |    } infinity times \n",
    "        |                         |\n",
    "        |_________________________|\n",
    "\n",
    "* It will execute until the stack memory is full or execute infinity times or until the condition is false.\n",
    "* if we want to handle while we have to use initialize/condition /updation.\n",
    "* It will check the condition if the condition is true it will iterate the set of stmts/(while statement block).\n",
    "* Before iteration , whatever stmt's are present inside the while statement block,those all the statements are execute then only it will\n",
    "  iterate the true statement block (TSB) .\n",
    "* If the condition is false it will stop the iteration process.\n",
    "\n",
    "ADVANCED SYNTAX FOR WHILE LOOP :\n",
    "\n",
    "1.Initialize the variable's (initialization)\n",
    "2.While conditon / expression :\n",
    "\n",
    "             _____________________________\n",
    "            |                             |\n",
    "            |        statements           |\n",
    "            |                             |\n",
    "            |   increment/decrement       |\n",
    "            |                             |\n",
    "            |                             |\n",
    "            |_____________________________|\n",
    "\n",
    "\n",
    "FLOW CHART FOR WHILE LOOP :\n",
    "\n"
   ]
  },
  {
   "attachments": {},
   "cell_type": "markdown",
   "metadata": {},
   "source": [
    "NUMBER PROGRAMS "
   ]
  },
  {
   "attachments": {},
   "cell_type": "markdown",
   "metadata": {},
   "source": [
    "1.WAP to print the first 10 numbers in reverse order."
   ]
  },
  {
   "cell_type": "code",
   "execution_count": 34,
   "metadata": {},
   "outputs": [
    {
     "name": "stdout",
     "output_type": "stream",
     "text": [
      "10 9 8 7 6 5 4 3 2 1 "
     ]
    }
   ],
   "source": [
    "a=10\n",
    "while a:\n",
    "    print(a,end=\" \")\n",
    "    a-=1"
   ]
  },
  {
   "attachments": {},
   "cell_type": "markdown",
   "metadata": {},
   "source": [
    "2.WAP to print the first 10 numbers in an order."
   ]
  },
  {
   "cell_type": "code",
   "execution_count": 33,
   "metadata": {},
   "outputs": [
    {
     "name": "stdout",
     "output_type": "stream",
     "text": [
      "1 2 3 4 5 6 7 8 9 10 "
     ]
    }
   ],
   "source": [
    "a=1\n",
    "while a<=10:\n",
    "    print(a,end=\" \")\n",
    "    a+=1"
   ]
  },
  {
   "attachments": {},
   "cell_type": "markdown",
   "metadata": {},
   "source": [
    "3.WAP to print the all upper case characters."
   ]
  },
  {
   "cell_type": "code",
   "execution_count": 32,
   "metadata": {},
   "outputs": [
    {
     "name": "stdout",
     "output_type": "stream",
     "text": [
      "A B C D E F G H I J K L M N O P Q R S T U V W X Y Z "
     ]
    }
   ],
   "source": [
    "start=65\n",
    "end=90\n",
    "while start<=end:\n",
    "  print(chr(start),end=\" \")\n",
    "  start+=1\n",
    "\n"
   ]
  },
  {
   "attachments": {},
   "cell_type": "markdown",
   "metadata": {},
   "source": [
    "4.WAP to print the numbers 0 to 9."
   ]
  },
  {
   "cell_type": "code",
   "execution_count": 31,
   "metadata": {},
   "outputs": [
    {
     "name": "stdout",
     "output_type": "stream",
     "text": [
      "0 1 2 3 4 5 6 7 8 9 "
     ]
    }
   ],
   "source": [
    "start=48\n",
    "end=57\n",
    "while start<=end:\n",
    "    print(chr(start),end=\" \")\n",
    "    start+=1"
   ]
  },
  {
   "attachments": {},
   "cell_type": "markdown",
   "metadata": {},
   "source": [
    "5.WAP to print the all smaller case characters."
   ]
  },
  {
   "cell_type": "code",
   "execution_count": 30,
   "metadata": {},
   "outputs": [
    {
     "name": "stdout",
     "output_type": "stream",
     "text": [
      "a b c d e f g h i j k l m n o p q r s t u v w x y z "
     ]
    }
   ],
   "source": [
    "start=97\n",
    "end=122\n",
    "while start<=end:\n",
    "    print(chr(start),end=\" \")\n",
    "    start+=1\n"
   ]
  },
  {
   "attachments": {},
   "cell_type": "markdown",
   "metadata": {},
   "source": [
    "6.WAP to print the number in a reverse order."
   ]
  },
  {
   "cell_type": "code",
   "execution_count": 1,
   "metadata": {},
   "outputs": [
    {
     "name": "stdout",
     "output_type": "stream",
     "text": [
      "4789"
     ]
    }
   ],
   "source": [
    "n=9874\n",
    "while n:\n",
    "    res=n%10\n",
    "    print(res,end=\"\")\n",
    "    n=n//10 "
   ]
  },
  {
   "attachments": {},
   "cell_type": "markdown",
   "metadata": {},
   "source": [
    "7.WAP to print the sum of the digits in a given number."
   ]
  },
  {
   "cell_type": "code",
   "execution_count": 3,
   "metadata": {},
   "outputs": [
    {
     "name": "stdout",
     "output_type": "stream",
     "text": [
      "18\n"
     ]
    }
   ],
   "source": [
    "\n",
    "a=3456\n",
    "sum1=0\n",
    "while a:\n",
    "    r=a%10\n",
    "    sum1=sum1+r\n",
    "    a=a//10\n",
    "print(sum1)    \n"
   ]
  },
  {
   "attachments": {},
   "cell_type": "markdown",
   "metadata": {},
   "source": [
    "8.WAP to reverse the given  number using while loop."
   ]
  },
  {
   "cell_type": "code",
   "execution_count": 2,
   "metadata": {},
   "outputs": [
    {
     "name": "stdout",
     "output_type": "stream",
     "text": [
      "4321"
     ]
    }
   ],
   "source": [
    "a=1234\n",
    "while a:\n",
    "    r=a%10\n",
    "    a=a//10\n",
    "    print(r,end=\"\")\n",
    "    "
   ]
  },
  {
   "attachments": {},
   "cell_type": "markdown",
   "metadata": {},
   "source": [
    "9.WAP to find out the smallest number from the given number."
   ]
  },
  {
   "cell_type": "code",
   "execution_count": 4,
   "metadata": {},
   "outputs": [
    {
     "name": "stdout",
     "output_type": "stream",
     "text": [
      "3\n",
      "1\n"
     ]
    }
   ],
   "source": [
    "n=45673898\n",
    "sm=9\n",
    "while n:\n",
    "    res=n%10\n",
    "    if sm>res:\n",
    "        sm=res\n",
    "    n=n//10\n",
    "print(sm)\n",
    "\n",
    "n=123456789\n",
    "sm=9\n",
    "while n:\n",
    "    res=n%10\n",
    "    if sm>res:\n",
    "        sm=res\n",
    "    n=n//10\n",
    "print(sm)"
   ]
  },
  {
   "attachments": {},
   "cell_type": "markdown",
   "metadata": {},
   "source": [
    "10.WAP to find out the second smallest number from the given number."
   ]
  },
  {
   "cell_type": "code",
   "execution_count": 20,
   "metadata": {},
   "outputs": [
    {
     "name": "stdout",
     "output_type": "stream",
     "text": [
      "2 3\n"
     ]
    }
   ],
   "source": [
    "n=234567834\n",
    "f=9\n",
    "s=9\n",
    "while n:\n",
    "    res=n%10\n",
    "    if f>res:\n",
    "        #s=f\n",
    "        f=res\n",
    "    elif s>res:\n",
    "        s=res\n",
    "    n=n//10\n",
    "print(f,s)"
   ]
  },
  {
   "attachments": {},
   "cell_type": "markdown",
   "metadata": {},
   "source": [
    "11.WAP to print the even numbers using while loop."
   ]
  },
  {
   "cell_type": "code",
   "execution_count": 27,
   "metadata": {},
   "outputs": [
    {
     "name": "stdout",
     "output_type": "stream",
     "text": [
      "2 4 6 8 10 12 14 16 18 20 \n",
      "0 2 4 6 8 10 12 14 16 18 20 22 24 26 28 30 32 34 36 38 40 "
     ]
    }
   ],
   "source": [
    "num=2\n",
    "while num<=20:\n",
    "    print(num,end=\" \")\n",
    "    num=num+2 \n",
    "print()\n",
    "\n",
    "start=0\n",
    "end=40\n",
    "while start<=end:\n",
    "    if start%2==0:\n",
    "        print(start,end=\" \")\n",
    "    start+=1       "
   ]
  },
  {
   "attachments": {},
   "cell_type": "markdown",
   "metadata": {},
   "source": [
    "12.WAP to print the odd numbers using while loop upto 20."
   ]
  },
  {
   "cell_type": "code",
   "execution_count": 29,
   "metadata": {},
   "outputs": [
    {
     "name": "stdout",
     "output_type": "stream",
     "text": [
      "1 3 5 7 9 11 13 15 17 19 \n",
      "1 3 5 7 9 11 13 15 17 19 21 23 25 27 29 31 33 35 37 39 "
     ]
    }
   ],
   "source": [
    "num=1\n",
    "while num<=20:\n",
    "    print(num,end=\" \")\n",
    "    num=num+2\n",
    "\n",
    "print()\n",
    "\n",
    "start=0\n",
    "end=40\n",
    "while start<=end:\n",
    "    if start%2!=0:\n",
    "        print(start,end=\" \")\n",
    "    start+=1       \n"
   ]
  },
  {
   "attachments": {},
   "cell_type": "markdown",
   "metadata": {},
   "source": [
    "13.I/P:123\n",
    "   O/P:321"
   ]
  },
  {
   "cell_type": "code",
   "execution_count": 12,
   "metadata": {},
   "outputs": [
    {
     "name": "stdout",
     "output_type": "stream",
     "text": [
      "321"
     ]
    }
   ],
   "source": [
    "a=123\n",
    "while a:\n",
    "    res=a%10\n",
    "    a=a//10\n",
    "    print(res,end=\"\")"
   ]
  },
  {
   "attachments": {},
   "cell_type": "markdown",
   "metadata": {},
   "source": [
    "14.WAP to count the no of digits in a given number."
   ]
  },
  {
   "cell_type": "code",
   "execution_count": 19,
   "metadata": {},
   "outputs": [
    {
     "name": "stdout",
     "output_type": "stream",
     "text": [
      "8\n"
     ]
    }
   ],
   "source": [
    "n=98765432\n",
    "count=0\n",
    "while n:\n",
    "    n=n//10\n",
    "    count+=1\n",
    "print(count)    "
   ]
  },
  {
   "attachments": {},
   "cell_type": "markdown",
   "metadata": {},
   "source": [
    "15.WAP to reverse the given number ."
   ]
  },
  {
   "cell_type": "code",
   "execution_count": 21,
   "metadata": {},
   "outputs": [
    {
     "name": "stdout",
     "output_type": "stream",
     "text": [
      "56789\n",
      "56789\n"
     ]
    }
   ],
   "source": [
    "n=98765\n",
    "m=n\n",
    "temp=0\n",
    "while n:\n",
    "    n=n//10\n",
    "    temp+=1\n",
    "n=m\n",
    "count=temp\n",
    "sum1=0\n",
    "while n:\n",
    "    res=n%10\n",
    "    sum1+=res*10**(count-1)\n",
    "    n=n//10\n",
    "    count-=1\n",
    "print(sum1)  \n",
    "\n",
    "\n",
    "# SECOND METHOD\n",
    "\n",
    "n=98765\n",
    "sum=0\n",
    "while n:\n",
    "    res=n%10\n",
    "    sum=sum*10+res\n",
    "    n=n//10\n",
    "print(sum)    "
   ]
  },
  {
   "attachments": {},
   "cell_type": "markdown",
   "metadata": {},
   "source": [
    "16.WAP to find out the largest digit in given number."
   ]
  },
  {
   "cell_type": "code",
   "execution_count": 23,
   "metadata": {},
   "outputs": [
    {
     "name": "stdout",
     "output_type": "stream",
     "text": [
      "8\n"
     ]
    }
   ],
   "source": [
    "num=43581\n",
    "f=0\n",
    "while num:\n",
    "    res=num%10\n",
    "    if res>f:\n",
    "        f=res\n",
    "    num=num//10  \n",
    "print(f)      "
   ]
  },
  {
   "attachments": {},
   "cell_type": "markdown",
   "metadata": {},
   "source": [
    "17.WAP to find out the second largest number in the given number."
   ]
  },
  {
   "cell_type": "code",
   "execution_count": 17,
   "metadata": {},
   "outputs": [
    {
     "name": "stdout",
     "output_type": "stream",
     "text": [
      "9 5\n"
     ]
    }
   ],
   "source": [
    "num=43591\n",
    "f=0\n",
    "s=0\n",
    "while num:\n",
    "    res=num%10\n",
    "    if f<res:\n",
    "       f=res\n",
    "    elif s<res:\n",
    "       s=res\n",
    "    num=num//10\n",
    "print(f,s)          \n"
   ]
  },
  {
   "attachments": {},
   "cell_type": "markdown",
   "metadata": {},
   "source": [
    "18.WAP to print the middle digit of the given number."
   ]
  },
  {
   "cell_type": "code",
   "execution_count": 19,
   "metadata": {},
   "outputs": [
    {
     "name": "stdout",
     "output_type": "stream",
     "text": [
      "4\n"
     ]
    }
   ],
   "source": [
    "num=1590866\n",
    "n=num\n",
    "count=0\n",
    "while num:\n",
    "    num//=10\n",
    "    count+=1\n",
    "if count%2==0:\n",
    "    mid=(count//2)\n",
    "else:\n",
    "    mid=(count//2)+1\n",
    "co=0\n",
    "while n:\n",
    "    res=n%10\n",
    "    co+=1\n",
    "    if mid==co:\n",
    "       print(res)\n",
    "    num=num//10 \n",
    "print(mid)          "
   ]
  },
  {
   "attachments": {},
   "cell_type": "markdown",
   "metadata": {},
   "source": [
    "19.WAP to print the smallest number in the given number."
   ]
  },
  {
   "cell_type": "code",
   "execution_count": 15,
   "metadata": {},
   "outputs": [
    {
     "name": "stdout",
     "output_type": "stream",
     "text": [
      "1\n"
     ]
    }
   ],
   "source": [
    "num=43581\n",
    "s=9\n",
    "while num:\n",
    "    res=num%10\n",
    "    if s>res:\n",
    "        s=res\n",
    "    num=num//10  \n",
    "print(s)  "
   ]
  },
  {
   "cell_type": "markdown",
   "metadata": {},
   "source": [
    "19.WAP to print the second smallest number in the given number."
   ]
  },
  {
   "cell_type": "code",
   "execution_count": 14,
   "metadata": {},
   "outputs": [
    {
     "name": "stdout",
     "output_type": "stream",
     "text": [
      "1 3\n"
     ]
    }
   ],
   "source": [
    "num=43591\n",
    "f=9\n",
    "s=9\n",
    "while num:\n",
    "    res=num%10\n",
    "    if f>res:\n",
    "       f=res\n",
    "    elif s>res:\n",
    "       s=res\n",
    "    num=num//10\n",
    "print(f,s)           "
   ]
  },
  {
   "attachments": {},
   "cell_type": "markdown",
   "metadata": {},
   "source": [
    "20.WAP sum of difference between each digit in a given number."
   ]
  },
  {
   "cell_type": "code",
   "execution_count": 31,
   "metadata": {},
   "outputs": [
    {
     "name": "stdout",
     "output_type": "stream",
     "text": [
      "1\n",
      "8\n"
     ]
    }
   ],
   "source": [
    "n=15352\n",
    "f=0\n",
    "s=0\n",
    "diff=0\n",
    "sep=n%10\n",
    "while n:\n",
    "    s=n%10\n",
    "    diff+=f-s\n",
    "    f=s\n",
    "    n=n//10\n",
    "print(diff+sep) \n",
    "\n",
    "\n",
    "n=1538529\n",
    "f=0\n",
    "s=0\n",
    "diff=0\n",
    "sep=n%10\n",
    "while n:\n",
    "    s=n%10\n",
    "    diff+=f-s\n",
    "    f=s\n",
    "    n=n//10\n",
    "print(diff+sep) "
   ]
  },
  {
   "attachments": {},
   "cell_type": "markdown",
   "metadata": {},
   "source": [
    "21.WAP to print the factors of a given number."
   ]
  },
  {
   "cell_type": "code",
   "execution_count": 26,
   "metadata": {},
   "outputs": [
    {
     "name": "stdout",
     "output_type": "stream",
     "text": [
      "1 2 3 6 9 18 "
     ]
    }
   ],
   "source": [
    "n=18\n",
    "start=1\n",
    "while start<=n:\n",
    "    if n%start==0:\n",
    "        print(start,end=\" \")\n",
    "    start+=1    "
   ]
  },
  {
   "attachments": {},
   "cell_type": "markdown",
   "metadata": {},
   "source": [
    "22.WAP to print the sum of the given number."
   ]
  },
  {
   "cell_type": "code",
   "execution_count": 27,
   "metadata": {},
   "outputs": [
    {
     "name": "stdout",
     "output_type": "stream",
     "text": [
      "23\n",
      "10\n"
     ]
    }
   ],
   "source": [
    "num=7646\n",
    "total=0\n",
    "while num:\n",
    "    digit=num%10\n",
    "    total=total+digit\n",
    "    num=num//10\n",
    "print(total) \n",
    "\n",
    "\n",
    "n=1234\n",
    "sum=0\n",
    "while n:\n",
    "    res=n%10\n",
    "    sum+=res\n",
    "    n=n//10\n",
    "print(sum)    \n",
    "\n"
   ]
  },
  {
   "attachments": {},
   "cell_type": "markdown",
   "metadata": {},
   "source": [
    "24.WAP to check whether the given number is armstrong number or not."
   ]
  },
  {
   "cell_type": "code",
   "execution_count": 34,
   "metadata": {},
   "outputs": [
    {
     "name": "stdout",
     "output_type": "stream",
     "text": [
      "153\n",
      "armstrong number\n",
      "190\n",
      "not an armstrong number\n"
     ]
    }
   ],
   "source": [
    "n=153\n",
    "m=n\n",
    "sum=0\n",
    "count=3\n",
    "while n:\n",
    "    res=n%10\n",
    "    sum+=res**count\n",
    "    n=n//10 \n",
    "print(sum)\n",
    "if sum==m:\n",
    "    print(\"armstrong number\")\n",
    "else:\n",
    "    print(\"not an armstrong number\") \n",
    "\n",
    "\n",
    "n=154\n",
    "m=n\n",
    "sum=0\n",
    "count=3\n",
    "while n:\n",
    "    res=n%10\n",
    "    sum+=res**count\n",
    "    n=n//10 \n",
    "print(sum)\n",
    "if sum==m:\n",
    "    print(\"armstrong number\")\n",
    "else:\n",
    "    print(\"not an armstrong number\")                  "
   ]
  },
  {
   "attachments": {},
   "cell_type": "markdown",
   "metadata": {},
   "source": [
    "25.WAP to check whether the given number is strong or not."
   ]
  },
  {
   "cell_type": "code",
   "execution_count": 52,
   "metadata": {},
   "outputs": [
    {
     "name": "stdout",
     "output_type": "stream",
     "text": [
      "145\n",
      "strong number\n"
     ]
    }
   ],
   "source": [
    "n=145  # sum of the factorials of the given numbers is equal to the original number \n",
    "m=n                              # 5*4*3*2*1=120\n",
    "sum=0                            # 4*3*2*1=24\n",
    "while n:                         #1*1=1\n",
    "    res=n%10                     # 120+24+1=145\n",
    "    fact=1\n",
    "    while res:    \n",
    "      fact=fact*res\n",
    "      res=res-1\n",
    "    sum+=fact\n",
    "    n=n//10\n",
    "print(sum)\n",
    "if sum==m:   \n",
    "    print(\"strong number\")\n",
    "else:\n",
    "   print(\"not a strong number\")    "
   ]
  },
  {
   "attachments": {},
   "cell_type": "markdown",
   "metadata": {},
   "source": [
    "26.WAP to check whether the given number is spy number or not."
   ]
  },
  {
   "cell_type": "code",
   "execution_count": 19,
   "metadata": {},
   "outputs": [
    {
     "name": "stdout",
     "output_type": "stream",
     "text": [
      "8 8\n",
      "spy number\n"
     ]
    }
   ],
   "source": [
    "n=1124        # sum of the digits and product of the digits are should be same\n",
    "sum=0             # 1*1*2*4=8\n",
    "start=1           # 1+1+2+4=8\n",
    "while n:          # sum==product\n",
    "    res=n%10\n",
    "    sum+=res\n",
    "    start*=res\n",
    "    n=n//10\n",
    "print(start,sum) \n",
    "if sum==start:\n",
    "    print(\"spy number\")\n",
    "else:\n",
    "    print(\"not a spy number\")       \n"
   ]
  },
  {
   "attachments": {},
   "cell_type": "markdown",
   "metadata": {},
   "source": [
    "27.WAP the given number is a happy number or not."
   ]
  },
  {
   "cell_type": "code",
   "execution_count": 2,
   "metadata": {},
   "outputs": [
    {
     "name": "stdout",
     "output_type": "stream",
     "text": [
      "4\n",
      "68\n",
      "64\n",
      "100\n",
      "0\n",
      "0\n",
      "1\n",
      "happy number\n"
     ]
    }
   ],
   "source": [
    "n=82\n",
    "m=n\n",
    "while n>10:\n",
    "    sum1=0\n",
    "    while n>0:\n",
    "        res=n%10\n",
    "        sum1+=res*res\n",
    "        n=n//10\n",
    "        print(sum1)\n",
    "    n=sum1    \n",
    "if n==1:\n",
    "    print(\"happy number\")\n",
    "else:\n",
    "    print(sum1)\n",
    "n=sum1       \n"
   ]
  },
  {
   "attachments": {},
   "cell_type": "markdown",
   "metadata": {},
   "source": [
    "28.WAP to check whether the given number is prime number or not."
   ]
  },
  {
   "cell_type": "code",
   "execution_count": 35,
   "metadata": {},
   "outputs": [
    {
     "name": "stdout",
     "output_type": "stream",
     "text": [
      "prime number\n",
      "not prime number\n",
      "prime\n"
     ]
    }
   ],
   "source": [
    "n=2\n",
    "start=1\n",
    "count=0\n",
    "while start<=n:\n",
    "    if n%start==0:\n",
    "        count+=1\n",
    "    start+=1\n",
    "if count==2:\n",
    "    print(\"prime number\")\n",
    "else:\n",
    "    print('not prime number')            \n",
    "\n",
    "\n",
    "n=9       # to reduce the no of lines\n",
    "start=2\n",
    "count=0\n",
    "while start<n:\n",
    "    if n%start==0:\n",
    "        count+=1\n",
    "    start+=1\n",
    "if count==0:\n",
    "    print(\"prime number\")\n",
    "else:\n",
    "    print('not prime number')\n",
    "\n",
    "\n",
    "n=2           #to reduce time complexity and no of lines of code\n",
    "start=2\n",
    "count=0\n",
    "while start<n//2:\n",
    "    if n%start==0:\n",
    "        print(\"not a prime\")\n",
    "        break\n",
    "    start+=1\n",
    "else:\n",
    "    print(\"prime\")        \n"
   ]
  },
  {
   "attachments": {},
   "cell_type": "markdown",
   "metadata": {},
   "source": [
    "29.WAP to print the values with in the given range."
   ]
  },
  {
   "cell_type": "code",
   "execution_count": 38,
   "metadata": {},
   "outputs": [
    {
     "name": "stdout",
     "output_type": "stream",
     "text": [
      "0 1 2 3 4 5 6 7 8 9 10 11 12 13 14 15 16 17 18 19 20 \n",
      "21 22 23 24 25 26 27 28 29 30 31 32 33 34 35 36 37 38 39 "
     ]
    }
   ],
   "source": [
    "start=0\n",
    "end=20\n",
    "count=0\n",
    "while start<=end:\n",
    "    print(start,end=\" \")\n",
    "    start+=1\n",
    "\n",
    "print()\n",
    "\n",
    "start=21\n",
    "end=40\n",
    "count=0\n",
    "while start<end:\n",
    "    print(start,end=\" \")\n",
    "    start+=1\n"
   ]
  },
  {
   "attachments": {},
   "cell_type": "markdown",
   "metadata": {},
   "source": [
    "30.WAP to print the even numbers with in the given range."
   ]
  },
  {
   "cell_type": "code",
   "execution_count": 41,
   "metadata": {},
   "outputs": [
    {
     "name": "stdout",
     "output_type": "stream",
     "text": [
      "2 4 6 8 \n",
      "2 4 6 8 10 \n",
      "2 4 6 8 \n",
      "2 4 6 8 10 "
     ]
    }
   ],
   "source": [
    "start=1\n",
    "end=10\n",
    "while start<end:\n",
    "    if start%2==0:\n",
    "        print(start,end=\" \")\n",
    "    start+=1\n",
    "\n",
    "print()\n",
    "\n",
    "start=1             \n",
    "end=10\n",
    "while start<=end: #If we want 10 also\n",
    "    if start%2==0:\n",
    "        print(start,end=\" \")\n",
    "    start+=1\n",
    "\n",
    "print()\n",
    "\n",
    "start=10\n",
    "end=1\n",
    "if start>end:\n",
    "    start,end=end,start\n",
    "while start<end:\n",
    "    if start%2==0:\n",
    "        print(start,end=\" \")\n",
    "    start+=1 \n",
    "\n",
    "\n",
    "print()\n",
    "\n",
    "start=10\n",
    "end=1\n",
    "if start>end:\n",
    "    start,end=end,start\n",
    "while start<=end:\n",
    "    if start%2==0:\n",
    "        print(start,end=\" \")\n",
    "    start+=1 "
   ]
  },
  {
   "attachments": {},
   "cell_type": "markdown",
   "metadata": {},
   "source": [
    "31.WAP to print the series of fibonacci numbers in given range."
   ]
  },
  {
   "cell_type": "code",
   "execution_count": 42,
   "metadata": {},
   "outputs": [
    {
     "name": "stdout",
     "output_type": "stream",
     "text": [
      "1\n",
      "2\n",
      "6\n",
      "24\n",
      "120\n",
      "720\n",
      "5040\n",
      "40320\n",
      "362880\n",
      "3628800\n",
      "\n",
      "1\n",
      "2\n",
      "6\n",
      "24\n",
      "120\n",
      "720\n",
      "5040\n",
      "40320\n",
      "362880\n",
      "3628800\n"
     ]
    }
   ],
   "source": [
    "start=10\n",
    "end=1\n",
    "if start>end:\n",
    "    start,end=end,start\n",
    "while start<=end:\n",
    "    n=start\n",
    "    fact=1\n",
    "    while n:\n",
    "        fact=fact*n\n",
    "        n-=1\n",
    "    print(fact) \n",
    "    start+=1 \n",
    "\n",
    "print()\n",
    "\n",
    "start=1\n",
    "end=10\n",
    "while start<=end:\n",
    "    n=start\n",
    "    fact=1\n",
    "    while n:\n",
    "        fact=fact*n\n",
    "        n-=1\n",
    "    print(fact) \n",
    "    start+=1 \n",
    "\n",
    "    \n",
    "                    "
   ]
  },
  {
   "attachments": {},
   "cell_type": "markdown",
   "metadata": {},
   "source": [
    "32.WAP to print the series of prime numbers in given range."
   ]
  },
  {
   "cell_type": "code",
   "execution_count": 43,
   "metadata": {},
   "outputs": [
    {
     "name": "stdout",
     "output_type": "stream",
     "text": [
      "2 3 5 7 11 13 17 19 "
     ]
    }
   ],
   "source": [
    "start=20\n",
    "end=1\n",
    "if start>end:\n",
    "    start,end=end,start\n",
    "while start<end:\n",
    "    if start==1:\n",
    "        start+=1\n",
    "        continue\n",
    "    n=start\n",
    "    i=2\n",
    "    while i<n:\n",
    "        if n%i==0:\n",
    "            break\n",
    "        i+=1\n",
    "    else:\n",
    "        print(n,end=\" \")\n",
    "    start+=1    \n"
   ]
  },
  {
   "attachments": {},
   "cell_type": "markdown",
   "metadata": {},
   "source": [
    "34.WAP to count the uppercase characters from the given string."
   ]
  },
  {
   "cell_type": "code",
   "execution_count": 1,
   "metadata": {},
   "outputs": [
    {
     "name": "stdout",
     "output_type": "stream",
     "text": [
      "5\n"
     ]
    }
   ],
   "source": [
    "st=\"DHArAnI\"   \n",
    "count=0\n",
    "start=0\n",
    "while start<len(st):\n",
    "    if 'A'<=st[start]<='Z':\n",
    "        count+=1\n",
    "    start+=1\n",
    "print(count)        "
   ]
  },
  {
   "attachments": {},
   "cell_type": "markdown",
   "metadata": {},
   "source": [
    "33.WAP sum of the digits in given string (ascii numbers) and find out given sum is divisible by 5 or not if it is divisible check \n",
    "it is a prime number or not."
   ]
  },
  {
   "cell_type": "code",
   "execution_count": 31,
   "metadata": {},
   "outputs": [
    {
     "name": "stdout",
     "output_type": "stream",
     "text": [
      "727\n"
     ]
    }
   ],
   "source": [
    "st=\"dharani\"  \n",
    "start=0\n",
    "sum=0\n",
    "while start<len(st):\n",
    "    sum+=ord(st[start])\n",
    "    start+=1\n",
    "print(sum) \n",
    "if sum%5==0:\n",
    "    i=2\n",
    "    while i<sum:\n",
    "        if sum%i==0:\n",
    "            print(\"not a prime\")\n",
    "            break\n",
    "        i+=1\n",
    "    else:\n",
    "        print(\"prime\")    \n",
    "\n",
    "          "
   ]
  },
  {
   "cell_type": "code",
   "execution_count": 29,
   "metadata": {},
   "outputs": [
    {
     "name": "stdout",
     "output_type": "stream",
     "text": [
      "prime\n"
     ]
    }
   ],
   "source": [
    "st=\"3he2llo\" \n",
    "sum=0\n",
    "start=0\n",
    "while start<len(st):\n",
    "    if '0'<=st[start]<='9':\n",
    "        sum+=int(st[start])\n",
    "    start+=1\n",
    "if sum%5==0:\n",
    "    i=2\n",
    "    while i<sum:\n",
    "        if sum%i==0:\n",
    "            print(\"not a prime\")\n",
    "            break\n",
    "        i+=1\n",
    "    else:\n",
    "        print(\"prime\")            "
   ]
  },
  {
   "cell_type": "code",
   "execution_count": null,
   "metadata": {},
   "outputs": [],
   "source": [
    "34."
   ]
  },
  {
   "cell_type": "code",
   "execution_count": 10,
   "metadata": {},
   "outputs": [
    {
     "name": "stdout",
     "output_type": "stream",
     "text": [
      "['10', '20', '90', '20', '30', '40', '2'] ['+', '+', '+', '-', '-', '*']\n",
      "140\n"
     ]
    }
   ],
   "source": [
    "n = '10+20+90+20-30-40*2'\n",
    "l = ['']\n",
    "sp = []\n",
    "start = 0\n",
    "while start < len(n):\n",
    "    if '0'<=n[start]<='9':\n",
    "        l[-1]+=n[start]\n",
    "    elif not('A'<=n[start]<='Z' or 'a'<=n[start]<='z'):\n",
    "        l += ['']\n",
    "        sp += [n[start]]\n",
    "    start += 1\n",
    "print(l,sp) \n",
    "i = 0\n",
    "while i<len(sp):\n",
    "    match sp[i]:\n",
    "        case '+':\n",
    "            l[0:2]=[int(l[0])+int(l[1])]\n",
    "        case '-':\n",
    "            l[0:2]=[int(l[0])-int(l[1])]\n",
    "        case '*':\n",
    "            l[0:2]=[int(l[0])*int(l[1])]        \n",
    "        case '/':\n",
    "            l[0:2]=[int(l[0])/int(l[1])]\n",
    "        case '**':\n",
    "            l[0:2]=[int(l[0])**int(l[1])]\n",
    "    i+=1\n",
    "print(l[0])\n"
   ]
  },
  {
   "cell_type": "code",
   "execution_count": 11,
   "metadata": {},
   "outputs": [
    {
     "name": "stdout",
     "output_type": "stream",
     "text": [
      "['10', '20', '90', '20', '30', '40', '2'] ['+', '+', '+', '-', '-', '*']\n",
      "140\n"
     ]
    }
   ],
   "source": [
    "n = '10+20+90+20-30-40*2'\n",
    "l = ['']\n",
    "sp = []\n",
    "start = 0\n",
    "while start < len(n):\n",
    "    if '0'<=n[start]<='9':\n",
    "        l[-1]+=n[start]\n",
    "    elif not('A'<=n[start]<='Z' or 'a'<=n[start]<='z'):\n",
    "        l += ['']\n",
    "        sp += [n[start]]\n",
    "    start += 1\n",
    "print(l,sp) \n",
    "i = 0\n",
    "while i<len(sp):\n",
    "    match sp[i]:\n",
    "        case '+':\n",
    "            l[0:2]=[int(l[0])+int(l[1])]\n",
    "        case '-':\n",
    "            l[0:2]=[int(l[0])-int(l[1])]\n",
    "        case '*':\n",
    "            l[0:2]=[int(l[0])*int(l[1])]        \n",
    "        case '/':\n",
    "            l[0:2]=[int(l[0])/int(l[1])]\n",
    "        case '**':\n",
    "            l[0:2]=[int(l[0])**int(l[1])]\n",
    "    i+=1\n",
    "print(l[0])\n"
   ]
  },
  {
   "cell_type": "markdown",
   "metadata": {},
   "source": [
    "35.WAP to extract the given values and store the value inside the list."
   ]
  },
  {
   "cell_type": "code",
   "execution_count": 9,
   "metadata": {},
   "outputs": [
    {
     "name": "stdout",
     "output_type": "stream",
     "text": [
      "[10, 20, 30, 40, 50, 60, 70]\n"
     ]
    }
   ],
   "source": [
    "l=[10,20,30,40,50,60,70]\n",
    "res=[]\n",
    "start=0\n",
    "while start<len(l):\n",
    "    if l[start]%2==0:\n",
    "        res+=[l[start]]\n",
    "    start+=1\n",
    "print(res)"
   ]
  },
  {
   "cell_type": "markdown",
   "metadata": {},
   "source": [
    "36.WAP to segregate the values from given list\n",
    "1.numbers stored inside the list.\n",
    "2.all the special characters stored inside the list."
   ]
  },
  {
   "cell_type": "code",
   "execution_count": 12,
   "metadata": {},
   "outputs": [
    {
     "name": "stdout",
     "output_type": "stream",
     "text": [
      "[10, 20, 40] ['#', '%', '&']\n"
     ]
    }
   ],
   "source": [
    "l=[10,20,'#','%','&',40]\n",
    "start=0\n",
    "res=[]\n",
    "sp=[]\n",
    "while start<len(l):\n",
    "    if type(l[start]) in (int,float,complex):\n",
    "        res+=[l[start]]\n",
    "    elif not('A'<=l[start]<='Z' or 'a'<=l[start]<='z' or '0'<=l[start]<='9'):\n",
    "        sp+=[l[start]]\n",
    "    start+=1\n",
    "print(res,sp)"
   ]
  },
  {
   "cell_type": "markdown",
   "metadata": {},
   "source": [
    "37."
   ]
  },
  {
   "cell_type": "code",
   "execution_count": 13,
   "metadata": {},
   "outputs": [
    {
     "name": "stdout",
     "output_type": "stream",
     "text": [
      "['10'] ['*']\n"
     ]
    }
   ],
   "source": [
    "s=\"10+20-10*2\"\n",
    "st=''\n",
    "l=[]\n",
    "sp=[]\n",
    "while start<len(s):\n",
    "    if '0'<=s[start]<='9':\n",
    "        st+=s[start]\n",
    "    elif not('A'<=s[start]<='Z' or 'a'<=s[start]<='z' ):\n",
    "        l+=[st]\n",
    "        st=''\n",
    "        sp+=[s[start]]\n",
    "    start+=1\n",
    "print(l,sp)"
   ]
  },
  {
   "cell_type": "markdown",
   "metadata": {},
   "source": [
    "38."
   ]
  },
  {
   "cell_type": "code",
   "execution_count": 14,
   "metadata": {},
   "outputs": [
    {
     "name": "stdout",
     "output_type": "stream",
     "text": [
      "['10', '20', '10', '2'] ['+', '-', '*']\n"
     ]
    }
   ],
   "source": [
    "s=\"10+20-10*2\"\n",
    "start=0\n",
    "l=['']\n",
    "sp=[]\n",
    "while start<len(s):\n",
    "    if '0'<=s[start]<='9':\n",
    "        l[-1]+=s[start]\n",
    "    elif not('A'<=s[start]<='Z' or 'a'<=s[start]<='z' ):\n",
    "        l+=['']\n",
    "        sp+=[s[start]]\n",
    "    start+=1\n",
    "print(l,sp)"
   ]
  },
  {
   "cell_type": "markdown",
   "metadata": {},
   "source": [
    "39."
   ]
  },
  {
   "cell_type": "code",
   "execution_count": 15,
   "metadata": {},
   "outputs": [
    {
     "name": "stdout",
     "output_type": "stream",
     "text": [
      "['10', '20', '10', '2'] ['+', '-', '*']\n",
      "30\n"
     ]
    }
   ],
   "source": [
    "s=\"10+20-10*2\"\n",
    "start=0\n",
    "l=['']\n",
    "sp=[]\n",
    "while start<len(s):\n",
    "    if '0'<=s[start]<='9':\n",
    "        l[-1]+=s[start]\n",
    "    elif not('A'<=s[start]<='Z' or 'a'<=s[start]<='z' ):\n",
    "        l+=['']\n",
    "        sp+=[s[start]]\n",
    "    start+=1\n",
    "print(l,sp)\n",
    "i=0\n",
    "if i<len(sp):\n",
    "    match sp[i]:\n",
    "        case '+':\n",
    "            l[0:2]=[int(l[0])+int(l[1])]\n",
    "        case '-':\n",
    "            l[0:2]=[int(l[0])-int(l[1])]\n",
    "        case '*':\n",
    "            l[0:2]=[int(l[0])*int(l[1])]\n",
    "        case '/':\n",
    "            l[0:2]=[int(l[0])/int(l[1])]\n",
    "        case '**':\n",
    "            l[0:2]=[int(l[0])**int(l[1])]\n",
    "    i+=1\n",
    "print(l[0])"
   ]
  },
  {
   "cell_type": "markdown",
   "metadata": {},
   "source": [
    "40."
   ]
  },
  {
   "cell_type": "code",
   "execution_count": 16,
   "metadata": {},
   "outputs": [
    {
     "name": "stdout",
     "output_type": "stream",
     "text": [
      "[''] []\n",
      "True\n",
      "\n"
     ]
    }
   ],
   "source": [
    "st=\"10*2**2\"\n",
    "start=0\n",
    "l=['']\n",
    "s=[]\n",
    "while start<len(s):\n",
    "    if '0'<=st[start]<='9':\n",
    "        l[-1]+=st[start]\n",
    "    elif not('A'<=st[start]<='Z' or 'a'<=st[start]<='z' ):\n",
    "        if st[start]=='*' and st[start+1]=='*':\n",
    "            s=s+[st[start]+st[start+1]]\n",
    "            start+=1\n",
    "        else:\n",
    "            s+=[st[start]]\n",
    "            if len(st)-1!=start:\n",
    "                l+=['']  \n",
    "    start+=1\n",
    "print(l,s)\n",
    "print(len(s)==len(l)-1)\n",
    "i=0\n",
    "if (len(s)==len(l)-1):\n",
    "    while i<len(s):\n",
    "      match s[i]:\n",
    "          case '+':\n",
    "            l[0:2]=[int(l[0])+int(l[1])]\n",
    "          case '-':\n",
    "            l[0:2]=[int(l[0])-int(l[1])]\n",
    "          case '*':\n",
    "            l[0:2]=[int(l[0])*int(l[1])]\n",
    "          case '/':\n",
    "            l[0:2]=[int(l[0])/int(l[1])]\n",
    "          case '**':\n",
    "            l[0:2]=[int(l[0])**int(l[1])]\n",
    "    i+=1\n",
    "print(l[0])"
   ]
  },
  {
   "cell_type": "markdown",
   "metadata": {},
   "source": [
    "42.WAP to extract the sequence of the characters from the given string if it is in sequence store the characters."
   ]
  },
  {
   "cell_type": "code",
   "execution_count": 3,
   "metadata": {},
   "outputs": [
    {
     "name": "stdout",
     "output_type": "stream",
     "text": [
      "ABCDEF\n",
      "KLM\n",
      "XYZ\n"
     ]
    }
   ],
   "source": [
    "st=\"ABCDEFIKLMSXYZ\"\n",
    "res=\"\"\n",
    "start=0\n",
    "while start<len(st):\n",
    "    if start!=len(st)-1:\n",
    "        if ord(st[start])-ord(st[start+1])==-1:\n",
    "            res+=st[start]\n",
    "        elif ord(st[start-1])-ord(st[start])==-1:\n",
    "            res+=st[start] \n",
    "            print(res) \n",
    "            res=\"\"\n",
    "    elif ord(st[start-1])-ord(st[start])==-1:\n",
    "            res+=st[start] \n",
    "            print(res) \n",
    "    start+=1                 "
   ]
  },
  {
   "cell_type": "markdown",
   "metadata": {},
   "source": [
    "43.WAP to extract the sequence of the characters from the given string if it is in sequence store the characters in to the list."
   ]
  },
  {
   "cell_type": "code",
   "execution_count": 11,
   "metadata": {},
   "outputs": [
    {
     "name": "stdout",
     "output_type": "stream",
     "text": [
      "['ABCDEF', 'KLM', 'XYZ']\n"
     ]
    }
   ],
   "source": [
    "st=\"ABCDEFIKLMSXYZ\"\n",
    "res=\"\"\n",
    "l=[]\n",
    "start=0\n",
    "while start<len(st):\n",
    "    if start!=len(st)-1:\n",
    "        if ord(st[start])-ord(st[start+1])==-1:\n",
    "            res+=st[start]\n",
    "        elif ord(st[start-1])-ord(st[start])==-1:\n",
    "            res+=st[start] \n",
    "            l+=[res]\n",
    "            res=\"\"\n",
    "    elif ord(st[start-1])-ord(st[start])==-1:\n",
    "            res+=st[start] \n",
    "            l+=[res] \n",
    "    start+=1\n",
    "print(l)                     "
   ]
  },
  {
   "cell_type": "markdown",
   "metadata": {},
   "source": [
    "44.WAP to extract the sequence of characters from the given string and the sequence if greater than 2 then store the characters into \n",
    "the list."
   ]
  },
  {
   "cell_type": "code",
   "execution_count": 16,
   "metadata": {},
   "outputs": [
    {
     "name": "stdout",
     "output_type": "stream",
     "text": [
      "['ABCDEF', 'KLM', 'XYZ']\n"
     ]
    }
   ],
   "source": [
    "st=\"ABCDEFIKLMSXYZPQ\"   #here PQ doen't print because the sequence is greater than 2\n",
    "res=\"\"\n",
    "l=[]\n",
    "start=0\n",
    "while start<len(st):\n",
    "    if start!=len(st)-1:\n",
    "        if ord(st[start])-ord(st[start+1])==-1:\n",
    "            res+=st[start]\n",
    "        elif ord(st[start-1])-ord(st[start])==-1:\n",
    "            res+=st[start] \n",
    "            if len(res)>2:\n",
    "                 l+=[res]\n",
    "            res=\"\"\n",
    "    elif ord(st[start-1])-ord(st[start])==-1:\n",
    "            res+=st[start] \n",
    "            if len(res)>2:\n",
    "                l+=[res] \n",
    "    start+=1\n",
    "print(l)                     "
   ]
  },
  {
   "cell_type": "markdown",
   "metadata": {},
   "source": [
    "45.I/P:\"ABCDEFIKLMQR\"\n",
    "   O/P:[\"ABC\",\"DEF\",\"KLM\"]"
   ]
  },
  {
   "cell_type": "code",
   "execution_count": 45,
   "metadata": {},
   "outputs": [
    {
     "name": "stdout",
     "output_type": "stream",
     "text": [
      "['ABC', 'ABCDEF', 'KLM']\n"
     ]
    }
   ],
   "source": [
    "st=\"ABCDEFIKLMQR\"\n",
    "res=\"\"  \n",
    "l=[]\n",
    "start=0\n",
    "while start<len(st):\n",
    "    if start!=len(st)-1:\n",
    "        if len(res)==3:\n",
    "            l+=[res]\n",
    "        if ord(st[start])-ord(st[start+1])==-1:\n",
    "            res+=st[start]\n",
    "        elif ord(st[start-1])-ord(st[start])==-1:\n",
    "            res+=st[start]\n",
    "            l+=[res]\n",
    "            res=\"\"  \n",
    "        elif ord(st[start-1])-ord(st[start])==-1:\n",
    "            res+=st[start] \n",
    "            if len(res)==3:\n",
    "                l+=[res]\n",
    "                res=''   \n",
    "    start+=1\n",
    "print(l)                \n",
    "                \n"
   ]
  },
  {
   "cell_type": "markdown",
   "metadata": {},
   "source": [
    "46.WAP to extract the duplicate characters from the given string."
   ]
  },
  {
   "cell_type": "code",
   "execution_count": 52,
   "metadata": {},
   "outputs": [
    {
     "name": "stdout",
     "output_type": "stream",
     "text": [
      "['A', 'D', 'E', 'E', 'J']\n"
     ]
    }
   ],
   "source": [
    "st=\"AABCDDEEEFIJJK\"\n",
    "res=\"\"  \n",
    "start=0\n",
    "l=[]\n",
    "while start<len(st):\n",
    "    if start<len(st)-1:\n",
    "        if ord(st[start])==ord(st[start+1]):\n",
    "            res+=st[start]\n",
    "            l+=[res]\n",
    "            res=\"\"\n",
    "    start+=1\n",
    "print(l)        \n"
   ]
  }
 ],
 "metadata": {
  "kernelspec": {
   "display_name": "Python 3",
   "language": "python",
   "name": "python3"
  },
  "language_info": {
   "codemirror_mode": {
    "name": "ipython",
    "version": 3
   },
   "file_extension": ".py",
   "mimetype": "text/x-python",
   "name": "python",
   "nbconvert_exporter": "python",
   "pygments_lexer": "ipython3",
   "version": "3.11.3"
  },
  "orig_nbformat": 4
 },
 "nbformat": 4,
 "nbformat_minor": 2
}
