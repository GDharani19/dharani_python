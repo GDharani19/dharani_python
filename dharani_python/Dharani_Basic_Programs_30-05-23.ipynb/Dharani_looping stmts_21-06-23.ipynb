{
 "cells": [
  {
   "attachments": {},
   "cell_type": "markdown",
   "metadata": {},
   "source": [
    "LOOPING STATEMENTS\n",
    "\n",
    "* It is a phenomenon of repeating the set of statements until the condition is false. \n",
    "* It is one of the control statement and it will iterate the statements for 'n' no of times.\n",
    "\n",
    "* Looping sattements are classified into 2 types \n",
    "\n",
    "     1.While loop\n",
    "     2.For loop\n",
    "\n",
    "\n",
    "WHILE LOOP   \n",
    "\n",
    "* It is a control statement and iterative statement , it will iterate the set of statements for infinity times .\n",
    "* If condition is satisfied it will iterate the statements until the condition is false.\n",
    "* For basic while statement it will iterate infinity times.\n",
    "* If you wnat to control the basic while loop we have to use 3 concepts \n",
    "     1.initialization\n",
    "     2.condition\n",
    "     3.incrementation/decrementation (updation)\n",
    "\n",
    "\n",
    "SYNTAX :\n",
    "         while  condition/expression :\n",
    "\n",
    "         _________________________\n",
    "        |                         |\n",
    "        |                         |\n",
    "        |         stmt            |    } infinity times \n",
    "        |                         |\n",
    "        |_________________________|\n",
    "\n",
    "* It will execute until the stack memory is full or execute infinity times or until the condition is false.\n",
    "* if we want to handle while we have to use initialize/condition /updation.\n",
    "* It will check the condition if the condition is true it will iterate the set of stmts/(while statement block).\n",
    "* Before iteration , whatever stmt's are present inside the while statement block,those all the statements are execute then only it will\n",
    "  iterate the true statement block (TSB) .\n",
    "* If the condition is false it will stop the iteration process.\n",
    "\n",
    "ADVANCED SYNTAX FOR WHILE LOOP :\n",
    "\n",
    "1.Initialize the variable's (initialization)\n",
    "2.While conditon / expression :\n",
    "\n",
    "             _____________________________\n",
    "            |                             |\n",
    "            |        statements           |\n",
    "            |                             |\n",
    "            |   increment/decrement       |\n",
    "            |                             |\n",
    "            |                             |\n",
    "            |_____________________________|\n",
    "\n",
    "\n",
    "FLOW CHART FOR WHILE LOOP :\n",
    "\n"
   ]
  },
  {
   "attachments": {},
   "cell_type": "markdown",
   "metadata": {},
   "source": [
    "NUMBER PROGRAMS "
   ]
  },
  {
   "attachments": {},
   "cell_type": "markdown",
   "metadata": {},
   "source": [
    "1.WAP to print the first 10 numbers in reverse order."
   ]
  },
  {
   "cell_type": "code",
   "execution_count": 1,
   "metadata": {},
   "outputs": [
    {
     "name": "stdout",
     "output_type": "stream",
     "text": [
      "10\n",
      "9\n",
      "8\n",
      "7\n",
      "6\n",
      "5\n",
      "4\n",
      "3\n",
      "2\n",
      "1\n"
     ]
    }
   ],
   "source": [
    "a=10\n",
    "while a:\n",
    "    print(a)\n",
    "    a-=1"
   ]
  },
  {
   "attachments": {},
   "cell_type": "markdown",
   "metadata": {},
   "source": [
    "2.WAP to print the first 10 numbers in an order."
   ]
  },
  {
   "cell_type": "code",
   "execution_count": 1,
   "metadata": {},
   "outputs": [
    {
     "name": "stdout",
     "output_type": "stream",
     "text": [
      "1\n",
      "2\n",
      "3\n",
      "4\n",
      "5\n",
      "6\n",
      "7\n",
      "8\n",
      "9\n",
      "10\n"
     ]
    }
   ],
   "source": [
    "a=1\n",
    "while a<=10:\n",
    "    print(a)\n",
    "    a+=1"
   ]
  },
  {
   "attachments": {},
   "cell_type": "markdown",
   "metadata": {},
   "source": [
    "3.WAP to print the all upper case characters."
   ]
  },
  {
   "cell_type": "code",
   "execution_count": 2,
   "metadata": {},
   "outputs": [
    {
     "name": "stdout",
     "output_type": "stream",
     "text": [
      "A\n",
      "B\n",
      "C\n",
      "D\n",
      "E\n",
      "F\n",
      "G\n",
      "H\n",
      "I\n",
      "J\n",
      "K\n",
      "L\n",
      "M\n",
      "N\n",
      "O\n",
      "P\n",
      "Q\n",
      "R\n",
      "S\n",
      "T\n",
      "U\n",
      "V\n",
      "W\n",
      "X\n",
      "Y\n",
      "Z\n"
     ]
    }
   ],
   "source": [
    "start=65\n",
    "end=90\n",
    "while start<=end:\n",
    "  print(chr(start))\n",
    "  start+=1\n",
    "\n"
   ]
  },
  {
   "attachments": {},
   "cell_type": "markdown",
   "metadata": {},
   "source": [
    "4.WAP to print the numbers 0 to 9."
   ]
  },
  {
   "cell_type": "code",
   "execution_count": 1,
   "metadata": {},
   "outputs": [
    {
     "name": "stdout",
     "output_type": "stream",
     "text": [
      "0\n",
      "1\n",
      "2\n",
      "3\n",
      "4\n",
      "5\n",
      "6\n",
      "7\n",
      "8\n",
      "9\n"
     ]
    }
   ],
   "source": [
    "start=48\n",
    "end=57\n",
    "while start<=end:\n",
    "    print(chr(start))\n",
    "    start+=1"
   ]
  },
  {
   "attachments": {},
   "cell_type": "markdown",
   "metadata": {},
   "source": [
    "5.WAP to print the all smaller case characters."
   ]
  },
  {
   "cell_type": "code",
   "execution_count": 4,
   "metadata": {},
   "outputs": [
    {
     "name": "stdout",
     "output_type": "stream",
     "text": [
      "a\n",
      "b\n",
      "c\n",
      "d\n",
      "e\n",
      "f\n",
      "g\n",
      "h\n",
      "i\n",
      "j\n",
      "k\n",
      "l\n",
      "m\n",
      "n\n",
      "o\n",
      "p\n",
      "q\n",
      "r\n",
      "s\n",
      "t\n",
      "u\n",
      "v\n",
      "w\n",
      "x\n",
      "y\n",
      "z\n"
     ]
    }
   ],
   "source": [
    "start=97\n",
    "end=122\n",
    "while start<=end:\n",
    "    print(chr(start))\n",
    "    start+=1\n"
   ]
  },
  {
   "attachments": {},
   "cell_type": "markdown",
   "metadata": {},
   "source": [
    "6.WAP to print the number in a reverse order."
   ]
  },
  {
   "cell_type": "code",
   "execution_count": 1,
   "metadata": {},
   "outputs": [
    {
     "name": "stdout",
     "output_type": "stream",
     "text": [
      "4789"
     ]
    }
   ],
   "source": [
    "n=9874\n",
    "while n:\n",
    "    res=n%10\n",
    "    print(res,end=\"\")\n",
    "    n=n//10 "
   ]
  },
  {
   "attachments": {},
   "cell_type": "markdown",
   "metadata": {},
   "source": [
    "7.WAP to print the sum of the digits in a given number."
   ]
  },
  {
   "cell_type": "code",
   "execution_count": 3,
   "metadata": {},
   "outputs": [
    {
     "name": "stdout",
     "output_type": "stream",
     "text": [
      "18\n"
     ]
    }
   ],
   "source": [
    "\n",
    "a=3456\n",
    "sum1=0\n",
    "while a:\n",
    "    r=a%10\n",
    "    sum1=sum1+r\n",
    "    a=a//10\n",
    "print(sum1)    \n"
   ]
  },
  {
   "attachments": {},
   "cell_type": "markdown",
   "metadata": {},
   "source": [
    "8.WAP to reverse the given  number using while loop."
   ]
  },
  {
   "cell_type": "code",
   "execution_count": 2,
   "metadata": {},
   "outputs": [
    {
     "name": "stdout",
     "output_type": "stream",
     "text": [
      "4321"
     ]
    }
   ],
   "source": [
    "a=1234\n",
    "while a:\n",
    "    r=a%10\n",
    "    a=a//10\n",
    "    print(r,end=\"\")\n",
    "    "
   ]
  },
  {
   "attachments": {},
   "cell_type": "markdown",
   "metadata": {},
   "source": [
    "9.WAP to find out the smallest number from the given number."
   ]
  },
  {
   "cell_type": "code",
   "execution_count": 4,
   "metadata": {},
   "outputs": [
    {
     "name": "stdout",
     "output_type": "stream",
     "text": [
      "3\n",
      "1\n"
     ]
    }
   ],
   "source": [
    "n=45673898\n",
    "sm=9\n",
    "while n:\n",
    "    res=n%10\n",
    "    if sm>res:\n",
    "        sm=res\n",
    "    n=n//10\n",
    "print(sm)\n",
    "\n",
    "n=123456789\n",
    "sm=9\n",
    "while n:\n",
    "    res=n%10\n",
    "    if sm>res:\n",
    "        sm=res\n",
    "    n=n//10\n",
    "print(sm)"
   ]
  },
  {
   "attachments": {},
   "cell_type": "markdown",
   "metadata": {},
   "source": [
    "10.WAP to find out the second smallest number from the given number."
   ]
  },
  {
   "cell_type": "code",
   "execution_count": 20,
   "metadata": {},
   "outputs": [
    {
     "name": "stdout",
     "output_type": "stream",
     "text": [
      "2 3\n"
     ]
    }
   ],
   "source": [
    "n=234567834\n",
    "f=9\n",
    "s=9\n",
    "while n:\n",
    "    res=n%10\n",
    "    if f>res:\n",
    "        #s=f\n",
    "        f=res\n",
    "    elif s>res:\n",
    "        s=res\n",
    "    n=n//10\n",
    "print(f,s)"
   ]
  },
  {
   "attachments": {},
   "cell_type": "markdown",
   "metadata": {},
   "source": [
    "11.WAP to print the even numbers using while loop."
   ]
  },
  {
   "cell_type": "code",
   "execution_count": 1,
   "metadata": {},
   "outputs": [
    {
     "name": "stdout",
     "output_type": "stream",
     "text": [
      "2\n",
      "4\n",
      "6\n",
      "8\n",
      "10\n",
      "12\n",
      "14\n",
      "16\n",
      "18\n",
      "20\n"
     ]
    }
   ],
   "source": [
    "num=2\n",
    "while num<=20:\n",
    "    print(num)\n",
    "    num=num+2    "
   ]
  },
  {
   "attachments": {},
   "cell_type": "markdown",
   "metadata": {},
   "source": [
    "12.WAP to print the odd numbers using while loop upto 20."
   ]
  },
  {
   "cell_type": "code",
   "execution_count": 2,
   "metadata": {},
   "outputs": [
    {
     "name": "stdout",
     "output_type": "stream",
     "text": [
      "1\n",
      "3\n",
      "5\n",
      "7\n",
      "9\n",
      "11\n",
      "13\n",
      "15\n",
      "17\n",
      "19\n"
     ]
    }
   ],
   "source": [
    "num=1\n",
    "while num<=20:\n",
    "    print(num)\n",
    "    num=num+2"
   ]
  },
  {
   "attachments": {},
   "cell_type": "markdown",
   "metadata": {},
   "source": [
    "13.I/P:123\n",
    "   O/P:321"
   ]
  },
  {
   "cell_type": "code",
   "execution_count": 12,
   "metadata": {},
   "outputs": [
    {
     "name": "stdout",
     "output_type": "stream",
     "text": [
      "321"
     ]
    }
   ],
   "source": [
    "a=123\n",
    "while a:\n",
    "    res=a%10\n",
    "    a=a//10\n",
    "    print(res,end=\"\")"
   ]
  },
  {
   "attachments": {},
   "cell_type": "markdown",
   "metadata": {},
   "source": [
    "14.WAP to count the no of digits in a given number."
   ]
  },
  {
   "cell_type": "code",
   "execution_count": 19,
   "metadata": {},
   "outputs": [
    {
     "name": "stdout",
     "output_type": "stream",
     "text": [
      "8\n"
     ]
    }
   ],
   "source": [
    "n=98765432\n",
    "count=0\n",
    "while n:\n",
    "    n=n//10\n",
    "    count+=1\n",
    "print(count)    "
   ]
  },
  {
   "attachments": {},
   "cell_type": "markdown",
   "metadata": {},
   "source": [
    "15.WAP to reverse the given number ."
   ]
  },
  {
   "cell_type": "code",
   "execution_count": 21,
   "metadata": {},
   "outputs": [
    {
     "name": "stdout",
     "output_type": "stream",
     "text": [
      "56789\n",
      "56789\n"
     ]
    }
   ],
   "source": [
    "n=98765\n",
    "m=n\n",
    "temp=0\n",
    "while n:\n",
    "    n=n//10\n",
    "    temp+=1\n",
    "n=m\n",
    "count=temp\n",
    "sum1=0\n",
    "while n:\n",
    "    res=n%10\n",
    "    sum1+=res*10**(count-1)\n",
    "    n=n//10\n",
    "    count-=1\n",
    "print(sum1)  \n",
    "\n",
    "\n",
    "# SECOND METHOD\n",
    "\n",
    "n=98765\n",
    "sum=0\n",
    "while n:\n",
    "    res=n%10\n",
    "    sum=sum*10+res\n",
    "    n=n//10\n",
    "print(sum)    "
   ]
  },
  {
   "attachments": {},
   "cell_type": "markdown",
   "metadata": {},
   "source": [
    "16.WAP to find out the largest digit in given number."
   ]
  },
  {
   "cell_type": "code",
   "execution_count": 23,
   "metadata": {},
   "outputs": [
    {
     "name": "stdout",
     "output_type": "stream",
     "text": [
      "8\n"
     ]
    }
   ],
   "source": [
    "num=43581\n",
    "f=0\n",
    "while num:\n",
    "    res=num%10\n",
    "    if res>f:\n",
    "        f=res\n",
    "    num=num//10  \n",
    "print(f)      "
   ]
  },
  {
   "attachments": {},
   "cell_type": "markdown",
   "metadata": {},
   "source": [
    "17.WAP to find out the second largest number in the given number."
   ]
  },
  {
   "cell_type": "code",
   "execution_count": 17,
   "metadata": {},
   "outputs": [
    {
     "name": "stdout",
     "output_type": "stream",
     "text": [
      "9 5\n"
     ]
    }
   ],
   "source": [
    "num=43591\n",
    "f=0\n",
    "s=0\n",
    "while num:\n",
    "    res=num%10\n",
    "    if f<res:\n",
    "       f=res\n",
    "    elif s<res:\n",
    "       s=res\n",
    "    num=num//10\n",
    "print(f,s)          \n"
   ]
  },
  {
   "attachments": {},
   "cell_type": "markdown",
   "metadata": {},
   "source": [
    "18.WAP to print the middle digit of the given number."
   ]
  },
  {
   "cell_type": "code",
   "execution_count": 6,
   "metadata": {},
   "outputs": [
    {
     "name": "stdout",
     "output_type": "stream",
     "text": [
      "6\n"
     ]
    },
    {
     "ename": "KeyboardInterrupt",
     "evalue": "",
     "output_type": "error",
     "traceback": [
      "\u001b[1;31m---------------------------------------------------------------------------\u001b[0m",
      "\u001b[1;31mKeyboardInterrupt\u001b[0m                         Traceback (most recent call last)",
      "Cell \u001b[1;32mIn[6], line 12\u001b[0m\n\u001b[0;32m     10\u001b[0m     mid\u001b[39m=\u001b[39m(count\u001b[39m/\u001b[39m\u001b[39m/\u001b[39m\u001b[39m2\u001b[39m)\u001b[39m+\u001b[39m\u001b[39m1\u001b[39m\n\u001b[0;32m     11\u001b[0m co\u001b[39m=\u001b[39m\u001b[39m0\u001b[39m\n\u001b[1;32m---> 12\u001b[0m \u001b[39mwhile\u001b[39;00m n:\n\u001b[0;32m     13\u001b[0m     res\u001b[39m=\u001b[39mn\u001b[39m%\u001b[39m\u001b[39m10\u001b[39m\n\u001b[0;32m     14\u001b[0m     co\u001b[39m+\u001b[39m\u001b[39m=\u001b[39m\u001b[39m1\u001b[39m\n",
      "\u001b[1;31mKeyboardInterrupt\u001b[0m: "
     ]
    }
   ],
   "source": [
    "num=1590866\n",
    "n=num\n",
    "count=0\n",
    "while num:\n",
    "    num//=10\n",
    "    count+=1\n",
    "if count%2==0:\n",
    "    mid=(count//2)\n",
    "else:\n",
    "    mid=(count//2)+1\n",
    "co=0\n",
    "while n:\n",
    "    res=n%10\n",
    "    co+=1\n",
    "    if co==mid:\n",
    "        print(res)\n",
    "    num=num//10 \n",
    "print(mid)          "
   ]
  },
  {
   "attachments": {},
   "cell_type": "markdown",
   "metadata": {},
   "source": [
    "19.WAP to print the smallest number in the given number."
   ]
  },
  {
   "attachments": {},
   "cell_type": "markdown",
   "metadata": {},
   "source": [
    "20.WAP sum of difference between each digit in a given number."
   ]
  },
  {
   "cell_type": "code",
   "execution_count": 31,
   "metadata": {},
   "outputs": [
    {
     "name": "stdout",
     "output_type": "stream",
     "text": [
      "1\n",
      "8\n"
     ]
    }
   ],
   "source": [
    "n=15352\n",
    "f=0\n",
    "s=0\n",
    "diff=0\n",
    "sep=n%10\n",
    "while n:\n",
    "    s=n%10\n",
    "    diff+=f-s\n",
    "    f=s\n",
    "    n=n//10\n",
    "print(diff+sep) \n",
    "\n",
    "\n",
    "n=1538529\n",
    "f=0\n",
    "s=0\n",
    "diff=0\n",
    "sep=n%10\n",
    "while n:\n",
    "    s=n%10\n",
    "    diff+=f-s\n",
    "    f=s\n",
    "    n=n//10\n",
    "print(diff+sep) "
   ]
  },
  {
   "attachments": {},
   "cell_type": "markdown",
   "metadata": {},
   "source": [
    "21.WAP to print the factors of a given number."
   ]
  },
  {
   "cell_type": "code",
   "execution_count": 26,
   "metadata": {},
   "outputs": [
    {
     "name": "stdout",
     "output_type": "stream",
     "text": [
      "1 2 3 6 9 18 "
     ]
    }
   ],
   "source": [
    "n=18\n",
    "start=1\n",
    "while start<=n:\n",
    "    if n%start==0:\n",
    "        print(start,end=\" \")\n",
    "    start+=1    "
   ]
  },
  {
   "attachments": {},
   "cell_type": "markdown",
   "metadata": {},
   "source": [
    "22.WAP to print the sum of the given number."
   ]
  },
  {
   "cell_type": "code",
   "execution_count": 27,
   "metadata": {},
   "outputs": [
    {
     "name": "stdout",
     "output_type": "stream",
     "text": [
      "23\n",
      "10\n"
     ]
    }
   ],
   "source": [
    "num=7646\n",
    "total=0\n",
    "while num:\n",
    "    digit=num%10\n",
    "    total=total+digit\n",
    "    num=num//10\n",
    "print(total) \n",
    "\n",
    "\n",
    "n=1234\n",
    "sum=0\n",
    "while n:\n",
    "    res=n%10\n",
    "    sum+=res\n",
    "    n=n//10\n",
    "print(sum)    \n",
    "\n"
   ]
  },
  {
   "attachments": {},
   "cell_type": "markdown",
   "metadata": {},
   "source": [
    "23."
   ]
  },
  {
   "cell_type": "code",
   "execution_count": 5,
   "metadata": {},
   "outputs": [
    {
     "ename": "ZeroDivisionError",
     "evalue": "integer modulo by zero",
     "output_type": "error",
     "traceback": [
      "\u001b[1;31m---------------------------------------------------------------------------\u001b[0m",
      "\u001b[1;31mZeroDivisionError\u001b[0m                         Traceback (most recent call last)",
      "Cell \u001b[1;32mIn[5], line 8\u001b[0m\n\u001b[0;32m      6\u001b[0m \u001b[39mif\u001b[39;00m n\u001b[39m%\u001b[39m\u001b[39m2\u001b[39m\u001b[39m==\u001b[39m\u001b[39m0\u001b[39m:\n\u001b[0;32m      7\u001b[0m     \u001b[39mwhile\u001b[39;00m start\u001b[39m<\u001b[39m\u001b[39m1\u001b[39m:\n\u001b[1;32m----> 8\u001b[0m         \u001b[39mif\u001b[39;00m n\u001b[39m%\u001b[39;49mstart\u001b[39m==\u001b[39m\u001b[39m0\u001b[39m:\n\u001b[0;32m      9\u001b[0m            \u001b[39msum\u001b[39m\u001b[39m=\u001b[39m\u001b[39msum\u001b[39m\u001b[39m+\u001b[39mstart\n\u001b[0;32m     10\u001b[0m            start\u001b[39m+\u001b[39m\u001b[39m=\u001b[39m\u001b[39m1\u001b[39m\n",
      "\u001b[1;31mZeroDivisionError\u001b[0m: integer modulo by zero"
     ]
    }
   ],
   "source": [
    "n=86\n",
    "start=0\n",
    "sum=0\n",
    "fact=1\n",
    "limit=6\n",
    "if n%2==0:\n",
    "    while start<1:\n",
    "        if n%start==0:\n",
    "           sum=sum+start\n",
    "           start+=1\n",
    "        if n==sum:\n",
    "         while n>1:\n",
    "          fact=fact*n\n",
    "          n=n-1\n",
    "else:\n",
    "    a=0\n",
    "    b=1\n",
    "    print(a,b,end=\" \")\n",
    "    while start < limit:\n",
    "        c=a+b\n",
    "        a=b\n",
    "        b=c\n",
    "        start+=1\n",
    "if fact%n==0:\n",
    "    print(\"haii\")        \n"
   ]
  },
  {
   "attachments": {},
   "cell_type": "markdown",
   "metadata": {},
   "source": [
    "24.WAP to check whether the given number is armstrong number or not."
   ]
  },
  {
   "cell_type": "code",
   "execution_count": 34,
   "metadata": {},
   "outputs": [
    {
     "name": "stdout",
     "output_type": "stream",
     "text": [
      "153\n",
      "armstrong number\n",
      "190\n",
      "not an armstrong number\n"
     ]
    }
   ],
   "source": [
    "n=153\n",
    "m=n\n",
    "sum=0\n",
    "count=3\n",
    "while n:\n",
    "    res=n%10\n",
    "    sum+=res**count\n",
    "    n=n//10 \n",
    "print(sum)\n",
    "if sum==m:\n",
    "    print(\"armstrong number\")\n",
    "else:\n",
    "    print(\"not an armstrong number\") \n",
    "\n",
    "\n",
    "n=154\n",
    "m=n\n",
    "sum=0\n",
    "count=3\n",
    "while n:\n",
    "    res=n%10\n",
    "    sum+=res**count\n",
    "    n=n//10 \n",
    "print(sum)\n",
    "if sum==m:\n",
    "    print(\"armstrong number\")\n",
    "else:\n",
    "    print(\"not an armstrong number\")                  "
   ]
  },
  {
   "attachments": {},
   "cell_type": "markdown",
   "metadata": {},
   "source": [
    "25.WAP to check whether the given number is strong or not."
   ]
  },
  {
   "cell_type": "code",
   "execution_count": 52,
   "metadata": {},
   "outputs": [
    {
     "name": "stdout",
     "output_type": "stream",
     "text": [
      "145\n",
      "strong number\n"
     ]
    }
   ],
   "source": [
    "n=145  # sum of the factorials of the given numbers is equal to the original number \n",
    "m=n                              # 5*4*3*2*1=120\n",
    "sum=0                            # 4*3*2*1=24\n",
    "while n:                         #1*1=1\n",
    "    res=n%10                     # 120+24+1=145\n",
    "    fact=1\n",
    "    while res:    \n",
    "      fact=fact*res\n",
    "      res=res-1\n",
    "    sum+=fact\n",
    "    n=n//10\n",
    "print(sum)\n",
    "if sum==m:   \n",
    "    print(\"strong number\")\n",
    "else:\n",
    "   print(\"not a strong number\")    "
   ]
  },
  {
   "attachments": {},
   "cell_type": "markdown",
   "metadata": {},
   "source": [
    "26.WAP to check whether the given number is spy number or not."
   ]
  },
  {
   "cell_type": "code",
   "execution_count": 19,
   "metadata": {},
   "outputs": [
    {
     "name": "stdout",
     "output_type": "stream",
     "text": [
      "8 8\n",
      "spy number\n"
     ]
    }
   ],
   "source": [
    "n=1124        # sum of the digits and product of the digits are should be same\n",
    "sum=0             # 1*1*2*4=8\n",
    "start=1           # 1+1+2+4=8\n",
    "while n:          # sum==product\n",
    "    res=n%10\n",
    "    sum+=res\n",
    "    start*=res\n",
    "    n=n//10\n",
    "print(start,sum) \n",
    "if sum==start:\n",
    "    print(\"spy number\")\n",
    "else:\n",
    "    print(\"not a spy number\")       \n"
   ]
  },
  {
   "attachments": {},
   "cell_type": "markdown",
   "metadata": {},
   "source": [
    "27.WAP the given number is a happy number or not."
   ]
  },
  {
   "cell_type": "code",
   "execution_count": 1,
   "metadata": {},
   "outputs": [
    {
     "name": "stdout",
     "output_type": "stream",
     "text": [
      "68\n"
     ]
    }
   ],
   "source": [
    "n=82\n",
    "m=n\n",
    "while 1<n:\n",
    "    sum1=0\n",
    "    while n:\n",
    "        res=n%10\n",
    "        sum1+=res*res\n",
    "        n=n//10\n",
    "if sum1==1:\n",
    "    print(\"happy number\")\n",
    "else:\n",
    "    print(sum1)\n",
    "n=sum1       \n"
   ]
  },
  {
   "attachments": {},
   "cell_type": "markdown",
   "metadata": {},
   "source": [
    "28.WAP to check whether the given number is prime number or not."
   ]
  },
  {
   "cell_type": "code",
   "execution_count": 35,
   "metadata": {},
   "outputs": [
    {
     "name": "stdout",
     "output_type": "stream",
     "text": [
      "prime number\n",
      "not prime number\n",
      "prime\n"
     ]
    }
   ],
   "source": [
    "n=2\n",
    "start=1\n",
    "count=0\n",
    "while start<=n:\n",
    "    if n%start==0:\n",
    "        count+=1\n",
    "    start+=1\n",
    "if count==2:\n",
    "    print(\"prime number\")\n",
    "else:\n",
    "    print('not prime number')            \n",
    "\n",
    "\n",
    "n=9       # to reduce the no of lines\n",
    "start=2\n",
    "count=0\n",
    "while start<n:\n",
    "    if n%start==0:\n",
    "        count+=1\n",
    "    start+=1\n",
    "if count==0:\n",
    "    print(\"prime number\")\n",
    "else:\n",
    "    print('not prime number')\n",
    "\n",
    "\n",
    "n=2           #to reduce time complexity and no of lines of code\n",
    "start=2\n",
    "count=0\n",
    "while start<n//2:\n",
    "    if n%start==0:\n",
    "        print(\"not a prime\")\n",
    "        break\n",
    "    start+=1\n",
    "else:\n",
    "    print(\"prime\")        \n"
   ]
  },
  {
   "attachments": {},
   "cell_type": "markdown",
   "metadata": {},
   "source": [
    "29.WAP to print the values with in the given range."
   ]
  },
  {
   "cell_type": "code",
   "execution_count": 22,
   "metadata": {},
   "outputs": [
    {
     "name": "stdout",
     "output_type": "stream",
     "text": [
      "1\n",
      "2\n",
      "3\n",
      "4\n",
      "5\n",
      "6\n",
      "7\n",
      "8\n",
      "9\n",
      "10\n",
      "**--****--****--****--****--****--****--****--****--****--****--****--****--****--****--****--****--****--****--****--**\n",
      "1\n",
      "2\n",
      "3\n",
      "4\n",
      "5\n",
      "6\n",
      "7\n",
      "8\n",
      "9\n"
     ]
    }
   ],
   "source": [
    "n=1\n",
    "start=1\n",
    "count=0\n",
    "while start<=end:\n",
    "    print(start)\n",
    "    start+=1\n",
    "\n",
    "print(\"**--**\"*20)\n",
    "\n",
    "n=1\n",
    "start=1\n",
    "count=0\n",
    "while start<end:\n",
    "    print(start)\n",
    "    start+=1\n"
   ]
  },
  {
   "attachments": {},
   "cell_type": "markdown",
   "metadata": {},
   "source": [
    "30.WAP to print the even numbers with in the given range."
   ]
  },
  {
   "cell_type": "code",
   "execution_count": 29,
   "metadata": {},
   "outputs": [
    {
     "name": "stdout",
     "output_type": "stream",
     "text": [
      "2\n",
      "4\n",
      "6\n",
      "8\n",
      "**--****--****--****--****--****--****--****--****--****--****--****--****--****--****--****--****--****--****--****--**\n",
      "2\n",
      "4\n",
      "6\n",
      "8\n",
      "10\n",
      "**--****--****--****--****--****--****--****--****--****--****--****--****--****--****--****--****--****--****--****--**\n",
      "2\n",
      "4\n",
      "6\n",
      "8\n",
      "**--****--****--****--****--****--****--****--****--****--****--****--****--****--****--****--****--****--****--****--**\n",
      "2\n",
      "4\n",
      "6\n",
      "8\n"
     ]
    }
   ],
   "source": [
    "start=1\n",
    "end=10\n",
    "while start<end:\n",
    "    if start%2==0:\n",
    "        print(start)\n",
    "    start+=1\n",
    "\n",
    "print(\"**--**\"*20)\n",
    "\n",
    "start=1             \n",
    "end=10\n",
    "while start<=end: #If we want 10 also\n",
    "    if start%2==0:\n",
    "        print(start)\n",
    "    start+=1\n",
    "\n",
    "print(\"**--**\"*20)\n",
    "\n",
    "start=10\n",
    "end=1\n",
    "if start>end:\n",
    "    start,end=end,start\n",
    "while start<end:\n",
    "    if start%2==0:\n",
    "        print(start)\n",
    "    start+=1 \n",
    "\n",
    "\n",
    "print(\"**--**\"*20)\n",
    "\n",
    "start=10\n",
    "end=1\n",
    "if start>end:\n",
    "    start,end=end,start\n",
    "while start<end:\n",
    "    if start%2==0:\n",
    "        print(start)\n",
    "    start+=1 "
   ]
  },
  {
   "attachments": {},
   "cell_type": "markdown",
   "metadata": {},
   "source": [
    "31.WAP to print the series of fibonacci numbers in given range."
   ]
  },
  {
   "cell_type": "code",
   "execution_count": 5,
   "metadata": {},
   "outputs": [
    {
     "name": "stdout",
     "output_type": "stream",
     "text": [
      "1\n",
      "2\n",
      "6\n",
      "24\n",
      "120\n",
      "720\n",
      "5040\n",
      "40320\n",
      "362880\n",
      "3628800\n",
      "**---**---**---**---**---**---\n",
      "1\n",
      "2\n",
      "6\n",
      "24\n",
      "120\n",
      "720\n",
      "5040\n",
      "40320\n",
      "362880\n",
      "3628800\n"
     ]
    }
   ],
   "source": [
    "start=10\n",
    "end=1\n",
    "if start>end:\n",
    "    start,end=end,start\n",
    "while start<=end:\n",
    "    n=start\n",
    "    fact=1\n",
    "    while n:\n",
    "        fact=fact*n\n",
    "        n-=1\n",
    "    print(fact) \n",
    "    start+=1 \n",
    "\n",
    "print(\"**---\"*6)\n",
    "\n",
    "start=1\n",
    "end=10\n",
    "while start<=end:\n",
    "    n=start\n",
    "    fact=1\n",
    "    while n:\n",
    "        fact=fact*n\n",
    "        n-=1\n",
    "    print(fact) \n",
    "    start+=1 \n",
    "\n",
    "    \n",
    "                    "
   ]
  },
  {
   "attachments": {},
   "cell_type": "markdown",
   "metadata": {},
   "source": [
    "32.WAP to print the series of prime numbers in given range."
   ]
  },
  {
   "cell_type": "code",
   "execution_count": 15,
   "metadata": {},
   "outputs": [
    {
     "name": "stdout",
     "output_type": "stream",
     "text": [
      "2\n",
      "3\n",
      "5\n",
      "7\n",
      "11\n",
      "13\n",
      "17\n",
      "19\n"
     ]
    }
   ],
   "source": [
    "start=20\n",
    "end=1\n",
    "if start>end:\n",
    "    start,end=end,start\n",
    "while start<end:\n",
    "    if start==1:\n",
    "        start+=1\n",
    "        continue\n",
    "    n=start\n",
    "    i=2\n",
    "    while i<n:\n",
    "        if n%i==0:\n",
    "            break\n",
    "        i+=1\n",
    "    else:\n",
    "        print(n)\n",
    "    start+=1    \n"
   ]
  },
  {
   "attachments": {},
   "cell_type": "markdown",
   "metadata": {},
   "source": [
    "34.WAP to count the uppercase characters from the given string."
   ]
  },
  {
   "cell_type": "code",
   "execution_count": 1,
   "metadata": {},
   "outputs": [
    {
     "name": "stdout",
     "output_type": "stream",
     "text": [
      "5\n"
     ]
    }
   ],
   "source": [
    "st=\"DHArAnI\"   \n",
    "count=0\n",
    "start=0\n",
    "while start<len(st):\n",
    "    if 'A'<=st[start]<='Z':\n",
    "        count+=1\n",
    "    start+=1\n",
    "print(count)        "
   ]
  },
  {
   "attachments": {},
   "cell_type": "markdown",
   "metadata": {},
   "source": [
    "33.WAP sum of the digits in given string (ascii numbers) and find out given sum is divisible by 5 or not if it is divisible check \n",
    "it is a prime number or not."
   ]
  },
  {
   "cell_type": "code",
   "execution_count": 31,
   "metadata": {},
   "outputs": [
    {
     "name": "stdout",
     "output_type": "stream",
     "text": [
      "727\n"
     ]
    }
   ],
   "source": [
    "st=\"dharani\"  \n",
    "start=0\n",
    "sum=0\n",
    "while start<len(st):\n",
    "    sum+=ord(st[start])\n",
    "    start+=1\n",
    "print(sum) \n",
    "if sum%5==0:\n",
    "    i=2\n",
    "    while i<sum:\n",
    "        if sum%i==0:\n",
    "            print(\"not a prime\")\n",
    "            break\n",
    "        i+=1\n",
    "    else:\n",
    "        print(\"prime\")    \n",
    "\n",
    "          "
   ]
  },
  {
   "cell_type": "code",
   "execution_count": 29,
   "metadata": {},
   "outputs": [
    {
     "name": "stdout",
     "output_type": "stream",
     "text": [
      "prime\n"
     ]
    }
   ],
   "source": [
    "st=\"3he2llo\" \n",
    "sum=0\n",
    "start=0\n",
    "while start<len(st):\n",
    "    if '0'<=st[start]<='9':\n",
    "        sum+=int(st[start])\n",
    "    start+=1\n",
    "if sum%5==0:\n",
    "    i=2\n",
    "    while i<sum:\n",
    "        if sum%i==0:\n",
    "            print(\"not a prime\")\n",
    "            break\n",
    "        i+=1\n",
    "    else:\n",
    "        print(\"prime\")            "
   ]
  },
  {
   "cell_type": "code",
   "execution_count": null,
   "metadata": {},
   "outputs": [],
   "source": []
  },
  {
   "cell_type": "code",
   "execution_count": 6,
   "metadata": {},
   "outputs": [
    {
     "name": "stdout",
     "output_type": "stream",
     "text": [
      "['10', '20', '90', '20', '30', '40', '2'] ['+', '+', '+', '-', '-', '*']\n",
      "140\n"
     ]
    }
   ],
   "source": [
    "n = '10+20+90+20-30-40*2'\n",
    "l = ['']\n",
    "sp = []\n",
    "start = 0\n",
    "while start < len(n):\n",
    "    if '0'<=n[start]<='9':\n",
    "        l[-1]+=n[start]\n",
    "    elif not('A'<=n[start]<='Z' or 'a'<=n[start]<='z'):\n",
    "        l += ['']\n",
    "        sp += [n[start]]\n",
    "    start += 1\n",
    "print(l,sp) \n",
    "i = 0\n",
    "while i<len(sp):\n",
    "    match sp[i]:\n",
    "        case '+':\n",
    "            l[0:2]=[int(l[0])+int(l[1])]\n",
    "        case '-':\n",
    "            l[0:2]=[int(l[0])-int(l[1])]\n",
    "        case '*':\n",
    "            l[0:2]=[int(l[0])*int(l[1])]        \n",
    "        case '/':\n",
    "            l[0:2]=[int(l[0])/int(l[1])]\n",
    "        case '**':\n",
    "            l[0:2]=[int(l[0])**int(l[1])]\n",
    "    i += 1\n",
    "print(l[0])\n"
   ]
  },
  {
   "cell_type": "code",
   "execution_count": 7,
   "metadata": {},
   "outputs": [
    {
     "name": "stdout",
     "output_type": "stream",
     "text": [
      "['10', '20', '90', '20', '30', '40', '2'] ['+', '+', '+', '-', '-', '*']\n",
      "140\n"
     ]
    }
   ],
   "source": [
    "n = '10+20+90+20-30-40*2'\n",
    "l = ['']\n",
    "sp = []\n",
    "start = 0\n",
    "while start < len(n):\n",
    "    if '0'<=n[start]<='9':\n",
    "        l[-1]+=n[start]\n",
    "    elif not('A'<=n[start]<='Z' or 'a'<=n[start]<='z'):\n",
    "        l += ['']\n",
    "        sp += [n[start]]\n",
    "    start += 1\n",
    "print(l,sp) \n",
    "i = 0\n",
    "while i<len(sp):\n",
    "    match sp[i]:\n",
    "        case '+':\n",
    "            l[0:2]=[int(l[0])+int(l[1])]\n",
    "        case '-':\n",
    "            l[0:2]=[int(l[0])-int(l[1])]\n",
    "        case '*':\n",
    "            l[0:2]=[int(l[0])*int(l[1])]        \n",
    "        case '/':\n",
    "            l[0:2]=[int(l[0])/int(l[1])]\n",
    "        case '**':\n",
    "            l[0:2]=[int(l[0])**int(l[1])]\n",
    "    i += 1\n",
    "print(l[0])\n"
   ]
  }
 ],
 "metadata": {
  "kernelspec": {
   "display_name": "Python 3",
   "language": "python",
   "name": "python3"
  },
  "language_info": {
   "codemirror_mode": {
    "name": "ipython",
    "version": 3
   },
   "file_extension": ".py",
   "mimetype": "text/x-python",
   "name": "python",
   "nbconvert_exporter": "python",
   "pygments_lexer": "ipython3",
   "version": "3.11.3"
  },
  "orig_nbformat": 4
 },
 "nbformat": 4,
 "nbformat_minor": 2
}
