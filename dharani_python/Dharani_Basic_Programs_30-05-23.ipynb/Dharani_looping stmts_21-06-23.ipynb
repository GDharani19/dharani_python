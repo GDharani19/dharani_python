{
 "cells": [
  {
   "attachments": {},
   "cell_type": "markdown",
   "metadata": {},
   "source": [
    "LOOPING STATEMENTS\n",
    "\n",
    "* It is a phenomenon of \n",
    "* It is one of the control statement and it will iterate the statements for 'n' no of times.\n",
    "\n",
    "* Looping sattements atr classified into 2 types \n",
    "\n",
    "     1.While loop\n",
    "     2.For loop\n",
    "\n",
    "\n",
    "WHILE LOOP   \n",
    "\n",
    "* It is a control statement and iterative statement , it will iterate the set of statements for infinity times .\n",
    "* If condition is satisfied it will iterate the statements until the condition is false.\n",
    "* For basic while statement it will iterate infinity times.\n",
    "* If you wnat to control the basic while loop we havwve to use 3 concepts \n",
    "     1.initialization\n",
    "     2.condition\n",
    "     3.incrementation/decrementation (updation)\n",
    "\n",
    "\n",
    "SYNTAX :\n",
    "         while  condition/expression :\n",
    "\n",
    "         _________________________\n",
    "        |                         |\n",
    "        |                         |\n",
    "        |         stmt            |    } infinity times \n",
    "        |                         |\n",
    "        |_________________________|\n",
    "\n",
    "* It will execute until the stack memory is full or execute infinity times or until the condition is false.\n",
    "* if we want to handle while we have to use initialize/condition /updation.\n",
    "* It will check the condition if the condition is true it will iterate the set of stmts/(while statement block).\n",
    "* Before iteration , whatever stmt's are present inside the while statement block,those all the statements are execute then only it will\n",
    "  iterate the true statement block (TSB) .\n",
    "* If the condition is false it will stop the iteration process.\n",
    "\n",
    "ADVANCED SYNTAX FOR WHILE LOOP :\n",
    "\n",
    "1.Initialize the variable's (initialization)\n",
    "2.While conditon / expression :\n",
    "\n",
    "             _____________________________\n",
    "            |                             |\n",
    "            |        statements           |\n",
    "            |                             |\n",
    "            |   increment/decrement       |\n",
    "            |                             |\n",
    "            |                             |\n",
    "            |_____________________________|\n",
    "\n",
    "\n",
    "FLOW CHART FOR WHILE LOOP :\n",
    "\n"
   ]
  },
  {
   "cell_type": "code",
   "execution_count": 1,
   "metadata": {},
   "outputs": [
    {
     "name": "stdout",
     "output_type": "stream",
     "text": [
      "10\n",
      "9\n",
      "8\n",
      "7\n",
      "6\n",
      "5\n",
      "4\n",
      "3\n",
      "2\n",
      "1\n"
     ]
    }
   ],
   "source": [
    "a=10\n",
    "while a:\n",
    "    print(a)\n",
    "    a-=1"
   ]
  },
  {
   "cell_type": "code",
   "execution_count": 1,
   "metadata": {},
   "outputs": [
    {
     "name": "stdout",
     "output_type": "stream",
     "text": [
      "1\n",
      "2\n",
      "3\n",
      "4\n",
      "5\n",
      "6\n",
      "7\n",
      "8\n",
      "9\n",
      "10\n"
     ]
    }
   ],
   "source": [
    "a=1\n",
    "while a<=10:\n",
    "    print(a)\n",
    "    a+=1"
   ]
  },
  {
   "attachments": {},
   "cell_type": "markdown",
   "metadata": {},
   "source": [
    "WAP to print the all upper case characters."
   ]
  },
  {
   "cell_type": "code",
   "execution_count": 2,
   "metadata": {},
   "outputs": [
    {
     "name": "stdout",
     "output_type": "stream",
     "text": [
      "A\n",
      "B\n",
      "C\n",
      "D\n",
      "E\n",
      "F\n",
      "G\n",
      "H\n",
      "I\n",
      "J\n",
      "K\n",
      "L\n",
      "M\n",
      "N\n",
      "O\n",
      "P\n",
      "Q\n",
      "R\n",
      "S\n",
      "T\n",
      "U\n",
      "V\n",
      "W\n",
      "X\n",
      "Y\n",
      "Z\n"
     ]
    }
   ],
   "source": [
    "start=65\n",
    "end=90\n",
    "while start<=end:\n",
    "  print(chr(start))\n",
    "  start+=1\n",
    "\n"
   ]
  },
  {
   "cell_type": "code",
   "execution_count": 1,
   "metadata": {},
   "outputs": [
    {
     "name": "stdout",
     "output_type": "stream",
     "text": [
      "0\n",
      "1\n",
      "2\n",
      "3\n",
      "4\n",
      "5\n",
      "6\n",
      "7\n",
      "8\n",
      "9\n"
     ]
    }
   ],
   "source": [
    "start=48\n",
    "end=57\n",
    "while start<=end:\n",
    "    print(chr(start))\n",
    "    start+=1"
   ]
  },
  {
   "cell_type": "code",
   "execution_count": 4,
   "metadata": {},
   "outputs": [
    {
     "name": "stdout",
     "output_type": "stream",
     "text": [
      "a\n",
      "b\n",
      "c\n",
      "d\n",
      "e\n",
      "f\n",
      "g\n",
      "h\n",
      "i\n",
      "j\n",
      "k\n",
      "l\n",
      "m\n",
      "n\n",
      "o\n",
      "p\n",
      "q\n",
      "r\n",
      "s\n",
      "t\n",
      "u\n",
      "v\n",
      "w\n",
      "x\n",
      "y\n",
      "z\n"
     ]
    }
   ],
   "source": [
    "start=97\n",
    "end=122\n",
    "while start<=end:\n",
    "    print(chr(start))\n",
    "    start+=1\n"
   ]
  }
 ],
 "metadata": {
  "kernelspec": {
   "display_name": "Python 3",
   "language": "python",
   "name": "python3"
  },
  "language_info": {
   "codemirror_mode": {
    "name": "ipython",
    "version": 3
   },
   "file_extension": ".py",
   "mimetype": "text/x-python",
   "name": "python",
   "nbconvert_exporter": "python",
   "pygments_lexer": "ipython3",
   "version": "3.11.3"
  },
  "orig_nbformat": 4
 },
 "nbformat": 4,
 "nbformat_minor": 2
}
