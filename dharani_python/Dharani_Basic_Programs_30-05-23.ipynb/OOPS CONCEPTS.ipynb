{
 "cells": [
  {
   "cell_type": "code",
   "execution_count": 1,
   "metadata": {},
   "outputs": [],
   "source": [
    "class college:\n",
    "    pass"
   ]
  },
  {
   "cell_type": "code",
   "execution_count": 2,
   "metadata": {},
   "outputs": [
    {
     "data": {
      "text/plain": [
       "__main__.college"
      ]
     },
     "execution_count": 2,
     "metadata": {},
     "output_type": "execute_result"
    }
   ],
   "source": [
    "college"
   ]
  },
  {
   "cell_type": "code",
   "execution_count": 3,
   "metadata": {},
   "outputs": [
    {
     "name": "stdout",
     "output_type": "stream",
     "text": [
      "<class '__main__.college'>\n"
     ]
    }
   ],
   "source": [
    "print(college)"
   ]
  },
  {
   "cell_type": "code",
   "execution_count": 4,
   "metadata": {},
   "outputs": [
    {
     "data": {
      "text/plain": [
       "mappingproxy({'__module__': '__main__',\n",
       "              '__dict__': <attribute '__dict__' of 'college' objects>,\n",
       "              '__weakref__': <attribute '__weakref__' of 'college' objects>,\n",
       "              '__doc__': None})"
      ]
     },
     "execution_count": 4,
     "metadata": {},
     "output_type": "execute_result"
    }
   ],
   "source": [
    "college.__dict__"
   ]
  },
  {
   "cell_type": "code",
   "execution_count": 1,
   "metadata": {},
   "outputs": [
    {
     "name": "stdout",
     "output_type": "stream",
     "text": [
      "pyspiders hyd www.PYSPIDERS.com 9988776655\n"
     ]
    }
   ],
   "source": [
    "class college:                        # ACCESSING THE CLASS VARIABLES INSIDE THE CLASS\n",
    "    clg_name=\"pyspiders\"\n",
    "    address=\"hyd\"\n",
    "    website=\"www.PYSPIDERS.com\"\n",
    "    phone=9988776655\n",
    "    print(clg_name,address,website,phone)"
   ]
  },
  {
   "cell_type": "code",
   "execution_count": 2,
   "metadata": {},
   "outputs": [
    {
     "ename": "NameError",
     "evalue": "name 'clg_name' is not defined",
     "output_type": "error",
     "traceback": [
      "\u001b[1;31m---------------------------------------------------------------------------\u001b[0m",
      "\u001b[1;31mNameError\u001b[0m                                 Traceback (most recent call last)",
      "Cell \u001b[1;32mIn[2], line 6\u001b[0m\n\u001b[0;32m      4\u001b[0m     website\u001b[39m=\u001b[39m\u001b[39m\"\u001b[39m\u001b[39mwww.PYSPIDERS.com\u001b[39m\u001b[39m\"\u001b[39m\n\u001b[0;32m      5\u001b[0m     phone\u001b[39m=\u001b[39m\u001b[39m9988776655\u001b[39m\n\u001b[1;32m----> 6\u001b[0m \u001b[39mprint\u001b[39m(clg_name,address,website,phone)\n",
      "\u001b[1;31mNameError\u001b[0m: name 'clg_name' is not defined"
     ]
    }
   ],
   "source": [
    "class college:\n",
    "    clg_name=\"pyspiders\"\n",
    "    address=\"hyd\"\n",
    "    website=\"www.PYSPIDERS.com\"\n",
    "    phone=9988776655\n",
    "print(clg_name,address,website,phone)"
   ]
  },
  {
   "cell_type": "code",
   "execution_count": 3,
   "metadata": {},
   "outputs": [
    {
     "name": "stdout",
     "output_type": "stream",
     "text": [
      "pyspiders hyd www.PYSPIDERS.com 9988776655\n"
     ]
    }
   ],
   "source": [
    "class college:                    # ACCESSING THE CLASS VARIABLES OUTSIDE THE CLASS\n",
    "    clg_name=\"pyspiders\"\n",
    "    address=\"hyd\"\n",
    "    website=\"www.PYSPIDERS.com\"\n",
    "    phone=9988776655\n",
    "    print(college.clg_name,college.address,college.website,college.phone)"
   ]
  },
  {
   "cell_type": "code",
   "execution_count": 4,
   "metadata": {},
   "outputs": [
    {
     "name": "stdout",
     "output_type": "stream",
     "text": [
      "pyspiders hyd www.PYSPIDERS.com 9988776655\n"
     ]
    },
    {
     "ename": "AttributeError",
     "evalue": "type object 'college' has no attribute 'staff'",
     "output_type": "error",
     "traceback": [
      "\u001b[1;31m---------------------------------------------------------------------------\u001b[0m",
      "\u001b[1;31mAttributeError\u001b[0m                            Traceback (most recent call last)",
      "Cell \u001b[1;32mIn[4], line 1\u001b[0m\n\u001b[1;32m----> 1\u001b[0m \u001b[39mclass\u001b[39;49;00m \u001b[39mcollege\u001b[39;49;00m:\n\u001b[0;32m      2\u001b[0m     clg_name\u001b[39m=\u001b[39;49m\u001b[39m\"\u001b[39;49m\u001b[39mpyspiders\u001b[39;49m\u001b[39m\"\u001b[39;49m\n\u001b[0;32m      3\u001b[0m     address\u001b[39m=\u001b[39;49m\u001b[39m\"\u001b[39;49m\u001b[39mhyd\u001b[39;49m\u001b[39m\"\u001b[39;49m\n",
      "Cell \u001b[1;32mIn[4], line 7\u001b[0m, in \u001b[0;36mcollege\u001b[1;34m()\u001b[0m\n\u001b[0;32m      5\u001b[0m phone\u001b[39m=\u001b[39m\u001b[39m9988776655\u001b[39m\n\u001b[0;32m      6\u001b[0m \u001b[39mprint\u001b[39m(college\u001b[39m.\u001b[39mclg_name,college\u001b[39m.\u001b[39maddress,college\u001b[39m.\u001b[39mwebsite,college\u001b[39m.\u001b[39mphone)\n\u001b[1;32m----> 7\u001b[0m \u001b[39mprint\u001b[39m(college\u001b[39m.\u001b[39;49mstaff)\n",
      "\u001b[1;31mAttributeError\u001b[0m: type object 'college' has no attribute 'staff'"
     ]
    }
   ],
   "source": [
    "class college:\n",
    "    clg_name=\"pyspiders\"\n",
    "    address=\"hyd\"\n",
    "    website=\"www.PYSPIDERS.com\"\n",
    "    phone=9988776655\n",
    "    print(college.clg_name,college.address,college.website,college.phone)\n",
    "    print(college.staff)"
   ]
  },
  {
   "cell_type": "code",
   "execution_count": 5,
   "metadata": {},
   "outputs": [
    {
     "name": "stdout",
     "output_type": "stream",
     "text": [
      "pyspiders hyd\n",
      "<__main__.college object at 0x0000024A5A0FB490>\n",
      "pyspiders hyd\n",
      "pyspiders hyd\n"
     ]
    }
   ],
   "source": [
    "class college:\n",
    "    clg_name=\"pyspiders\"\n",
    "    address=\"hyd\"\n",
    "    print(clg_name,address)  # accssing the class variables inside the class\n",
    "res=college()# object creation for the college class or Instance memory creation\n",
    "print(res)\n",
    "print(college.clg_name,college.address) # accessing the class variables out side of the class by using class address\n",
    "print(res.clg_name,res.address)  # accessing the class variable out side of the class by using object address "
   ]
  },
  {
   "cell_type": "code",
   "execution_count": 6,
   "metadata": {},
   "outputs": [
    {
     "data": {
      "text/plain": [
       "mappingproxy({'__module__': '__main__',\n",
       "              'clg_name': 'pyspiders',\n",
       "              'address': 'hyd',\n",
       "              '__dict__': <attribute '__dict__' of 'college' objects>,\n",
       "              '__weakref__': <attribute '__weakref__' of 'college' objects>,\n",
       "              '__doc__': None})"
      ]
     },
     "execution_count": 6,
     "metadata": {},
     "output_type": "execute_result"
    }
   ],
   "source": [
    "college.__dict__"
   ]
  },
  {
   "cell_type": "code",
   "execution_count": 7,
   "metadata": {},
   "outputs": [
    {
     "data": {
      "text/plain": [
       "{}"
      ]
     },
     "execution_count": 7,
     "metadata": {},
     "output_type": "execute_result"
    }
   ],
   "source": [
    "res.__dict__"
   ]
  },
  {
   "cell_type": "markdown",
   "metadata": {},
   "source": [
    "EXERCISE\n",
    "\n",
    "* create a class customer with the fields cust id,cust_name,cust_address,display the customer details by using class address.\n",
    "  (out side of the class) and display the customer details by using object address\n",
    "\n",
    "EXERCISE\n",
    "\n",
    "* create a class bank with the fields bank_code,bank_name,bank_address and etc.\n",
    "     (minimum six class attributes should be there)\n",
    "  display the bank details.(inside of the class)\n",
    "  display the bank details by using object address.   "
   ]
  },
  {
   "cell_type": "code",
   "execution_count": 8,
   "metadata": {},
   "outputs": [
    {
     "name": "stdout",
     "output_type": "stream",
     "text": [
      "123456 Dharani sattenapalli\n",
      "<__main__.customer object at 0x0000024A5A0FD450>\n",
      "123456 Dharani sattenapalli\n"
     ]
    }
   ],
   "source": [
    "class customer:\n",
    "    cust_id=123456\n",
    "    cust_name=\"Dharani\"   \n",
    "    cust_address=\"sattenapalli\"\n",
    "    print(cust_id,cust_name,cust_address)\n",
    "res=customer()\n",
    "print(res)\n",
    "print(customer.cust_id,customer.cust_name,customer.cust_address)    "
   ]
  },
  {
   "cell_type": "code",
   "execution_count": 9,
   "metadata": {},
   "outputs": [
    {
     "name": "stdout",
     "output_type": "stream",
     "text": [
      "andhra bank ANDH1234 sattenapalli usha harika vinay\n",
      "<__main__.bank object at 0x0000024A59BF13D0>\n",
      "andhra bank ANDH1234 sattenapalli usha harika vinay\n"
     ]
    }
   ],
   "source": [
    "class bank:\n",
    "    bank_name=\"andhra bank\"\n",
    "    bank_code=\"ANDH1234\"\n",
    "    bank_address=\"sattenapalli\"\n",
    "    bank_manager=\"usha\"\n",
    "    field_officer=\"harika\"\n",
    "    bank_cashier=\"vinay\"\n",
    "    print(bank_name,bank_code,bank_address,bank_manager,field_officer,bank_cashier)\n",
    "res=bank()\n",
    "print(res)\n",
    "print(bank.bank_name,bank.bank_code,bank.bank_address,bank.bank_manager,bank.field_officer,bank.bank_cashier)    \n",
    "    \n"
   ]
  },
  {
   "cell_type": "markdown",
   "metadata": {},
   "source": [
    "OBJECT \n",
    "\n",
    "* an object is a variable of type class,object is an instance of a class.\n",
    "* class will be specify what to store and what to do , whereas the object will store what is specified by the class and does what it said \n",
    "  object in real world entity.\n",
    "\n",
    "SYNTAX\n",
    "\n",
    "      object_name=class_name(arguments)\n",
    "\n",
    "* arguments are nothing but the data that we wanted to store it inside the object memory (sometimes arguments are not mandatory)\n",
    "* when we create an object after execution of the program , as soon as the control reaches the object creation statement then it \n",
    "  creates the dictionary memory in the value space.    "
   ]
  },
  {
   "cell_type": "code",
   "execution_count": 11,
   "metadata": {},
   "outputs": [],
   "source": [
    "class sample:   # class definition class /generic/static states\n",
    "    x=10        # class state initializaion\n",
    "    y=20\n",
    "obj=sample()      # object creation   object/specific/non static states\n",
    "obj.m=100         # object state initialization\n",
    "obj.n=200\n"
   ]
  },
  {
   "cell_type": "code",
   "execution_count": 18,
   "metadata": {},
   "outputs": [
    {
     "name": "stdout",
     "output_type": "stream",
     "text": [
      "<class '__main__.sample'>\n",
      "{'__module__': '__main__', 'x': 10, 'y': 20, '__dict__': <attribute '__dict__' of 'sample' objects>, '__weakref__': <attribute '__weakref__' of 'sample' objects>, '__doc__': None}\n",
      "10 20\n"
     ]
    }
   ],
   "source": [
    "print(sample)\n",
    "print(sample.__dict__)\n",
    "sample.__dict__\n",
    "print(sample.x,sample.y)"
   ]
  },
  {
   "cell_type": "code",
   "execution_count": 13,
   "metadata": {},
   "outputs": [
    {
     "data": {
      "text/plain": [
       "mappingproxy({'__module__': '__main__',\n",
       "              'x': 10,\n",
       "              'y': 20,\n",
       "              '__dict__': <attribute '__dict__' of 'sample' objects>,\n",
       "              '__weakref__': <attribute '__weakref__' of 'sample' objects>,\n",
       "              '__doc__': None})"
      ]
     },
     "execution_count": 13,
     "metadata": {},
     "output_type": "execute_result"
    }
   ],
   "source": [
    "sample.__dict__"
   ]
  },
  {
   "cell_type": "code",
   "execution_count": 14,
   "metadata": {},
   "outputs": [
    {
     "data": {
      "text/plain": [
       "{'m': 100, 'n': 200}"
      ]
     },
     "execution_count": 14,
     "metadata": {},
     "output_type": "execute_result"
    }
   ],
   "source": [
    "obj.__dict__"
   ]
  },
  {
   "cell_type": "code",
   "execution_count": 15,
   "metadata": {},
   "outputs": [
    {
     "name": "stdout",
     "output_type": "stream",
     "text": [
      "<class '__main__.sample'>\n",
      "{'__module__': '__main__', 'x': 10, 'y': 20, '__dict__': <attribute '__dict__' of 'sample' objects>, '__weakref__': <attribute '__weakref__' of 'sample' objects>, '__doc__': None}\n",
      "100 200 10 20\n"
     ]
    }
   ],
   "source": [
    "print(sample)\n",
    "print(sample.__dict__)\n",
    "print(obj.m,obj.n,obj.x,obj.y)"
   ]
  },
  {
   "cell_type": "code",
   "execution_count": 16,
   "metadata": {},
   "outputs": [
    {
     "name": "stdout",
     "output_type": "stream",
     "text": [
      "<__main__.sample object at 0x0000024A59BF0350>\n",
      "{'m': 100, 'n': 200}\n",
      "100 200 10 20\n"
     ]
    }
   ],
   "source": [
    "print(obj)\n",
    "print(obj.__dict__)\n",
    "print(obj.m,obj.n,obj.x,obj.y)"
   ]
  },
  {
   "cell_type": "markdown",
   "metadata": {},
   "source": [
    "GENERIC/CLASS STATE FUNCTIONALITIES\n",
    "\n",
    "INITIALIZATION :\n",
    "--------------\n",
    "SYNTAX:\n",
    "------        class_address/name.variable name=new value\n",
    "\n",
    "FETCH :\n",
    "-----\n",
    "SYNTAX :\n",
    "------         class_address.variable name\n",
    "\n",
    "REINITIALIZATION :\n",
    "-----------------\n",
    "SYNTAX :\n",
    "------          class_address.variable name=new value\n",
    "                                 |\n",
    "                                 |\n",
    "                         existing variable\n",
    "\n",
    "DELETION :\n",
    "--------\n",
    "SYNTAX :\n",
    "------         del class_address.variablename\n",
    "\n",
    "                         "
   ]
  },
  {
   "cell_type": "code",
   "execution_count": 21,
   "metadata": {},
   "outputs": [
    {
     "name": "stdout",
     "output_type": "stream",
     "text": [
      "['a']\n",
      "{'a': 10}\n"
     ]
    },
    {
     "ename": "AttributeError",
     "evalue": "type object 'demo' has no attribute 'y'",
     "output_type": "error",
     "traceback": [
      "\u001b[1;31m---------------------------------------------------------------------------\u001b[0m",
      "\u001b[1;31mAttributeError\u001b[0m                            Traceback (most recent call last)",
      "Cell \u001b[1;32mIn[21], line 15\u001b[0m\n\u001b[0;32m     13\u001b[0m \u001b[39mdel\u001b[39;00m demo\u001b[39m.\u001b[39my\n\u001b[0;32m     14\u001b[0m \u001b[39m# Fetch\u001b[39;00m\n\u001b[1;32m---> 15\u001b[0m \u001b[39mprint\u001b[39m(demo\u001b[39m.\u001b[39;49my)\n",
      "\u001b[1;31mAttributeError\u001b[0m: type object 'demo' has no attribute 'y'"
     ]
    }
   ],
   "source": [
    "# FUNCTION CALLING OUTSIDE THE CLASS\n",
    "\n",
    "class demo:\n",
    "    x=10\n",
    "\n",
    "# initialization\n",
    "demo.y=['a']  \n",
    "# Fetch         o/p:['a']\n",
    "print(demo.y)\n",
    "# Re initialization\n",
    "demo.y={'a':10}\n",
    "# Fetch\n",
    "print(demo.y)   # o/p:{'a':10}\n",
    "# Delete\n",
    "del demo.y\n",
    "# Fetch           o/p:error\n",
    "print(demo.y)\n",
    "  "
   ]
  },
  {
   "cell_type": "code",
   "execution_count": 22,
   "metadata": {},
   "outputs": [
    {
     "data": {
      "text/plain": [
       "mappingproxy({'__module__': '__main__',\n",
       "              'x': 10,\n",
       "              '__dict__': <attribute '__dict__' of 'demo' objects>,\n",
       "              '__weakref__': <attribute '__weakref__' of 'demo' objects>,\n",
       "              '__doc__': None})"
      ]
     },
     "execution_count": 22,
     "metadata": {},
     "output_type": "execute_result"
    }
   ],
   "source": [
    "demo.__dict__"
   ]
  },
  {
   "cell_type": "code",
   "execution_count": 23,
   "metadata": {},
   "outputs": [
    {
     "name": "stdout",
     "output_type": "stream",
     "text": [
      "100\n",
      "300\n"
     ]
    },
    {
     "ename": "NameError",
     "evalue": "name 'abc' is not defined",
     "output_type": "error",
     "traceback": [
      "\u001b[1;31m---------------------------------------------------------------------------\u001b[0m",
      "\u001b[1;31mNameError\u001b[0m                                 Traceback (most recent call last)",
      "Cell \u001b[1;32mIn[23], line 1\u001b[0m\n\u001b[1;32m----> 1\u001b[0m \u001b[39mclass\u001b[39;49;00m \u001b[39mdemo\u001b[39;49;00m:\n\u001b[0;32m      2\u001b[0m     \u001b[39m# initialization\u001b[39;49;00m\n\u001b[0;32m      3\u001b[0m     abc\u001b[39m=\u001b[39;49m\u001b[39m100\u001b[39;49m\n\u001b[0;32m      4\u001b[0m     \u001b[39m#fetch\u001b[39;49;00m\n",
      "Cell \u001b[1;32mIn[23], line 13\u001b[0m, in \u001b[0;36mdemo\u001b[1;34m()\u001b[0m\n\u001b[0;32m     11\u001b[0m \u001b[39mdel\u001b[39;00m abc\n\u001b[0;32m     12\u001b[0m \u001b[39m#fetch\u001b[39;00m\n\u001b[1;32m---> 13\u001b[0m \u001b[39mprint\u001b[39m(abc)\n",
      "\u001b[1;31mNameError\u001b[0m: name 'abc' is not defined"
     ]
    }
   ],
   "source": [
    "# FUNCTION CALLING INSIDE THE CLASS\n",
    "\n",
    "class demo:         \n",
    "    # initialization\n",
    "    abc=100\n",
    "    #fetch\n",
    "    print(abc)\n",
    "    #reinitialization\n",
    "    abc=300\n",
    "    #fetch\n",
    "    print(abc)\n",
    "    #deletion\n",
    "    del abc\n",
    "    #fetch\n",
    "    print(abc)\n"
   ]
  },
  {
   "cell_type": "markdown",
   "metadata": {},
   "source": [
    "GENERIC/OBJECT STATE FUNCTIONALITIES\n",
    "\n",
    "INITIALIZATION :\n",
    "--------------\n",
    "SYNTAX:\n",
    "------        object_address/name.variable name=new value\n",
    "\n",
    "FETCH :\n",
    "-----\n",
    "SYNTAX :\n",
    "------         object_address.variable name\n",
    "\n",
    "REINITIALIZATION :\n",
    "-----------------\n",
    "SYNTAX :\n",
    "------          object_address.variable name=new value\n",
    "                                 |\n",
    "                                 |\n",
    "                         existing variable\n",
    "\n",
    "DELETION :\n",
    "--------\n",
    "SYNTAX :\n",
    "------         del object_address.variablename\n",
    "\n",
    "                         "
   ]
  },
  {
   "cell_type": "code",
   "execution_count": 1,
   "metadata": {},
   "outputs": [
    {
     "name": "stdout",
     "output_type": "stream",
     "text": [
      "10\n",
      "50\n"
     ]
    },
    {
     "ename": "AttributeError",
     "evalue": "'demo' object has no attribute 'apple'",
     "output_type": "error",
     "traceback": [
      "\u001b[1;31m---------------------------------------------------------------------------\u001b[0m",
      "\u001b[1;31mAttributeError\u001b[0m                            Traceback (most recent call last)",
      "Cell \u001b[1;32mIn[1], line 16\u001b[0m\n\u001b[0;32m     14\u001b[0m \u001b[39mdel\u001b[39;00m obj\u001b[39m.\u001b[39mapple\n\u001b[0;32m     15\u001b[0m \u001b[39m#fetch\u001b[39;00m\n\u001b[1;32m---> 16\u001b[0m \u001b[39mprint\u001b[39m(obj\u001b[39m.\u001b[39;49mapple)   \n",
      "\u001b[1;31mAttributeError\u001b[0m: 'demo' object has no attribute 'apple'"
     ]
    }
   ],
   "source": [
    "class demo:\n",
    "    x=10\n",
    "\n",
    "obj=demo()\n",
    "#initialization\n",
    "obj.apple=10\n",
    "#fetch\n",
    "print(obj.apple)\n",
    "#reinitialization\n",
    "obj.apple=50\n",
    "#fetch\n",
    "print(obj.apple)\n",
    "# deletion\n",
    "del obj.apple\n",
    "#fetch\n",
    "print(obj.apple)   "
   ]
  }
 ],
 "metadata": {
  "kernelspec": {
   "display_name": "Python 3",
   "language": "python",
   "name": "python3"
  },
  "language_info": {
   "codemirror_mode": {
    "name": "ipython",
    "version": 3
   },
   "file_extension": ".py",
   "mimetype": "text/x-python",
   "name": "python",
   "nbconvert_exporter": "python",
   "pygments_lexer": "ipython3",
   "version": "3.11.3"
  },
  "orig_nbformat": 4
 },
 "nbformat": 4,
 "nbformat_minor": 2
}
