{
 "cells": [
  {
   "cell_type": "code",
   "execution_count": 2,
   "metadata": {},
   "outputs": [],
   "source": [
    "class college:\n",
    "    pass"
   ]
  },
  {
   "cell_type": "code",
   "execution_count": 3,
   "metadata": {},
   "outputs": [
    {
     "data": {
      "text/plain": [
       "__main__.college"
      ]
     },
     "execution_count": 3,
     "metadata": {},
     "output_type": "execute_result"
    }
   ],
   "source": [
    "college"
   ]
  },
  {
   "cell_type": "code",
   "execution_count": 5,
   "metadata": {},
   "outputs": [
    {
     "name": "stdout",
     "output_type": "stream",
     "text": [
      "<class '__main__.college'>\n"
     ]
    }
   ],
   "source": [
    "print(college)"
   ]
  },
  {
   "cell_type": "code",
   "execution_count": 6,
   "metadata": {},
   "outputs": [
    {
     "data": {
      "text/plain": [
       "mappingproxy({'__module__': '__main__',\n",
       "              '__dict__': <attribute '__dict__' of 'college' objects>,\n",
       "              '__weakref__': <attribute '__weakref__' of 'college' objects>,\n",
       "              '__doc__': None})"
      ]
     },
     "execution_count": 6,
     "metadata": {},
     "output_type": "execute_result"
    }
   ],
   "source": [
    "college.__dict__"
   ]
  },
  {
   "cell_type": "code",
   "execution_count": 7,
   "metadata": {},
   "outputs": [
    {
     "name": "stdout",
     "output_type": "stream",
     "text": [
      "pyspiders hyd www.PYSPIDERS.com 9988776655\n"
     ]
    }
   ],
   "source": [
    "class college:                        # ACCESSING THE CLASS VARIABLES INSIDE THE CLASS\n",
    "    clg_name=\"pyspiders\"\n",
    "    address=\"hyd\"\n",
    "    website=\"www.PYSPIDERS.com\"\n",
    "    phone=9988776655\n",
    "    print(clg_name,address,website,phone)"
   ]
  },
  {
   "cell_type": "code",
   "execution_count": 8,
   "metadata": {},
   "outputs": [
    {
     "ename": "NameError",
     "evalue": "name 'clg_name' is not defined",
     "output_type": "error",
     "traceback": [
      "\u001b[1;31m---------------------------------------------------------------------------\u001b[0m",
      "\u001b[1;31mNameError\u001b[0m                                 Traceback (most recent call last)",
      "Cell \u001b[1;32mIn[8], line 6\u001b[0m\n\u001b[0;32m      4\u001b[0m     website\u001b[39m=\u001b[39m\u001b[39m\"\u001b[39m\u001b[39mwww.PYSPIDERS.com\u001b[39m\u001b[39m\"\u001b[39m\n\u001b[0;32m      5\u001b[0m     phone\u001b[39m=\u001b[39m\u001b[39m9988776655\u001b[39m\n\u001b[1;32m----> 6\u001b[0m \u001b[39mprint\u001b[39m(clg_name,address,website,phone)\n",
      "\u001b[1;31mNameError\u001b[0m: name 'clg_name' is not defined"
     ]
    }
   ],
   "source": [
    "class college:\n",
    "    clg_name=\"pyspiders\"\n",
    "    address=\"hyd\"\n",
    "    website=\"www.PYSPIDERS.com\"\n",
    "    phone=9988776655\n",
    "print(clg_name,address,website,phone)"
   ]
  },
  {
   "cell_type": "code",
   "execution_count": 9,
   "metadata": {},
   "outputs": [
    {
     "name": "stdout",
     "output_type": "stream",
     "text": [
      "pyspiders hyd www.PYSPIDERS.com 9988776655\n"
     ]
    }
   ],
   "source": [
    "class college:                    # ACCESSING THE CLASS VARIABLES OUTSIDE THE CLASS\n",
    "    clg_name=\"pyspiders\"\n",
    "    address=\"hyd\"\n",
    "    website=\"www.PYSPIDERS.com\"\n",
    "    phone=9988776655\n",
    "    print(college.clg_name,college.address,college.website,college.phone)"
   ]
  },
  {
   "cell_type": "code",
   "execution_count": 10,
   "metadata": {},
   "outputs": [
    {
     "name": "stdout",
     "output_type": "stream",
     "text": [
      "pyspiders hyd www.PYSPIDERS.com 9988776655\n"
     ]
    },
    {
     "ename": "AttributeError",
     "evalue": "type object 'college' has no attribute 'staff'",
     "output_type": "error",
     "traceback": [
      "\u001b[1;31m---------------------------------------------------------------------------\u001b[0m",
      "\u001b[1;31mAttributeError\u001b[0m                            Traceback (most recent call last)",
      "Cell \u001b[1;32mIn[10], line 1\u001b[0m\n\u001b[1;32m----> 1\u001b[0m \u001b[39mclass\u001b[39;49;00m \u001b[39mcollege\u001b[39;49;00m:\n\u001b[0;32m      2\u001b[0m     clg_name\u001b[39m=\u001b[39;49m\u001b[39m\"\u001b[39;49m\u001b[39mpyspiders\u001b[39;49m\u001b[39m\"\u001b[39;49m\n\u001b[0;32m      3\u001b[0m     address\u001b[39m=\u001b[39;49m\u001b[39m\"\u001b[39;49m\u001b[39mhyd\u001b[39;49m\u001b[39m\"\u001b[39;49m\n",
      "Cell \u001b[1;32mIn[10], line 7\u001b[0m, in \u001b[0;36mcollege\u001b[1;34m()\u001b[0m\n\u001b[0;32m      5\u001b[0m phone\u001b[39m=\u001b[39m\u001b[39m9988776655\u001b[39m\n\u001b[0;32m      6\u001b[0m \u001b[39mprint\u001b[39m(college\u001b[39m.\u001b[39mclg_name,college\u001b[39m.\u001b[39maddress,college\u001b[39m.\u001b[39mwebsite,college\u001b[39m.\u001b[39mphone)\n\u001b[1;32m----> 7\u001b[0m \u001b[39mprint\u001b[39m(college\u001b[39m.\u001b[39;49mstaff)\n",
      "\u001b[1;31mAttributeError\u001b[0m: type object 'college' has no attribute 'staff'"
     ]
    }
   ],
   "source": [
    "class college:\n",
    "    clg_name=\"pyspiders\"\n",
    "    address=\"hyd\"\n",
    "    website=\"www.PYSPIDERS.com\"\n",
    "    phone=9988776655\n",
    "    print(college.clg_name,college.address,college.website,college.phone)\n",
    "    print(college.staff)"
   ]
  },
  {
   "cell_type": "code",
   "execution_count": 11,
   "metadata": {},
   "outputs": [
    {
     "name": "stdout",
     "output_type": "stream",
     "text": [
      "pyspiders hyd\n",
      "<__main__.college object at 0x000002857D3B9490>\n",
      "pyspiders hyd\n",
      "pyspiders hyd\n"
     ]
    }
   ],
   "source": [
    "class college:\n",
    "    clg_name=\"pyspiders\"\n",
    "    address=\"hyd\"\n",
    "    print(clg_name,address)  # accssing the class variables inside the class\n",
    "res=college()# object creation for the college class or Instance memory creation\n",
    "print(res)\n",
    "print(college.clg_name,college.address) # accessing the class variables out side of the class by using class address\n",
    "print(res.clg_name,res.address)  # accessing the class variable out side of the class by using object address "
   ]
  },
  {
   "cell_type": "code",
   "execution_count": 12,
   "metadata": {},
   "outputs": [
    {
     "data": {
      "text/plain": [
       "mappingproxy({'__module__': '__main__',\n",
       "              'clg_name': 'pyspiders',\n",
       "              'address': 'hyd',\n",
       "              '__dict__': <attribute '__dict__' of 'college' objects>,\n",
       "              '__weakref__': <attribute '__weakref__' of 'college' objects>,\n",
       "              '__doc__': None})"
      ]
     },
     "execution_count": 12,
     "metadata": {},
     "output_type": "execute_result"
    }
   ],
   "source": [
    "college.__dict__"
   ]
  },
  {
   "cell_type": "code",
   "execution_count": 13,
   "metadata": {},
   "outputs": [
    {
     "data": {
      "text/plain": [
       "{}"
      ]
     },
     "execution_count": 13,
     "metadata": {},
     "output_type": "execute_result"
    }
   ],
   "source": [
    "res.__dict__"
   ]
  },
  {
   "cell_type": "markdown",
   "metadata": {},
   "source": [
    "EXERCISE\n",
    "\n",
    "* create a class customer with the fields cust id,cust_name,cust_address,display the customer details by using class address.\n",
    "  (out side of the class) and display the customer details by using object address\n",
    "\n",
    "EXERCISE\n",
    "\n",
    "* create a class bank with the fields bank_code,bank_name,bank_address and etc.\n",
    "     (minimum six class attributes should be there)\n",
    "  display the bank details.(inside of the class)\n",
    "  display the bank details by using object address.   "
   ]
  },
  {
   "cell_type": "code",
   "execution_count": 14,
   "metadata": {},
   "outputs": [
    {
     "name": "stdout",
     "output_type": "stream",
     "text": [
      "123456 Dharani sattenapalli\n",
      "<__main__.customer object at 0x000002857B8E1010>\n",
      "123456 Dharani sattenapalli\n"
     ]
    }
   ],
   "source": [
    "class customer:\n",
    "    cust_id=123456\n",
    "    cust_name=\"Dharani\"   \n",
    "    cust_address=\"sattenapalli\"\n",
    "    print(cust_id,cust_name,cust_address)\n",
    "res=customer()\n",
    "print(res)\n",
    "print(customer.cust_id,customer.cust_name,customer.cust_address)    "
   ]
  },
  {
   "cell_type": "code",
   "execution_count": 15,
   "metadata": {},
   "outputs": [
    {
     "name": "stdout",
     "output_type": "stream",
     "text": [
      "andhra bank ANDH1234 sattenapalli usha harika vinay\n",
      "<__main__.bank object at 0x000002857D3F04D0>\n",
      "andhra bank ANDH1234 sattenapalli usha harika vinay\n"
     ]
    }
   ],
   "source": [
    "class bank:\n",
    "    bank_name=\"andhra bank\"\n",
    "    bank_code=\"ANDH1234\"\n",
    "    bank_address=\"sattenapalli\"\n",
    "    bank_manager=\"usha\"\n",
    "    field_officer=\"harika\"\n",
    "    bank_cashier=\"vinay\"\n",
    "    print(bank_name,bank_code,bank_address,bank_manager,field_officer,bank_cashier)\n",
    "res=bank()\n",
    "print(res)\n",
    "print(bank.bank_name,bank.bank_code,bank.bank_address,bank.bank_manager,bank.field_officer,bank.bank_cashier)    \n",
    "    \n"
   ]
  },
  {
   "cell_type": "markdown",
   "metadata": {},
   "source": [
    "OBJECT \n",
    "\n",
    "* an object is a variable of type class,object is an instance of a class.\n",
    "* class will be specify what to store and what to do , whereas the object will store what is specified by the class and does what it said \n",
    "  object in real world entity.\n",
    "\n",
    "SYNTAX\n",
    "\n",
    "      object_name=class_name(arguments)\n",
    "\n",
    "* arguments are nothing but the data that we wanted to store it inside the object memory (sometimes arguments are not mandatory)\n",
    "* when we create an object after execution of the program , as soon as the control reaches the object creation statement then it \n",
    "  creates the dictionary memory in the value space.    "
   ]
  },
  {
   "cell_type": "code",
   "execution_count": 16,
   "metadata": {},
   "outputs": [],
   "source": [
    "class sample:   # class definition class /generic/static states\n",
    "    x=10        # class state initializaion\n",
    "    y=20\n",
    "obj=sample()      # object creation   object/specific/non static states\n",
    "obj.m=100         # object state initialization\n",
    "obj.n=200\n"
   ]
  },
  {
   "cell_type": "code",
   "execution_count": 17,
   "metadata": {},
   "outputs": [
    {
     "name": "stdout",
     "output_type": "stream",
     "text": [
      "<class '__main__.sample'>\n",
      "{'__module__': '__main__', 'x': 10, 'y': 20, '__dict__': <attribute '__dict__' of 'sample' objects>, '__weakref__': <attribute '__weakref__' of 'sample' objects>, '__doc__': None}\n",
      "10 20\n"
     ]
    }
   ],
   "source": [
    "print(sample)\n",
    "print(sample.__dict__)\n",
    "sample.__dict__\n",
    "print(sample.x,sample.y)"
   ]
  },
  {
   "cell_type": "code",
   "execution_count": 18,
   "metadata": {},
   "outputs": [
    {
     "data": {
      "text/plain": [
       "mappingproxy({'__module__': '__main__',\n",
       "              'x': 10,\n",
       "              'y': 20,\n",
       "              '__dict__': <attribute '__dict__' of 'sample' objects>,\n",
       "              '__weakref__': <attribute '__weakref__' of 'sample' objects>,\n",
       "              '__doc__': None})"
      ]
     },
     "execution_count": 18,
     "metadata": {},
     "output_type": "execute_result"
    }
   ],
   "source": [
    "sample.__dict__"
   ]
  },
  {
   "cell_type": "code",
   "execution_count": 19,
   "metadata": {},
   "outputs": [
    {
     "data": {
      "text/plain": [
       "{'m': 100, 'n': 200}"
      ]
     },
     "execution_count": 19,
     "metadata": {},
     "output_type": "execute_result"
    }
   ],
   "source": [
    "obj.__dict__"
   ]
  },
  {
   "cell_type": "code",
   "execution_count": 20,
   "metadata": {},
   "outputs": [
    {
     "name": "stdout",
     "output_type": "stream",
     "text": [
      "<class '__main__.sample'>\n",
      "{'__module__': '__main__', 'x': 10, 'y': 20, '__dict__': <attribute '__dict__' of 'sample' objects>, '__weakref__': <attribute '__weakref__' of 'sample' objects>, '__doc__': None}\n",
      "100 200 10 20\n"
     ]
    }
   ],
   "source": [
    "print(sample)\n",
    "print(sample.__dict__)\n",
    "print(obj.m,obj.n,obj.x,obj.y)"
   ]
  },
  {
   "cell_type": "code",
   "execution_count": 21,
   "metadata": {},
   "outputs": [
    {
     "name": "stdout",
     "output_type": "stream",
     "text": [
      "<__main__.sample object at 0x000002857D3F0190>\n",
      "{'m': 100, 'n': 200}\n",
      "100 200 10 20\n"
     ]
    }
   ],
   "source": [
    "print(obj)\n",
    "print(obj.__dict__)\n",
    "print(obj.m,obj.n,obj.x,obj.y)"
   ]
  },
  {
   "cell_type": "markdown",
   "metadata": {},
   "source": [
    "GENERIC/CLASS STATE FUNCTIONALITIES\n",
    "\n",
    "INITIALIZATION :\n",
    "--------------\n",
    "SYNTAX:\n",
    "------        class_address/name.variable name=new value\n",
    "\n",
    "FETCH :\n",
    "-----\n",
    "SYNTAX :\n",
    "------         class_address.variable name\n",
    "\n",
    "REINITIALIZATION :\n",
    "-----------------\n",
    "SYNTAX :\n",
    "------          class_address.variable name=new value\n",
    "                                 |\n",
    "                                 |\n",
    "                         existing variable\n",
    "\n",
    "DELETION :\n",
    "--------\n",
    "SYNTAX :\n",
    "------         del class_address.variablename\n",
    "\n",
    "                         "
   ]
  },
  {
   "cell_type": "code",
   "execution_count": 22,
   "metadata": {},
   "outputs": [
    {
     "name": "stdout",
     "output_type": "stream",
     "text": [
      "['a']\n",
      "{'a': 10}\n"
     ]
    },
    {
     "ename": "AttributeError",
     "evalue": "type object 'demo' has no attribute 'y'",
     "output_type": "error",
     "traceback": [
      "\u001b[1;31m---------------------------------------------------------------------------\u001b[0m",
      "\u001b[1;31mAttributeError\u001b[0m                            Traceback (most recent call last)",
      "Cell \u001b[1;32mIn[22], line 17\u001b[0m\n\u001b[0;32m     15\u001b[0m \u001b[39mdel\u001b[39;00m demo\u001b[39m.\u001b[39my\n\u001b[0;32m     16\u001b[0m \u001b[39m# Fetch           o/p:error\u001b[39;00m\n\u001b[1;32m---> 17\u001b[0m \u001b[39mprint\u001b[39m(demo\u001b[39m.\u001b[39;49my)\n",
      "\u001b[1;31mAttributeError\u001b[0m: type object 'demo' has no attribute 'y'"
     ]
    }
   ],
   "source": [
    "# FUNCTION CALLING OUTSIDE THE CLASS\n",
    "\n",
    "class demo:\n",
    "    x=10\n",
    "\n",
    "# initialization\n",
    "demo.y=['a']  \n",
    "# Fetch         o/p:['a']\n",
    "print(demo.y)\n",
    "# Re initialization\n",
    "demo.y={'a':10}\n",
    "# Fetch\n",
    "print(demo.y)   # o/p:{'a':10}\n",
    "# Delete\n",
    "del demo.y\n",
    "# Fetch           o/p:error\n",
    "print(demo.y)\n",
    "  "
   ]
  },
  {
   "cell_type": "code",
   "execution_count": 23,
   "metadata": {},
   "outputs": [
    {
     "data": {
      "text/plain": [
       "mappingproxy({'__module__': '__main__',\n",
       "              'x': 10,\n",
       "              '__dict__': <attribute '__dict__' of 'demo' objects>,\n",
       "              '__weakref__': <attribute '__weakref__' of 'demo' objects>,\n",
       "              '__doc__': None})"
      ]
     },
     "execution_count": 23,
     "metadata": {},
     "output_type": "execute_result"
    }
   ],
   "source": [
    "demo.__dict__"
   ]
  },
  {
   "cell_type": "code",
   "execution_count": 24,
   "metadata": {},
   "outputs": [
    {
     "name": "stdout",
     "output_type": "stream",
     "text": [
      "100\n",
      "300\n"
     ]
    },
    {
     "ename": "NameError",
     "evalue": "name 'abc' is not defined",
     "output_type": "error",
     "traceback": [
      "\u001b[1;31m---------------------------------------------------------------------------\u001b[0m",
      "\u001b[1;31mNameError\u001b[0m                                 Traceback (most recent call last)",
      "Cell \u001b[1;32mIn[24], line 3\u001b[0m\n\u001b[0;32m      1\u001b[0m \u001b[39m# FUNCTION CALLING INSIDE THE CLASS\u001b[39;00m\n\u001b[1;32m----> 3\u001b[0m \u001b[39mclass\u001b[39;49;00m \u001b[39mdemo\u001b[39;49;00m:         \n\u001b[0;32m      4\u001b[0m     \u001b[39m# initialization\u001b[39;49;00m\n\u001b[0;32m      5\u001b[0m     abc\u001b[39m=\u001b[39;49m\u001b[39m100\u001b[39;49m\n\u001b[0;32m      6\u001b[0m     \u001b[39m#fetch\u001b[39;49;00m\n",
      "Cell \u001b[1;32mIn[24], line 15\u001b[0m, in \u001b[0;36mdemo\u001b[1;34m()\u001b[0m\n\u001b[0;32m     13\u001b[0m \u001b[39mdel\u001b[39;00m abc\n\u001b[0;32m     14\u001b[0m \u001b[39m#fetch\u001b[39;00m\n\u001b[1;32m---> 15\u001b[0m \u001b[39mprint\u001b[39m(abc)\n",
      "\u001b[1;31mNameError\u001b[0m: name 'abc' is not defined"
     ]
    }
   ],
   "source": [
    "# FUNCTION CALLING INSIDE THE CLASS\n",
    "\n",
    "class demo:         \n",
    "    # initialization\n",
    "    abc=100\n",
    "    #fetch\n",
    "    print(abc)\n",
    "    #reinitialization\n",
    "    abc=300\n",
    "    #fetch\n",
    "    print(abc)\n",
    "    #deletion\n",
    "    del abc\n",
    "    #fetch\n",
    "    print(abc)\n"
   ]
  },
  {
   "cell_type": "markdown",
   "metadata": {},
   "source": [
    "GENERIC/OBJECT STATE FUNCTIONALITIES\n",
    "\n",
    "INITIALIZATION :\n",
    "--------------\n",
    "SYNTAX:\n",
    "------        object_address/name.variable name=new value\n",
    "\n",
    "FETCH :\n",
    "-----\n",
    "SYNTAX :\n",
    "------         object_address.variable name\n",
    "\n",
    "REINITIALIZATION :\n",
    "-----------------\n",
    "SYNTAX :\n",
    "------          object_address.variable name=new value\n",
    "                                 |\n",
    "                                 |\n",
    "                         existing variable\n",
    "\n",
    "DELETION :\n",
    "--------\n",
    "SYNTAX :\n",
    "------         del object_address.variablename\n",
    "\n",
    "                         "
   ]
  },
  {
   "cell_type": "code",
   "execution_count": 25,
   "metadata": {},
   "outputs": [
    {
     "name": "stdout",
     "output_type": "stream",
     "text": [
      "10\n",
      "50\n"
     ]
    },
    {
     "ename": "AttributeError",
     "evalue": "'demo' object has no attribute 'apple'",
     "output_type": "error",
     "traceback": [
      "\u001b[1;31m---------------------------------------------------------------------------\u001b[0m",
      "\u001b[1;31mAttributeError\u001b[0m                            Traceback (most recent call last)",
      "Cell \u001b[1;32mIn[25], line 16\u001b[0m\n\u001b[0;32m     14\u001b[0m \u001b[39mdel\u001b[39;00m obj\u001b[39m.\u001b[39mapple\n\u001b[0;32m     15\u001b[0m \u001b[39m#fetch\u001b[39;00m\n\u001b[1;32m---> 16\u001b[0m \u001b[39mprint\u001b[39m(obj\u001b[39m.\u001b[39;49mapple)   \n",
      "\u001b[1;31mAttributeError\u001b[0m: 'demo' object has no attribute 'apple'"
     ]
    }
   ],
   "source": [
    "class demo:\n",
    "    x=10\n",
    "\n",
    "obj=demo()\n",
    "#initialization\n",
    "obj.apple=10\n",
    "#fetch\n",
    "print(obj.apple)\n",
    "#reinitialization\n",
    "obj.apple=50\n",
    "#fetch\n",
    "print(obj.apple)\n",
    "# deletion\n",
    "del obj.apple\n",
    "#fetch\n",
    "print(obj.apple)   "
   ]
  },
  {
   "cell_type": "code",
   "execution_count": 26,
   "metadata": {},
   "outputs": [
    {
     "name": "stdout",
     "output_type": "stream",
     "text": [
      "Z.P.G.H school sattenapalli 15 rajini\n"
     ]
    }
   ],
   "source": [
    "class school:\n",
    "    school_name=\"Z.P.G.H school\"\n",
    "    sc_address=\"sattenapalli\"\n",
    "    staff_no=15\n",
    "    sc_principal_name=\"rajini\"\n",
    "    print(school_name,sc_address,staff_no,sc_principal_name)   "
   ]
  },
  {
   "cell_type": "code",
   "execution_count": 3,
   "metadata": {},
   "outputs": [
    {
     "name": "stdout",
     "output_type": "stream",
     "text": [
      "Z.P.G.H school sattenapalli 15 rajini\n"
     ]
    }
   ],
   "source": [
    "class school:\n",
    "    school_name=\"Z.P.G.H school\"\n",
    "    sc_address=\"sattenapalli\"\n",
    "    staff_no=15\n",
    "    sc_principal_name=\"rajini\"\n",
    "print(school.school_name,school.sc_address,school.staff_no,school.sc_principal_name)   "
   ]
  },
  {
   "cell_type": "code",
   "execution_count": 14,
   "metadata": {},
   "outputs": [
    {
     "name": "stdout",
     "output_type": "stream",
     "text": [
      "Z.P.G.H school sattenapalli 15 rajini\n",
      "Z.P.G.H school sattenapalli 15 rajini\n",
      "<__main__.school object at 0x00000237B546F450>\n",
      "dharani 1234566 95 90 89 300\n"
     ]
    }
   ],
   "source": [
    "class school:\n",
    "    school_name=\"Z.P.G.H school\"\n",
    "    school_address=\"sattenapalli\"\n",
    "    staff_no=15\n",
    "    sc_principal_name=\"rajini\"\n",
    "    print(school_name,school_address,staff_no,sc_principal_name)   # calling inside the class\n",
    "stu1=school()    \n",
    "stu1.name=\"dharani\"  \n",
    "stu1.roll_no=1234566\n",
    "stu1.m1=95\n",
    "stu1.m2=90\n",
    "stu1.m3=89\n",
    "stu1.totalmarks=300\n",
    "print(school.school_name,school.school_address,school.staff_no,school.sc_principal_name)  # calling outside the class\n",
    "print(stu1)\n",
    "print(stu1.name,stu1.roll_no,stu1.m1,stu1.m2,stu1.m3,stu1.totalmarks)  \n"
   ]
  },
  {
   "cell_type": "code",
   "execution_count": 11,
   "metadata": {},
   "outputs": [
    {
     "name": "stdout",
     "output_type": "stream",
     "text": [
      "Z.P.G.H school sattenapalli 15 rajini\n",
      "<__main__.school object at 0x00000237B548D990>\n",
      "dharani 1234566 95 90 89 300\n",
      "dharani total percentage  91.33333333333333\n"
     ]
    }
   ],
   "source": [
    "class school:\n",
    "    school_name=\"Z.P.G.H school\"\n",
    "    school_address=\"sattenapalli\"\n",
    "    staff_no=15\n",
    "    sc_principal_name=\"rajini\"\n",
    "stu1=school()    \n",
    "stu1.name=\"dharani\"  \n",
    "stu1.roll_no=1234566\n",
    "stu1.m1=95\n",
    "stu1.m2=90\n",
    "stu1.m3=89\n",
    "stu1.totalmarks=300\n",
    "print(school.school_name,school.school_address,school.staff_no,school.sc_principal_name)\n",
    "print(stu1)\n",
    "print(stu1.name,stu1.roll_no,stu1.m1,stu1.m2,stu1.m3,stu1.totalmarks) \n",
    "per=((stu1.m1+stu1.m2+stu1.m3)/stu1.totalmarks)*100\n",
    "print(f\"{stu1.name} total percentage \",per)\n"
   ]
  },
  {
   "cell_type": "code",
   "execution_count": 12,
   "metadata": {},
   "outputs": [
    {
     "data": {
      "text/plain": [
       "{'name': 'dharani',\n",
       " 'roll_no': 1234566,\n",
       " 'm1': 95,\n",
       " 'm2': 90,\n",
       " 'm3': 89,\n",
       " 'totalmarks': 300}"
      ]
     },
     "execution_count": 12,
     "metadata": {},
     "output_type": "execute_result"
    }
   ],
   "source": [
    "stu1.__dict__"
   ]
  },
  {
   "cell_type": "markdown",
   "metadata": {},
   "source": [
    "EXAMPLE"
   ]
  },
  {
   "cell_type": "code",
   "execution_count": 11,
   "metadata": {},
   "outputs": [
    {
     "name": "stdout",
     "output_type": "stream",
     "text": [
      "Z.P.G.H school sattenapalli 15 rajini\n",
      "Z.P.G.H school sattenapalli 15 rajini dharani 1234566 95 90 89 300\n",
      "dharani total percentage  91.33333333333333\n",
      "<__main__.school object at 0x000001F0B82A67D0>\n",
      "dharani 1234566 95 90 89 300\n"
     ]
    }
   ],
   "source": [
    "class school:\n",
    "    school_name=\"Z.P.G.H school\"\n",
    "    school_address=\"sattenapalli\"\n",
    "    staff_no=15\n",
    "    sc_principal_name=\"rajini\"\n",
    "    print(school_name,school_address,staff_no,sc_principal_name)   # calling inside the class\n",
    "stu1=school()    \n",
    "stu1.name=\"dharani\"  \n",
    "stu1.roll_no=1234566\n",
    "stu1.m1=95\n",
    "stu1.m2=90\n",
    "stu1.m3=89\n",
    "stu1.totalmarks=300\n",
    "print(stu1.school_name,stu1.school_address,stu1.staff_no,stu1.sc_principal_name,stu1.name,stu1.roll_no,stu1.m1,stu1.m2,stu1.m3,stu1.totalmarks)  # calling outside the class\n",
    "per=((stu1.m1+stu1.m2+stu1.m3)/stu1.totalmarks)*100\n",
    "print(f\"{stu1.name} total percentage \",per)\n",
    "print(stu1)\n",
    "print(stu1.name,stu1.roll_no,stu1.m1,stu1.m2,stu1.m3,stu1.totalmarks)  "
   ]
  },
  {
   "cell_type": "code",
   "execution_count": 12,
   "metadata": {},
   "outputs": [
    {
     "name": "stdout",
     "output_type": "stream",
     "text": [
      "Z.P.G.H school sattenapalli 15 rajini usha 1234566 95 90 89 300\n",
      "<__main__.school object at 0x000001F0B82C0CD0>\n",
      "usha 1234566 95 90 89 300\n",
      "usha total percentage 91.33333333333333\n"
     ]
    }
   ],
   "source": [
    "stu2=school()    \n",
    "stu2.name=\"usha\"  \n",
    "stu2.roll_no=1234566\n",
    "stu2.m1=95\n",
    "stu2.m2=90\n",
    "stu2.m3=89\n",
    "stu2.totalmarks=300\n",
    "print(stu2.school_name,stu2.school_address,stu2.staff_no,stu2.sc_principal_name,stu2.name,stu2.roll_no,stu2.m1,stu2.m2,stu2.m3,stu2.totalmarks)\n",
    "per= ((stu2.m1+stu2.m2+stu2.m3)/stu2.totalmarks)*100\n",
    "print(stu2)\n",
    "print(stu2.name,stu2.roll_no,stu2.m1,stu2.m2,stu2.m3,stu2.totalmarks) \n",
    "print(f\"{stu2.name} total percentage\",per) "
   ]
  },
  {
   "cell_type": "code",
   "execution_count": 22,
   "metadata": {},
   "outputs": [
    {
     "name": "stdout",
     "output_type": "stream",
     "text": [
      "Z.P.G.H school sattenapalli 15 rajini\n",
      "Z.P.G.H school sattenapalli 15 rajini usha 1234567 90 98 99 300\n",
      "usha total percentage  95.66666666666667\n",
      "<__main__.school object at 0x000001F0B835D990>\n",
      "usha 1234567 90 98 99 300\n",
      "Z.P.G.H school sattenapalli 15 rajini maneesha 1234568 93 98 95 300\n",
      "maneesha total percentage  95.33333333333334\n",
      "<__main__.school object at 0x000001F0B827D250>\n",
      "maneesha 1234568 93 98 95 300\n"
     ]
    }
   ],
   "source": [
    "class school:\n",
    "    school_name=\"Z.P.G.H school\"\n",
    "    school_address=\"sattenapalli\"\n",
    "    staff_no=15\n",
    "    sc_principal_name=\"rajini\"\n",
    "    print(school_name,school_address,staff_no,sc_principal_name)   # calling inside the class\n",
    "stu1=school()\n",
    "def create_student(obj,name,roll,phone,mark1,mark2,mark3,total):    \n",
    "    obj.name=name \n",
    "    obj.roll_no=roll\n",
    "    obj.phone=phone\n",
    "    obj.m1=mark1\n",
    "    obj.m2=mark2\n",
    "    obj.m3=mark3\n",
    "    obj.totalmarks=total\n",
    "    print(obj.school_name,obj.school_address,obj.staff_no,obj.sc_principal_name,obj.name,obj.roll_no,obj.m1,obj.m2,obj.m3,obj.totalmarks)  # calling outside the class\n",
    "    per=((obj.m1+obj.m2+obj.m3)/obj.totalmarks)*100\n",
    "    print(f\"{obj.name} total percentage \",per)\n",
    "    print(obj)\n",
    "    print(obj.name,obj.roll_no,obj.m1,obj.m2,obj.m3,obj.totalmarks)\n",
    "create_student(stu1,\"usha\",1234567,7075092335,90,98,99,300)\n",
    "\n",
    "stu2=school() \n",
    "create_student(stu2,\"maneesha\",1234568,7075092336,93,98,95,300)\n"
   ]
  },
  {
   "cell_type": "code",
   "execution_count": 35,
   "metadata": {},
   "outputs": [
    {
     "name": "stdout",
     "output_type": "stream",
     "text": [
      "Z.P.G.H school sattenapalli 15 rajini\n",
      "Z.P.G.H school sattenapalli 15 rajini dharani 12345678 98 97 96 300\n",
      "dharani 12345678 98 97 96 300\n",
      "dharani total percentage  97.0\n",
      "Z.P.G.H school sattenapalli 15 rajini usha 123456789 97 95 93 300\n",
      "usha 123456789 97 95 93 300\n",
      "usha total percentage  95.0\n"
     ]
    }
   ],
   "source": [
    "class school:\n",
    "    school_name=\"Z.P.G.H school\"\n",
    "    school_address=\"sattenapalli\"\n",
    "    staff_no=15\n",
    "    sc_principal_name=\"rajini\"\n",
    "    print(school_name,school_address,staff_no,sc_principal_name) \n",
    "    def create_student(obj,name,roll,phone,mark1,mark2,mark3,total):    \n",
    "        obj.name=name \n",
    "        obj.roll_no=roll\n",
    "        obj.phone=phone\n",
    "        obj.m1=mark1\n",
    "        obj.m2=mark2\n",
    "        obj.m3=mark3\n",
    "        obj.totalmarks=total\n",
    "        print(obj.school_name,obj.school_address,obj.staff_no,obj.sc_principal_name,obj.name,obj.roll_no,obj.m1,obj.m2,obj.m3,obj.totalmarks)  # calling outside the class\n",
    "        print(obj.name,obj.roll_no,obj.m1,obj.m2,obj.m3,obj.totalmarks)\n",
    "        per=((obj.m1+obj.m2+obj.m3)/obj.totalmarks)*100\n",
    "        print(f\"{obj.name} total percentage \",per)\n",
    "\n",
    "stu1=school()\n",
    "school.create_student(stu1,\"dharani\",12345678,8328602360,98,97,96,300)\n",
    "\n",
    "stu2=school()\n",
    "school.create_student(stu2,\"usha\",123456789,7075092335,97,95,93,300)\n",
    "\n"
   ]
  },
  {
   "cell_type": "code",
   "execution_count": 36,
   "metadata": {},
   "outputs": [
    {
     "data": {
      "text/plain": [
       "mappingproxy({'__module__': '__main__',\n",
       "              'school_name': 'Z.P.G.H school',\n",
       "              'school_address': 'sattenapalli',\n",
       "              'staff_no': 15,\n",
       "              'sc_principal_name': 'rajini',\n",
       "              'create_student': <function __main__.school.create_student(obj, name, roll, phone, mark1, mark2, mark3, total)>,\n",
       "              '__dict__': <attribute '__dict__' of 'school' objects>,\n",
       "              '__weakref__': <attribute '__weakref__' of 'school' objects>,\n",
       "              '__doc__': None})"
      ]
     },
     "execution_count": 36,
     "metadata": {},
     "output_type": "execute_result"
    }
   ],
   "source": [
    "school.__dict__"
   ]
  },
  {
   "cell_type": "markdown",
   "metadata": {},
   "source": [
    "INHERITENCE :"
   ]
  },
  {
   "cell_type": "code",
   "execution_count": 3,
   "metadata": {},
   "outputs": [],
   "source": [
    "class bank:\n",
    "    bank_name='ICICI'\n",
    "    IFSC='ICICI00123'\n",
    "    address='Mysore'\n",
    "    cust_no=0\n",
    "    cust_details={}\n",
    "    def __init__(self,name,age,bal=500):\n",
    "        self.c_name=name \n",
    "        self.c_age=age\n",
    "        self.c_bal=bal\n",
    "        self.cust_no_inc()\n",
    "        self.acc_no=int('101020'+str(self.cust_no)) \n",
    "        self.cust_details_inc(self.acc_no, self)\n",
    "    @classmethod\n",
    "    def cust_no_inc(cls):\n",
    "       cls.cust_no+=1\n",
    "\n",
    "    @classmethod\n",
    "\n",
    "    def cust_details_inc(cls,key,value): \n",
    "        cls.cust_details[key]=value\n",
    "\n",
    "    def deposit (self):\n",
    "        n=int(input(\"enter the ACC_ID:\"))\n",
    "        if self.acc_no==n:\n",
    "            amount=int(input(\"enter the Amount:\"))\n",
    "            self.c_bal+=amount\n",
    "            print(\"tran is success\")\n",
    "            print(\"Your currenr bal is :\",self.c_bal)\n",
    "        else:\n",
    "            print(\"invalid acc No\")\n",
    "priya=bank('priya',23)            \n"
   ]
  },
  {
   "cell_type": "code",
   "execution_count": 4,
   "metadata": {},
   "outputs": [
    {
     "name": "stdout",
     "output_type": "stream",
     "text": [
      "{'c_name': 'priya', 'c_age': 23, 'c_bal': 500, 'acc_no': 1010201}\n",
      "1\n",
      "{1010201: <__main__.bank object at 0x000002169CEA8B10>}\n"
     ]
    }
   ],
   "source": [
    "print(priya.__dict__)\n",
    "print(bank.cust_no)\n",
    "print(bank.cust_details)"
   ]
  },
  {
   "cell_type": "code",
   "execution_count": 12,
   "metadata": {},
   "outputs": [],
   "source": [
    "class bank_1(bank):\n",
    "    ROI=7\n",
    "    def __init__(self,name,age,email,phone,bal=500):\n",
    "        self.c_name=name\n",
    "        self.c_age=age\n",
    "        self.c_email=email\n",
    "        self.c_phone=phone\n",
    "        self.c_bal=bal\n",
    "        self.cust_no_inc()\n",
    "        self.acc_no=int('101020'+str(self.cust_no))\n",
    "        self.cust_details_inc(self.acc_no,self)\n",
    "    def withdraw(self):\n",
    "        n=int(input(\"enter the ACC_No:\"))\n",
    "        if self.acc_no==n:\n",
    "            amount=int(input(\"enter the amount:\"))\n",
    "            if amount<=self.c_bal-500:\n",
    "                self.c_bal-=amount\n",
    "                print(\"tran is successful\")\n",
    "                print(\"your withdrawl amount:\",amount)\n",
    "                print(\"your current bal is :\",self.c_bal)\n",
    "            else:\n",
    "                print(\"insufficient amount\")    \n",
    "        else:\n",
    "            print(\"invalid account no\")\n",
    "\n",
    "sai=bank_1(\"sai\",24,\"sai@gmail.com\",9988776655)\n"
   ]
  },
  {
   "cell_type": "code",
   "execution_count": 15,
   "metadata": {},
   "outputs": [
    {
     "name": "stdout",
     "output_type": "stream",
     "text": [
      "{'c_name': 'sai', 'c_age': 24, 'c_email': 'sai@gmail.com', 'c_phone': 9988776655, 'c_bal': 500, 'acc_no': 1010202}\n",
      "2\n",
      "{1010201: <__main__.bank_1 object at 0x000002169CEF4290>, 1010202: <__main__.bank_1 object at 0x000002169CEEEA90>}\n",
      "tran is success\n",
      "Your currenr bal is : 8500\n"
     ]
    }
   ],
   "source": [
    "print(sai.__dict__)\n",
    "print(bank_1.cust_no)\n",
    "print(bank_1.cust_details)\n",
    "sai.deposit()"
   ]
  },
  {
   "cell_type": "code",
   "execution_count": 16,
   "metadata": {},
   "outputs": [
    {
     "name": "stdout",
     "output_type": "stream",
     "text": [
      "{'c_name': 'sai', 'c_age': 24, 'c_email': 'sai@gmail.com', 'c_phone': 9988776655, 'c_bal': 8500, 'acc_no': 1010202}\n",
      "tran is successful\n",
      "your withdrawl amount: 2000\n",
      "your current bal is : 6500\n"
     ]
    }
   ],
   "source": [
    "print(sai.__dict__)\n",
    "sai.withdraw()"
   ]
  },
  {
   "cell_type": "code",
   "execution_count": 17,
   "metadata": {},
   "outputs": [
    {
     "ename": "AttributeError",
     "evalue": "'bank' object has no attribute 'withdraw'",
     "output_type": "error",
     "traceback": [
      "\u001b[1;31m---------------------------------------------------------------------------\u001b[0m",
      "\u001b[1;31mAttributeError\u001b[0m                            Traceback (most recent call last)",
      "Cell \u001b[1;32mIn[17], line 1\u001b[0m\n\u001b[1;32m----> 1\u001b[0m priya\u001b[39m.\u001b[39;49mwithdraw()\n",
      "\u001b[1;31mAttributeError\u001b[0m: 'bank' object has no attribute 'withdraw'"
     ]
    }
   ],
   "source": [
    "priya.withdraw()"
   ]
  },
  {
   "cell_type": "code",
   "execution_count": 22,
   "metadata": {},
   "outputs": [],
   "source": [
    "class bank:\n",
    "    bank_name='ICICI'\n",
    "    IFSC='ICICI00123'\n",
    "    address='Mysore'\n",
    "    cust_no=0\n",
    "    cust_details={}\n",
    "    def __init__(self,name,age,bal=500):\n",
    "        self.c_name=name \n",
    "        self.c_age=age\n",
    "        self.c_bal=bal\n",
    "        self.cust_no_inc()\n",
    "        self.acc_no=int('101020'+str(self.cust_no)) \n",
    "        self.cust_details_inc(self.acc_no, self)\n",
    "    @classmethod\n",
    "    def cust_no_inc(cls):\n",
    "       cls.cust_no+=1\n",
    "\n",
    "    @classmethod\n",
    "\n",
    "    def cust_details_inc(cls,key,value): \n",
    "        cls.cust_details[key]=value\n",
    "\n",
    "    def deposit (self):\n",
    "        n=int(input(\"enter the ACC_ID:\"))\n",
    "        if self.acc_no==n:\n",
    "            amount=int(input(\"enter the Amount:\"))\n",
    "            self.c_bal+=amount\n",
    "            print(\"tran is success\")\n",
    "            print(\"Your currenr bal is :\",self.c_bal)\n",
    "        else:\n",
    "            print(\"invalid acc No\")\n",
    "priya=bank('priya',23)  \n",
    "\n",
    "class bank_1(bank):\n",
    "    ROI=7\n",
    "    def __init__(self,name,age,email,phone,bal=500):\n",
    "        # bank.__init__(self,name,age,bal)\n",
    "        # super().__init__(name,age,bal)\n",
    "        super(bank_1,self).__init__(name,age,bal)\n",
    "        self.c_email=email\n",
    "        self.c_phone=phone\n",
    "        self.c_bal=bal\n",
    "        self.cust_no_inc()\n",
    "        self.acc_no=int('101020'+str(self.cust_no))\n",
    "        self.cust_details_inc(self.acc_no,self)\n",
    "    def withdraw(self):\n",
    "        n=int(input(\"enter the ACC_No:\"))\n",
    "        if self.acc_no==n:\n",
    "            amount=int(input(\"enter the amount:\"))\n",
    "            if amount<=self.c_bal-500:\n",
    "                self.c_bal-=amount\n",
    "                print(\"tran is successful\")\n",
    "                print(\"your withdrawl amount:\",amount)\n",
    "                print(\"your current bal is :\",self.c_bal)\n",
    "            else:\n",
    "                print(\"insufficient amount\")    \n",
    "        else:\n",
    "            print(\"invalid account no\")\n",
    "\n",
    "sai=bank_1(\"sai\",24,\"sai@gmail.com\",9988776655)\n",
    "\n",
    "    "
   ]
  },
  {
   "cell_type": "code",
   "execution_count": 23,
   "metadata": {},
   "outputs": [
    {
     "data": {
      "text/plain": [
       "{'c_name': 'sai',\n",
       " 'c_age': 24,\n",
       " 'c_bal': 500,\n",
       " 'acc_no': 1010203,\n",
       " 'c_email': 'sai@gmail.com',\n",
       " 'c_phone': 9988776655}"
      ]
     },
     "execution_count": 23,
     "metadata": {},
     "output_type": "execute_result"
    }
   ],
   "source": [
    "sai.__dict__"
   ]
  },
  {
   "cell_type": "markdown",
   "metadata": {},
   "source": [
    "MULTILEVEL INHERITANCE\n",
    "\n",
    "* It is a phenomenon of deriving the properties from parent class to child class and child class to sub child class.\n",
    "\n",
    "FLOWCHART:\n",
    "\n",
    "class A           x properties                   x\n",
    "class B           y properties                   y\n",
    "class c           z properties                   z\n",
    "\n",
    "SYNTAX :\n",
    "\n",
    "class A :\n",
    "   pass\n",
    "class B(A):\n",
    "   pass\n",
    "class C(B):\n",
    "   pass      "
   ]
  },
  {
   "cell_type": "code",
   "execution_count": 29,
   "metadata": {},
   "outputs": [
    {
     "name": "stdout",
     "output_type": "stream",
     "text": [
      "parent\n",
      "parent\n",
      "parent\n"
     ]
    }
   ],
   "source": [
    "# multilevel inheritance\n",
    "\n",
    "class ver1:\n",
    "    a=10\n",
    "    def __init__(self):\n",
    "        print(\"parent\")\n",
    "    def display(self):\n",
    "        print(\"parent class\",self.a)\n",
    "v1=ver1()\n",
    "\n",
    "class ver2(ver1):\n",
    "    b=20\n",
    "    def display(self):\n",
    "        print(\"child class\",self.a,self.b)\n",
    "v2=ver2()\n",
    "\n",
    "class ver3(ver2):\n",
    "    c=30\n",
    "    def display(self):\n",
    "        print(\"sub child class\",self.a,self.b,self.c)\n",
    "v3=ver3()        "
   ]
  },
  {
   "cell_type": "code",
   "execution_count": 30,
   "metadata": {},
   "outputs": [
    {
     "name": "stdout",
     "output_type": "stream",
     "text": [
      "10 10 10\n",
      "20 20\n",
      "30\n"
     ]
    }
   ],
   "source": [
    "print(v1.a,v2.a,v3.a)\n",
    "print(v2.b,v2.b)\n",
    "print(v3.c)"
   ]
  },
  {
   "cell_type": "code",
   "execution_count": 32,
   "metadata": {},
   "outputs": [
    {
     "name": "stdout",
     "output_type": "stream",
     "text": [
      "parent class 10\n"
     ]
    }
   ],
   "source": [
    "v1.display()"
   ]
  },
  {
   "cell_type": "code",
   "execution_count": 33,
   "metadata": {},
   "outputs": [
    {
     "name": "stdout",
     "output_type": "stream",
     "text": [
      "child class 10 20\n"
     ]
    }
   ],
   "source": [
    "v2.display()"
   ]
  },
  {
   "cell_type": "code",
   "execution_count": 34,
   "metadata": {},
   "outputs": [
    {
     "name": "stdout",
     "output_type": "stream",
     "text": [
      "sub child class 10 20 30\n"
     ]
    }
   ],
   "source": [
    "v3.display()"
   ]
  },
  {
   "cell_type": "code",
   "execution_count": 35,
   "metadata": {},
   "outputs": [
    {
     "name": "stdout",
     "output_type": "stream",
     "text": [
      "parent\n",
      "parent\n",
      "parent\n"
     ]
    }
   ],
   "source": [
    "# METHOD CHAINING\n",
    "\n",
    "class ver1:\n",
    "    a=10\n",
    "    def __init__(self):\n",
    "        print(\"parent\")\n",
    "    def display(self):\n",
    "        print(\"parent class\",self.a)\n",
    "v1=ver1()\n",
    "\n",
    "class ver2(ver1):\n",
    "    b=20\n",
    "    def display(self):\n",
    "        super().display()\n",
    "        print(\"child class\",self.b)\n",
    "v2=ver2()\n",
    "\n",
    "class ver3(ver2):\n",
    "    c=30\n",
    "    def display(self):\n",
    "        super().display()\n",
    "        print(\"sub child class\",self.c)\n",
    "v3=ver3()        "
   ]
  },
  {
   "cell_type": "code",
   "execution_count": 36,
   "metadata": {},
   "outputs": [
    {
     "name": "stdout",
     "output_type": "stream",
     "text": [
      "parent class 10\n"
     ]
    }
   ],
   "source": [
    "v1.display()"
   ]
  },
  {
   "cell_type": "code",
   "execution_count": 37,
   "metadata": {},
   "outputs": [
    {
     "name": "stdout",
     "output_type": "stream",
     "text": [
      "parent class 10\n",
      "child class 20\n"
     ]
    }
   ],
   "source": [
    "v2.display()"
   ]
  },
  {
   "cell_type": "code",
   "execution_count": 39,
   "metadata": {},
   "outputs": [
    {
     "name": "stdout",
     "output_type": "stream",
     "text": [
      "parent class 10\n",
      "child class 20\n",
      "sub child class 30\n"
     ]
    }
   ],
   "source": [
    "v3.display()"
   ]
  }
 ],
 "metadata": {
  "kernelspec": {
   "display_name": "Python 3",
   "language": "python",
   "name": "python3"
  },
  "language_info": {
   "codemirror_mode": {
    "name": "ipython",
    "version": 3
   },
   "file_extension": ".py",
   "mimetype": "text/x-python",
   "name": "python",
   "nbconvert_exporter": "python",
   "pygments_lexer": "ipython3",
   "version": "3.11.3"
  },
  "orig_nbformat": 4
 },
 "nbformat": 4,
 "nbformat_minor": 2
}
