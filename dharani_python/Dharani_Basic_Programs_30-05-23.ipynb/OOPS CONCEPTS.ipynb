{
 "cells": [
  {
   "cell_type": "code",
   "execution_count": 1,
   "metadata": {},
   "outputs": [],
   "source": [
    "class college:\n",
    "    pass"
   ]
  },
  {
   "cell_type": "code",
   "execution_count": 2,
   "metadata": {},
   "outputs": [
    {
     "data": {
      "text/plain": [
       "__main__.college"
      ]
     },
     "execution_count": 2,
     "metadata": {},
     "output_type": "execute_result"
    }
   ],
   "source": [
    "college"
   ]
  },
  {
   "cell_type": "code",
   "execution_count": 3,
   "metadata": {},
   "outputs": [
    {
     "name": "stdout",
     "output_type": "stream",
     "text": [
      "<class '__main__.college'>\n"
     ]
    }
   ],
   "source": [
    "print(college)"
   ]
  },
  {
   "cell_type": "code",
   "execution_count": 4,
   "metadata": {},
   "outputs": [
    {
     "data": {
      "text/plain": [
       "mappingproxy({'__module__': '__main__',\n",
       "              '__dict__': <attribute '__dict__' of 'college' objects>,\n",
       "              '__weakref__': <attribute '__weakref__' of 'college' objects>,\n",
       "              '__doc__': None})"
      ]
     },
     "execution_count": 4,
     "metadata": {},
     "output_type": "execute_result"
    }
   ],
   "source": [
    "college.__dict__"
   ]
  },
  {
   "cell_type": "code",
   "execution_count": 22,
   "metadata": {},
   "outputs": [
    {
     "name": "stdout",
     "output_type": "stream",
     "text": [
      "pyspiders hyd www.PYSPIDERS.com 9988776655\n"
     ]
    }
   ],
   "source": [
    "class college:                        # ACCESSING THE CLASS VARIABLES INSIDE THE CLASS\n",
    "    clg_name=\"pyspiders\"\n",
    "    address=\"hyd\"\n",
    "    website=\"www.PYSPIDERS.com\"\n",
    "    phone=9988776655\n",
    "    print(clg_name,address,website,phone)"
   ]
  },
  {
   "cell_type": "code",
   "execution_count": 23,
   "metadata": {},
   "outputs": [
    {
     "ename": "NameError",
     "evalue": "name 'clg_name' is not defined",
     "output_type": "error",
     "traceback": [
      "\u001b[1;31m---------------------------------------------------------------------------\u001b[0m",
      "\u001b[1;31mNameError\u001b[0m                                 Traceback (most recent call last)",
      "Cell \u001b[1;32mIn[23], line 6\u001b[0m\n\u001b[0;32m      4\u001b[0m     website\u001b[39m=\u001b[39m\u001b[39m\"\u001b[39m\u001b[39mwww.PYSPIDERS.com\u001b[39m\u001b[39m\"\u001b[39m\n\u001b[0;32m      5\u001b[0m     phone\u001b[39m=\u001b[39m\u001b[39m9988776655\u001b[39m\n\u001b[1;32m----> 6\u001b[0m \u001b[39mprint\u001b[39m(clg_name,address,website,phone)\n",
      "\u001b[1;31mNameError\u001b[0m: name 'clg_name' is not defined"
     ]
    }
   ],
   "source": [
    "class college:\n",
    "    clg_name=\"pyspiders\"\n",
    "    address=\"hyd\"\n",
    "    website=\"www.PYSPIDERS.com\"\n",
    "    phone=9988776655\n",
    "print(clg_name,address,website,phone)"
   ]
  },
  {
   "cell_type": "code",
   "execution_count": 24,
   "metadata": {},
   "outputs": [
    {
     "name": "stdout",
     "output_type": "stream",
     "text": [
      "pyspiders hyd www.PYSPIDERS.com 9988776655\n"
     ]
    }
   ],
   "source": [
    "class college:                    # ACCESSING THE CLASS VARIABLES OUTSIDE THE CLASS\n",
    "    clg_name=\"pyspiders\"\n",
    "    address=\"hyd\"\n",
    "    website=\"www.PYSPIDERS.com\"\n",
    "    phone=9988776655\n",
    "    print(college.clg_name,college.address,college.website,college.phone)"
   ]
  },
  {
   "cell_type": "code",
   "execution_count": 25,
   "metadata": {},
   "outputs": [
    {
     "name": "stdout",
     "output_type": "stream",
     "text": [
      "pyspiders hyd www.PYSPIDERS.com 9988776655\n"
     ]
    },
    {
     "ename": "AttributeError",
     "evalue": "type object 'college' has no attribute 'staff'",
     "output_type": "error",
     "traceback": [
      "\u001b[1;31m---------------------------------------------------------------------------\u001b[0m",
      "\u001b[1;31mAttributeError\u001b[0m                            Traceback (most recent call last)",
      "Cell \u001b[1;32mIn[25], line 1\u001b[0m\n\u001b[1;32m----> 1\u001b[0m \u001b[39mclass\u001b[39;49;00m \u001b[39mcollege\u001b[39;49;00m:\n\u001b[0;32m      2\u001b[0m     clg_name\u001b[39m=\u001b[39;49m\u001b[39m\"\u001b[39;49m\u001b[39mpyspiders\u001b[39;49m\u001b[39m\"\u001b[39;49m\n\u001b[0;32m      3\u001b[0m     address\u001b[39m=\u001b[39;49m\u001b[39m\"\u001b[39;49m\u001b[39mhyd\u001b[39;49m\u001b[39m\"\u001b[39;49m\n",
      "Cell \u001b[1;32mIn[25], line 7\u001b[0m, in \u001b[0;36mcollege\u001b[1;34m()\u001b[0m\n\u001b[0;32m      5\u001b[0m phone\u001b[39m=\u001b[39m\u001b[39m9988776655\u001b[39m\n\u001b[0;32m      6\u001b[0m \u001b[39mprint\u001b[39m(college\u001b[39m.\u001b[39mclg_name,college\u001b[39m.\u001b[39maddress,college\u001b[39m.\u001b[39mwebsite,college\u001b[39m.\u001b[39mphone)\n\u001b[1;32m----> 7\u001b[0m \u001b[39mprint\u001b[39m(college\u001b[39m.\u001b[39;49mstaff)\n",
      "\u001b[1;31mAttributeError\u001b[0m: type object 'college' has no attribute 'staff'"
     ]
    }
   ],
   "source": [
    "class college:\n",
    "    clg_name=\"pyspiders\"\n",
    "    address=\"hyd\"\n",
    "    website=\"www.PYSPIDERS.com\"\n",
    "    phone=9988776655\n",
    "    print(college.clg_name,college.address,college.website,college.phone)\n",
    "    print(college.staff)"
   ]
  },
  {
   "cell_type": "code",
   "execution_count": 48,
   "metadata": {},
   "outputs": [
    {
     "name": "stdout",
     "output_type": "stream",
     "text": [
      "pyspiders hyd\n",
      "<__main__.college object at 0x000001A07C7E7450>\n",
      "pyspiders hyd\n",
      "pyspiders hyd\n"
     ]
    }
   ],
   "source": [
    "class college:\n",
    "    clg_name=\"pyspiders\"\n",
    "    address=\"hyd\"\n",
    "    print(clg_name,address)  # accssing the class variables inside the class\n",
    "res=college()# object creation for the college class\n",
    "print(res)\n",
    "print(college.clg_name,college.address) # accessing the class variables out side of the class by using class address\n",
    "print(res.clg_name,res.address)  # accessing the class variable out side of the class by using object address "
   ]
  },
  {
   "cell_type": "code",
   "execution_count": 49,
   "metadata": {},
   "outputs": [
    {
     "data": {
      "text/plain": [
       "mappingproxy({'__module__': '__main__',\n",
       "              'clg_name': 'pyspiders',\n",
       "              'address': 'hyd',\n",
       "              '__dict__': <attribute '__dict__' of 'college' objects>,\n",
       "              '__weakref__': <attribute '__weakref__' of 'college' objects>,\n",
       "              '__doc__': None})"
      ]
     },
     "execution_count": 49,
     "metadata": {},
     "output_type": "execute_result"
    }
   ],
   "source": [
    "college.__dict__"
   ]
  },
  {
   "cell_type": "code",
   "execution_count": 50,
   "metadata": {},
   "outputs": [
    {
     "data": {
      "text/plain": [
       "{}"
      ]
     },
     "execution_count": 50,
     "metadata": {},
     "output_type": "execute_result"
    }
   ],
   "source": [
    "res.__dict__"
   ]
  },
  {
   "cell_type": "markdown",
   "metadata": {},
   "source": [
    "EXERCISE\n",
    "\n",
    "* create a class customer with the fields cust id,cust_name,cust_address,display the customer details by using class address.\n",
    "  (out side of the class) and display the customer details by using object address\n",
    "\n",
    "EXERCISE\n",
    "\n",
    "* create a class bank with the fields bank_code,bank_name,bank_address and etc.\n",
    "     (minimum six class attributes should be there)\n",
    "  display the bank details.(inside of the class)\n",
    "  display the bank details by using object address.   "
   ]
  }
 ],
 "metadata": {
  "kernelspec": {
   "display_name": "Python 3",
   "language": "python",
   "name": "python3"
  },
  "language_info": {
   "codemirror_mode": {
    "name": "ipython",
    "version": 3
   },
   "file_extension": ".py",
   "mimetype": "text/x-python",
   "name": "python",
   "nbconvert_exporter": "python",
   "pygments_lexer": "ipython3",
   "version": "3.11.3"
  },
  "orig_nbformat": 4
 },
 "nbformat": 4,
 "nbformat_minor": 2
}
