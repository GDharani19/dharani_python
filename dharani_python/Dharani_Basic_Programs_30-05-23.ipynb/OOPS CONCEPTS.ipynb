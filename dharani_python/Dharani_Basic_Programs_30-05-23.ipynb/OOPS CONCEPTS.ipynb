{
 "cells": [
  {
   "cell_type": "code",
   "execution_count": 2,
   "metadata": {},
   "outputs": [],
   "source": [
    "class college:\n",
    "    pass"
   ]
  },
  {
   "cell_type": "code",
   "execution_count": 3,
   "metadata": {},
   "outputs": [
    {
     "data": {
      "text/plain": [
       "__main__.college"
      ]
     },
     "execution_count": 3,
     "metadata": {},
     "output_type": "execute_result"
    }
   ],
   "source": [
    "college"
   ]
  },
  {
   "cell_type": "code",
   "execution_count": 5,
   "metadata": {},
   "outputs": [
    {
     "name": "stdout",
     "output_type": "stream",
     "text": [
      "<class '__main__.college'>\n"
     ]
    }
   ],
   "source": [
    "print(college)"
   ]
  },
  {
   "cell_type": "code",
   "execution_count": 6,
   "metadata": {},
   "outputs": [
    {
     "data": {
      "text/plain": [
       "mappingproxy({'__module__': '__main__',\n",
       "              '__dict__': <attribute '__dict__' of 'college' objects>,\n",
       "              '__weakref__': <attribute '__weakref__' of 'college' objects>,\n",
       "              '__doc__': None})"
      ]
     },
     "execution_count": 6,
     "metadata": {},
     "output_type": "execute_result"
    }
   ],
   "source": [
    "college.__dict__"
   ]
  },
  {
   "cell_type": "code",
   "execution_count": 7,
   "metadata": {},
   "outputs": [
    {
     "name": "stdout",
     "output_type": "stream",
     "text": [
      "pyspiders hyd www.PYSPIDERS.com 9988776655\n"
     ]
    }
   ],
   "source": [
    "class college:                        # ACCESSING THE CLASS VARIABLES INSIDE THE CLASS\n",
    "    clg_name=\"pyspiders\"\n",
    "    address=\"hyd\"\n",
    "    website=\"www.PYSPIDERS.com\"\n",
    "    phone=9988776655\n",
    "    print(clg_name,address,website,phone)"
   ]
  },
  {
   "cell_type": "code",
   "execution_count": 8,
   "metadata": {},
   "outputs": [
    {
     "ename": "NameError",
     "evalue": "name 'clg_name' is not defined",
     "output_type": "error",
     "traceback": [
      "\u001b[1;31m---------------------------------------------------------------------------\u001b[0m",
      "\u001b[1;31mNameError\u001b[0m                                 Traceback (most recent call last)",
      "Cell \u001b[1;32mIn[8], line 6\u001b[0m\n\u001b[0;32m      4\u001b[0m     website\u001b[39m=\u001b[39m\u001b[39m\"\u001b[39m\u001b[39mwww.PYSPIDERS.com\u001b[39m\u001b[39m\"\u001b[39m\n\u001b[0;32m      5\u001b[0m     phone\u001b[39m=\u001b[39m\u001b[39m9988776655\u001b[39m\n\u001b[1;32m----> 6\u001b[0m \u001b[39mprint\u001b[39m(clg_name,address,website,phone)\n",
      "\u001b[1;31mNameError\u001b[0m: name 'clg_name' is not defined"
     ]
    }
   ],
   "source": [
    "class college:\n",
    "    clg_name=\"pyspiders\"\n",
    "    address=\"hyd\"\n",
    "    website=\"www.PYSPIDERS.com\"\n",
    "    phone=9988776655\n",
    "print(clg_name,address,website,phone)"
   ]
  },
  {
   "cell_type": "code",
   "execution_count": 9,
   "metadata": {},
   "outputs": [
    {
     "name": "stdout",
     "output_type": "stream",
     "text": [
      "pyspiders hyd www.PYSPIDERS.com 9988776655\n"
     ]
    }
   ],
   "source": [
    "class college:                    # ACCESSING THE CLASS VARIABLES OUTSIDE THE CLASS\n",
    "    clg_name=\"pyspiders\"\n",
    "    address=\"hyd\"\n",
    "    website=\"www.PYSPIDERS.com\"\n",
    "    phone=9988776655\n",
    "    print(college.clg_name,college.address,college.website,college.phone)"
   ]
  },
  {
   "cell_type": "code",
   "execution_count": 10,
   "metadata": {},
   "outputs": [
    {
     "name": "stdout",
     "output_type": "stream",
     "text": [
      "pyspiders hyd www.PYSPIDERS.com 9988776655\n"
     ]
    },
    {
     "ename": "AttributeError",
     "evalue": "type object 'college' has no attribute 'staff'",
     "output_type": "error",
     "traceback": [
      "\u001b[1;31m---------------------------------------------------------------------------\u001b[0m",
      "\u001b[1;31mAttributeError\u001b[0m                            Traceback (most recent call last)",
      "Cell \u001b[1;32mIn[10], line 1\u001b[0m\n\u001b[1;32m----> 1\u001b[0m \u001b[39mclass\u001b[39;49;00m \u001b[39mcollege\u001b[39;49;00m:\n\u001b[0;32m      2\u001b[0m     clg_name\u001b[39m=\u001b[39;49m\u001b[39m\"\u001b[39;49m\u001b[39mpyspiders\u001b[39;49m\u001b[39m\"\u001b[39;49m\n\u001b[0;32m      3\u001b[0m     address\u001b[39m=\u001b[39;49m\u001b[39m\"\u001b[39;49m\u001b[39mhyd\u001b[39;49m\u001b[39m\"\u001b[39;49m\n",
      "Cell \u001b[1;32mIn[10], line 7\u001b[0m, in \u001b[0;36mcollege\u001b[1;34m()\u001b[0m\n\u001b[0;32m      5\u001b[0m phone\u001b[39m=\u001b[39m\u001b[39m9988776655\u001b[39m\n\u001b[0;32m      6\u001b[0m \u001b[39mprint\u001b[39m(college\u001b[39m.\u001b[39mclg_name,college\u001b[39m.\u001b[39maddress,college\u001b[39m.\u001b[39mwebsite,college\u001b[39m.\u001b[39mphone)\n\u001b[1;32m----> 7\u001b[0m \u001b[39mprint\u001b[39m(college\u001b[39m.\u001b[39;49mstaff)\n",
      "\u001b[1;31mAttributeError\u001b[0m: type object 'college' has no attribute 'staff'"
     ]
    }
   ],
   "source": [
    "class college:\n",
    "    clg_name=\"pyspiders\"\n",
    "    address=\"hyd\"\n",
    "    website=\"www.PYSPIDERS.com\"\n",
    "    phone=9988776655\n",
    "    print(college.clg_name,college.address,college.website,college.phone)\n",
    "    print(college.staff)"
   ]
  },
  {
   "cell_type": "code",
   "execution_count": 11,
   "metadata": {},
   "outputs": [
    {
     "name": "stdout",
     "output_type": "stream",
     "text": [
      "pyspiders hyd\n",
      "<__main__.college object at 0x000002857D3B9490>\n",
      "pyspiders hyd\n",
      "pyspiders hyd\n"
     ]
    }
   ],
   "source": [
    "class college:\n",
    "    clg_name=\"pyspiders\"\n",
    "    address=\"hyd\"\n",
    "    print(clg_name,address)  # accssing the class variables inside the class\n",
    "res=college()# object creation for the college class or Instance memory creation\n",
    "print(res)\n",
    "print(college.clg_name,college.address) # accessing the class variables out side of the class by using class address\n",
    "print(res.clg_name,res.address)  # accessing the class variable out side of the class by using object address "
   ]
  },
  {
   "cell_type": "code",
   "execution_count": 12,
   "metadata": {},
   "outputs": [
    {
     "data": {
      "text/plain": [
       "mappingproxy({'__module__': '__main__',\n",
       "              'clg_name': 'pyspiders',\n",
       "              'address': 'hyd',\n",
       "              '__dict__': <attribute '__dict__' of 'college' objects>,\n",
       "              '__weakref__': <attribute '__weakref__' of 'college' objects>,\n",
       "              '__doc__': None})"
      ]
     },
     "execution_count": 12,
     "metadata": {},
     "output_type": "execute_result"
    }
   ],
   "source": [
    "college.__dict__"
   ]
  },
  {
   "cell_type": "code",
   "execution_count": 13,
   "metadata": {},
   "outputs": [
    {
     "data": {
      "text/plain": [
       "{}"
      ]
     },
     "execution_count": 13,
     "metadata": {},
     "output_type": "execute_result"
    }
   ],
   "source": [
    "res.__dict__"
   ]
  },
  {
   "cell_type": "markdown",
   "metadata": {},
   "source": [
    "EXERCISE\n",
    "\n",
    "* create a class customer with the fields cust id,cust_name,cust_address,display the customer details by using class address.\n",
    "  (out side of the class) and display the customer details by using object address\n",
    "\n",
    "EXERCISE\n",
    "\n",
    "* create a class bank with the fields bank_code,bank_name,bank_address and etc.\n",
    "     (minimum six class attributes should be there)\n",
    "  display the bank details.(inside of the class)\n",
    "  display the bank details by using object address.   "
   ]
  },
  {
   "cell_type": "code",
   "execution_count": 14,
   "metadata": {},
   "outputs": [
    {
     "name": "stdout",
     "output_type": "stream",
     "text": [
      "123456 Dharani sattenapalli\n",
      "<__main__.customer object at 0x000002857B8E1010>\n",
      "123456 Dharani sattenapalli\n"
     ]
    }
   ],
   "source": [
    "class customer:\n",
    "    cust_id=123456\n",
    "    cust_name=\"Dharani\"   \n",
    "    cust_address=\"sattenapalli\"\n",
    "    print(cust_id,cust_name,cust_address)\n",
    "res=customer()\n",
    "print(res)\n",
    "print(customer.cust_id,customer.cust_name,customer.cust_address)    "
   ]
  },
  {
   "cell_type": "code",
   "execution_count": 15,
   "metadata": {},
   "outputs": [
    {
     "name": "stdout",
     "output_type": "stream",
     "text": [
      "andhra bank ANDH1234 sattenapalli usha harika vinay\n",
      "<__main__.bank object at 0x000002857D3F04D0>\n",
      "andhra bank ANDH1234 sattenapalli usha harika vinay\n"
     ]
    }
   ],
   "source": [
    "class bank:\n",
    "    bank_name=\"andhra bank\"\n",
    "    bank_code=\"ANDH1234\"\n",
    "    bank_address=\"sattenapalli\"\n",
    "    bank_manager=\"usha\"\n",
    "    field_officer=\"harika\"\n",
    "    bank_cashier=\"vinay\"\n",
    "    print(bank_name,bank_code,bank_address,bank_manager,field_officer,bank_cashier)\n",
    "res=bank()\n",
    "print(res)\n",
    "print(bank.bank_name,bank.bank_code,bank.bank_address,bank.bank_manager,bank.field_officer,bank.bank_cashier)    \n",
    "    \n"
   ]
  },
  {
   "cell_type": "markdown",
   "metadata": {},
   "source": [
    "OBJECT \n",
    "\n",
    "* an object is a variable of type class,object is an instance of a class.\n",
    "* class will be specify what to store and what to do , whereas the object will store what is specified by the class and does what it said \n",
    "  object in real world entity.\n",
    "\n",
    "SYNTAX\n",
    "\n",
    "      object_name=class_name(arguments)\n",
    "\n",
    "* arguments are nothing but the data that we wanted to store it inside the object memory (sometimes arguments are not mandatory)\n",
    "* when we create an object after execution of the program , as soon as the control reaches the object creation statement then it \n",
    "  creates the dictionary memory in the value space.    "
   ]
  },
  {
   "cell_type": "code",
   "execution_count": 16,
   "metadata": {},
   "outputs": [],
   "source": [
    "class sample:   # class definition class /generic/static states\n",
    "    x=10        # class state initializaion\n",
    "    y=20\n",
    "obj=sample()      # object creation   object/specific/non static states\n",
    "obj.m=100         # object state initialization\n",
    "obj.n=200\n"
   ]
  },
  {
   "cell_type": "code",
   "execution_count": 17,
   "metadata": {},
   "outputs": [
    {
     "name": "stdout",
     "output_type": "stream",
     "text": [
      "<class '__main__.sample'>\n",
      "{'__module__': '__main__', 'x': 10, 'y': 20, '__dict__': <attribute '__dict__' of 'sample' objects>, '__weakref__': <attribute '__weakref__' of 'sample' objects>, '__doc__': None}\n",
      "10 20\n"
     ]
    }
   ],
   "source": [
    "print(sample)\n",
    "print(sample.__dict__)\n",
    "sample.__dict__\n",
    "print(sample.x,sample.y)"
   ]
  },
  {
   "cell_type": "code",
   "execution_count": 18,
   "metadata": {},
   "outputs": [
    {
     "data": {
      "text/plain": [
       "mappingproxy({'__module__': '__main__',\n",
       "              'x': 10,\n",
       "              'y': 20,\n",
       "              '__dict__': <attribute '__dict__' of 'sample' objects>,\n",
       "              '__weakref__': <attribute '__weakref__' of 'sample' objects>,\n",
       "              '__doc__': None})"
      ]
     },
     "execution_count": 18,
     "metadata": {},
     "output_type": "execute_result"
    }
   ],
   "source": [
    "sample.__dict__"
   ]
  },
  {
   "cell_type": "code",
   "execution_count": 19,
   "metadata": {},
   "outputs": [
    {
     "data": {
      "text/plain": [
       "{'m': 100, 'n': 200}"
      ]
     },
     "execution_count": 19,
     "metadata": {},
     "output_type": "execute_result"
    }
   ],
   "source": [
    "obj.__dict__"
   ]
  },
  {
   "cell_type": "code",
   "execution_count": 20,
   "metadata": {},
   "outputs": [
    {
     "name": "stdout",
     "output_type": "stream",
     "text": [
      "<class '__main__.sample'>\n",
      "{'__module__': '__main__', 'x': 10, 'y': 20, '__dict__': <attribute '__dict__' of 'sample' objects>, '__weakref__': <attribute '__weakref__' of 'sample' objects>, '__doc__': None}\n",
      "100 200 10 20\n"
     ]
    }
   ],
   "source": [
    "print(sample)\n",
    "print(sample.__dict__)\n",
    "print(obj.m,obj.n,obj.x,obj.y)"
   ]
  },
  {
   "cell_type": "code",
   "execution_count": 21,
   "metadata": {},
   "outputs": [
    {
     "name": "stdout",
     "output_type": "stream",
     "text": [
      "<__main__.sample object at 0x000002857D3F0190>\n",
      "{'m': 100, 'n': 200}\n",
      "100 200 10 20\n"
     ]
    }
   ],
   "source": [
    "print(obj)\n",
    "print(obj.__dict__)\n",
    "print(obj.m,obj.n,obj.x,obj.y)"
   ]
  },
  {
   "cell_type": "markdown",
   "metadata": {},
   "source": [
    "GENERIC/CLASS STATE FUNCTIONALITIES :\n",
    "\n",
    "INITIALIZATION :\n",
    "--------------\n",
    "SYNTAX:\n",
    "------        class_address/name.variable name=new value\n",
    "\n",
    "FETCH :\n",
    "-----\n",
    "SYNTAX :\n",
    "------         class_address.variable name\n",
    "\n",
    "REINITIALIZATION :\n",
    "-----------------\n",
    "SYNTAX :\n",
    "------          class_address.variable name=new value\n",
    "                                 |\n",
    "                                 |\n",
    "                         existing variable\n",
    "\n",
    "DELETION :\n",
    "--------\n",
    "SYNTAX :\n",
    "------         del class_address.variablename\n",
    "\n",
    "                         "
   ]
  },
  {
   "cell_type": "code",
   "execution_count": 22,
   "metadata": {},
   "outputs": [
    {
     "name": "stdout",
     "output_type": "stream",
     "text": [
      "['a']\n",
      "{'a': 10}\n"
     ]
    },
    {
     "ename": "AttributeError",
     "evalue": "type object 'demo' has no attribute 'y'",
     "output_type": "error",
     "traceback": [
      "\u001b[1;31m---------------------------------------------------------------------------\u001b[0m",
      "\u001b[1;31mAttributeError\u001b[0m                            Traceback (most recent call last)",
      "Cell \u001b[1;32mIn[22], line 17\u001b[0m\n\u001b[0;32m     15\u001b[0m \u001b[39mdel\u001b[39;00m demo\u001b[39m.\u001b[39my\n\u001b[0;32m     16\u001b[0m \u001b[39m# Fetch           o/p:error\u001b[39;00m\n\u001b[1;32m---> 17\u001b[0m \u001b[39mprint\u001b[39m(demo\u001b[39m.\u001b[39;49my)\n",
      "\u001b[1;31mAttributeError\u001b[0m: type object 'demo' has no attribute 'y'"
     ]
    }
   ],
   "source": [
    "# FUNCTION CALLING OUTSIDE THE CLASS\n",
    "\n",
    "class demo:\n",
    "    x=10\n",
    "\n",
    "# initialization\n",
    "demo.y=['a']  \n",
    "# Fetch         o/p:['a']\n",
    "print(demo.y)\n",
    "# Re initialization\n",
    "demo.y={'a':10}\n",
    "# Fetch\n",
    "print(demo.y)   # o/p:{'a':10}\n",
    "# Delete\n",
    "del demo.y\n",
    "# Fetch           o/p:error\n",
    "print(demo.y)\n",
    "  "
   ]
  },
  {
   "cell_type": "code",
   "execution_count": 23,
   "metadata": {},
   "outputs": [
    {
     "data": {
      "text/plain": [
       "mappingproxy({'__module__': '__main__',\n",
       "              'x': 10,\n",
       "              '__dict__': <attribute '__dict__' of 'demo' objects>,\n",
       "              '__weakref__': <attribute '__weakref__' of 'demo' objects>,\n",
       "              '__doc__': None})"
      ]
     },
     "execution_count": 23,
     "metadata": {},
     "output_type": "execute_result"
    }
   ],
   "source": [
    "demo.__dict__"
   ]
  },
  {
   "cell_type": "code",
   "execution_count": 24,
   "metadata": {},
   "outputs": [
    {
     "name": "stdout",
     "output_type": "stream",
     "text": [
      "100\n",
      "300\n"
     ]
    },
    {
     "ename": "NameError",
     "evalue": "name 'abc' is not defined",
     "output_type": "error",
     "traceback": [
      "\u001b[1;31m---------------------------------------------------------------------------\u001b[0m",
      "\u001b[1;31mNameError\u001b[0m                                 Traceback (most recent call last)",
      "Cell \u001b[1;32mIn[24], line 3\u001b[0m\n\u001b[0;32m      1\u001b[0m \u001b[39m# FUNCTION CALLING INSIDE THE CLASS\u001b[39;00m\n\u001b[1;32m----> 3\u001b[0m \u001b[39mclass\u001b[39;49;00m \u001b[39mdemo\u001b[39;49;00m:         \n\u001b[0;32m      4\u001b[0m     \u001b[39m# initialization\u001b[39;49;00m\n\u001b[0;32m      5\u001b[0m     abc\u001b[39m=\u001b[39;49m\u001b[39m100\u001b[39;49m\n\u001b[0;32m      6\u001b[0m     \u001b[39m#fetch\u001b[39;49;00m\n",
      "Cell \u001b[1;32mIn[24], line 15\u001b[0m, in \u001b[0;36mdemo\u001b[1;34m()\u001b[0m\n\u001b[0;32m     13\u001b[0m \u001b[39mdel\u001b[39;00m abc\n\u001b[0;32m     14\u001b[0m \u001b[39m#fetch\u001b[39;00m\n\u001b[1;32m---> 15\u001b[0m \u001b[39mprint\u001b[39m(abc)\n",
      "\u001b[1;31mNameError\u001b[0m: name 'abc' is not defined"
     ]
    }
   ],
   "source": [
    "# FUNCTION CALLING INSIDE THE CLASS\n",
    "\n",
    "class demo:         \n",
    "    # initialization\n",
    "    abc=100\n",
    "    #fetch\n",
    "    print(abc)\n",
    "    #reinitialization\n",
    "    abc=300\n",
    "    #fetch\n",
    "    print(abc)\n",
    "    #deletion\n",
    "    del abc\n",
    "    #fetch\n",
    "    print(abc)\n"
   ]
  },
  {
   "cell_type": "markdown",
   "metadata": {},
   "source": [
    "GENERIC/OBJECT STATE FUNCTIONALITIES\n",
    "\n",
    "INITIALIZATION :\n",
    "--------------\n",
    "SYNTAX:\n",
    "------        object_address/name.variable name=new value\n",
    "\n",
    "FETCH :\n",
    "-----\n",
    "SYNTAX :\n",
    "------         object_address.variable name\n",
    "\n",
    "REINITIALIZATION :\n",
    "-----------------\n",
    "SYNTAX :\n",
    "------          object_address.variable name=new value\n",
    "                                 |\n",
    "                                 |\n",
    "                         existing variable\n",
    "\n",
    "DELETION :\n",
    "--------\n",
    "SYNTAX :\n",
    "------         del object_address.variablename\n",
    "\n",
    "                         "
   ]
  },
  {
   "cell_type": "code",
   "execution_count": 2,
   "metadata": {},
   "outputs": [
    {
     "name": "stdout",
     "output_type": "stream",
     "text": [
      "11\n",
      "22\n"
     ]
    }
   ],
   "source": [
    "class myclass:\n",
    "    def __init__(self,ini_value):\n",
    "        self.data=ini_value\n",
    "    def increment(self):\n",
    "        self.data+=1\n",
    "    def double(self):\n",
    "        self.data*=2\n",
    "obj=myclass(10)\n",
    "obj.increment()\n",
    "print(obj.data)\n",
    "obj.double()\n",
    "print(obj.data)"
   ]
  },
  {
   "cell_type": "code",
   "execution_count": 25,
   "metadata": {},
   "outputs": [
    {
     "name": "stdout",
     "output_type": "stream",
     "text": [
      "10\n",
      "50\n"
     ]
    },
    {
     "ename": "AttributeError",
     "evalue": "'demo' object has no attribute 'apple'",
     "output_type": "error",
     "traceback": [
      "\u001b[1;31m---------------------------------------------------------------------------\u001b[0m",
      "\u001b[1;31mAttributeError\u001b[0m                            Traceback (most recent call last)",
      "Cell \u001b[1;32mIn[25], line 16\u001b[0m\n\u001b[0;32m     14\u001b[0m \u001b[39mdel\u001b[39;00m obj\u001b[39m.\u001b[39mapple\n\u001b[0;32m     15\u001b[0m \u001b[39m#fetch\u001b[39;00m\n\u001b[1;32m---> 16\u001b[0m \u001b[39mprint\u001b[39m(obj\u001b[39m.\u001b[39;49mapple)   \n",
      "\u001b[1;31mAttributeError\u001b[0m: 'demo' object has no attribute 'apple'"
     ]
    }
   ],
   "source": [
    "class demo:\n",
    "    x=10\n",
    "\n",
    "obj=demo()\n",
    "#initialization\n",
    "obj.apple=10\n",
    "#fetch\n",
    "print(obj.apple)\n",
    "#reinitialization\n",
    "obj.apple=50\n",
    "#fetch\n",
    "print(obj.apple)\n",
    "# deletion\n",
    "del obj.apple\n",
    "#fetch\n",
    "print(obj.apple)   "
   ]
  },
  {
   "cell_type": "code",
   "execution_count": 26,
   "metadata": {},
   "outputs": [
    {
     "name": "stdout",
     "output_type": "stream",
     "text": [
      "Z.P.G.H school sattenapalli 15 rajini\n"
     ]
    }
   ],
   "source": [
    "class school:\n",
    "    school_name=\"Z.P.G.H school\"\n",
    "    sc_address=\"sattenapalli\"\n",
    "    staff_no=15\n",
    "    sc_principal_name=\"rajini\"\n",
    "    print(school_name,sc_address,staff_no,sc_principal_name)   "
   ]
  },
  {
   "cell_type": "code",
   "execution_count": 3,
   "metadata": {},
   "outputs": [
    {
     "name": "stdout",
     "output_type": "stream",
     "text": [
      "Z.P.G.H school sattenapalli 15 rajini\n"
     ]
    }
   ],
   "source": [
    "class school:\n",
    "    school_name=\"Z.P.G.H school\"\n",
    "    sc_address=\"sattenapalli\"\n",
    "    staff_no=15\n",
    "    sc_principal_name=\"rajini\"\n",
    "print(school.school_name,school.sc_address,school.staff_no,school.sc_principal_name)   "
   ]
  },
  {
   "cell_type": "code",
   "execution_count": 14,
   "metadata": {},
   "outputs": [
    {
     "name": "stdout",
     "output_type": "stream",
     "text": [
      "Z.P.G.H school sattenapalli 15 rajini\n",
      "Z.P.G.H school sattenapalli 15 rajini\n",
      "<__main__.school object at 0x00000237B546F450>\n",
      "dharani 1234566 95 90 89 300\n"
     ]
    }
   ],
   "source": [
    "class school:\n",
    "    school_name=\"Z.P.G.H school\"\n",
    "    school_address=\"sattenapalli\"\n",
    "    staff_no=15\n",
    "    sc_principal_name=\"rajini\"\n",
    "    print(school_name,school_address,staff_no,sc_principal_name)   # calling inside the class\n",
    "stu1=school()    \n",
    "stu1.name=\"dharani\"  \n",
    "stu1.roll_no=1234566\n",
    "stu1.m1=95\n",
    "stu1.m2=90\n",
    "stu1.m3=89\n",
    "stu1.totalmarks=300\n",
    "print(school.school_name,school.school_address,school.staff_no,school.sc_principal_name)  # calling outside the class\n",
    "print(stu1)\n",
    "print(stu1.name,stu1.roll_no,stu1.m1,stu1.m2,stu1.m3,stu1.totalmarks)  \n"
   ]
  },
  {
   "cell_type": "code",
   "execution_count": 11,
   "metadata": {},
   "outputs": [
    {
     "name": "stdout",
     "output_type": "stream",
     "text": [
      "Z.P.G.H school sattenapalli 15 rajini\n",
      "<__main__.school object at 0x00000237B548D990>\n",
      "dharani 1234566 95 90 89 300\n",
      "dharani total percentage  91.33333333333333\n"
     ]
    }
   ],
   "source": [
    "class school:\n",
    "    school_name=\"Z.P.G.H school\"\n",
    "    school_address=\"sattenapalli\"\n",
    "    staff_no=15\n",
    "    sc_principal_name=\"rajini\"\n",
    "stu1=school()    \n",
    "stu1.name=\"dharani\"  \n",
    "stu1.roll_no=1234566\n",
    "stu1.m1=95\n",
    "stu1.m2=90\n",
    "stu1.m3=89\n",
    "stu1.totalmarks=300\n",
    "print(school.school_name,school.school_address,school.staff_no,school.sc_principal_name)\n",
    "print(stu1)\n",
    "print(stu1.name,stu1.roll_no,stu1.m1,stu1.m2,stu1.m3,stu1.totalmarks) \n",
    "per=((stu1.m1+stu1.m2+stu1.m3)/stu1.totalmarks)*100\n",
    "print(f\"{stu1.name} total percentage \",per)\n"
   ]
  },
  {
   "cell_type": "code",
   "execution_count": 12,
   "metadata": {},
   "outputs": [
    {
     "data": {
      "text/plain": [
       "{'name': 'dharani',\n",
       " 'roll_no': 1234566,\n",
       " 'm1': 95,\n",
       " 'm2': 90,\n",
       " 'm3': 89,\n",
       " 'totalmarks': 300}"
      ]
     },
     "execution_count": 12,
     "metadata": {},
     "output_type": "execute_result"
    }
   ],
   "source": [
    "stu1.__dict__"
   ]
  },
  {
   "cell_type": "markdown",
   "metadata": {},
   "source": [
    "EXAMPLE"
   ]
  },
  {
   "cell_type": "code",
   "execution_count": 11,
   "metadata": {},
   "outputs": [
    {
     "name": "stdout",
     "output_type": "stream",
     "text": [
      "Z.P.G.H school sattenapalli 15 rajini\n",
      "Z.P.G.H school sattenapalli 15 rajini dharani 1234566 95 90 89 300\n",
      "dharani total percentage  91.33333333333333\n",
      "<__main__.school object at 0x000001F0B82A67D0>\n",
      "dharani 1234566 95 90 89 300\n"
     ]
    }
   ],
   "source": [
    "class school:\n",
    "    school_name=\"Z.P.G.H school\"\n",
    "    school_address=\"sattenapalli\"\n",
    "    staff_no=15\n",
    "    sc_principal_name=\"rajini\"\n",
    "    print(school_name,school_address,staff_no,sc_principal_name)   # calling inside the class\n",
    "stu1=school()    \n",
    "stu1.name=\"dharani\"  \n",
    "stu1.roll_no=1234566\n",
    "stu1.m1=95\n",
    "stu1.m2=90\n",
    "stu1.m3=89\n",
    "stu1.totalmarks=300\n",
    "print(stu1.school_name,stu1.school_address,stu1.staff_no,stu1.sc_principal_name,stu1.name,stu1.roll_no,stu1.m1,stu1.m2,stu1.m3,stu1.totalmarks)  # calling outside the class\n",
    "per=((stu1.m1+stu1.m2+stu1.m3)/stu1.totalmarks)*100\n",
    "print(f\"{stu1.name} total percentage \",per)\n",
    "print(stu1)\n",
    "print(stu1.name,stu1.roll_no,stu1.m1,stu1.m2,stu1.m3,stu1.totalmarks)  "
   ]
  },
  {
   "cell_type": "code",
   "execution_count": 12,
   "metadata": {},
   "outputs": [
    {
     "name": "stdout",
     "output_type": "stream",
     "text": [
      "Z.P.G.H school sattenapalli 15 rajini usha 1234566 95 90 89 300\n",
      "<__main__.school object at 0x000001F0B82C0CD0>\n",
      "usha 1234566 95 90 89 300\n",
      "usha total percentage 91.33333333333333\n"
     ]
    }
   ],
   "source": [
    "stu2=school()    \n",
    "stu2.name=\"usha\"  \n",
    "stu2.roll_no=1234566\n",
    "stu2.m1=95\n",
    "stu2.m2=90\n",
    "stu2.m3=89\n",
    "stu2.totalmarks=300\n",
    "print(stu2.school_name,stu2.school_address,stu2.staff_no,stu2.sc_principal_name,stu2.name,stu2.roll_no,stu2.m1,stu2.m2,stu2.m3,stu2.totalmarks)\n",
    "per= ((stu2.m1+stu2.m2+stu2.m3)/stu2.totalmarks)*100\n",
    "print(stu2)\n",
    "print(stu2.name,stu2.roll_no,stu2.m1,stu2.m2,stu2.m3,stu2.totalmarks) \n",
    "print(f\"{stu2.name} total percentage\",per) "
   ]
  },
  {
   "cell_type": "code",
   "execution_count": 22,
   "metadata": {},
   "outputs": [
    {
     "name": "stdout",
     "output_type": "stream",
     "text": [
      "Z.P.G.H school sattenapalli 15 rajini\n",
      "Z.P.G.H school sattenapalli 15 rajini usha 1234567 90 98 99 300\n",
      "usha total percentage  95.66666666666667\n",
      "<__main__.school object at 0x000001F0B835D990>\n",
      "usha 1234567 90 98 99 300\n",
      "Z.P.G.H school sattenapalli 15 rajini maneesha 1234568 93 98 95 300\n",
      "maneesha total percentage  95.33333333333334\n",
      "<__main__.school object at 0x000001F0B827D250>\n",
      "maneesha 1234568 93 98 95 300\n"
     ]
    }
   ],
   "source": [
    "class school:\n",
    "    school_name=\"Z.P.G.H school\"\n",
    "    school_address=\"sattenapalli\"\n",
    "    staff_no=15\n",
    "    sc_principal_name=\"rajini\"\n",
    "    print(school_name,school_address,staff_no,sc_principal_name)   # calling inside the class\n",
    "stu1=school()\n",
    "def create_student(obj,name,roll,phone,mark1,mark2,mark3,total):    \n",
    "    obj.name=name \n",
    "    obj.roll_no=roll\n",
    "    obj.phone=phone\n",
    "    obj.m1=mark1\n",
    "    obj.m2=mark2\n",
    "    obj.m3=mark3\n",
    "    obj.totalmarks=total\n",
    "    print(obj.school_name,obj.school_address,obj.staff_no,obj.sc_principal_name,obj.name,obj.roll_no,obj.m1,obj.m2,obj.m3,obj.totalmarks)  # calling outside the class\n",
    "    per=((obj.m1+obj.m2+obj.m3)/obj.totalmarks)*100\n",
    "    print(f\"{obj.name} total percentage \",per)\n",
    "    print(obj)\n",
    "    print(obj.name,obj.roll_no,obj.m1,obj.m2,obj.m3,obj.totalmarks)\n",
    "create_student(stu1,\"usha\",1234567,7075092335,90,98,99,300)\n",
    "\n",
    "stu2=school() \n",
    "create_student(stu2,\"maneesha\",1234568,7075092336,93,98,95,300)\n"
   ]
  },
  {
   "cell_type": "code",
   "execution_count": 35,
   "metadata": {},
   "outputs": [
    {
     "name": "stdout",
     "output_type": "stream",
     "text": [
      "Z.P.G.H school sattenapalli 15 rajini\n",
      "Z.P.G.H school sattenapalli 15 rajini dharani 12345678 98 97 96 300\n",
      "dharani 12345678 98 97 96 300\n",
      "dharani total percentage  97.0\n",
      "Z.P.G.H school sattenapalli 15 rajini usha 123456789 97 95 93 300\n",
      "usha 123456789 97 95 93 300\n",
      "usha total percentage  95.0\n"
     ]
    }
   ],
   "source": [
    "class school:\n",
    "    school_name=\"Z.P.G.H school\"\n",
    "    school_address=\"sattenapalli\"\n",
    "    staff_no=15\n",
    "    sc_principal_name=\"rajini\"\n",
    "    print(school_name,school_address,staff_no,sc_principal_name) \n",
    "    def create_student(obj,name,roll,phone,mark1,mark2,mark3,total):    \n",
    "        obj.name=name \n",
    "        obj.roll_no=roll\n",
    "        obj.phone=phone\n",
    "        obj.m1=mark1\n",
    "        obj.m2=mark2\n",
    "        obj.m3=mark3\n",
    "        obj.totalmarks=total\n",
    "        print(obj.school_name,obj.school_address,obj.staff_no,obj.sc_principal_name,obj.name,obj.roll_no,obj.m1,obj.m2,obj.m3,obj.totalmarks)  # calling outside the class\n",
    "        print(obj.name,obj.roll_no,obj.m1,obj.m2,obj.m3,obj.totalmarks)\n",
    "        per=((obj.m1+obj.m2+obj.m3)/obj.totalmarks)*100\n",
    "        print(f\"{obj.name} total percentage \",per)\n",
    "\n",
    "stu1=school()\n",
    "school.create_student(stu1,\"dharani\",12345678,8328602360,98,97,96,300)\n",
    "\n",
    "stu2=school()\n",
    "school.create_student(stu2,\"usha\",123456789,7075092335,97,95,93,300)\n",
    "\n"
   ]
  },
  {
   "cell_type": "code",
   "execution_count": 36,
   "metadata": {},
   "outputs": [
    {
     "data": {
      "text/plain": [
       "mappingproxy({'__module__': '__main__',\n",
       "              'school_name': 'Z.P.G.H school',\n",
       "              'school_address': 'sattenapalli',\n",
       "              'staff_no': 15,\n",
       "              'sc_principal_name': 'rajini',\n",
       "              'create_student': <function __main__.school.create_student(obj, name, roll, phone, mark1, mark2, mark3, total)>,\n",
       "              '__dict__': <attribute '__dict__' of 'school' objects>,\n",
       "              '__weakref__': <attribute '__weakref__' of 'school' objects>,\n",
       "              '__doc__': None})"
      ]
     },
     "execution_count": 36,
     "metadata": {},
     "output_type": "execute_result"
    }
   ],
   "source": [
    "school.__dict__"
   ]
  },
  {
   "cell_type": "markdown",
   "metadata": {},
   "source": [
    "INHERITENCE :"
   ]
  },
  {
   "cell_type": "code",
   "execution_count": 3,
   "metadata": {},
   "outputs": [],
   "source": [
    "class bank:\n",
    "    bank_name='ICICI'\n",
    "    IFSC='ICICI00123'\n",
    "    address='Mysore'\n",
    "    cust_no=0\n",
    "    cust_details={}\n",
    "    def __init__(self,name,age,bal=500):\n",
    "        self.c_name=name \n",
    "        self.c_age=age\n",
    "        self.c_bal=bal\n",
    "        self.cust_no_inc()\n",
    "        self.acc_no=int('101020'+str(self.cust_no)) \n",
    "        self.cust_details_inc(self.acc_no, self)\n",
    "    @classmethod\n",
    "    def cust_no_inc(cls):\n",
    "       cls.cust_no+=1\n",
    "\n",
    "    @classmethod\n",
    "\n",
    "    def cust_details_inc(cls,key,value): \n",
    "        cls.cust_details[key]=value\n",
    "\n",
    "    def deposit (self):\n",
    "        n=int(input(\"enter the ACC_ID:\"))\n",
    "        if self.acc_no==n:\n",
    "            amount=int(input(\"enter the Amount:\"))\n",
    "            self.c_bal+=amount\n",
    "            print(\"tran is success\")\n",
    "            print(\"Your currenr bal is :\",self.c_bal)\n",
    "        else:\n",
    "            print(\"invalid acc No\")\n",
    "priya=bank('priya',23)            \n"
   ]
  },
  {
   "cell_type": "code",
   "execution_count": 4,
   "metadata": {},
   "outputs": [
    {
     "name": "stdout",
     "output_type": "stream",
     "text": [
      "{'c_name': 'priya', 'c_age': 23, 'c_bal': 500, 'acc_no': 1010201}\n",
      "1\n",
      "{1010201: <__main__.bank object at 0x000002169CEA8B10>}\n"
     ]
    }
   ],
   "source": [
    "print(priya.__dict__)\n",
    "print(bank.cust_no)\n",
    "print(bank.cust_details)"
   ]
  },
  {
   "cell_type": "code",
   "execution_count": 12,
   "metadata": {},
   "outputs": [],
   "source": [
    "class bank_1(bank):\n",
    "    ROI=7\n",
    "    def __init__(self,name,age,email,phone,bal=500):\n",
    "        self.c_name=name\n",
    "        self.c_age=age\n",
    "        self.c_email=email\n",
    "        self.c_phone=phone\n",
    "        self.c_bal=bal\n",
    "        self.cust_no_inc()\n",
    "        self.acc_no=int('101020'+str(self.cust_no))\n",
    "        self.cust_details_inc(self.acc_no,self)\n",
    "    def withdraw(self):\n",
    "        n=int(input(\"enter the ACC_No:\"))\n",
    "        if self.acc_no==n:\n",
    "            amount=int(input(\"enter the amount:\"))\n",
    "            if amount<=self.c_bal-500:\n",
    "                self.c_bal-=amount\n",
    "                print(\"tran is successful\")\n",
    "                print(\"your withdrawl amount:\",amount)\n",
    "                print(\"your current bal is :\",self.c_bal)\n",
    "            else:\n",
    "                print(\"insufficient amount\")    \n",
    "        else:\n",
    "            print(\"invalid account no\")\n",
    "\n",
    "sai=bank_1(\"sai\",24,\"sai@gmail.com\",9988776655)\n"
   ]
  },
  {
   "cell_type": "code",
   "execution_count": 15,
   "metadata": {},
   "outputs": [
    {
     "name": "stdout",
     "output_type": "stream",
     "text": [
      "{'c_name': 'sai', 'c_age': 24, 'c_email': 'sai@gmail.com', 'c_phone': 9988776655, 'c_bal': 500, 'acc_no': 1010202}\n",
      "2\n",
      "{1010201: <__main__.bank_1 object at 0x000002169CEF4290>, 1010202: <__main__.bank_1 object at 0x000002169CEEEA90>}\n",
      "tran is success\n",
      "Your currenr bal is : 8500\n"
     ]
    }
   ],
   "source": [
    "print(sai.__dict__)\n",
    "print(bank_1.cust_no)\n",
    "print(bank_1.cust_details)\n",
    "sai.deposit()"
   ]
  },
  {
   "cell_type": "code",
   "execution_count": 16,
   "metadata": {},
   "outputs": [
    {
     "name": "stdout",
     "output_type": "stream",
     "text": [
      "{'c_name': 'sai', 'c_age': 24, 'c_email': 'sai@gmail.com', 'c_phone': 9988776655, 'c_bal': 8500, 'acc_no': 1010202}\n",
      "tran is successful\n",
      "your withdrawl amount: 2000\n",
      "your current bal is : 6500\n"
     ]
    }
   ],
   "source": [
    "print(sai.__dict__)\n",
    "sai.withdraw()"
   ]
  },
  {
   "cell_type": "code",
   "execution_count": 17,
   "metadata": {},
   "outputs": [
    {
     "ename": "AttributeError",
     "evalue": "'bank' object has no attribute 'withdraw'",
     "output_type": "error",
     "traceback": [
      "\u001b[1;31m---------------------------------------------------------------------------\u001b[0m",
      "\u001b[1;31mAttributeError\u001b[0m                            Traceback (most recent call last)",
      "Cell \u001b[1;32mIn[17], line 1\u001b[0m\n\u001b[1;32m----> 1\u001b[0m priya\u001b[39m.\u001b[39;49mwithdraw()\n",
      "\u001b[1;31mAttributeError\u001b[0m: 'bank' object has no attribute 'withdraw'"
     ]
    }
   ],
   "source": [
    "priya.withdraw()"
   ]
  },
  {
   "cell_type": "code",
   "execution_count": 22,
   "metadata": {},
   "outputs": [],
   "source": [
    "class bank:\n",
    "    bank_name='ICICI'\n",
    "    IFSC='ICICI00123'\n",
    "    address='Mysore'\n",
    "    cust_no=0\n",
    "    cust_details={}\n",
    "    def __init__(self,name,age,bal=500):\n",
    "        self.c_name=name \n",
    "        self.c_age=age\n",
    "        self.c_bal=bal\n",
    "        self.cust_no_inc()\n",
    "        self.acc_no=int('101020'+str(self.cust_no)) \n",
    "        self.cust_details_inc(self.acc_no, self)\n",
    "    @classmethod\n",
    "    def cust_no_inc(cls):\n",
    "       cls.cust_no+=1\n",
    "\n",
    "    @classmethod\n",
    "\n",
    "    def cust_details_inc(cls,key,value): \n",
    "        cls.cust_details[key]=value\n",
    "\n",
    "    def deposit (self):\n",
    "        n=int(input(\"enter the ACC_ID:\"))\n",
    "        if self.acc_no==n:\n",
    "            amount=int(input(\"enter the Amount:\"))\n",
    "            self.c_bal+=amount\n",
    "            print(\"tran is success\")\n",
    "            print(\"Your currenr bal is :\",self.c_bal)\n",
    "        else:\n",
    "            print(\"invalid acc No\")\n",
    "priya=bank('priya',23)  \n",
    "\n",
    "class bank_1(bank):\n",
    "    ROI=7\n",
    "    def __init__(self,name,age,email,phone,bal=500):\n",
    "        # bank.__init__(self,name,age,bal)\n",
    "        # super().__init__(name,age,bal)\n",
    "        super(bank_1,self).__init__(name,age,bal)\n",
    "        self.c_email=email\n",
    "        self.c_phone=phone\n",
    "        self.c_bal=bal\n",
    "        self.cust_no_inc()\n",
    "        self.acc_no=int('101020'+str(self.cust_no))\n",
    "        self.cust_details_inc(self.acc_no,self)\n",
    "    def withdraw(self):\n",
    "        n=int(input(\"enter the ACC_No:\"))\n",
    "        if self.acc_no==n:\n",
    "            amount=int(input(\"enter the amount:\"))\n",
    "            if amount<=self.c_bal-500:\n",
    "                self.c_bal-=amount\n",
    "                print(\"tran is successful\")\n",
    "                print(\"your withdrawl amount:\",amount)\n",
    "                print(\"your current bal is :\",self.c_bal)\n",
    "            else:\n",
    "                print(\"insufficient amount\")    \n",
    "        else:\n",
    "            print(\"invalid account no\")\n",
    "\n",
    "sai=bank_1(\"sai\",24,\"sai@gmail.com\",9988776655)\n",
    "\n",
    "    "
   ]
  },
  {
   "cell_type": "code",
   "execution_count": 23,
   "metadata": {},
   "outputs": [
    {
     "data": {
      "text/plain": [
       "{'c_name': 'sai',\n",
       " 'c_age': 24,\n",
       " 'c_bal': 500,\n",
       " 'acc_no': 1010203,\n",
       " 'c_email': 'sai@gmail.com',\n",
       " 'c_phone': 9988776655}"
      ]
     },
     "execution_count": 23,
     "metadata": {},
     "output_type": "execute_result"
    }
   ],
   "source": [
    "sai.__dict__"
   ]
  },
  {
   "cell_type": "markdown",
   "metadata": {},
   "source": [
    "MULTILEVEL INHERITANCE\n",
    "\n",
    "* It is a phenomenon of deriving the properties from parent class to child class and child class to sub child class.\n",
    "\n",
    "FLOWCHART:\n",
    "\n",
    "class A           x properties                   x\n",
    "class B           y properties                   y\n",
    "class c           z properties                   z\n",
    "\n",
    "SYNTAX :\n",
    "\n",
    "class A :\n",
    "   pass\n",
    "class B(A):\n",
    "   pass\n",
    "class C(B):\n",
    "   pass      "
   ]
  },
  {
   "cell_type": "code",
   "execution_count": 3,
   "metadata": {},
   "outputs": [
    {
     "name": "stdout",
     "output_type": "stream",
     "text": [
      "parent\n",
      "parent\n",
      "parent\n"
     ]
    }
   ],
   "source": [
    "# multilevel inheritance\n",
    "\n",
    "class ver1:\n",
    "    a=10\n",
    "    def __init__(self):\n",
    "        print(\"parent\")\n",
    "    def display(self):\n",
    "        print(\"parent class\",self.a)\n",
    "v1=ver1()\n",
    "\n",
    "class ver2(ver1):\n",
    "    b=20\n",
    "    def display(self):\n",
    "        print(\"child class\",self.a,self.b)\n",
    "v2=ver2()\n",
    "\n",
    "class ver3(ver2):\n",
    "    c=30\n",
    "    def display(self):\n",
    "        print(\"sub child class\",self.a,self.b,self.c)\n",
    "v3=ver3()        "
   ]
  },
  {
   "cell_type": "code",
   "execution_count": 9,
   "metadata": {},
   "outputs": [
    {
     "name": "stdout",
     "output_type": "stream",
     "text": [
      "10 10 10\n",
      "10 20\n",
      "30\n"
     ]
    }
   ],
   "source": [
    "print(v1.a,v2.a,v3.a)\n",
    "print(v2.a,v2.b)\n",
    "print(v3.c)"
   ]
  },
  {
   "cell_type": "code",
   "execution_count": 32,
   "metadata": {},
   "outputs": [
    {
     "name": "stdout",
     "output_type": "stream",
     "text": [
      "parent class 10\n"
     ]
    }
   ],
   "source": [
    "v1.display()"
   ]
  },
  {
   "cell_type": "code",
   "execution_count": 33,
   "metadata": {},
   "outputs": [
    {
     "name": "stdout",
     "output_type": "stream",
     "text": [
      "child class 10 20\n"
     ]
    }
   ],
   "source": [
    "v2.display()"
   ]
  },
  {
   "cell_type": "code",
   "execution_count": 34,
   "metadata": {},
   "outputs": [
    {
     "name": "stdout",
     "output_type": "stream",
     "text": [
      "sub child class 10 20 30\n"
     ]
    }
   ],
   "source": [
    "v3.display()"
   ]
  },
  {
   "cell_type": "code",
   "execution_count": 35,
   "metadata": {},
   "outputs": [
    {
     "name": "stdout",
     "output_type": "stream",
     "text": [
      "parent\n",
      "parent\n",
      "parent\n"
     ]
    }
   ],
   "source": [
    "# METHOD CHAINING\n",
    "\n",
    "class ver1:\n",
    "    a=10\n",
    "    def __init__(self):\n",
    "        print(\"parent\")\n",
    "    def display(self):\n",
    "        print(\"parent class\",self.a)\n",
    "v1=ver1()\n",
    "\n",
    "class ver2(ver1):\n",
    "    b=20\n",
    "    def display(self):\n",
    "        super().display()\n",
    "        print(\"child class\",self.b)\n",
    "v2=ver2()\n",
    "\n",
    "class ver3(ver2):\n",
    "    c=30\n",
    "    def display(self):\n",
    "        super().display()\n",
    "        print(\"sub child class\",self.c)\n",
    "v3=ver3()        "
   ]
  },
  {
   "cell_type": "code",
   "execution_count": 36,
   "metadata": {},
   "outputs": [
    {
     "name": "stdout",
     "output_type": "stream",
     "text": [
      "parent class 10\n"
     ]
    }
   ],
   "source": [
    "v1.display()"
   ]
  },
  {
   "cell_type": "code",
   "execution_count": 37,
   "metadata": {},
   "outputs": [
    {
     "name": "stdout",
     "output_type": "stream",
     "text": [
      "parent class 10\n",
      "child class 20\n"
     ]
    }
   ],
   "source": [
    "v2.display()"
   ]
  },
  {
   "cell_type": "code",
   "execution_count": 39,
   "metadata": {},
   "outputs": [
    {
     "name": "stdout",
     "output_type": "stream",
     "text": [
      "parent class 10\n",
      "child class 20\n",
      "sub child class 30\n"
     ]
    }
   ],
   "source": [
    "v3.display()"
   ]
  },
  {
   "cell_type": "code",
   "execution_count": 9,
   "metadata": {},
   "outputs": [],
   "source": [
    "class bank:\n",
    "    bank_name='ICICI'\n",
    "    IFSC='ICICI00123'\n",
    "    address='Mysore'\n",
    "    cust_no=0\n",
    "    cust_details={}\n",
    "    def __init__(self,name,age,bal=500):\n",
    "        self.c_name=name \n",
    "        self.c_age=age\n",
    "        self.c_bal=bal\n",
    "        self.cust_no_inc()\n",
    "        self.acc_no=int('101020'+str(self.cust_no)) \n",
    "        self.cust_details_inc(self.acc_no, self)\n",
    "\n",
    "    @classmethod\n",
    "    def cust_no_inc(cls):\n",
    "       cls.cust_no+=1\n",
    "\n",
    "    @classmethod\n",
    "    def cust_details_inc(cls,key,value): \n",
    "        cls.cust_details[key]=value\n",
    "\n",
    "    def deposit (self):\n",
    "        n=int(input(\"enter the ACC_ID:\"))\n",
    "        if self.acc_no==n:\n",
    "            amount=int(input(\"enter the Amount:\"))\n",
    "            self.c_bal+=amount\n",
    "            print(\"tran is success\")\n",
    "            print(\"Your currenr bal is :\",self.c_bal)\n",
    "        else:\n",
    "            print(\"invalid acc No\")\n",
    "priya=bank('priya',23)  \n",
    "\n",
    "class bank_1(bank):\n",
    "    ROI=7\n",
    "    def __init__(self,name,age,email,phone,bal=500):\n",
    "        # bank.__init__(self,name,age,bal)\n",
    "        # super().__init__(name,age,bal)\n",
    "        super(bank_1,self).__init__(name,age,bal)\n",
    "        self.c_email=email\n",
    "        self.c_phone=phone\n",
    "        self.c_bal=bal\n",
    "        self.cust_no_inc()\n",
    "        self.acc_no=int('101020'+str(self.cust_no))\n",
    "        self.cust_details_inc(self.acc_no,self)\n",
    "\n",
    "\n",
    "    def withdraw(self):\n",
    "        n=int(input(\"enter the ACC_No:\"))\n",
    "        if self.acc_no==n:\n",
    "            amount=int(input(\"enter the amount:\"))\n",
    "            if amount<=self.c_bal-500:\n",
    "                self.c_bal-=amount\n",
    "                print(\"tran is successful\")\n",
    "                print(\"your withdrawl amount:\",amount)\n",
    "                print(\"your current bal is :\",self.c_bal)\n",
    "            else:\n",
    "                print(\"insufficient amount\")    \n",
    "        else:\n",
    "            print(\"invalid account no\")\n",
    "\n",
    "sai=bank_1(\"sai\",24,\"sai@gmail.com\",9988776655)\n",
    "\n",
    "\n",
    "class bank_ver2(bank_1):\n",
    "    branch_code='ICICI02'\n",
    "    def __init__(self,name,age,email,phone,pan,aadhar,password,bal=500):\n",
    "        super().__init__(name,age,email,phone,bal)\n",
    "        self.pan=pan\n",
    "        self.aadhar=aadhar\n",
    "        self.passwod=password\n",
    "    @classmethod\n",
    "    def verify_user(cls):\n",
    "        userid=(input(\"enter the Acc No:\"))\n",
    "        pwd=(input(\"enter the password:\"))\n",
    "        cls_data=cls.cust_details\n",
    "        for i in cls_data:\n",
    "            if cls_data[i].acc_no==int(userid) and cls_data[i].password==pwd:\n",
    "                return cls_data[i]\n",
    "            return None\n",
    "    def details(self):\n",
    "        print(\"customer acc no\",self.acc_no)\n",
    "        print(\"customer name\",self.c_name) \n",
    "        print(\"customer age\",self.c_age)\n",
    "        print(\"customer email\",self.c_email)\n",
    "        print(\"customer phone\",self.c_phone)\n",
    "        print(\"customer pancard\",self.pan)\n",
    "        print(\"customer aadhar\",self.aadhar)\n",
    "    @staticmethod \n",
    "    def authe():\n",
    "        print(\"Welcome to ICICI\")\n",
    "        print(\"----------------\")\n",
    "        n=int(input(\"choose the option:\\n1.Register\\n2.Login\"))\n",
    "        match n:\n",
    "            case 1:\n",
    "                name=input(\"Enter the name\")\n",
    "                age=input(\"Enter the age\")\n",
    "                email=input(\"Enter the email\")\n",
    "                phone=input(\"Enter the phone\")\n",
    "                pancard=input(\"Enter the pancard number\")\n",
    "                aadhar=input(\"Enter the aadhar number\")\n",
    "                password=input(\"Enter the password\")\n",
    "                bank_ver2(name,age,email,phone,pancard,aadhar,password)\n",
    "            case 2:\n",
    "                self=bank_ver2.verify_user()\n",
    "                if self!=None:\n",
    "                    menu=int(input(\"choose the option:\\n1.Deposit\\n2.Withdraw\\n3.Details\"))\n",
    "                    match menu:\n",
    "                        case 1:\n",
    "                            self.deposit()\n",
    "                        case 2:\n",
    "                            self.withdraw()\n",
    "                        case 3:\n",
    "                            self.details()\n",
    "ramana=bank_ver2(\"ramana\",25,\"ramana@gmail.com\",9988667755,\"DYHPG7050L\",924158038282,\"ram1234\")\n",
    "radha=bank_ver2(\"radha\",24,\"radha@gmail.com\",9933495678,\"ABECG7890E\",983564789364,\"radha34567\")\n",
    "#bank_ver2.authe()                                                \n"
   ]
  },
  {
   "cell_type": "code",
   "execution_count": 10,
   "metadata": {},
   "outputs": [
    {
     "name": "stdout",
     "output_type": "stream",
     "text": [
      "Welcome to ICICI\n",
      "----------------\n"
     ]
    },
    {
     "ename": "AttributeError",
     "evalue": "'bank' object has no attribute 'password'",
     "output_type": "error",
     "traceback": [
      "\u001b[1;31m---------------------------------------------------------------------------\u001b[0m",
      "\u001b[1;31mAttributeError\u001b[0m                            Traceback (most recent call last)",
      "Cell \u001b[1;32mIn[10], line 1\u001b[0m\n\u001b[1;32m----> 1\u001b[0m bank_ver2\u001b[39m.\u001b[39;49mauthe()\n",
      "Cell \u001b[1;32mIn[9], line 105\u001b[0m, in \u001b[0;36mbank_ver2.authe\u001b[1;34m()\u001b[0m\n\u001b[0;32m    103\u001b[0m     bank_ver2(name,age,email,phone,pancard,aadhar,password)\n\u001b[0;32m    104\u001b[0m \u001b[39mcase\u001b[39;00m \u001b[39m2\u001b[39m:\n\u001b[1;32m--> 105\u001b[0m     \u001b[39mself\u001b[39m\u001b[39m=\u001b[39mbank_ver2\u001b[39m.\u001b[39;49mverify_user()\n\u001b[0;32m    106\u001b[0m     \u001b[39mif\u001b[39;00m \u001b[39mself\u001b[39m\u001b[39m!=\u001b[39m\u001b[39mNone\u001b[39;00m:\n\u001b[0;32m    107\u001b[0m         menu\u001b[39m=\u001b[39m\u001b[39mint\u001b[39m(\u001b[39minput\u001b[39m(\u001b[39m\"\u001b[39m\u001b[39mchoose the option:\u001b[39m\u001b[39m\\n\u001b[39;00m\u001b[39m1.Deposit\u001b[39m\u001b[39m\\n\u001b[39;00m\u001b[39m2.Withdraw\u001b[39m\u001b[39m\\n\u001b[39;00m\u001b[39m3.Details\u001b[39m\u001b[39m\"\u001b[39m))\n",
      "Cell \u001b[1;32mIn[9], line 78\u001b[0m, in \u001b[0;36mbank_ver2.verify_user\u001b[1;34m(cls)\u001b[0m\n\u001b[0;32m     76\u001b[0m cls_data\u001b[39m=\u001b[39m\u001b[39mcls\u001b[39m\u001b[39m.\u001b[39mcust_details\n\u001b[0;32m     77\u001b[0m \u001b[39mfor\u001b[39;00m i \u001b[39min\u001b[39;00m cls_data:\n\u001b[1;32m---> 78\u001b[0m     \u001b[39mif\u001b[39;00m cls_data[i]\u001b[39m.\u001b[39macc_no\u001b[39m==\u001b[39m\u001b[39mint\u001b[39m(userid) \u001b[39mand\u001b[39;00m cls_data[i]\u001b[39m.\u001b[39;49mpassword\u001b[39m==\u001b[39mpwd:\n\u001b[0;32m     79\u001b[0m         \u001b[39mreturn\u001b[39;00m cls_data[i]\n\u001b[0;32m     80\u001b[0m     \u001b[39mreturn\u001b[39;00m \u001b[39mNone\u001b[39;00m\n",
      "\u001b[1;31mAttributeError\u001b[0m: 'bank' object has no attribute 'password'"
     ]
    }
   ],
   "source": [
    "bank_ver2.authe()"
   ]
  },
  {
   "cell_type": "code",
   "execution_count": 3,
   "metadata": {},
   "outputs": [
    {
     "data": {
      "text/plain": [
       "{'c_name': 'radha',\n",
       " 'c_age': 24,\n",
       " 'c_bal': 500,\n",
       " 'acc_no': 1010207,\n",
       " 'c_email': 'radha@gmail.com',\n",
       " 'c_phone': 9933495678,\n",
       " 'pan': 'ABECG7890E',\n",
       " 'aadhar': 983564789364,\n",
       " 'passwod': 'radha34567'}"
      ]
     },
     "execution_count": 3,
     "metadata": {},
     "output_type": "execute_result"
    }
   ],
   "source": [
    "radha.__dict__"
   ]
  },
  {
   "cell_type": "code",
   "execution_count": 5,
   "metadata": {},
   "outputs": [
    {
     "data": {
      "text/plain": [
       "{'c_name': 'ramana',\n",
       " 'c_age': 25,\n",
       " 'c_bal': 500,\n",
       " 'acc_no': 1010205,\n",
       " 'c_email': 'ramana@gmail.com',\n",
       " 'c_phone': 9988667755,\n",
       " 'pan': 'DYHPG7050L',\n",
       " 'aadhar': 924158038282,\n",
       " 'passwod': 'ram1234'}"
      ]
     },
     "execution_count": 5,
     "metadata": {},
     "output_type": "execute_result"
    }
   ],
   "source": [
    "ramana.__dict__"
   ]
  },
  {
   "cell_type": "code",
   "execution_count": 6,
   "metadata": {},
   "outputs": [
    {
     "data": {
      "text/plain": [
       "{'c_name': 'priya', 'c_age': 23, 'c_bal': 500, 'acc_no': 1010201}"
      ]
     },
     "execution_count": 6,
     "metadata": {},
     "output_type": "execute_result"
    }
   ],
   "source": [
    "bank_ver2.cust_details[1010201].__dict__"
   ]
  },
  {
   "cell_type": "code",
   "execution_count": 8,
   "metadata": {},
   "outputs": [
    {
     "ename": "AttributeError",
     "evalue": "'bank' object has no attribute 'password'",
     "output_type": "error",
     "traceback": [
      "\u001b[1;31m---------------------------------------------------------------------------\u001b[0m",
      "\u001b[1;31mAttributeError\u001b[0m                            Traceback (most recent call last)",
      "Cell \u001b[1;32mIn[8], line 1\u001b[0m\n\u001b[1;32m----> 1\u001b[0m bank_ver2\u001b[39m.\u001b[39;49mverify_user()\u001b[39m.\u001b[39m\u001b[39m__dict__\u001b[39m\n",
      "Cell \u001b[1;32mIn[2], line 78\u001b[0m, in \u001b[0;36mbank_ver2.verify_user\u001b[1;34m(cls)\u001b[0m\n\u001b[0;32m     76\u001b[0m cls_data\u001b[39m=\u001b[39m\u001b[39mcls\u001b[39m\u001b[39m.\u001b[39mcust_details\n\u001b[0;32m     77\u001b[0m \u001b[39mfor\u001b[39;00m i \u001b[39min\u001b[39;00m cls_data:\n\u001b[1;32m---> 78\u001b[0m     \u001b[39mif\u001b[39;00m cls_data[i]\u001b[39m.\u001b[39macc_no\u001b[39m==\u001b[39m\u001b[39mint\u001b[39m(userid) \u001b[39mand\u001b[39;00m cls_data[i]\u001b[39m.\u001b[39;49mpassword\u001b[39m==\u001b[39mpwd:\n\u001b[0;32m     79\u001b[0m         \u001b[39mreturn\u001b[39;00m cls_data[i]\n\u001b[0;32m     80\u001b[0m     \u001b[39mreturn\u001b[39;00m \u001b[39mNone\u001b[39;00m\n",
      "\u001b[1;31mAttributeError\u001b[0m: 'bank' object has no attribute 'password'"
     ]
    }
   ],
   "source": [
    "bank_ver2.verify_user().__dict__"
   ]
  },
  {
   "cell_type": "markdown",
   "metadata": {},
   "source": [
    "HEIRARCHIAL INHERITANCE\n",
    "-----------------------\n",
    "\n",
    "* Deriving the properties from  parent class to more than Two child classes.\n",
    "\n",
    "Flowchart:\n",
    "\n",
    "                                            class A      (x properties)\n",
    "                                               |\n",
    "                               \n",
    "                (y properties)       class B        class C      (z properties)\n",
    "                                      x+y            x+z\n",
    "                                  (properties)   (properties)\n",
    "                                  "
   ]
  },
  {
   "cell_type": "code",
   "execution_count": 1,
   "metadata": {},
   "outputs": [],
   "source": [
    "class parent:\n",
    "    x=10\n",
    "    def __init__(self,m):\n",
    "        self.m=m\n",
    "\n",
    "    @classmethod\n",
    "    def display(cls):\n",
    "        print(cls.x)\n",
    "\n",
    "class child1(parent):\n",
    "    y=20\n",
    "class child2(parent):\n",
    "    z=30"
   ]
  },
  {
   "cell_type": "code",
   "execution_count": 4,
   "metadata": {},
   "outputs": [
    {
     "name": "stdout",
     "output_type": "stream",
     "text": [
      "10\n",
      "10 20\n",
      "10 30\n"
     ]
    }
   ],
   "source": [
    "print(parent.x)\n",
    "print(child1.x,child1.y)\n",
    "print(child2.x,child2.z)"
   ]
  },
  {
   "cell_type": "code",
   "execution_count": 5,
   "metadata": {},
   "outputs": [
    {
     "name": "stdout",
     "output_type": "stream",
     "text": [
      "10\n",
      "10\n",
      "10\n"
     ]
    }
   ],
   "source": [
    "parent.display()\n",
    "child1.display()\n",
    "child2.display()"
   ]
  },
  {
   "cell_type": "code",
   "execution_count": 6,
   "metadata": {},
   "outputs": [],
   "source": [
    "p1=parent(100)\n",
    "c1=child1(500)\n",
    "c2=child2(600)"
   ]
  },
  {
   "cell_type": "code",
   "execution_count": 7,
   "metadata": {},
   "outputs": [
    {
     "name": "stdout",
     "output_type": "stream",
     "text": [
      "100\n",
      "500\n",
      "600\n"
     ]
    }
   ],
   "source": [
    "print(p1.m)\n",
    "print(c1.m)\n",
    "print(c2.m)"
   ]
  },
  {
   "cell_type": "code",
   "execution_count": 9,
   "metadata": {},
   "outputs": [],
   "source": [
    "class institute:\n",
    "    name='TEST YANTRA'\n",
    "    CEO='GIRISH'\n",
    "    def __init__(self,name,phone,email,category):\n",
    "        self.name=name\n",
    "        self.phone=phone\n",
    "        self.email=email\n",
    "        self.category=category\n",
    "\n",
    "    def display(self):\n",
    "        print(\"student name:\",self.name)\n",
    "        print(\"student phone:\",self.phone)\n",
    "        print(\"student email:\",self.email)\n",
    "        print(\"student category:\",self.category)   \n",
    "\n",
    "class Jspiders(institute):\n",
    "    branch='jspiders'\n",
    "    founder='kashi'\n",
    "    subject=\"java\"\n",
    "\n",
    "class qspiders(institute):\n",
    "    branch='qspiders'\n",
    "    founder=\"sudhakar\"\n",
    "    subject='M Testing'\n",
    "\n",
    "class pyspiders(institute):\n",
    "    branch='pyspiders'\n",
    "    founder=\"Akshay kumar\"\n",
    "    subject=\"python\"  \n",
    "\n",
    "\n",
    "trainer=institute(\"venugopal\",9988654567,\"venugopal@gmail.com\",\"trainer\")\n",
    "j_stu1=Jspiders(\"manoj\",9988776655,\"manoj@gmail.com\",\"student\")\n",
    "q_stu1=qspiders(\"geetha\",9977886655,\"geetha@gmail.com\",\"student\")\n",
    "p_stu1=pyspiders(\"sudha\",9933554466,\"sudha@gmail.com\",\"student\")                  "
   ]
  },
  {
   "cell_type": "code",
   "execution_count": 10,
   "metadata": {},
   "outputs": [
    {
     "name": "stdout",
     "output_type": "stream",
     "text": [
      "student name: manoj\n",
      "student phone: 9988776655\n",
      "student email: manoj@gmail.com\n",
      "student category: student\n"
     ]
    }
   ],
   "source": [
    "j_stu1.display()"
   ]
  },
  {
   "cell_type": "code",
   "execution_count": 11,
   "metadata": {},
   "outputs": [
    {
     "name": "stdout",
     "output_type": "stream",
     "text": [
      "student name: geetha\n",
      "student phone: 9977886655\n",
      "student email: geetha@gmail.com\n",
      "student category: student\n"
     ]
    }
   ],
   "source": [
    "q_stu1.display()"
   ]
  },
  {
   "cell_type": "code",
   "execution_count": 12,
   "metadata": {},
   "outputs": [
    {
     "name": "stdout",
     "output_type": "stream",
     "text": [
      "student name: sudha\n",
      "student phone: 9933554466\n",
      "student email: sudha@gmail.com\n",
      "student category: student\n"
     ]
    }
   ],
   "source": [
    "p_stu1.display()"
   ]
  },
  {
   "cell_type": "code",
   "execution_count": 13,
   "metadata": {},
   "outputs": [
    {
     "name": "stdout",
     "output_type": "stream",
     "text": [
      "student name: venugopal\n",
      "student phone: 9988654567\n",
      "student email: venugopal@gmail.com\n",
      "student category: trainer\n"
     ]
    }
   ],
   "source": [
    "trainer.display()"
   ]
  },
  {
   "cell_type": "markdown",
   "metadata": {},
   "source": [
    "MULTIPLE INHERITANCE\n",
    "--------------------\n",
    "\n",
    "* It is a phenomenon of deriving properties from two parent classe to child class.\n",
    "\n",
    "FLOW CHART:\n",
    "\n",
    "\n",
    "                 (x properties) class A             class B  (y properties)\n",
    "                                   |                   |\n",
    "                                   |                   |\n",
    "                                   |                   |\n",
    "                                   ---------------------\n",
    "                                             |\n",
    "                                             |\n",
    "                                          class C  (z properties)\n",
    "                                         x+y+z properties\n",
    "\n",
    "SYNTAX :\n",
    "\n",
    "       class parent1:\n",
    "             pass\n",
    "       class parent2:\n",
    "             pass\n",
    "       class child:\n",
    "             pass            \n",
    "\n",
    "\n",
    "* python will support only overriding and it will not support in other languages.\n",
    "* It will not support super() method.\n",
    "\n",
    "class parent1:                        k            v        \n",
    "      x=10                       A1   x            10      \n",
    "                                                            \n",
    "class parent2:                        k            v\n",
    "      x=50                       B1   x            50\n",
    "      y=20                       B2   y            20\n",
    "\n",
    "\n",
    "class child:                          k             v\n",
    "      z=30                            z             30\n",
    "                                      x             B1(A1)\n",
    "                                      y             B2"
   ]
  },
  {
   "cell_type": "code",
   "execution_count": 1,
   "metadata": {},
   "outputs": [],
   "source": [
    "class parent1:\n",
    "    x=10\n",
    "class parent2:\n",
    "    x=50\n",
    "    y=20\n",
    "class child(parent1,parent2):      # here first priority is for parent 1\n",
    "    z=30\n",
    "\n",
    "obj=child() "
   ]
  },
  {
   "cell_type": "code",
   "execution_count": 2,
   "metadata": {},
   "outputs": [
    {
     "name": "stdout",
     "output_type": "stream",
     "text": [
      "{}\n",
      "10 20 30\n"
     ]
    }
   ],
   "source": [
    "print(obj.__dict__)\n",
    "print(obj.x,obj.y,obj.z)"
   ]
  },
  {
   "cell_type": "code",
   "execution_count": 3,
   "metadata": {},
   "outputs": [],
   "source": [
    "class parent1:\n",
    "    x=10\n",
    "class parent2:\n",
    "    x=50\n",
    "    y=20\n",
    "class child(parent2,parent1):  # here first priority is for parent 2  \n",
    "    z=30\n",
    "\n",
    "obj=child() "
   ]
  },
  {
   "cell_type": "code",
   "execution_count": 4,
   "metadata": {},
   "outputs": [
    {
     "name": "stdout",
     "output_type": "stream",
     "text": [
      "{}\n",
      "50 20 30\n"
     ]
    }
   ],
   "source": [
    "print(obj.__dict__)           \n",
    "print(obj.x,obj.y,obj.z)            # 10 is overrided with 50 first parent has the first priority"
   ]
  },
  {
   "cell_type": "code",
   "execution_count": 9,
   "metadata": {},
   "outputs": [
    {
     "name": "stdout",
     "output_type": "stream",
     "text": [
      "dharani\n",
      "21\n",
      "dharani@gmail.com\n",
      "9963979285\n",
      "bang\n",
      "oneplus\n",
      "one plus 14 max pro\n",
      "75000\n",
      "10\n"
     ]
    },
    {
     "data": {
      "text/plain": [
       "'online_store'"
      ]
     },
     "execution_count": 9,
     "metadata": {},
     "output_type": "execute_result"
    }
   ],
   "source": [
    "class cust:\n",
    "    shopping=\"online_shop\"\n",
    "    def __init__(self,name,age,phone,email,address):\n",
    "        self.name=name\n",
    "        self.age=age\n",
    "        self.phone=phone\n",
    "        self.email=email\n",
    "        self.address=address\n",
    "\n",
    "    def display(self):\n",
    "        print(self.name)\n",
    "        print(self.age)\n",
    "        print(self.phone)\n",
    "        print(self.email)\n",
    "        print(self.address)\n",
    "\n",
    "class product:\n",
    "    shopping=\"online_store\"\n",
    "    def __init__(self,p_name,p_desc,p_price,p_quantity):\n",
    "        self.p_name=p_name\n",
    "        self.p_desc=p_desc\n",
    "        self.p_price=p_price\n",
    "        self.p_quantity=p_quantity  \n",
    "    \n",
    "    def display(self):\n",
    "        print(self.p_name)\n",
    "        print(self.p_desc)\n",
    "        print(self.p_price)\n",
    "        print(self.p_quantity)\n",
    "\n",
    "class trans(product,cust):     # first priority to the product\n",
    "    def  __init__(self,name,age,phone,email,address,p_name,p_desc,p_price,p_quantity): \n",
    "        cust.__init__(self,name,age,phone,email,address)\n",
    "        product.__init__(self,p_name,p_desc,p_price,p_quantity) \n",
    "\n",
    "    def display(self):\n",
    "        cust.display(self)\n",
    "        product.display(self)  \n",
    "\n",
    "\n",
    "obj=trans(\"dharani\",21,\"dharani@gmail.com\",9963979285,\"bang\",\"oneplus\",\"one plus 14 max pro\",75000,10)\n",
    "obj.display()\n",
    "obj.shopping                \n",
    "        "
   ]
  },
  {
   "cell_type": "code",
   "execution_count": 8,
   "metadata": {},
   "outputs": [
    {
     "name": "stdout",
     "output_type": "stream",
     "text": [
      "dharani\n",
      "21\n",
      "dharani@gmail.com\n",
      "9963979285\n",
      "bang\n",
      "oneplus\n",
      "one plus 14 max pro\n",
      "75000\n",
      "10\n"
     ]
    },
    {
     "data": {
      "text/plain": [
       "'online_shop'"
      ]
     },
     "execution_count": 8,
     "metadata": {},
     "output_type": "execute_result"
    }
   ],
   "source": [
    "class cust:\n",
    "    shopping=\"online_shop\"\n",
    "    def __init__(self,name,age,phone,email,address):\n",
    "        self.name=name\n",
    "        self.age=age\n",
    "        self.phone=phone\n",
    "        self.email=email\n",
    "        self.address=address\n",
    "\n",
    "    def display(self):\n",
    "        print(self.name)\n",
    "        print(self.age)\n",
    "        print(self.phone)\n",
    "        print(self.email)\n",
    "        print(self.address)\n",
    "\n",
    "class product:\n",
    "    shopping=\"online_store\"\n",
    "    def __init__(self,p_name,p_desc,p_price,p_quantity):\n",
    "        self.p_name=p_name\n",
    "        self.p_desc=p_desc\n",
    "        self.p_price=p_price\n",
    "        self.p_quantity=p_quantity  \n",
    "    \n",
    "    def display(self):\n",
    "        print(self.p_name)\n",
    "        print(self.p_desc)\n",
    "        print(self.p_price)\n",
    "        print(self.p_quantity)\n",
    "\n",
    "class trans(cust,product):      # first priority to the cust\n",
    "    def  __init__(self,name,age,phone,email,address,p_name,p_desc,p_price,p_quantity):    # constructor chaining\n",
    "        cust.__init__(self,name,age,phone,email,address)\n",
    "        product.__init__(self,p_name,p_desc,p_price,p_quantity) \n",
    "\n",
    "    def display(self):    # method chaining\n",
    "        cust.display(self)\n",
    "        product.display(self) \n",
    "\n",
    "\n",
    "obj=trans(\"dharani\",21,\"dharani@gmail.com\",9963979285,\"bang\",\"oneplus\",\"one plus 14 max pro\",75000,10)\n",
    "obj.display()\n",
    "obj.shopping        "
   ]
  },
  {
   "cell_type": "markdown",
   "metadata": {},
   "source": [
    "DISADVANTAGES FOR MULTIPLE INHERITANCE:\n",
    "\n",
    "* In multiple inheritances referrences ADDRESSES are Ovrride due to deriving the properties from two parent class to child class. \n",
    "\n",
    "* if same name properties are available in both the classes all the properties is derived to the child class that time the old   \n",
    "  referrence address is overide to new referrence address because python will not support duplicate identifiers.\n",
    "\n",
    "* The override operation will happened for varible,constructor method,methods(class method,object method,static method).\n",
    "\n",
    "* To overcome the above problems we should create same properties inside the child class we have to apply chaining concept\n",
    "  (constructor chaining , method chaining)\n"
   ]
  },
  {
   "cell_type": "markdown",
   "metadata": {},
   "source": [
    "ADVANTAGES OF INHERITANCE :\n",
    "\n",
    "* Reduce the code redundancy and code reusuability\n",
    "\n",
    "* Extracting the properties from one class to another class.\n",
    "\n",
    "* Adding new functionalities to the existing system.\n",
    "\n",
    "* Time complexity for code execution and developers."
   ]
  },
  {
   "cell_type": "markdown",
   "metadata": {},
   "source": [
    "HYBRID INHERITANCE\n",
    "\n",
    "* Combining the more than one inheritance type is called as \"Hybrid Inheritance\".\n",
    "\n",
    "                              class A\n",
    "                                 |\n",
    "                                 |\n",
    "                              class B\n",
    "                                 |\n",
    "                                 |\n",
    "                   class B                class D\n",
    "\n",
    "\n",
    "                              class E\n",
    "                              "
   ]
  },
  {
   "cell_type": "markdown",
   "metadata": {},
   "source": [
    "CONSTRUCTOR CHAINING :\n",
    "\n",
    "* It is a phenomenon of invoking the constructor from parent class to the constructor of child class is called \"constructor chaining\".\n",
    "\n",
    "* Invoking from one constructor to another constructor is known as constructor chaining.\n",
    "\n",
    "* By through constructor chaining to reduce code redundancy and eliminate repetitive task.\n",
    "\n",
    "* There are 3 ways to call to achieve the constructor chaining.\n",
    "\n",
    "1.Calling by using the super statement. \n",
    "\n",
    "SYNTAX :\n",
    "\n",
    "       super().__init__(arguments)\n",
    "\n",
    "2.Calling by using super containing arguments.\n",
    "\n",
    "SYNTAX :\n",
    "\n",
    "       super(ChildClassName,self).__init__(arguments)\n",
    "\n",
    "3.Calling by using parent class name.\n",
    "\n",
    "SYNTAX :\n",
    "\n",
    "       parent.__init__(self,arguments)"
   ]
  },
  {
   "cell_type": "markdown",
   "metadata": {},
   "source": [
    "METHOD CHAINING \n",
    "\n",
    "* It is the phenomenon of calling a parent class method into a child class method to avoid code redundancy problems.\n",
    "\n",
    "* There are 3 ways to call to achieve the method chaining.\n",
    "\n",
    "1.Calling by using the super statement\n",
    "\n",
    "SYNTAX :\n",
    "\n",
    "        super().methodname(arguments)\n",
    "\n",
    "        NOTE : Super refers to parent class data/address\n",
    "\n",
    "2.Calling by using super containing arguments\n",
    "\n",
    "SYNTAX :\n",
    "\n",
    "       super(ChildClassName,self).methodname(arguments)\n",
    "\n",
    "3.Calling by using parent class name \n",
    "\n",
    "SYNTAX :\n",
    "\n",
    "       parent.methodname(self,arguments)\n"
   ]
  },
  {
   "cell_type": "markdown",
   "metadata": {},
   "source": [
    "POLYMORPHISM :\n",
    "\n",
    "* Poly means \"many\"\n",
    "\n",
    "* Morphs means \"forms\"\n",
    "\n",
    "* Polymorphism is the one of the features of  oops.\n",
    "\n",
    "* It is an ability of a programming language to present the same interface for several different functionalities / operations.\n",
    "\n",
    "* It is an ability to perform many tasks.\n",
    "\n",
    "* In terms of programming , it means reusing a single program it will work in multiple ways and multiple times.\n",
    "\n",
    "* It is the ability of an object or instance to take many forms in different instances.\n",
    "\n",
    "* It implements the concept of method overloading , method overriding , operator overloading and virtual functions.\n",
    "\n",
    "\n",
    "OPERATOR OVERLOADING :\n",
    "\n",
    "* It is nothing but the ability to redefine (implemantation) the behavour of an operator for user-defined types or classes.\n",
    "\n",
    "* This allows you to use operators such as +,-,*,==,!=,<,>,<=,>=,% etc.with your own custom objects.\n",
    "\n",
    "* To overload an operator in python , you need to define a special method with a specific name that corresponds to the operator\n",
    "  you want to overload .These special methods are also called magic methods or \"dunder methods\" (short for \"double undescore methods).\n",
    "\n",
    "* We can use the same operator for multiple purposes , that is nothing but operator overloading.\n",
    "\n",
    "* python supports operator overloading.\n",
    "\n",
    "EX : + operator can be used for arithmetic addition and collection for concatenation \n",
    "\n",
    "     print(10+20)  addition\n",
    "     print([10]+[20,30])  concatenation\n",
    "\n",
    "EX : * operator can be used for arithmetic multiplication and string reputation process.\n",
    "\n",
    "     print(10*20)   multiplication\n",
    "     print('-'*30)  replication"
   ]
  },
  {
   "cell_type": "code",
   "execution_count": 7,
   "metadata": {},
   "outputs": [],
   "source": [
    "class pys:\n",
    "    def __init__(self,m):\n",
    "        self.m=m\n",
    "\n",
    "    def __add__(self,other):\n",
    "        res=tuple(self.m)+tuple(other.m)\n",
    "        return res\n",
    "\n",
    "    def __sub__(self,other):\n",
    "        return self.m-other.m\n",
    "\n",
    "a=pys([10,20,30])\n",
    "b=pys((30,40,50))       "
   ]
  },
  {
   "cell_type": "code",
   "execution_count": 8,
   "metadata": {},
   "outputs": [
    {
     "name": "stdout",
     "output_type": "stream",
     "text": [
      "(30, 40, 50, 10, 20, 30)\n",
      "<__main__.pys object at 0x000001E35AE37790>\n"
     ]
    }
   ],
   "source": [
    "c=b+a\n",
    "print(c)\n",
    "\n",
    "print(a)"
   ]
  },
  {
   "cell_type": "code",
   "execution_count": 13,
   "metadata": {},
   "outputs": [],
   "source": [
    "class pys:\n",
    "    def __init__(self,m):\n",
    "        self.m=m\n",
    "\n",
    "    def __add__(self,other):\n",
    "        res=tuple(self.m)+tuple(other.m)\n",
    "        return res\n",
    "\n",
    "    def __sub__(self,other):\n",
    "        x=list(self.m)\n",
    "        y=list(other.m)\n",
    "        if len(x)!=len(y):\n",
    "            res=len(y)-len(x)\n",
    "            x+=([0]*res)\n",
    "        else:\n",
    "            res=len(x)-len(y)\n",
    "            y+=([0]*res)\n",
    "\n",
    "        u=[]\n",
    "        for i in range(0,len(x)):\n",
    "            u+=[x[i]-y[i]] \n",
    "        return u \n",
    "\n",
    "a=pys([10,20,10,20])\n",
    "b=pys([30,40,50,10,20])                  "
   ]
  },
  {
   "cell_type": "code",
   "execution_count": 14,
   "metadata": {},
   "outputs": [
    {
     "ename": "TypeError",
     "evalue": "unsupported operand type(s) for *: 'pys' and 'pys'",
     "output_type": "error",
     "traceback": [
      "\u001b[1;31m---------------------------------------------------------------------------\u001b[0m",
      "\u001b[1;31mTypeError\u001b[0m                                 Traceback (most recent call last)",
      "Cell \u001b[1;32mIn[14], line 1\u001b[0m\n\u001b[1;32m----> 1\u001b[0m c\u001b[39m=\u001b[39mb\u001b[39m*\u001b[39;49ma\n\u001b[0;32m      2\u001b[0m \u001b[39mprint\u001b[39m(c)\n\u001b[0;32m      4\u001b[0m \u001b[39mprint\u001b[39m(a)\n",
      "\u001b[1;31mTypeError\u001b[0m: unsupported operand type(s) for *: 'pys' and 'pys'"
     ]
    }
   ],
   "source": [
    "c=b*a\n",
    "print(c)\n",
    "\n",
    "print(a)"
   ]
  },
  {
   "cell_type": "code",
   "execution_count": 24,
   "metadata": {},
   "outputs": [
    {
     "data": {
      "text/plain": [
       "['__abs__',\n",
       " '__add__',\n",
       " '__and__',\n",
       " '__bool__',\n",
       " '__ceil__',\n",
       " '__class__',\n",
       " '__delattr__',\n",
       " '__dir__',\n",
       " '__divmod__',\n",
       " '__doc__',\n",
       " '__eq__',\n",
       " '__float__',\n",
       " '__floor__',\n",
       " '__floordiv__',\n",
       " '__format__',\n",
       " '__ge__',\n",
       " '__getattribute__',\n",
       " '__getnewargs__',\n",
       " '__getstate__',\n",
       " '__gt__',\n",
       " '__hash__',\n",
       " '__index__',\n",
       " '__init__',\n",
       " '__init_subclass__',\n",
       " '__int__',\n",
       " '__invert__',\n",
       " '__le__',\n",
       " '__lshift__',\n",
       " '__lt__',\n",
       " '__mod__',\n",
       " '__mul__',\n",
       " '__ne__',\n",
       " '__neg__',\n",
       " '__new__',\n",
       " '__or__',\n",
       " '__pos__',\n",
       " '__pow__',\n",
       " '__radd__',\n",
       " '__rand__',\n",
       " '__rdivmod__',\n",
       " '__reduce__',\n",
       " '__reduce_ex__',\n",
       " '__repr__',\n",
       " '__rfloordiv__',\n",
       " '__rlshift__',\n",
       " '__rmod__',\n",
       " '__rmul__',\n",
       " '__ror__',\n",
       " '__round__',\n",
       " '__rpow__',\n",
       " '__rrshift__',\n",
       " '__rshift__',\n",
       " '__rsub__',\n",
       " '__rtruediv__',\n",
       " '__rxor__',\n",
       " '__setattr__',\n",
       " '__sizeof__',\n",
       " '__str__',\n",
       " '__sub__',\n",
       " '__subclasshook__',\n",
       " '__truediv__',\n",
       " '__trunc__',\n",
       " '__xor__',\n",
       " 'as_integer_ratio',\n",
       " 'bit_count',\n",
       " 'bit_length',\n",
       " 'conjugate',\n",
       " 'denominator',\n",
       " 'from_bytes',\n",
       " 'imag',\n",
       " 'numerator',\n",
       " 'real',\n",
       " 'to_bytes']"
      ]
     },
     "execution_count": 24,
     "metadata": {},
     "output_type": "execute_result"
    }
   ],
   "source": [
    "dir(int)"
   ]
  },
  {
   "cell_type": "code",
   "execution_count": 25,
   "metadata": {},
   "outputs": [
    {
     "data": {
      "text/plain": [
       "['__abs__',\n",
       " '__add__',\n",
       " '__bool__',\n",
       " '__ceil__',\n",
       " '__class__',\n",
       " '__delattr__',\n",
       " '__dir__',\n",
       " '__divmod__',\n",
       " '__doc__',\n",
       " '__eq__',\n",
       " '__float__',\n",
       " '__floor__',\n",
       " '__floordiv__',\n",
       " '__format__',\n",
       " '__ge__',\n",
       " '__getattribute__',\n",
       " '__getformat__',\n",
       " '__getnewargs__',\n",
       " '__getstate__',\n",
       " '__gt__',\n",
       " '__hash__',\n",
       " '__init__',\n",
       " '__init_subclass__',\n",
       " '__int__',\n",
       " '__le__',\n",
       " '__lt__',\n",
       " '__mod__',\n",
       " '__mul__',\n",
       " '__ne__',\n",
       " '__neg__',\n",
       " '__new__',\n",
       " '__pos__',\n",
       " '__pow__',\n",
       " '__radd__',\n",
       " '__rdivmod__',\n",
       " '__reduce__',\n",
       " '__reduce_ex__',\n",
       " '__repr__',\n",
       " '__rfloordiv__',\n",
       " '__rmod__',\n",
       " '__rmul__',\n",
       " '__round__',\n",
       " '__rpow__',\n",
       " '__rsub__',\n",
       " '__rtruediv__',\n",
       " '__setattr__',\n",
       " '__sizeof__',\n",
       " '__str__',\n",
       " '__sub__',\n",
       " '__subclasshook__',\n",
       " '__truediv__',\n",
       " '__trunc__',\n",
       " 'as_integer_ratio',\n",
       " 'conjugate',\n",
       " 'fromhex',\n",
       " 'hex',\n",
       " 'imag',\n",
       " 'is_integer',\n",
       " 'real']"
      ]
     },
     "execution_count": 25,
     "metadata": {},
     "output_type": "execute_result"
    }
   ],
   "source": [
    "dir(float)"
   ]
  },
  {
   "cell_type": "code",
   "execution_count": 15,
   "metadata": {},
   "outputs": [
    {
     "data": {
      "text/plain": [
       "['__abs__',\n",
       " '__add__',\n",
       " '__bool__',\n",
       " '__class__',\n",
       " '__complex__',\n",
       " '__delattr__',\n",
       " '__dir__',\n",
       " '__doc__',\n",
       " '__eq__',\n",
       " '__format__',\n",
       " '__ge__',\n",
       " '__getattribute__',\n",
       " '__getnewargs__',\n",
       " '__getstate__',\n",
       " '__gt__',\n",
       " '__hash__',\n",
       " '__init__',\n",
       " '__init_subclass__',\n",
       " '__le__',\n",
       " '__lt__',\n",
       " '__mul__',\n",
       " '__ne__',\n",
       " '__neg__',\n",
       " '__new__',\n",
       " '__pos__',\n",
       " '__pow__',\n",
       " '__radd__',\n",
       " '__reduce__',\n",
       " '__reduce_ex__',\n",
       " '__repr__',\n",
       " '__rmul__',\n",
       " '__rpow__',\n",
       " '__rsub__',\n",
       " '__rtruediv__',\n",
       " '__setattr__',\n",
       " '__sizeof__',\n",
       " '__str__',\n",
       " '__sub__',\n",
       " '__subclasshook__',\n",
       " '__truediv__',\n",
       " 'conjugate',\n",
       " 'imag',\n",
       " 'real']"
      ]
     },
     "execution_count": 15,
     "metadata": {},
     "output_type": "execute_result"
    }
   ],
   "source": [
    "dir(complex)"
   ]
  },
  {
   "cell_type": "code",
   "execution_count": 26,
   "metadata": {},
   "outputs": [
    {
     "data": {
      "text/plain": [
       "['__abs__',\n",
       " '__add__',\n",
       " '__and__',\n",
       " '__bool__',\n",
       " '__ceil__',\n",
       " '__class__',\n",
       " '__delattr__',\n",
       " '__dir__',\n",
       " '__divmod__',\n",
       " '__doc__',\n",
       " '__eq__',\n",
       " '__float__',\n",
       " '__floor__',\n",
       " '__floordiv__',\n",
       " '__format__',\n",
       " '__ge__',\n",
       " '__getattribute__',\n",
       " '__getnewargs__',\n",
       " '__getstate__',\n",
       " '__gt__',\n",
       " '__hash__',\n",
       " '__index__',\n",
       " '__init__',\n",
       " '__init_subclass__',\n",
       " '__int__',\n",
       " '__invert__',\n",
       " '__le__',\n",
       " '__lshift__',\n",
       " '__lt__',\n",
       " '__mod__',\n",
       " '__mul__',\n",
       " '__ne__',\n",
       " '__neg__',\n",
       " '__new__',\n",
       " '__or__',\n",
       " '__pos__',\n",
       " '__pow__',\n",
       " '__radd__',\n",
       " '__rand__',\n",
       " '__rdivmod__',\n",
       " '__reduce__',\n",
       " '__reduce_ex__',\n",
       " '__repr__',\n",
       " '__rfloordiv__',\n",
       " '__rlshift__',\n",
       " '__rmod__',\n",
       " '__rmul__',\n",
       " '__ror__',\n",
       " '__round__',\n",
       " '__rpow__',\n",
       " '__rrshift__',\n",
       " '__rshift__',\n",
       " '__rsub__',\n",
       " '__rtruediv__',\n",
       " '__rxor__',\n",
       " '__setattr__',\n",
       " '__sizeof__',\n",
       " '__str__',\n",
       " '__sub__',\n",
       " '__subclasshook__',\n",
       " '__truediv__',\n",
       " '__trunc__',\n",
       " '__xor__',\n",
       " 'as_integer_ratio',\n",
       " 'bit_count',\n",
       " 'bit_length',\n",
       " 'conjugate',\n",
       " 'denominator',\n",
       " 'from_bytes',\n",
       " 'imag',\n",
       " 'numerator',\n",
       " 'real',\n",
       " 'to_bytes']"
      ]
     },
     "execution_count": 26,
     "metadata": {},
     "output_type": "execute_result"
    }
   ],
   "source": [
    "dir(bool)"
   ]
  },
  {
   "cell_type": "code",
   "execution_count": 16,
   "metadata": {},
   "outputs": [
    {
     "data": {
      "text/plain": [
       "['__add__',\n",
       " '__bytes__',\n",
       " '__class__',\n",
       " '__contains__',\n",
       " '__delattr__',\n",
       " '__dir__',\n",
       " '__doc__',\n",
       " '__eq__',\n",
       " '__format__',\n",
       " '__ge__',\n",
       " '__getattribute__',\n",
       " '__getitem__',\n",
       " '__getnewargs__',\n",
       " '__getstate__',\n",
       " '__gt__',\n",
       " '__hash__',\n",
       " '__init__',\n",
       " '__init_subclass__',\n",
       " '__iter__',\n",
       " '__le__',\n",
       " '__len__',\n",
       " '__lt__',\n",
       " '__mod__',\n",
       " '__mul__',\n",
       " '__ne__',\n",
       " '__new__',\n",
       " '__reduce__',\n",
       " '__reduce_ex__',\n",
       " '__repr__',\n",
       " '__rmod__',\n",
       " '__rmul__',\n",
       " '__setattr__',\n",
       " '__sizeof__',\n",
       " '__str__',\n",
       " '__subclasshook__',\n",
       " 'capitalize',\n",
       " 'center',\n",
       " 'count',\n",
       " 'decode',\n",
       " 'endswith',\n",
       " 'expandtabs',\n",
       " 'find',\n",
       " 'fromhex',\n",
       " 'hex',\n",
       " 'index',\n",
       " 'isalnum',\n",
       " 'isalpha',\n",
       " 'isascii',\n",
       " 'isdigit',\n",
       " 'islower',\n",
       " 'isspace',\n",
       " 'istitle',\n",
       " 'isupper',\n",
       " 'join',\n",
       " 'ljust',\n",
       " 'lower',\n",
       " 'lstrip',\n",
       " 'maketrans',\n",
       " 'partition',\n",
       " 'removeprefix',\n",
       " 'removesuffix',\n",
       " 'replace',\n",
       " 'rfind',\n",
       " 'rindex',\n",
       " 'rjust',\n",
       " 'rpartition',\n",
       " 'rsplit',\n",
       " 'rstrip',\n",
       " 'split',\n",
       " 'splitlines',\n",
       " 'startswith',\n",
       " 'strip',\n",
       " 'swapcase',\n",
       " 'title',\n",
       " 'translate',\n",
       " 'upper',\n",
       " 'zfill']"
      ]
     },
     "execution_count": 16,
     "metadata": {},
     "output_type": "execute_result"
    }
   ],
   "source": [
    "dir(bytes)"
   ]
  },
  {
   "cell_type": "code",
   "execution_count": 17,
   "metadata": {},
   "outputs": [
    {
     "data": {
      "text/plain": [
       "['__bool__',\n",
       " '__class__',\n",
       " '__delattr__',\n",
       " '__dir__',\n",
       " '__doc__',\n",
       " '__eq__',\n",
       " '__format__',\n",
       " '__ge__',\n",
       " '__getattribute__',\n",
       " '__getstate__',\n",
       " '__gt__',\n",
       " '__hash__',\n",
       " '__init__',\n",
       " '__init_subclass__',\n",
       " '__le__',\n",
       " '__lt__',\n",
       " '__ne__',\n",
       " '__new__',\n",
       " '__reduce__',\n",
       " '__reduce_ex__',\n",
       " '__repr__',\n",
       " '__setattr__',\n",
       " '__sizeof__',\n",
       " '__str__',\n",
       " '__subclasshook__']"
      ]
     },
     "execution_count": 17,
     "metadata": {},
     "output_type": "execute_result"
    }
   ],
   "source": [
    "dir(None)"
   ]
  },
  {
   "cell_type": "code",
   "execution_count": 18,
   "metadata": {},
   "outputs": [
    {
     "data": {
      "text/plain": [
       "['__add__',\n",
       " '__class__',\n",
       " '__contains__',\n",
       " '__delattr__',\n",
       " '__dir__',\n",
       " '__doc__',\n",
       " '__eq__',\n",
       " '__format__',\n",
       " '__ge__',\n",
       " '__getattribute__',\n",
       " '__getitem__',\n",
       " '__getnewargs__',\n",
       " '__getstate__',\n",
       " '__gt__',\n",
       " '__hash__',\n",
       " '__init__',\n",
       " '__init_subclass__',\n",
       " '__iter__',\n",
       " '__le__',\n",
       " '__len__',\n",
       " '__lt__',\n",
       " '__mod__',\n",
       " '__mul__',\n",
       " '__ne__',\n",
       " '__new__',\n",
       " '__reduce__',\n",
       " '__reduce_ex__',\n",
       " '__repr__',\n",
       " '__rmod__',\n",
       " '__rmul__',\n",
       " '__setattr__',\n",
       " '__sizeof__',\n",
       " '__str__',\n",
       " '__subclasshook__',\n",
       " 'capitalize',\n",
       " 'casefold',\n",
       " 'center',\n",
       " 'count',\n",
       " 'encode',\n",
       " 'endswith',\n",
       " 'expandtabs',\n",
       " 'find',\n",
       " 'format',\n",
       " 'format_map',\n",
       " 'index',\n",
       " 'isalnum',\n",
       " 'isalpha',\n",
       " 'isascii',\n",
       " 'isdecimal',\n",
       " 'isdigit',\n",
       " 'isidentifier',\n",
       " 'islower',\n",
       " 'isnumeric',\n",
       " 'isprintable',\n",
       " 'isspace',\n",
       " 'istitle',\n",
       " 'isupper',\n",
       " 'join',\n",
       " 'ljust',\n",
       " 'lower',\n",
       " 'lstrip',\n",
       " 'maketrans',\n",
       " 'partition',\n",
       " 'removeprefix',\n",
       " 'removesuffix',\n",
       " 'replace',\n",
       " 'rfind',\n",
       " 'rindex',\n",
       " 'rjust',\n",
       " 'rpartition',\n",
       " 'rsplit',\n",
       " 'rstrip',\n",
       " 'split',\n",
       " 'splitlines',\n",
       " 'startswith',\n",
       " 'strip',\n",
       " 'swapcase',\n",
       " 'title',\n",
       " 'translate',\n",
       " 'upper',\n",
       " 'zfill']"
      ]
     },
     "execution_count": 18,
     "metadata": {},
     "output_type": "execute_result"
    }
   ],
   "source": [
    "dir(str)"
   ]
  },
  {
   "cell_type": "code",
   "execution_count": 19,
   "metadata": {},
   "outputs": [
    {
     "data": {
      "text/plain": [
       "['__add__',\n",
       " '__class__',\n",
       " '__class_getitem__',\n",
       " '__contains__',\n",
       " '__delattr__',\n",
       " '__delitem__',\n",
       " '__dir__',\n",
       " '__doc__',\n",
       " '__eq__',\n",
       " '__format__',\n",
       " '__ge__',\n",
       " '__getattribute__',\n",
       " '__getitem__',\n",
       " '__getstate__',\n",
       " '__gt__',\n",
       " '__hash__',\n",
       " '__iadd__',\n",
       " '__imul__',\n",
       " '__init__',\n",
       " '__init_subclass__',\n",
       " '__iter__',\n",
       " '__le__',\n",
       " '__len__',\n",
       " '__lt__',\n",
       " '__mul__',\n",
       " '__ne__',\n",
       " '__new__',\n",
       " '__reduce__',\n",
       " '__reduce_ex__',\n",
       " '__repr__',\n",
       " '__reversed__',\n",
       " '__rmul__',\n",
       " '__setattr__',\n",
       " '__setitem__',\n",
       " '__sizeof__',\n",
       " '__str__',\n",
       " '__subclasshook__',\n",
       " 'append',\n",
       " 'clear',\n",
       " 'copy',\n",
       " 'count',\n",
       " 'extend',\n",
       " 'index',\n",
       " 'insert',\n",
       " 'pop',\n",
       " 'remove',\n",
       " 'reverse',\n",
       " 'sort']"
      ]
     },
     "execution_count": 19,
     "metadata": {},
     "output_type": "execute_result"
    }
   ],
   "source": [
    "dir(list)"
   ]
  },
  {
   "cell_type": "code",
   "execution_count": 20,
   "metadata": {},
   "outputs": [
    {
     "data": {
      "text/plain": [
       "['__add__',\n",
       " '__class__',\n",
       " '__class_getitem__',\n",
       " '__contains__',\n",
       " '__delattr__',\n",
       " '__dir__',\n",
       " '__doc__',\n",
       " '__eq__',\n",
       " '__format__',\n",
       " '__ge__',\n",
       " '__getattribute__',\n",
       " '__getitem__',\n",
       " '__getnewargs__',\n",
       " '__getstate__',\n",
       " '__gt__',\n",
       " '__hash__',\n",
       " '__init__',\n",
       " '__init_subclass__',\n",
       " '__iter__',\n",
       " '__le__',\n",
       " '__len__',\n",
       " '__lt__',\n",
       " '__mul__',\n",
       " '__ne__',\n",
       " '__new__',\n",
       " '__reduce__',\n",
       " '__reduce_ex__',\n",
       " '__repr__',\n",
       " '__rmul__',\n",
       " '__setattr__',\n",
       " '__sizeof__',\n",
       " '__str__',\n",
       " '__subclasshook__',\n",
       " 'count',\n",
       " 'index']"
      ]
     },
     "execution_count": 20,
     "metadata": {},
     "output_type": "execute_result"
    }
   ],
   "source": [
    "dir(tuple)"
   ]
  },
  {
   "cell_type": "code",
   "execution_count": 21,
   "metadata": {},
   "outputs": [
    {
     "data": {
      "text/plain": [
       "['__and__',\n",
       " '__class__',\n",
       " '__class_getitem__',\n",
       " '__contains__',\n",
       " '__delattr__',\n",
       " '__dir__',\n",
       " '__doc__',\n",
       " '__eq__',\n",
       " '__format__',\n",
       " '__ge__',\n",
       " '__getattribute__',\n",
       " '__getstate__',\n",
       " '__gt__',\n",
       " '__hash__',\n",
       " '__iand__',\n",
       " '__init__',\n",
       " '__init_subclass__',\n",
       " '__ior__',\n",
       " '__isub__',\n",
       " '__iter__',\n",
       " '__ixor__',\n",
       " '__le__',\n",
       " '__len__',\n",
       " '__lt__',\n",
       " '__ne__',\n",
       " '__new__',\n",
       " '__or__',\n",
       " '__rand__',\n",
       " '__reduce__',\n",
       " '__reduce_ex__',\n",
       " '__repr__',\n",
       " '__ror__',\n",
       " '__rsub__',\n",
       " '__rxor__',\n",
       " '__setattr__',\n",
       " '__sizeof__',\n",
       " '__str__',\n",
       " '__sub__',\n",
       " '__subclasshook__',\n",
       " '__xor__',\n",
       " 'add',\n",
       " 'clear',\n",
       " 'copy',\n",
       " 'difference',\n",
       " 'difference_update',\n",
       " 'discard',\n",
       " 'intersection',\n",
       " 'intersection_update',\n",
       " 'isdisjoint',\n",
       " 'issubset',\n",
       " 'issuperset',\n",
       " 'pop',\n",
       " 'remove',\n",
       " 'symmetric_difference',\n",
       " 'symmetric_difference_update',\n",
       " 'union',\n",
       " 'update']"
      ]
     },
     "execution_count": 21,
     "metadata": {},
     "output_type": "execute_result"
    }
   ],
   "source": [
    "dir(set)"
   ]
  },
  {
   "cell_type": "code",
   "execution_count": 22,
   "metadata": {},
   "outputs": [
    {
     "data": {
      "text/plain": [
       "['__class__',\n",
       " '__class_getitem__',\n",
       " '__contains__',\n",
       " '__delattr__',\n",
       " '__delitem__',\n",
       " '__dir__',\n",
       " '__doc__',\n",
       " '__eq__',\n",
       " '__format__',\n",
       " '__ge__',\n",
       " '__getattribute__',\n",
       " '__getitem__',\n",
       " '__getstate__',\n",
       " '__gt__',\n",
       " '__hash__',\n",
       " '__init__',\n",
       " '__init_subclass__',\n",
       " '__ior__',\n",
       " '__iter__',\n",
       " '__le__',\n",
       " '__len__',\n",
       " '__lt__',\n",
       " '__ne__',\n",
       " '__new__',\n",
       " '__or__',\n",
       " '__reduce__',\n",
       " '__reduce_ex__',\n",
       " '__repr__',\n",
       " '__reversed__',\n",
       " '__ror__',\n",
       " '__setattr__',\n",
       " '__setitem__',\n",
       " '__sizeof__',\n",
       " '__str__',\n",
       " '__subclasshook__',\n",
       " 'clear',\n",
       " 'copy',\n",
       " 'fromkeys',\n",
       " 'get',\n",
       " 'items',\n",
       " 'keys',\n",
       " 'pop',\n",
       " 'popitem',\n",
       " 'setdefault',\n",
       " 'update',\n",
       " 'values']"
      ]
     },
     "execution_count": 22,
     "metadata": {},
     "output_type": "execute_result"
    }
   ],
   "source": [
    "dir(dict)"
   ]
  },
  {
   "cell_type": "code",
   "execution_count": 23,
   "metadata": {},
   "outputs": [
    {
     "data": {
      "text/plain": [
       "['__bool__',\n",
       " '__class__',\n",
       " '__contains__',\n",
       " '__delattr__',\n",
       " '__dir__',\n",
       " '__doc__',\n",
       " '__eq__',\n",
       " '__format__',\n",
       " '__ge__',\n",
       " '__getattribute__',\n",
       " '__getitem__',\n",
       " '__getstate__',\n",
       " '__gt__',\n",
       " '__hash__',\n",
       " '__init__',\n",
       " '__init_subclass__',\n",
       " '__iter__',\n",
       " '__le__',\n",
       " '__len__',\n",
       " '__lt__',\n",
       " '__ne__',\n",
       " '__new__',\n",
       " '__reduce__',\n",
       " '__reduce_ex__',\n",
       " '__repr__',\n",
       " '__reversed__',\n",
       " '__setattr__',\n",
       " '__sizeof__',\n",
       " '__str__',\n",
       " '__subclasshook__',\n",
       " 'count',\n",
       " 'index',\n",
       " 'start',\n",
       " 'step',\n",
       " 'stop']"
      ]
     },
     "execution_count": 23,
     "metadata": {},
     "output_type": "execute_result"
    }
   ],
   "source": [
    "dir(range)"
   ]
  },
  {
   "cell_type": "markdown",
   "metadata": {},
   "source": [
    "BASIC MAGIC METHODS :\n",
    "\n",
    "In the above program def __add__(self,other): In this function definition we are using the two args one is \"self\" and another one is \"another\",self args is considered the first object address.object args are considering the second object address.\n",
    "\n",
    "                         OPERATOR                                   MAGIC METHOD\n",
    "\n",
    "                            +                                    __add__(self,other)\n",
    "\n",
    "                            _                                    __sub__(self,other)     \n",
    "                            \n",
    "                            *                                    __mul__(self,other)\n",
    "\n",
    "                            /                                    __truediv__(self,other)\n",
    "\n",
    "                            //                                   __floordiv__(self,other)  \n",
    "\n",
    "                            %                                    __mod__(self,other)\n",
    "\n",
    "                            **                                   __pow__(self,other)\n",
    "\n",
    "                            <                                    __lt__(self,other)\n",
    "\n",
    "                            >                                    __gt__(self,other)\n",
    "\n",
    "                            <=                                   __le__(self,other)\n",
    "\n",
    "                            >=                                   __ge__(self,other)\n",
    "\n",
    "                            ==                                   __eq__(self,other)\n",
    "\n",
    "                            !=                                   __ne__(self,other)\n",
    "\n",
    "                            +=                                   __iadd__(self,other)\n",
    "\n",
    "                            -=                                   __isub__(self,other)\n",
    "\n",
    "                            *=                                   __imul__(self,other)\n",
    "\n",
    "                            /=                                   __itruediv__(self,other)\n",
    "\n",
    "                            //=                                  __ifloordiv__(self,other)\n",
    "\n",
    "                            %=                                   __imod__(self,other)\n",
    "\n",
    "                            **=                                  __ipow__(self,other)\n",
    "\n",
    "\n"
   ]
  }
 ],
 "metadata": {
  "kernelspec": {
   "display_name": "Python 3",
   "language": "python",
   "name": "python3"
  },
  "language_info": {
   "codemirror_mode": {
    "name": "ipython",
    "version": 3
   },
   "file_extension": ".py",
   "mimetype": "text/x-python",
   "name": "python",
   "nbconvert_exporter": "python",
   "pygments_lexer": "ipython3",
   "version": "3.11.3"
  },
  "orig_nbformat": 4
 },
 "nbformat": 4,
 "nbformat_minor": 2
}
