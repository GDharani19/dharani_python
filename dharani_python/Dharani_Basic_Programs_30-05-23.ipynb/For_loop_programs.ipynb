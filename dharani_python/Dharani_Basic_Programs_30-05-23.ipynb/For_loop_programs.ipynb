{
 "cells": [
  {
   "cell_type": "code",
   "execution_count": 3,
   "metadata": {},
   "outputs": [
    {
     "name": "stdout",
     "output_type": "stream",
     "text": [
      "M O B I L E "
     ]
    }
   ],
   "source": [
    "# WAP to extract the characters from the given string using for loop.\n",
    "\n",
    "st=\"MOBILE\"\n",
    "for i in st:\n",
    "    print(i,end=\" \")"
   ]
  },
  {
   "cell_type": "code",
   "execution_count": 6,
   "metadata": {},
   "outputs": [
    {
     "name": "stdout",
     "output_type": "stream",
     "text": [
      "1 2 3 4 5 6 7 "
     ]
    }
   ],
   "source": [
    "# WAP to extract the values from the list.\n",
    "\n",
    "l=[1,2,3,4,5,6,7]\n",
    "for i in l:\n",
    "    print(i,end=\" \")"
   ]
  },
  {
   "cell_type": "code",
   "execution_count": 7,
   "metadata": {},
   "outputs": [
    {
     "name": "stdout",
     "output_type": "stream",
     "text": [
      "1 2 3 4 5 6 7 "
     ]
    }
   ],
   "source": [
    "# WAP to extract the values from the tuple.\n",
    "\n",
    "t=(1,2,3,4,5,6,7)\n",
    "for i in t:\n",
    "    print(i,end=\" \")"
   ]
  },
  {
   "cell_type": "code",
   "execution_count": 8,
   "metadata": {},
   "outputs": [
    {
     "name": "stdout",
     "output_type": "stream",
     "text": [
      "1 2 3 4 5 6 7 "
     ]
    }
   ],
   "source": [
    "# WAP to extract the values from the tuple.\n",
    "\n",
    "s={1,2,3,4,5,6,7}\n",
    "for i in s:\n",
    "    print(i,end=\" \")"
   ]
  },
  {
   "cell_type": "code",
   "execution_count": 12,
   "metadata": {},
   "outputs": [
    {
     "name": "stdout",
     "output_type": "stream",
     "text": [
      "1 2 3 4 5 6 7 "
     ]
    }
   ],
   "source": [
    "# WAP to extract the keys from the dictionary.\n",
    "\n",
    "d={1:10,2:20,3:30,4:40,5:50,6:60,7:70}\n",
    "for i in d:\n",
    "    print(i,end=\" \")"
   ]
  },
  {
   "cell_type": "code",
   "execution_count": 11,
   "metadata": {},
   "outputs": [
    {
     "name": "stdout",
     "output_type": "stream",
     "text": [
      "10 20 30 40 50 60 70 "
     ]
    }
   ],
   "source": [
    "# WAP to extract the keys from the dictionary.\n",
    "\n",
    "d={1:10,2:20,3:30,4:40,5:50,6:60,7:70}\n",
    "for i in d:\n",
    "    print(d[i],end=\" \")"
   ]
  },
  {
   "cell_type": "code",
   "execution_count": 18,
   "metadata": {},
   "outputs": [
    {
     "name": "stdout",
     "output_type": "stream",
     "text": [
      "1 3 5 7 9 11 13 15 17 19 "
     ]
    }
   ],
   "source": [
    "#WAP to print the numbers from 1 to 20 with the differnce 2.\n",
    "\n",
    "for i in range(1,20,2):\n",
    "    print(i,end=\" \")"
   ]
  },
  {
   "cell_type": "code",
   "execution_count": 36,
   "metadata": {},
   "outputs": [
    {
     "name": "stdout",
     "output_type": "stream",
     "text": [
      "HELLO WORLD\n",
      "['dharani', 'usha', 23, 22, ['sumathi', 'narasimha rao', 10]]\n",
      "('dharani', 'usha', 23, 22, ['sumathi', 'narasimha rao', 10])\n",
      "{'usha', 22, 23, 'dharani', ('sumathi', 'narasimha rao', 10)}\n",
      "{1: 'dharani', 2: 'usha', 3: 'narasimharao', 4: 'sumathi'}\n"
     ]
    }
   ],
   "source": [
    "# WAP to extract and store the data items in different from given collection.\n",
    "\n",
    "st=\"HELLO WORLD\"\n",
    "res=\"\"\n",
    "for i in st:\n",
    "    res+=i\n",
    "print(res)\n",
    "\n",
    "l=[\"dharani\",\"usha\",23,22,[\"sumathi\",\"narasimha rao\",10]]\n",
    "res=[]\n",
    "for i in l:\n",
    "    res+=[i]\n",
    "print(res) \n",
    "\n",
    "t=(\"dharani\",\"usha\",23,22,[\"sumathi\",\"narasimha rao\",10])\n",
    "res=()\n",
    "for i in t:\n",
    "    res+=(i,)\n",
    "print(res) \n",
    "\n",
    "s={\"dharani\",\"usha\",23,22,(\"sumathi\",\"narasimha rao\",10)}\n",
    "res=set()\n",
    "for i in s:\n",
    "    res|={i}\n",
    "print(res) \n",
    "\n",
    "d={1:\"dharani\",2:\"usha\",3:\"narasimharao\",4:\"sumathi\"}\n",
    "res={}\n",
    "for i in d:\n",
    "    res|={i:d[i]}\n",
    "print(res)"
   ]
  },
  {
   "cell_type": "code",
   "execution_count": 39,
   "metadata": {},
   "outputs": [
    {
     "name": "stdout",
     "output_type": "stream",
     "text": [
      "DHARANI\n"
     ]
    }
   ],
   "source": [
    "# wap to extract and store the uppercase characters from given string.\n",
    "\n",
    "st=\"DHARANIgottam\" \n",
    "res=\"\" \n",
    "for i in st:\n",
    "    if \"A\"<=i<=\"Z\":\n",
    "        res+=i\n",
    "print(res)    "
   ]
  },
  {
   "cell_type": "code",
   "execution_count": 40,
   "metadata": {},
   "outputs": [
    {
     "name": "stdout",
     "output_type": "stream",
     "text": [
      "gottam\n"
     ]
    }
   ],
   "source": [
    "# wap to extract and store the lowercase characters from given string.\n",
    "\n",
    "st=\"DHARANIgottam\" \n",
    "res=\"\" \n",
    "for i in st:\n",
    "    if \"a\"<=i<=\"z\":\n",
    "        res+=i\n",
    "print(res)    "
   ]
  },
  {
   "cell_type": "code",
   "execution_count": 42,
   "metadata": {},
   "outputs": [
    {
     "name": "stdout",
     "output_type": "stream",
     "text": [
      "1234#@$56%&*\n"
     ]
    }
   ],
   "source": [
    "# wap to extract and store the special characters and ascii numbers from given string.\n",
    "\n",
    "n=\"1d2h3a4r#a@n$56%&*\"\n",
    "res=\"\"\n",
    "for i in n:\n",
    "    if not (\"A\"<=i<=\"Z\" or \"a\"<=i<=\"z\"):\n",
    "        res+=i\n",
    "print(res)        "
   ]
  },
  {
   "cell_type": "code",
   "execution_count": 49,
   "metadata": {},
   "outputs": [
    {
     "name": "stdout",
     "output_type": "stream",
     "text": [
      "d100h104a97r114#35a97@64n110$36%37&38*42 "
     ]
    }
   ],
   "source": [
    "# wap to extract and store the character with ascii value from given string.\n",
    "\n",
    "n=\"dhar#a@n$%&*\"\n",
    "res=\"\"\n",
    "for i in n:\n",
    "    res+=i+str(ord(i))\n",
    "print(res,end=\" \")        "
   ]
  },
  {
   "cell_type": "code",
   "execution_count": 1,
   "metadata": {},
   "outputs": [
    {
     "name": "stdout",
     "output_type": "stream",
     "text": [
      "DHAR ani !@#$% 7626\n"
     ]
    }
   ],
   "source": [
    "# wap to seperate the different characters from the given string.\n",
    "\n",
    "st=\"DHA!Rani7626@#$%\"\n",
    "uc,lc,sp,asnu=\"\",\"\",\"\",\"\"  \n",
    "for i in st:\n",
    "    if \"A\"<=i<=\"Z\":\n",
    "        uc+=i\n",
    "    elif \"a\"<=i<=\"z\":\n",
    "        lc+=i\n",
    "    elif \"0\"<=i<=\"9\":\n",
    "        asnu+=i\n",
    "    else:\n",
    "        sp+=i\n",
    "print(uc,lc,sp,asnu)            "
   ]
  },
  {
   "cell_type": "code",
   "execution_count": 5,
   "metadata": {},
   "outputs": [
    {
     "name": "stdout",
     "output_type": "stream",
     "text": [
      "Password is Valid\n"
     ]
    }
   ],
   "source": [
    "# wap to given string(password) is valid or not.\n",
    "# string should contain one uppercase/one lowercase/one numeric/one special character.\n",
    "\n",
    "st=\"Gottamdharani7626@gmail.com\"  \n",
    "uc,lc,sp,asnu=\"\",\"\",\"\",\"\"\n",
    "for i in st:\n",
    "    if \"A\"<=i<=\"Z\":\n",
    "        uc+=i\n",
    "    elif \"a\"<=i<=\"z\":\n",
    "        lc+=i\n",
    "    elif \"0\"<=i<=\"9\":\n",
    "        asnu+=i\n",
    "    else:\n",
    "        sp+=i\n",
    "if len(uc)>=1 and len(lc)>=1 and len(sp)>=1 and len(asnu)>=1:\n",
    "    print(\"Password is Valid\")\n",
    "else:\n",
    "    print(\"Password is Invalid\")           "
   ]
  },
  {
   "cell_type": "code",
   "execution_count": 54,
   "metadata": {},
   "outputs": [
    {
     "name": "stdout",
     "output_type": "stream",
     "text": [
      "Password is Invalid\n"
     ]
    }
   ],
   "source": [
    "# wap to given string(password) is valid or not.\n",
    "# string should contain one uppercase/one lowercase/one numeric/one special character.\n",
    "\n",
    "st=\"gottamdharani7626@gmail.com\"  \n",
    "uc,lc,sc,asnu=\"\",\"\",\"\",\"\"\n",
    "for i in st:\n",
    "    if \"A\"<=i<=\"Z\":\n",
    "        uc+=i\n",
    "    elif \"a\"<=i<=\"z\":\n",
    "        lc+=i\n",
    "    elif \"0\"<=i<=\"9\":\n",
    "        asnu+=i\n",
    "    else:\n",
    "        sp+=i\n",
    "if len(uc)>=1 and len(lc)>=1 and len(sp)>=1 and len(asnu)>=1:\n",
    "    print(\"Password is Valid\")\n",
    "else:\n",
    "    print(\"Password is Invalid\")           "
   ]
  },
  {
   "cell_type": "code",
   "execution_count": 59,
   "metadata": {},
   "outputs": [
    {
     "name": "stdout",
     "output_type": "stream",
     "text": [
      "Password is Valid\n"
     ]
    }
   ],
   "source": [
    "# wap to given string(password) is valid or not. string should be morethan 5 and less than 15 characters.\n",
    "# string should contain one uppercase/one lowercase/one numeric/one special characters.\n",
    "\n",
    "st=\"Gdharani7626@\"\n",
    "if len(st)>5 and len(st)<=15:\n",
    "    uc,lc,sp,asnu=\"\",\"\",\"\",\"\"\n",
    "    for i in st:\n",
    "        if \"A\"<=i<=\"Z\":\n",
    "            uc+=i\n",
    "        elif \"a\"<=i<=\"z\":\n",
    "            lc+=i\n",
    "        elif \"0\"<=i<=\"9\":\n",
    "            asnu+=i\n",
    "        else:\n",
    "            sp+=i\n",
    "    if len(uc)>=1 and len(lc)>=1 and len(sp)>=1 and len(asnu)>=1:\n",
    "        print(\"Password is Valid\")\n",
    "    else:\n",
    "        print(\"Password is Invalid\") \n",
    "else:\n",
    "    print(\"Password is Invalid\")                   "
   ]
  },
  {
   "cell_type": "code",
   "execution_count": 60,
   "metadata": {},
   "outputs": [
    {
     "name": "stdout",
     "output_type": "stream",
     "text": [
      "Password is Invalid\n"
     ]
    }
   ],
   "source": [
    "# wap to given string(password) is valid or not. string should be morethan 5 and less than 15 characters.\n",
    "# string should contain one uppercase/one lowercase/one numeric/one special characters.\n",
    "\n",
    "st=\"Gdharani7626@#$512340987\"\n",
    "if len(st)>5 and len(st)<=15:\n",
    "    uc,lc,sp,asnu=\"\",\"\",\"\",\"\"\n",
    "    for i in st:\n",
    "        if \"A\"<=i<=\"Z\":\n",
    "            uc+=i\n",
    "        elif \"a\"<=i<=\"z\":\n",
    "            lc+=i\n",
    "        elif \"0\"<=i<=\"9\":\n",
    "            asnu+=i\n",
    "        else:\n",
    "            sp+=i\n",
    "    if len(uc)>=1 and len(lc)>=1 and len(sp)>=1 and len(asnu)>=1:\n",
    "        print(\"Password is Valid\")\n",
    "    else:\n",
    "        print(\"Password is Invalid\") \n",
    "else:\n",
    "    print(\"Password is Invalid\")                   "
   ]
  },
  {
   "cell_type": "code",
   "execution_count": 69,
   "metadata": {},
   "outputs": [
    {
     "name": "stdout",
     "output_type": "stream",
     "text": [
      "dharani\n"
     ]
    }
   ],
   "source": [
    "# wap to convert uppercase to lowercase in given string.\n",
    "\n",
    "st=\"DHARANI\" \n",
    "uc=\"\"   \n",
    "for i in st:\n",
    "    if \"A\"<=i<=\"Z\":\n",
    "        uc+=chr(ord(i)+32)\n",
    "    else:\n",
    "        uc+=i    \n",
    "print(uc)"
   ]
  },
  {
   "cell_type": "code",
   "execution_count": 72,
   "metadata": {},
   "outputs": [
    {
     "name": "stdout",
     "output_type": "stream",
     "text": [
      "DHARANI\n"
     ]
    }
   ],
   "source": [
    "# wap to convert lowercase to uppercase in given string.\n",
    "\n",
    "st=\"dharani\" \n",
    "sc=\"\"   \n",
    "for i in st:\n",
    "    if \"a\"<=i<=\"z\":\n",
    "        sc+=chr(ord(i)-32)\n",
    "    else:\n",
    "        uc+=i    \n",
    "print(sc)"
   ]
  },
  {
   "cell_type": "code",
   "execution_count": 76,
   "metadata": {},
   "outputs": [
    {
     "name": "stdout",
     "output_type": "stream",
     "text": [
      "DHARANIdharani1234\n"
     ]
    }
   ],
   "source": [
    "# wap to convert lowercase to uppercase and vice verse in given string.\n",
    "\n",
    "st=\"dharaniDHARANI1234\"\n",
    "res=\"\"  \n",
    "for i in st:\n",
    "    if \"a\"<=i<=\"z\":\n",
    "        res+=chr(ord(i)-32)\n",
    "    elif \"A\"<=i<=\"Z\":\n",
    "        res+=chr(ord(i)+32) \n",
    "    else:\n",
    "        res+=i\n",
    "print(res)        \n"
   ]
  },
  {
   "cell_type": "code",
   "execution_count": 77,
   "metadata": {},
   "outputs": [
    {
     "name": "stdout",
     "output_type": "stream",
     "text": [
      "d\n",
      "h\n",
      "a\n",
      "r\n",
      "a\n",
      "n\n",
      "i\n",
      "g\n",
      "o\n",
      "t\n",
      "t\n",
      "a\n",
      "m\n"
     ]
    }
   ],
   "source": [
    "st=\"dharanigottam\"\n",
    "for i in st:\n",
    "    print(i)"
   ]
  },
  {
   "cell_type": "code",
   "execution_count": 81,
   "metadata": {},
   "outputs": [
    {
     "name": "stdout",
     "output_type": "stream",
     "text": [
      "inarahdmattog\n"
     ]
    }
   ],
   "source": [
    "st=\"gottamdharani\"\n",
    "res=\"\"\n",
    "for i in st:\n",
    "    res=i+res\n",
    "print(res)    "
   ]
  },
  {
   "cell_type": "code",
   "execution_count": 83,
   "metadata": {},
   "outputs": [
    {
     "name": "stdout",
     "output_type": "stream",
     "text": [
      "inarahdmattog\n"
     ]
    }
   ],
   "source": [
    "st=\"gottamdharani\"\n",
    "res=\"\"\n",
    "for i in st:\n",
    "    res+=i\n",
    "print(res[::-1])    "
   ]
  },
  {
   "cell_type": "code",
   "execution_count": 84,
   "metadata": {},
   "outputs": [
    {
     "name": "stdout",
     "output_type": "stream",
     "text": [
      "inarahdmattog\n"
     ]
    }
   ],
   "source": [
    "st=\"gottamdharani\"\n",
    "res=\"\"  \n",
    "for i in st[::-1]:\n",
    "    res+=i\n",
    "print(res)"
   ]
  },
  {
   "cell_type": "code",
   "execution_count": 88,
   "metadata": {},
   "outputs": [
    {
     "name": "stdout",
     "output_type": "stream",
     "text": [
      "inarahdmattog"
     ]
    }
   ],
   "source": [
    "st=\"gottamdharani\" \n",
    "for i in st[::-1]:\n",
    "    print(i,end=\"\")"
   ]
  },
  {
   "cell_type": "code",
   "execution_count": 92,
   "metadata": {},
   "outputs": [
    {
     "name": "stdout",
     "output_type": "stream",
     "text": [
      "inarahdmattog"
     ]
    }
   ],
   "source": [
    "st=\"gottamdharani\"  \n",
    "for i in range(len(st)-1,-1,-1):\n",
    "    print(st[i],end=\"\")"
   ]
  },
  {
   "cell_type": "code",
   "execution_count": 94,
   "metadata": {},
   "outputs": [
    {
     "name": "stdout",
     "output_type": "stream",
     "text": [
      "inarahdmattog"
     ]
    }
   ],
   "source": [
    "st=\"gottamdharani\"\n",
    "ind=len(st)-1\n",
    "for i in st:\n",
    "    print(st[ind],end=\"\")\n",
    "    ind-=1"
   ]
  },
  {
   "cell_type": "code",
   "execution_count": 106,
   "metadata": {},
   "outputs": [
    {
     "name": "stdout",
     "output_type": "stream",
     "text": [
      "daai\n",
      "daai\n",
      "nrsmaa\n",
      "nrsmaa"
     ]
    }
   ],
   "source": [
    "# WAP to extract the even index values.\n",
    "\n",
    "st=\"dharani\" \n",
    "count=0 \n",
    "for i in st:\n",
    "    if count%2==0:\n",
    "        print(i,end=\"\")\n",
    "    count+=1 \n",
    "\n",
    "print()\n",
    "\n",
    "st=\"dharani\"  \n",
    "for i in range(0,len(st),2):\n",
    "    print(st[i],end=\"\") \n",
    "\n",
    "print()\n",
    "\n",
    "st=\"narasimharao\"\n",
    "for i in range(0,len(st)):\n",
    "    if i%2==0:\n",
    "        print(st[i],end=\"\")\n",
    "\n",
    "print()\n",
    "\n",
    "st=\"narasimharao\"  \n",
    "for i in st[::2]:\n",
    "    print(i,end=\"\")\n"
   ]
  },
  {
   "cell_type": "code",
   "execution_count": 108,
   "metadata": {},
   "outputs": [
    {
     "name": "stdout",
     "output_type": "stream",
     "text": [
      "got😍amdh😍r😍ni\n"
     ]
    }
   ],
   "source": [
    "# WAP to print the another variable in the place of repeated characters.\n",
    "\n",
    "st=\"gottamdharani\"\n",
    "res=\"\"  \n",
    "for i in st:\n",
    "    if i not in res:\n",
    "        res+=i\n",
    "    else:\n",
    "        res+=\"😍\"\n",
    "print(res)            "
   ]
  },
  {
   "cell_type": "code",
   "execution_count": 8,
   "metadata": {},
   "outputs": [
    {
     "name": "stdout",
     "output_type": "stream",
     "text": [
      "$hs_et@iN\n"
     ]
    }
   ],
   "source": [
    "st=\"Ni@te_sh$\"\n",
    "start=0\n",
    "end=len(st)\n",
    "if st[start] in \"A\"<=st[start]<=\"Z\" and \"a\"<=st[start]<=\"z\":\n",
    "    start+=1\n",
    "# elif st[start] not in \"A\"<=st[start]<=\"Z\" and \"a\"<=st[start]<=\"z\" and \"0\"<=st[start]<=\"9\":\n",
    "#     start+=1    \n",
    "print(st[::-1])\n"
   ]
  }
 ],
 "metadata": {
  "kernelspec": {
   "display_name": "Python 3",
   "language": "python",
   "name": "python3"
  },
  "language_info": {
   "codemirror_mode": {
    "name": "ipython",
    "version": 3
   },
   "file_extension": ".py",
   "mimetype": "text/x-python",
   "name": "python",
   "nbconvert_exporter": "python",
   "pygments_lexer": "ipython3",
   "version": "3.11.3"
  },
  "orig_nbformat": 4
 },
 "nbformat": 4,
 "nbformat_minor": 2
}
