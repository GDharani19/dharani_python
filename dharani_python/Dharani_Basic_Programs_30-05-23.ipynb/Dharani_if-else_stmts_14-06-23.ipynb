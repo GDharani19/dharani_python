{
 "cells": [
  {
   "attachments": {},
   "cell_type": "markdown",
   "metadata": {},
   "source": [
    "1.WAP to check whether a number is positive or negative . if positive print positive message or else print negative message."
   ]
  },
  {
   "cell_type": "code",
   "execution_count": 4,
   "metadata": {},
   "outputs": [
    {
     "name": "stdout",
     "output_type": "stream",
     "text": [
      "positive\n"
     ]
    }
   ],
   "source": [
    "a=eval(input(\"enter a number:\"))\n",
    "if a>0:\n",
    "    print(\"positive\")\n",
    "else:\n",
    "    print(\"negative\")    "
   ]
  },
  {
   "attachments": {},
   "cell_type": "markdown",
   "metadata": {},
   "source": [
    "2.WAP to check whether a number is even or odd . if even print message as even or else print message as odd."
   ]
  },
  {
   "cell_type": "code",
   "execution_count": 7,
   "metadata": {},
   "outputs": [
    {
     "name": "stdout",
     "output_type": "stream",
     "text": [
      "odd\n"
     ]
    }
   ],
   "source": [
    "a=eval(input(\"enter a number:\"))\n",
    "if a%2==0:\n",
    "    print(\"even\")\n",
    "else:\n",
    "    print(\"odd\")    "
   ]
  },
  {
   "attachments": {},
   "cell_type": "markdown",
   "metadata": {},
   "source": [
    "3.WAP to check whether a given number is greater than 10 or not. if it is greater than 10 print message as greater or else print that number with not a greater than."
   ]
  },
  {
   "cell_type": "code",
   "execution_count": 10,
   "metadata": {},
   "outputs": [
    {
     "name": "stdout",
     "output_type": "stream",
     "text": [
      "greater\n"
     ]
    }
   ],
   "source": [
    "a=eval(input(\"enter a number:\"))\n",
    "if a>10:\n",
    "    print(\"greater\")\n",
    "else:\n",
    "    print(a)    "
   ]
  },
  {
   "attachments": {},
   "cell_type": "markdown",
   "metadata": {},
   "source": [
    "4.WAP to check whether a given value is present between 45 to 125 , if value is present print the ascii character."
   ]
  },
  {
   "cell_type": "code",
   "execution_count": 13,
   "metadata": {},
   "outputs": [
    {
     "name": "stdout",
     "output_type": "stream",
     "text": [
      "A\n"
     ]
    }
   ],
   "source": [
    "a=eval(input(\"enter a number:\"))\n",
    "if 45<a<125:\n",
    "    print(chr(a))"
   ]
  },
  {
   "attachments": {},
   "cell_type": "markdown",
   "metadata": {},
   "source": [
    "#.WAP to check whether both the values are even and same "
   ]
  },
  {
   "cell_type": "code",
   "execution_count": 1,
   "metadata": {},
   "outputs": [
    {
     "name": "stdout",
     "output_type": "stream",
     "text": [
      "52\n"
     ]
    }
   ],
   "source": [
    "a=13\n",
    "b=13\n",
    "if a%2==0 and b%2==0 and a==b:\n",
    "    res=a*b\n",
    "else:\n",
    "    res=2*(a+b)\n",
    "print(res)         "
   ]
  },
  {
   "attachments": {},
   "cell_type": "markdown",
   "metadata": {},
   "source": [
    "#.WAP the given value is odd and value is present in the range of 47 to 58 and it should not be a 0,if condition is true to perform /diplay \n",
    "the ascii character of the given value or else perfrom floor division with 5 then the final result is converted into character and display it."
   ]
  },
  {
   "cell_type": "code",
   "execution_count": 7,
   "metadata": {},
   "outputs": [
    {
     "name": "stdout",
     "output_type": "stream",
     "text": [
      "\u0018\n",
      "'\n",
      "5\n"
     ]
    }
   ],
   "source": [
    "a=120\n",
    "if a%2!=0 and 47<=a<58:\n",
    "    res=chr(a)\n",
    "else:\n",
    "    res=chr(a//5)\n",
    "print(res) \n",
    "\n",
    "\n",
    "a=198\n",
    "if a%2!=0 and 47<=a<58:\n",
    "    res=chr(a)\n",
    "else:\n",
    "    res=chr(a//5)\n",
    "print(res) \n",
    "\n",
    "a=53\n",
    "if a%2!=0 and 47<=a<58:\n",
    "    res=chr(a)\n",
    "else:\n",
    "    res=chr(a//5)\n",
    "print(res) "
   ]
  },
  {
   "attachments": {},
   "cell_type": "markdown",
   "metadata": {},
   "source": [
    "#.WAP to check whether the given value is lessthan 125 and in between 47 to 125 if condition is satisfied , to store the given value as a key and character as a value into the dictionary or else to append the value in the middle of the list and display it. "
   ]
  },
  {
   "cell_type": "code",
   "execution_count": 11,
   "metadata": {},
   "outputs": [
    {
     "name": "stdout",
     "output_type": "stream",
     "text": [
      "{'a': 10, 67: 'C'} [10, 20, 30]\n",
      "{'a': 10} [10, 127, 20, 30]\n"
     ]
    }
   ],
   "source": [
    "a=67\n",
    "d={'a':10}\n",
    "l=[10,20,30]\n",
    "if 47<a<125:\n",
    "    d[a]=chr(a)\n",
    "else:\n",
    "    l[len(l)//2:len(l)//2]=[a]    \n",
    "print(d,l)\n",
    "\n",
    "\n",
    "a=127\n",
    "d={'a':10}\n",
    "l=[10,20,30]\n",
    "if 47<a<125:\n",
    "    d[a]=chr(a)\n",
    "else:\n",
    "    l[len(l)//2:len(l)//2]=[a]    \n",
    "print(d,l)"
   ]
  },
  {
   "attachments": {},
   "cell_type": "markdown",
   "metadata": {},
   "source": [
    "#.WAP to check whether the given value is alphabet or not if alphabet to concat the given alphabet into set or else append the value in the ending of the tuple."
   ]
  },
  {
   "cell_type": "code",
   "execution_count": 29,
   "metadata": {},
   "outputs": [
    {
     "name": "stdout",
     "output_type": "stream",
     "text": [
      "{1, 2, 'A'}\n",
      "{1, 2} (1, 3, 5, '5')\n",
      "{1, 2} (1, 3, 5, 10)\n",
      "(1, 3, 5, 11)\n"
     ]
    }
   ],
   "source": [
    "a='A'\n",
    "s={1,2}\n",
    "t=(1,3,5)\n",
    "if 'A'<=a<'z' or 'a'<=a<'z':\n",
    "    s|={a}\n",
    "    print(s)\n",
    "else:\n",
    "    t+=(a,)\n",
    "    print(s,t) \n",
    "\n",
    "\n",
    "\n",
    "a='5'\n",
    "s={1,2}\n",
    "t=(1,3,5)\n",
    "if 'A'<=a<'z' or 'a'<=a<'z':\n",
    "    s|={a}\n",
    "    print(s)\n",
    "else:\n",
    "    t+=(a,)\n",
    "    print(s,t) \n",
    "\n",
    "\n",
    "a=eval(input(\"enter the value:\"))\n",
    "s={1,2}\n",
    "t=(1,3,5)\n",
    "if type(a)==str and ('A'<=a<'z' or 'a'<=a<'z'):\n",
    "    s|={a}\n",
    "    print(s)\n",
    "else:\n",
    "    t+=(a,)\n",
    "    print(s,t) \n",
    "\n",
    "\n",
    "a=eval(input(\"enter the value:\"))\n",
    "s={1,2}\n",
    "t=(1,3,5)\n",
    "if type(a)==str and ('A'<=a<'z' or 'a'<=a<'z'):\n",
    "    s|={a}\n",
    "    print(s)\n",
    "else:\n",
    "    t+=(a,)\n",
    "    print(t) "
   ]
  },
  {
   "attachments": {},
   "cell_type": "markdown",
   "metadata": {},
   "source": [
    "#.WAP to check the given character is uppercase or not . if uppercase then convert the given character is converted into lower case or else \n",
    "display the ascii value of the given character with the character."
   ]
  },
  {
   "cell_type": "code",
   "execution_count": 33,
   "metadata": {},
   "outputs": [
    {
     "name": "stdout",
     "output_type": "stream",
     "text": [
      "a\n",
      "97 a\n"
     ]
    }
   ],
   "source": [
    "x='A'\n",
    "if 'A'<=x<='Z':\n",
    "    print(chr(ord(x)+32))\n",
    "else:\n",
    "    print(ord(x),x)  \n",
    "\n",
    "\n",
    "x='a'\n",
    "if 'A'<=x<='Z':\n",
    "    print(chr(ord(x)+32))\n",
    "else:\n",
    "    print(ord(x),x)  \n",
    "          "
   ]
  },
  {
   "attachments": {},
   "cell_type": "markdown",
   "metadata": {},
   "source": [
    "#.WAP to check whether a given character is a vowel or consonant.if vowel print next character or else print previous character."
   ]
  },
  {
   "cell_type": "code",
   "execution_count": 36,
   "metadata": {},
   "outputs": [
    {
     "name": "stdout",
     "output_type": "stream",
     "text": [
      "b a\n",
      "a b\n",
      "F G\n"
     ]
    }
   ],
   "source": [
    "x='a'\n",
    "if x in 'AEIOUaeiou':\n",
    "    print(chr(ord(x)+1),x)\n",
    "else:\n",
    "    print(chr(ord(x)-1),x)\n",
    "\n",
    "\n",
    "x='b'\n",
    "if x in 'AEIOUaeiou':\n",
    "    print(chr(ord(x)+1),x)\n",
    "else:\n",
    "    print(chr(ord(x)-1),x)  \n",
    "\n",
    "x='G'\n",
    "if x in 'AEIOUaeiou':\n",
    "    print(chr(ord(x)+1),x)\n",
    "else:\n",
    "    print(chr(ord(x)-1),x)      \n",
    "          "
   ]
  },
  {
   "attachments": {},
   "cell_type": "markdown",
   "metadata": {},
   "source": [
    "#.WAP to check whether a given length of the string is even and length should be morethan 3 and lessthan 15.\n",
    "if condition is satisfied append the new string in middle of the given string or else delete the first ,middle,last characters of given string and display the remaining strings. "
   ]
  },
  {
   "cell_type": "code",
   "execution_count": 46,
   "metadata": {},
   "outputs": [
    {
     "name": "stdout",
     "output_type": "stream",
     "text": [
      "haan\n",
      "usushaha\n"
     ]
    }
   ],
   "source": [
    "x=\"Dharani\"         \n",
    "if len(x)%2==0 and 3<len(x)<15:\n",
    "    x=x[:len(x)//2]+\"usha\"+x[len(x)//2:]\n",
    "    print(x)\n",
    "else:\n",
    "    y=x[1:len(x)//2]+x[len(x)//2+1:-1] \n",
    "    print(y)  \n",
    "\n",
    "\n",
    "x=\"usha\"         \n",
    "if len(x)%2==0 and 3<len(x)<15:\n",
    "    x=x[:len(x)//2]+\"usha\"+x[len(x)//2:]\n",
    "    print(x)\n",
    "else:\n",
    "    y=x[1:len(x)//2]+x[len(x)//2+1:-1] \n",
    "    print(y)       "
   ]
  },
  {
   "attachments": {},
   "cell_type": "markdown",
   "metadata": {},
   "source": [
    "#.WAP to check whether a given value is a list and the first and the last values are should be integer or not\n",
    "if the condition is satisfied , perform true division by 3 for the first value and perform the cube of the last value and those values are storing in same position in the given list or else delete the first element and middle element and last two elements."
   ]
  },
  {
   "cell_type": "code",
   "execution_count": 51,
   "metadata": {},
   "outputs": [
    {
     "name": "stdout",
     "output_type": "stream",
     "text": [
      "[3.3333333333333335, 20, 30, 40, 50, 60, 70, 512000]\n",
      "[20, 30, 40, 60]\n"
     ]
    }
   ],
   "source": [
    "l=[10,20,30,40,50,60,70,80]\n",
    "if type(l)==list and type(l[0])==int and type(l[-1])==int:\n",
    "    l[0]/=3\n",
    "    l[-1]**=3\n",
    "else:\n",
    "    del l[0]\n",
    "    del l[len(l)//2]\n",
    "    del l[-2:]  \n",
    "print(l)  \n",
    "\n",
    "\n",
    "\n",
    "l=[10,20,30,40,50,60,70,80.5]\n",
    "if type(l)==list and type(l[0])==int and type(l[-1])==int:\n",
    "    l[0]/=3\n",
    "    l[-1]**=3\n",
    "else:\n",
    "    del l[0]\n",
    "    del l[len(l)//2]\n",
    "    del l[-2:]  \n",
    "print(l)  "
   ]
  },
  {
   "attachments": {},
   "cell_type": "markdown",
   "metadata": {},
   "source": [
    "5.WAP to check whether the given two input numbers are divisible by 3 and 5. If it is divisible, print “Good Morning”, if it is not print “Good Evening”."
   ]
  },
  {
   "cell_type": "code",
   "execution_count": 53,
   "metadata": {},
   "outputs": [
    {
     "name": "stdout",
     "output_type": "stream",
     "text": [
      "good evening\n",
      "good morning\n"
     ]
    }
   ],
   "source": [
    "a=15\n",
    "b=31\n",
    "if a%3==0 and b%5==0:\n",
    "    print(\"good morning\")\n",
    "else:\n",
    "    print(\"good evening\")  \n",
    "\n",
    "a=15\n",
    "b=30\n",
    "if a%3==0 and b%5==0:\n",
    "    print(\"good morning\")\n",
    "else:\n",
    "    print(\"good evening\")       "
   ]
  },
  {
   "attachments": {},
   "cell_type": "markdown",
   "metadata": {},
   "source": [
    "6.WAP to accept two integers and check whether they are equal or not.\n",
    "If equal, multiply to value or quotation value and display it."
   ]
  },
  {
   "cell_type": "code",
   "execution_count": 52,
   "metadata": {},
   "outputs": [
    {
     "name": "stdout",
     "output_type": "stream",
     "text": [
      "100\n",
      "10 20\n"
     ]
    }
   ],
   "source": [
    "a=10\n",
    "b=10\n",
    "if a==b:\n",
    "    print(a*b)\n",
    "else:\n",
    "    print(\"a,b\") \n",
    "\n",
    "a=10\n",
    "b=20\n",
    "if a==b:\n",
    "    print(a*b)\n",
    "else:\n",
    "    print(a,b)        "
   ]
  },
  {
   "attachments": {},
   "cell_type": "markdown",
   "metadata": {},
   "source": [
    "7.WAP to find the largest of two numbers."
   ]
  },
  {
   "cell_type": "code",
   "execution_count": 50,
   "metadata": {},
   "outputs": [
    {
     "name": "stdout",
     "output_type": "stream",
     "text": [
      "20 is greater\n",
      "30 is greater\n"
     ]
    }
   ],
   "source": [
    "a=10\n",
    "b=20\n",
    "if a>b:\n",
    "    print(a,\"is greater\")\n",
    "else:\n",
    "    print(b,\"is greater\")\n",
    "\n",
    "a=30\n",
    "b=20\n",
    "if a>b:\n",
    "    print(a,\"is greater\")\n",
    "else:\n",
    "    print(b,\"is greater\")        "
   ]
  },
  {
   "attachments": {},
   "cell_type": "markdown",
   "metadata": {},
   "source": [
    "8.WAP to check whether the input number is greater than 10 or not if it is greater than 10 print messages as greater with print that number. if that number is not greater than 10 print that number."
   ]
  },
  {
   "cell_type": "code",
   "execution_count": 48,
   "metadata": {},
   "outputs": [
    {
     "name": "stdout",
     "output_type": "stream",
     "text": [
      "52 greater\n",
      "5\n"
     ]
    }
   ],
   "source": [
    "a=52\n",
    "if a>10:\n",
    "    print(a,\"greater\")\n",
    "else:\n",
    "    print(a) \n",
    "\n",
    "a=5\n",
    "if a>10:\n",
    "    print(a,\"greater\")\n",
    "else:\n",
    "    print(a)     "
   ]
  },
  {
   "attachments": {},
   "cell_type": "markdown",
   "metadata": {},
   "source": [
    "9.WAP to the given number integer, if n is greater than 21,print the absolute difference between n and 21 otherwise print twice the absolute difference."
   ]
  },
  {
   "cell_type": "code",
   "execution_count": 46,
   "metadata": {},
   "outputs": [
    {
     "name": "stdout",
     "output_type": "stream",
     "text": [
      "7\n",
      "-2\n",
      "-2\n"
     ]
    }
   ],
   "source": [
    "a=28\n",
    "if a>21:\n",
    "    print(a-21)\n",
    "else:\n",
    "    print(a-21)\n",
    "    print(a-21)\n",
    "\n",
    "\n",
    "a=19\n",
    "if a>21:\n",
    "    print(a-21)\n",
    "else:\n",
    "    print(a-21)\n",
    "    print(a-21)    "
   ]
  },
  {
   "attachments": {},
   "cell_type": "markdown",
   "metadata": {},
   "source": [
    "10.WAP to find the smallest of two numbers."
   ]
  },
  {
   "cell_type": "code",
   "execution_count": 45,
   "metadata": {},
   "outputs": [
    {
     "name": "stdout",
     "output_type": "stream",
     "text": [
      "10 is smaller\n",
      "20 is smaller\n"
     ]
    }
   ],
   "source": [
    "a=10\n",
    "b=20\n",
    "if a<b:\n",
    "    print(a,\"is smaller\")\n",
    "else:\n",
    "    print(b) \n",
    "\n",
    "a=30\n",
    "b=20\n",
    "if a<b:\n",
    "    print(a)\n",
    "else:\n",
    "    print(b,\"is smaller\")       "
   ]
  },
  {
   "attachments": {},
   "cell_type": "markdown",
   "metadata": {},
   "source": [
    "11.WAP to check whether the given number is even or odd. If it is even then make it as an odd number, if it is an odd number then make it as even number."
   ]
  },
  {
   "cell_type": "code",
   "execution_count": 41,
   "metadata": {},
   "outputs": [
    {
     "name": "stdout",
     "output_type": "stream",
     "text": [
      "11 odd number\n",
      "10 even number\n"
     ]
    }
   ],
   "source": [
    "a=10\n",
    "if a%2==0:\n",
    "    print(a+1,\"odd number\")\n",
    "else:\n",
    "    print(a-1,\"even number\")\n",
    "\n",
    "a=11\n",
    "if a%2==0:\n",
    "    print(a+1,\"odd number\")\n",
    "else:\n",
    "    print(a-1,\"even number\")    "
   ]
  },
  {
   "attachments": {},
   "cell_type": "markdown",
   "metadata": {},
   "source": [
    "12.WAP to check whether the given number is divisible by 3 or not if yes,print the number or else print the cube of the numbers."
   ]
  },
  {
   "cell_type": "code",
   "execution_count": 40,
   "metadata": {},
   "outputs": [
    {
     "name": "stdout",
     "output_type": "stream",
     "text": [
      "3\n",
      "125\n"
     ]
    }
   ],
   "source": [
    "a=3\n",
    "if a%3==0:\n",
    "    print(a)\n",
    "else:\n",
    "    print(a**3)  \n",
    "\n",
    "\n",
    "a=5\n",
    "if a%3==0:\n",
    "    print(a)\n",
    "else:\n",
    "    print(a**3)  "
   ]
  },
  {
   "attachments": {},
   "cell_type": "markdown",
   "metadata": {},
   "source": [
    "13.WAP to check whether the given input is divisible by 3 and 5. If yes print the actual number or else print string of that number. "
   ]
  },
  {
   "cell_type": "code",
   "execution_count": 35,
   "metadata": {},
   "outputs": [
    {
     "name": "stdout",
     "output_type": "stream",
     "text": [
      "23 <class 'int'>\n"
     ]
    }
   ],
   "source": [
    "a=23                            ############\n",
    "if a%3==0 and a%5==0:\n",
    "    print(a)\n",
    "else:\n",
    "    print(str(a),type(a))    "
   ]
  },
  {
   "attachments": {},
   "cell_type": "markdown",
   "metadata": {},
   "source": [
    "14.WAP to check whether the given number lies between 1 to 19, if it is true square that number or else false cube that number  and display the number."
   ]
  },
  {
   "cell_type": "code",
   "execution_count": 39,
   "metadata": {},
   "outputs": [
    {
     "name": "stdout",
     "output_type": "stream",
     "text": [
      "324\n",
      "15625\n"
     ]
    }
   ],
   "source": [
    "a=18\n",
    "if 1<a<19:\n",
    "    print(a**2)\n",
    "else:\n",
    "    print(a**3)  \n",
    "\n",
    "a=25\n",
    "if 1<a<19:\n",
    "    print(a**2)\n",
    "else:\n",
    "    print(a**3)       "
   ]
  },
  {
   "attachments": {},
   "cell_type": "markdown",
   "metadata": {},
   "source": [
    "15.WAP to check whether the student has passed or failed. If the student got more than 40 marks, print ‘PASS’ along with those marks, if it is not printed ‘FAIL’ along with those marks."
   ]
  },
  {
   "cell_type": "code",
   "execution_count": 59,
   "metadata": {},
   "outputs": [
    {
     "name": "stdout",
     "output_type": "stream",
     "text": [
      "PASS 45\n",
      "FAIL 39\n"
     ]
    }
   ],
   "source": [
    "a=45\n",
    "if a>40:\n",
    "    print(\"PASS\",a)\n",
    "else:\n",
    "    print(\"FAIL\",a) \n",
    "\n",
    "a=39\n",
    "if a>40:\n",
    "    print(\"PASS\",a)\n",
    "else:\n",
    "    print(\"FAIL\",a)"
   ]
  },
  {
   "attachments": {},
   "cell_type": "markdown",
   "metadata": {},
   "source": [
    "16.WAP to check whether a given value is even and in range of 47 to 58 and not in 0 or odd. if condition is True, to perform display the ascii character.or else to perform floor division with 5 and display it."
   ]
  },
  {
   "cell_type": "code",
   "execution_count": 61,
   "metadata": {},
   "outputs": [
    {
     "name": "stdout",
     "output_type": "stream",
     "text": [
      "8\n",
      "12\n"
     ]
    }
   ],
   "source": [
    "a=56\n",
    "if 47<=a<58 and a!=0 or a%2!=0:\n",
    "    print(chr(a))\n",
    "else:\n",
    "    print(a//5) \n",
    "\n",
    "a=60\n",
    "if 47<=a<58 and a!=0 or a%2!=0:\n",
    "    print(chr(a))\n",
    "else:\n",
    "    print(a//5)        "
   ]
  },
  {
   "attachments": {},
   "cell_type": "markdown",
   "metadata": {},
   "source": [
    "17.WAP to check whether a given value is less than 125 and in between 47 to 125 or not. if condition is True, to perform store the given value as key and value as a character into the dict.or else to append the value in list and display it."
   ]
  },
  {
   "cell_type": "code",
   "execution_count": 65,
   "metadata": {},
   "outputs": [
    {
     "name": "stdout",
     "output_type": "stream",
     "text": [
      "{'a': 15, 65: 'A'} [1, 2, 3]\n",
      "{'a': 15} [1, 2, 3, 4, 5]\n"
     ]
    }
   ],
   "source": [
    "a=65\n",
    "b={'a':15}\n",
    "c=[1,2,3]\n",
    "if 47<a<125:\n",
    "    b[a]=chr(a)\n",
    "else:\n",
    "    print(c=c+[4,5])\n",
    "print(b,c)\n",
    "\n",
    "\n",
    "a=129\n",
    "b={'a':15}\n",
    "c=[1,2,3]\n",
    "if 47<a<125:\n",
    "    b[a]=chr(a)\n",
    "else:\n",
    "    c=c+[4,5]\n",
    "print(b,c)"
   ]
  },
  {
   "attachments": {},
   "cell_type": "markdown",
   "metadata": {},
   "source": [
    "18.WAP to check whether a given character is in the alphabet or not. if alphabet, display the alphabet with character.or else display the not alphabet with character."
   ]
  },
  {
   "cell_type": "code",
   "execution_count": 67,
   "metadata": {},
   "outputs": [
    {
     "name": "stdout",
     "output_type": "stream",
     "text": [
      "A alphabet\n",
      "5 not alphabet\n"
     ]
    }
   ],
   "source": [
    "a='A'\n",
    "if 'A'<=a<='Z' or 'a'<=a<='z':\n",
    "    print(a,\"alphabet\")\n",
    "else:\n",
    "    print(a,\"not alphabet\") \n",
    "\n",
    "a='5'\n",
    "if 'A'<=a<='Z' or 'a'<=a<='z':\n",
    "    print(a,\"alphabet\")\n",
    "else:\n",
    "    print(a,\"not alphabet\")        "
   ]
  },
  {
   "attachments": {},
   "cell_type": "markdown",
   "metadata": {},
   "source": [
    "19.WAP to check whether a given character is uppercase or other character. if uppercase, display the uppercase with character.or else display the other character with character."
   ]
  },
  {
   "cell_type": "code",
   "execution_count": 69,
   "metadata": {},
   "outputs": [
    {
     "name": "stdout",
     "output_type": "stream",
     "text": [
      "A uppercase\n",
      "a other character\n"
     ]
    }
   ],
   "source": [
    "a=\"A\"\n",
    "if 'A'<=a<='Z':\n",
    "    print(a,\"uppercase\")\n",
    "else:\n",
    "    print(a,\"other character\")   \n",
    "\n",
    "a=\"a\"\n",
    "if 'A'<=a<='Z':\n",
    "    print(a,\"uppercase\")\n",
    "else:\n",
    "    print(a,\"other character\")      "
   ]
  },
  {
   "attachments": {},
   "cell_type": "markdown",
   "metadata": {},
   "source": [
    "20.WAP to check whether a given character is lowercase or other character. if lowercase, display the lowercase with character.or else display the other character with character."
   ]
  },
  {
   "cell_type": "code",
   "execution_count": 71,
   "metadata": {},
   "outputs": [
    {
     "name": "stdout",
     "output_type": "stream",
     "text": [
      "A other character\n",
      "a lowercase\n"
     ]
    }
   ],
   "source": [
    "a=\"A\"\n",
    "if 'a'<=a<='z':\n",
    "    print(a,\"lowercase\")\n",
    "else:\n",
    "    print(a,\"other character\")   \n",
    "\n",
    "a=\"a\"\n",
    "if 'a'<=a<='z':\n",
    "    print(a,\"lowercase\")\n",
    "else:\n",
    "    print(a,\"other character\")"
   ]
  },
  {
   "attachments": {},
   "cell_type": "markdown",
   "metadata": {},
   "source": [
    "21.WAP to check whether a given character is uppercase or other character. if uppercase, convert to lowercase .or else display the ascii number."
   ]
  },
  {
   "cell_type": "code",
   "execution_count": 73,
   "metadata": {},
   "outputs": [
    {
     "name": "stdout",
     "output_type": "stream",
     "text": [
      "a\n",
      "97\n"
     ]
    }
   ],
   "source": [
    "a=\"A\"\n",
    "if 'A'<=a<='Z':\n",
    "    print(chr(ord(a)+32))\n",
    "else:\n",
    "    print(ord(a)) \n",
    "\n",
    "a=\"a\"\n",
    "if 'A'<=a<='Z':\n",
    "    print(chr(ord(a)+32))\n",
    "else:\n",
    "    print(ord(a))       "
   ]
  },
  {
   "attachments": {},
   "cell_type": "markdown",
   "metadata": {},
   "source": [
    "22.WAP to check whether the given character is in lowercase or uppercase. If it is in lowercase, convert it into uppercase, or else it is in uppercase and convert it into lowercase. Display the value."
   ]
  },
  {
   "cell_type": "code",
   "execution_count": 77,
   "metadata": {},
   "outputs": [
    {
     "name": "stdout",
     "output_type": "stream",
     "text": [
      "A\n",
      "a\n"
     ]
    }
   ],
   "source": [
    "a='a'\n",
    "if 'A'<=a<='Z' or 'a'<=a<='z':\n",
    "    print(chr(ord(a)-32))\n",
    "else:\n",
    "    print(chr(ord(a)+32))  \n",
    "\n",
    "a='A'                                     ################\n",
    "if 'A'<=a<='Z' or 'a'<=a<='z':\n",
    "    print(chr(ord(a)+32))\n",
    "else:\n",
    "    print(chr(ord(a)-32))       "
   ]
  },
  {
   "attachments": {},
   "cell_type": "markdown",
   "metadata": {},
   "source": [
    "23.WAP to check whether the given string of the first character is a special symbol or not. If a special symbol, to extract and display the middle character or else to reverse the string and display the half of the string."
   ]
  },
  {
   "cell_type": "code",
   "execution_count": 82,
   "metadata": {},
   "outputs": [
    {
     "ename": "TypeError",
     "evalue": "argument of type 'bool' is not iterable",
     "output_type": "error",
     "traceback": [
      "\u001b[1;31m---------------------------------------------------------------------------\u001b[0m",
      "\u001b[1;31mTypeError\u001b[0m                                 Traceback (most recent call last)",
      "Cell \u001b[1;32mIn[82], line 2\u001b[0m\n\u001b[0;32m      1\u001b[0m a\u001b[39m=\u001b[39m\u001b[39m\"\u001b[39m\u001b[39mapple\u001b[39m\u001b[39m\"\u001b[39m                     \u001b[39m#############\u001b[39;00m\n\u001b[1;32m----> 2\u001b[0m \u001b[39mif\u001b[39;00m a \u001b[39mnot\u001b[39;49;00m \u001b[39min\u001b[39;49;00m ((\u001b[39m'\u001b[39;49m\u001b[39mA\u001b[39;49m\u001b[39m'\u001b[39;49m\u001b[39m<\u001b[39;49m\u001b[39m=\u001b[39;49ma\u001b[39m<\u001b[39;49m\u001b[39m=\u001b[39;49m\u001b[39m'\u001b[39;49m\u001b[39mZ\u001b[39;49m\u001b[39m'\u001b[39;49m \u001b[39mor\u001b[39;49;00m \u001b[39m'\u001b[39;49m\u001b[39ma\u001b[39;49m\u001b[39m'\u001b[39;49m\u001b[39m<\u001b[39;49m\u001b[39m=\u001b[39;49ma\u001b[39m<\u001b[39;49m\u001b[39m'\u001b[39;49m\u001b[39mz\u001b[39;49m\u001b[39m'\u001b[39;49m \u001b[39mor\u001b[39;49;00m \u001b[39m'\u001b[39;49m\u001b[39m0\u001b[39;49m\u001b[39m'\u001b[39;49m\u001b[39m<\u001b[39;49m\u001b[39m=\u001b[39;49ma\u001b[39m<\u001b[39;49m\u001b[39m=\u001b[39;49m\u001b[39m'\u001b[39;49m\u001b[39m9\u001b[39;49m\u001b[39m'\u001b[39;49m)):\n\u001b[0;32m      3\u001b[0m     \u001b[39mprint\u001b[39m(a[\u001b[39mlen\u001b[39m(a)\u001b[39m/\u001b[39m\u001b[39m/\u001b[39m\u001b[39m2\u001b[39m])\n\u001b[0;32m      4\u001b[0m \u001b[39melse\u001b[39;00m:\n",
      "\u001b[1;31mTypeError\u001b[0m: argument of type 'bool' is not iterable"
     ]
    }
   ],
   "source": [
    "a=\"apple\"                     #############\n",
    "if a not in (('A'<=a<='Z' or 'a'<=a<'z' or '0'<=a<='9')):\n",
    "    print(a[len(a)//2])\n",
    "else:\n",
    "    print(a[::-1])    \n"
   ]
  },
  {
   "attachments": {},
   "cell_type": "markdown",
   "metadata": {},
   "source": [
    "24.WAP to check whether the input character is a vowel or not. If it is vowel print ‘VOWEL’ along with that character, if it is not just print ‘CONSONANT’."
   ]
  },
  {
   "cell_type": "code",
   "execution_count": 84,
   "metadata": {},
   "outputs": [
    {
     "name": "stdout",
     "output_type": "stream",
     "text": [
      "A VOWEL\n",
      "D CONSONANT\n"
     ]
    }
   ],
   "source": [
    "a='A'\n",
    "if a in 'AEIOUaeiou':\n",
    "    print(a,\"VOWEL\")\n",
    "else:\n",
    "    print(a,\"CONSONANT\") \n",
    "\n",
    "\n",
    "\n",
    "a='D'\n",
    "if a in 'AEIOUaeiou':\n",
    "    print(a,\"VOWEL\")\n",
    "else:\n",
    "    print(a,\"CONSONANT\")"
   ]
  },
  {
   "attachments": {},
   "cell_type": "markdown",
   "metadata": {},
   "source": [
    "25.WAP to check whether a given character is a vowel or consonant. if vowel,to print the next character of a given character or else print previous characters."
   ]
  },
  {
   "cell_type": "code",
   "execution_count": 90,
   "metadata": {},
   "outputs": [
    {
     "name": "stdout",
     "output_type": "stream",
     "text": [
      "b\n",
      "c\n"
     ]
    }
   ],
   "source": [
    "a='a'\n",
    "if a in \"AEIOUaeiou\":\n",
    "    print(chr(ord(a)+1))\n",
    "else:\n",
    "    print(chr(ord(a)-1)) \n",
    "\n",
    "a='d'\n",
    "if a in \"AEIOUaeiou\":\n",
    "    print(chr(ord(a)+1))\n",
    "else:\n",
    "    print(chr(ord(a)-1))        "
   ]
  },
  {
   "attachments": {},
   "cell_type": "markdown",
   "metadata": {},
   "source": [
    "26.WAP to check whether a given string of first character is alphabet or not if the alphabet prints, reverse the string or else print the middle character."
   ]
  },
  {
   "cell_type": "code",
   "execution_count": null,
   "metadata": {},
   "outputs": [],
   "source": []
  },
  {
   "attachments": {},
   "cell_type": "markdown",
   "metadata": {},
   "source": [
    "27.WAP to check whether the given input character is uppercase or lowercase. If the input character is upper case convert into lower case and vice versa."
   ]
  },
  {
   "cell_type": "code",
   "execution_count": 94,
   "metadata": {},
   "outputs": [
    {
     "name": "stdout",
     "output_type": "stream",
     "text": [
      "a\n",
      "A\n"
     ]
    }
   ],
   "source": [
    "a='A'\n",
    "if 'A'<=a<='Z':\n",
    "    print(chr(ord(a)+32))\n",
    "else:\n",
    "    print(chr(ord(a)-32))\n",
    "\n",
    "\n",
    "a='a'\n",
    "if 'A'<=a<='Z':\n",
    "    print(chr(ord(a)+32))\n",
    "else:\n",
    "    print(chr(ord(a)-32))"
   ]
  },
  {
   "attachments": {},
   "cell_type": "markdown",
   "metadata": {},
   "source": [
    "28.WAP to check whether a given string is less than 3 characters print the entire string otherwise  print after third positions to the remaining string."
   ]
  },
  {
   "cell_type": "code",
   "execution_count": 97,
   "metadata": {},
   "outputs": [
    {
     "name": "stdout",
     "output_type": "stream",
     "text": [
      "loworld\n",
      "hi\n"
     ]
    }
   ],
   "source": [
    "a=\"helloworld\"\n",
    "if len(a)<3:\n",
    "    print(a)\n",
    "else:\n",
    "    print(a[3::+1])\n",
    "\n",
    "\n",
    "a=\"hi\"\n",
    "if len(a)<3:\n",
    "    print(a)\n",
    "else:\n",
    "    print(a[3::+1])"
   ]
  },
  {
   "attachments": {},
   "cell_type": "markdown",
   "metadata": {},
   "source": [
    "29.WAP to check whether a given length of the string is even or not. if even, to append the new string called \"bye\" or else print the first and last characters."
   ]
  },
  {
   "cell_type": "code",
   "execution_count": 99,
   "metadata": {},
   "outputs": [
    {
     "name": "stdout",
     "output_type": "stream",
     "text": [
      "helloworldbyee\n",
      "h d\n"
     ]
    }
   ],
   "source": [
    "a=\"helloworld\"\n",
    "if len(a)%2==0:\n",
    "    print(a+\"byee\")\n",
    "else:\n",
    "    print(a[0],a[-1]) \n",
    "\n",
    "a=\"hello world\"\n",
    "if len(a)%2==0:\n",
    "    print(a+\"byee\")\n",
    "else:\n",
    "    print(a[0],a[-1])       "
   ]
  },
  {
   "attachments": {},
   "cell_type": "markdown",
   "metadata": {},
   "source": [
    "30.WAP to check whether a given length of the string is odd or not. if odd,append the new string(\"Haii\") from the starting of the given string, or else avoid the starting character and ending character of the given string and display the remaining characters."
   ]
  },
  {
   "cell_type": "code",
   "execution_count": 107,
   "metadata": {},
   "outputs": [
    {
     "name": "stdout",
     "output_type": "stream",
     "text": [
      "haiihello world\n",
      "elloworl\n"
     ]
    }
   ],
   "source": [
    "a=\"hello world\"\n",
    "if len(a)%2!=0:\n",
    "    print(\"haii\"+a)\n",
    "else:\n",
    "    print(a[1:-1]) \n",
    "\n",
    "a=\"helloworld\"\n",
    "if len(a)%2!=0:\n",
    "    print(\"haii\"+a)\n",
    "else:\n",
    "    print(a[1:-1])       "
   ]
  },
  {
   "attachments": {},
   "cell_type": "markdown",
   "metadata": {},
   "source": [
    "31.WAP to check whether the last of the given string is a special character or not, if the special character prints reverse the string except the last character or else to check if the length of the string is odd or not, if odd to extract the middle character to the end of the string."
   ]
  },
  {
   "cell_type": "code",
   "execution_count": null,
   "metadata": {},
   "outputs": [],
   "source": []
  },
  {
   "attachments": {},
   "cell_type": "markdown",
   "metadata": {},
   "source": [
    "32.WAP to check whether a given year is a leap year or not. if leap year, print leap year or else not a leap year."
   ]
  },
  {
   "cell_type": "code",
   "execution_count": 112,
   "metadata": {},
   "outputs": [
    {
     "name": "stdout",
     "output_type": "stream",
     "text": [
      "not a leap year\n",
      "leap year\n"
     ]
    }
   ],
   "source": [
    "a=2023\n",
    "if a%4==0:\n",
    "    print(\"leap year\")\n",
    "else:\n",
    "    print(\"not a leap year\")\n",
    "\n",
    "a=2020\n",
    "if a%4==0:\n",
    "    print(\"leap year\")\n",
    "else:\n",
    "    print(\"not a leap year\")        "
   ]
  },
  {
   "attachments": {},
   "cell_type": "markdown",
   "metadata": {},
   "source": [
    "33.WAP to find out the greatest of two numbers and display the greatest number.if the greatest number, display the greatest message with value."
   ]
  },
  {
   "cell_type": "code",
   "execution_count": 111,
   "metadata": {},
   "outputs": [
    {
     "name": "stdout",
     "output_type": "stream",
     "text": [
      "40 greatest\n"
     ]
    }
   ],
   "source": [
    "a=40\n",
    "b=20\n",
    "if a>b and a==40:\n",
    "    print(a,\"greatest\")"
   ]
  },
  {
   "attachments": {},
   "cell_type": "markdown",
   "metadata": {},
   "source": [
    "34.WAP to check whether the given value is present inside the given collection or not.if value is present, display the value is available or else the value is not present. "
   ]
  },
  {
   "cell_type": "code",
   "execution_count": 114,
   "metadata": {},
   "outputs": [
    {
     "name": "stdout",
     "output_type": "stream",
     "text": [
      "value is available\n",
      "not available\n"
     ]
    }
   ],
   "source": [
    "a=1,2,3,4,5\n",
    "b=3\n",
    "if b in a:\n",
    "    print(\"value is available\")\n",
    "else:\n",
    "    print(\"not available\")  \n",
    "\n",
    "a=1,2,3,4,5\n",
    "b=6\n",
    "if b in a:\n",
    "    print(\"value is available\")\n",
    "else:\n",
    "    print(\"not available\")     "
   ]
  },
  {
   "attachments": {},
   "cell_type": "markdown",
   "metadata": {},
   "source": [
    "35.WAP whether a given string, if string length is more than 2, then it displays a new string with the first and last characters switched, otherwise the display the 3 copies of given string."
   ]
  },
  {
   "cell_type": "code",
   "execution_count": 142,
   "metadata": {},
   "outputs": [
    {
     "name": "stdout",
     "output_type": "stream",
     "text": [
      "h True e\n",
      "hello\n"
     ]
    }
   ],
   "source": [
    "a=\"hello\"\n",
    "if len(a)>2:\n",
    "    print(a[0],a[4]==a[4],a[0] and (a[1:3+1:4])) \n",
    "    print(a)\n",
    "else:\n",
    "    print(3*a)    "
   ]
  },
  {
   "attachments": {},
   "cell_type": "markdown",
   "metadata": {},
   "source": [
    "36.WAP to check whether a given value is a list and first and last values should be integer,if condition is satisfied first value is true division by 3 and perform the bitwise not for last value and those result values are stored in same positions in list or else, to perform length of the collection power 2 and display it."
   ]
  },
  {
   "cell_type": "code",
   "execution_count": null,
   "metadata": {},
   "outputs": [],
   "source": [
    "a=[1,2,3,\"hello\",4,5,6]\n",
    "if list(a[0],)"
   ]
  }
 ],
 "metadata": {
  "kernelspec": {
   "display_name": "Python 3",
   "language": "python",
   "name": "python3"
  },
  "language_info": {
   "codemirror_mode": {
    "name": "ipython",
    "version": 3
   },
   "file_extension": ".py",
   "mimetype": "text/x-python",
   "name": "python",
   "nbconvert_exporter": "python",
   "pygments_lexer": "ipython3",
   "version": "3.11.3"
  },
  "orig_nbformat": 4
 },
 "nbformat": 4,
 "nbformat_minor": 2
}
