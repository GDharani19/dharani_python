{
 "cells": [
  {
   "attachments": {},
   "cell_type": "markdown",
   "metadata": {},
   "source": [
    "1.WAP to check whether a number is positive or negative . if positive print positive message or else print negative message."
   ]
  },
  {
   "cell_type": "code",
   "execution_count": 2,
   "metadata": {},
   "outputs": [
    {
     "name": "stdout",
     "output_type": "stream",
     "text": [
      "negative\n",
      "positive\n"
     ]
    }
   ],
   "source": [
    "a=eval(input(\"enter a number:\"))\n",
    "if a>0:\n",
    "    print(\"positive\")\n",
    "else:\n",
    "    print(\"negative\") \n",
    "\n",
    "\n",
    "a=eval(input(\"enter a number:\"))\n",
    "if a>0:\n",
    "    print(\"positive\")\n",
    "else:\n",
    "    print(\"negative\") "
   ]
  },
  {
   "attachments": {},
   "cell_type": "markdown",
   "metadata": {},
   "source": [
    "2.WAP to check whether a number is even or odd . if even print message as even or else print message as odd."
   ]
  },
  {
   "cell_type": "code",
   "execution_count": 3,
   "metadata": {},
   "outputs": [
    {
     "name": "stdout",
     "output_type": "stream",
     "text": [
      "even\n",
      "odd\n"
     ]
    }
   ],
   "source": [
    "a=eval(input(\"enter a number:\"))\n",
    "if a%2==0:\n",
    "    print(\"even\")\n",
    "else:\n",
    "    print(\"odd\")  \n",
    "\n",
    "a=eval(input(\"enter a number:\"))\n",
    "if a%2==0:\n",
    "    print(\"even\")\n",
    "else:\n",
    "    print(\"odd\")      "
   ]
  },
  {
   "attachments": {},
   "cell_type": "markdown",
   "metadata": {},
   "source": [
    "3.WAP to check whether a given number is greater than 10 or not. if it is greater than 10 print message as greater or else print that number with not a greater than."
   ]
  },
  {
   "cell_type": "code",
   "execution_count": 1,
   "metadata": {},
   "outputs": [
    {
     "name": "stdout",
     "output_type": "stream",
     "text": [
      "20 greater\n",
      "6 not greater than\n"
     ]
    }
   ],
   "source": [
    "a=eval(input(\"enter a number:\"))\n",
    "if a>10:\n",
    "    print(a,\"greater\")\n",
    "else:\n",
    "    print(a,\"not greater than\")\n",
    "\n",
    "a=eval(input(\"enter a number:\"))\n",
    "if a>10:\n",
    "    print(\"greater\")\n",
    "else:\n",
    "    print(a,\"not greater than\")        "
   ]
  },
  {
   "attachments": {},
   "cell_type": "markdown",
   "metadata": {},
   "source": [
    "4.WAP to check whether a given value is present between 45 to 125 , if value is present print the ascii character."
   ]
  },
  {
   "cell_type": "code",
   "execution_count": 13,
   "metadata": {},
   "outputs": [
    {
     "name": "stdout",
     "output_type": "stream",
     "text": [
      "A\n"
     ]
    }
   ],
   "source": [
    "a=eval(input(\"enter a number:\"))\n",
    "if 45<a<125:\n",
    "    print(chr(a))"
   ]
  },
  {
   "attachments": {},
   "cell_type": "markdown",
   "metadata": {},
   "source": [
    "#.WAP to check whether both the values are even and same "
   ]
  },
  {
   "cell_type": "code",
   "execution_count": 1,
   "metadata": {},
   "outputs": [
    {
     "name": "stdout",
     "output_type": "stream",
     "text": [
      "52\n"
     ]
    }
   ],
   "source": [
    "a=13\n",
    "b=13\n",
    "if a%2==0 and b%2==0 and a==b:\n",
    "    res=a*b\n",
    "else:\n",
    "    res=2*(a+b)\n",
    "print(res)         "
   ]
  },
  {
   "attachments": {},
   "cell_type": "markdown",
   "metadata": {},
   "source": [
    "#.WAP the given value is odd and value is present in the range of 47 to 58 and it should not be a 0,if condition is true to perform /diplay \n",
    "the ascii character of the given value or else perfrom floor division with 5 then the final result is converted into character and display it."
   ]
  },
  {
   "cell_type": "code",
   "execution_count": 2,
   "metadata": {},
   "outputs": [
    {
     "name": "stdout",
     "output_type": "stream",
     "text": [
      "\u0018\n",
      "'\n",
      "5\n"
     ]
    }
   ],
   "source": [
    "a=120\n",
    "if a%2!=0 and 47<=a<58 and a%2!=0:\n",
    "    res=chr(a)\n",
    "else:\n",
    "    res=chr(a//5)\n",
    "print(res) \n",
    "\n",
    "\n",
    "a=198\n",
    "if a%2!=0 and 47<=a<58 and a%2!=0:\n",
    "    res=chr(a)\n",
    "else:\n",
    "   res=chr(a//5)\n",
    "print(res) \n",
    "\n",
    "a=53\n",
    "if a%2!=0 and 47<=a<58 and a%2!=0:\n",
    "   res=chr(a)\n",
    "else:\n",
    "   res=chr(a//5)\n",
    "print(res)"
   ]
  },
  {
   "attachments": {},
   "cell_type": "markdown",
   "metadata": {},
   "source": [
    "#.WAP to check whether the given value is lessthan 125 and in between 47 to 125 if condition is satisfied , to store the given value as a key and character as a value into the dictionary or else to append the value in the middle of the list and display it. "
   ]
  },
  {
   "cell_type": "code",
   "execution_count": 3,
   "metadata": {},
   "outputs": [
    {
     "name": "stdout",
     "output_type": "stream",
     "text": [
      "{'a': 10, 67: 'C'} [10, 20, 30]\n",
      "{'a': 10} [10, 127, 20, 30]\n"
     ]
    }
   ],
   "source": [
    "a=67\n",
    "d={'a':10}\n",
    "l=[10,20,30]\n",
    "if 47<a<125:\n",
    "    d[a]=chr(a)\n",
    "else:\n",
    "    l[len(l)//2:len(l)//2]=[a]    \n",
    "print(d,l)\n",
    "\n",
    "\n",
    "a=127\n",
    "d={'a':10}\n",
    "l=[10,20,30]\n",
    "if 47<a<125:\n",
    "    d[a]=chr(a)\n",
    "else:\n",
    "    l[len(l)//2:len(l)//2]=[a]    \n",
    "print(d,l)"
   ]
  },
  {
   "attachments": {},
   "cell_type": "markdown",
   "metadata": {},
   "source": [
    "#.WAP to check whether the given value is alphabet or not if alphabet to concat the given alphabet into set or else append the value in the ending of the tuple."
   ]
  },
  {
   "cell_type": "code",
   "execution_count": 16,
   "metadata": {},
   "outputs": [
    {
     "name": "stdout",
     "output_type": "stream",
     "text": [
      "{1, 2, 'A'}\n",
      "{1, 2} (1, 3, 5, '5')\n",
      "{1, 2} (1, 3, 5, '5')\n",
      "{1, 2} (1, 3, 5, 7)\n"
     ]
    }
   ],
   "source": [
    "a='A'\n",
    "s={1,2}\n",
    "t=(1,3,5)\n",
    "if 'A'<=a<'z' or 'a'<=a<'z':\n",
    "    s|={a}\n",
    "    print(s)\n",
    "else:\n",
    "    t+=(a,)\n",
    "    print(s,t) \n",
    "\n",
    "\n",
    "\n",
    "a='5'\n",
    "s={1,2}\n",
    "t=(1,3,5)\n",
    "if 'A'<=a<'z' or 'a'<=a<'z':\n",
    "    s|={a}\n",
    "    print(s)\n",
    "else:\n",
    "    t+=(a,)\n",
    "    print(s,t) \n",
    "\n",
    "\n",
    "a=eval(input(\"enter the value:\"))\n",
    "s={1,2}\n",
    "t=(1,3,5)\n",
    "if type(a)==str and ('A'<=a<'z' or 'a'<=a<'z'):\n",
    "    s|={a}\n",
    "    print(s)\n",
    "else:\n",
    "    t+=(a,)\n",
    "    print(s,t) \n",
    "\n",
    "\n",
    "a=eval(input(\"enter the value:\"))\n",
    "s={1,2}\n",
    "t=(1,3,5)\n",
    "if type(a)==str and ('A'<=a<'z' or 'a'<=a<'z'):\n",
    "    s|={a}\n",
    "    print(s)\n",
    "else:\n",
    "    t+=(a,)\n",
    "    print(s,t) "
   ]
  },
  {
   "attachments": {},
   "cell_type": "markdown",
   "metadata": {},
   "source": [
    "#.WAP to check the given character is uppercase or not . if uppercase then convert the given character is converted into lower case or else \n",
    "display the ascii value of the given character with the character."
   ]
  },
  {
   "cell_type": "code",
   "execution_count": 33,
   "metadata": {},
   "outputs": [
    {
     "name": "stdout",
     "output_type": "stream",
     "text": [
      "a\n",
      "97 a\n"
     ]
    }
   ],
   "source": [
    "x='A'\n",
    "if 'A'<=x<='Z':\n",
    "    print(chr(ord(x)+32))\n",
    "else:\n",
    "    print(ord(x),x)  \n",
    "\n",
    "\n",
    "x='a'\n",
    "if 'A'<=x<='Z':\n",
    "    print(chr(ord(x)+32))\n",
    "else:\n",
    "    print(ord(x),x)  \n",
    "          "
   ]
  },
  {
   "attachments": {},
   "cell_type": "markdown",
   "metadata": {},
   "source": [
    "#.WAP to check whether a given character is a vowel or consonant.if vowel print next character or else print previous character."
   ]
  },
  {
   "cell_type": "code",
   "execution_count": 17,
   "metadata": {},
   "outputs": [
    {
     "name": "stdout",
     "output_type": "stream",
     "text": [
      "a b\n",
      "b a\n",
      "G F\n"
     ]
    }
   ],
   "source": [
    "x='a'\n",
    "if x in 'AEIOUaeiou':\n",
    "    print(x,chr(ord(x)+1))\n",
    "else:\n",
    "    print(x,chr(ord(x)-1))\n",
    "\n",
    "\n",
    "x='b'\n",
    "if x in 'AEIOUaeiou':\n",
    "    print(x,chr(ord(x)+1))\n",
    "else:\n",
    "    print(x,chr(ord(x)-1))  \n",
    "\n",
    "x='G'\n",
    "if x in 'AEIOUaeiou':\n",
    "    print(x,chr(ord(x)+1))\n",
    "else:\n",
    "    print(x,chr(ord(x)-1))      \n",
    "          "
   ]
  },
  {
   "attachments": {},
   "cell_type": "markdown",
   "metadata": {},
   "source": [
    "#.WAP to check whether a given length of the string is even and length should be morethan 3 and lessthan 15.\n",
    "if condition is satisfied append the new string in middle of the given string or else delete the first ,middle,last characters of given string and display the remaining strings. "
   ]
  },
  {
   "cell_type": "code",
   "execution_count": 46,
   "metadata": {},
   "outputs": [
    {
     "name": "stdout",
     "output_type": "stream",
     "text": [
      "haan\n",
      "usushaha\n"
     ]
    }
   ],
   "source": [
    "x=\"Dharani\"         \n",
    "if len(x)%2==0 and 3<len(x)<15:\n",
    "    x=x[:len(x)//2]+\"usha\"+x[len(x)//2:]\n",
    "    print(x)\n",
    "else:\n",
    "    y=x[1:len(x)//2]+x[len(x)//2+1:-1] \n",
    "    print(y)  \n",
    "\n",
    "\n",
    "x=\"usha\"         \n",
    "if len(x)%2==0 and 3<len(x)<15:\n",
    "    x=x[:len(x)//2]+\"usha\"+x[len(x)//2:]\n",
    "    print(x)\n",
    "else:\n",
    "    y=x[1:len(x)//2]+x[len(x)//2+1:-1] \n",
    "    print(y)       "
   ]
  },
  {
   "attachments": {},
   "cell_type": "markdown",
   "metadata": {},
   "source": [
    "#.WAP to check whether a given value is a list and the first and the last values are should be integer or not\n",
    "if the condition is satisfied , perform true division by 3 for the first value and perform the cube of the last value and those values are storing in same position in the given list or else delete the first element and middle element and last two elements."
   ]
  },
  {
   "cell_type": "code",
   "execution_count": 20,
   "metadata": {},
   "outputs": [
    {
     "name": "stdout",
     "output_type": "stream",
     "text": [
      "[3.3333333333333335, 20, 30, 40, 50, 60, 70, 512000]\n",
      "[20, 30, 40, 60]\n"
     ]
    }
   ],
   "source": [
    "l=[10,20,30,40,50,60,70,80]\n",
    "if type(l)==list and type(l[0])==int and type(l[-1])==int:\n",
    "    l[0]/=3\n",
    "    l[-1]**=3\n",
    "else:\n",
    "    del l[0]\n",
    "    del l[len(l)//2]\n",
    "    del l[-2:]  \n",
    "print(l)  \n",
    "\n",
    "\n",
    "\n",
    "l=[10,20,30,40,50,60,70,80.5]\n",
    "if type(l)==list and type(l[0])==int and type(l[-1])==int:\n",
    "    l[0]/=3\n",
    "    l[-1]**=3\n",
    "else:\n",
    "    del l[0]\n",
    "    del l[len(l)//2]\n",
    "    del l[-2:]  \n",
    "print(l)  "
   ]
  },
  {
   "attachments": {},
   "cell_type": "markdown",
   "metadata": {},
   "source": [
    "5.WAP to check whether the given two input numbers are divisible by 3 and 5. If it is divisible, print “Good Morning”, if it is not print “Good Evening”."
   ]
  },
  {
   "cell_type": "code",
   "execution_count": 53,
   "metadata": {},
   "outputs": [
    {
     "name": "stdout",
     "output_type": "stream",
     "text": [
      "good evening\n",
      "good morning\n"
     ]
    }
   ],
   "source": [
    "a=15\n",
    "b=31\n",
    "if a%3==0 and b%5==0:\n",
    "    print(\"good morning\")\n",
    "else:\n",
    "    print(\"good evening\")  \n",
    "\n",
    "a=15\n",
    "b=30\n",
    "if a%3==0 and b%5==0:\n",
    "    print(\"good morning\")\n",
    "else:\n",
    "    print(\"good evening\")       "
   ]
  },
  {
   "attachments": {},
   "cell_type": "markdown",
   "metadata": {},
   "source": [
    "6.WAP to accept two integers and check whether they are equal or not.\n",
    "If equal, multiply to value or quotation value and display it."
   ]
  },
  {
   "cell_type": "code",
   "execution_count": 52,
   "metadata": {},
   "outputs": [
    {
     "name": "stdout",
     "output_type": "stream",
     "text": [
      "100\n",
      "10 20\n"
     ]
    }
   ],
   "source": [
    "a=10\n",
    "b=10\n",
    "if a==b:\n",
    "    print(a*b)\n",
    "else:\n",
    "    print(\"a,b\") \n",
    "\n",
    "a=10\n",
    "b=20\n",
    "if a==b:\n",
    "    print(a*b)\n",
    "else:\n",
    "    print(a,b)        "
   ]
  },
  {
   "attachments": {},
   "cell_type": "markdown",
   "metadata": {},
   "source": [
    "7.WAP to find the largest of two numbers."
   ]
  },
  {
   "cell_type": "code",
   "execution_count": 50,
   "metadata": {},
   "outputs": [
    {
     "name": "stdout",
     "output_type": "stream",
     "text": [
      "20 is greater\n",
      "30 is greater\n"
     ]
    }
   ],
   "source": [
    "a=10\n",
    "b=20\n",
    "if a>b:\n",
    "    print(a,\"is greater\")\n",
    "else:\n",
    "    print(b,\"is greater\")\n",
    "\n",
    "a=30\n",
    "b=20\n",
    "if a>b:\n",
    "    print(a,\"is greater\")\n",
    "else:\n",
    "    print(b,\"is greater\")        "
   ]
  },
  {
   "attachments": {},
   "cell_type": "markdown",
   "metadata": {},
   "source": [
    "8.WAP to check whether the input number is greater than 10 or not if it is greater than 10 print messages as greater with print that number. if that number is not greater than 10 print that number."
   ]
  },
  {
   "cell_type": "code",
   "execution_count": 48,
   "metadata": {},
   "outputs": [
    {
     "name": "stdout",
     "output_type": "stream",
     "text": [
      "52 greater\n",
      "5\n"
     ]
    }
   ],
   "source": [
    "a=52\n",
    "if a>10:\n",
    "    print(a,\"greater\")\n",
    "else:\n",
    "    print(a) \n",
    "\n",
    "a=5\n",
    "if a>10:\n",
    "    print(a,\"greater\")\n",
    "else:\n",
    "    print(a)     "
   ]
  },
  {
   "attachments": {},
   "cell_type": "markdown",
   "metadata": {},
   "source": [
    "9.WAP to the given number integer, if n is greater than 21,print the absolute difference between n and 21 otherwise print twice the absolute difference."
   ]
  },
  {
   "cell_type": "code",
   "execution_count": 25,
   "metadata": {},
   "outputs": [
    {
     "name": "stdout",
     "output_type": "stream",
     "text": [
      "7\n",
      "-2\n",
      "-2\n"
     ]
    }
   ],
   "source": [
    "a=28\n",
    "if a>21:\n",
    "    print(a-21)\n",
    "else:\n",
    "    print(a-21)\n",
    "\n",
    "\n",
    "a=19\n",
    "if a>21:\n",
    "    print(a-21)\n",
    "else:\n",
    "    print(a-21)\n",
    "    print(a-21)  "
   ]
  },
  {
   "attachments": {},
   "cell_type": "markdown",
   "metadata": {},
   "source": [
    "10.WAP to find the smallest of two numbers."
   ]
  },
  {
   "cell_type": "code",
   "execution_count": 45,
   "metadata": {},
   "outputs": [
    {
     "name": "stdout",
     "output_type": "stream",
     "text": [
      "10 is smaller\n",
      "20 is smaller\n"
     ]
    }
   ],
   "source": [
    "a=10\n",
    "b=20\n",
    "if a<b:\n",
    "    print(a,\"is smaller\")\n",
    "else:\n",
    "    print(b) \n",
    "\n",
    "a=30\n",
    "b=20\n",
    "if a<b:\n",
    "    print(a)\n",
    "else:\n",
    "    print(b,\"is smaller\")       "
   ]
  },
  {
   "attachments": {},
   "cell_type": "markdown",
   "metadata": {},
   "source": [
    "11.WAP to check whether the given number is even or odd. If it is even then make it as an odd number, if it is an odd number then make it as even number."
   ]
  },
  {
   "cell_type": "code",
   "execution_count": 41,
   "metadata": {},
   "outputs": [
    {
     "name": "stdout",
     "output_type": "stream",
     "text": [
      "11 odd number\n",
      "10 even number\n"
     ]
    }
   ],
   "source": [
    "a=10\n",
    "if a%2==0:\n",
    "    print(a+1,\"odd number\")\n",
    "else:\n",
    "    print(a-1,\"even number\")\n",
    "\n",
    "a=11\n",
    "if a%2==0:\n",
    "    print(a+1,\"odd number\")\n",
    "else:\n",
    "    print(a-1,\"even number\")    "
   ]
  },
  {
   "attachments": {},
   "cell_type": "markdown",
   "metadata": {},
   "source": [
    "12.WAP to check whether the given number is divisible by 3 or not if yes,print the number or else print the cube of the numbers."
   ]
  },
  {
   "cell_type": "code",
   "execution_count": 40,
   "metadata": {},
   "outputs": [
    {
     "name": "stdout",
     "output_type": "stream",
     "text": [
      "3\n",
      "125\n"
     ]
    }
   ],
   "source": [
    "a=3\n",
    "if a%3==0:\n",
    "    print(a)\n",
    "else:\n",
    "    print(a**3)  \n",
    "\n",
    "\n",
    "a=5\n",
    "if a%3==0:\n",
    "    print(a)\n",
    "else:\n",
    "    print(a**3)  "
   ]
  },
  {
   "attachments": {},
   "cell_type": "markdown",
   "metadata": {},
   "source": [
    "13.WAP to check whether the given input is divisible by 3 and 5. If yes print the actual number or else print string of that number. "
   ]
  },
  {
   "cell_type": "code",
   "execution_count": 4,
   "metadata": {},
   "outputs": [
    {
     "name": "stdout",
     "output_type": "stream",
     "text": [
      "23 <class 'str'>\n",
      "15\n"
     ]
    }
   ],
   "source": [
    "a=23                            ############\n",
    "if a%3==0 and a%5==0:\n",
    "    print(a)\n",
    "else:\n",
    "    res=str(a)\n",
    "    print(res,type(res))\n",
    "\n",
    "\n",
    "\n",
    "a=15                           ############\n",
    "if a%3==0 and a%5==0:\n",
    "    print(a)\n",
    "else:\n",
    "    res=str(a)\n",
    "    print(res,type(res))    \n",
    "       "
   ]
  },
  {
   "attachments": {},
   "cell_type": "markdown",
   "metadata": {},
   "source": [
    "14.WAP to check whether the given number lies between 1 to 19, if it is true square that number or else false cube that number  and display the number."
   ]
  },
  {
   "cell_type": "code",
   "execution_count": 39,
   "metadata": {},
   "outputs": [
    {
     "name": "stdout",
     "output_type": "stream",
     "text": [
      "324\n",
      "15625\n"
     ]
    }
   ],
   "source": [
    "a=18\n",
    "if 1<a<19:\n",
    "    print(a**2)\n",
    "else:\n",
    "    print(a**3)  \n",
    "\n",
    "a=25\n",
    "if 1<a<19:\n",
    "    print(a**2)\n",
    "else:\n",
    "    print(a**3)       "
   ]
  },
  {
   "attachments": {},
   "cell_type": "markdown",
   "metadata": {},
   "source": [
    "15.WAP to check whether the student has passed or failed. If the student got more than 40 marks, print ‘PASS’ along with those marks, if it is not printed ‘FAIL’ along with those marks."
   ]
  },
  {
   "cell_type": "code",
   "execution_count": 59,
   "metadata": {},
   "outputs": [
    {
     "name": "stdout",
     "output_type": "stream",
     "text": [
      "PASS 45\n",
      "FAIL 39\n"
     ]
    }
   ],
   "source": [
    "a=45\n",
    "if a>40:\n",
    "    print(\"PASS\",a)\n",
    "else:\n",
    "    print(\"FAIL\",a) \n",
    "\n",
    "a=39\n",
    "if a>40:\n",
    "    print(\"PASS\",a)\n",
    "else:\n",
    "    print(\"FAIL\",a)"
   ]
  },
  {
   "attachments": {},
   "cell_type": "markdown",
   "metadata": {},
   "source": [
    "16.WAP to check whether a given value is even and in range of 47 to 58 and not in 0 or odd. if condition is True, to perform display the ascii character.or else to perform floor division with 5 and display it."
   ]
  },
  {
   "cell_type": "code",
   "execution_count": 61,
   "metadata": {},
   "outputs": [
    {
     "name": "stdout",
     "output_type": "stream",
     "text": [
      "8\n",
      "12\n"
     ]
    }
   ],
   "source": [
    "a=56\n",
    "if 47<=a<58 and a!=0 or a%2!=0:\n",
    "    print(chr(a))\n",
    "else:\n",
    "    print(a//5) \n",
    "\n",
    "a=60\n",
    "if 47<=a<58 and a!=0 or a%2!=0:\n",
    "    print(chr(a))\n",
    "else:\n",
    "    print(a//5)        "
   ]
  },
  {
   "attachments": {},
   "cell_type": "markdown",
   "metadata": {},
   "source": [
    "17.WAP to check whether a given value is less than 125 and in between 47 to 125 or not. if condition is True, to perform store the given value as key and value as a character into the dict.or else to append the value in list and display it."
   ]
  },
  {
   "cell_type": "code",
   "execution_count": 65,
   "metadata": {},
   "outputs": [
    {
     "name": "stdout",
     "output_type": "stream",
     "text": [
      "{'a': 15, 65: 'A'} [1, 2, 3]\n",
      "{'a': 15} [1, 2, 3, 4, 5]\n"
     ]
    }
   ],
   "source": [
    "a=65\n",
    "b={'a':15}\n",
    "c=[1,2,3]\n",
    "if 47<a<125:\n",
    "    b[a]=chr(a)\n",
    "else:\n",
    "    print(c=c+[4,5])\n",
    "print(b,c)\n",
    "\n",
    "\n",
    "a=129\n",
    "b={'a':15}\n",
    "c=[1,2,3]\n",
    "if 47<a<125:\n",
    "    b[a]=chr(a)\n",
    "else:\n",
    "    c=c+[4,5]\n",
    "print(b,c)"
   ]
  },
  {
   "attachments": {},
   "cell_type": "markdown",
   "metadata": {},
   "source": [
    "18.WAP to check whether a given character is in the alphabet or not. if alphabet, display the alphabet with character.or else display the not alphabet with character."
   ]
  },
  {
   "cell_type": "code",
   "execution_count": 67,
   "metadata": {},
   "outputs": [
    {
     "name": "stdout",
     "output_type": "stream",
     "text": [
      "A alphabet\n",
      "5 not alphabet\n"
     ]
    }
   ],
   "source": [
    "a='A'\n",
    "if 'A'<=a<='Z' or 'a'<=a<='z':\n",
    "    print(a,\"alphabet\")\n",
    "else:\n",
    "    print(a,\"not alphabet\") \n",
    "\n",
    "a='5'\n",
    "if 'A'<=a<='Z' or 'a'<=a<='z':\n",
    "    print(a,\"alphabet\")\n",
    "else:\n",
    "    print(a,\"not alphabet\")        "
   ]
  },
  {
   "attachments": {},
   "cell_type": "markdown",
   "metadata": {},
   "source": [
    "19.WAP to check whether a given character is uppercase or other character. if uppercase, display the uppercase with character.or else display the other character with character."
   ]
  },
  {
   "cell_type": "code",
   "execution_count": 69,
   "metadata": {},
   "outputs": [
    {
     "name": "stdout",
     "output_type": "stream",
     "text": [
      "A uppercase\n",
      "a other character\n"
     ]
    }
   ],
   "source": [
    "a=\"A\"\n",
    "if 'A'<=a<='Z':\n",
    "    print(a,\"uppercase\")\n",
    "else:\n",
    "    print(a,\"other character\")   \n",
    "\n",
    "a=\"a\"\n",
    "if 'A'<=a<='Z':\n",
    "    print(a,\"uppercase\")\n",
    "else:\n",
    "    print(a,\"other character\")      "
   ]
  },
  {
   "attachments": {},
   "cell_type": "markdown",
   "metadata": {},
   "source": [
    "20.WAP to check whether a given character is lowercase or other character. if lowercase, display the lowercase with character.or else display the other character with character."
   ]
  },
  {
   "cell_type": "code",
   "execution_count": 71,
   "metadata": {},
   "outputs": [
    {
     "name": "stdout",
     "output_type": "stream",
     "text": [
      "A other character\n",
      "a lowercase\n"
     ]
    }
   ],
   "source": [
    "a=\"A\"\n",
    "if 'a'<=a<='z':\n",
    "    print(a,\"lowercase\")\n",
    "else:\n",
    "    print(a,\"other character\")   \n",
    "\n",
    "a=\"a\"\n",
    "if 'a'<=a<='z':\n",
    "    print(a,\"lowercase\")\n",
    "else:\n",
    "    print(a,\"other character\")"
   ]
  },
  {
   "attachments": {},
   "cell_type": "markdown",
   "metadata": {},
   "source": [
    "21.WAP to check whether a given character is uppercase or other character. if uppercase, convert to lowercase .or else display the ascii number."
   ]
  },
  {
   "cell_type": "code",
   "execution_count": 73,
   "metadata": {},
   "outputs": [
    {
     "name": "stdout",
     "output_type": "stream",
     "text": [
      "a\n",
      "97\n"
     ]
    }
   ],
   "source": [
    "a=\"A\"\n",
    "if 'A'<=a<='Z':\n",
    "    print(chr(ord(a)+32))\n",
    "else:\n",
    "    print(ord(a)) \n",
    "\n",
    "a=\"a\"\n",
    "if 'A'<=a<='Z':\n",
    "    print(chr(ord(a)+32))\n",
    "else:\n",
    "    print(ord(a))       "
   ]
  },
  {
   "attachments": {},
   "cell_type": "markdown",
   "metadata": {},
   "source": [
    "22.WAP to check whether the given character is in lowercase or uppercase. If it is in lowercase, convert it into uppercase, or else it is in uppercase and convert it into lowercase. Display the value."
   ]
  },
  {
   "cell_type": "code",
   "execution_count": 29,
   "metadata": {},
   "outputs": [
    {
     "name": "stdout",
     "output_type": "stream",
     "text": [
      "A\n",
      "!\n"
     ]
    }
   ],
   "source": [
    "a='a'\n",
    "if 'A'<=a<='Z' or 'a'<=a<='z':\n",
    "    print(chr(ord(a)-32))\n",
    "else:\n",
    "    print(chr(ord(a)+32))  \n",
    "\n",
    "a='A'                                     ################\n",
    "if 'A'<=a<='Z' or 'a'<=a<='z':\n",
    "    print(chr(ord(a)-32))\n",
    "else:\n",
    "    print(chr(ord(a)+32))       "
   ]
  },
  {
   "attachments": {},
   "cell_type": "markdown",
   "metadata": {},
   "source": [
    "23.WAP to check whether the given string of the first character is a special symbol or not. If a special symbol, to extract and display the middle character or else to reverse the string and display the half of the string."
   ]
  },
  {
   "cell_type": "code",
   "execution_count": 7,
   "metadata": {},
   "outputs": [
    {
     "name": "stdout",
     "output_type": "stream",
     "text": [
      "p\n",
      "p\n"
     ]
    }
   ],
   "source": [
    "a=\"@pple\"                    ##########################\n",
    "if a[0] is not(('A'<=a<='Z' or 'a'<=a<'z' or '0'<=a<='9')):\n",
    "    print(a[len(a)//2])\n",
    "else:\n",
    "    print(a[::-1],a[:len(a)//2]) \n",
    "\n",
    "\n",
    "a=\"apple\"                     \n",
    "if a[0] is not(('A'<=a<='Z' or 'a'<=a<'z' or '0'<=a<='9')):\n",
    "    print(a[len(a)//2])\n",
    "else:\n",
    "    #print(a[:len(a)//2],a[::-1])\n",
    "    print(a[::-1],a[(len(a)//2)%2]) "
   ]
  },
  {
   "attachments": {},
   "cell_type": "markdown",
   "metadata": {},
   "source": [
    "24.WAP to check whether the input character is a vowel or not. If it is vowel print ‘VOWEL’ along with that character, if it is not just print ‘CONSONANT’."
   ]
  },
  {
   "cell_type": "code",
   "execution_count": 84,
   "metadata": {},
   "outputs": [
    {
     "name": "stdout",
     "output_type": "stream",
     "text": [
      "A VOWEL\n",
      "D CONSONANT\n"
     ]
    }
   ],
   "source": [
    "a='A'\n",
    "if a in 'AEIOUaeiou':\n",
    "    print(a,\"VOWEL\")\n",
    "else:\n",
    "    print(a,\"CONSONANT\") \n",
    "\n",
    "\n",
    "\n",
    "a='D'\n",
    "if a in 'AEIOUaeiou':\n",
    "    print(a,\"VOWEL\")\n",
    "else:\n",
    "    print(a,\"CONSONANT\")"
   ]
  },
  {
   "attachments": {},
   "cell_type": "markdown",
   "metadata": {},
   "source": [
    "25.WAP to check whether a given character is a vowel or consonant. if vowel,to print the next character of a given character or else print previous characters."
   ]
  },
  {
   "cell_type": "code",
   "execution_count": 90,
   "metadata": {},
   "outputs": [
    {
     "name": "stdout",
     "output_type": "stream",
     "text": [
      "b\n",
      "c\n"
     ]
    }
   ],
   "source": [
    "a='a'\n",
    "if a in \"AEIOUaeiou\":\n",
    "    print(chr(ord(a)+1))\n",
    "else:\n",
    "    print(chr(ord(a)-1)) \n",
    "\n",
    "a='d'\n",
    "if a in \"AEIOUaeiou\":\n",
    "    print(chr(ord(a)+1))\n",
    "else:\n",
    "    print(chr(ord(a)-1))        "
   ]
  },
  {
   "attachments": {},
   "cell_type": "markdown",
   "metadata": {},
   "source": [
    "26.WAP to check whether a given string of first character is alphabet or not if the alphabet prints, reverse the string or else print the middle character."
   ]
  },
  {
   "cell_type": "code",
   "execution_count": 30,
   "metadata": {},
   "outputs": [
    {
     "name": "stdout",
     "output_type": "stream",
     "text": [
      "inarahd\n",
      "inarah321\n"
     ]
    }
   ],
   "source": [
    "a=\"dharani\"\n",
    "if type(str(a[0] is ('A'<=a<='Z' or 'a'<=a<='z'))):\n",
    "    print(a[::-1])\n",
    "else:\n",
    "    print(len(a)//2)    \n",
    "\n",
    "\n",
    "\n",
    "a=\"123harani\"\n",
    "if type(str(a[0] is ('A'<=a<='Z' or 'a'<=a<='z'))):\n",
    "    print(a[::-1])\n",
    "else:\n",
    "    print(len(a)//2)    \n"
   ]
  },
  {
   "attachments": {},
   "cell_type": "markdown",
   "metadata": {},
   "source": [
    "27.WAP to check whether the given input character is uppercase or lowercase. If the input character is upper case convert into lower case and vice versa."
   ]
  },
  {
   "cell_type": "code",
   "execution_count": 94,
   "metadata": {},
   "outputs": [
    {
     "name": "stdout",
     "output_type": "stream",
     "text": [
      "a\n",
      "A\n"
     ]
    }
   ],
   "source": [
    "a='A'\n",
    "if 'A'<=a<='Z':\n",
    "    print(chr(ord(a)+32))\n",
    "else:\n",
    "    print(chr(ord(a)-32))\n",
    "\n",
    "\n",
    "a='a'\n",
    "if 'A'<=a<='Z':\n",
    "    print(chr(ord(a)+32))\n",
    "else:\n",
    "    print(chr(ord(a)-32))"
   ]
  },
  {
   "attachments": {},
   "cell_type": "markdown",
   "metadata": {},
   "source": [
    "28.WAP to check whether a given string is less than 3 characters print the entire string otherwise  print after third positions to the remaining string."
   ]
  },
  {
   "cell_type": "code",
   "execution_count": 97,
   "metadata": {},
   "outputs": [
    {
     "name": "stdout",
     "output_type": "stream",
     "text": [
      "loworld\n",
      "hi\n"
     ]
    }
   ],
   "source": [
    "a=\"helloworld\"\n",
    "if len(a)<3:\n",
    "    print(a)\n",
    "else:\n",
    "    print(a[3::+1])\n",
    "\n",
    "\n",
    "a=\"hi\"\n",
    "if len(a)<3:\n",
    "    print(a)\n",
    "else:\n",
    "    print(a[3::+1])"
   ]
  },
  {
   "attachments": {},
   "cell_type": "markdown",
   "metadata": {},
   "source": [
    "29.WAP to check whether a given length of the string is even or not. if even, to append the new string called \"bye\" or else print the first and last characters."
   ]
  },
  {
   "cell_type": "code",
   "execution_count": 99,
   "metadata": {},
   "outputs": [
    {
     "name": "stdout",
     "output_type": "stream",
     "text": [
      "helloworldbyee\n",
      "h d\n"
     ]
    }
   ],
   "source": [
    "a=\"helloworld\"\n",
    "if len(a)%2==0:\n",
    "    print(a+\"byee\")\n",
    "else:\n",
    "    print(a[0],a[-1]) \n",
    "\n",
    "a=\"hello world\"\n",
    "if len(a)%2==0:\n",
    "    print(a+\"byee\")\n",
    "else:\n",
    "    print(a[0],a[-1])       "
   ]
  },
  {
   "attachments": {},
   "cell_type": "markdown",
   "metadata": {},
   "source": [
    "30.WAP to check whether a given length of the string is odd or not. if odd,append the new string(\"Haii\") from the starting of the given string, or else avoid the starting character and ending character of the given string and display the remaining characters."
   ]
  },
  {
   "cell_type": "code",
   "execution_count": 107,
   "metadata": {},
   "outputs": [
    {
     "name": "stdout",
     "output_type": "stream",
     "text": [
      "haiihello world\n",
      "elloworl\n"
     ]
    }
   ],
   "source": [
    "a=\"hello world\"\n",
    "if len(a)%2!=0:\n",
    "    print(\"haii\"+a)\n",
    "else:\n",
    "    print(a[1:-1]) \n",
    "\n",
    "a=\"helloworld\"\n",
    "if len(a)%2!=0:\n",
    "    print(\"haii\"+a)\n",
    "else:\n",
    "    print(a[1:-1])       "
   ]
  },
  {
   "attachments": {},
   "cell_type": "markdown",
   "metadata": {},
   "source": [
    "31.WAP to check whether the last of the given string is a special character or not, if the special character prints reverse the string except the last character or else to check if the length of the string is odd or not, if odd to extract the middle character to the end of the string."
   ]
  },
  {
   "cell_type": "code",
   "execution_count": null,
   "metadata": {},
   "outputs": [],
   "source": []
  },
  {
   "attachments": {},
   "cell_type": "markdown",
   "metadata": {},
   "source": [
    "32.WAP to check whether a given year is a leap year or not. if leap year, print leap year or else not a leap year."
   ]
  },
  {
   "cell_type": "code",
   "execution_count": 112,
   "metadata": {},
   "outputs": [
    {
     "name": "stdout",
     "output_type": "stream",
     "text": [
      "not a leap year\n",
      "leap year\n"
     ]
    }
   ],
   "source": [
    "a=2023\n",
    "if a%4==0:\n",
    "    print(\"leap year\")\n",
    "else:\n",
    "    print(\"not a leap year\")\n",
    "\n",
    "a=2020\n",
    "if a%4==0:\n",
    "    print(\"leap year\")\n",
    "else:\n",
    "    print(\"not a leap year\")        "
   ]
  },
  {
   "attachments": {},
   "cell_type": "markdown",
   "metadata": {},
   "source": [
    "33.WAP to find out the greatest of two numbers and display the greatest number.if the greatest number, display the greatest message with value."
   ]
  },
  {
   "cell_type": "code",
   "execution_count": 111,
   "metadata": {},
   "outputs": [
    {
     "name": "stdout",
     "output_type": "stream",
     "text": [
      "40 greatest\n"
     ]
    }
   ],
   "source": [
    "a=40\n",
    "b=20\n",
    "if a>b and a==40:\n",
    "    print(a,\"greatest\")"
   ]
  },
  {
   "attachments": {},
   "cell_type": "markdown",
   "metadata": {},
   "source": [
    "34.WAP to check whether the given value is present inside the given collection or not.if value is present, display the value is available or else the value is not present. "
   ]
  },
  {
   "cell_type": "code",
   "execution_count": 114,
   "metadata": {},
   "outputs": [
    {
     "name": "stdout",
     "output_type": "stream",
     "text": [
      "value is available\n",
      "not available\n"
     ]
    }
   ],
   "source": [
    "a=1,2,3,4,5\n",
    "b=3\n",
    "if b in a:\n",
    "    print(\"value is available\")\n",
    "else:\n",
    "    print(\"not available\")  \n",
    "\n",
    "a=1,2,3,4,5\n",
    "b=6\n",
    "if b in a:\n",
    "    print(\"value is available\")\n",
    "else:\n",
    "    print(\"not available\")     "
   ]
  },
  {
   "attachments": {},
   "cell_type": "markdown",
   "metadata": {},
   "source": [
    "35.WAP whether a given string, if string length is more than 2, then it displays a new string with the first and last characters switched, otherwise the display the 3 copies of given string."
   ]
  },
  {
   "cell_type": "code",
   "execution_count": 6,
   "metadata": {},
   "outputs": [
    {
     "name": "stdout",
     "output_type": "stream",
     "text": [
      "oabch\n",
      "hihihi\n"
     ]
    }
   ],
   "source": [
    "a=\"hello\"\n",
    "if len(a)>2:\n",
    "    print(a[-1]+\"abc\"+a[0])\n",
    "else:\n",
    "    print(a*3)\n",
    "\n",
    "\n",
    "a=\"hi\"\n",
    "if len(a)>2:\n",
    "    print(a[-1]+\"abc\"+a[0])\n",
    "else:\n",
    "    print(a*3)"
   ]
  },
  {
   "attachments": {},
   "cell_type": "markdown",
   "metadata": {},
   "source": [
    "36.WAP to check whether a given value is a list and first and last values should be integer,if condition is satisfied first value is true division by 3 and perform the bitwise not for last value and those result values are stored in same positions in list or else, perform length of the collection power 2 and display it."
   ]
  },
  {
   "cell_type": "code",
   "execution_count": 8,
   "metadata": {},
   "outputs": [
    {
     "name": "stdout",
     "output_type": "stream",
     "text": [
      "0.3333333333333333\n"
     ]
    },
    {
     "ename": "TypeError",
     "evalue": "unsupported operand type(s) for /: 'str' and 'int'",
     "output_type": "error",
     "traceback": [
      "\u001b[1;31m---------------------------------------------------------------------------\u001b[0m",
      "\u001b[1;31mTypeError\u001b[0m                                 Traceback (most recent call last)",
      "Cell \u001b[1;32mIn[8], line 9\u001b[0m\n\u001b[0;32m      7\u001b[0m a\u001b[39m=\u001b[39m[\u001b[39m\"\u001b[39m\u001b[39mhii\u001b[39m\u001b[39m\"\u001b[39m,\u001b[39m2\u001b[39m,\u001b[39m3\u001b[39m,\u001b[39m\"\u001b[39m\u001b[39mhello\u001b[39m\u001b[39m\"\u001b[39m,\u001b[39m4\u001b[39m,\u001b[39m5\u001b[39m,\u001b[39m\"\u001b[39m\u001b[39mbyee\u001b[39m\u001b[39m\"\u001b[39m]\n\u001b[0;32m      8\u001b[0m \u001b[39mif\u001b[39;00m \u001b[39mtype\u001b[39m(a[\u001b[39m0\u001b[39m]\u001b[39m==\u001b[39m\u001b[39mint\u001b[39m) \u001b[39mand\u001b[39;00m \u001b[39mtype\u001b[39m(a[\u001b[39m-\u001b[39m\u001b[39m1\u001b[39m]\u001b[39m==\u001b[39m\u001b[39mint\u001b[39m):\n\u001b[1;32m----> 9\u001b[0m     \u001b[39mprint\u001b[39m (a[\u001b[39m0\u001b[39;49m]\u001b[39m/\u001b[39;49m\u001b[39m3\u001b[39;49m)\n\u001b[0;32m     10\u001b[0m \u001b[39melse\u001b[39;00m:\n\u001b[0;32m     11\u001b[0m     \u001b[39mprint\u001b[39m(\u001b[39mlen\u001b[39m(a)\u001b[39m*\u001b[39m\u001b[39m*\u001b[39m\u001b[39m2\u001b[39m)       \n",
      "\u001b[1;31mTypeError\u001b[0m: unsupported operand type(s) for /: 'str' and 'int'"
     ]
    }
   ],
   "source": [
    "a=[1,2,3,\"hello\",4,5,6]                        ##################################\n",
    "if type(a[0]==int) and type(a[-1]==int):\n",
    "    print (a[0]/3)\n",
    "else:\n",
    "    print(len(a)**2) \n",
    "\n",
    "a=[\"hii\",2,3,\"hello\",4,5,\"byee\"]\n",
    "if type(a[0]==int) and type(a[-1]==int):\n",
    "    print (a[0]/3)\n",
    "else:\n",
    "    print(len(a)**2)       "
   ]
  },
  {
   "attachments": {},
   "cell_type": "markdown",
   "metadata": {},
   "source": [
    "37.WAP to check whether a given value is a string or not and length of the value should be more than 7, if condition is satisfied to append the new string in the middle of the given string or else to perform the replications with 3 and display the result."
   ]
  },
  {
   "cell_type": "code",
   "execution_count": 15,
   "metadata": {},
   "outputs": [
    {
     "name": "stdout",
     "output_type": "stream",
     "text": [
      "hellohellohello\n",
      "statebyeements\n"
     ]
    }
   ],
   "source": [
    "a=\"hello\"\n",
    "if len(a)>7:\n",
    "    print(a[len(a)//2:len(a)//2]==\"byee\")\n",
    "else:\n",
    "    print(3*'hello')\n",
    "\n",
    "a=\"statements\"\n",
    "if len(a)>7:\n",
    "    print(a[:len(a)//2]+\"byee\"+a[len(a)//2:])\n",
    "else:\n",
    "    print(3*'hello')        "
   ]
  },
  {
   "attachments": {},
   "cell_type": "markdown",
   "metadata": {},
   "source": [
    "38.WAP to check if the given string of first and second character should be sequence or not. if the sequence prints the first,second and last two characters, or else the first half string is reversed and the remaining half string should be normal and display it.  "
   ]
  },
  {
   "cell_type": "code",
   "execution_count": 19,
   "metadata": {},
   "outputs": [
    {
     "name": "stdout",
     "output_type": "stream",
     "text": [
      "ABhA\n",
      "dcRA efghA\n"
     ]
    }
   ],
   "source": [
    "a=\"ABcdefghA\"                           \n",
    "if (ord(a[0]))==(ord(a[1])-1):\n",
    "    print(a[0:2]+a[7:])\n",
    "else:\n",
    "    print(a[:len(a)//2][::-1],a[len(a)//2:])\n",
    "\n",
    "\n",
    "a=\"ARcdefghA\"                             \n",
    "if (ord(a[0]))==(ord(a[1])-1):\n",
    "    print(a[0:2]+a[7:])\n",
    "else:\n",
    "    print(a[:len(a)//2][::-1],a[len(a)//2:])"
   ]
  },
  {
   "attachments": {},
   "cell_type": "markdown",
   "metadata": {},
   "source": [
    "39.WAP to check whether a given value is present inside the collection or not. If present, print the value or else print value is not found."
   ]
  },
  {
   "cell_type": "code",
   "execution_count": 62,
   "metadata": {},
   "outputs": [
    {
     "name": "stdout",
     "output_type": "stream",
     "text": [
      "(12, 13)\n",
      "value is not found\n"
     ]
    }
   ],
   "source": [
    "a=(1,2,3,\"hello\",(12,13),10+6j)\n",
    "b=(12,13)\n",
    "if b in a:\n",
    "    print(b)\n",
    "else:\n",
    "    print(\"value is not found\")\n",
    "\n",
    "a=(1,2,3,\"hello\",(12,13),10+6j)\n",
    "b=100\n",
    "if b in a:\n",
    "    print(b)\n",
    "else:\n",
    "    print(\"value is not found\")        "
   ]
  },
  {
   "attachments": {},
   "cell_type": "markdown",
   "metadata": {},
   "source": [
    "40.WAP to check whether a given key is present in the dict or not. if key is present: display the value or else add key and new value inside the dict."
   ]
  },
  {
   "cell_type": "code",
   "execution_count": 38,
   "metadata": {},
   "outputs": [
    {
     "name": "stdout",
     "output_type": "stream",
     "text": [
      "{'a': 10, 'b': 20}\n",
      "{'a': 10, 'b': 20, 'c': 40}\n"
     ]
    }
   ],
   "source": [
    "a={'a':10,'b':20}\n",
    "if 'a' in a.keys():\n",
    "    print(a)\n",
    "else:\n",
    "    print(a|{'c':40})\n",
    "\n",
    "\n",
    "a={'a':10,'b':20}\n",
    "if 'd' in a.keys():\n",
    "    print(a)\n",
    "else:\n",
    "    print(a|{'c':40})"
   ]
  },
  {
   "attachments": {},
   "cell_type": "markdown",
   "metadata": {},
   "source": [
    "41.WAP to check whether a given collection is set or not.if set, append the new value, or else eliminate the duplicate values in collection. final results should be set type."
   ]
  },
  {
   "cell_type": "code",
   "execution_count": 42,
   "metadata": {},
   "outputs": [
    {
     "name": "stdout",
     "output_type": "stream",
     "text": [
      "{1, 2, 3, 4, 5, 6, 7, 8}\n",
      "{1, 2, 3, 4, 5, 6}\n"
     ]
    }
   ],
   "source": [
    "a={1,2,3,4,5,6,2,4,3}\n",
    "if type(a)==set:\n",
    "    print(a|{7,8})\n",
    "else:\n",
    "    print(set(a)) \n",
    "\n",
    "a=[1,2,3,4,5,6,2,4,3]\n",
    "if type(a)==set:\n",
    "    print(a|{7,8})\n",
    "else:\n",
    "    print(set(a))        "
   ]
  },
  {
   "attachments": {},
   "cell_type": "markdown",
   "metadata": {},
   "source": [
    "42.WAP to read the age of a candidate and determine whether it is eligible for his/her own vote or not.it eligible print age and eligible messages or else print not eligible."
   ]
  },
  {
   "cell_type": "code",
   "execution_count": 46,
   "metadata": {},
   "outputs": [
    {
     "name": "stdout",
     "output_type": "stream",
     "text": [
      "18 eligible for vote\n",
      "15 not eligible for vote\n"
     ]
    }
   ],
   "source": [
    "a=18\n",
    "if a>=18:\n",
    "    print(a,\"eligible for vote\")\n",
    "else:\n",
    "    print(a,\"not eligible for vote\") \n",
    "\n",
    "a=15\n",
    "if a>=18:\n",
    "    print(a,\"eligible for vote\")\n",
    "else:\n",
    "    print(a,\"not eligible for vote\")       "
   ]
  },
  {
   "attachments": {},
   "cell_type": "markdown",
   "metadata": {},
   "source": [
    "43.WAP to check whether a given value is even and in between 47 to 58 and not in 0 or odd. if condition is True, to perform display the ascii character.or else to perform floor division with 5 and display it."
   ]
  },
  {
   "cell_type": "code",
   "execution_count": 52,
   "metadata": {},
   "outputs": [
    {
     "name": "stdout",
     "output_type": "stream",
     "text": [
      "11\n",
      "12\n"
     ]
    }
   ],
   "source": [
    "a=56\n",
    "if a%2==0 and 47<a<58 and a!=0 and a%2!=0:\n",
    "    print(chr(ord(a)))\n",
    "else:\n",
    "    print(a//5) \n",
    "\n",
    "\n",
    "a=60\n",
    "if a%2==0 and 47<a<58 and a!=0 and a%2!=0:\n",
    "    print(chr(ord(a)))\n",
    "else:\n",
    "    print(a//5)"
   ]
  },
  {
   "attachments": {},
   "cell_type": "markdown",
   "metadata": {},
   "source": [
    "44.WAP to check whether the given string is palindrome or not if it is a palindrome string palindrome along with the string if it is not a palindrome print not palindrome"
   ]
  },
  {
   "cell_type": "code",
   "execution_count": 16,
   "metadata": {},
   "outputs": [
    {
     "name": "stdout",
     "output_type": "stream",
     "text": [
      "madam is palindrome\n",
      "dharani is not palindrome\n",
      "madam is palindrome\n",
      "dharani is not palindrome\n"
     ]
    }
   ],
   "source": [
    "a=\"madam\"\n",
    "if a[0::]==a[::-1]:\n",
    "    print(a,\"is palindrome\")\n",
    "else:\n",
    "    print(a,\"is not palindrome\") \n",
    "\n",
    "\n",
    "a=\"dharani\"\n",
    "if a[0::]==a[::-1]:\n",
    "    print(a,\"is palindrome\")\n",
    "else:\n",
    "    print(a,\"is not palindrome\") \n",
    "\n",
    "\n",
    "a=\"madam\"\n",
    "if a==a[::-1]:\n",
    "    print(a,\"is palindrome\")\n",
    "else:\n",
    "    print(a,\"is not palindrome\") \n",
    "\n",
    "\n",
    "a=\"dharani\"\n",
    "if a==a[::-1]:\n",
    "    print(a,\"is palindrome\")\n",
    "else:\n",
    "    print(a,\"is not palindrome\")                 "
   ]
  },
  {
   "attachments": {},
   "cell_type": "markdown",
   "metadata": {},
   "source": [
    "45.WAP to check whether a given number is palindrome or not. If palindrome, display the given value as a palindrome or else not a palindrome. "
   ]
  },
  {
   "cell_type": "code",
   "execution_count": 11,
   "metadata": {},
   "outputs": [
    {
     "name": "stdout",
     "output_type": "stream",
     "text": [
      "12321 is palindrome\n",
      "12345 is not palindrome\n"
     ]
    }
   ],
   "source": [
    "a=\"12321\"\n",
    "if a[0::]==a[::-1]:\n",
    "    print(a,\"is palindrome\")\n",
    "else:\n",
    "    print(a,\"is not palindrome\") \n",
    "\n",
    "\n",
    "a=\"12345\"\n",
    "if a[0::]==a[::-1]:\n",
    "    print(a,\"is palindrome\")\n",
    "else:\n",
    "    print(a,\"is not palindrome\")"
   ]
  },
  {
   "attachments": {},
   "cell_type": "markdown",
   "metadata": {},
   "source": [
    "46.WAP to check length of both string collections equal or not if both are equal print the concat the two strings and display, or else if any one of the collection not equal print both the collections with lengths ."
   ]
  },
  {
   "cell_type": "code",
   "execution_count": 63,
   "metadata": {},
   "outputs": [
    {
     "name": "stdout",
     "output_type": "stream",
     "text": [
      "appletiger\n",
      "apple 5\n",
      "banana 6\n"
     ]
    }
   ],
   "source": [
    "a=\"apple\"\n",
    "b=\"tiger\"\n",
    "if len(a)==len(b):\n",
    "    print(a+b)\n",
    "else:\n",
    "    print(len(a),len(b)) \n",
    "\n",
    "\n",
    "a=\"apple\"\n",
    "b=\"banana\"\n",
    "if len(a)==len(b):\n",
    "    print(a+b)\n",
    "else:\n",
    "    print(a,len(a))\n",
    "    print(b,len(b))"
   ]
  },
  {
   "attachments": {},
   "cell_type": "markdown",
   "metadata": {},
   "source": [
    "47.WAP to check whether both given values point to the same memory location or not. if it is true print the middle item of the second collection, or else if it is false print the first item and last item of the first collection along with the memory address. "
   ]
  },
  {
   "cell_type": "code",
   "execution_count": 89,
   "metadata": {},
   "outputs": [
    {
     "name": "stdout",
     "output_type": "stream",
     "text": [
      "20\n",
      "2849613182912 10 30\n"
     ]
    }
   ],
   "source": [
    "a=(10,20,30)\n",
    "b=(10,20,30)\n",
    "if id(a[0])==id(b[0]):\n",
    "    print(b[len(b)//2])\n",
    "else:\n",
    "    print(id(a),a[0],a[-1])\n",
    "\n",
    "a=(10,20,30)\n",
    "b=(40,50,60)\n",
    "if id(a[0])==id(b[0]):\n",
    "    print(b[len(b)//2])\n",
    "else:\n",
    "    print(id(a),a[0],a[-1])       "
   ]
  },
  {
   "attachments": {},
   "cell_type": "markdown",
   "metadata": {},
   "source": [
    "48.WAP to  check whether a given string collection is more than ten, and the first + last character of the ascii values should be divisible by 5, if condition is satisfied print first,middle,last characters ASCII values or else print the string three times."
   ]
  },
  {
   "cell_type": "code",
   "execution_count": 65,
   "metadata": {},
   "outputs": [
    {
     "name": "stdout",
     "output_type": "stream",
     "text": [
      "100 100 100\n",
      "gottamdharanigottamdharanigottamdharani\n"
     ]
    }
   ],
   "source": [
    "a=\"dottamdharand\"\n",
    "if ord(a[0])%5==0 and ord(a[-1])%5==0:\n",
    "    print(ord(a[0]),ord(a[len(a)//2]),ord(a[-1]))\n",
    "else:\n",
    "    print(3*\"gottamdharani\") \n",
    "\n",
    "a=\"gottamdharani\"\n",
    "if ord(a[0])%5==0 and ord(a[-1])%5==0:\n",
    "    print(ord(a[0]),ord(a[len(a)//2]),ord(a[-1]))\n",
    "else:\n",
    "    print(3*\"gottamdharani\")        "
   ]
  },
  {
   "attachments": {},
   "cell_type": "markdown",
   "metadata": {},
   "source": [
    "49.WAP to check whether the middle of the item present in the list is string data type or not if it is string print that list or else if it is not string  then print that middle item."
   ]
  },
  {
   "cell_type": "code",
   "execution_count": 60,
   "metadata": {},
   "outputs": [
    {
     "name": "stdout",
     "output_type": "stream",
     "text": [
      "[10, 20, 'hello', 30, 40]\n",
      "[10, 20, 30, 40, 'hello', 30, 40]\n"
     ]
    }
   ],
   "source": [
    "a=[10,20,\"hello\",30,40]\n",
    "if type(a[len(a)//2]==str):\n",
    "    print(a)\n",
    "else:\n",
    "    print(a[len(a)//2])\n",
    "\n",
    "\n",
    "a=[10,20,30,40,\"hello\",30,40]\n",
    "if type(a[len(a)//2]!=str):\n",
    "    print(a)\n",
    "else:\n",
    "    print(a[len(a)//2])        "
   ]
  },
  {
   "attachments": {},
   "cell_type": "markdown",
   "metadata": {},
   "source": [
    "50.WAP Given a string, return a new string where the first and last characters have been exchanged."
   ]
  },
  {
   "cell_type": "code",
   "execution_count": 6,
   "metadata": {},
   "outputs": [
    {
     "name": "stdout",
     "output_type": "stream",
     "text": [
      "dhiih\n"
     ]
    }
   ],
   "source": [
    "a=\"helloworld\"\n",
    "print(a[-1]+\"hii\"+a[0])"
   ]
  },
  {
   "attachments": {},
   "cell_type": "markdown",
   "metadata": {},
   "source": [
    "51.Write a program to find out such numbers which are divisible by 7 but are not a multiple of 5. Both the conditional are satisfied and print actual value. if one condition is not satisfied actual number is multiply by 4 and print result"
   ]
  },
  {
   "cell_type": "code",
   "execution_count": 8,
   "metadata": {},
   "outputs": [
    {
     "name": "stdout",
     "output_type": "stream",
     "text": [
      "42\n",
      "180\n"
     ]
    }
   ],
   "source": [
    "a=42\n",
    "if a%7==0 and a%5!=0:\n",
    "    print(a)\n",
    "else:\n",
    "    print(a*4)\n",
    "\n",
    "a=45\n",
    "if a%7==0 and a%5!=0:\n",
    "    print(a)\n",
    "else:\n",
    "    print(a*4)        "
   ]
  },
  {
   "attachments": {},
   "cell_type": "markdown",
   "metadata": {},
   "source": [
    "52.WAP to check whether two values are pointing to the same memory address or not. If the same memory displays the address or else displays the two values addresses."
   ]
  },
  {
   "cell_type": "code",
   "execution_count": 57,
   "metadata": {},
   "outputs": [
    {
     "name": "stdout",
     "output_type": "stream",
     "text": [
      "140727278364040 20\n",
      "*_**_**_**_**_**_**_**_**_**_**_**_**_**_**_*\n",
      "20 140727278364040 30 140727278364360\n"
     ]
    }
   ],
   "source": [
    "a=20\n",
    "b=20\n",
    "if id(a)==id(b):\n",
    "    print(id(a),(b))\n",
    "else:\n",
    "    print(a,id(a),b,id(b))\n",
    "\n",
    "print(\"*_*\"*15)\n",
    "\n",
    "a=20\n",
    "b=30\n",
    "if id(a)==id(b):\n",
    "    print(id(a),(b))\n",
    "else:\n",
    "    print(a,id(a),b,id(b))\n",
    "     "
   ]
  },
  {
   "attachments": {},
   "cell_type": "markdown",
   "metadata": {},
   "source": [
    "53.WAP to check whether a given input character is a special symbol or not if it is a special symbol then print that character three times and tell print that character 5 times."
   ]
  },
  {
   "cell_type": "code",
   "execution_count": 66,
   "metadata": {},
   "outputs": [
    {
     "name": "stdout",
     "output_type": "stream",
     "text": [
      "ddd\n",
      "%%%\n"
     ]
    }
   ],
   "source": [
    "a='d'                                    ###################333\n",
    "if a!=('A'<=a<='Z' and 'a'<=a<='z' and '0'<=a<='9' ):\n",
    "    print(a*3)\n",
    "else:\n",
    "    print(a*5) \n",
    "\n",
    "      \n",
    "\n",
    "a='%'                                    ###################333\n",
    "if a!=('A'<=a<='Z' and 'a'<=a<='z' and '0'<=a<='9' ):\n",
    "    print(a*3)\n",
    "else:\n",
    "    print(a*5)"
   ]
  },
  {
   "attachments": {},
   "cell_type": "markdown",
   "metadata": {},
   "source": [
    "54.WAP to check length of both string collections equal or not if it is equal print the collection of any one of the collections if it is not equal print both the collection."
   ]
  },
  {
   "cell_type": "code",
   "execution_count": 33,
   "metadata": {},
   "outputs": [
    {
     "name": "stdout",
     "output_type": "stream",
     "text": [
      "hii\n",
      "hello bye\n"
     ]
    }
   ],
   "source": [
    "a=\"hii\"\n",
    "b=\"bye\"\n",
    "if len(a)==len(b):\n",
    "    print(a or b)\n",
    "else:\n",
    "    print(a,b)\n",
    "\n",
    "a=\"hello\"\n",
    "b=\"bye\"\n",
    "if len(a)==len(b):\n",
    "    print(a or b)\n",
    "else:\n",
    "    print(a,b)        "
   ]
  },
  {
   "attachments": {},
   "cell_type": "markdown",
   "metadata": {},
   "source": [
    "55.WAP To check whether both input variables point to the same memory location or not if it is true print the last item of the second collection, if it is false print the first item of the first collection along with the memory address."
   ]
  },
  {
   "cell_type": "code",
   "execution_count": 54,
   "metadata": {},
   "outputs": [
    {
     "name": "stdout",
     "output_type": "stream",
     "text": [
      "i\n",
      "d 140727278409640\n"
     ]
    }
   ],
   "source": [
    "a=\"dharani\"\n",
    "b=\"dharani\"\n",
    "if id(a)==id(b):\n",
    "    print(b[-1])\n",
    "else:\n",
    "    print(a[0],id(a)) \n",
    "\n",
    "a=\"dharani\"\n",
    "b=\"dharaniii\"\n",
    "if id(a)==id(b):\n",
    "    print(b[-1])\n",
    "else:\n",
    "    print(a[0],id(a[0]))               "
   ]
  },
  {
   "attachments": {},
   "cell_type": "markdown",
   "metadata": {},
   "source": [
    "56.WAP to print the string collection five times when the length of the string collection should be more than 3 and the middle character of the string should be vowel and the first character ASCII value should be even,print the previous character of middle character, else if ASCII value is odd then print the string three times as print that string."
   ]
  },
  {
   "cell_type": "code",
   "execution_count": 10,
   "metadata": {},
   "outputs": [
    {
     "name": "stdout",
     "output_type": "stream",
     "text": [
      "BaUniBaUniBaUni\n",
      "UharaniUharaniUharani\n"
     ]
    }
   ],
   "source": [
    "s=\"BaUni\"                                          #####################3\n",
    "if (len(s)>3) and (s[len(s)//2]==\"AEIOUaeiou\") and (ord(s[0])%2==0):\n",
    "    print(s*5)\n",
    "    print(chr(ord([len(s)//2])-1))\n",
    "else:\n",
    "    print(s*3)\n",
    "\n",
    "s=\"Uharani\"  \n",
    "if len(s)>3 and s[len(s)//2]==\"AEIOUaeiou\" and (ord(s[0])%2==0):\n",
    "    print(s[len(s)//2]-1)\n",
    "else:\n",
    "    print(s*3)    "
   ]
  },
  {
   "attachments": {},
   "cell_type": "markdown",
   "metadata": {},
   "source": [
    "57.Ravi would like to buy a new cello or red pen. The cost of the pen should be 10. If the pen is available in the shop, he will buy the pen. If it is not there he will come out of the shop."
   ]
  },
  {
   "cell_type": "code",
   "execution_count": 8,
   "metadata": {},
   "outputs": [
    {
     "name": "stdout",
     "output_type": "stream",
     "text": [
      "available\n",
      "not available\n"
     ]
    }
   ],
   "source": [
    "x=(\"cello\",\"redpen\")\n",
    "y=10\n",
    "if (\"cello\" in x or \"redpen\" in x) and y==10:\n",
    "    print(\"available\")\n",
    "else:\n",
    "    print(\"not available\") \n",
    "\n",
    "\n",
    "\n",
    "x=(\"cello\",\"redpen\")\n",
    "y=12\n",
    "if (\"cello\" in x or \"redpen\" in x) and y==10:\n",
    "    print(\"available\")\n",
    "else:\n",
    "    print(\"not available\") "
   ]
  },
  {
   "attachments": {},
   "cell_type": "markdown",
   "metadata": {},
   "source": [
    "58.WAP to perform addition and subtraction operation by using list collection if the first and middle data items number are even performing addition operation, or else performing subtraction."
   ]
  },
  {
   "cell_type": "code",
   "execution_count": 6,
   "metadata": {},
   "outputs": [
    {
     "name": "stdout",
     "output_type": "stream",
     "text": [
      "[10, 20, 60, 70, 80, 30, 40, 90, 110, 99]\n"
     ]
    },
    {
     "ename": "TypeError",
     "evalue": "unsupported operand type(s) for -: 'list' and 'list'",
     "output_type": "error",
     "traceback": [
      "\u001b[1;31m---------------------------------------------------------------------------\u001b[0m",
      "\u001b[1;31mTypeError\u001b[0m                                 Traceback (most recent call last)",
      "Cell \u001b[1;32mIn[6], line 14\u001b[0m\n\u001b[0;32m     12\u001b[0m     \u001b[39mprint\u001b[39m(a\u001b[39m+\u001b[39mb)\n\u001b[0;32m     13\u001b[0m \u001b[39melse\u001b[39;00m:\n\u001b[1;32m---> 14\u001b[0m     c\u001b[39m=\u001b[39ma\u001b[39m-\u001b[39;49mb\n\u001b[0;32m     15\u001b[0m     \u001b[39mprint\u001b[39m(c)\n",
      "\u001b[1;31mTypeError\u001b[0m: unsupported operand type(s) for -: 'list' and 'list'"
     ]
    }
   ],
   "source": [
    "a=[10,20,60,70,80]\n",
    "b=[30,40,90,110,99]\n",
    "if a[0]%2==0 and a[len(a)//2==0]:\n",
    "    print(a+b)\n",
    "else:\n",
    "    print(a-b)\n",
    "\n",
    "\n",
    "a=[11,20,85,70,80]\n",
    "b=[31,40,39,110,99]\n",
    "if a[0]%2==0 and a[len(a)//2==0]:\n",
    "    print(a+b)\n",
    "else:\n",
    "    c=a-b\n",
    "    print(c)"
   ]
  },
  {
   "attachments": {},
   "cell_type": "markdown",
   "metadata": {},
   "source": [
    "59.WAP to check whether the first item of these two lists is either integer or not. If it is an integer, concatenate these two lists or else print the memory address of these two lists."
   ]
  },
  {
   "cell_type": "code",
   "execution_count": 20,
   "metadata": {},
   "outputs": [
    {
     "name": "stdout",
     "output_type": "stream",
     "text": [
      "[1, 2, 3, 4, 5, 6, 7, 8, 9]\n",
      "2610129502848 2610129624448\n"
     ]
    }
   ],
   "source": [
    "a=[1,2,3,4,5]\n",
    "b=[6,7,8,9,]\n",
    "if type(a[0])==int and type(b[0])==int:\n",
    "    print(a+b)\n",
    "else:\n",
    "    print(id(a),id(b)) \n",
    "\n",
    "\n",
    "a=[\"hii\",2,3,4,5]\n",
    "b=[\"hello\",7,8,9,]\n",
    "if type(a[0])==int:\n",
    "    print(a+b)\n",
    "else:\n",
    "    print(id(a),id(b)) "
   ]
  }
 ],
 "metadata": {
  "kernelspec": {
   "display_name": "Python 3",
   "language": "python",
   "name": "python3"
  },
  "language_info": {
   "codemirror_mode": {
    "name": "ipython",
    "version": 3
   },
   "file_extension": ".py",
   "mimetype": "text/x-python",
   "name": "python",
   "nbconvert_exporter": "python",
   "pygments_lexer": "ipython3",
   "version": "3.11.3"
  },
  "orig_nbformat": 4
 },
 "nbformat": 4,
 "nbformat_minor": 2
}
