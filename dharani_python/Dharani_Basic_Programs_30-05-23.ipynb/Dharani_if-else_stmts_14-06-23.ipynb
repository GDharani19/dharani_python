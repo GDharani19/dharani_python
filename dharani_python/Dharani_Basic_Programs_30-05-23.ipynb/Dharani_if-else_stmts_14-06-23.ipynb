{
 "cells": [
  {
   "attachments": {},
   "cell_type": "markdown",
   "metadata": {},
   "source": [
    "1.WAP to check whether a number is positive or negative . if positive print positive message or else print negative message."
   ]
  },
  {
   "cell_type": "code",
   "execution_count": 4,
   "metadata": {},
   "outputs": [
    {
     "name": "stdout",
     "output_type": "stream",
     "text": [
      "positive\n"
     ]
    }
   ],
   "source": [
    "a=eval(input(\"enter a number:\"))\n",
    "if a>0:\n",
    "    print(\"positive\")\n",
    "else:\n",
    "    print(\"negative\")    "
   ]
  },
  {
   "attachments": {},
   "cell_type": "markdown",
   "metadata": {},
   "source": [
    "2.WAP to check whether a number is even or odd . if even print message as even or else print message as odd."
   ]
  },
  {
   "cell_type": "code",
   "execution_count": 7,
   "metadata": {},
   "outputs": [
    {
     "name": "stdout",
     "output_type": "stream",
     "text": [
      "odd\n"
     ]
    }
   ],
   "source": [
    "a=eval(input(\"enter a number:\"))\n",
    "if a%2==0:\n",
    "    print(\"even\")\n",
    "else:\n",
    "    print(\"odd\")    "
   ]
  },
  {
   "attachments": {},
   "cell_type": "markdown",
   "metadata": {},
   "source": [
    "3.WAP to check whether a given number is greater than 10 or not. if it is greater than 10 print message as greater or else print that number with not a greater than."
   ]
  },
  {
   "cell_type": "code",
   "execution_count": 10,
   "metadata": {},
   "outputs": [
    {
     "name": "stdout",
     "output_type": "stream",
     "text": [
      "greater\n"
     ]
    }
   ],
   "source": [
    "a=eval(input(\"enter a number:\"))\n",
    "if a>10:\n",
    "    print(\"greater\")\n",
    "else:\n",
    "    print(a)    "
   ]
  },
  {
   "attachments": {},
   "cell_type": "markdown",
   "metadata": {},
   "source": [
    "4.WAP to check whether a given value is present between 45 to 125 , if value is present print the ascii character."
   ]
  },
  {
   "cell_type": "code",
   "execution_count": 13,
   "metadata": {},
   "outputs": [
    {
     "name": "stdout",
     "output_type": "stream",
     "text": [
      "A\n"
     ]
    }
   ],
   "source": [
    "a=eval(input(\"enter a number:\"))\n",
    "if 45<a<125:\n",
    "    print(chr(a))"
   ]
  },
  {
   "attachments": {},
   "cell_type": "markdown",
   "metadata": {},
   "source": [
    "#.WAP to check whether both the values are even and same "
   ]
  },
  {
   "cell_type": "code",
   "execution_count": 1,
   "metadata": {},
   "outputs": [
    {
     "name": "stdout",
     "output_type": "stream",
     "text": [
      "52\n"
     ]
    }
   ],
   "source": [
    "a=13\n",
    "b=13\n",
    "if a%2==0 and b%2==0 and a==b:\n",
    "    res=a*b\n",
    "else:\n",
    "    res=2*(a+b)\n",
    "print(res)         "
   ]
  },
  {
   "attachments": {},
   "cell_type": "markdown",
   "metadata": {},
   "source": [
    "#.WAP the given value is odd and value is present in the range of 47 to 58 and it should not be a 0,if condition is true to perform /diplay \n",
    "the ascii character of the given value or else perfrom floor division with 5 then the final result is converted into character and display it."
   ]
  },
  {
   "cell_type": "code",
   "execution_count": 7,
   "metadata": {},
   "outputs": [
    {
     "name": "stdout",
     "output_type": "stream",
     "text": [
      "\u0018\n",
      "'\n",
      "5\n"
     ]
    }
   ],
   "source": [
    "a=120\n",
    "if a%2!=0 and 47<=a<58:\n",
    "    res=chr(a)\n",
    "else:\n",
    "    res=chr(a//5)\n",
    "print(res) \n",
    "\n",
    "\n",
    "a=198\n",
    "if a%2!=0 and 47<=a<58:\n",
    "    res=chr(a)\n",
    "else:\n",
    "    res=chr(a//5)\n",
    "print(res) \n",
    "\n",
    "a=53\n",
    "if a%2!=0 and 47<=a<58:\n",
    "    res=chr(a)\n",
    "else:\n",
    "    res=chr(a//5)\n",
    "print(res) "
   ]
  },
  {
   "attachments": {},
   "cell_type": "markdown",
   "metadata": {},
   "source": [
    "#.WAP to check whether the given value is lessthan 125 and in between 47 to 125 if condition is satisfied , to store the given value as a key and character as a value into the dictionary or else to append the value in the middle of the list and display it. "
   ]
  },
  {
   "cell_type": "code",
   "execution_count": 11,
   "metadata": {},
   "outputs": [
    {
     "name": "stdout",
     "output_type": "stream",
     "text": [
      "{'a': 10, 67: 'C'} [10, 20, 30]\n",
      "{'a': 10} [10, 127, 20, 30]\n"
     ]
    }
   ],
   "source": [
    "a=67\n",
    "d={'a':10}\n",
    "l=[10,20,30]\n",
    "if 47<a<125:\n",
    "    d[a]=chr(a)\n",
    "else:\n",
    "    l[len(l)//2:len(l)//2]=[a]    \n",
    "print(d,l)\n",
    "\n",
    "\n",
    "a=127\n",
    "d={'a':10}\n",
    "l=[10,20,30]\n",
    "if 47<a<125:\n",
    "    d[a]=chr(a)\n",
    "else:\n",
    "    l[len(l)//2:len(l)//2]=[a]    \n",
    "print(d,l)"
   ]
  },
  {
   "attachments": {},
   "cell_type": "markdown",
   "metadata": {},
   "source": [
    "#.WAP to check whether the given value is alphabet or not if alphabet to concat the given alphabet into set or else append the value in the ending of the tuple."
   ]
  },
  {
   "cell_type": "code",
   "execution_count": 29,
   "metadata": {},
   "outputs": [
    {
     "name": "stdout",
     "output_type": "stream",
     "text": [
      "{1, 2, 'A'}\n",
      "{1, 2} (1, 3, 5, '5')\n",
      "{1, 2} (1, 3, 5, 10)\n",
      "(1, 3, 5, 11)\n"
     ]
    }
   ],
   "source": [
    "a='A'\n",
    "s={1,2}\n",
    "t=(1,3,5)\n",
    "if 'A'<=a<'z' or 'a'<=a<'z':\n",
    "    s|={a}\n",
    "    print(s)\n",
    "else:\n",
    "    t+=(a,)\n",
    "    print(s,t) \n",
    "\n",
    "\n",
    "\n",
    "a='5'\n",
    "s={1,2}\n",
    "t=(1,3,5)\n",
    "if 'A'<=a<'z' or 'a'<=a<'z':\n",
    "    s|={a}\n",
    "    print(s)\n",
    "else:\n",
    "    t+=(a,)\n",
    "    print(s,t) \n",
    "\n",
    "\n",
    "a=eval(input(\"enter the value:\"))\n",
    "s={1,2}\n",
    "t=(1,3,5)\n",
    "if type(a)==str and ('A'<=a<'z' or 'a'<=a<'z'):\n",
    "    s|={a}\n",
    "    print(s)\n",
    "else:\n",
    "    t+=(a,)\n",
    "    print(s,t) \n",
    "\n",
    "\n",
    "a=eval(input(\"enter the value:\"))\n",
    "s={1,2}\n",
    "t=(1,3,5)\n",
    "if type(a)==str and ('A'<=a<'z' or 'a'<=a<'z'):\n",
    "    s|={a}\n",
    "    print(s)\n",
    "else:\n",
    "    t+=(a,)\n",
    "    print(t) "
   ]
  },
  {
   "attachments": {},
   "cell_type": "markdown",
   "metadata": {},
   "source": [
    "#.WAP to check the given character is uppercase or not . if uppercase then convert the given character is converted into lower case or else \n",
    "display the ascii value of the given character with the character."
   ]
  },
  {
   "cell_type": "code",
   "execution_count": 33,
   "metadata": {},
   "outputs": [
    {
     "name": "stdout",
     "output_type": "stream",
     "text": [
      "a\n",
      "97 a\n"
     ]
    }
   ],
   "source": [
    "x='A'\n",
    "if 'A'<=x<='Z':\n",
    "    print(chr(ord(x)+32))\n",
    "else:\n",
    "    print(ord(x),x)  \n",
    "\n",
    "\n",
    "x='a'\n",
    "if 'A'<=x<='Z':\n",
    "    print(chr(ord(x)+32))\n",
    "else:\n",
    "    print(ord(x),x)  \n",
    "          "
   ]
  },
  {
   "attachments": {},
   "cell_type": "markdown",
   "metadata": {},
   "source": [
    "#.WAP to check whether a given character is a vowel or consonant.if vowel print next character or else print previous character."
   ]
  },
  {
   "cell_type": "code",
   "execution_count": 36,
   "metadata": {},
   "outputs": [
    {
     "name": "stdout",
     "output_type": "stream",
     "text": [
      "b a\n",
      "a b\n",
      "F G\n"
     ]
    }
   ],
   "source": [
    "x='a'\n",
    "if x in 'AEIOUaeiou':\n",
    "    print(chr(ord(x)+1),x)\n",
    "else:\n",
    "    print(chr(ord(x)-1),x)\n",
    "\n",
    "\n",
    "x='b'\n",
    "if x in 'AEIOUaeiou':\n",
    "    print(chr(ord(x)+1),x)\n",
    "else:\n",
    "    print(chr(ord(x)-1),x)  \n",
    "\n",
    "x='G'\n",
    "if x in 'AEIOUaeiou':\n",
    "    print(chr(ord(x)+1),x)\n",
    "else:\n",
    "    print(chr(ord(x)-1),x)      \n",
    "          "
   ]
  },
  {
   "attachments": {},
   "cell_type": "markdown",
   "metadata": {},
   "source": [
    "#.WAP to check whether a given length of the string is even and length should be morethan 3 and lessthan 15.\n",
    "if condition is satisfied append the new string in middle of the given string or else delete the first ,middle,last characters of given string and display the remaining strings. "
   ]
  },
  {
   "cell_type": "code",
   "execution_count": 46,
   "metadata": {},
   "outputs": [
    {
     "name": "stdout",
     "output_type": "stream",
     "text": [
      "haan\n",
      "usushaha\n"
     ]
    }
   ],
   "source": [
    "x=\"Dharani\"         \n",
    "if len(x)%2==0 and 3<len(x)<15:\n",
    "    x=x[:len(x)//2]+\"usha\"+x[len(x)//2:]\n",
    "    print(x)\n",
    "else:\n",
    "    y=x[1:len(x)//2]+x[len(x)//2+1:-1] \n",
    "    print(y)  \n",
    "\n",
    "\n",
    "x=\"usha\"         \n",
    "if len(x)%2==0 and 3<len(x)<15:\n",
    "    x=x[:len(x)//2]+\"usha\"+x[len(x)//2:]\n",
    "    print(x)\n",
    "else:\n",
    "    y=x[1:len(x)//2]+x[len(x)//2+1:-1] \n",
    "    print(y)       "
   ]
  },
  {
   "attachments": {},
   "cell_type": "markdown",
   "metadata": {},
   "source": [
    "#.WAP to check whether a given value is a list and the first and the last values are should be integer or not\n",
    "if the condition is satisfied , perform true division by 3 for the first value and perform the cube of the last value and those values are storing in same position in the given list or else delete the first element and middle element and last two elements."
   ]
  },
  {
   "cell_type": "code",
   "execution_count": 51,
   "metadata": {},
   "outputs": [
    {
     "name": "stdout",
     "output_type": "stream",
     "text": [
      "[3.3333333333333335, 20, 30, 40, 50, 60, 70, 512000]\n",
      "[20, 30, 40, 60]\n"
     ]
    }
   ],
   "source": [
    "l=[10,20,30,40,50,60,70,80]\n",
    "if type(l)==list and type(l[0])==int and type(l[-1])==int:\n",
    "    l[0]/=3\n",
    "    l[-1]**=3\n",
    "else:\n",
    "    del l[0]\n",
    "    del l[len(l)//2]\n",
    "    del l[-2:]  \n",
    "print(l)  \n",
    "\n",
    "\n",
    "\n",
    "l=[10,20,30,40,50,60,70,80.5]\n",
    "if type(l)==list and type(l[0])==int and type(l[-1])==int:\n",
    "    l[0]/=3\n",
    "    l[-1]**=3\n",
    "else:\n",
    "    del l[0]\n",
    "    del l[len(l)//2]\n",
    "    del l[-2:]  \n",
    "print(l)  "
   ]
  }
 ],
 "metadata": {
  "kernelspec": {
   "display_name": "Python 3",
   "language": "python",
   "name": "python3"
  },
  "language_info": {
   "codemirror_mode": {
    "name": "ipython",
    "version": 3
   },
   "file_extension": ".py",
   "mimetype": "text/x-python",
   "name": "python",
   "nbconvert_exporter": "python",
   "pygments_lexer": "ipython3",
   "version": "3.11.3"
  },
  "orig_nbformat": 4
 },
 "nbformat": 4,
 "nbformat_minor": 2
}
