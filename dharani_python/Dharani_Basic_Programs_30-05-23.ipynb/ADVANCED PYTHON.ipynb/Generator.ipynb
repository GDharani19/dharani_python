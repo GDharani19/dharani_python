{
 "cells": [
  {
   "cell_type": "markdown",
   "metadata": {},
   "source": [
    "GENERATOR :\n",
    "\n",
    "* It is a phenomenon of generating the new values one sapce to another space by the help of \"yield\" keyword.\n",
    "* Generator will generate the generator object .\n",
    "* It holds the set of values from yield keyword.\n",
    "* Generator object we can utilize only one time. \n",
    "* if we want to fetch the values from generator object we have to apply type casting or generator object is given to the iterator\n",
    "  (either static iterator or dynamic iterator).\n",
    "* when we utilize the generator object then only generator will perfrom the task.\n",
    "\n",
    "YIELD :\n",
    "\n",
    "* Yield is a predefined keyword it will take the value and it returns to the generator object .\n",
    "* Yield will pass the execution of the program and it return the value to the generator object after return it will resume the execution \n",
    "  of the program.\n",
    "\n",
    "SYNTAX :\n",
    "\n",
    "        def function_name(args,----):\n",
    "                stmts (we can use number of times)\n",
    "                yield value  (whenever the controller see the yield it will pause the execution)\n",
    "                stmts\n",
    "        VN=func_name(args)"
   ]
  },
  {
   "cell_type": "code",
   "execution_count": 3,
   "metadata": {},
   "outputs": [
    {
     "data": {
      "text/plain": [
       "<generator object pen at 0x000001AA523EC120>"
      ]
     },
     "execution_count": 3,
     "metadata": {},
     "output_type": "execute_result"
    }
   ],
   "source": [
    "def pen(n):\n",
    "    for i in range(0,n):\n",
    "        print(\"hello\")\n",
    "        yield i\n",
    "obj=pen(4)\n",
    "obj"
   ]
  },
  {
   "cell_type": "code",
   "execution_count": 8,
   "metadata": {},
   "outputs": [
    {
     "name": "stdout",
     "output_type": "stream",
     "text": [
      "dharani\n",
      "dharani\n",
      "dharani\n",
      "dharani\n",
      "dharani\n",
      "dharani\n",
      "[0, 1, 2, 3, 4, 5]\n"
     ]
    }
   ],
   "source": [
    "def pen(n):\n",
    "    for i in range(0,n):\n",
    "        print(\"dharani\")\n",
    "        yield i\n",
    "obj=pen(6)\n",
    "print(list(obj))    # by using type casting"
   ]
  },
  {
   "cell_type": "code",
   "execution_count": 12,
   "metadata": {},
   "outputs": [
    {
     "name": "stdout",
     "output_type": "stream",
     "text": [
      "hello\n",
      "0\n",
      "hello\n",
      "1\n",
      "hello\n",
      "2\n",
      "hello\n",
      "3\n"
     ]
    }
   ],
   "source": [
    "def pen(n):\n",
    "    for i in range(0,n):\n",
    "        print(\"hello\")\n",
    "        yield i\n",
    "obj=pen(4)\n",
    "for i in obj:    # by using iteration statemnet (cntinuously it will generating the values)\n",
    "    print(i)"
   ]
  },
  {
   "cell_type": "code",
   "execution_count": 8,
   "metadata": {},
   "outputs": [
    {
     "name": "stdout",
     "output_type": "stream",
     "text": [
      "hello\n",
      "0\n",
      "hello\n",
      "1\n",
      "hello\n",
      "2\n",
      "hello\n",
      "3\n"
     ]
    }
   ],
   "source": [
    "def pen(n):\n",
    "    for i in range(0,n):\n",
    "        print(\"hello\")\n",
    "        yield i\n",
    "obj=pen(4)\n",
    "res=iter(obj)     # by using iter keyword/function  (when ever we call the function then only it will generating the values)\n",
    "print(next(res))\n",
    "print(next(res))\n",
    "print(next(res))\n",
    "print(next(res))"
   ]
  },
  {
   "cell_type": "code",
   "execution_count": 9,
   "metadata": {},
   "outputs": [
    {
     "name": "stdout",
     "output_type": "stream",
     "text": [
      "hello\n",
      "0\n",
      "hello\n",
      "1\n",
      "hello\n",
      "2\n",
      "hello\n",
      "3\n"
     ]
    },
    {
     "ename": "StopIteration",
     "evalue": "",
     "output_type": "error",
     "traceback": [
      "\u001b[1;31m---------------------------------------------------------------------------\u001b[0m",
      "\u001b[1;31mStopIteration\u001b[0m                             Traceback (most recent call last)",
      "Cell \u001b[1;32mIn[9], line 11\u001b[0m\n\u001b[0;32m      9\u001b[0m \u001b[39mprint\u001b[39m(\u001b[39mnext\u001b[39m(res))\n\u001b[0;32m     10\u001b[0m \u001b[39mprint\u001b[39m(\u001b[39mnext\u001b[39m(res))\n\u001b[1;32m---> 11\u001b[0m \u001b[39mprint\u001b[39m(\u001b[39mnext\u001b[39;49m(res))\n",
      "\u001b[1;31mStopIteration\u001b[0m: "
     ]
    }
   ],
   "source": [
    "def pen(n):\n",
    "    for i in range(0,n):\n",
    "        print(\"hello\")\n",
    "        yield i\n",
    "obj=pen(4)\n",
    "res=iter(obj)     # by using iter keyword  (when ever we call the function then only it will generating the values)\n",
    "print(next(res))\n",
    "print(next(res))\n",
    "print(next(res))\n",
    "print(next(res))\n",
    "print(next(res))"
   ]
  },
  {
   "cell_type": "code",
   "execution_count": 10,
   "metadata": {},
   "outputs": [
    {
     "name": "stdout",
     "output_type": "stream",
     "text": [
      "hello\n",
      "hello\n",
      "hello\n",
      "hello\n",
      "{0: 0, 1: 1, 2: 4, 3: 9}\n"
     ]
    }
   ],
   "source": [
    "def pen(n):\n",
    "    for i in range(0,n):\n",
    "        print(\"hello\")\n",
    "        yield (i,i**2)\n",
    "obj=pen(4)\n",
    "print(dict(obj))"
   ]
  },
  {
   "cell_type": "code",
   "execution_count": 12,
   "metadata": {},
   "outputs": [
    {
     "name": "stdout",
     "output_type": "stream",
     "text": [
      "hello\n",
      "(0, 0)\n",
      "hello\n",
      "(1, 1)\n",
      "hello\n",
      "(2, 4)\n",
      "hello\n",
      "(3, 9)\n"
     ]
    }
   ],
   "source": [
    "def pen(n):\n",
    "    for i in range(0,n):\n",
    "        print(\"hello\")\n",
    "        yield (i,i**2)\n",
    "obj=pen(4)\n",
    "for i in obj:\n",
    "    print(i)"
   ]
  },
  {
   "cell_type": "code",
   "execution_count": 16,
   "metadata": {},
   "outputs": [
    {
     "name": "stdout",
     "output_type": "stream",
     "text": [
      "hello\n",
      "0 0 0\n",
      "hello\n",
      "1 1 1\n",
      "hello\n",
      "2 4 8\n",
      "hello\n",
      "3 9 27\n"
     ]
    }
   ],
   "source": [
    "def pen(n):\n",
    "    for i in range(0,n):\n",
    "        print(\"hello\")\n",
    "        yield (i,i**2,i**3)\n",
    "obj=pen(4)\n",
    "for i,j,k in obj:\n",
    "    print(i,j,k)"
   ]
  },
  {
   "cell_type": "code",
   "execution_count": 13,
   "metadata": {},
   "outputs": [
    {
     "name": "stdout",
     "output_type": "stream",
     "text": [
      "10\n",
      "20\n",
      "30\n"
     ]
    }
   ],
   "source": [
    "i,j,k=(10,20,30)   # UNPACKING CONCEPT\n",
    "print(i)\n",
    "print(j)\n",
    "print(k)"
   ]
  },
  {
   "cell_type": "code",
   "execution_count": 14,
   "metadata": {},
   "outputs": [
    {
     "name": "stdout",
     "output_type": "stream",
     "text": [
      "(10, 20, 30)\n"
     ]
    }
   ],
   "source": [
    "d=10,20,30   # PACKING CONCEPT\n",
    "print(d)"
   ]
  }
 ],
 "metadata": {
  "kernelspec": {
   "display_name": "Python 3",
   "language": "python",
   "name": "python3"
  },
  "language_info": {
   "codemirror_mode": {
    "name": "ipython",
    "version": 3
   },
   "file_extension": ".py",
   "mimetype": "text/x-python",
   "name": "python",
   "nbconvert_exporter": "python",
   "pygments_lexer": "ipython3",
   "version": "3.11.3"
  },
  "orig_nbformat": 4
 },
 "nbformat": 4,
 "nbformat_minor": 2
}
