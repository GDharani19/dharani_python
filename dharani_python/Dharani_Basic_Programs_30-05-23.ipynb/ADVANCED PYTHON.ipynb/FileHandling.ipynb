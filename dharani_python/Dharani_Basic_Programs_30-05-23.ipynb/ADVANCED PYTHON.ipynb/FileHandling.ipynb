{
 "cells": [
  {
   "cell_type": "markdown",
   "metadata": {},
   "source": [
    "FILE HANDLING\n",
    "\n",
    "* It is a phenomemon of working [creation,deletion,retrieval,updating data,managing] in side the files .\n",
    "* In this concept we are going to work with the type of files called \"flat files\" [.txt,text files and binary text file].\n",
    "* Flat files are the basic file types which support only 2 operations .\n",
    "          1.Inserting the data\n",
    "          2.Retrieving the data\n",
    "* stream is a channel that is created between the program and file for the data transaction.\n",
    "* To create a stream we have only 1 way , that is :\n",
    "     By using open function\n",
    "* open(file path_with_extension,mode) : This is a function used to create a stream for the communication with a file from a program and\n",
    " opening the file after that it returns the file pointer address .\n",
    "\n",
    "SYNTAX\n",
    "\n",
    "fopen=open(filepath_with_extension,mode)"
   ]
  },
  {
   "cell_type": "code",
   "execution_count": 1,
   "metadata": {},
   "outputs": [
    {
     "ename": "NameError",
     "evalue": "name 'mode' is not defined",
     "output_type": "error",
     "traceback": [
      "\u001b[1;31m---------------------------------------------------------------------------\u001b[0m",
      "\u001b[1;31mNameError\u001b[0m                                 Traceback (most recent call last)",
      "Cell \u001b[1;32mIn[1], line 1\u001b[0m\n\u001b[1;32m----> 1\u001b[0m fopen\u001b[39m=\u001b[39m\u001b[39mopen\u001b[39m(\u001b[39m\"\u001b[39m\u001b[39mc:/users/desktop/tfile1.txt\u001b[39m\u001b[39m\"\u001b[39m,mode)\n\u001b[0;32m      2\u001b[0m fopen\u001b[39m=\u001b[39m\u001b[39mopen\u001b[39m(\u001b[39m\"\u001b[39m\u001b[39mc:\u001b[39m\u001b[39m\\\\\u001b[39;00m\u001b[39musers\u001b[39m\u001b[39m\\\\\u001b[39;00m\u001b[39mdesktop\u001b[39m\u001b[39m\\\\\u001b[39;00m\u001b[39mtfile1.txt\u001b[39m\u001b[39m\"\u001b[39m,mode)\n\u001b[0;32m      3\u001b[0m fopen\u001b[39m=\u001b[39m\u001b[39mopen\u001b[39m(r,\u001b[39m\"\u001b[39m\u001b[39mc:/users/desktop.tfile1.txt\u001b[39m\u001b[39m\"\u001b[39m,mode)\n",
      "\u001b[1;31mNameError\u001b[0m: name 'mode' is not defined"
     ]
    }
   ],
   "source": [
    "fopen=open(\"c:/users/desktop/tfile1.txt\",mode)\n",
    "fopen=open(\"c:\\\\users\\\\desktop\\\\tfile1.txt\",mode)\n",
    "fopen=open(r,\"c:/users/desktop.tfile1.txt\",mode)"
   ]
  }
 ],
 "metadata": {
  "kernelspec": {
   "display_name": "Python 3",
   "language": "python",
   "name": "python3"
  },
  "language_info": {
   "codemirror_mode": {
    "name": "ipython",
    "version": 3
   },
   "file_extension": ".py",
   "mimetype": "text/x-python",
   "name": "python",
   "nbconvert_exporter": "python",
   "pygments_lexer": "ipython3",
   "version": "3.11.3"
  },
  "orig_nbformat": 4
 },
 "nbformat": 4,
 "nbformat_minor": 2
}
