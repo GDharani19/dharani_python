{
 "cells": [
  {
   "cell_type": "markdown",
   "metadata": {},
   "source": [
    "FILE HANDLING\n",
    "\n",
    "* It is a phenomemon of working [creation,deletion,retrieval,updating data,managing] in side the files .\n",
    "* In this concept we are going to work with the type of files called \"flat files\" [.txt,text files and binary text file].\n",
    "* Flat files are the basic file types which support only 2 operations .\n",
    "          1.Inserting the data\n",
    "          2.Retrieving the data\n",
    "* stream is a channel that is created between the program and file for the data transaction.\n",
    "* To create a stream we have only 1 way , that is :\n",
    "     By using open function\n",
    "* open(file path_with_extension,mode) : This is a function used to create a stream for the communication with a file from a program and\n",
    " opening the file after that it returns the file pointer address .\n",
    "\n",
    "SYNTAX\n",
    "\n",
    "fopen=open(filepath_with_extension,mode)\n",
    "\n",
    "fopen=open(\"c:/users/desktop/tfile1.txt\",mode)\n",
    "fopen=open(\"c:\\\\users\\\\desktop\\\\tfile1.txt\",mode)\n",
    "fopen=open(r,\"c:/users/desktop.tfile1.txt\",mode)"
   ]
  },
  {
   "cell_type": "markdown",
   "metadata": {},
   "source": [
    "* open function returns the address of the channel and variable \"fopen\" is holds that address , it is called as \"file object\".\n",
    "* close() : close the file and delete the file pointer address.\n",
    "\n",
    "SYNTAX :\n",
    "\n",
    "fopen.close()\n",
    "fopen : is nothing but a file pointer object name.\n",
    "\n",
    "* in the file handling concept we are given the permission or restrictions to that file . this type of concept we call it as file modes.\n",
    "* The modes are divided into 3 types , they are\n",
    "    1.write mode\n",
    "    2.read mode\n",
    "    3.append mode"
   ]
  },
  {
   "cell_type": "code",
   "execution_count": 1,
   "metadata": {},
   "outputs": [
    {
     "ename": "SyntaxError",
     "evalue": "(unicode error) 'unicodeescape' codec can't decode bytes in position 2-3: truncated \\uXXXX escape (2242593298.py, line 1)",
     "output_type": "error",
     "traceback": [
      "\u001b[1;36m  Cell \u001b[1;32mIn[1], line 1\u001b[1;36m\u001b[0m\n\u001b[1;33m    fp=open(\"c:\\users\\QSP\\Desktop\\django_7\\project_desc.txt\",\"r\")\u001b[0m\n\u001b[1;37m                                                            ^\u001b[0m\n\u001b[1;31mSyntaxError\u001b[0m\u001b[1;31m:\u001b[0m (unicode error) 'unicodeescape' codec can't decode bytes in position 2-3: truncated \\uXXXX escape\n"
     ]
    }
   ],
   "source": [
    "fp=open(\"c:\\users\\QSP\\Desktop\\django_7\\project_desc.txt\",\"r\")"
   ]
  },
  {
   "cell_type": "code",
   "execution_count": 5,
   "metadata": {},
   "outputs": [
    {
     "ename": "FileNotFoundError",
     "evalue": "[Errno 2] No such file or directory: 'c:\\\\users\\\\QSP\\\\Desktop\\\\django_7\\\\project3\\\\project_desc.txt'",
     "output_type": "error",
     "traceback": [
      "\u001b[1;31m---------------------------------------------------------------------------\u001b[0m",
      "\u001b[1;31mFileNotFoundError\u001b[0m                         Traceback (most recent call last)",
      "Cell \u001b[1;32mIn[5], line 1\u001b[0m\n\u001b[1;32m----> 1\u001b[0m fp\u001b[39m=\u001b[39m\u001b[39mopen\u001b[39;49m(\u001b[39m\"\u001b[39;49m\u001b[39mc:\u001b[39;49m\u001b[39m\\\\\u001b[39;49;00m\u001b[39musers\u001b[39;49m\u001b[39m\\\\\u001b[39;49;00m\u001b[39mQSP\u001b[39;49m\u001b[39m\\\\\u001b[39;49;00m\u001b[39mDesktop\u001b[39;49m\u001b[39m\\\\\u001b[39;49;00m\u001b[39mdjango_7\u001b[39;49m\u001b[39m\\\\\u001b[39;49;00m\u001b[39mproject3\u001b[39;49m\u001b[39m\\\\\u001b[39;49;00m\u001b[39mproject_desc.txt\u001b[39;49m\u001b[39m\"\u001b[39;49m,\u001b[39m\"\u001b[39;49m\u001b[39mr\u001b[39;49m\u001b[39m\"\u001b[39;49m)\n\u001b[0;32m      2\u001b[0m \u001b[39mprint\u001b[39m(fp)\n",
      "File \u001b[1;32m~\\AppData\\Roaming\\Python\\Python311\\site-packages\\IPython\\core\\interactiveshell.py:284\u001b[0m, in \u001b[0;36m_modified_open\u001b[1;34m(file, *args, **kwargs)\u001b[0m\n\u001b[0;32m    277\u001b[0m \u001b[39mif\u001b[39;00m file \u001b[39min\u001b[39;00m {\u001b[39m0\u001b[39m, \u001b[39m1\u001b[39m, \u001b[39m2\u001b[39m}:\n\u001b[0;32m    278\u001b[0m     \u001b[39mraise\u001b[39;00m \u001b[39mValueError\u001b[39;00m(\n\u001b[0;32m    279\u001b[0m         \u001b[39mf\u001b[39m\u001b[39m\"\u001b[39m\u001b[39mIPython won\u001b[39m\u001b[39m'\u001b[39m\u001b[39mt let you open fd=\u001b[39m\u001b[39m{\u001b[39;00mfile\u001b[39m}\u001b[39;00m\u001b[39m by default \u001b[39m\u001b[39m\"\u001b[39m\n\u001b[0;32m    280\u001b[0m         \u001b[39m\"\u001b[39m\u001b[39mas it is likely to crash IPython. If you know what you are doing, \u001b[39m\u001b[39m\"\u001b[39m\n\u001b[0;32m    281\u001b[0m         \u001b[39m\"\u001b[39m\u001b[39myou can use builtins\u001b[39m\u001b[39m'\u001b[39m\u001b[39m open.\u001b[39m\u001b[39m\"\u001b[39m\n\u001b[0;32m    282\u001b[0m     )\n\u001b[1;32m--> 284\u001b[0m \u001b[39mreturn\u001b[39;00m io_open(file, \u001b[39m*\u001b[39;49margs, \u001b[39m*\u001b[39;49m\u001b[39m*\u001b[39;49mkwargs)\n",
      "\u001b[1;31mFileNotFoundError\u001b[0m: [Errno 2] No such file or directory: 'c:\\\\users\\\\QSP\\\\Desktop\\\\django_7\\\\project3\\\\project_desc.txt'"
     ]
    }
   ],
   "source": [
    "fp=open(\"c:\\\\users\\\\QSP\\\\Desktop\\\\django_7\\\\project3\\\\project_desc.txt\",\"r\")\n",
    "print(fp)"
   ]
  },
  {
   "cell_type": "code",
   "execution_count": 7,
   "metadata": {},
   "outputs": [
    {
     "ename": "FileNotFoundError",
     "evalue": "[Errno 2] No such file or directory: 'c:\\\\users\\\\QSP\\\\Desktop\\\\django_7\\\\project_desc.txt'",
     "output_type": "error",
     "traceback": [
      "\u001b[1;31m---------------------------------------------------------------------------\u001b[0m",
      "\u001b[1;31mFileNotFoundError\u001b[0m                         Traceback (most recent call last)",
      "Cell \u001b[1;32mIn[7], line 1\u001b[0m\n\u001b[1;32m----> 1\u001b[0m fp\u001b[39m=\u001b[39m\u001b[39mopen\u001b[39;49m(\u001b[39mr\u001b[39;49m\u001b[39m\"\u001b[39;49m\u001b[39mc:\u001b[39;49m\u001b[39m\\\u001b[39;49m\u001b[39musers\u001b[39;49m\u001b[39m\\\u001b[39;49m\u001b[39mQSP\u001b[39;49m\u001b[39m\\\u001b[39;49m\u001b[39mDesktop\u001b[39;49m\u001b[39m\\\u001b[39;49m\u001b[39mdjango_7\u001b[39;49m\u001b[39m\\\u001b[39;49m\u001b[39mproject_desc.txt\u001b[39;49m\u001b[39m\"\u001b[39;49m,\u001b[39m'\u001b[39;49m\u001b[39mr\u001b[39;49m\u001b[39m'\u001b[39;49m)\n\u001b[0;32m      2\u001b[0m \u001b[39mprint\u001b[39m(fp)\n\u001b[0;32m      3\u001b[0m fp\u001b[39m.\u001b[39mclose()\n",
      "File \u001b[1;32m~\\AppData\\Roaming\\Python\\Python311\\site-packages\\IPython\\core\\interactiveshell.py:284\u001b[0m, in \u001b[0;36m_modified_open\u001b[1;34m(file, *args, **kwargs)\u001b[0m\n\u001b[0;32m    277\u001b[0m \u001b[39mif\u001b[39;00m file \u001b[39min\u001b[39;00m {\u001b[39m0\u001b[39m, \u001b[39m1\u001b[39m, \u001b[39m2\u001b[39m}:\n\u001b[0;32m    278\u001b[0m     \u001b[39mraise\u001b[39;00m \u001b[39mValueError\u001b[39;00m(\n\u001b[0;32m    279\u001b[0m         \u001b[39mf\u001b[39m\u001b[39m\"\u001b[39m\u001b[39mIPython won\u001b[39m\u001b[39m'\u001b[39m\u001b[39mt let you open fd=\u001b[39m\u001b[39m{\u001b[39;00mfile\u001b[39m}\u001b[39;00m\u001b[39m by default \u001b[39m\u001b[39m\"\u001b[39m\n\u001b[0;32m    280\u001b[0m         \u001b[39m\"\u001b[39m\u001b[39mas it is likely to crash IPython. If you know what you are doing, \u001b[39m\u001b[39m\"\u001b[39m\n\u001b[0;32m    281\u001b[0m         \u001b[39m\"\u001b[39m\u001b[39myou can use builtins\u001b[39m\u001b[39m'\u001b[39m\u001b[39m open.\u001b[39m\u001b[39m\"\u001b[39m\n\u001b[0;32m    282\u001b[0m     )\n\u001b[1;32m--> 284\u001b[0m \u001b[39mreturn\u001b[39;00m io_open(file, \u001b[39m*\u001b[39;49margs, \u001b[39m*\u001b[39;49m\u001b[39m*\u001b[39;49mkwargs)\n",
      "\u001b[1;31mFileNotFoundError\u001b[0m: [Errno 2] No such file or directory: 'c:\\\\users\\\\QSP\\\\Desktop\\\\django_7\\\\project_desc.txt'"
     ]
    }
   ],
   "source": [
    "fp=open(r\"c:\\users\\QSP\\Desktop\\django_7\\project_desc.txt\",'r')\n",
    "print(fp)\n",
    "fp.close()"
   ]
  },
  {
   "cell_type": "markdown",
   "metadata": {},
   "source": [
    "* In the file handling concept we are given the permissions or restrictions to that file . This type of concept we call it as file modes.\n",
    "* The modes are divided into 3 types\n",
    "   1.read\n",
    "   2.append\n",
    "   3.write\n",
    "\n",
    "READ MODE : \n",
    "\n",
    "* modes : \"r\" (flat file) and \"rb\" (binary file)\n",
    "\n",
    "ADVANCED MODES : \"r+\" (read and write flat files) and \"rb+\" (read and write binary file)\n",
    "\n",
    "READ FUNCTIONS :\n",
    "\n",
    "READ ( NO OF CHARACTERS) : This is a function used to read the specified number of characters from the file.if in case we are\n",
    "                           not defined the no of characters then it reads each and every character from the file.\n",
    "\n",
    "SYNTAX :\n",
    "            var=fopen.read(character count)\n",
    "            var=fopen.read()\n",
    "            where : no of characters or character count is optional\n",
    "* fopen os nothing but it will store open file object address.\n",
    "\n",
    "READLINE() : This function is going to read the first line of the file.\n",
    "         \n",
    "         var=fopen.readline(character count)\n",
    "* starting file pointer to specific character position.\n",
    "\n",
    "         var=fopen.readline()\n",
    "* start file pointer to end of the line.\n",
    "\n",
    "READLINES() : This function reads all the lines of data in the form of list.\n",
    "         \n",
    "         var=fopen.readlines()\n",
    "* Each and every line is considered as an element in the list "
   ]
  },
  {
   "cell_type": "code",
   "execution_count": 8,
   "metadata": {},
   "outputs": [
    {
     "name": "stdout",
     "output_type": "stream",
     "text": [
      "H\n",
      "HE\n",
      "HEL\n",
      "HELL\n",
      "HELLO\n",
      "HELLO1\n",
      "HELLO1W\n",
      "HELLO1WO\n",
      "HELLO1WOR\n",
      "HELLO1WORL\n",
      "HELLO1WORLD\n"
     ]
    }
   ],
   "source": [
    "# SHORTCUT METHODS FOR CONVERTING A WHILE LOOP INTO A RECURSIVE PROGRAM\n",
    "\n",
    "# Initially first write down the while loop program\n",
    "\n",
    "a=\"hello1world\"\n",
    "st=\"\"\n",
    "i=0\n",
    "while i!=len(a):\n",
    "    if \"a\"<=a[i]<=\"z\":\n",
    "        st+=chr(ord(a[i])-32) \n",
    "    else:\n",
    "        st+=a[i]\n",
    "    i+=1\n",
    "    print(st)        "
   ]
  },
  {
   "cell_type": "markdown",
   "metadata": {},
   "source": [
    "* In the above program we are taking some inputs , whatever input is here , those inputs written inside the function as formal \n",
    "  arguments.\n",
    "\n",
    "EX:\n",
    "def upper (a=\"hello world\",st=\" \",i=0):\n",
    "\n",
    "* In the while loop we are written the conditoin , what ever the condition is there .\n",
    "* Opposite of that condition write inside if statement (termination statement) and return the value inside the recursion function.\n",
    "* if in case returns the output of that program than give the variable name in return statement.\n",
    "\n",
    "EX :\n",
    "       if i==len(a):    # termination condition\n",
    "       return st\n",
    "\n",
    "* In the while loop whatever the true block statement is there , those statements copy and paste it after the condition inside\n",
    "  the recursion function (except increment/decrement statement).\n",
    "\n",
    "  EX : \n",
    "        if \"a\"<=a[i]<=\"z\" :\n",
    "            st+=chr(ord(a[i])-32)\n",
    "        else:\n",
    "            st+=a[i]\n",
    "\n",
    "* what ever increment and decrement statement is there ; there statements write it inside the function call.\n",
    "\n",
    "NOTE : (first give normal args and after increment/decrement statement)\n",
    "\n",
    "EX :\n",
    "      return UPPER(a,st,i+1)\n",
    "\n",
    "* Finally give the normal function call inside the main space .\n",
    "\n",
    "EX :\n",
    "    def UPPER(a=\"hello1world\",st=\" \",i=0):\n",
    "        if i==len(a):                     # terminstion condition\n",
    "            return st\n",
    "        if \"a\"<=a[i]<=\"z\":\n",
    "            st+=chr(ord(a[i])-32)\n",
    "        else:\n",
    "            st+=a[i]\n",
    "        return UPPER (a,st,i+1)\n",
    "    UPPER()\n",
    "\n",
    "\n",
    "def UPPER(a,st,i):\n",
    "    if i!=len(a):\n",
    "        if \"a\"<=a[i]<=\"z\":\n",
    "           st+=chr(ord(a[i])-32):\n",
    "        else:\n",
    "            st+=a[i]\n",
    "        return UPPER(a,st,i+1)    \n",
    "    return st                  # termination statement \n",
    "UPPER (\"hello1world\",\"\",0)    \n"
   ]
  },
  {
   "cell_type": "code",
   "execution_count": 9,
   "metadata": {},
   "outputs": [
    {
     "name": "stdout",
     "output_type": "stream",
     "text": [
      " pyspideRDS\n",
      " 123@#$\n"
     ]
    }
   ],
   "source": [
    "# Segregation of characters , numbers , and special characters .\n",
    "\n",
    "st=\"pyspi123@#$deRDS\"\n",
    "alpha=\" \"\n",
    "spec=\" \"\n",
    "start=0\n",
    "while start<len(st):\n",
    "    if \"a\"<=st[start]<=\"z\" or \"A\"<=st[start]<=\"Z\":\n",
    "        alpha+=st[start]\n",
    "    else:\n",
    "        spec+=st[start]\n",
    "    start+=1\n",
    "print(alpha)\n",
    "print(spec)            "
   ]
  },
  {
   "cell_type": "code",
   "execution_count": 10,
   "metadata": {},
   "outputs": [
    {
     "name": "stdout",
     "output_type": "stream",
     "text": [
      " pyspideRDS\n",
      " 123@#$\n"
     ]
    }
   ],
   "source": [
    "# USING RECURSION\n",
    "\n",
    "def segr(coll,alpha=\" \",spec=\" \",start=0):\n",
    "    if start==len(coll):\n",
    "        return alpha,spec\n",
    "    if \"A\"<=coll[start]<=\"Z\" or \"a\"<=coll[start]<=\"z\":\n",
    "        alpha+=coll[start]\n",
    "    else:\n",
    "        spec+=coll[start]\n",
    "    return segr(coll,alpha,spec,start+1)\n",
    "res=segr(coll=\"pyspi123@#$deRDS\")\n",
    "print(res[0])\n",
    "print(res[1])        "
   ]
  },
  {
   "cell_type": "code",
   "execution_count": 11,
   "metadata": {},
   "outputs": [
    {
     "name": "stdout",
     "output_type": "stream",
     "text": [
      "[1, 3, 6, 10, 15, 21] 56\n"
     ]
    }
   ],
   "source": [
    "# I/P : [1,2,3,4,5,5]\n",
    "# O/P : ([1,3,6,10,15,21],56)\n",
    "\n",
    "l=[1,2,3,4,5,6]\n",
    "start=0\n",
    "t=[]\n",
    "res=0\n",
    "temp=0\n",
    "while start<len(l):\n",
    "    res+=l[start]\n",
    "    t+=[res]\n",
    "    temp+=res\n",
    "    start+=1\n",
    "print(t,temp)    "
   ]
  },
  {
   "cell_type": "code",
   "execution_count": 21,
   "metadata": {},
   "outputs": [
    {
     "data": {
      "text/plain": [
       "([1, 3, 6, 10, 15, 21], 56)"
      ]
     },
     "execution_count": 21,
     "metadata": {},
     "output_type": "execute_result"
    }
   ],
   "source": [
    "l=[1,2,3,4,5,6]\n",
    "def number(coll,start=0,t=[],res=0,temp=0):\n",
    "    if start==len(coll):\n",
    "        return t,temp\n",
    "    res+=coll[start]\n",
    "    t+=[res]\n",
    "    temp+=res\n",
    "    return number(coll,start+1,t,res,temp)\n",
    "number(l)     "
   ]
  },
  {
   "cell_type": "code",
   "execution_count": 22,
   "metadata": {},
   "outputs": [
    {
     "name": "stdout",
     "output_type": "stream",
     "text": [
      "[1, 2, 6, 24, 120, 720]\n"
     ]
    }
   ],
   "source": [
    "# I/P : [1,2,3,4,5,6]\n",
    "# O/P : (1,2,6,24,120,720)\n",
    "\n",
    "l=[1,2,3,4,5,6]\n",
    "start=0\n",
    "t=[]\n",
    "res=1\n",
    "while start<len(l):\n",
    "    res*=l[start]\n",
    "    t+=[res]\n",
    "    start+=1\n",
    "print(t)    "
   ]
  },
  {
   "cell_type": "code",
   "execution_count": 23,
   "metadata": {},
   "outputs": [
    {
     "data": {
      "text/plain": [
       "[1, 2, 6, 24, 120, 720]"
      ]
     },
     "execution_count": 23,
     "metadata": {},
     "output_type": "execute_result"
    }
   ],
   "source": [
    "l=[1,2,3,4,5,6]\n",
    "def number(coll,start=0,t=[],res=1):\n",
    "    if start==len(coll):\n",
    "        return t\n",
    "    res*=coll[start]\n",
    "    t+=[res]\n",
    "    return number(coll,start+1,t,res)\n",
    "number(l)    "
   ]
  },
  {
   "cell_type": "markdown",
   "metadata": {},
   "source": [
    "WRITE MODE : Open the file in the write mode . if we want to perform operation ,old data is overriden to new data.\n",
    "\n",
    "MODES :- \"w\" (flat file) and \"wb\" (binary file)\n",
    "\n",
    "ADAVANCED MODES :- \"W+\" (write and read flat file) and \"wb+\" (write and read binary file)\n",
    "\n",
    "WRITE FUNCTIONS : \n",
    "\n",
    "WRITE() : This is a function used to write the string data into the file.\n",
    "\n",
    "WRITELINES() : This function is used to write a list of strings.\n",
    "\n",
    "NOTE : it writelines should pass values in list format.\n",
    "\n",
    "APPEND MODE : This is kind of write mode but it will not create a new file every time instead , it will add the new content to the\n",
    "              existing content in that file.\n",
    "\n",
    "MODES :- \"a\" (flat file) \"ab\" (binary file)\n",
    "\n",
    "ADVANCED MODES :- \"a+\" (appends and read flat file) and \"ab+\" (appends and read binary file)\n",
    "\n",
    "WRITE FUNCTIONS :- \n",
    "\n",
    "WRITE() :- This is a function used to write the string data into the file object.\n",
    "\n",
    "WRITELINES() :- This function is used to write a list of strings.\n",
    "\n",
    "TELL() :- we can use the tell() function to return the current position of the cursor (file pointer) from the begining of the file.\n",
    "\n",
    "SEEK() :- we can \n",
    "\n",
    "\n",
    "\n"
   ]
  },
  {
   "cell_type": "code",
   "execution_count": 26,
   "metadata": {},
   "outputs": [
    {
     "name": "stdout",
     "output_type": "stream",
     "text": [
      "<_io.TextIOWrapper name='demo.txt' mode='w' encoding='cp1252'>\n",
      "0\n",
      "28\n"
     ]
    }
   ],
   "source": [
    "fp=open(\"demo.txt\",'w')\n",
    "print(fp)\n",
    "print(fp.tell())\n",
    "fp.write(\"haii guys very good morning \")\n",
    "print(fp.tell())\n",
    "fp.close()"
   ]
  },
  {
   "cell_type": "code",
   "execution_count": 27,
   "metadata": {},
   "outputs": [
    {
     "name": "stdout",
     "output_type": "stream",
     "text": [
      "<_io.TextIOWrapper name='demo.txt' mode='r' encoding='cp1252'>\n",
      "0\n",
      "haii guys very good morning \n",
      "28\n"
     ]
    }
   ],
   "source": [
    "fp=open(\"demo.txt\",'r')\n",
    "print(fp)\n",
    "print(fp.tell())\n",
    "res=fp.read()\n",
    "print(res)\n",
    "print(fp.tell())\n",
    "fp.close()"
   ]
  },
  {
   "cell_type": "code",
   "execution_count": 28,
   "metadata": {},
   "outputs": [
    {
     "name": "stdout",
     "output_type": "stream",
     "text": [
      "<_io.TextIOWrapper name='demo.txt' mode='a' encoding='cp1252'>\n",
      "28\n",
      "70\n"
     ]
    }
   ],
   "source": [
    "fp=open(\"demo.txt\",\"a\")\n",
    "print(fp)\n",
    "print(fp.tell())\n",
    "fp.write(\"python is a top most programming language \")\n",
    "print(fp.tell())\n",
    "fp.close()"
   ]
  },
  {
   "cell_type": "code",
   "execution_count": 53,
   "metadata": {},
   "outputs": [
    {
     "name": "stdout",
     "output_type": "stream",
     "text": [
      "0\n",
      "21\n",
      "\n",
      "21\n"
     ]
    }
   ],
   "source": [
    "fp=open(\"file.txt\",\"w+\")\n",
    "print(fp.tell())  # to display the cursor position \n",
    "fp.write(\"good morning everyone\")  # to write the data inside the file.txt file\n",
    "print(fp.tell())\n",
    "res=fp.read() # to display the cursor position (after write operation)\n",
    "print(res)\n",
    "print(fp.tell())\n",
    "fp.close()"
   ]
  },
  {
   "cell_type": "code",
   "execution_count": 54,
   "metadata": {},
   "outputs": [
    {
     "name": "stdout",
     "output_type": "stream",
     "text": [
      "0\n",
      "21\n",
      "0\n",
      "good morning everyone\n",
      "21\n"
     ]
    }
   ],
   "source": [
    "fp=open(\"file.txt\",\"w+\")\n",
    "print(fp.tell())\n",
    "fp.write(\"good morning everyone\")\n",
    "print(fp.tell())\n",
    "fp.seek(0) # change the cursor position from the end of the content to starting position\n",
    "print(fp.tell()) # cursor position before read opoeration\n",
    "res=fp.read() # read the data from the file.txt file\n",
    "print(res) # display the data\n",
    "print(fp.tell()) # cursor position after read operation\n",
    "fp.close()"
   ]
  },
  {
   "cell_type": "markdown",
   "metadata": {},
   "source": [
    "READ OPERATION"
   ]
  },
  {
   "cell_type": "code",
   "execution_count": 55,
   "metadata": {},
   "outputs": [
    {
     "name": "stdout",
     "output_type": "stream",
     "text": [
      "0\n",
      "good morning everyone\n",
      "21\n",
      "42\n"
     ]
    }
   ],
   "source": [
    "fp=open(\"file.txt\",\"r+\")\n",
    "print(fp.tell())\n",
    "res=fp.read()\n",
    "print(res)\n",
    "print(fp.tell())\n",
    "fp.write(\"basic level questions\")\n",
    "print(fp.tell())\n",
    "fp.close()"
   ]
  },
  {
   "cell_type": "code",
   "execution_count": 56,
   "metadata": {},
   "outputs": [
    {
     "name": "stdout",
     "output_type": "stream",
     "text": [
      "0\n",
      "good morning everyonebasic level questions\n",
      "42\n",
      "63\n"
     ]
    }
   ],
   "source": [
    "fp=open(\"file.txt\",\"r+\")\n",
    "print(fp.tell())\n",
    "res=fp.read()\n",
    "print(res)\n",
    "print(fp.tell())\n",
    "fp.write(\"good morning everyone\")\n",
    "print(fp.tell())\n",
    "fp.close()"
   ]
  },
  {
   "cell_type": "code",
   "execution_count": 57,
   "metadata": {},
   "outputs": [
    {
     "name": "stdout",
     "output_type": "stream",
     "text": [
      "63\n",
      "92\n",
      "0\n",
      "good morning everyonebasic level questionsgood morning everyone\n",
      " good morning haii everyone\n",
      "92\n"
     ]
    }
   ],
   "source": [
    "fp=open(\"file.txt\",\"a+\")\n",
    "print(fp.tell())\n",
    "fp.write(\"\\n good morning haii everyone\")\n",
    "print(fp.tell())\n",
    "fp.seek(0)\n",
    "print(fp.tell())\n",
    "res=fp.read()\n",
    "print(res)\n",
    "print(fp.tell())\n",
    "fp.close()"
   ]
  },
  {
   "cell_type": "markdown",
   "metadata": {},
   "source": [
    "APPEND OPERATIONS "
   ]
  },
  {
   "cell_type": "code",
   "execution_count": 58,
   "metadata": {},
   "outputs": [
    {
     "name": "stdout",
     "output_type": "stream",
     "text": [
      "92\n",
      "118\n",
      "\n",
      "118\n"
     ]
    }
   ],
   "source": [
    "fp=open(\"file.txt\",\"a+\")\n",
    "print(fp.tell())\n",
    "fp.write(\"good morning haii everyone\")\n",
    "print(fp.tell())\n",
    "res=fp.read()\n",
    "print(res)\n",
    "print(fp.tell())\n",
    "fp.close()"
   ]
  },
  {
   "cell_type": "code",
   "execution_count": 66,
   "metadata": {},
   "outputs": [
    {
     "name": "stdout",
     "output_type": "stream",
     "text": [
      "118\n",
      "145\n",
      "0\n",
      "good morning everyonebasic level questionsgood morning everyone\n",
      " good morning haii everyonegood morning haii everyone\n",
      " good night haii everyone\n",
      "145\n"
     ]
    }
   ],
   "source": [
    "fp=open(\"file.txt\",\"a+\")\n",
    "print(fp.tell())\n",
    "fp.write(\"\\n good night haii everyone\")\n",
    "print(fp.tell())\n",
    "fp.seek(0)\n",
    "print(fp.tell())\n",
    "res=fp.read()\n",
    "print(res)\n",
    "print(fp.tell())\n",
    "fp.close()"
   ]
  },
  {
   "cell_type": "code",
   "execution_count": 3,
   "metadata": {},
   "outputs": [
    {
     "name": "stdout",
     "output_type": "stream",
     "text": [
      "145\n",
      "145\n",
      "153\n"
     ]
    }
   ],
   "source": [
    "fp=open(\"file.txt\",\"a+\")\n",
    "print(fp.tell())\n",
    "res=fp.read()\n",
    "print(fp.tell())\n",
    "fp.write(\"good bye\")\n",
    "print(fp.tell())\n",
    "fp.close()"
   ]
  },
  {
   "cell_type": "code",
   "execution_count": 4,
   "metadata": {},
   "outputs": [
    {
     "name": "stdout",
     "output_type": "stream",
     "text": [
      "153\n",
      "0\n",
      "good morning everyonebasic level questionsgood morning everyone\n",
      " good morning haii everyonegood morning haii everyone\n",
      " good night haii everyonegood bye\n",
      "153\n",
      "161\n"
     ]
    }
   ],
   "source": [
    "fp=open(\"file.txt\",\"a+\")\n",
    "print(fp.tell())\n",
    "fp.seek(0)\n",
    "print(fp.tell())\n",
    "res=fp.read()\n",
    "print(res)\n",
    "print(fp.tell())\n",
    "fp.write(\"good bye\")\n",
    "print(fp.tell())\n",
    "fp.close()"
   ]
  },
  {
   "cell_type": "code",
   "execution_count": 5,
   "metadata": {},
   "outputs": [
    {
     "name": "stdout",
     "output_type": "stream",
     "text": [
      "161\n",
      "0\n",
      "good morning everyonebasic level questionsgood morning everyone\n",
      " good morning haii everyonegood morning haii everyone\n",
      " good night haii everyonegood byegood bye\n",
      "161\n",
      "169\n",
      "\n",
      "169\n"
     ]
    }
   ],
   "source": [
    "fp=open(\"file.txt\",\"a+\")\n",
    "print(fp.tell())\n",
    "fp.seek(0)\n",
    "print(fp.tell())\n",
    "res=fp.read()\n",
    "print(res)\n",
    "print(fp.tell())\n",
    "fp.write(\"good bye\")\n",
    "print(fp.tell())\n",
    "res=fp.read()\n",
    "print(res)\n",
    "print(fp.tell())\n",
    "fp.close()"
   ]
  },
  {
   "cell_type": "markdown",
   "metadata": {},
   "source": [
    "READ AND READLINES"
   ]
  }
 ],
 "metadata": {
  "kernelspec": {
   "display_name": "Python 3",
   "language": "python",
   "name": "python3"
  },
  "language_info": {
   "codemirror_mode": {
    "name": "ipython",
    "version": 3
   },
   "file_extension": ".py",
   "mimetype": "text/x-python",
   "name": "python",
   "nbconvert_exporter": "python",
   "pygments_lexer": "ipython3",
   "version": "3.11.3"
  },
  "orig_nbformat": 4
 },
 "nbformat": 4,
 "nbformat_minor": 2
}
