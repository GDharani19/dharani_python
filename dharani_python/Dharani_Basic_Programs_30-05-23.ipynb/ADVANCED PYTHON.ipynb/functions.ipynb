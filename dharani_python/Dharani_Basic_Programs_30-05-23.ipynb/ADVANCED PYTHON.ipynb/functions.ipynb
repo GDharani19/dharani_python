{
 "cells": [
  {
   "cell_type": "markdown",
   "metadata": {},
   "source": [
    "FUNCTION\n",
    "\n",
    "* Function is a block of code which performs specific task.\n",
    "* Function is used to breakdown the larger programs into smaller programs and more manageble chunks and making it easier to read,test \n",
    "  and debug code.\n",
    "* Functions can take input arguments and perform operations on them and it returns a result.\n",
    "* To define a Function we have to use def keyword followed by function name and input parameters and colon. \n",
    "\n",
    "* Here's an example of a simple Python function that takes two arguments and returns their sum:\n",
    "def add_numbers(a, b):\n",
    "    sum = a + b\n",
    "    return sum\n",
    "\n",
    "add_numbers(4,5) # calling the function\n",
    "# without calling the function cannot run\n",
    "\n",
    "2\n",
    "* Arguments in python\n",
    "\n",
    "--whatever variable is used inside a function during the defining of the function is called a formal argument.\n",
    "-- whatever value you passed during the calling is called actual arguments.\n",
    "\n",
    "\n",
    "3\n",
    "* return statement\n",
    "\n",
    "-- The return statement is used to exit a function and return a value. \n",
    "-- The return statement can be used to return a value from a function. \n",
    "-- The return statement can also be used to exit a function without returning a value.\n",
    "-- If the return statement is without any expression, then the special value None is returned.\n",
    "-- Functions without a return statement return None as their result.\n",
    "\n",
    "def add_sub(x,y):\n",
    "    c = x+y\n",
    "    d = x-y\n",
    "    return c,d\n",
    "\n",
    "result1,result2 = add_sub(4,5)\n",
    "print(result1,result2)  \n",
    "\n",
    "* The above code defines a Python function called add_sub that takes two input arguments x and y. The function first adds x and y and stores the result in a variable called c. It then subtracts y from x and stores the result in a variable called d. Finally, it returns both c and d as a tuple.\n",
    "\n",
    "\n",
    "* The function can be called with two arguments, as shown in the line result1,result2 = add_sub(4,5). This line assigns the values returned by the add_sub function to the variables result1 and result2, respectively. The print statement then outputs the values of result1 and result2 to the console."
   ]
  },
  {
   "cell_type": "code",
   "execution_count": 39,
   "metadata": {},
   "outputs": [
    {
     "data": {
      "text/plain": [
       "(17, -1)"
      ]
     },
     "execution_count": 39,
     "metadata": {},
     "output_type": "execute_result"
    }
   ],
   "source": [
    "def add_sub(a,b):\n",
    "    c=a+b\n",
    "    d=a-b\n",
    "    return c,d\n",
    "add_sub(8,9)"
   ]
  },
  {
   "cell_type": "code",
   "execution_count": 40,
   "metadata": {},
   "outputs": [
    {
     "name": "stdout",
     "output_type": "stream",
     "text": [
      "17\n",
      "-1\n"
     ]
    }
   ],
   "source": [
    "def add_sub(a,b):\n",
    "    c=a+b\n",
    "    d=a-b\n",
    "    print(c)\n",
    "    print(d)\n",
    "add_sub(8,9)"
   ]
  },
  {
   "cell_type": "code",
   "execution_count": 41,
   "metadata": {},
   "outputs": [
    {
     "name": "stdout",
     "output_type": "stream",
     "text": [
      "17 -1\n"
     ]
    }
   ],
   "source": [
    "def add_sub(a,b):\n",
    "    c=a+b\n",
    "    d=a-b\n",
    "    return c,d    \n",
    "result1,result2=add_sub(8,9)\n",
    "print(result1,result2)"
   ]
  },
  {
   "cell_type": "code",
   "execution_count": 42,
   "metadata": {},
   "outputs": [
    {
     "data": {
      "text/plain": [
       "4"
      ]
     },
     "execution_count": 42,
     "metadata": {},
     "output_type": "execute_result"
    }
   ],
   "source": [
    "def add(a,b):\n",
    "    c=a+b\n",
    "    return c\n",
    "    if c==4:\n",
    "        return \"hello world\"\n",
    "add(2,2)"
   ]
  },
  {
   "cell_type": "markdown",
   "metadata": {},
   "source": [
    "\n",
    "* all variables are actually references to objects in memory. Thus, when a function is called with a parameter, the reference to the object is passed by value. \n",
    "\n",
    "\n",
    "* For immutable data types like integers, floats, and strings, changes made to the parameter inside the function do not affect the original value of the parameter outside the function. This is because any changes made to the parameter create a new object in memory, and the original reference to the object remains unchanged.\n",
    "\n",
    "\n",
    "* For mutable data types like lists and dictionaries, changes made to the parameter inside the function do affect the original value of the     parameter outside the function. This is because the reference to the object remains the same, but the contents of the object can be modified.\n",
    "\n",
    "def update(lst):\n",
    "    print(id(lst))\n",
    "\n",
    "\n",
    "    lst[1]=25\n",
    "    print(id(lst))\n",
    "    print(\"x\",lst)\n",
    "\n",
    "\n",
    "lst = [10,20,30]\n",
    "print(id(lst))\n",
    "update(lst)\n",
    "print(lst)\n",
    "\n",
    "\n",
    "* The above code defines a Python function called update that takes a list lst as a parameter. The function first prints the memory address of the list using the id() function. It then modifies the second element of the list by assigning it the value 25. The function then prints the new memory address of the list and the updated list.\n",
    "\n",
    "\n",
    "* The code then creates a list called lst with the values [10, 20, 30] and prints its memory address using the id() function. The update function is then called with the lst parameter. Since lists are mutable objects in Python, the memory address of the list is passed to the function, making it a pass by reference.\n",
    "\n",
    "\n",
    "* Inside the update function, the second element of the list is modified to 25. Since lists are mutable objects and the memory address of the original list is passed to the function, this change affects the original list outside the function. The new memory address and the updated list are printed inside the function."
   ]
  },
  {
   "cell_type": "code",
   "execution_count": 43,
   "metadata": {},
   "outputs": [
    {
     "name": "stdout",
     "output_type": "stream",
     "text": [
      "2853964108928\n",
      "2853964108928\n",
      "2853964108928\n",
      "x [10, 25, 30]\n",
      "x [10, 25, 30]\n"
     ]
    }
   ],
   "source": [
    "def update(lst):\n",
    "    print(id(lst))\n",
    "\n",
    "\n",
    "    lst[1]=25\n",
    "    print(id(lst))\n",
    "    print(\"x\",lst)\n",
    "\n",
    "\n",
    "lst = [10,20,30]\n",
    "print(id(lst))\n",
    "update(lst)\n",
    "print(\"x\",lst)"
   ]
  },
  {
   "cell_type": "code",
   "execution_count": 44,
   "metadata": {},
   "outputs": [
    {
     "name": "stdout",
     "output_type": "stream",
     "text": [
      "[10, 200, 30]\n"
     ]
    }
   ],
   "source": [
    "l=[10,20,30]\n",
    "def update():\n",
    "    l[1]=200\n",
    "    print(l)\n",
    "update()    \n"
   ]
  },
  {
   "cell_type": "code",
   "execution_count": 45,
   "metadata": {},
   "outputs": [
    {
     "name": "stdout",
     "output_type": "stream",
     "text": [
      "10\n",
      "30\n"
     ]
    }
   ],
   "source": [
    "n=10\n",
    "def update():\n",
    "    a=30\n",
    "    print(n)\n",
    "    print(a)\n",
    "update()    "
   ]
  },
  {
   "cell_type": "markdown",
   "metadata": {},
   "source": [
    "Types of Arguments in Python\n",
    "\n",
    "-- formal argument\n",
    "-- actual argument \n",
    "\n",
    "   Actual arguments have 4 types:\n",
    "1 position \n",
    "2 keyword\n",
    "3 default\n",
    "4 variable length argument  \n",
    "\n",
    "Position argument:\n",
    "-- During a function call, values passed through arguments should be in the order of parameters in the function definition. This is called positional arguments.\n",
    "e.g\n",
    "def person(name,age):\n",
    "    print(name)\n",
    "    print(age)\n",
    "add(5,6)\n",
    "\n",
    "keyword argument:\n",
    "-- During a function call, values passed through arguments don’t need to be in the order of parameters in the function definition. Keyword arguments can achieve this. \n",
    "-- All the keyword arguments should match the parameters in the function definition.\n",
    "e.g \n",
    "person(age=28,name='navin') \n",
    "\n",
    "default argument: \n",
    "-- Default arguments are values that are provided while defining functions.\n",
    "-- The assignment operator = is used to assign a default value to the argument.\n",
    "-- Default arguments become optional during the function calls.\n",
    "-- If we provide a value to the default arguments during function calls, it overrides the default value.\n",
    "-- The function can have any number of default arguments.\n",
    "-- Default arguments should follow non-default arguments.\n",
    "\n",
    "e.g\n",
    "def person(name,age=28):\n",
    "    print(name)\n",
    "    print(age)\n",
    "person('navin')\n",
    "\n",
    "variable length argument:\n",
    "-- if you want to pass multiple value in a function call we can use variable length argument\n",
    "def sum(a,*b):\n",
    "    print(a)\n",
    "    print(b)\n",
    "    c=a\n",
    "    for i in b:\n",
    "       c=c+i\n",
    "    print(c)\n",
    "\n",
    "sum(5,6,34,78)\n",
    "\n"
   ]
  },
  {
   "cell_type": "code",
   "execution_count": 46,
   "metadata": {},
   "outputs": [
    {
     "name": "stdout",
     "output_type": "stream",
     "text": [
      "dharani\n",
      "22\n"
     ]
    }
   ],
   "source": [
    "def person(name,age):\n",
    "    print(name)\n",
    "    print(age)\n",
    "person(\"dharani\",22)    "
   ]
  },
  {
   "cell_type": "code",
   "execution_count": 47,
   "metadata": {},
   "outputs": [
    {
     "name": "stdout",
     "output_type": "stream",
     "text": [
      "22\n",
      "dharani\n"
     ]
    }
   ],
   "source": [
    "def person(name,age):\n",
    "    print(name)\n",
    "    print(age)\n",
    "person(22,\"dharani\")   "
   ]
  },
  {
   "cell_type": "code",
   "execution_count": 48,
   "metadata": {},
   "outputs": [
    {
     "name": "stdout",
     "output_type": "stream",
     "text": [
      "21\n",
      "usha\n"
     ]
    }
   ],
   "source": [
    "def person(name=\"dharani\",age=22):\n",
    "    print(name)\n",
    "    print(age)\n",
    "person(21,\"usha\")    "
   ]
  },
  {
   "cell_type": "code",
   "execution_count": 49,
   "metadata": {},
   "outputs": [
    {
     "name": "stdout",
     "output_type": "stream",
     "text": [
      "usha\n",
      "21\n"
     ]
    }
   ],
   "source": [
    "def person(name=\"dharani\",age=22):\n",
    "    print(name)\n",
    "    print(age)\n",
    "person(age=21,name=\"usha\")    "
   ]
  },
  {
   "cell_type": "code",
   "execution_count": 52,
   "metadata": {},
   "outputs": [
    {
     "name": "stdout",
     "output_type": "stream",
     "text": [
      "5\n",
      "(6, 34, 78, 45)\n",
      "168\n"
     ]
    }
   ],
   "source": [
    "def sum(a,*b):\n",
    "    print(a)\n",
    "    print(b)\n",
    "    c=a\n",
    "    for i in b:\n",
    "       c=c+i\n",
    "    print(c)\n",
    "\n",
    "sum(5,6,34,78,45)    "
   ]
  },
  {
   "cell_type": "code",
   "execution_count": 38,
   "metadata": {},
   "outputs": [
    {
     "name": "stdout",
     "output_type": "stream",
     "text": [
      "1\n",
      "(2, 3, 4, 5, 6, 7, 8)\n"
     ]
    },
    {
     "ename": "TypeError",
     "evalue": "unsupported operand type(s) for +: 'int' and 'tuple'",
     "output_type": "error",
     "traceback": [
      "\u001b[1;31m---------------------------------------------------------------------------\u001b[0m",
      "\u001b[1;31mTypeError\u001b[0m                                 Traceback (most recent call last)",
      "Cell \u001b[1;32mIn[38], line 7\u001b[0m\n\u001b[0;32m      5\u001b[0m     c\u001b[39m+\u001b[39m\u001b[39m=\u001b[39m\u001b[39m1\u001b[39m\n\u001b[0;32m      6\u001b[0m     \u001b[39mprint\u001b[39m(c)\n\u001b[1;32m----> 7\u001b[0m add(\u001b[39m1\u001b[39;49m,\u001b[39m2\u001b[39;49m,\u001b[39m3\u001b[39;49m,\u001b[39m4\u001b[39;49m,\u001b[39m5\u001b[39;49m,\u001b[39m6\u001b[39;49m,\u001b[39m7\u001b[39;49m,\u001b[39m8\u001b[39;49m)    \n",
      "Cell \u001b[1;32mIn[38], line 4\u001b[0m, in \u001b[0;36madd\u001b[1;34m(a, *b)\u001b[0m\n\u001b[0;32m      2\u001b[0m \u001b[39mprint\u001b[39m(a)\n\u001b[0;32m      3\u001b[0m \u001b[39mprint\u001b[39m(b)\n\u001b[1;32m----> 4\u001b[0m c\u001b[39m=\u001b[39ma\u001b[39m+\u001b[39;49mb\n\u001b[0;32m      5\u001b[0m c\u001b[39m+\u001b[39m\u001b[39m=\u001b[39m\u001b[39m1\u001b[39m\n\u001b[0;32m      6\u001b[0m \u001b[39mprint\u001b[39m(c)\n",
      "\u001b[1;31mTypeError\u001b[0m: unsupported operand type(s) for +: 'int' and 'tuple'"
     ]
    }
   ],
   "source": [
    "def add(a,*b):\n",
    "    print(a)\n",
    "    print(b)\n",
    "    c=a+b\n",
    "    c+=1\n",
    "    print(c)\n",
    "add(1,2,3,4,5,6,7,8)    "
   ]
  },
  {
   "cell_type": "markdown",
   "metadata": {},
   "source": [
    "**KWARGS :\n",
    "----------\n",
    "-- Keyword variable length argument \n",
    "-- we have talk about variable length argument in previous chapter\n",
    "\n",
    "Variable length argument :\n",
    "-- A variable-length argument is a feature that allows a function to accept an arbitrary number of arguments. \n",
    "The syntax for defining a variable-length argument in Python is to use an asterisk (*) before the parameter name.\n",
    "e.g\n",
    "def person(name,*data):\n",
    "    print(name)\n",
    "    print(data)\n",
    "person('navin',28,9765432)\n",
    "\n",
    "keyword variable length argument:\n",
    "-- keyword variable length argument is a feature that allows a function to accept an arbitrary number of keyword arguments.\n",
    "-- use a double asterisk (**) to define a variable-length argument that accepts keyword arguments. For example:\n",
    "--  the **kwargs parameter allows the function to accept an arbitrary number of keyword arguments. The function can then loop over the dictionary of keyword arguments and do something with them.\n",
    "\n",
    "e.g\n",
    "def person(name,**data):  #**kwargs\n",
    "    print(name)\n",
    "     for i, j in data:\n",
    "        print(i,j)  #i is key and j is value\n",
    "person('navin',aget=28,city='Mumbai',mob=9865432)"
   ]
  },
  {
   "cell_type": "code",
   "execution_count": 58,
   "metadata": {},
   "outputs": [
    {
     "ename": "TypeError",
     "evalue": "person() takes 1 positional argument but 4 were given",
     "output_type": "error",
     "traceback": [
      "\u001b[1;31m---------------------------------------------------------------------------\u001b[0m",
      "\u001b[1;31mTypeError\u001b[0m                                 Traceback (most recent call last)",
      "Cell \u001b[1;32mIn[58], line 4\u001b[0m\n\u001b[0;32m      2\u001b[0m     \u001b[39mprint\u001b[39m(name)\n\u001b[0;32m      3\u001b[0m     \u001b[39mprint\u001b[39m(data)\n\u001b[1;32m----> 4\u001b[0m person(\u001b[39m\"\u001b[39;49m\u001b[39mdharani\u001b[39;49m\u001b[39m\"\u001b[39;49m,\u001b[39m22\u001b[39;49m,\u001b[39m\"\u001b[39;49m\u001b[39mhyd\u001b[39;49m\u001b[39m\"\u001b[39;49m,\u001b[39m8328602360\u001b[39;49m)    \n",
      "\u001b[1;31mTypeError\u001b[0m: person() takes 1 positional argument but 4 were given"
     ]
    }
   ],
   "source": [
    "def person(name,**data):\n",
    "    print(name)\n",
    "    print(data)\n",
    "person(\"dharani\",22,\"hyd\",8328602360)    "
   ]
  },
  {
   "cell_type": "code",
   "execution_count": 53,
   "metadata": {},
   "outputs": [
    {
     "name": "stdout",
     "output_type": "stream",
     "text": [
      "dharani\n",
      "{'age': 22, 'city': 'hyd', 'mob': 8328602360}\n"
     ]
    }
   ],
   "source": [
    "def person(name,**data):\n",
    "    print(name)\n",
    "    print(data)\n",
    "person(\"dharani\",age=22,city=\"hyd\",mob=8328602360)    "
   ]
  },
  {
   "cell_type": "code",
   "execution_count": 59,
   "metadata": {},
   "outputs": [
    {
     "name": "stdout",
     "output_type": "stream",
     "text": [
      "dharani\n",
      "age 22\n",
      "city hyd\n",
      "mobile 8328602360\n"
     ]
    }
   ],
   "source": [
    "def person(name,**data):\n",
    "    print(name)\n",
    "    #print(data)\n",
    "    for i,j in data.items():\n",
    "        print(i,j)\n",
    "person(\"dharani\",age=22,city=\"hyd\",mobile=8328602360)    "
   ]
  },
  {
   "cell_type": "markdown",
   "metadata": {},
   "source": [
    "#1 Scope of variable\n",
    "#2 Local variable\n",
    "#3 Global variable\n",
    "#4 Global keyword\n",
    "#5 Global() function\n",
    "\n",
    "#1 Scope of variable\n",
    "-- scope of variable means where we can access the variable\n",
    "-- there are two types of scope of variable\n",
    "    1. local scope\n",
    "    2. global scope\n",
    "\n",
    "#2 Local variable\n",
    "-- local variable means variable which is defined inside the function\n",
    "-- we can access the local variable inside the function only\n",
    "-- we cannot access the local variable outside the function\n",
    "\n",
    "Local Scope:\n",
    "When a variable or function is defined inside a function, it is said to be in the local scope of that function. \n",
    "Variables defined in the local scope are only accessible within that function and are destroyed once the function \n",
    "completes execution. Local variables have the highest priority in accessing over global variables of the same name.\n",
    "\n",
    "def func():\n",
    "    x = 10\n",
    "    print(x)\n",
    "func()\n",
    "--  the variable x is defined inside the function, and it can only be accessed within the function.\n",
    "\n",
    "#3 Global variable\n",
    "-- global variable means variable which is defined outside the function\n",
    "-- we can access the global variable inside the function\n",
    "-- we can access the global variable outside the function\n",
    "\n",
    "x = 10\n",
    "def func():\n",
    "    print(x)\n",
    "func()\n",
    "\n",
    "-- the variable x is defined outside the function, and it can be accessed within the function.\n",
    "\n",
    "#4 Global keyword\n",
    "-- if we want to access the global variable inside the function and we want to change the value of \n",
    "global variable inside the function then we have to use global keyword.\n",
    "\n",
    "x = 10\n",
    "def func():\n",
    "    global x\n",
    "    x = 15\n",
    "    print(x)\n",
    "func()\n",
    "\n",
    "-- in this case no new variable is created inside the function, \n",
    "but the global variable x is accessed and modified inside the function.\n",
    "\n",
    "#5 Global() function\n",
    "-- if we want to access the global variable inside the function and we want to change the value of  global variable \n",
    "inside the function then we have to use global() function. \n",
    "\n",
    "e.g\n",
    "x = 10\n",
    "def func():\n",
    "    x = 15\n",
    "    print(\"local x: \",x)\n",
    "    y = globals()['x']\n",
    "    print(\"global x: \",y)\n",
    "    globals()['x'] = 20\n",
    "\n",
    "-- using globals()['x'] we can access the global variable x inside the \n",
    "* function and we can change the value of global variable x inside the function."
   ]
  }
 ],
 "metadata": {
  "kernelspec": {
   "display_name": "Python 3",
   "language": "python",
   "name": "python3"
  },
  "language_info": {
   "codemirror_mode": {
    "name": "ipython",
    "version": 3
   },
   "file_extension": ".py",
   "mimetype": "text/x-python",
   "name": "python",
   "nbconvert_exporter": "python",
   "pygments_lexer": "ipython3",
   "version": "3.11.3"
  },
  "orig_nbformat": 4
 },
 "nbformat": 4,
 "nbformat_minor": 2
}
