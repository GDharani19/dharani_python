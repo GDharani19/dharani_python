{
 "cells": [
  {
   "cell_type": "markdown",
   "metadata": {},
   "source": [
    "RECURSION\n",
    "\n",
    "* It is a phenomenon of a function calling it self until the given condition is satisfied.\n",
    "* Functions that are satisfying the recursion are called as recursive functions.\n",
    "\n",
    "SYNTAX : \n",
    "\n",
    "def func_name(args)\n",
    "    statements/instructions\n",
    "    func_name(args,increment/decrement)\n",
    "func_name(args) \n",
    "\n",
    "* If in case,we are using above syntax,we are not written any conditional statement with return keyword  inside the function .\n",
    "* It will execute 'n' no of times (The self-call will happen until stack memory is full .)\n",
    "* For each and every function call an instance memory will be allocated in memory segmentation .\n",
    "\n",
    "SYNTAX :\n",
    "\n",
    "WITH RETURN STATEMENT + FUNCTION CALL :\n",
    "\n",
    "def func_name(args,):  # function definition\n",
    "    if <condition>\n",
    "        statement/instruction\n",
    "        return value\n",
    "    statements/instructions\n",
    "\n",
    "WITH OUT RETURN STATEMENT + FUNC CALL :\n",
    "\n",
    "def func_name(args,):  # function definition\n",
    "    if <condition>\n",
    "        statement/instruction\n",
    "        return value\n",
    "    statements/instructions\n",
    "    func_name(args,increment/decrement)\n",
    "func_name(args)\n",
    "\n",
    "OTHER WAY :\n",
    "\n",
    "WITH RETURN STATEMENT + FUNC CALL :\n",
    "\n",
    "def func_name(args,):  # function definition\n",
    "    if <condition>\n",
    "        statement/instruction\n",
    "        return func_name(args,increment/decrement)\n",
    "    statements/instructions\n",
    "    return value\n",
    "func_name(args)\n",
    "\n",
    "WITH OUT STMT + FUNC CALL :\n",
    "\n",
    "def func_name(args,):  # function definition\n",
    "    if <condition>\n",
    "        statement/instruction\n",
    "        func_name(args,increment/decrement)\n",
    "    statements/instructions\n",
    "    return value\n",
    "func_name(args)"
   ]
  },
  {
   "cell_type": "code",
   "execution_count": 2,
   "metadata": {},
   "outputs": [
    {
     "name": "stdout",
     "output_type": "stream",
     "text": [
      "haii\n",
      "haii\n",
      "haii\n",
      "haii\n",
      "haii\n"
     ]
    }
   ],
   "source": [
    "def sample():\n",
    "    print(\"haii\")\n",
    "sample()\n",
    "sample()\n",
    "sample()\n",
    "sample()\n",
    "sample()"
   ]
  },
  {
   "cell_type": "code",
   "execution_count": 11,
   "metadata": {},
   "outputs": [
    {
     "name": "stdout",
     "output_type": "stream",
     "text": [
      "haii 0\n",
      "haii 1\n",
      "None\n"
     ]
    }
   ],
   "source": [
    "x=10\n",
    "def sample(i=0):\n",
    "    if i==2:\n",
    "        return\n",
    "    y=20\n",
    "    print(\"haii\",i)\n",
    "    sample(i+1)\n",
    "print (sample())    "
   ]
  },
  {
   "cell_type": "code",
   "execution_count": 12,
   "metadata": {},
   "outputs": [
    {
     "name": "stdout",
     "output_type": "stream",
     "text": [
      "haii 0\n",
      "haii 1\n",
      "None\n"
     ]
    }
   ],
   "source": [
    "x=10\n",
    "def sample(i=0):\n",
    "    if i==2:\n",
    "        return \"*\"\n",
    "    y=20\n",
    "    print(\"haii\",i)\n",
    "    sample(i+1)\n",
    "print (sample())  "
   ]
  },
  {
   "cell_type": "code",
   "execution_count": 14,
   "metadata": {},
   "outputs": [
    {
     "name": "stdout",
     "output_type": "stream",
     "text": [
      "haii 0\n",
      "haii 1\n",
      "*\n"
     ]
    }
   ],
   "source": [
    "x=10\n",
    "def sample(i=0):\n",
    "    if i==2:\n",
    "        return \"*\"\n",
    "    y=20\n",
    "    print(\"haii\",i)\n",
    "    return sample(i+1)\n",
    "print (sample())  "
   ]
  },
  {
   "cell_type": "code",
   "execution_count": 17,
   "metadata": {},
   "outputs": [
    {
     "name": "stdout",
     "output_type": "stream",
     "text": [
      "p\n",
      "y\n",
      "s\n",
      "p\n",
      "i\n",
      "d\n",
      "e\n",
      "r\n",
      "s\n",
      "s\n",
      "r\n",
      "e\n",
      "d\n",
      "i\n",
      "p\n",
      "s\n",
      "y\n",
      "p\n"
     ]
    }
   ],
   "source": [
    "st=\"pyspiders\"\n",
    "def sample(coll,i=0):\n",
    "    if i==len(coll):\n",
    "        return\n",
    "    print(coll[i])\n",
    "    sample(coll,i+1)\n",
    "    print(coll[i])\n",
    "sample(st)    "
   ]
  },
  {
   "cell_type": "code",
   "execution_count": 18,
   "metadata": {},
   "outputs": [
    {
     "name": "stdout",
     "output_type": "stream",
     "text": [
      "p\n",
      "y\n",
      "s\n",
      "p\n",
      "i\n",
      "d\n",
      "e\n",
      "r\n",
      "s\n"
     ]
    }
   ],
   "source": [
    "st=\"pyspiders\"\n",
    "def sample(coll,i=0):\n",
    "    if i==len(coll):\n",
    "        return\n",
    "    print(coll[i])\n",
    "    sample(coll,i+1)\n",
    "sample(st)    "
   ]
  },
  {
   "cell_type": "code",
   "execution_count": 19,
   "metadata": {},
   "outputs": [
    {
     "name": "stdout",
     "output_type": "stream",
     "text": [
      "p\n",
      "y\n",
      "s\n",
      "p\n",
      "i\n",
      "d\n",
      "e\n",
      "r\n",
      "s\n"
     ]
    }
   ],
   "source": [
    "st=\"pyspiders\"\n",
    "def sample(coll,i=0):\n",
    "    if i==len(coll):\n",
    "        return\n",
    "    print(coll[i])\n",
    "    return sample(coll,i+1)\n",
    "    #print(coll[i])\n",
    "sample(st)    "
   ]
  },
  {
   "cell_type": "code",
   "execution_count": 20,
   "metadata": {},
   "outputs": [
    {
     "name": "stdout",
     "output_type": "stream",
     "text": [
      " pyspiders\n"
     ]
    }
   ],
   "source": [
    "st=\"pyspiders\"\n",
    "res=\" \"\n",
    "start=0\n",
    "end=len(st)\n",
    "while start<end:\n",
    "    if \"A\"<=st[start]<=\"Z\":\n",
    "        res+=chr(ord(st[start])+32)\n",
    "    else:\n",
    "        res+=st[start]\n",
    "    start+=1\n",
    "print(res)            \n"
   ]
  },
  {
   "cell_type": "code",
   "execution_count": 28,
   "metadata": {},
   "outputs": [],
   "source": [
    "# USING FUNCTION\n",
    "\n",
    "st=\"pyspiders\"\n",
    "def lower_u(coll):\n",
    "    res=\" \"\n",
    "    start=0\n",
    "    while start<len(coll):\n",
    "        if \"A\"<=st[start]<=\"Z\":\n",
    "            res+=chr(ord(st[start])+32)\n",
    "        else:\n",
    "            res+=st[start]\n",
    "        start+=1\n",
    "    return res            "
   ]
  },
  {
   "cell_type": "code",
   "execution_count": 30,
   "metadata": {},
   "outputs": [],
   "source": [
    "# USING RECURSION\n",
    "\n",
    "st=\"pyspiders\"\n",
    "def lower_u_r(coll,res=\" \",start=0):\n",
    "    if start==len(coll):\n",
    "        return res\n",
    "    if \"A\"<=st[start]<=\"Z\":\n",
    "            res+=chr(ord(st[start])+32)\n",
    "    else:\n",
    "        res+=st[start]\n",
    "        return lower_u_r(coll,res,start+1)\n",
    "    return res            "
   ]
  },
  {
   "cell_type": "code",
   "execution_count": 34,
   "metadata": {},
   "outputs": [],
   "source": [
    "\n",
    "n=\"0123456\"\n",
    "def sample(coll,i=0):\n",
    "    if i==len(coll):\n",
    "        return\n",
    "    print(coll[i])\n",
    "    sample(coll,i=1)    "
   ]
  },
  {
   "cell_type": "code",
   "execution_count": 44,
   "metadata": {},
   "outputs": [],
   "source": [
    "str=\"012345654321\"\n",
    "def sample(res=\" \",i=0):\n",
    "    if i==6:\n",
    "        res+=str(i)\n",
    "        return \n",
    "    res+=str(i)"
   ]
  }
 ],
 "metadata": {
  "kernelspec": {
   "display_name": "Python 3",
   "language": "python",
   "name": "python3"
  },
  "language_info": {
   "codemirror_mode": {
    "name": "ipython",
    "version": 3
   },
   "file_extension": ".py",
   "mimetype": "text/x-python",
   "name": "python",
   "nbconvert_exporter": "python",
   "pygments_lexer": "ipython3",
   "version": "3.11.3"
  },
  "orig_nbformat": 4
 },
 "nbformat": 4,
 "nbformat_minor": 2
}
