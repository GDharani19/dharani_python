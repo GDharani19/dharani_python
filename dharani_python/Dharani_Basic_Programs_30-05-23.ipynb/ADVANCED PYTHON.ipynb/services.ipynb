{
 "cells": [
  {
   "cell_type": "code",
   "execution_count": 3,
   "metadata": {},
   "outputs": [],
   "source": [
    "# GENERATE FUNCTIONS\n",
    "\n",
    "def add(a,b):\n",
    "    return a+b\n",
    "def sub(a,b):\n",
    "    return a-b\n",
    "def mul(a,b):\n",
    "    return a*b\n",
    "def truediv(a,b):\n",
    "    return a/b\n",
    "def floordiv(a,b):\n",
    "    return a//b\n",
    "def mod(a,b):\n",
    "    return a%b\n",
    "def power(a,b):\n",
    "    return a**b"
   ]
  },
  {
   "cell_type": "code",
   "execution_count": 3,
   "metadata": {},
   "outputs": [
    {
     "name": "stdout",
     "output_type": "stream",
     "text": [
      "final result: 6\n",
      "final result: 2\n",
      "final result: 6\n",
      "final result: 5.0\n",
      "final result: 5\n",
      "final result: 0\n",
      "final result: 4096\n"
     ]
    }
   ],
   "source": [
    "# PERFORM ALL ARITHMTICAL OPERATIONS\n",
    "# GENERATE FUNCTIONS \n",
    "\n",
    "\n",
    "def add(a,b):\n",
    "    return a+b\n",
    "def sub(a,b):\n",
    "    return a-b\n",
    "def mul(a,b):\n",
    "    return a*b\n",
    "def truediv(a,b):\n",
    "    return a/b\n",
    "def floordiv(a,b):\n",
    "    return a//b\n",
    "def mod(a,b):\n",
    "    return a%b\n",
    "def power(a,b):\n",
    "    return a**b\n",
    "def calc():\n",
    "    n=int(input(\"1.add\\n2.sub\\n3.mul\\n4.truediv\\n5.floordiv\\n6.mod\\n7.power\\n8.exit\\n Enter the option:\"))\n",
    "    a=int(input(\"enter the a value:\"))\n",
    "    b=int(input(\"enter the b value:\"))\n",
    "    match n:\n",
    "        case 1:\n",
    "            res=add(a,b)\n",
    "        case 2:\n",
    "            res=sub(a,b)\n",
    "        case 3:\n",
    "            res=mul(a,b)\n",
    "        case 4:\n",
    "            res=truediv(a,b)\n",
    "        case 5:\n",
    "            res=floordiv(a,b)\n",
    "        case 6:\n",
    "            res=mod(a,b)\n",
    "        case 7:\n",
    "            res=power(a,b)\n",
    "        case _:\n",
    "            return\n",
    "    print(\"final result:\",res)\n",
    "    calc()\n",
    "calc()        \n",
    "                            \n",
    "\n"
   ]
  },
  {
   "cell_type": "code",
   "execution_count": 35,
   "metadata": {},
   "outputs": [
    {
     "name": "stdout",
     "output_type": "stream",
     "text": [
      "{101: ['hyd', 'vij'], 102: ['vij', 'hyd'], 103: ['hyd', 'khammam'], 104: ['khammam', 'hyd']}\n",
      "{101: ['hyd', 'vij'], 102: ['vij', 'hyd'], 103: ['hyd', 'khammam'], 104: ['khammam', 'hyd'], 105: ['guntur', 'vizag']}\n"
     ]
    }
   ],
   "source": [
    "# BUS RESERVATION BUS TICKETS\n",
    "\n",
    "services={101:['hyd','vij'],102:['vij','hyd'],103:['hyd','khammam'],104:['khammam','hyd']}\n",
    "print(services)\n",
    "service_no=105\n",
    "\n",
    "def create_services(service):\n",
    "    global service_no\n",
    "    source=input(\"enter the source city:\")\n",
    "    destination=input(\"enter the destination city:\")\n",
    "    service[service_no]=[source,destination]\n",
    "    service_no+=1\n",
    "create_services(services)\n",
    "print(services)    "
   ]
  },
  {
   "cell_type": "code",
   "execution_count": 36,
   "metadata": {},
   "outputs": [
    {
     "name": "stdout",
     "output_type": "stream",
     "text": [
      "{102: ['vij', 'hyd'], 103: ['hyd', 'khammam'], 104: ['khammam', 'hyd'], 105: ['guntur', 'vizag']}\n"
     ]
    }
   ],
   "source": [
    "def delete_services(service):\n",
    "    num=int(input(\"enter the service no:\"))\n",
    "    if num in service:\n",
    "        n=int(input(f\"Are you sure to delete {num}no:\\n 1.confirm\\n 2.cancel\\n choose the option:\"))\n",
    "        if n==1:\n",
    "            del service[num]\n",
    "        else:\n",
    "            return\n",
    "    else:\n",
    "        print(\"invalid service_no\")\n",
    "delete_services(services)\n",
    "print(services)                "
   ]
  },
  {
   "cell_type": "code",
   "execution_count": 37,
   "metadata": {},
   "outputs": [
    {
     "name": "stdout",
     "output_type": "stream",
     "text": [
      "source:vij\n",
      " Destination:hyd\n",
      "services details modified\n",
      "Modified details \n",
      " source:vizag\n",
      " Destination:pkl\n"
     ]
    }
   ],
   "source": [
    "# UPDATE THE SERVICES\n",
    "\n",
    "def update_services(service):\n",
    "    num=int(input(\"Enter the service no:\"))\n",
    "    if num in service:\n",
    "        print(f\"source:{service[num][0]}\\n Destination:{service[num][1]}\")\n",
    "        n=int(input(f\"Are you sure to modify {num}Details:\\n 1.confirm \\n 2.cancel \\n choose the option:\"))\n",
    "        if n==1:\n",
    "            service[num][0]=input(\"enter the source city:\")\n",
    "            service[num][1]=input(\"enter the destination city:\")\n",
    "            print(\"services details modified\")\n",
    "            print(f\"Modified details \\n source:{service[num][0]}\\n Destination:{service[num][1]}\")\n",
    "        else:\n",
    "            return\n",
    "    else:\n",
    "        print(\"invalid service_no\")\n",
    "update_services(services) \n",
    "#print(services)\n",
    "               "
   ]
  },
  {
   "cell_type": "code",
   "execution_count": 38,
   "metadata": {},
   "outputs": [
    {
     "name": "stdout",
     "output_type": "stream",
     "text": [
      "    services no             source            destination     \n",
      "    -----------             ------            ------------    \n",
      "        102                 vizag                 pkl         \n",
      "        103                  hyd                khammam       \n",
      "        104                khammam                hyd         \n",
      "        105                 guntur               vizag        \n"
     ]
    }
   ],
   "source": [
    "def display_services():\n",
    "    print(\"services no\".center(20),\"source\".center(20),\"destination\".center(20))\n",
    "    print(\"-----------\".center(20),\"------\".center(20),\"------------\".center(20))\n",
    "    for i in services.items():\n",
    "        print(str(i[0]).center(20),i[1][0].center(20),i[1][1].center(20))\n",
    "display_services()        "
   ]
  },
  {
   "cell_type": "code",
   "execution_count": 40,
   "metadata": {},
   "outputs": [
    {
     "name": "stdout",
     "output_type": "stream",
     "text": [
      "{101: ['hyd', 'vij', 14.0, 22.0, 300, {'A1': True, 'A2': True, 'A3': True, 'A4': True, 'B1': True, 'B2': True, 'B3': True, 'B4': True, 'C1': True, 'C2': True, 'C3': True, 'C4': True, 'D1': True, 'D2': True, 'D3': True, 'D4': True, 'E1': True, 'E2': True, 'E3': True, 'E4': True, 'F1': True, 'F2': True, 'F3': True, 'F4': True}], 102: ['vij', 'hyd', 22.3, 5.3, 300, {'A1': True, 'A2': True, 'A3': True, 'A4': True, 'B1': True, 'B2': True, 'B3': True, 'B4': True, 'C1': True, 'C2': True, 'C3': True, 'C4': True, 'D1': True, 'D2': True, 'D3': True, 'D4': True, 'E1': True, 'E2': True, 'E3': True, 'E4': True, 'F1': True, 'F2': True, 'F3': True, 'F4': True}], 103: ['hyd', 'khammam', 10.0, 2.0, 200, {'A1': True, 'A2': True, 'A3': True, 'A4': True, 'B1': True, 'B2': True, 'B3': True, 'B4': True, 'C1': True, 'C2': True, 'C3': True, 'C4': True, 'D1': True, 'D2': True, 'D3': True, 'D4': True, 'E1': True, 'E2': True, 'E3': True, 'E4': True, 'F1': True, 'F2': True, 'F3': True, 'F4': True}], 104: ['khammam', 'hyd', 10.0, 2.0, 200, {'A1': True, 'A2': True, 'A3': True, 'A4': True, 'B1': True, 'B2': True, 'B3': True, 'B4': True, 'C1': True, 'C2': True, 'C3': True, 'C4': True, 'D1': True, 'D2': True, 'D3': True, 'D4': True, 'E1': True, 'E2': True, 'E3': True, 'E4': True, 'F1': True, 'F2': True, 'F3': True, 'F4': True}]}\n"
     ]
    }
   ],
   "source": [
    "import copy\n",
    "seats={'A1':True,'A2':True,'A3':True,'A4':True,\n",
    "       'B1':True,'B2':True,'B3':True,'B4':True,\n",
    "       'C1':True,'C2':True,'C3':True,'C4':True,\n",
    "       'D1':True,'D2':True,'D3':True,'D4':True,\n",
    "       'E1':True,'E2':True,'E3':True,'E4':True,\n",
    "       'F1':True,'F2':True,'F3':True,'F4':True}\n",
    "services={101:['hyd','vij',14.00,22.00,300,copy.deepcopy(seats)],\n",
    "          102:['vij','hyd',22.30,5.30,300,copy.deepcopy(seats)],\n",
    "          103:['hyd','khammam',10.00,2.00,200,copy.deepcopy(seats)],\n",
    "          104:['khammam','hyd',10.00,2.00,200,copy.deepcopy(seats)]}\n",
    "print(services)\n"
   ]
  },
  {
   "cell_type": "code",
   "execution_count": 41,
   "metadata": {},
   "outputs": [
    {
     "name": "stdout",
     "output_type": "stream",
     "text": [
      "{101: ['hyd', 'vij', 14.0, 22.0, 300, {'A1': True, 'A2': True, 'A3': True, 'A4': True, 'B1': True, 'B2': True, 'B3': True, 'B4': True, 'C1': True, 'C2': True, 'C3': True, 'C4': True, 'D1': True, 'D2': True, 'D3': True, 'D4': True, 'E1': True, 'E2': True, 'E3': True, 'E4': True, 'F1': True, 'F2': True, 'F3': True, 'F4': True}], 102: ['vij', 'hyd', 22.3, 5.3, 300, {'A1': True, 'A2': True, 'A3': True, 'A4': True, 'B1': True, 'B2': True, 'B3': True, 'B4': True, 'C1': True, 'C2': True, 'C3': True, 'C4': True, 'D1': True, 'D2': True, 'D3': True, 'D4': True, 'E1': True, 'E2': True, 'E3': True, 'E4': True, 'F1': True, 'F2': True, 'F3': True, 'F4': True}], 103: ['hyd', 'khammam', 10.0, 2.0, 200, {'A1': True, 'A2': True, 'A3': True, 'A4': True, 'B1': True, 'B2': True, 'B3': True, 'B4': True, 'C1': True, 'C2': True, 'C3': True, 'C4': True, 'D1': True, 'D2': True, 'D3': True, 'D4': True, 'E1': True, 'E2': True, 'E3': True, 'E4': True, 'F1': True, 'F2': True, 'F3': True, 'F4': True}], 104: ['khammam', 'hyd', 10.0, 2.0, 200, {'A1': True, 'A2': True, 'A3': True, 'A4': True, 'B1': True, 'B2': True, 'B3': True, 'B4': True, 'C1': True, 'C2': True, 'C3': True, 'C4': True, 'D1': True, 'D2': True, 'D3': True, 'D4': True, 'E1': True, 'E2': True, 'E3': True, 'E4': True, 'F1': True, 'F2': True, 'F3': True, 'F4': True}], 106: ['vijwda', 'kkd', '3.00', '10.00', '400', {'A1': True, 'A2': True, 'A3': True, 'A4': True, 'B1': True, 'B2': True, 'B3': True, 'B4': True, 'C1': True, 'C2': True, 'C3': True, 'C4': True, 'D1': True, 'D2': True, 'D3': True, 'D4': True, 'E1': True, 'E2': True, 'E3': True, 'E4': True, 'F1': True, 'F2': True, 'F3': True, 'F4': True}]}\n"
     ]
    }
   ],
   "source": [
    "services_no=105\n",
    "def create_services(service):\n",
    "    global service_no\n",
    "    source=input(\"enter the source city:\")\n",
    "    destination=input(\"enter the destination city:\")\n",
    "    start_time=input(\"enter the start_time:\")\n",
    "    end_time=input(\"enter the end_time:\")\n",
    "    kms=input(\"enter the kilo meters:\")\n",
    "    service[service_no]=[source,destination,start_time,end_time,kms,copy.deepcopy(seats)]\n",
    "    service_no+=1\n",
    "create_services(services) \n",
    "print(services)   "
   ]
  },
  {
   "cell_type": "code",
   "execution_count": 42,
   "metadata": {},
   "outputs": [
    {
     "name": "stdout",
     "output_type": "stream",
     "text": [
      "{101: ['hyd', 'vij', 14.0, 22.0, 300, {'A1': True, 'A2': True, 'A3': True, 'A4': True, 'B1': True, 'B2': True, 'B3': True, 'B4': True, 'C1': True, 'C2': True, 'C3': True, 'C4': True, 'D1': True, 'D2': True, 'D3': True, 'D4': True, 'E1': True, 'E2': True, 'E3': True, 'E4': True, 'F1': True, 'F2': True, 'F3': True, 'F4': True}], 102: ['vij', 'hyd', 22.3, 5.3, 300, {'A1': True, 'A2': True, 'A3': True, 'A4': True, 'B1': True, 'B2': True, 'B3': True, 'B4': True, 'C1': True, 'C2': True, 'C3': True, 'C4': True, 'D1': True, 'D2': True, 'D3': True, 'D4': True, 'E1': True, 'E2': True, 'E3': True, 'E4': True, 'F1': True, 'F2': True, 'F3': True, 'F4': True}], 103: ['hyd', 'khammam', 10.0, 2.0, 200, {'A1': True, 'A2': True, 'A3': True, 'A4': True, 'B1': True, 'B2': True, 'B3': True, 'B4': True, 'C1': True, 'C2': True, 'C3': True, 'C4': True, 'D1': True, 'D2': True, 'D3': True, 'D4': True, 'E1': True, 'E2': True, 'E3': True, 'E4': True, 'F1': True, 'F2': True, 'F3': True, 'F4': True}], 104: ['khammam', 'hyd', 10.0, 2.0, 200, {'A1': True, 'A2': True, 'A3': True, 'A4': True, 'B1': True, 'B2': True, 'B3': True, 'B4': True, 'C1': True, 'C2': True, 'C3': True, 'C4': True, 'D1': True, 'D2': True, 'D3': True, 'D4': True, 'E1': True, 'E2': True, 'E3': True, 'E4': True, 'F1': True, 'F2': True, 'F3': True, 'F4': True}], 106: ['vijwda', 'kkd', '3.00', '10.00', '400', {'A1': True, 'A2': True, 'A3': True, 'A4': True, 'B1': True, 'B2': True, 'B3': True, 'B4': True, 'C1': True, 'C2': True, 'C3': True, 'C4': True, 'D1': True, 'D2': True, 'D3': True, 'D4': True, 'E1': True, 'E2': True, 'E3': True, 'E4': True, 'F1': True, 'F2': True, 'F3': True, 'F4': True}]}\n"
     ]
    }
   ],
   "source": [
    "print(services)"
   ]
  },
  {
   "cell_type": "code",
   "execution_count": 43,
   "metadata": {},
   "outputs": [
    {
     "name": "stdout",
     "output_type": "stream",
     "text": [
      "{102: ['vij', 'hyd', 22.3, 5.3, 300, {'A1': True, 'A2': True, 'A3': True, 'A4': True, 'B1': True, 'B2': True, 'B3': True, 'B4': True, 'C1': True, 'C2': True, 'C3': True, 'C4': True, 'D1': True, 'D2': True, 'D3': True, 'D4': True, 'E1': True, 'E2': True, 'E3': True, 'E4': True, 'F1': True, 'F2': True, 'F3': True, 'F4': True}], 103: ['hyd', 'khammam', 10.0, 2.0, 200, {'A1': True, 'A2': True, 'A3': True, 'A4': True, 'B1': True, 'B2': True, 'B3': True, 'B4': True, 'C1': True, 'C2': True, 'C3': True, 'C4': True, 'D1': True, 'D2': True, 'D3': True, 'D4': True, 'E1': True, 'E2': True, 'E3': True, 'E4': True, 'F1': True, 'F2': True, 'F3': True, 'F4': True}], 104: ['khammam', 'hyd', 10.0, 2.0, 200, {'A1': True, 'A2': True, 'A3': True, 'A4': True, 'B1': True, 'B2': True, 'B3': True, 'B4': True, 'C1': True, 'C2': True, 'C3': True, 'C4': True, 'D1': True, 'D2': True, 'D3': True, 'D4': True, 'E1': True, 'E2': True, 'E3': True, 'E4': True, 'F1': True, 'F2': True, 'F3': True, 'F4': True}], 106: ['vijwda', 'kkd', '3.00', '10.00', '400', {'A1': True, 'A2': True, 'A3': True, 'A4': True, 'B1': True, 'B2': True, 'B3': True, 'B4': True, 'C1': True, 'C2': True, 'C3': True, 'C4': True, 'D1': True, 'D2': True, 'D3': True, 'D4': True, 'E1': True, 'E2': True, 'E3': True, 'E4': True, 'F1': True, 'F2': True, 'F3': True, 'F4': True}]}\n"
     ]
    }
   ],
   "source": [
    "# DELETETION\n",
    "\n",
    "def delete_services(service):\n",
    "    num=int(input(\"enter the services no:\"))\n",
    "    if num in service:\n",
    "        n=int(input(f\"Are you sure to delete {num}no:\\n 1.confirm\\n 2.cancel\\n choose the option:\"))\n",
    "        if n==1:\n",
    "            del service[num]\n",
    "        else:\n",
    "            return\n",
    "    else:\n",
    "        print(\"invalid service_no\")\n",
    "delete_services(services)\n",
    "print(services)                "
   ]
  },
  {
   "cell_type": "code",
   "execution_count": 53,
   "metadata": {},
   "outputs": [
    {
     "name": "stdout",
     "output_type": "stream",
     "text": [
      "source:pdrl\n",
      " destination:mcrl\n",
      "services details modified\n",
      "modified details \n",
      " source:kadapa \n",
      " destination:kurnool\n",
      "{102: ['kadapa', 'kurnool', '3.00', '8.00', '390', {'A1': True, 'A2': True, 'A3': True, 'A4': True, 'B1': True, 'B2': True, 'B3': True, 'B4': True, 'C1': True, 'C2': True, 'C3': True, 'C4': True, 'D1': True, 'D2': True, 'D3': True, 'D4': True, 'E1': True, 'E2': True, 'E3': True, 'E4': True, 'F1': True, 'F2': True, 'F3': True, 'F4': True}], 103: ['hyd', 'khammam', 10.0, 2.0, 200, {'A1': True, 'A2': True, 'A3': True, 'A4': True, 'B1': True, 'B2': True, 'B3': True, 'B4': True, 'C1': True, 'C2': True, 'C3': True, 'C4': True, 'D1': True, 'D2': True, 'D3': True, 'D4': True, 'E1': True, 'E2': True, 'E3': True, 'E4': True, 'F1': True, 'F2': True, 'F3': True, 'F4': True}], 104: ['khammam', 'hyd', 10.0, 2.0, 200, {'A1': True, 'A2': True, 'A3': True, 'A4': True, 'B1': True, 'B2': True, 'B3': True, 'B4': True, 'C1': True, 'C2': True, 'C3': True, 'C4': True, 'D1': True, 'D2': True, 'D3': True, 'D4': True, 'E1': True, 'E2': True, 'E3': True, 'E4': True, 'F1': True, 'F2': True, 'F3': True, 'F4': True}], 106: ['vijwda', 'kkd', '3.00', '10.00', '400', {'A1': True, 'A2': True, 'A3': True, 'A4': True, 'B1': True, 'B2': True, 'B3': True, 'B4': True, 'C1': True, 'C2': True, 'C3': True, 'C4': True, 'D1': True, 'D2': True, 'D3': True, 'D4': True, 'E1': True, 'E2': True, 'E3': True, 'E4': True, 'F1': True, 'F2': True, 'F3': True, 'F4': True}]}\n"
     ]
    }
   ],
   "source": [
    "def update_services(service):\n",
    "    num=int(input(\"enter the service no:\"))\n",
    "    if num in service:\n",
    "        print(f\"source:{service[num][0]}\\n destination:{service[num][1]}\")\n",
    "        n=int(input(f\"Are you sure to delete {num}no:\\n 1.confirm\\n 2.cancel\\n choose the option:\"))\n",
    "        if n==1:\n",
    "            service[num][0]=input(\"enter the source city:\")\n",
    "            service[num][1]=input(\"enter the destination city:\")\n",
    "            service[num][2]=input(\"enter the start_time :\")\n",
    "            service[num][3]=input(\"enter the end_time :\")\n",
    "            service[num][4]=input(\"enter the kilo meters :\")\n",
    "            print(\"services details modified\")\n",
    "            print(f\"modified details \\n source:{service[num][0]} \\n destination:{service[num][1]}\")\n",
    "        else:\n",
    "            return\n",
    "    else:\n",
    "        print(\"invalid service_no\")\n",
    "update_services(services)                \n",
    "print(services)            "
   ]
  },
  {
   "cell_type": "code",
   "execution_count": 63,
   "metadata": {},
   "outputs": [
    {
     "name": "stdout",
     "output_type": "stream",
     "text": [
      "Total seats 24\n",
      "available seats ['A1', 'A3', 'A4', 'B1', 'B2', 'B3', 'B4', 'C1', 'C3', 'C4', 'D2', 'D3', 'E2', 'E4', 'F2', 'F4']\n",
      "unavailable seats ['A2', 'C2', 'D1', 'D4', 'E1', 'E3', 'F1', 'F3']\n",
      "count of available seats 16\n",
      "count of unavailable seats 8\n"
     ]
    }
   ],
   "source": [
    "# TO CHECK THE SEATS ARE AVAILABLE OR NOT\n",
    "\n",
    "seats={'A1':True,'A2':False,'A3':True,'A4':True,\n",
    "       'B1':True,'B2':True,'B3':True,'B4':True,\n",
    "       'C1':True,'C2':False,'C3':True,'C4':True,\n",
    "       'D1':False,'D2':True,'D3':True,'D4':False,\n",
    "       'E1':False,'E2':True,'E3':False,'E4':True,\n",
    "       'F1':False,'F2':True,'F3':False,'F4':True}\n",
    "def bus_seats(coll):\n",
    "    available=[]\n",
    "    unavailable=[]\n",
    "    for i in coll:\n",
    "        if coll[i]==True:\n",
    "            available+=[i]\n",
    "        else:\n",
    "            unavailable+=[i]\n",
    "    return(available,unavailable) \n",
    "res=bus_seats(seats)\n",
    "print(\"Total seats\",len(seats))\n",
    "print(\"available seats\",res[0])\n",
    "print(\"unavailable seats\",res[1])\n",
    "print(\"count of available seats\",len(res[0]))\n",
    "print(\"count of unavailable seats\",len(res[1]))"
   ]
  },
  {
   "cell_type": "code",
   "execution_count": 68,
   "metadata": {},
   "outputs": [
    {
     "ename": "NameError",
     "evalue": "name 'i' is not defined",
     "output_type": "error",
     "traceback": [
      "\u001b[1;31m---------------------------------------------------------------------------\u001b[0m",
      "\u001b[1;31mNameError\u001b[0m                                 Traceback (most recent call last)",
      "Cell \u001b[1;32mIn[68], line 18\u001b[0m\n\u001b[0;32m     16\u001b[0m             seats\u001b[39m=\u001b[39mbus_seats(service[i][\u001b[39m-\u001b[39m\u001b[39m1\u001b[39m])\n\u001b[0;32m     17\u001b[0m             \u001b[39mprint\u001b[39m(\u001b[39mstr\u001b[39m(i)\u001b[39m.\u001b[39mcenter(\u001b[39m20\u001b[39m),services[i][\u001b[39m0\u001b[39m]\u001b[39m.\u001b[39mcenter(\u001b[39m20\u001b[39m),services[i][\u001b[39m1\u001b[39m]\u001b[39m.\u001b[39mcenter(\u001b[39m20\u001b[39m)),\u001b[39mstr\u001b[39m(services[i][\u001b[39m2\u001b[39m]\u001b[39m.\u001b[39mcenter(\u001b[39m20\u001b[39m)),\n\u001b[1;32m---> 18\u001b[0m \u001b[39mstr\u001b[39m(services[i][\u001b[39m3\u001b[39m]\u001b[39m.\u001b[39mcenter(\u001b[39m20\u001b[39m)),\u001b[39mstr\u001b[39m(services[i][\u001b[39m4\u001b[39m]\u001b[39m.\u001b[39mcenter(\u001b[39m20\u001b[39m)),\u001b[39mstr\u001b[39m(\u001b[39mlen\u001b[39m(services[i][\u001b[39m4\u001b[39m])\u001b[39m.\u001b[39mcenter(\u001b[39m20\u001b[39m)),\n\u001b[0;32m     19\u001b[0m \u001b[39mstr\u001b[39m(\u001b[39mlen\u001b[39m(services[i][\u001b[39m-\u001b[39m\u001b[39m1\u001b[39m])\u001b[39m.\u001b[39mcenter(\u001b[39m20\u001b[39m)),\u001b[39mstr\u001b[39m(\u001b[39mlen\u001b[39m(seats[\u001b[39m0\u001b[39m]))\u001b[39m.\u001b[39mcenter(\u001b[39m20\u001b[39m),\u001b[39mstr\u001b[39m(\u001b[39mlen\u001b[39m(seats[\u001b[39m1\u001b[39m]))\u001b[39m.\u001b[39mcenter(\u001b[39m20\u001b[39m)       \n",
      "\u001b[1;31mNameError\u001b[0m: name 'i' is not defined"
     ]
    }
   ],
   "source": [
    "def display_all_service(service):\n",
    "    for i in service.items():\n",
    "        seats=bus_seats(i[1][-1])\n",
    "        print(str(i[0].center(20),\n",
    "              i[1][0].center(20,\n",
    "              i[1][1].center(20),\n",
    "              str(i[1][2].center(20),\n",
    "              str(i[1][3].center(20),\n",
    "              str(i[1][4].center(20),\n",
    "              str(len(i[1][-1])).center(20),\n",
    "              str(len(seats[0])).center(20),\n",
    "              str(len(seats[1])).center(20)))))))\n",
    "def display_service_no(service,ele):\n",
    "    for i in service:\n",
    "        if ele==i:\n",
    "            seats=bus_seats(service[i][-1])\n",
    "            print(str(i).center(20),services[i][0].center(20),services[i][1].center(20)),str(services[i][2].center(20)),\n",
    "str(services[i][3].center(20)),str(services[i][4].center(20)),str(len(services[i][4]).center(20)),\n",
    "str(len(services[i][-1]).center(20)),str(len(seats[0])).center(20),str(len(seats[1])).center(20)\n",
    "\n",
    "def display_service\n",
    "                        \n",
    "        "
   ]
  }
 ],
 "metadata": {
  "kernelspec": {
   "display_name": "Python 3",
   "language": "python",
   "name": "python3"
  },
  "language_info": {
   "codemirror_mode": {
    "name": "ipython",
    "version": 3
   },
   "file_extension": ".py",
   "mimetype": "text/x-python",
   "name": "python",
   "nbconvert_exporter": "python",
   "pygments_lexer": "ipython3",
   "version": "3.11.3"
  },
  "orig_nbformat": 4
 },
 "nbformat": 4,
 "nbformat_minor": 2
}
