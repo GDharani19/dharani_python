{
 "cells": [
  {
   "cell_type": "markdown",
   "metadata": {},
   "source": [
    "1.WAP that reads a file,displaying all the words from the file that contains that string ."
   ]
  },
  {
   "cell_type": "code",
   "execution_count": 106,
   "metadata": {},
   "outputs": [
    {
     "name": "stdout",
     "output_type": "stream",
     "text": [
      "<_io.TextIOWrapper name='file1.txt' mode='w' encoding='cp1252'>\n",
      "75\n"
     ]
    }
   ],
   "source": [
    "fp=open(\"file1.txt\",'w')\n",
    "print(fp)\n",
    "fp.write(\"python is a programming language python is a dynamic programming language\\n\")\n",
    "print(fp.tell())\n",
    "fp.close()"
   ]
  },
  {
   "cell_type": "code",
   "execution_count": 107,
   "metadata": {},
   "outputs": [
    {
     "ename": "SyntaxError",
     "evalue": "invalid syntax (2120328948.py, line 3)",
     "output_type": "error",
     "traceback": [
      "\u001b[1;36m  Cell \u001b[1;32mIn[107], line 3\u001b[1;36m\u001b[0m\n\u001b[1;33m    res=fp.read()ose()\u001b[0m\n\u001b[1;37m                 ^\u001b[0m\n\u001b[1;31mSyntaxError\u001b[0m\u001b[1;31m:\u001b[0m invalid syntax\n"
     ]
    }
   ],
   "source": [
    "\n",
    "print(res)\n",
    "fp.clfp=open(\"file1.txt\",\"r\")\n",
    "res=fp.read()ose()"
   ]
  },
  {
   "cell_type": "markdown",
   "metadata": {},
   "source": [
    "2.WAP that reads a file and searches for a given string , displaying all the lines from the file that contains that string ."
   ]
  },
  {
   "cell_type": "code",
   "execution_count": null,
   "metadata": {},
   "outputs": [
    {
     "name": "stdout",
     "output_type": "stream",
     "text": [
      "[]\n"
     ]
    }
   ],
   "source": [
    "fp=open(\"file1.txt\",\"r\")\n",
    "res=fp.read()\n",
    "ele=\"Python\"\n",
    "lines=[]\n",
    "for i in res:\n",
    "    if ele in i:\n",
    "        lines+=[i]\n",
    "print(lines)        "
   ]
  },
  {
   "cell_type": "code",
   "execution_count": null,
   "metadata": {},
   "outputs": [
    {
     "name": "stdout",
     "output_type": "stream",
     "text": [
      "0\n"
     ]
    }
   ],
   "source": [
    "fp=open(\"file1.txt\",\"r\")\n",
    "res=fp.readlines()\n",
    "ele=\"Python\"\n",
    "count=0\n",
    "for i in range(len(res)):\n",
    "    if ele==res[i:i+len(ele)]:\n",
    "        count+=1\n",
    "print(count)        "
   ]
  },
  {
   "cell_type": "markdown",
   "metadata": {},
   "source": [
    "4.WAP that writes a file , add the new content inside the file #"
   ]
  },
  {
   "cell_type": "code",
   "execution_count": null,
   "metadata": {},
   "outputs": [
    {
     "name": "stdout",
     "output_type": "stream",
     "text": [
      "75\n",
      "117\n",
      "0\n"
     ]
    },
    {
     "ename": "TypeError",
     "evalue": "TextIOWrapper.write() takes exactly one argument (0 given)",
     "output_type": "error",
     "traceback": [
      "\u001b[1;31m---------------------------------------------------------------------------\u001b[0m",
      "\u001b[1;31mTypeError\u001b[0m                                 Traceback (most recent call last)",
      "Cell \u001b[1;32mIn[79], line 7\u001b[0m\n\u001b[0;32m      5\u001b[0m fp\u001b[39m.\u001b[39mseek(\u001b[39m0\u001b[39m)\n\u001b[0;32m      6\u001b[0m \u001b[39mprint\u001b[39m(fp\u001b[39m.\u001b[39mtell())\n\u001b[1;32m----> 7\u001b[0m res\u001b[39m=\u001b[39mfp\u001b[39m.\u001b[39;49mwrite()\n\u001b[0;32m      8\u001b[0m \u001b[39mprint\u001b[39m(res)\n\u001b[0;32m      9\u001b[0m \u001b[39mprint\u001b[39m(fp\u001b[39m.\u001b[39mtell())\n",
      "\u001b[1;31mTypeError\u001b[0m: TextIOWrapper.write() takes exactly one argument (0 given)"
     ]
    }
   ],
   "source": [
    "fp=open(\"file1.txt\",\"a\")\n",
    "print(fp.tell())\n",
    "fp.write('\\npython is a dynamic programming language')\n",
    "print(fp.tell())\n",
    "fp.seek(0)\n",
    "print(fp.tell())\n",
    "res=fp.write()\n",
    "print(res)\n",
    "print(fp.tell())\n",
    "fp.close()"
   ]
  },
  {
   "cell_type": "code",
   "execution_count": null,
   "metadata": {},
   "outputs": [
    {
     "name": "stdout",
     "output_type": "stream",
     "text": [
      "<_io.TextIOWrapper name='file2.txt' mode='w' encoding='cp1252'>\n"
     ]
    }
   ],
   "source": [
    "fp=open(\"file2.txt\",\"w\")   \n",
    "print(fp)\n",
    "fp.write(\"Python is a programming language Python is a dynamic programming language\")\n",
    "fp.close()"
   ]
  },
  {
   "cell_type": "code",
   "execution_count": null,
   "metadata": {},
   "outputs": [
    {
     "name": "stdout",
     "output_type": "stream",
     "text": [
      "python is a programming language python is a dynamic programming language\n"
     ]
    }
   ],
   "source": [
    "fp=open(\"file2.txt\",\"r\")    #1\n",
    "res=fp.read()\n",
    "print(res)\n",
    "fp.close()"
   ]
  },
  {
   "cell_type": "code",
   "execution_count": null,
   "metadata": {},
   "outputs": [
    {
     "name": "stdout",
     "output_type": "stream",
     "text": [
      "['python is a programming language python is a dynamic programming language']\n"
     ]
    }
   ],
   "source": [
    "fp=open(\"file2.txt\",\"r\")   #2\n",
    "res=fp.readlines()\n",
    "str=\"Python\"\n",
    "res1=[]\n",
    "for i in res:\n",
    "    if str in i:\n",
    "        res1+=[i]\n",
    "print(res1)"
   ]
  },
  {
   "cell_type": "code",
   "execution_count": 109,
   "metadata": {},
   "outputs": [
    {
     "name": "stdout",
     "output_type": "stream",
     "text": [
      "2\n"
     ]
    }
   ],
   "source": [
    "fp=open(\"file2.txt\",\"r\")            #3\n",
    "res=fp.read()\n",
    "str=\"Python\"\n",
    "count=0\n",
    "for i in range(len(res)):\n",
    "    if str==res[i:i+len(str)]:\n",
    "        count+=1\n",
    "print(count)"
   ]
  },
  {
   "cell_type": "code",
   "execution_count": 112,
   "metadata": {},
   "outputs": [],
   "source": [
    "fp=open(\"file2.txt\",\"a\")       #4\n",
    "fp.write(\",it is general purpose programming language\")\n",
    "fp.close()"
   ]
  },
  {
   "cell_type": "code",
   "execution_count": 113,
   "metadata": {},
   "outputs": [
    {
     "name": "stdout",
     "output_type": "stream",
     "text": [
      "['Python is a programming language Python is a dynamic programming languageit is general purpose programming languageit is general purpose programming language,it is general purpose programming language']\n"
     ]
    }
   ],
   "source": [
    "fp=open(\"file2.txt\",\"r\")    #1\n",
    "res=fp.read()\n",
    "fp.close()\n",
    "fp=open(\"file2.txt\",\"r\")   #2\n",
    "res=fp.readlines()\n",
    "str=\"Python\"\n",
    "res1=[]\n",
    "for i in res:\n",
    "    if str in i:\n",
    "        res1+=[i]\n",
    "print(res1)"
   ]
  },
  {
   "cell_type": "code",
   "execution_count": 46,
   "metadata": {},
   "outputs": [],
   "source": [
    "import csv\n",
    "fp=open('student.csv','w',newline='\\n')\n",
    "w=csv.writer(fp)\n",
    "w.writerow(['name','age','phone','email'])\n",
    "fp.close()"
   ]
  },
  {
   "cell_type": "code",
   "execution_count": 47,
   "metadata": {},
   "outputs": [],
   "source": [
    "fp=open('student.csv','a',newline='\\n')\n",
    "w=csv.writer(fp)\n",
    "w.writerow(['sai','23',998877455,'sai@gmail.com'])\n",
    "fp.close()"
   ]
  },
  {
   "cell_type": "code",
   "execution_count": 48,
   "metadata": {},
   "outputs": [],
   "source": [
    "fp=open('student.csv','a',newline='\\n')\n",
    "w=csv.writer(fp)\n",
    "w.writerows([['rahul','27',998877499,'rahul@gmail.com'],['raghu','25',998877488,'raghu@gmail.com']])\n",
    "fp.close()"
   ]
  },
  {
   "cell_type": "code",
   "execution_count": 49,
   "metadata": {},
   "outputs": [
    {
     "name": "stdout",
     "output_type": "stream",
     "text": [
      "[['name', 'age', 'phone', 'email'], ['sai', '23', '998877455', 'sai@gmail.com'], ['rahul', '27', '998877499', 'rahul@gmail.com'], ['raghu', '25', '998877488', 'raghu@gmail.com']]\n"
     ]
    }
   ],
   "source": [
    "fp=open(\"student.csv\",\"r\")\n",
    "r=csv.reader(fp)\n",
    "res=list(r)\n",
    "fp.close()\n",
    "print(res)"
   ]
  },
  {
   "cell_type": "code",
   "execution_count": 50,
   "metadata": {},
   "outputs": [
    {
     "name": "stdout",
     "output_type": "stream",
     "text": [
      "['rahul', '27', '998877499', 'rahul@gmail.com']\n"
     ]
    }
   ],
   "source": [
    "for i in res:\n",
    "    if i[2]=='998877499':\n",
    "        print(i)"
   ]
  },
  {
   "cell_type": "code",
   "execution_count": 51,
   "metadata": {},
   "outputs": [],
   "source": [
    "for i in res:\n",
    "    if i[2]=='998877499':\n",
    "        i[-1]='rahulreddy@gmail.com'"
   ]
  },
  {
   "cell_type": "code",
   "execution_count": 52,
   "metadata": {},
   "outputs": [
    {
     "name": "stdout",
     "output_type": "stream",
     "text": [
      "['name', 'age', 'phone', 'email']\n",
      "['sai', '23', '998877455', 'sai@gmail.com']\n",
      "['rahul', '27', '998877499', 'rahulreddy@gmail.com']\n",
      "['raghu', '25', '998877488', 'raghu@gmail.com']\n"
     ]
    }
   ],
   "source": [
    "for i in res:\n",
    "    print(i)"
   ]
  },
  {
   "cell_type": "code",
   "execution_count": 53,
   "metadata": {},
   "outputs": [],
   "source": [
    "fp=open('student.csv','w',newline='')\n",
    "w=csv.writer(fp)\n",
    "w.writerows(res)\n",
    "fp.close()"
   ]
  },
  {
   "cell_type": "code",
   "execution_count": 54,
   "metadata": {},
   "outputs": [
    {
     "name": "stdout",
     "output_type": "stream",
     "text": [
      "[{'name': 'sai', 'age': '23', 'phone': '998877455', 'email': 'sai@gmail.com'}, {'name': 'rahul', 'age': '27', 'phone': '998877499', 'email': 'rahulreddy@gmail.com'}, {'name': 'raghu', 'age': '25', 'phone': '998877488', 'email': 'raghu@gmail.com'}]\n"
     ]
    }
   ],
   "source": [
    "fp=open('student.csv','r')\n",
    "r=csv.DictReader(fp)\n",
    "res=list(r)\n",
    "print(res)"
   ]
  },
  {
   "cell_type": "code",
   "execution_count": 55,
   "metadata": {},
   "outputs": [],
   "source": [
    "for i in res:\n",
    "    if i['phone']=='998877488':\n",
    "        i['email']='raghukumar@gmail.com'"
   ]
  },
  {
   "cell_type": "code",
   "execution_count": 56,
   "metadata": {},
   "outputs": [
    {
     "name": "stdout",
     "output_type": "stream",
     "text": [
      "{'name': 'sai', 'age': '23', 'phone': '998877455', 'email': 'sai@gmail.com'}\n",
      "{'name': 'rahul', 'age': '27', 'phone': '998877499', 'email': 'rahulreddy@gmail.com'}\n",
      "{'name': 'raghu', 'age': '25', 'phone': '998877488', 'email': 'raghukumar@gmail.com'}\n"
     ]
    }
   ],
   "source": [
    "for i in res:\n",
    "    print(i)"
   ]
  },
  {
   "cell_type": "code",
   "execution_count": 57,
   "metadata": {},
   "outputs": [],
   "source": [
    "fp=open('student.csv','w',newline='')\n",
    "w=csv.DictWriter(fp,['name','age','email','phone'])\n",
    "w.writeheader()\n",
    "w.writerows(res)\n",
    "fp.close()"
   ]
  },
  {
   "cell_type": "markdown",
   "metadata": {},
   "source": [
    "CSV CRUD OPERATIONS"
   ]
  },
  {
   "cell_type": "code",
   "execution_count": 91,
   "metadata": {},
   "outputs": [],
   "source": [
    "import csv\n",
    "def csvfilewrite(file,header,data):\n",
    "    fp=open(file,'w',newline=\"\")\n",
    "    w=csv.writer(fp)\n",
    "    w.writerow(header)\n",
    "    w.writerow(data)\n",
    "    fp.close()\n",
    "\n",
    "h=['name','age','email','gender','salary','location']\n",
    "l=['madhu',26,9988774455,'madhu@gmail.com','female',45000,'vijayawada']\n",
    "csvfilewrite('employee.csv',h,l)    "
   ]
  },
  {
   "cell_type": "code",
   "execution_count": 92,
   "metadata": {},
   "outputs": [],
   "source": [
    "def csvfilewriterow(file,data):\n",
    "    fp=open(file,'w',newline='')\n",
    "    w=csv.writer(fp)\n",
    "    w.writerows(data)\n",
    "    fp.close()    "
   ]
  },
  {
   "cell_type": "code",
   "execution_count": 93,
   "metadata": {},
   "outputs": [],
   "source": [
    "import csv\n",
    "def csvfileappend(file,data):\n",
    "    fp=open(file,'a',newline='')\n",
    "    w=csv.writer(fp)\n",
    "    w.writerow(data)\n",
    "    fp.close()\n",
    "\n",
    "h=['roja',30,6388772233,'roja@gmail.com','female',55000,'hyd']\n",
    "csvfileappend('employee.csv',h)    \n"
   ]
  },
  {
   "cell_type": "code",
   "execution_count": 94,
   "metadata": {},
   "outputs": [],
   "source": [
    "def csvfileread(file):\n",
    "    fp=open(file,'r')\n",
    "    r=csv.reader(fp)\n",
    "    res=list(r)\n",
    "    fp.close()\n",
    "    return res\n",
    "detail=csvfileread('employee.csv')"
   ]
  },
  {
   "cell_type": "code",
   "execution_count": 95,
   "metadata": {},
   "outputs": [
    {
     "name": "stdout",
     "output_type": "stream",
     "text": [
      "success\n"
     ]
    }
   ],
   "source": [
    "def modify_data(coll,old,new,file):\n",
    "    for i in coll:\n",
    "        if str(i[2]==str(old)):\n",
    "            i[2]=new\n",
    "    csvfilewriterow(file,coll)\n",
    "    print(\"success\")\n",
    "modify_data(detail,9988772233,9999666644,'employee.csv')            "
   ]
  },
  {
   "cell_type": "code",
   "execution_count": 96,
   "metadata": {},
   "outputs": [
    {
     "name": "stdout",
     "output_type": "stream",
     "text": [
      "success\n"
     ]
    }
   ],
   "source": [
    "def delete_data(coll,old,file):\n",
    "    for i in coll:\n",
    "        if str(i[2]==str(old)):\n",
    "            i[2]=None\n",
    "    csvfilewriterow(file,coll)\n",
    "    print(\"success\")\n",
    "delete_data(detail,9999666644,'employee.csv')            "
   ]
  },
  {
   "cell_type": "code",
   "execution_count": 31,
   "metadata": {},
   "outputs": [
    {
     "ename": "NameError",
     "evalue": "name 'csvfileread' is not defined",
     "output_type": "error",
     "traceback": [
      "\u001b[1;31m---------------------------------------------------------------------------\u001b[0m",
      "\u001b[1;31mNameError\u001b[0m                                 Traceback (most recent call last)",
      "Cell \u001b[1;32mIn[31], line 1\u001b[0m\n\u001b[1;32m----> 1\u001b[0m csvfileread(\u001b[39m'\u001b[39m\u001b[39memployee.csv\u001b[39m\u001b[39m'\u001b[39m)\n",
      "\u001b[1;31mNameError\u001b[0m: name 'csvfileread' is not defined"
     ]
    }
   ],
   "source": [
    "csvfileread('employee.csv')"
   ]
  },
  {
   "cell_type": "code",
   "execution_count": 10,
   "metadata": {},
   "outputs": [],
   "source": [
    "# WRITE\n",
    "\n",
    "import csv \n",
    "d={'clg_name':'pys','address':'hyd','website':'www.pys.com','phone':9966447711,'staff':1,'students':200}\n",
    "\n",
    "def csv_dict_write(file,data):\n",
    "    fp=open(file,'w',newline=\"\")\n",
    "    w=csv.DictWriter(fp,list(data))\n",
    "    w.writeheader()\n",
    "    w.writerow(data)\n",
    "    fp.close()\n",
    "csv_dict_write('college.csv',d)    \n"
   ]
  },
  {
   "cell_type": "code",
   "execution_count": 11,
   "metadata": {},
   "outputs": [],
   "source": [
    "# APPEND\n",
    "\n",
    "d={'clg_name':'apple','address':'hyd','website':'www.apple.com','staff':1,'students':100,'phone':9966447799}\n",
    "\n",
    "def csv_dict_append(file,data):\n",
    "    fp=open(file,'a',newline=\"\")\n",
    "    w=csv.DictWriter(fp,['clg_name','address','website','phone','staff','students'])\n",
    "    w.writerow(data)\n",
    "    fp.close()\n",
    "csv_dict_append('college.csv',d)    \n"
   ]
  },
  {
   "cell_type": "code",
   "execution_count": 12,
   "metadata": {},
   "outputs": [
    {
     "data": {
      "text/plain": [
       "[{'clg_name': 'pys',\n",
       "  'address': 'hyd',\n",
       "  'website': 'www.pys.com',\n",
       "  'phone': '9966447711',\n",
       "  'staff': '1',\n",
       "  'students': '200'},\n",
       " {'clg_name': 'apple',\n",
       "  'address': 'hyd',\n",
       "  'website': 'www.apple.com',\n",
       "  'phone': '9966447799',\n",
       "  'staff': '1',\n",
       "  'students': '100'}]"
      ]
     },
     "execution_count": 12,
     "metadata": {},
     "output_type": "execute_result"
    }
   ],
   "source": [
    "# READ\n",
    "\n",
    "def csv_dict_read(file):\n",
    "    fp=open(file,'r')\n",
    "    r=csv.DictReader(fp)\n",
    "    res=list(r)\n",
    "    fp.close()\n",
    "    return res\n",
    "csv_dict_read('college.csv')"
   ]
  },
  {
   "cell_type": "code",
   "execution_count": 25,
   "metadata": {},
   "outputs": [
    {
     "name": "stdout",
     "output_type": "stream",
     "text": [
      "record is not found\n",
      "modification is success\n"
     ]
    }
   ],
   "source": [
    "# MODIFICATION\n",
    "\n",
    "def csv_modify_data(file,check,modify):\n",
    "    res=csv_dict_read(file)\n",
    "    for i in res:\n",
    "        if str(check)==str(i['phone']) and len(modify)>0:\n",
    "            for k in modify:\n",
    "                i[k]=input(f\"enter the {k}:\")\n",
    "            break\n",
    "    else:\n",
    "        print(\"record is not found\")\n",
    "    fp=open(file,'w',newline=\"\")\n",
    "    w=csv.DictWriter(fp,list(res[0]))\n",
    "    w.writeheader()\n",
    "    w.writerows(res)\n",
    "    fp.close()\n",
    "    print(\"modification is success\") \n",
    "csv_modify_data('college.csv','9988774455',['website','staff','students'])               "
   ]
  },
  {
   "cell_type": "code",
   "execution_count": 26,
   "metadata": {},
   "outputs": [
    {
     "name": "stdout",
     "output_type": "stream",
     "text": [
      "record is not found\n",
      "modification is success\n"
     ]
    }
   ],
   "source": [
    "def csv_modify_data(file,check,modify):\n",
    "    res=csv_dict_read(file)\n",
    "    for i in res:\n",
    "        if str(check)==str(i['phone']) and len(modify)>0:\n",
    "            for k in modify:\n",
    "                i[k]=input(f\"enter the {k}:\")\n",
    "            break\n",
    "    else:\n",
    "        print(\"record is not found\")\n",
    "    fp=open(file,'w',newline=\"\")\n",
    "    w=csv.DictWriter(fp,list(res[0]))\n",
    "    w.writeheader()\n",
    "    w.writerows(res)\n",
    "    fp.close()\n",
    "    print(\"modification is success\") \n",
    "csv_modify_data('college.csv','9988774455',['website','staff','students'])               "
   ]
  },
  {
   "cell_type": "code",
   "execution_count": 16,
   "metadata": {},
   "outputs": [
    {
     "name": "stdout",
     "output_type": "stream",
     "text": [
      "deletion is success\n"
     ]
    }
   ],
   "source": [
    "# DELETION\n",
    "\n",
    "def csv_delete_data(file,check,delete):\n",
    "    res=csv_dict_read(file)\n",
    "    for i in res:\n",
    "        if str(check)==str(i['phone']) and len(delete)>0:\n",
    "            for k in delete:\n",
    "                i[k]=None\n",
    "            break\n",
    "    fp=open(file,'w',newline=\"\")\n",
    "    w=csv.DictWriter(fp,list(res[0]))\n",
    "    w.writeheader()\n",
    "    w.writerows(res)\n",
    "    fp.close()\n",
    "    print(\"deletion is success\") \n",
    "csv_delete_data('college.csv','9988774499',['website','staff','students'])               \n"
   ]
  },
  {
   "cell_type": "code",
   "execution_count": 20,
   "metadata": {},
   "outputs": [
    {
     "name": "stdout",
     "output_type": "stream",
     "text": [
      "record is not found\n"
     ]
    }
   ],
   "source": [
    "# DELETION OF RECORD \n",
    "\n",
    "def csv_delete_record(file,check):\n",
    "    res=csv_dict_read(file)\n",
    "    for i in range(0,len(res)):\n",
    "        if str(check)==str(res[i]['phone']):\n",
    "            del res[i]\n",
    "            break\n",
    "        else:\n",
    "            print(\"record is not found\")\n",
    "            return\n",
    "    fp=open(file,'w',newline=\"\")\n",
    "    w=csv.DictWriter(fp,list(res[0]))\n",
    "    w.writeheader()\n",
    "    w.writerows(res)\n",
    "    fp.close()\n",
    "    print(\"deletion is success\") \n",
    "csv_delete_record('college.csv','9988774499')               \n"
   ]
  }
 ],
 "metadata": {
  "kernelspec": {
   "display_name": "Python 3",
   "language": "python",
   "name": "python3"
  },
  "language_info": {
   "codemirror_mode": {
    "name": "ipython",
    "version": 3
   },
   "file_extension": ".py",
   "mimetype": "text/x-python",
   "name": "python",
   "nbconvert_exporter": "python",
   "pygments_lexer": "ipython3",
   "version": "3.11.3"
  },
  "orig_nbformat": 4
 },
 "nbformat": 4,
 "nbformat_minor": 2
}
