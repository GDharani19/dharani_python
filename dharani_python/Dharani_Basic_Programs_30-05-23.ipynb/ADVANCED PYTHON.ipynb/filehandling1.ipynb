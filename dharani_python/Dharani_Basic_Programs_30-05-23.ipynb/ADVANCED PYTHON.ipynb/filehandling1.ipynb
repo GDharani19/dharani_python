{
 "cells": [
  {
   "cell_type": "markdown",
   "metadata": {},
   "source": [
    "1.WAP that reads a file,displaying all the words from the file that contains that string ."
   ]
  },
  {
   "cell_type": "code",
   "execution_count": 106,
   "metadata": {},
   "outputs": [
    {
     "name": "stdout",
     "output_type": "stream",
     "text": [
      "<_io.TextIOWrapper name='file1.txt' mode='w' encoding='cp1252'>\n",
      "75\n"
     ]
    }
   ],
   "source": [
    "fp=open(\"file1.txt\",'w')\n",
    "print(fp)\n",
    "fp.write(\"python is a programming language python is a dynamic programming language\\n\")\n",
    "print(fp.tell())\n",
    "fp.close()"
   ]
  },
  {
   "cell_type": "code",
   "execution_count": 107,
   "metadata": {},
   "outputs": [
    {
     "ename": "SyntaxError",
     "evalue": "invalid syntax (2120328948.py, line 3)",
     "output_type": "error",
     "traceback": [
      "\u001b[1;36m  Cell \u001b[1;32mIn[107], line 3\u001b[1;36m\u001b[0m\n\u001b[1;33m    res=fp.read()ose()\u001b[0m\n\u001b[1;37m                 ^\u001b[0m\n\u001b[1;31mSyntaxError\u001b[0m\u001b[1;31m:\u001b[0m invalid syntax\n"
     ]
    }
   ],
   "source": [
    "\n",
    "print(res)\n",
    "fp.clfp=open(\"file1.txt\",\"r\")\n",
    "res=fp.read()ose()"
   ]
  },
  {
   "cell_type": "markdown",
   "metadata": {},
   "source": [
    "2.WAP that reads a file and searches for a given string , displaying all the lines from the file that contains that string ."
   ]
  },
  {
   "cell_type": "code",
   "execution_count": null,
   "metadata": {},
   "outputs": [
    {
     "name": "stdout",
     "output_type": "stream",
     "text": [
      "[]\n"
     ]
    }
   ],
   "source": [
    "fp=open(\"file1.txt\",\"r\")\n",
    "res=fp.read()\n",
    "ele=\"Python\"\n",
    "lines=[]\n",
    "for i in res:\n",
    "    if ele in i:\n",
    "        lines+=[i]\n",
    "print(lines)        "
   ]
  },
  {
   "cell_type": "code",
   "execution_count": null,
   "metadata": {},
   "outputs": [
    {
     "name": "stdout",
     "output_type": "stream",
     "text": [
      "0\n"
     ]
    }
   ],
   "source": [
    "fp=open(\"file1.txt\",\"r\")\n",
    "res=fp.readlines()\n",
    "ele=\"Python\"\n",
    "count=0\n",
    "for i in range(len(res)):\n",
    "    if ele==res[i:i+len(ele)]:\n",
    "        count+=1\n",
    "print(count)        "
   ]
  },
  {
   "cell_type": "markdown",
   "metadata": {},
   "source": [
    "4.WAP that writes a file , add the new content inside the file #"
   ]
  },
  {
   "cell_type": "code",
   "execution_count": null,
   "metadata": {},
   "outputs": [
    {
     "name": "stdout",
     "output_type": "stream",
     "text": [
      "75\n",
      "117\n",
      "0\n"
     ]
    },
    {
     "ename": "TypeError",
     "evalue": "TextIOWrapper.write() takes exactly one argument (0 given)",
     "output_type": "error",
     "traceback": [
      "\u001b[1;31m---------------------------------------------------------------------------\u001b[0m",
      "\u001b[1;31mTypeError\u001b[0m                                 Traceback (most recent call last)",
      "Cell \u001b[1;32mIn[79], line 7\u001b[0m\n\u001b[0;32m      5\u001b[0m fp\u001b[39m.\u001b[39mseek(\u001b[39m0\u001b[39m)\n\u001b[0;32m      6\u001b[0m \u001b[39mprint\u001b[39m(fp\u001b[39m.\u001b[39mtell())\n\u001b[1;32m----> 7\u001b[0m res\u001b[39m=\u001b[39mfp\u001b[39m.\u001b[39;49mwrite()\n\u001b[0;32m      8\u001b[0m \u001b[39mprint\u001b[39m(res)\n\u001b[0;32m      9\u001b[0m \u001b[39mprint\u001b[39m(fp\u001b[39m.\u001b[39mtell())\n",
      "\u001b[1;31mTypeError\u001b[0m: TextIOWrapper.write() takes exactly one argument (0 given)"
     ]
    }
   ],
   "source": [
    "fp=open(\"file1.txt\",\"a\")\n",
    "print(fp.tell())\n",
    "fp.write('\\npython is a dynamic programming language')\n",
    "print(fp.tell())\n",
    "fp.seek(0)\n",
    "print(fp.tell())\n",
    "res=fp.write()\n",
    "print(res)\n",
    "print(fp.tell())\n",
    "fp.close()"
   ]
  },
  {
   "cell_type": "code",
   "execution_count": null,
   "metadata": {},
   "outputs": [
    {
     "name": "stdout",
     "output_type": "stream",
     "text": [
      "<_io.TextIOWrapper name='file2.txt' mode='w' encoding='cp1252'>\n"
     ]
    }
   ],
   "source": [
    "fp=open(\"file2.txt\",\"w\")   \n",
    "print(fp)\n",
    "fp.write(\"Python is a programming language Python is a dynamic programming language\")\n",
    "fp.close()"
   ]
  },
  {
   "cell_type": "code",
   "execution_count": null,
   "metadata": {},
   "outputs": [
    {
     "name": "stdout",
     "output_type": "stream",
     "text": [
      "python is a programming language python is a dynamic programming language\n"
     ]
    }
   ],
   "source": [
    "fp=open(\"file2.txt\",\"r\")    #1\n",
    "res=fp.read()\n",
    "print(res)\n",
    "fp.close()"
   ]
  },
  {
   "cell_type": "code",
   "execution_count": null,
   "metadata": {},
   "outputs": [
    {
     "name": "stdout",
     "output_type": "stream",
     "text": [
      "['python is a programming language python is a dynamic programming language']\n"
     ]
    }
   ],
   "source": [
    "fp=open(\"file2.txt\",\"r\")   #2\n",
    "res=fp.readlines()\n",
    "str=\"Python\"\n",
    "res1=[]\n",
    "for i in res:\n",
    "    if str in i:\n",
    "        res1+=[i]\n",
    "print(res1)"
   ]
  },
  {
   "cell_type": "code",
   "execution_count": 109,
   "metadata": {},
   "outputs": [
    {
     "name": "stdout",
     "output_type": "stream",
     "text": [
      "2\n"
     ]
    }
   ],
   "source": [
    "fp=open(\"file2.txt\",\"r\")            #3\n",
    "res=fp.read()\n",
    "str=\"Python\"\n",
    "count=0\n",
    "for i in range(len(res)):\n",
    "    if str==res[i:i+len(str)]:\n",
    "        count+=1\n",
    "print(count)"
   ]
  },
  {
   "cell_type": "code",
   "execution_count": 112,
   "metadata": {},
   "outputs": [],
   "source": [
    "fp=open(\"file2.txt\",\"a\")       #4\n",
    "fp.write(\",it is general purpose programming language\")\n",
    "fp.close()"
   ]
  },
  {
   "cell_type": "code",
   "execution_count": 113,
   "metadata": {},
   "outputs": [
    {
     "name": "stdout",
     "output_type": "stream",
     "text": [
      "['Python is a programming language Python is a dynamic programming languageit is general purpose programming languageit is general purpose programming language,it is general purpose programming language']\n"
     ]
    }
   ],
   "source": [
    "fp=open(\"file2.txt\",\"r\")    #1\n",
    "res=fp.read()\n",
    "fp.close()\n",
    "fp=open(\"file2.txt\",\"r\")   #2\n",
    "res=fp.readlines()\n",
    "str=\"Python\"\n",
    "res1=[]\n",
    "for i in res:\n",
    "    if str in i:\n",
    "        res1+=[i]\n",
    "print(res1)"
   ]
  }
 ],
 "metadata": {
  "kernelspec": {
   "display_name": "Python 3",
   "language": "python",
   "name": "python3"
  },
  "language_info": {
   "codemirror_mode": {
    "name": "ipython",
    "version": 3
   },
   "file_extension": ".py",
   "mimetype": "text/x-python",
   "name": "python",
   "nbconvert_exporter": "python",
   "pygments_lexer": "ipython3",
   "version": "3.11.3"
  },
  "orig_nbformat": 4
 },
 "nbformat": 4,
 "nbformat_minor": 2
}
