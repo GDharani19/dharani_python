{
 "cells": [
  {
   "cell_type": "code",
   "execution_count": 3,
   "metadata": {},
   "outputs": [],
   "source": [
    "import tkinter as tk\n",
    "\n",
    "large_font_style=(\"arial\",40,\"bold\")\n",
    "small_font_style=(\"arial\",16)\n",
    "digits_font_style=(\"arial\",24,\"bold\")\n",
    "default_font_style=(\"arial\",20)\n",
    "\n",
    "off_white=\"#F8FAFF\"\n",
    "white=\"#FFFFFF\"\n",
    "light_blue=\"#CCEDFF\"\n",
    "light_grey=\"#F5F5F5\"\n",
    "label_color=\"#25265E\""
   ]
  },
  {
   "cell_type": "code",
   "execution_count": 5,
   "metadata": {},
   "outputs": [],
   "source": [
    "class calculator:\n",
    "    def __init__(self):\n",
    "        self.window=tk.tk()\n",
    "        self.window.geometry(\"375x667\")\n",
    "        self.window.resizable(0, 0)\n",
    "        self.window.title(\"Calculator\")\n",
    "        self.total_expression = \"\"\n",
    "        self.current_expression = \"\"\n",
    "        self.display_frame = self.create_display_frame()\n",
    "\n",
    "        self.total_label, self.label = self.create_display_labels()\n",
    "        self.digits = {\n",
    "            7: (1, 1), 8: (1, 2), 9: (1, 3),\n",
    "            4: (2, 1), 5: (2, 2), 6: (2, 3),\n",
    "            1: (3, 1), 2: (3, 2), 3: (3, 3),\n",
    "            0: (4, 2), '.': (4, 1)\n",
    "        }\n",
    "        self.operations = {\"/\": \"\\u00F7\", \"*\": \"\\u00D7\", \"-\": \"-\", \"+\": \"+\"}\n",
    "        self.buttons_frame = self.create_buttons_frame()\n",
    "\n",
    "        self.buttons_frame.rowconfigure(0, weight=1)\n",
    "        for x in range(1, 5):\n",
    "            self.buttons_frame.rowconfigure(x, weight=1)\n",
    "            self.buttons_frame.columnconfigure(x, weight=1)\n",
    "        self.create_digit_buttons()\n",
    "        self.create_operator_buttons()\n",
    "        self.create_special_buttons()\n",
    "        self.bind_keys()\n"
   ]
  },
  {
   "cell_type": "code",
   "execution_count": 6,
   "metadata": {},
   "outputs": [],
   "source": [
    "def bind_keys(self):\n",
    "        self.window.bind(\"<Return>\", lambda event: self.evaluate())\n",
    "        for key in self.digits:\n",
    "            self.window.bind(str(key), lambda event, digit=key: self.add_to_expression(digit))\n",
    "\n",
    "        for key in self.operations:\n",
    "            self.window.bind(key, lambda event, operator=key: self.append_operator(operator))\n"
   ]
  },
  {
   "cell_type": "code",
   "execution_count": 7,
   "metadata": {},
   "outputs": [],
   "source": [
    "def create_special_buttons(self):\n",
    "        self.create_clear_button()\n",
    "        self.create_equals_button()\n",
    "        self.create_square_button()\n",
    "        self.create_sqrt_button()"
   ]
  },
  {
   "cell_type": "code",
   "execution_count": null,
   "metadata": {},
   "outputs": [],
   "source": [
    "def create_display_labels(self):\n",
    "        total_label = tk.Label(self.display_frame, text=self.total_expression, anchor=tk.E, bg=LIGHT_GRAY,\n",
    "                               fg=\"lable_color\", padx=24, font=SMALL_FONT_STYLE)\n",
    "        total_label.pack(expand=True, fill='both')\n",
    "\n",
    "        label = tk.Label(self.display_frame, text=self.current_expression, anchor=tk.E, bg=LIGHT_GRAY,\n",
    "                         fg=LABEL_COLOR, padx=24, font=LARGE_FONT_STYLE)\n",
    "        label.pack(expand=True, fill='both')\n",
    "\n",
    "        return total_label, label"
   ]
  }
 ],
 "metadata": {
  "kernelspec": {
   "display_name": "Python 3",
   "language": "python",
   "name": "python3"
  },
  "language_info": {
   "codemirror_mode": {
    "name": "ipython",
    "version": 3
   },
   "file_extension": ".py",
   "mimetype": "text/x-python",
   "name": "python",
   "nbconvert_exporter": "python",
   "pygments_lexer": "ipython3",
   "version": "3.11.3"
  },
  "orig_nbformat": 4
 },
 "nbformat": 4,
 "nbformat_minor": 2
}
