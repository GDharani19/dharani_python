{
 "cells": [
  {
   "cell_type": "markdown",
   "metadata": {},
   "source": [
    "* Filter Map and Reduce in Python\n",
    "\n",
    "- Use of filter(), map() and reduce() functions\n",
    "- How lambda function can be used with filter map and reduce\n",
    "- Syntax of Filter, Map and reduce function\n",
    "- Difference between filter(), map() and reduce() functions\n",
    "\n",
    "\n",
    "#1\n",
    "- Lambda function can be used with these three functions:\n",
    "1. filter()\n",
    "2. map()\n",
    "3. reduce()\n",
    "\n",
    "#2\n",
    "- filter() function will take a list and do filtering and give values.\n",
    "- filter() takes a sequence and also returns a sequence.\n",
    "- filter() function takes two arguments: function and iterable.\n",
    " filter(func, iterable)\n",
    "- We have to give the definition of a function that we have passed as a condition in an argument.\n",
    "- The defined function should return a value of either True or False based on the condition.\n",
    "- Then, filter() will take the value that is returned by the defined function and does perform filtering based on this value.\n",
    "- In the defined function, we need only two things i.e, a variable and an expression. So, we can also use the lambda function instead of using the normal function to define the condition for a filter.\n",
    "-Lambda reduces the number of lines of code and makes it more precise.\n",
    "- Filter() simply returns the iterable passed to it. \n",
    "\n",
    "#3\n",
    "- map() function is used when we want to change the value of every element of a list.\n",
    "- map() function also takes two arguments i.e., a function and an iterable.\n",
    " map(func, *iterables)\n",
    "-  To get the result as a list, the built-in list() function can be called on the map object.\n",
    "- We have to define a function that we have passed as a condition in an argument.\n",
    "- The defined function should return any value. \n",
    "- The lambda function can also be used in an argument as a function instead of defining the normal function for the logic.\n",
    "- map() function returns a list. The function returns a map object which is a generator object.\n",
    "\n",
    "#4\n",
    "- reduce() function is used to reduce the number of values from a list.\n",
    "- reduce() function belongs to a module known as functools.\n",
    "- We have to import the module functools from the library to use the reduce function.\n",
    "- reduce() also take two arguments i.e., a function and a sequence.\n",
    " reduce(func, iterable[, initial])\n",
    "- We have to give the definition of a function that we have passed as a condition in an argument.\n",
    "- The lambda function can also be used in an argument as a function instead of defining the normal function for the logic.\n"
   ]
  },
  {
   "cell_type": "code",
   "execution_count": 1,
   "metadata": {},
   "outputs": [
    {
     "name": "stdout",
     "output_type": "stream",
     "text": [
      "[2, 4, 6, 8]\n"
     ]
    }
   ],
   "source": [
    "# wap to print the even numbers from the list using filter function\n",
    "\n",
    "def is_even(n):\n",
    "    return n%2==0\n",
    "\n",
    "nums=[3,2,4,5,6,7,8,9]\n",
    "evens=list(filter(is_even,nums))\n",
    "print(evens)"
   ]
  },
  {
   "cell_type": "code",
   "execution_count": null,
   "metadata": {},
   "outputs": [],
   "source": [
    "# wap to print the even numbers from the list using filter function and lambda function"
   ]
  },
  {
   "cell_type": "code",
   "execution_count": 4,
   "metadata": {},
   "outputs": [
    {
     "name": "stdout",
     "output_type": "stream",
     "text": [
      "[2, 4, 6, 8]\n"
     ]
    }
   ],
   "source": [
    "nums=[3,2,4,5,6,7,8,9]\n",
    "evens=list(filter(lambda n : n%2==0,nums))\n",
    "print(evens)"
   ]
  },
  {
   "cell_type": "code",
   "execution_count": 8,
   "metadata": {},
   "outputs": [
    {
     "name": "stdout",
     "output_type": "stream",
     "text": [
      "[4, 8, 12, 16]\n"
     ]
    }
   ],
   "source": [
    "# wap to print double the numbers from the list using filter function  \n",
    "\n",
    "def update(n):\n",
    "    return n*2\n",
    "\n",
    "nums=[3,2,4,5,6,7,8,9]\n",
    "evens=list(filter(is_even,nums))\n",
    "doubles=list(map(update,evens))\n",
    "print(doubles)"
   ]
  },
  {
   "cell_type": "code",
   "execution_count": 15,
   "metadata": {},
   "outputs": [
    {
     "name": "stdout",
     "output_type": "stream",
     "text": [
      "[4, 8, 12, 16]\n",
      "40\n"
     ]
    }
   ],
   "source": [
    "from functools import reduce\n",
    "nums=[3,2,4,5,6,7,8,9]\n",
    "sum=reduce(lambda a,b : a+b,doubles)\n",
    "print(doubles)\n",
    "print(sum)"
   ]
  },
  {
   "cell_type": "code",
   "execution_count": 9,
   "metadata": {},
   "outputs": [
    {
     "data": {
      "text/plain": [
       "{1: 2, 3: 4, 5: 6}"
      ]
     },
     "execution_count": 9,
     "metadata": {},
     "output_type": "execute_result"
    }
   ],
   "source": [
    "l=((1,2),(3,4),(5,6))\n",
    "dict(l)"
   ]
  },
  {
   "cell_type": "code",
   "execution_count": 10,
   "metadata": {},
   "outputs": [
    {
     "data": {
      "text/plain": [
       "{1: 2, 3: 4, 5: 6}"
      ]
     },
     "execution_count": 10,
     "metadata": {},
     "output_type": "execute_result"
    }
   ],
   "source": [
    "l=((1,2),(3,4),(5,6))\n",
    "dict(l)"
   ]
  },
  {
   "cell_type": "code",
   "execution_count": 11,
   "metadata": {},
   "outputs": [
    {
     "data": {
      "text/plain": [
       "{1: 2, 3: 4, 5: 6}"
      ]
     },
     "execution_count": 11,
     "metadata": {},
     "output_type": "execute_result"
    }
   ],
   "source": [
    "l={(1,2),(3,4),(5,6)}\n",
    "dict(l)"
   ]
  }
 ],
 "metadata": {
  "kernelspec": {
   "display_name": "Python 3",
   "language": "python",
   "name": "python3"
  },
  "language_info": {
   "codemirror_mode": {
    "name": "ipython",
    "version": 3
   },
   "file_extension": ".py",
   "mimetype": "text/x-python",
   "name": "python",
   "nbconvert_exporter": "python",
   "pygments_lexer": "ipython3",
   "version": "3.11.3"
  },
  "orig_nbformat": 4
 },
 "nbformat": 4,
 "nbformat_minor": 2
}
