{
 "cells": [
  {
   "cell_type": "code",
   "execution_count": 30,
   "metadata": {},
   "outputs": [
    {
     "ename": "OperationalError",
     "evalue": "table student already exists",
     "output_type": "error",
     "traceback": [
      "\u001b[1;31m---------------------------------------------------------------------------\u001b[0m",
      "\u001b[1;31mOperationalError\u001b[0m                          Traceback (most recent call last)",
      "Cell \u001b[1;32mIn[30], line 17\u001b[0m\n\u001b[0;32m     14\u001b[0m \u001b[39m@dbconnection\u001b[39m\n\u001b[0;32m     15\u001b[0m \u001b[39mdef\u001b[39;00m \u001b[39mcreate\u001b[39m(dbconn,cursor):\n\u001b[0;32m     16\u001b[0m     cursor\u001b[39m.\u001b[39mexecute(\u001b[39m\"\u001b[39m\u001b[39mcreate table student (id int,name varchar(20))\u001b[39m\u001b[39m\"\u001b[39m)\n\u001b[1;32m---> 17\u001b[0m create()\n\u001b[0;32m     19\u001b[0m \u001b[39m@dbconnection\u001b[39m\n\u001b[0;32m     20\u001b[0m \u001b[39mdef\u001b[39;00m \u001b[39minsert\u001b[39m(dbconn,cursor):\n\u001b[0;32m     21\u001b[0m     \u001b[39mid\u001b[39m\u001b[39m=\u001b[39m\u001b[39mint\u001b[39m(\u001b[39minput\u001b[39m(\u001b[39m\"\u001b[39m\u001b[39mEnter the ID:\u001b[39m\u001b[39m\"\u001b[39m))\n",
      "Cell \u001b[1;32mIn[30], line 6\u001b[0m, in \u001b[0;36mdbconnection.<locals>.inner\u001b[1;34m(*args, **kwargs)\u001b[0m\n\u001b[0;32m      4\u001b[0m dbconn\u001b[39m=\u001b[39msqlite3\u001b[39m.\u001b[39mconnect(\u001b[39m'\u001b[39m\u001b[39mstudent.db\u001b[39m\u001b[39m'\u001b[39m)\n\u001b[0;32m      5\u001b[0m cursor\u001b[39m=\u001b[39mdbconn\u001b[39m.\u001b[39mcursor()\n\u001b[1;32m----> 6\u001b[0m res\u001b[39m=\u001b[39mfunc(dbconn,cursor,\u001b[39m*\u001b[39;49margs,\u001b[39m*\u001b[39;49m\u001b[39m*\u001b[39;49mkwargs,)\n\u001b[0;32m      7\u001b[0m \u001b[39mprint\u001b[39m(cursor\u001b[39m.\u001b[39mrowcount,\u001b[39m'\u001b[39m\u001b[39mrecord is affected\u001b[39m\u001b[39m'\u001b[39m)\n\u001b[0;32m      8\u001b[0m dbconn\u001b[39m.\u001b[39mcommit()\n",
      "Cell \u001b[1;32mIn[30], line 16\u001b[0m, in \u001b[0;36mcreate\u001b[1;34m(dbconn, cursor)\u001b[0m\n\u001b[0;32m     14\u001b[0m \u001b[39m@dbconnection\u001b[39m\n\u001b[0;32m     15\u001b[0m \u001b[39mdef\u001b[39;00m \u001b[39mcreate\u001b[39m(dbconn,cursor):\n\u001b[1;32m---> 16\u001b[0m     cursor\u001b[39m.\u001b[39;49mexecute(\u001b[39m\"\u001b[39;49m\u001b[39mcreate table student (id int,name varchar(20))\u001b[39;49m\u001b[39m\"\u001b[39;49m)\n",
      "\u001b[1;31mOperationalError\u001b[0m: table student already exists"
     ]
    }
   ],
   "source": [
    "import sqlite3\n",
    "def dbconnection(func):\n",
    "    def inner(*args,**kwargs):\n",
    "        dbconn=sqlite3.connect('student.db')\n",
    "        cursor=dbconn.cursor()\n",
    "        res=func(dbconn,cursor,*args,**kwargs,)\n",
    "        print(cursor.rowcount,'record is affected')\n",
    "        dbconn.commit()\n",
    "        dbconn.close()\n",
    "        return res\n",
    "    return inner\n",
    "\n",
    "\n",
    "@dbconnection\n",
    "def create(dbconn,cursor):\n",
    "    cursor.execute(\"create table student (id int,name varchar(20))\")\n",
    "create()\n",
    "\n",
    "@dbconnection\n",
    "def insert(dbconn,cursor):\n",
    "    id=int(input(\"Enter the ID:\"))\n",
    "    name=input(\"Enter the Name:\")\n",
    "    val=[id,name]\n",
    "    cursor.execute(\"insert into student(id,name) values(?,?)\",val)\n",
    "    print(cursor.rowcount,'record is affected')\n",
    "#insert()    \n",
    "\n",
    "\n",
    "@dbconnection\n",
    "def select(dbconn,cursor):\n",
    "    cursor.execute(\"select * from student\")\n",
    "    res=cursor.fetchall()\n",
    "    for i in res:\n",
    "        print(i)\n",
    "select()        \n",
    "\n",
    "@dbconnection\n",
    "def update(dbconn,cursor):\n",
    "    cursor.execute(\"update student set name=? where id=2\",['seetha ram'])\n",
    "\n",
    "    \n",
    "@dbconnection\n",
    "def delete(dbconn,cursor):\n",
    "    cursor.execute(\"delete from student where id=3\")\n",
    "        \n",
    "delete()                    "
   ]
  },
  {
   "cell_type": "code",
   "execution_count": 27,
   "metadata": {},
   "outputs": [
    {
     "ename": "OperationalError",
     "evalue": "no such table: BankAccount",
     "output_type": "error",
     "traceback": [
      "\u001b[1;31m---------------------------------------------------------------------------\u001b[0m",
      "\u001b[1;31mOperationalError\u001b[0m                          Traceback (most recent call last)",
      "Cell \u001b[1;32mIn[27], line 33\u001b[0m\n\u001b[0;32m     29\u001b[0m     val\u001b[39m=\u001b[39m[accountnum,name,email,password,phone,ifsc,balance]\n\u001b[0;32m     30\u001b[0m     cursor\u001b[39m.\u001b[39mexecute(\u001b[39m\"\u001b[39m\u001b[39minsert into BankAccount (accountnum,name,email,password,phone,ifsc,balance) values (?,?,?,?,?,?,?)\u001b[39m\u001b[39m\"\u001b[39m,val)\n\u001b[1;32m---> 33\u001b[0m insert()    \n\u001b[0;32m     35\u001b[0m \u001b[39m@dbconnection\u001b[39m\n\u001b[0;32m     36\u001b[0m \u001b[39mdef\u001b[39;00m \u001b[39mselect\u001b[39m(dbconn,cursor):\n\u001b[0;32m     37\u001b[0m         cursor\u001b[39m.\u001b[39mexecute(\u001b[39m\"\u001b[39m\u001b[39mselect * from Bank Account\u001b[39m\u001b[39m\"\u001b[39m)\n",
      "Cell \u001b[1;32mIn[27], line 6\u001b[0m, in \u001b[0;36mdbconnection.<locals>.inner\u001b[1;34m(*args, **kwargs)\u001b[0m\n\u001b[0;32m      4\u001b[0m dbconn\u001b[39m=\u001b[39msqlite3\u001b[39m.\u001b[39mconnect(\u001b[39m'\u001b[39m\u001b[39mBankAccount.db\u001b[39m\u001b[39m'\u001b[39m)\n\u001b[0;32m      5\u001b[0m cursor\u001b[39m=\u001b[39mdbconn\u001b[39m.\u001b[39mcursor()\n\u001b[1;32m----> 6\u001b[0m res\u001b[39m=\u001b[39mfunc(dbconn,cursor,\u001b[39m*\u001b[39;49margs,\u001b[39m*\u001b[39;49m\u001b[39m*\u001b[39;49mkwargs,)\n\u001b[0;32m      7\u001b[0m \u001b[39mprint\u001b[39m(cursor\u001b[39m.\u001b[39mrowcount,\u001b[39m'\u001b[39m\u001b[39mrecord is affected\u001b[39m\u001b[39m'\u001b[39m)\n\u001b[0;32m      8\u001b[0m dbconn\u001b[39m.\u001b[39mcommit()\n",
      "Cell \u001b[1;32mIn[27], line 30\u001b[0m, in \u001b[0;36minsert\u001b[1;34m(dbconn, cursor)\u001b[0m\n\u001b[0;32m     28\u001b[0m balance\u001b[39m=\u001b[39m\u001b[39mint\u001b[39m(\u001b[39minput\u001b[39m(\u001b[39m\"\u001b[39m\u001b[39mEnter the balance:\u001b[39m\u001b[39m\"\u001b[39m))\n\u001b[0;32m     29\u001b[0m val\u001b[39m=\u001b[39m[accountnum,name,email,password,phone,ifsc,balance]\n\u001b[1;32m---> 30\u001b[0m cursor\u001b[39m.\u001b[39;49mexecute(\u001b[39m\"\u001b[39;49m\u001b[39minsert into BankAccount (accountnum,name,email,password,phone,ifsc,balance) values (?,?,?,?,?,?,?)\u001b[39;49m\u001b[39m\"\u001b[39;49m,val)\n",
      "\u001b[1;31mOperationalError\u001b[0m: no such table: BankAccount"
     ]
    }
   ],
   "source": [
    "import sqlite3\n",
    "def dbconnection(func):\n",
    "    def inner(*args,**kwargs):\n",
    "        dbconn=sqlite3.connect('Bank Account.db')\n",
    "        cursor=dbconn.cursor()\n",
    "        res=func(dbconn,cursor,*args,**kwargs,)\n",
    "        print(cursor.rowcount,'record is affected')\n",
    "        dbconn.commit()\n",
    "        dbconn.close()\n",
    "        return res\n",
    "    return inner\n",
    "\n",
    "@dbconnection\n",
    "def id_inc\n",
    "\n",
    "\n",
    "@dbconnection\n",
    "def create(dbconn,cursor):\n",
    "    cursor.execute(\"create table Bank Account (accountnum int,name varchar(20),email varchar(20),password varchar(10),phone int(10),ifsc varchar(10),balance int)\")\n",
    "#create()\n",
    "\n",
    "@dbconnection\n",
    "def insert(dbconn,cursor):\n",
    "    accountnum =int(input(\"Enter the account number:\"))\n",
    "    name=input(\"Enter the Name:\")\n",
    "    email=input(\"Enter the email:\")\n",
    "    password=input(\"Enter the password:\")\n",
    "    phone=int(input(\"Enter the phone:\"))\n",
    "    ifsc=input(\"Enter the ifsc:\")\n",
    "    balance=int(input(\"Enter the balance:\"))\n",
    "    val=[accountnum,name,email,password,phone,ifsc,balance]\n",
    "    cursor.execute(\"insert into Bank Account (accountnum,name,email,password,phone,ifsc,balance) values (?,?,?,?,?,?,?)\",val)\n",
    "   \n",
    "\n",
    "insert()    \n",
    "   \n",
    "@dbconnection\n",
    "def select(dbconn,cursor):\n",
    "        cursor.execute(\"select * from Bank Account\")\n",
    "        res=cursor.fetchall()\n",
    "        for i in res:\n",
    "            print(i)\n",
    "select()            \n",
    "\n",
    "\n"
   ]
  },
  {
   "cell_type": "code",
   "execution_count": 24,
   "metadata": {},
   "outputs": [
    {
     "name": "stdout",
     "output_type": "stream",
     "text": [
      "<sqlite3.Connection object at 0x0000023E5579F3D0>\n"
     ]
    },
    {
     "ename": "OperationalError",
     "evalue": "no such table: dept",
     "output_type": "error",
     "traceback": [
      "\u001b[1;31m---------------------------------------------------------------------------\u001b[0m",
      "\u001b[1;31mOperationalError\u001b[0m                          Traceback (most recent call last)",
      "Cell \u001b[1;32mIn[24], line 5\u001b[0m\n\u001b[0;32m      3\u001b[0m \u001b[39mprint\u001b[39m(db)\n\u001b[0;32m      4\u001b[0m cur\u001b[39m=\u001b[39mdb\u001b[39m.\u001b[39mcursor()\n\u001b[1;32m----> 5\u001b[0m cur\u001b[39m.\u001b[39;49mexecute(\u001b[39m\"\u001b[39;49m\u001b[39mselect bal from dept where id=1\u001b[39;49m\u001b[39m\"\u001b[39;49m)\n\u001b[0;32m      6\u001b[0m res\u001b[39m=\u001b[39mcur\u001b[39m.\u001b[39mfetchone()\n\u001b[0;32m      7\u001b[0m cur\u001b[39m.\u001b[39mexecute(\u001b[39m\"\u001b[39m\u001b[39mupdate dept set bal=? where id=1\u001b[39m\u001b[39m\"\u001b[39m,[res[\u001b[39m0\u001b[39m]\u001b[39m+\u001b[39m\u001b[39m1500\u001b[39m])\n",
      "\u001b[1;31mOperationalError\u001b[0m: no such table: dept"
     ]
    }
   ],
   "source": [
    "import sqlite3\n",
    "db=sqlite3.connect('details.db')\n",
    "print(db)\n",
    "cur=db.cursor()\n",
    "cur.execute(\"select bal from dept where id=1\")\n",
    "res=cur.fetchone()\n",
    "cur.execute(\"update dept set bal=? where id=1\",[res[0]+1500])\n",
    "db.commit()\n",
    "db.close()"
   ]
  },
  {
   "cell_type": "code",
   "execution_count": 23,
   "metadata": {},
   "outputs": [
    {
     "name": "stdout",
     "output_type": "stream",
     "text": [
      "<sqlite3.Connection object at 0x0000023E556C2D40>\n"
     ]
    },
    {
     "ename": "OperationalError",
     "evalue": "no such table: dept",
     "output_type": "error",
     "traceback": [
      "\u001b[1;31m---------------------------------------------------------------------------\u001b[0m",
      "\u001b[1;31mOperationalError\u001b[0m                          Traceback (most recent call last)",
      "Cell \u001b[1;32mIn[23], line 5\u001b[0m\n\u001b[0;32m      3\u001b[0m \u001b[39mprint\u001b[39m(db)\n\u001b[0;32m      4\u001b[0m cur\u001b[39m=\u001b[39mdb\u001b[39m.\u001b[39mcursor()\n\u001b[1;32m----> 5\u001b[0m cur\u001b[39m.\u001b[39;49mexecute(\u001b[39m\"\u001b[39;49m\u001b[39mupdate dept set bal=(select bal from dept where id=1)+? where id=1 \u001b[39;49m\u001b[39m\"\u001b[39;49m,[\u001b[39mint\u001b[39;49m(\u001b[39minput\u001b[39;49m(\u001b[39m\"\u001b[39;49m\u001b[39menter the value:\u001b[39;49m\u001b[39m\"\u001b[39;49m))])\n\u001b[0;32m      6\u001b[0m db\u001b[39m.\u001b[39mcommit()\n\u001b[0;32m      7\u001b[0m db\u001b[39m.\u001b[39mclose()\n",
      "\u001b[1;31mOperationalError\u001b[0m: no such table: dept"
     ]
    }
   ],
   "source": [
    "import sqlite3\n",
    "db=sqlite3.connect('details.db')\n",
    "print(db)\n",
    "cur=db.cursor()\n",
    "cur.execute(\"update dept set bal=(select bal from dept where id=1)+? where id=1 \",[int(input(\"enter the value:\"))])\n",
    "db.commit()\n",
    "db.close()"
   ]
  }
 ],
 "metadata": {
  "kernelspec": {
   "display_name": "Python 3",
   "language": "python",
   "name": "python3"
  },
  "language_info": {
   "codemirror_mode": {
    "name": "ipython",
    "version": 3
   },
   "file_extension": ".py",
   "mimetype": "text/x-python",
   "name": "python",
   "nbconvert_exporter": "python",
   "pygments_lexer": "ipython3",
   "version": "3.11.3"
  },
  "orig_nbformat": 4
 },
 "nbformat": 4,
 "nbformat_minor": 2
}
