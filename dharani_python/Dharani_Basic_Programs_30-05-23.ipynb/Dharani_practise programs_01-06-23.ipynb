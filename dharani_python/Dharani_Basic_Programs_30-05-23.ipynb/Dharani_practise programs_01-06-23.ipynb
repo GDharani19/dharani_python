{
 "cells": [
  {
   "cell_type": "code",
   "execution_count": 31,
   "metadata": {},
   "outputs": [
    {
     "name": "stdout",
     "output_type": "stream",
     "text": [
      "[10, 20, 'hello', 'haii', 'dharani']\n",
      "['usha', 20, 'hello', 'haii', 'abc']\n",
      "[10, 20, 'shobha', 'hello', 'haii', 'abc']\n"
     ]
    }
   ],
   "source": [
    "l=[10,20,\"hello\",\"haii\",\"abc\"]   # modification of ending element\n",
    "l[-1]=\"dharani\"\n",
    "print(l)\n",
    "\n",
    "l=[10,20,\"hello\",\"haii\",\"abc\"]  # modification of ending element\n",
    "l[0]=\"usha\"\n",
    "print(l)\n",
    "\n",
    "l=[10,20,\"hello\",\"haii\",\"abc\"]   # modification of middle element\n",
    "l[len(l)//2:len(l)//2]=[\"shobha\"]\n",
    "print(l)"
   ]
  },
  {
   "cell_type": "code",
   "execution_count": 27,
   "metadata": {},
   "outputs": [
    {
     "name": "stdout",
     "output_type": "stream",
     "text": [
      "[10, 20, 'hello', 'haii', 'abc', 'dharani']\n",
      "['durga', 10, 20, 'hello', 'haii', 'abc', 'dharani']\n",
      "1535318412352\n",
      "[10, 20, 'hello', 'priya', 'haii', 'abc', '123']\n",
      "1535318418688\n"
     ]
    }
   ],
   "source": [
    "l=[10,20,\"hello\",\"haii\",\"abc\"]   # concatenate ending of the given list\n",
    "l[5:5]=[\"dharani\"]\n",
    "print(l)\n",
    "\n",
    "l[0:0]=[\"durga\"]                 # concatenate starting of the given list\n",
    "print(l)\n",
    "print(id(l))\n",
    "\n",
    "l=[10,20,\"hello\",\"haii\",\"abc\",\"123\"]   # concatenate middle of the given list\n",
    "l=l[:len(l)//2]+[\"priya\"]+l[len(l)//2:]\n",
    "print(l)\n",
    "print(id(l))"
   ]
  },
  {
   "cell_type": "code",
   "execution_count": 38,
   "metadata": {},
   "outputs": [
    {
     "name": "stdout",
     "output_type": "stream",
     "text": [
      "[20, 'hello', 'haii', 'abc']\n",
      "[10, 20, 'hello', 'haii']\n",
      "[10, 20, 'haii', 'abc']\n"
     ]
    }
   ],
   "source": [
    "l=[10,20,\"hello\",\"haii\",\"abc\"]   # del of starting element\n",
    "del l[0]\n",
    "print(l)\n",
    "\n",
    "l=[10,20,\"hello\",\"haii\",\"abc\"]   # del of ending element\n",
    "del l[-1]\n",
    "print(l)\n",
    "\n",
    "l=[10,20,\"hello\",\"haii\",\"abc\"]   # del of the middle element\n",
    "del l[len(l)//2]\n",
    "print(l)"
   ]
  }
 ],
 "metadata": {
  "kernelspec": {
   "display_name": "Python 3",
   "language": "python",
   "name": "python3"
  },
  "language_info": {
   "codemirror_mode": {
    "name": "ipython",
    "version": 3
   },
   "file_extension": ".py",
   "mimetype": "text/x-python",
   "name": "python",
   "nbconvert_exporter": "python",
   "pygments_lexer": "ipython3",
   "version": "3.11.3"
  },
  "orig_nbformat": 4
 },
 "nbformat": 4,
 "nbformat_minor": 2
}
