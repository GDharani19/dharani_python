{
 "cells": [
  {
   "cell_type": "code",
   "execution_count": 31,
   "metadata": {},
   "outputs": [
    {
     "name": "stdout",
     "output_type": "stream",
     "text": [
      "[10, 20, 'hello', 'haii', 'dharani']\n",
      "['usha', 20, 'hello', 'haii', 'abc']\n",
      "[10, 20, 'shobha', 'hello', 'haii', 'abc']\n"
     ]
    }
   ],
   "source": [
    "l=[10,20,\"hello\",\"haii\",\"abc\"]   # modification of ending element\n",
    "l[-1]=\"dharani\"\n",
    "print(l)\n",
    "\n",
    "l=[10,20,\"hello\",\"haii\",\"abc\"]  # modification of ending element\n",
    "l[0]=\"usha\"\n",
    "print(l)\n",
    "\n",
    "l=[10,20,\"hello\",\"haii\",\"abc\"]   # modification of middle element\n",
    "l[len(l)//2:len(l)//2]=[\"shobha\"]\n",
    "print(l)"
   ]
  },
  {
   "cell_type": "code",
   "execution_count": 27,
   "metadata": {},
   "outputs": [
    {
     "name": "stdout",
     "output_type": "stream",
     "text": [
      "[10, 20, 'hello', 'haii', 'abc', 'dharani']\n",
      "['durga', 10, 20, 'hello', 'haii', 'abc', 'dharani']\n",
      "1535318412352\n",
      "[10, 20, 'hello', 'priya', 'haii', 'abc', '123']\n",
      "1535318418688\n"
     ]
    }
   ],
   "source": [
    "l=[10,20,\"hello\",\"haii\",\"abc\"]   # concatenate ending of the given list\n",
    "l[5:5]=[\"dharani\"]\n",
    "print(l)\n",
    "\n",
    "l[0:0]=[\"durga\"]                 # concatenate starting of the given list\n",
    "print(l)\n",
    "print(id(l))\n",
    "\n",
    "l=[10,20,\"hello\",\"haii\",\"abc\",\"123\"]   # concatenate middle of the given list\n",
    "l=l[:len(l)//2]+[\"priya\"]+l[len(l)//2:]\n",
    "print(l)\n",
    "print(id(l))"
   ]
  },
  {
   "cell_type": "code",
   "execution_count": 40,
   "metadata": {},
   "outputs": [
    {
     "name": "stdout",
     "output_type": "stream",
     "text": [
      "[20, 'hello', 'haii', 'abc']\n",
      "[10, 20, 'hello', 'haii']\n",
      "[10, 20, 'haii', 'abc']\n"
     ]
    }
   ],
   "source": [
    "l=[10,20,\"hello\",\"haii\",\"abc\"]   # del of starting element\n",
    "del l[0]\n",
    "print(l)\n",
    "\n",
    "l=[10,20,\"hello\",\"haii\",\"abc\"]   # del of ending element\n",
    "del l[-1]\n",
    "print(l)\n",
    "\n",
    "l=[10,20,\"hello\",\"haii\",\"abc\"]   # del of the middle element\n",
    "del l[len(l)//2]\n",
    "print(l)\n"
   ]
  },
  {
   "attachments": {},
   "cell_type": "markdown",
   "metadata": {},
   "source": [
    "1."
   ]
  },
  {
   "cell_type": "code",
   "execution_count": 1,
   "metadata": {},
   "outputs": [
    {
     "name": "stdout",
     "output_type": "stream",
     "text": [
      "Hello World\n"
     ]
    }
   ],
   "source": [
    "a=\"Hello World\"\n",
    "print(a)"
   ]
  },
  {
   "cell_type": "code",
   "execution_count": null,
   "metadata": {},
   "outputs": [],
   "source": [
    "2."
   ]
  },
  {
   "cell_type": "code",
   "execution_count": 2,
   "metadata": {},
   "outputs": [
    {
     "name": "stdout",
     "output_type": "stream",
     "text": [
      "Hello World\n"
     ]
    }
   ],
   "source": [
    "print(\"Hello World\")"
   ]
  },
  {
   "attachments": {},
   "cell_type": "markdown",
   "metadata": {},
   "source": [
    "3."
   ]
  },
  {
   "cell_type": "code",
   "execution_count": 3,
   "metadata": {},
   "outputs": [
    {
     "name": "stdout",
     "output_type": "stream",
     "text": [
      "50\n"
     ]
    }
   ],
   "source": [
    "a=50\n",
    "print(a)"
   ]
  },
  {
   "attachments": {},
   "cell_type": "markdown",
   "metadata": {},
   "source": [
    "4."
   ]
  },
  {
   "cell_type": "code",
   "execution_count": 5,
   "metadata": {},
   "outputs": [
    {
     "name": "stdout",
     "output_type": "stream",
     "text": [
      "150\n",
      "120\n",
      "250\n"
     ]
    }
   ],
   "source": [
    "a=150\n",
    "b=120\n",
    "c=250\n",
    "print(a)\n",
    "print(b)\n",
    "print(c)\n",
    "\n"
   ]
  },
  {
   "attachments": {},
   "cell_type": "markdown",
   "metadata": {},
   "source": [
    "5."
   ]
  },
  {
   "cell_type": "code",
   "execution_count": 7,
   "metadata": {},
   "outputs": [
    {
     "name": "stdout",
     "output_type": "stream",
     "text": [
      "<class 'str'>\n",
      "<class 'int'>\n"
     ]
    }
   ],
   "source": [
    "a=\"dharani\"\n",
    "print(type(a))\n",
    "\n",
    "b=10\n",
    "print(type(b))"
   ]
  },
  {
   "attachments": {},
   "cell_type": "markdown",
   "metadata": {},
   "source": [
    "6."
   ]
  },
  {
   "cell_type": "code",
   "execution_count": 9,
   "metadata": {},
   "outputs": [
    {
     "name": "stdout",
     "output_type": "stream",
     "text": [
      "140731719476296\n",
      "140731719476296\n"
     ]
    }
   ],
   "source": [
    "a=10\n",
    "print(id(10))\n",
    "print(id(a))"
   ]
  },
  {
   "attachments": {},
   "cell_type": "markdown",
   "metadata": {},
   "source": [
    "7."
   ]
  },
  {
   "cell_type": "code",
   "execution_count": 13,
   "metadata": {},
   "outputs": [
    {
     "name": "stdout",
     "output_type": "stream",
     "text": [
      "Dharani\n",
      "22\n",
      "gottamdharani7626@gmail.com\n"
     ]
    }
   ],
   "source": [
    "name =\"Dharani\"\n",
    "age = 22\n",
    "mail = \"gottamdharani7626@gmail.com\"\n",
    "print(name)\n",
    "print(age)\n",
    "print(mail)"
   ]
  },
  {
   "attachments": {},
   "cell_type": "markdown",
   "metadata": {},
   "source": [
    "8."
   ]
  },
  {
   "cell_type": "code",
   "execution_count": 14,
   "metadata": {},
   "outputs": [
    {
     "name": "stdout",
     "output_type": "stream",
     "text": [
      "20\n",
      "10\n"
     ]
    }
   ],
   "source": [
    "a=10\n",
    "b=20\n",
    "c=a\n",
    "a=b\n",
    "b=c\n",
    "print(a)\n",
    "print(b)"
   ]
  },
  {
   "attachments": {},
   "cell_type": "markdown",
   "metadata": {},
   "source": [
    "9."
   ]
  },
  {
   "cell_type": "code",
   "execution_count": 15,
   "metadata": {},
   "outputs": [
    {
     "name": "stdout",
     "output_type": "stream",
     "text": [
      "20\n",
      "10\n"
     ]
    }
   ],
   "source": [
    "a=10\n",
    "b=20\n",
    "a,b=b,a\n",
    "print(a)\n",
    "print(b)"
   ]
  },
  {
   "attachments": {},
   "cell_type": "markdown",
   "metadata": {},
   "source": [
    "10."
   ]
  },
  {
   "cell_type": "code",
   "execution_count": 17,
   "metadata": {},
   "outputs": [
    {
     "name": "stdout",
     "output_type": "stream",
     "text": [
      "20\n",
      "100\n"
     ]
    }
   ],
   "source": [
    "c=20\n",
    "print(c)\n",
    "c=100\n",
    "print(c)"
   ]
  },
  {
   "attachments": {},
   "cell_type": "markdown",
   "metadata": {},
   "source": [
    "11."
   ]
  },
  {
   "cell_type": "code",
   "execution_count": 21,
   "metadata": {},
   "outputs": [
    {
     "name": "stdout",
     "output_type": "stream",
     "text": [
      "10\n",
      "['1', '0']\n"
     ]
    }
   ],
   "source": [
    "a=10\n",
    "b=str(a)\n",
    "print(b)\n",
    "c=list(b)\n",
    "print(c)"
   ]
  },
  {
   "attachments": {},
   "cell_type": "markdown",
   "metadata": {},
   "source": [
    "12."
   ]
  },
  {
   "cell_type": "code",
   "execution_count": null,
   "metadata": {},
   "outputs": [],
   "source": [
    "a =\"dharani\"\n",
    "\n"
   ]
  },
  {
   "cell_type": "code",
   "execution_count": 1,
   "metadata": {},
   "outputs": [
    {
     "name": "stdout",
     "output_type": "stream",
     "text": [
      "(12, 'dharani', 45.56, 12, 90, 'usha', [13, 34, 35], 'durga')\n",
      "(12, 'dharani', 45.56, 12, 'priyanka', 90, 'usha', [13, 34, 35], 'durga')\n",
      "(12, 'dharani', 45.56, 12, 'priyanka', 90, 'usha', [13, 34, 35], 'durga', 'sumathi')\n"
     ]
    }
   ],
   "source": [
    "t=(12,\"dharani\",45.56,12,90,\"usha\",[13,34,35],\"durga\")\n",
    "print(t)\n",
    "t=t[:len(t)//2]+(\"priyanka\",)+t[len(t)//2:]\n",
    "print(t)\n",
    "\n",
    "t=t+(\"sumathi\",)\n",
    "print(t)"
   ]
  },
  {
   "cell_type": "code",
   "execution_count": 4,
   "metadata": {},
   "outputs": [
    {
     "data": {
      "text/plain": [
       "'DhaRAni'"
      ]
     },
     "execution_count": 4,
     "metadata": {},
     "output_type": "execute_result"
    }
   ],
   "source": [
    "st=\"Dharani\"  \n",
    "st[:3]+\"RA\"+st[5:]"
   ]
  },
  {
   "cell_type": "code",
   "execution_count": 16,
   "metadata": {},
   "outputs": [
    {
     "name": "stdout",
     "output_type": "stream",
     "text": [
      "dh123456i\n",
      "dhbrani\n",
      "dharan\n",
      "arani\n",
      "dhrani\n",
      "dhani\n"
     ]
    }
   ],
   "source": [
    "st=\"dharani\"  \n",
    "print(st[:2]+\"123456\"+st[6:])\n",
    "print(st[:2]+\"b\"+st[2+1:])\n",
    "print(st[:5+1:+1])\n",
    "print(st[2::+1])\n",
    "print(st[:2]+st[2+1:])\n",
    "print(st[:2]+st[4:])"
   ]
  },
  {
   "cell_type": "code",
   "execution_count": 20,
   "metadata": {},
   "outputs": [
    {
     "name": "stdout",
     "output_type": "stream",
     "text": [
      "hello12345world\n"
     ]
    }
   ],
   "source": [
    "st=\"hello world\"\n",
    "print(st[:5]+\"12345\"+st[5+1:])"
   ]
  },
  {
   "cell_type": "code",
   "execution_count": 27,
   "metadata": {},
   "outputs": [
    {
     "name": "stdout",
     "output_type": "stream",
     "text": [
      "10\n",
      "[30, 40]\n",
      "[10, 20, 30, 40, 50]\n",
      "[10, 20, 30, 100, 40, 50]\n"
     ]
    }
   ],
   "source": [
    "l=[10,20,30,40,50]\n",
    "print(l[0])\n",
    "print(l[2:3+1:+1])\n",
    "print(l)\n",
    "l[3:3]=[100]\n",
    "print(l)"
   ]
  },
  {
   "cell_type": "code",
   "execution_count": 1,
   "metadata": {},
   "outputs": [
    {
     "name": "stdout",
     "output_type": "stream",
     "text": [
      "[40, 10, 50, 20, 30]\n"
     ]
    }
   ],
   "source": [
    "l=[10,10,20,20,30,40,50,50]\n",
    "res=list(set(l))\n",
    "print(res)"
   ]
  },
  {
   "cell_type": "code",
   "execution_count": 4,
   "metadata": {},
   "outputs": [
    {
     "name": "stdout",
     "output_type": "stream",
     "text": [
      "[10]\n",
      "[10]\n",
      "[10, 20]\n",
      "[10, 20]\n",
      "[10, 20, 30]\n",
      "[10, 20, 30, 40]\n",
      "[10, 20, 30, 40, 50]\n",
      "[10, 20, 30, 40, 50]\n"
     ]
    }
   ],
   "source": [
    "l=[10,10,20,20,30,40,50,50]\n",
    "res=[]\n",
    "for i in l:\n",
    "    if i not in res:\n",
    "        res+=[i]\n",
    "    print(res)    \n",
    "    "
   ]
  },
  {
   "cell_type": "code",
   "execution_count": 7,
   "metadata": {},
   "outputs": [
    {
     "name": "stdout",
     "output_type": "stream",
     "text": [
      "inarahd\n",
      "dharani\n",
      "rani\n",
      "rahd\n",
      "daai\n",
      "iaad\n"
     ]
    }
   ],
   "source": [
    "st=\"dharani\"  \n",
    "print(st[::-1])\n",
    "print(st[::+1])\n",
    "print(st[3::+1])\n",
    "print(st[3::-1])\n",
    "print(st[::+2])\n",
    "print(st[::-2])"
   ]
  },
  {
   "cell_type": "code",
   "execution_count": 13,
   "metadata": {},
   "outputs": [
    {
     "name": "stdout",
     "output_type": "stream",
     "text": [
      "dh12345arani\n",
      "dh12345rani\n",
      "dh12345ni\n"
     ]
    }
   ],
   "source": [
    "st=\"dharani\"  \n",
    "print(st[:2]+\"12345\"+st[2:])\n",
    "print(st[:2]+\"12345\"+st[2+1:])\n",
    "print(st[:2]+\"12345\"+st[5:])\n"
   ]
  },
  {
   "cell_type": "code",
   "execution_count": 22,
   "metadata": {},
   "outputs": [
    {
     "name": "stdout",
     "output_type": "stream",
     "text": [
      "dha\n"
     ]
    }
   ],
   "source": [
    "st=\"dharani\"\n",
    "print(st[:3]+st[7:])"
   ]
  },
  {
   "cell_type": "code",
   "execution_count": 24,
   "metadata": {},
   "outputs": [
    {
     "name": "stdout",
     "output_type": "stream",
     "text": [
      "inarahd\n",
      "inarahd"
     ]
    }
   ],
   "source": [
    "st=\"dharani\"\n",
    "print(st[::-1])\n",
    "\n",
    "st=\"dharani\"\n",
    "start=-1\n",
    "end=-len(st)\n",
    "while start>=end:\n",
    "    print(st[start],end=\"\")\n",
    "    start-=1"
   ]
  },
  {
   "cell_type": "code",
   "execution_count": 38,
   "metadata": {},
   "outputs": [
    {
     "name": "stdout",
     "output_type": "stream",
     "text": [
      "[10, 20, 30, 40, 50, ['apple', 'banana']]\n",
      "[10, 20, 30, 40, 50, ['apple', 'banana']]\n",
      "[100, 200, 10, 20, 30, 40, 50, ['apple', 'banana']]\n",
      "[10, 20, 30, 40, 50, ['apple', 'banana']]\n",
      "[100, 200, 10, 20, 30, 40, 50, [['grapes'], 'banana']]\n",
      "[10, 20, 30, 40, 50, [['grapes'], 'banana']]\n"
     ]
    }
   ],
   "source": [
    "l=[10,20,30,40,50,[\"apple\",\"banana\"]]\n",
    "print(l)\n",
    "\n",
    "m=l.copy()\n",
    "print(m)\n",
    "l[0:0]=[100,200]\n",
    "print(l)\n",
    "print(m)\n",
    "m[5][0]=[\"grapes\"]\n",
    "print(l)\n",
    "print(m)"
   ]
  },
  {
   "cell_type": "code",
   "execution_count": 55,
   "metadata": {},
   "outputs": [
    {
     "name": "stdout",
     "output_type": "stream",
     "text": [
      "[10, 20, 30, 40, 50, ['apple', 'banana'], ('dharani', 'usha')]\n",
      "[10, 20, 30, 40, 50, ['apple', 'banana'], ('dharani', 'usha')]\n",
      "[100, 200, 10, 20, 30, 40, 50, ['apple', 'banana'], ('dharani', 'usha')]\n",
      "[10, 20, 30, 40, 50, ['apple', 'banana'], ('dharani', 'usha')]\n",
      "[100, 200, 10, 20, 30, 40, 50, ['apple', 'banana'], ('dharani', 'usha')]\n",
      "[10, 20, 30, 40, 50, ['grapes', 'banana'], ('dharani', 'usha')]\n"
     ]
    },
    {
     "ename": "TypeError",
     "evalue": "'int' object does not support item assignment",
     "output_type": "error",
     "traceback": [
      "\u001b[1;31m---------------------------------------------------------------------------\u001b[0m",
      "\u001b[1;31mTypeError\u001b[0m                                 Traceback (most recent call last)",
      "Cell \u001b[1;32mIn[55], line 13\u001b[0m\n\u001b[0;32m     10\u001b[0m \u001b[39mprint\u001b[39m(l)\n\u001b[0;32m     11\u001b[0m \u001b[39mprint\u001b[39m(m)\n\u001b[1;32m---> 13\u001b[0m l[\u001b[39m6\u001b[39;49m][\u001b[39m0\u001b[39;49m]\u001b[39m=\u001b[39m\u001b[39m\"\u001b[39m\u001b[39mnarasimha sumathi\u001b[39m\u001b[39m\"\u001b[39m\n\u001b[0;32m     14\u001b[0m \u001b[39mprint\u001b[39m(l)\n\u001b[0;32m     15\u001b[0m \u001b[39mprint\u001b[39m(m)\n",
      "\u001b[1;31mTypeError\u001b[0m: 'int' object does not support item assignment"
     ]
    }
   ],
   "source": [
    "l=[10,20,30,40,50,[\"apple\",\"banana\"],(\"dharani\",\"usha\")]\n",
    "print(l)\n",
    "import copy\n",
    "m=copy.deepcopy(l)\n",
    "print(m)\n",
    "l[0:0]=[100,200]\n",
    "print(l)\n",
    "print(m)\n",
    "m[5][0]=\"grapes\"\n",
    "print(l)\n",
    "print(m)\n",
    "\n",
    "l[6][0]=\"narasimha sumathi\"\n",
    "print(l)\n",
    "print(m)\n"
   ]
  },
  {
   "cell_type": "code",
   "execution_count": 41,
   "metadata": {},
   "outputs": [
    {
     "ename": "NameError",
     "evalue": "name 'copy' is not defined",
     "output_type": "error",
     "traceback": [
      "\u001b[1;31m---------------------------------------------------------------------------\u001b[0m",
      "\u001b[1;31mNameError\u001b[0m                                 Traceback (most recent call last)",
      "Cell \u001b[1;32mIn[41], line 1\u001b[0m\n\u001b[1;32m----> 1\u001b[0m m\u001b[39m=\u001b[39mcopy\u001b[39m.\u001b[39mdeepcopy(l)\n\u001b[0;32m      2\u001b[0m \u001b[39mprint\u001b[39m(m)\n",
      "\u001b[1;31mNameError\u001b[0m: name 'copy' is not defined"
     ]
    }
   ],
   "source": []
  },
  {
   "cell_type": "code",
   "execution_count": 6,
   "metadata": {},
   "outputs": [
    {
     "name": "stdout",
     "output_type": "stream",
     "text": [
      "pangram\n"
     ]
    }
   ],
   "source": [
    "# wap to check the given string is pangram or not.\n",
    "\n",
    "str=\"the quick brown fox jumps over the lazy dog\"\n",
    "alpha=\"abcdefghijklmnopqrstuvwxyz\"\n",
    "for str in alpha:\n",
    "    if str not in alpha:\n",
    "        print(\"not a pangram\")\n",
    "else:\n",
    "    print(\"pangram\")    "
   ]
  },
  {
   "cell_type": "code",
   "execution_count": 16,
   "metadata": {},
   "outputs": [],
   "source": [
    "str=\"DHARANI\"\n",
    "alpha=\"abcdefghijklmnopqrstuvwxyz\"\n",
    "for str in alpha:\n",
    "    if str not in alpha:\n",
    "        print(\"not a pangram\")\n",
    "#else:\n",
    " #   print(\"pangram\")    "
   ]
  },
  {
   "cell_type": "code",
   "execution_count": 48,
   "metadata": {},
   "outputs": [
    {
     "name": "stdout",
     "output_type": "stream",
     "text": [
      "uppercase 2\n",
      "lowercase 5\n"
     ]
    }
   ],
   "source": [
    "# wap to print the count of upper case and lowercase letters in a given string.\n",
    "\n",
    "str=\"DHAraNI\"\n",
    "count=0\n",
    "count1=0\n",
    "for i in str:\n",
    "    if (i.islower()):\n",
    "        count+=1    \n",
    "    elif(i.isupper()):\n",
    "        count1+=1 \n",
    "print(\"uppercase\",count)\n",
    "print(\"lowercase\",count1)               "
   ]
  },
  {
   "cell_type": "code",
   "execution_count": 46,
   "metadata": {},
   "outputs": [
    {
     "name": "stdout",
     "output_type": "stream",
     "text": [
      "uppercase 0\n",
      "lowercase 7\n"
     ]
    }
   ],
   "source": [
    "# wap to print the count of upper case and lowercase letters in a given string.\n",
    "\n",
    "str=\"dharani\"\n",
    "start=0\n",
    "count=0\n",
    "count1=0\n",
    "for i in str:\n",
    "    if \"A\"<=str[start]<=\"Z\":\n",
    "        count+=1    \n",
    "    elif \"a\"<=str[start]<=\"z\":\n",
    "        count1+=1 \n",
    "print(\"uppercase\",count)\n",
    "print(\"lowercase\",count1)               "
   ]
  },
  {
   "cell_type": "code",
   "execution_count": 41,
   "metadata": {},
   "outputs": [
    {
     "name": "stdout",
     "output_type": "stream",
     "text": [
      "uppercase 4\n",
      "lowercase 3\n"
     ]
    }
   ],
   "source": [
    "# wap to print the count of upper case and lowercase letters in a given string.\n",
    "\n",
    "str=\"DhaRaNI\"\n",
    "start=0\n",
    "count=0\n",
    "count1=0\n",
    "while start<len(str):\n",
    "    if \"A\"<=str[start]<=\"Z\":\n",
    "        count+=1   \n",
    "    elif \"a\"<=str[start]<=\"z\":\n",
    "        count1+=1\n",
    "    start+=1\n",
    "print(\"uppercase\",count)   \n",
    "print(\"lowercase\",count1)   "
   ]
  },
  {
   "cell_type": "code",
   "execution_count": 54,
   "metadata": {},
   "outputs": [
    {
     "name": "stdout",
     "output_type": "stream",
     "text": [
      "Daai"
     ]
    }
   ],
   "source": [
    "# wap to remove odd indexed characters in a string \n",
    "\n",
    "st=\"Dharani\"   \n",
    "start=0\n",
    "for i in st:\n",
    "    if start%2==0:\n",
    "        print(st[start],end=\"\")\n",
    "    start+=1      "
   ]
  },
  {
   "cell_type": "code",
   "execution_count": 73,
   "metadata": {},
   "outputs": [
    {
     "name": "stdout",
     "output_type": "stream",
     "text": [
      "longest word length is:dharani\n"
     ]
    }
   ],
   "source": [
    "# wap to print the largest word from the list\n",
    "\n",
    "l=[\"apple\",\"dharani\",\"usha\",\"mango\"]\n",
    "max1=len(l[0])\n",
    "temp=l[0]\n",
    "for i in l:\n",
    "    if(len(i)>max1):\n",
    "       max1=len(i)\n",
    "       temp=i\n",
    "print(\"longest word length is:\",end=\"\")\n",
    "print(temp)"
   ]
  },
  {
   "cell_type": "code",
   "execution_count": 74,
   "metadata": {},
   "outputs": [
    {
     "name": "stdout",
     "output_type": "stream",
     "text": [
      "longest word length is:usha\n"
     ]
    }
   ],
   "source": [
    "# wap to print the smallest word from the list\n",
    "\n",
    "l=[\"apple\",\"dharani\",\"usha\",\"mango\"]\n",
    "max1=len(l[0])\n",
    "temp=l[0]\n",
    "for i in l:\n",
    "    if(len(i)<max1):\n",
    "       max1=len(i)\n",
    "       temp=i\n",
    "print(\"longest word length is:\",end=\"\")\n",
    "print(temp)"
   ]
  },
  {
   "cell_type": "code",
   "execution_count": 5,
   "metadata": {},
   "outputs": [
    {
     "name": "stdout",
     "output_type": "stream",
     "text": [
      "Dharani\n",
      "a\n"
     ]
    }
   ],
   "source": [
    "st=\"Dharani\" \n",
    "n=0  \n",
    "start=st[:n]\n",
    "end=st[n+1:]\n",
    "print(st)\n",
    "n=input(\"enter a character to remove\")\n",
    "print(n)"
   ]
  },
  {
   "cell_type": "code",
   "execution_count": 7,
   "metadata": {},
   "outputs": [
    {
     "name": "stdout",
     "output_type": "stream",
     "text": [
      "modified string\n",
      "dharan\n"
     ]
    }
   ],
   "source": [
    "# wap to remove the nth index from the non empty string.\n",
    "\n",
    "def remove(string,n):\n",
    "    first=string[:n]\n",
    "    last=string[n+1:]\n",
    "    return first+last\n",
    "string=input(\"enter the string:\")\n",
    "n=int(input(\"enter the index value\"))\n",
    "print(\"modified string\")\n",
    "print(remove(string,n))"
   ]
  },
  {
   "cell_type": "code",
   "execution_count": null,
   "metadata": {},
   "outputs": [],
   "source": [
    "# Python Program to Replace Every Blank Space with Hyphen in a String."
   ]
  },
  {
   "cell_type": "code",
   "execution_count": 20,
   "metadata": {},
   "outputs": [
    {
     "name": "stdout",
     "output_type": "stream",
     "text": [
      "modified string :\n",
      "d-h-a-r-a-n-i\n"
     ]
    }
   ],
   "source": [
    "st=input(\"enter the string:\")\n",
    "st=st.replace(' ','-')\n",
    "print(\"modified string :\")\n",
    "print(st)   \n"
   ]
  },
  {
   "cell_type": "code",
   "execution_count": 24,
   "metadata": {},
   "outputs": [
    {
     "name": "stdout",
     "output_type": "stream",
     "text": [
      "  - D h a r a n i   - D h a r a n i   - D h a r a n i   - D h a r a n i   - D h a r a n i   - D h a r a n i "
     ]
    }
   ],
   "source": [
    "st=\"D h a r a n i\"             \n",
    "start=0\n",
    "while start<len(st):\n",
    "    if st[start]==' ':\n",
    "        print(\" \",\"-\",st,end=\" \")\n",
    "    start+=1    "
   ]
  },
  {
   "cell_type": "code",
   "execution_count": null,
   "metadata": {},
   "outputs": [],
   "source": [
    "# Python Program to Count Number of Lowercase Characters in a String"
   ]
  },
  {
   "cell_type": "code",
   "execution_count": 30,
   "metadata": {},
   "outputs": [
    {
     "name": "stdout",
     "output_type": "stream",
     "text": [
      " no of lowercase characters :  6 "
     ]
    }
   ],
   "source": [
    "st=\"Dharani\"    \n",
    "start=0\n",
    "count=0\n",
    "while start<len(st):\n",
    "    if \"a\"<=st[start]<=\"z\":\n",
    "        count+=1\n",
    "    start+=1\n",
    "print(\" no of lowercase characters : \",count,end=\" \")    "
   ]
  },
  {
   "cell_type": "code",
   "execution_count": 2,
   "metadata": {},
   "outputs": [
    {
     "name": "stdout",
     "output_type": "stream",
     "text": [
      "$ $ "
     ]
    }
   ],
   "source": [
    "# Python Program to Replace All Occurrences of ‘a’ with $ in a String\n",
    "\n",
    "st=\"dharani\"     \n",
    "start=0\n",
    "while start<len(st):\n",
    "    if \"a\" in st[start]:\n",
    "        print(\"$\",end=\" \")   \n",
    "    start+=1\n"
   ]
  },
  {
   "cell_type": "code",
   "execution_count": 1,
   "metadata": {},
   "outputs": [
    {
     "name": "stdout",
     "output_type": "stream",
     "text": [
      "modified string :\n",
      "dh@r@ni\n"
     ]
    }
   ],
   "source": [
    "st=input(\"enter the string:\")\n",
    "st=st.replace('a','@')\n",
    "print(\"modified string :\")\n",
    "print(st) "
   ]
  },
  {
   "cell_type": "code",
   "execution_count": 3,
   "metadata": {},
   "outputs": [
    {
     "name": "stdout",
     "output_type": "stream",
     "text": [
      "the reverse string is :  inarahd\n"
     ]
    }
   ],
   "source": [
    "# Write a Python program to reverse a given string.\n",
    "\n",
    "# Reverse a String using Slicing\n",
    "\n",
    "st=\"dharani\"   \n",
    "print(\"the reverse string is : \",st[::-1])"
   ]
  },
  {
   "cell_type": "code",
   "execution_count": 4,
   "metadata": {},
   "outputs": [
    {
     "name": "stdout",
     "output_type": "stream",
     "text": [
      "inarahd\n"
     ]
    }
   ],
   "source": [
    "# Reverse a String using Recursion\n",
    "\n",
    "st=input(\"enter a string:\")\n",
    "def reverse(string):\n",
    "    if len(string)==0:\n",
    "        return string\n",
    "    else:\n",
    "        return reverse(string[1:])+string[0]\n",
    "print(reverse(st))    \n",
    "    "
   ]
  },
  {
   "cell_type": "code",
   "execution_count": 18,
   "metadata": {},
   "outputs": [
    {
     "name": "stdout",
     "output_type": "stream",
     "text": [
      "inarahd\n",
      "inarahd \n"
     ]
    }
   ],
   "source": [
    "# Reverse a String using Loops\n",
    "\n",
    "st=\"dharani\"   \n",
    "start=-1\n",
    "while start>(-len(st)-1):\n",
    "    print(st[start],end=\"\")\n",
    "    start-=1\n",
    "\n",
    "\n",
    "print()\n",
    "\n",
    "\n",
    "st=\"dharani\"\n",
    "str=\" \"   \n",
    "for i in st:\n",
    "    str=i+str\n",
    "print(str)"
   ]
  },
  {
   "cell_type": "code",
   "execution_count": 19,
   "metadata": {},
   "outputs": [
    {
     "ename": "TypeError",
     "evalue": "'str' object is not callable",
     "output_type": "error",
     "traceback": [
      "\u001b[1;31m---------------------------------------------------------------------------\u001b[0m",
      "\u001b[1;31mTypeError\u001b[0m                                 Traceback (most recent call last)",
      "Cell \u001b[1;32mIn[19], line 8\u001b[0m\n\u001b[0;32m      6\u001b[0m     \u001b[39mprint\u001b[39m(\u001b[39m1\u001b[39m\u001b[39m+\u001b[39m\u001b[39mstr\u001b[39m(st[\u001b[39m1\u001b[39m:],\u001b[39mstr\u001b[39m))\n\u001b[0;32m      7\u001b[0m \u001b[39melse\u001b[39;00m:\n\u001b[1;32m----> 8\u001b[0m     \u001b[39mprint\u001b[39m(\u001b[39mstr\u001b[39;49m(st[\u001b[39m1\u001b[39;49m:],\u001b[39mstr\u001b[39;49m))\n\u001b[0;32m      9\u001b[0m     \u001b[39mprint\u001b[39m(count)    \n",
      "\u001b[1;31mTypeError\u001b[0m: 'str' object is not callable"
     ]
    }
   ],
   "source": [
    "# Python Program to Determine How Many Times a Given Letter Occurs in a String Recursively\n",
    "\n",
    "st=input(\"enter a string:\")\n",
    "str=input(\"enter a character:\")\n",
    "if st[0]==str:\n",
    "    print(1+str(st[1:],str))\n",
    "else:\n",
    "    print(str(st[1:],str))\n",
    "    print(count)    "
   ]
  },
  {
   "cell_type": "code",
   "execution_count": 23,
   "metadata": {},
   "outputs": [
    {
     "name": "stdout",
     "output_type": "stream",
     "text": [
      "Count is:\n",
      "2\n"
     ]
    }
   ],
   "source": [
    "string=input(\"Enter string:\")\n",
    "ch=input(\"Enter character to check:\")\n",
    "def check(string,ch):\n",
    "      if not string:\n",
    "        return 0\n",
    "      elif string[0]==ch:\n",
    "            return 1+check(string[1:],ch)\n",
    "      else:\n",
    "            return check(string[1:],ch)\n",
    "print(\"Count is:\")\n",
    "print(check(string,ch))"
   ]
  },
  {
   "cell_type": "code",
   "execution_count": 26,
   "metadata": {},
   "outputs": [
    {
     "name": "stdout",
     "output_type": "stream",
     "text": [
      "length of the given string is :  7\n"
     ]
    }
   ],
   "source": [
    "# Python Program to Calculate the Length of a String Without using Library Functions\n",
    "\n",
    "st=\"dharani\"     \n",
    "count=0\n",
    "start=0\n",
    "while start<len(st):\n",
    "    count+=1\n",
    "    start+=1\n",
    "print(\"length of the given string is : \",count)"
   ]
  },
  {
   "cell_type": "code",
   "execution_count": 29,
   "metadata": {},
   "outputs": [
    {
     "name": "stdout",
     "output_type": "stream",
     "text": [
      "len of the given string is :  7\n"
     ]
    }
   ],
   "source": [
    "st=\"dharani\"\n",
    "count=0   \n",
    "for i in st:\n",
    "    count+=1\n",
    "print(\"len of the given string is : \",count)\n"
   ]
  },
  {
   "cell_type": "code",
   "execution_count": 45,
   "metadata": {},
   "outputs": [
    {
     "name": "stdout",
     "output_type": "stream",
     "text": [
      "no of characters from the given string :  30\n",
      "no of words from the given string :  4\n"
     ]
    }
   ],
   "source": [
    "# Python Program to Count the Number of Words and Characters in a String.\n",
    "\n",
    "st=\"dharani,vinitha,lavanya,pavani\"\n",
    "count=0\n",
    "count1=1\n",
    "start=0\n",
    "while start<len(st):\n",
    "        count+=1\n",
    "        if (st[start]==\",\"):\n",
    "            count1+=1    \n",
    "        start+=1\n",
    "print(\"no of characters from the given string : \",count)  \n",
    "print(\"no of words from the given string : \",count1)    "
   ]
  },
  {
   "cell_type": "code",
   "execution_count": 39,
   "metadata": {},
   "outputs": [
    {
     "name": "stdout",
     "output_type": "stream",
     "text": [
      "no of words in a given string :  4\n",
      "no of characters in the given string :  30\n"
     ]
    }
   ],
   "source": [
    "st=input(\"enter a string: \")\n",
    "char=0\n",
    "word=1\n",
    "for i in st:\n",
    "    char+=1\n",
    "    if(i==','):\n",
    "        word+=1\n",
    "print(\"no of words in a given string : \",word)\n",
    "print(\"no of characters in the given string : \",char)"
   ]
  },
  {
   "cell_type": "code",
   "execution_count": null,
   "metadata": {},
   "outputs": [],
   "source": [
    "# Python Program to Count Number of Lowercase Characters in a String"
   ]
  }
 ],
 "metadata": {
  "kernelspec": {
   "display_name": "Python 3",
   "language": "python",
   "name": "python3"
  },
  "language_info": {
   "codemirror_mode": {
    "name": "ipython",
    "version": 3
   },
   "file_extension": ".py",
   "mimetype": "text/x-python",
   "name": "python",
   "nbconvert_exporter": "python",
   "pygments_lexer": "ipython3",
   "version": "3.11.3"
  },
  "orig_nbformat": 4
 },
 "nbformat": 4,
 "nbformat_minor": 2
}
