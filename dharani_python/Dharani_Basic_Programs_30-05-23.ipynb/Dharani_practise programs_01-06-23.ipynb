{
 "cells": [
  {
   "cell_type": "code",
   "execution_count": 31,
   "metadata": {},
   "outputs": [
    {
     "name": "stdout",
     "output_type": "stream",
     "text": [
      "[10, 20, 'hello', 'haii', 'dharani']\n",
      "['usha', 20, 'hello', 'haii', 'abc']\n",
      "[10, 20, 'shobha', 'hello', 'haii', 'abc']\n"
     ]
    }
   ],
   "source": [
    "l=[10,20,\"hello\",\"haii\",\"abc\"]   # modification of ending element\n",
    "l[-1]=\"dharani\"\n",
    "print(l)\n",
    "\n",
    "l=[10,20,\"hello\",\"haii\",\"abc\"]  # modification of ending element\n",
    "l[0]=\"usha\"\n",
    "print(l)\n",
    "\n",
    "l=[10,20,\"hello\",\"haii\",\"abc\"]   # modification of middle element\n",
    "l[len(l)//2:len(l)//2]=[\"shobha\"]\n",
    "print(l)"
   ]
  },
  {
   "cell_type": "code",
   "execution_count": 27,
   "metadata": {},
   "outputs": [
    {
     "name": "stdout",
     "output_type": "stream",
     "text": [
      "[10, 20, 'hello', 'haii', 'abc', 'dharani']\n",
      "['durga', 10, 20, 'hello', 'haii', 'abc', 'dharani']\n",
      "1535318412352\n",
      "[10, 20, 'hello', 'priya', 'haii', 'abc', '123']\n",
      "1535318418688\n"
     ]
    }
   ],
   "source": [
    "l=[10,20,\"hello\",\"haii\",\"abc\"]   # concatenate ending of the given list\n",
    "l[5:5]=[\"dharani\"]\n",
    "print(l)\n",
    "\n",
    "l[0:0]=[\"durga\"]                 # concatenate starting of the given list\n",
    "print(l)\n",
    "print(id(l))\n",
    "\n",
    "l=[10,20,\"hello\",\"haii\",\"abc\",\"123\"]   # concatenate middle of the given list\n",
    "l=l[:len(l)//2]+[\"priya\"]+l[len(l)//2:]\n",
    "print(l)\n",
    "print(id(l))"
   ]
  },
  {
   "cell_type": "code",
   "execution_count": 40,
   "metadata": {},
   "outputs": [
    {
     "name": "stdout",
     "output_type": "stream",
     "text": [
      "[20, 'hello', 'haii', 'abc']\n",
      "[10, 20, 'hello', 'haii']\n",
      "[10, 20, 'haii', 'abc']\n"
     ]
    }
   ],
   "source": [
    "l=[10,20,\"hello\",\"haii\",\"abc\"]   # del of starting element\n",
    "del l[0]\n",
    "print(l)\n",
    "\n",
    "l=[10,20,\"hello\",\"haii\",\"abc\"]   # del of ending element\n",
    "del l[-1]\n",
    "print(l)\n",
    "\n",
    "l=[10,20,\"hello\",\"haii\",\"abc\"]   # del of the middle element\n",
    "del l[len(l)//2]\n",
    "print(l)\n"
   ]
  },
  {
   "attachments": {},
   "cell_type": "markdown",
   "metadata": {},
   "source": [
    "1."
   ]
  },
  {
   "cell_type": "code",
   "execution_count": 1,
   "metadata": {},
   "outputs": [
    {
     "name": "stdout",
     "output_type": "stream",
     "text": [
      "Hello World\n"
     ]
    }
   ],
   "source": [
    "a=\"Hello World\"\n",
    "print(a)"
   ]
  },
  {
   "cell_type": "code",
   "execution_count": null,
   "metadata": {},
   "outputs": [],
   "source": [
    "2."
   ]
  },
  {
   "cell_type": "code",
   "execution_count": 2,
   "metadata": {},
   "outputs": [
    {
     "name": "stdout",
     "output_type": "stream",
     "text": [
      "Hello World\n"
     ]
    }
   ],
   "source": [
    "print(\"Hello World\")"
   ]
  },
  {
   "attachments": {},
   "cell_type": "markdown",
   "metadata": {},
   "source": [
    "3."
   ]
  },
  {
   "cell_type": "code",
   "execution_count": 3,
   "metadata": {},
   "outputs": [
    {
     "name": "stdout",
     "output_type": "stream",
     "text": [
      "50\n"
     ]
    }
   ],
   "source": [
    "a=50\n",
    "print(a)"
   ]
  },
  {
   "attachments": {},
   "cell_type": "markdown",
   "metadata": {},
   "source": [
    "4."
   ]
  },
  {
   "cell_type": "code",
   "execution_count": 5,
   "metadata": {},
   "outputs": [
    {
     "name": "stdout",
     "output_type": "stream",
     "text": [
      "150\n",
      "120\n",
      "250\n"
     ]
    }
   ],
   "source": [
    "a=150\n",
    "b=120\n",
    "c=250\n",
    "print(a)\n",
    "print(b)\n",
    "print(c)\n",
    "\n"
   ]
  },
  {
   "attachments": {},
   "cell_type": "markdown",
   "metadata": {},
   "source": [
    "5."
   ]
  },
  {
   "cell_type": "code",
   "execution_count": 7,
   "metadata": {},
   "outputs": [
    {
     "name": "stdout",
     "output_type": "stream",
     "text": [
      "<class 'str'>\n",
      "<class 'int'>\n"
     ]
    }
   ],
   "source": [
    "a=\"dharani\"\n",
    "print(type(a))\n",
    "\n",
    "b=10\n",
    "print(type(b))"
   ]
  },
  {
   "attachments": {},
   "cell_type": "markdown",
   "metadata": {},
   "source": [
    "6."
   ]
  },
  {
   "cell_type": "code",
   "execution_count": 9,
   "metadata": {},
   "outputs": [
    {
     "name": "stdout",
     "output_type": "stream",
     "text": [
      "140731719476296\n",
      "140731719476296\n"
     ]
    }
   ],
   "source": [
    "a=10\n",
    "print(id(10))\n",
    "print(id(a))"
   ]
  },
  {
   "attachments": {},
   "cell_type": "markdown",
   "metadata": {},
   "source": [
    "7."
   ]
  },
  {
   "cell_type": "code",
   "execution_count": 13,
   "metadata": {},
   "outputs": [
    {
     "name": "stdout",
     "output_type": "stream",
     "text": [
      "Dharani\n",
      "22\n",
      "gottamdharani7626@gmail.com\n"
     ]
    }
   ],
   "source": [
    "name =\"Dharani\"\n",
    "age = 22\n",
    "mail = \"gottamdharani7626@gmail.com\"\n",
    "print(name)\n",
    "print(age)\n",
    "print(mail)"
   ]
  },
  {
   "attachments": {},
   "cell_type": "markdown",
   "metadata": {},
   "source": [
    "8."
   ]
  },
  {
   "cell_type": "code",
   "execution_count": 14,
   "metadata": {},
   "outputs": [
    {
     "name": "stdout",
     "output_type": "stream",
     "text": [
      "20\n",
      "10\n"
     ]
    }
   ],
   "source": [
    "a=10\n",
    "b=20\n",
    "c=a\n",
    "a=b\n",
    "b=c\n",
    "print(a)\n",
    "print(b)"
   ]
  },
  {
   "attachments": {},
   "cell_type": "markdown",
   "metadata": {},
   "source": [
    "9."
   ]
  },
  {
   "cell_type": "code",
   "execution_count": 15,
   "metadata": {},
   "outputs": [
    {
     "name": "stdout",
     "output_type": "stream",
     "text": [
      "20\n",
      "10\n"
     ]
    }
   ],
   "source": [
    "a=10\n",
    "b=20\n",
    "a,b=b,a\n",
    "print(a)\n",
    "print(b)"
   ]
  },
  {
   "attachments": {},
   "cell_type": "markdown",
   "metadata": {},
   "source": [
    "10."
   ]
  },
  {
   "cell_type": "code",
   "execution_count": 17,
   "metadata": {},
   "outputs": [
    {
     "name": "stdout",
     "output_type": "stream",
     "text": [
      "20\n",
      "100\n"
     ]
    }
   ],
   "source": [
    "c=20\n",
    "print(c)\n",
    "c=100\n",
    "print(c)"
   ]
  },
  {
   "attachments": {},
   "cell_type": "markdown",
   "metadata": {},
   "source": [
    "11."
   ]
  },
  {
   "cell_type": "code",
   "execution_count": 21,
   "metadata": {},
   "outputs": [
    {
     "name": "stdout",
     "output_type": "stream",
     "text": [
      "10\n",
      "['1', '0']\n"
     ]
    }
   ],
   "source": [
    "a=10\n",
    "b=str(a)\n",
    "print(b)\n",
    "c=list(b)\n",
    "print(c)"
   ]
  },
  {
   "attachments": {},
   "cell_type": "markdown",
   "metadata": {},
   "source": [
    "12."
   ]
  },
  {
   "cell_type": "code",
   "execution_count": null,
   "metadata": {},
   "outputs": [],
   "source": [
    "a =\"dharani\"\n",
    "\n"
   ]
  }
 ],
 "metadata": {
  "kernelspec": {
   "display_name": "Python 3",
   "language": "python",
   "name": "python3"
  },
  "language_info": {
   "codemirror_mode": {
    "name": "ipython",
    "version": 3
   },
   "file_extension": ".py",
   "mimetype": "text/x-python",
   "name": "python",
   "nbconvert_exporter": "python",
   "pygments_lexer": "ipython3",
   "version": "3.11.3"
  },
  "orig_nbformat": 4
 },
 "nbformat": 4,
 "nbformat_minor": 2
}
