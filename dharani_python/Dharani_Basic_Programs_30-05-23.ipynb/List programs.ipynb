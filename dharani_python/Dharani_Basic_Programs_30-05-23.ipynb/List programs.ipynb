{
 "cells": [
  {
   "cell_type": "markdown",
   "metadata": {},
   "source": [
    "1.Python Program to Find Largest Number in a List."
   ]
  },
  {
   "cell_type": "code",
   "execution_count": 7,
   "metadata": {},
   "outputs": [
    {
     "name": "stdout",
     "output_type": "stream",
     "text": [
      "9\n"
     ]
    }
   ],
   "source": [
    "l=[1,3,5,2,7,9,8,5]\n",
    "print(max(l))   "
   ]
  },
  {
   "cell_type": "code",
   "execution_count": 31,
   "metadata": {},
   "outputs": [
    {
     "name": "stdout",
     "output_type": "stream",
     "text": [
      "Largest number in a list is : 9\n"
     ]
    }
   ],
   "source": [
    "l=[1,3,5,2,7,8,9,5]\n",
    "res=l[0]\n",
    "for i in l:\n",
    "    if i>res:\n",
    "        res=i\n",
    "print(\"Largest number in a list is :\",res)     "
   ]
  },
  {
   "cell_type": "markdown",
   "metadata": {},
   "source": [
    "2.Python Program to Find Second Largest Number in a List."
   ]
  },
  {
   "cell_type": "code",
   "execution_count": 50,
   "metadata": {},
   "outputs": [
    {
     "name": "stdout",
     "output_type": "stream",
     "text": [
      "Largest number in a list is : 9\n",
      "Second largest number in a list :  7\n"
     ]
    }
   ],
   "source": [
    "l=[1,3,5,2,7,9,5]\n",
    "res=l[0]\n",
    "res1=[0]\n",
    "for i in l:\n",
    "    if i>res:\n",
    "        res1=res\n",
    "        res=i \n",
    "    elif i>res and i!=res:\n",
    "        res1=i      \n",
    "print(\"Largest number in a list is :\",res) \n",
    "print(\"Second largest number in a list : \",res1)    "
   ]
  },
  {
   "cell_type": "markdown",
   "metadata": {},
   "source": [
    "Python Program to Find smallest Number in a List."
   ]
  },
  {
   "cell_type": "code",
   "execution_count": 15,
   "metadata": {},
   "outputs": [
    {
     "name": "stdout",
     "output_type": "stream",
     "text": [
      "smallest number in a list is : 1\n"
     ]
    }
   ],
   "source": [
    "l=[1,3,5,2,7,9,8,5]\n",
    "res=l[0]\n",
    "for i in l:\n",
    "    if i<res:\n",
    "        res=i\n",
    "print(\"smallest number in a list is :\",res)     "
   ]
  },
  {
   "cell_type": "code",
   "execution_count": 66,
   "metadata": {},
   "outputs": [
    {
     "name": "stdout",
     "output_type": "stream",
     "text": [
      "smallest number in a list is : 1\n",
      "Second smallest number in a list :  1\n"
     ]
    }
   ],
   "source": [
    "l=[1,3,5,2,7,9,5]\n",
    "res=l[0]\n",
    "res1=l[0]\n",
    "for i in l:\n",
    "    if i<res:\n",
    "        res1=res\n",
    "        res=i \n",
    "    elif i<res1 and i!=res:\n",
    "        res1=i      \n",
    "print(\"smallest number in a list is :\",res) \n",
    "print(\"Second smallest number in a list : \",res1)    "
   ]
  },
  {
   "cell_type": "markdown",
   "metadata": {},
   "source": [
    "3.Python Program to Print Largest Even and Largest Odd Number in a List."
   ]
  },
  {
   "cell_type": "code",
   "execution_count": 45,
   "metadata": {},
   "outputs": [
    {
     "name": "stdout",
     "output_type": "stream",
     "text": [
      "Largest odd number in a list is : 11\n",
      "Largest even number in a list is : 10\n"
     ]
    }
   ],
   "source": [
    "l=[1,3,5,2,7,8,9,5,10,11]\n",
    "res=l[0]\n",
    "res1=l[0]\n",
    "for i in l:\n",
    "    if i>res and i%2==0:\n",
    "        res=i\n",
    "    elif i>res and i%2!=0:\n",
    "          res1=i \n",
    "print(\"Largest odd number in a list is :\",res1)                  \n",
    "print(\"Largest even number in a list is :\",res)     "
   ]
  },
  {
   "cell_type": "markdown",
   "metadata": {},
   "source": []
  },
  {
   "cell_type": "markdown",
   "metadata": {},
   "source": [
    "Python Program to Remove Duplicates from a List"
   ]
  },
  {
   "cell_type": "code",
   "execution_count": 13,
   "metadata": {},
   "outputs": [
    {
     "name": "stdout",
     "output_type": "stream",
     "text": [
      "[1, 2, 3, 5, 7, 8, 9]\n"
     ]
    }
   ],
   "source": [
    "l=[1,3,5,2,7,9,8,5,3,5,7,9,5]\n",
    "res=list(set(l))\n",
    "print(res)"
   ]
  },
  {
   "cell_type": "code",
   "execution_count": 22,
   "metadata": {},
   "outputs": [
    {
     "name": "stdout",
     "output_type": "stream",
     "text": [
      "[1, 3, 5, 2, 7, 9, 8]\n"
     ]
    }
   ],
   "source": [
    "l=[1,3,5,2,7,9,8,5,3,5,7,9,5]\n",
    "res=[]\n",
    "for i in l:\n",
    "    if i not in res:\n",
    "        res+=[i]\n",
    "print(res)    "
   ]
  }
 ],
 "metadata": {
  "kernelspec": {
   "display_name": "Python 3",
   "language": "python",
   "name": "python3"
  },
  "language_info": {
   "codemirror_mode": {
    "name": "ipython",
    "version": 3
   },
   "file_extension": ".py",
   "mimetype": "text/x-python",
   "name": "python",
   "nbconvert_exporter": "python",
   "pygments_lexer": "ipython3",
   "version": "3.11.3"
  },
  "orig_nbformat": 4
 },
 "nbformat": 4,
 "nbformat_minor": 2
}
