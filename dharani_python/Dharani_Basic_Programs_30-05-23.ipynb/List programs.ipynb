{
 "cells": [
  {
   "cell_type": "markdown",
   "metadata": {},
   "source": [
    "1.Python Program to Find Largest Number in a List."
   ]
  },
  {
   "cell_type": "code",
   "execution_count": 7,
   "metadata": {},
   "outputs": [
    {
     "name": "stdout",
     "output_type": "stream",
     "text": [
      "9\n"
     ]
    }
   ],
   "source": [
    "l=[1,3,5,2,7,9,8,5]\n",
    "print(max(l))   "
   ]
  },
  {
   "cell_type": "code",
   "execution_count": 31,
   "metadata": {},
   "outputs": [
    {
     "name": "stdout",
     "output_type": "stream",
     "text": [
      "Largest number in a list is : 9\n"
     ]
    }
   ],
   "source": [
    "l=[1,3,5,2,7,8,9,5]\n",
    "res=l[0]\n",
    "for i in l:\n",
    "    if i>res:\n",
    "        res=i\n",
    "print(\"Largest number in a list is :\",res)     "
   ]
  },
  {
   "cell_type": "markdown",
   "metadata": {},
   "source": [
    "2.Python Program to Find Second Largest Number in a List."
   ]
  },
  {
   "cell_type": "code",
   "execution_count": 6,
   "metadata": {},
   "outputs": [
    {
     "name": "stdout",
     "output_type": "stream",
     "text": [
      "Largest number in a list is : 9\n",
      "Second largest number in a list :  7\n"
     ]
    }
   ],
   "source": [
    "l=[1,3,5,2,7,9,5]\n",
    "res=l[0]\n",
    "res1=[0]\n",
    "for i in l:\n",
    "    if i>res:\n",
    "        res1=res\n",
    "        res=i \n",
    "    elif i>res and i!=res:\n",
    "        res1=i      \n",
    "print(\"Largest number in a list is :\",res) \n",
    "print(\"Second largest number in a list : \",res1)    "
   ]
  },
  {
   "cell_type": "markdown",
   "metadata": {},
   "source": [
    "Python Program to Find smallest Number in a List."
   ]
  },
  {
   "cell_type": "code",
   "execution_count": 15,
   "metadata": {},
   "outputs": [
    {
     "name": "stdout",
     "output_type": "stream",
     "text": [
      "smallest number in a list is : 1\n"
     ]
    }
   ],
   "source": [
    "l=[1,3,5,2,7,9,8,5]\n",
    "res=l[0]\n",
    "for i in l:\n",
    "    if i<res:\n",
    "        res=i\n",
    "print(\"smallest number in a list is :\",res)     "
   ]
  },
  {
   "cell_type": "code",
   "execution_count": 2,
   "metadata": {},
   "outputs": [
    {
     "name": "stdout",
     "output_type": "stream",
     "text": [
      "smallest number in a list is : 1\n",
      "Second smallest number in a list :  1\n"
     ]
    }
   ],
   "source": [
    "l=[1,3,5,2,7,9,5]\n",
    "res=l[0]\n",
    "res1=l[0]\n",
    "for i in l:\n",
    "    if i<res:\n",
    "        res=res1\n",
    "        res=i \n",
    "    elif i<res1 and i!=res:\n",
    "        res1=i      \n",
    "print(\"smallest number in a list is :\",res) \n",
    "print(\"Second smallest number in a list : \",res1)    "
   ]
  },
  {
   "cell_type": "markdown",
   "metadata": {},
   "source": [
    "3.Python Program to Print Largest Even and Largest Odd Number in a List."
   ]
  },
  {
   "cell_type": "code",
   "execution_count": 45,
   "metadata": {},
   "outputs": [
    {
     "name": "stdout",
     "output_type": "stream",
     "text": [
      "Largest odd number in a list is : 11\n",
      "Largest even number in a list is : 10\n"
     ]
    }
   ],
   "source": [
    "l=[1,3,5,2,7,8,9,5,10,11]\n",
    "res=l[0]\n",
    "res1=l[0]\n",
    "for i in l:\n",
    "    if i>res and i%2==0:\n",
    "        res=i\n",
    "    elif i>res and i%2!=0:\n",
    "          res1=i \n",
    "print(\"Largest odd number in a list is :\",res1)                  \n",
    "print(\"Largest even number in a list is :\",res)     "
   ]
  },
  {
   "cell_type": "markdown",
   "metadata": {},
   "source": [
    "Python Program to Remove Duplicates from a List"
   ]
  },
  {
   "cell_type": "code",
   "execution_count": 13,
   "metadata": {},
   "outputs": [
    {
     "name": "stdout",
     "output_type": "stream",
     "text": [
      "[1, 2, 3, 5, 7, 8, 9]\n"
     ]
    }
   ],
   "source": [
    "l=[1,3,5,2,7,9,8,5,3,5,7,9,5]\n",
    "res=list(set(l))\n",
    "print(res)"
   ]
  },
  {
   "cell_type": "code",
   "execution_count": 22,
   "metadata": {},
   "outputs": [
    {
     "name": "stdout",
     "output_type": "stream",
     "text": [
      "[1, 3, 5, 2, 7, 9, 8]\n"
     ]
    }
   ],
   "source": [
    "l=[1,3,5,2,7,9,8,5,3,5,7,9,5]\n",
    "res=[]\n",
    "for i in l:\n",
    "    if i not in res:\n",
    "        res+=[i]\n",
    "print(res)    "
   ]
  },
  {
   "cell_type": "markdown",
   "metadata": {},
   "source": [
    "4.Python Program to Split Even and Odd Elements into Two Lists."
   ]
  },
  {
   "cell_type": "code",
   "execution_count": 9,
   "metadata": {},
   "outputs": [
    {
     "name": "stdout",
     "output_type": "stream",
     "text": [
      "Even elements in a list :  [2, 4, 6, 8, 10]\n",
      "Odd elements in a list :  [1, 3, 5, 7, 9, 55]\n"
     ]
    }
   ],
   "source": [
    "l=[1,2,3,4,5,6,7,8,9,10,55]\n",
    "res=[]\n",
    "res1=[]\n",
    "for i in l:\n",
    "    if i not in res and i%2==0:\n",
    "        res+=[i]\n",
    "    else:\n",
    "        res1+=[i] \n",
    "print(\"Even elements in a list : \",res)\n",
    "print(\"Odd elements in a list : \",res1)           "
   ]
  },
  {
   "cell_type": "markdown",
   "metadata": {},
   "source": [
    "5.Python Program to Find Average of a List ."
   ]
  },
  {
   "cell_type": "code",
   "execution_count": 21,
   "metadata": {},
   "outputs": [
    {
     "name": "stdout",
     "output_type": "stream",
     "text": [
      "Length of a list is :  12\n",
      "Avarage of a list is :  10.833333333333334\n"
     ]
    }
   ],
   "source": [
    "l=[1,2,3,4,5,6,7,8,9,10,55,20]\n",
    "sum=0\n",
    "for i in l:\n",
    "    sum+=i\n",
    "print(\"Length of a list is : \",len(l))    \n",
    "print(\"Avarage of a list is : \",sum/len(l))  "
   ]
  },
  {
   "cell_type": "markdown",
   "metadata": {},
   "source": [
    "6.Python Program to Print Sum of Negative Numbers, Positive Even Numbers and Positive Odd numbers in a List."
   ]
  },
  {
   "cell_type": "code",
   "execution_count": 23,
   "metadata": {},
   "outputs": [
    {
     "name": "stdout",
     "output_type": "stream",
     "text": [
      "Sum of positive Even Numbers :  92\n",
      "Sum of Negative Numbers :  -85\n",
      "Sum of positive Odd Numbers :  93\n"
     ]
    }
   ],
   "source": [
    "l=[-1,1,2,-3,-9,5,4,6,87,-5,-67,34,46]\n",
    "sum=0\n",
    "sum1=0\n",
    "sum2=0\n",
    "for i in l:\n",
    "    if i>0 and i%2==0:\n",
    "        sum+=i\n",
    "    elif i<0:\n",
    "        sum1+=i\n",
    "    elif i>0 and i%2!=0:\n",
    "        sum2+=i\n",
    "print(\"Sum of positive Even Numbers : \",sum)\n",
    "print(\"Sum of Negative Numbers : \",sum1)\n",
    "print(\"Sum of positive Odd Numbers : \",sum2)         \n"
   ]
  },
  {
   "cell_type": "markdown",
   "metadata": {},
   "source": [
    "7.Python Program to Count Occurrences of Element in List."
   ]
  },
  {
   "cell_type": "code",
   "execution_count": 31,
   "metadata": {},
   "outputs": [
    {
     "name": "stdout",
     "output_type": "stream",
     "text": [
      "11\n"
     ]
    }
   ],
   "source": [
    "l=[1,1,1,2,3,4,4,4,5,5,6]\n",
    "count=0\n",
    "m=[]\n",
    "for i in l:\n",
    "    if i not in m :\n",
    "        count+=1\n",
    "print(count)        \n",
    "\n"
   ]
  },
  {
   "cell_type": "code",
   "execution_count": 34,
   "metadata": {},
   "outputs": [
    {
     "name": "stdout",
     "output_type": "stream",
     "text": [
      " count occurances of 1 in a list is :  3\n",
      " count occurances of 2 in a list is :  1\n",
      " count occurances of 3 in a list is :  1\n",
      " count occurances of 4 in a list is :  3\n",
      " count occurances of 5 in a list is :  2\n",
      " count occurances of 6 in a list is :  1\n",
      " count occurances of 7 in a list is :  0\n"
     ]
    }
   ],
   "source": [
    "l=[1,1,1,2,3,4,4,4,5,5,6]\n",
    "print(\" count occurances of 1 in a list is : \",l.count(1))\n",
    "print(\" count occurances of 2 in a list is : \",l.count(2))\n",
    "print(\" count occurances of 3 in a list is : \",l.count(3))\n",
    "print(\" count occurances of 4 in a list is : \",l.count(4))\n",
    "print(\" count occurances of 5 in a list is : \",l.count(5))\n",
    "print(\" count occurances of 6 in a list is : \",l.count(6))\n",
    "print(\" count occurances of 7 in a list is : \",l.count(7))"
   ]
  },
  {
   "cell_type": "markdown",
   "metadata": {},
   "source": [
    "8.Python Program to Find the Sum of Elements in a List using Recursion."
   ]
  },
  {
   "cell_type": "code",
   "execution_count": 50,
   "metadata": {},
   "outputs": [
    {
     "data": {
      "text/plain": [
       "45"
      ]
     },
     "execution_count": 50,
     "metadata": {},
     "output_type": "execute_result"
    }
   ],
   "source": [
    "x=[1,2,3,4,5,6,7,8,9]\n",
    "def sum(a):\n",
    "    if len(a)==0:\n",
    "        return 0\n",
    "    else:\n",
    "        return a[0] + sum(a[1:])\n",
    "sum(x)"
   ]
  },
  {
   "cell_type": "markdown",
   "metadata": {},
   "source": [
    "Python Program to Swap the First and Last Element in a List."
   ]
  },
  {
   "cell_type": "code",
   "execution_count": 42,
   "metadata": {},
   "outputs": [
    {
     "name": "stdout",
     "output_type": "stream",
     "text": [
      "[67, 2, 3, 4, 4, 3, 5, 65, 1]\n"
     ]
    }
   ],
   "source": [
    "l=[1,2,3,4,4,3,5,65,67]\n",
    "l[0],l[-1]=l[-1],l[0]\n",
    "print(l)\n"
   ]
  },
  {
   "cell_type": "markdown",
   "metadata": {},
   "source": [
    "13.Python Program to Return the Length of the Longest Word from the List of Words."
   ]
  },
  {
   "cell_type": "code",
   "execution_count": 8,
   "metadata": {},
   "outputs": [
    {
     "name": "stdout",
     "output_type": "stream",
     "text": [
      "[]\n"
     ]
    }
   ],
   "source": [
    "l=[\"dharani\",\"usha\",\"sumathi\",\"narasimha rao\"]\n",
    "res=[]\n",
    "for i in l:\n",
    "    if len(i)>len(res):\n",
    "        n=res\n",
    "print(n)"
   ]
  },
  {
   "cell_type": "code",
   "execution_count": 6,
   "metadata": {},
   "outputs": [
    {
     "name": "stdout",
     "output_type": "stream",
     "text": [
      "Elements in ascending order :  [2, 3, 4, 5, 6, 7, 8, 9]\n"
     ]
    }
   ],
   "source": [
    "l=[3,4,9,8,6,7,2,5]\n",
    "temp=0\n",
    "for i in range(0,len(l)):\n",
    "    for j in range(i+1,len(l)):\n",
    "        if l[i]>l[j]:\n",
    "            temp=l[i]\n",
    "            l[i]=l[j]\n",
    "            l[j]=temp\n",
    "print(\"Elements in ascending order : \",l)            "
   ]
  }
 ],
 "metadata": {
  "kernelspec": {
   "display_name": "Python 3",
   "language": "python",
   "name": "python3"
  },
  "language_info": {
   "codemirror_mode": {
    "name": "ipython",
    "version": 3
   },
   "file_extension": ".py",
   "mimetype": "text/x-python",
   "name": "python",
   "nbconvert_exporter": "python",
   "pygments_lexer": "ipython3",
   "version": "3.11.3"
  },
  "orig_nbformat": 4
 },
 "nbformat": 4,
 "nbformat_minor": 2
}
