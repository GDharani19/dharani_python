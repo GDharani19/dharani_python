{
 "cells": [
  {
   "cell_type": "markdown",
   "metadata": {},
   "source": [
    "LIST COMPREHENSION :\n",
    "\n",
    "* In python list comprehension is a simple and compact syntax for making a list out of a list.\n",
    "\n",
    "* It's a quick technique to make a new list by performing an operation on each \n",
    "  item in the old one.\n",
    "\n",
    "* List comprehension is much faster than using a for loop to handle list.\n",
    "\n",
    "* A list of comprehension is made up of brackets that hold the expression that is run for each element , as well as for loop that is run for each element ,as well as for loop that iterates through each element.\n",
    "\n",
    "SYNTAX :\n",
    "\n",
    "* var=[return value for in collection]\n",
    "\n",
    "* var=[return value for var in collection if<condition>]\n",
    "\n",
    "* var=[return value if<condition> else return_value for var in collection]\n",
    "\n",
    "* var=[return value for var in collection for var in collection]\n",
    "\n",
    "* var=[return value for var in collection for var in collection if<condition>]\n",
    "\n",
    "* var=[return value if<condition> else return value \n",
    "        for var in collection for var in collection]\n",
    "\n",
    "* var=[[FSB,TSB][condition] for i in collection]        "
   ]
  },
  {
   "cell_type": "code",
   "execution_count": 2,
   "metadata": {},
   "outputs": [
    {
     "data": {
      "text/plain": [
       "[0, 1, 2, 3, 4, 5, 6, 7, 8, 9]"
      ]
     },
     "execution_count": 2,
     "metadata": {},
     "output_type": "execute_result"
    }
   ],
   "source": [
    "list(range(0,10))"
   ]
  },
  {
   "cell_type": "code",
   "execution_count": 3,
   "metadata": {},
   "outputs": [
    {
     "name": "stdout",
     "output_type": "stream",
     "text": [
      "[0, 1, 2, 3, 4, 5, 6, 7, 8, 9]\n"
     ]
    }
   ],
   "source": [
    "l=[]\n",
    "for i in range(0,10):\n",
    "    l+=[i]\n",
    "print(l)    "
   ]
  },
  {
   "cell_type": "code",
   "execution_count": 4,
   "metadata": {},
   "outputs": [
    {
     "name": "stdout",
     "output_type": "stream",
     "text": [
      "[0, 1, 4, 9, 16, 25, 36, 49, 64, 81]\n"
     ]
    }
   ],
   "source": [
    "l=[]\n",
    "for i in range(0,10):\n",
    "    l+=[i**2]\n",
    "print(l)    "
   ]
  },
  {
   "cell_type": "code",
   "execution_count": 5,
   "metadata": {},
   "outputs": [
    {
     "name": "stdout",
     "output_type": "stream",
     "text": [
      "[0, 1, 2, 3, 4, 5, 6, 7, 8, 9]\n"
     ]
    }
   ],
   "source": [
    "l=[i for i in range(0,10)]\n",
    "print(l)"
   ]
  },
  {
   "cell_type": "code",
   "execution_count": 13,
   "metadata": {},
   "outputs": [
    {
     "name": "stdout",
     "output_type": "stream",
     "text": [
      "['l', 'a', 'p', 't', 'o', 'p']\n",
      "l a p t o p\n"
     ]
    }
   ],
   "source": [
    "st=\"laptop\"\n",
    "l=[]\n",
    "for i in st:\n",
    "    if \"A\"<=i<=\"Z\":\n",
    "        l+=[chr(ord(i))+32]\n",
    "    else:\n",
    "        l+=[i]\n",
    "print(l)\n",
    "print(\" \".join(l))            "
   ]
  },
  {
   "cell_type": "code",
   "execution_count": 14,
   "metadata": {},
   "outputs": [
    {
     "name": "stdout",
     "output_type": "stream",
     "text": [
      "['L', 'A', 'P', 'T', 'O', 'P']\n",
      "L A P T O P\n"
     ]
    }
   ],
   "source": [
    "st=\"LAPTOP\"\n",
    "l=[]\n",
    "for i in st:\n",
    "    if \"a\"<=i<=\"z\":\n",
    "        l+=[chr(ord(i))+32]\n",
    "    else:\n",
    "        l+=[i]\n",
    "print(l)\n",
    "print(\" \".join(l))            "
   ]
  },
  {
   "cell_type": "code",
   "execution_count": 17,
   "metadata": {},
   "outputs": [
    {
     "ename": "TypeError",
     "evalue": "can only concatenate str (not \"int\") to str",
     "output_type": "error",
     "traceback": [
      "\u001b[1;31m---------------------------------------------------------------------------\u001b[0m",
      "\u001b[1;31mTypeError\u001b[0m                                 Traceback (most recent call last)",
      "Cell \u001b[1;32mIn[17], line 2\u001b[0m\n\u001b[0;32m      1\u001b[0m st\u001b[39m=\u001b[39m\u001b[39m\"\u001b[39m\u001b[39mLAPTOP\u001b[39m\u001b[39m\"\u001b[39m\n\u001b[1;32m----> 2\u001b[0m l\u001b[39m=\u001b[39m\u001b[39m\"\u001b[39m\u001b[39m \u001b[39m\u001b[39m\"\u001b[39m\u001b[39m.\u001b[39mjoin[\u001b[39mchr\u001b[39;49m(\u001b[39mord\u001b[39;49m(i))\u001b[39m+\u001b[39;49m\u001b[39m32\u001b[39;49m]\n\u001b[0;32m      3\u001b[0m \u001b[39mif\u001b[39;00m \u001b[39m\"\u001b[39m\u001b[39mA\u001b[39m\u001b[39m\"\u001b[39m\u001b[39m<\u001b[39m\u001b[39m=\u001b[39mi\u001b[39m<\u001b[39m\u001b[39m=\u001b[39m\u001b[39m\"\u001b[39m\u001b[39mZ\u001b[39m\u001b[39m\"\u001b[39m :\n\u001b[0;32m      4\u001b[0m     \u001b[39mpass\u001b[39;00m  \n",
      "\u001b[1;31mTypeError\u001b[0m: can only concatenate str (not \"int\") to str"
     ]
    }
   ],
   "source": [
    "st=\"LAPTOP\"\n",
    "l=\" \".join[chr(ord(i))+32]\n",
    "if \"A\"<=i<=\"Z\" :\n",
    "    pass  \n",
    "    for i in st:\n",
    "        print(l)        "
   ]
  },
  {
   "cell_type": "code",
   "execution_count": 27,
   "metadata": {},
   "outputs": [
    {
     "ename": "IndexError",
     "evalue": "list index out of range",
     "output_type": "error",
     "traceback": [
      "\u001b[1;31m---------------------------------------------------------------------------\u001b[0m",
      "\u001b[1;31mIndexError\u001b[0m                                Traceback (most recent call last)",
      "Cell \u001b[1;32mIn[27], line 2\u001b[0m\n\u001b[0;32m      1\u001b[0m l\u001b[39m=\u001b[39m[\u001b[39m1\u001b[39m,\u001b[39m2\u001b[39m,\u001b[39m3\u001b[39m,\u001b[39m4\u001b[39m,\u001b[39m5\u001b[39m,\u001b[39m6\u001b[39m]\n\u001b[1;32m----> 2\u001b[0m new_list\u001b[39m=\u001b[39m[l[i]\u001b[39m*\u001b[39;49m\u001b[39m5\u001b[39;49m \u001b[39mfor\u001b[39;49;00m i \u001b[39min\u001b[39;49;00m l]\n\u001b[0;32m      3\u001b[0m \u001b[39mprint\u001b[39m(new_list)\n",
      "Cell \u001b[1;32mIn[27], line 2\u001b[0m, in \u001b[0;36m<listcomp>\u001b[1;34m(.0)\u001b[0m\n\u001b[0;32m      1\u001b[0m l\u001b[39m=\u001b[39m[\u001b[39m1\u001b[39m,\u001b[39m2\u001b[39m,\u001b[39m3\u001b[39m,\u001b[39m4\u001b[39m,\u001b[39m5\u001b[39m,\u001b[39m6\u001b[39m]\n\u001b[1;32m----> 2\u001b[0m new_list\u001b[39m=\u001b[39m[l[i]\u001b[39m*\u001b[39m\u001b[39m5\u001b[39m \u001b[39mfor\u001b[39;00m i \u001b[39min\u001b[39;00m l]\n\u001b[0;32m      3\u001b[0m \u001b[39mprint\u001b[39m(new_list)\n",
      "\u001b[1;31mIndexError\u001b[0m: list index out of range"
     ]
    }
   ],
   "source": [
    "l=[1,2,3,4,5,6]\n",
    "new_list=[l[i]*5 for i in l]\n",
    "print(new_list)"
   ]
  }
 ],
 "metadata": {
  "kernelspec": {
   "display_name": "Python 3",
   "language": "python",
   "name": "python3"
  },
  "language_info": {
   "codemirror_mode": {
    "name": "ipython",
    "version": 3
   },
   "file_extension": ".py",
   "mimetype": "text/x-python",
   "name": "python",
   "nbconvert_exporter": "python",
   "pygments_lexer": "ipython3",
   "version": "3.11.3"
  },
  "orig_nbformat": 4
 },
 "nbformat": 4,
 "nbformat_minor": 2
}
