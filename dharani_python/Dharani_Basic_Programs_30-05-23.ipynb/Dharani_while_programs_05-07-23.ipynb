{
 "cells": [
  {
   "attachments": {},
   "cell_type": "markdown",
   "metadata": {},
   "source": [
    "1.WAP to print the “hello world” for 5 times by using a while loop."
   ]
  },
  {
   "cell_type": "code",
   "execution_count": 6,
   "metadata": {},
   "outputs": [
    {
     "name": "stdout",
     "output_type": "stream",
     "text": [
      "hello world\n",
      "hello world\n",
      "hello world\n",
      "hello world\n",
      "hello world\n"
     ]
    }
   ],
   "source": [
    "st=\"hello world\"\n",
    "start=0\n",
    "while start<5:\n",
    "    print(st)\n",
    "    start+=1    "
   ]
  },
  {
   "attachments": {},
   "cell_type": "markdown",
   "metadata": {},
   "source": [
    "2.WAP to print the number from 1 to 10 by using a while loop."
   ]
  },
  {
   "cell_type": "code",
   "execution_count": 45,
   "metadata": {},
   "outputs": [
    {
     "name": "stdout",
     "output_type": "stream",
     "text": [
      "1 2 3 4 5 6 7 8 9 10 "
     ]
    }
   ],
   "source": [
    "start=1\n",
    "end=10\n",
    "while start<=end:\n",
    "    print(start,end=\" \")\n",
    "    start+=1"
   ]
  },
  {
   "attachments": {},
   "cell_type": "markdown",
   "metadata": {},
   "source": [
    "3.WAP to print the natural number until 1 to nth times by using a while loop."
   ]
  },
  {
   "cell_type": "code",
   "execution_count": 44,
   "metadata": {},
   "outputs": [
    {
     "name": "stdout",
     "output_type": "stream",
     "text": [
      "1 2 3 4 5 6 7 8 9 10 11 12 13 14 15 16 17 18 19 20 "
     ]
    }
   ],
   "source": [
    "start=1\n",
    "n=20\n",
    "while start<=n:\n",
    "    print(start,end=\" \")\n",
    "    start+=1"
   ]
  },
  {
   "attachments": {},
   "cell_type": "markdown",
   "metadata": {},
   "source": [
    "4.WAP to print the reverse of the natural number nth to 0 times by using a while loop."
   ]
  },
  {
   "cell_type": "code",
   "execution_count": 43,
   "metadata": {},
   "outputs": [
    {
     "name": "stdout",
     "output_type": "stream",
     "text": [
      "20 19 18 17 16 15 14 13 12 11 10 9 8 7 6 5 4 3 2 1 "
     ]
    }
   ],
   "source": [
    "start=20\n",
    "n=1\n",
    "while start>=n:\n",
    "    print(start,end=\" \")\n",
    "    start-=1"
   ]
  },
  {
   "attachments": {},
   "cell_type": "markdown",
   "metadata": {},
   "source": [
    "5.WAP to print the whole number until nth times by using a while loop."
   ]
  },
  {
   "cell_type": "code",
   "execution_count": 42,
   "metadata": {},
   "outputs": [
    {
     "name": "stdout",
     "output_type": "stream",
     "text": [
      "0 1 2 3 4 5 6 7 8 9 10 11 12 13 14 15 16 17 18 19 20 "
     ]
    }
   ],
   "source": [
    "start=0\n",
    "n=20\n",
    "while start<=n:\n",
    "    print(start,end=\" \")\n",
    "    start+=1"
   ]
  },
  {
   "attachments": {},
   "cell_type": "markdown",
   "metadata": {},
   "source": [
    "6.WAP to print the reverse of the whole number until nth times by using a while loop."
   ]
  },
  {
   "cell_type": "code",
   "execution_count": 41,
   "metadata": {},
   "outputs": [
    {
     "name": "stdout",
     "output_type": "stream",
     "text": [
      "20 19 18 17 16 15 14 13 12 11 10 9 8 7 6 5 4 3 2 1 0 "
     ]
    }
   ],
   "source": [
    "start=20\n",
    "n=0\n",
    "while start>=n:\n",
    "    print(start,end=\" \")\n",
    "    start-=1"
   ]
  },
  {
   "attachments": {},
   "cell_type": "markdown",
   "metadata": {},
   "source": [
    "7.WAP to print the even number until nth times by using a while loop."
   ]
  },
  {
   "cell_type": "code",
   "execution_count": 40,
   "metadata": {},
   "outputs": [
    {
     "name": "stdout",
     "output_type": "stream",
     "text": [
      "0 2 4 6 8 10 12 14 16 18 20 22 24 26 28 30 32 34 36 38 40 "
     ]
    }
   ],
   "source": [
    "start=0\n",
    "n=40\n",
    "while start<=n:\n",
    "    if start%2==0:\n",
    "        print(start,end=\" \")\n",
    "    start+=1"
   ]
  },
  {
   "attachments": {},
   "cell_type": "markdown",
   "metadata": {},
   "source": [
    "8.WAP to print reserve the even number until nth times by using a while loop."
   ]
  },
  {
   "cell_type": "code",
   "execution_count": 39,
   "metadata": {},
   "outputs": [
    {
     "name": "stdout",
     "output_type": "stream",
     "text": [
      "40 38 36 34 32 30 28 26 24 22 20 18 16 14 12 10 8 6 4 2 0 "
     ]
    }
   ],
   "source": [
    "start=40\n",
    "n=0\n",
    "while start>=n:\n",
    "    if start%2==0:\n",
    "        print(start,end=\" \")\n",
    "    start-=1"
   ]
  },
  {
   "attachments": {},
   "cell_type": "markdown",
   "metadata": {},
   "source": [
    "9.WAP to print the odd number until nth times by using a while loop."
   ]
  },
  {
   "cell_type": "code",
   "execution_count": 38,
   "metadata": {},
   "outputs": [
    {
     "name": "stdout",
     "output_type": "stream",
     "text": [
      "1 3 5 7 9 11 13 15 17 19 21 23 25 27 29 31 33 35 37 39 "
     ]
    }
   ],
   "source": [
    "start=0\n",
    "n=40\n",
    "while start<=n:\n",
    "    if start%2!=0:\n",
    "        print(start,end=\" \")\n",
    "    start+=1"
   ]
  },
  {
   "attachments": {},
   "cell_type": "markdown",
   "metadata": {},
   "source": [
    "10.WAP to print reserve the odd number until nth times by using a while loop."
   ]
  },
  {
   "cell_type": "code",
   "execution_count": 37,
   "metadata": {},
   "outputs": [
    {
     "name": "stdout",
     "output_type": "stream",
     "text": [
      "39 37 35 33 31 29 27 25 23 21 19 17 15 13 11 9 7 5 3 1 "
     ]
    }
   ],
   "source": [
    "start=40\n",
    "n=0\n",
    "while start>=n:\n",
    "    if start%2!=0:\n",
    "        print(start,end=\" \")\n",
    "    start-=1"
   ]
  },
  {
   "attachments": {},
   "cell_type": "markdown",
   "metadata": {},
   "source": [
    "11.WAP to print the nth table 1 to 20, format ==> 5 * 1 = 5 to 5 * 20 = 100"
   ]
  },
  {
   "cell_type": "code",
   "execution_count": 81,
   "metadata": {},
   "outputs": [
    {
     "name": "stdout",
     "output_type": "stream",
     "text": [
      "5 * 1 = 5\n",
      "5 * 2 = 10\n",
      "5 * 3 = 15\n",
      "5 * 4 = 20\n",
      "5 * 5 = 25\n",
      "5 * 6 = 30\n",
      "5 * 7 = 35\n",
      "5 * 8 = 40\n",
      "5 * 9 = 45\n",
      "5 * 10 = 50\n",
      "5 * 11 = 55\n",
      "5 * 12 = 60\n",
      "5 * 13 = 65\n",
      "5 * 14 = 70\n",
      "5 * 15 = 75\n",
      "5 * 16 = 80\n",
      "5 * 17 = 85\n",
      "5 * 18 = 90\n",
      "5 * 19 = 95\n",
      "5 * 20 = 100\n"
     ]
    }
   ],
   "source": [
    "start=1\n",
    "end=20\n",
    "while start<=end:\n",
    "    print(\"5 *\",start,\"=\",5*start)\n",
    "    start+=1"
   ]
  },
  {
   "attachments": {},
   "cell_type": "markdown",
   "metadata": {},
   "source": [
    "12.WAP to print the nth table 20 to 1, format ==> 5 * 20 = 100 to 5 * 1 = 5"
   ]
  },
  {
   "cell_type": "code",
   "execution_count": 82,
   "metadata": {},
   "outputs": [
    {
     "name": "stdout",
     "output_type": "stream",
     "text": [
      "5 * 20 = 100\n",
      "5 * 19 = 95\n",
      "5 * 18 = 90\n",
      "5 * 17 = 85\n",
      "5 * 16 = 80\n",
      "5 * 15 = 75\n",
      "5 * 14 = 70\n",
      "5 * 13 = 65\n",
      "5 * 12 = 60\n",
      "5 * 11 = 55\n",
      "5 * 10 = 50\n",
      "5 * 9 = 45\n",
      "5 * 8 = 40\n",
      "5 * 7 = 35\n",
      "5 * 6 = 30\n",
      "5 * 5 = 25\n",
      "5 * 4 = 20\n",
      "5 * 3 = 15\n",
      "5 * 2 = 10\n",
      "5 * 1 = 5\n"
     ]
    }
   ],
   "source": [
    "start=20\n",
    "end=1\n",
    "while start>=end:\n",
    "    print(\"5 *\",start,\"=\",5*start)\n",
    "    start-=1"
   ]
  },
  {
   "attachments": {},
   "cell_type": "markdown",
   "metadata": {},
   "source": [
    "13.WAP to print the numbers which are divisible by 3 from 25 to 66."
   ]
  },
  {
   "cell_type": "code",
   "execution_count": 34,
   "metadata": {},
   "outputs": [
    {
     "name": "stdout",
     "output_type": "stream",
     "text": [
      "27 30 33 36 39 42 45 48 51 54 57 60 63 66 "
     ]
    }
   ],
   "source": [
    "start=25\n",
    "end=66\n",
    "while start<=end:\n",
    "    if start%3==0:\n",
    "        print(start,end=\" \")\n",
    "    start+=1"
   ]
  },
  {
   "attachments": {},
   "cell_type": "markdown",
   "metadata": {},
   "source": [
    "14.WAP to print the numbers which are divisible by 3 and 5 from 15 to 76."
   ]
  },
  {
   "cell_type": "code",
   "execution_count": 33,
   "metadata": {},
   "outputs": [
    {
     "name": "stdout",
     "output_type": "stream",
     "text": [
      "15 30 45 60 75 "
     ]
    }
   ],
   "source": [
    "start=15\n",
    "end=76\n",
    "while start<=end:\n",
    "    if start%3==0 and start%5==0:\n",
    "        print(start,end=\" \")\n",
    "    start+=1"
   ]
  },
  {
   "attachments": {},
   "cell_type": "markdown",
   "metadata": {},
   "source": [
    "15.WAP to print the numbers which are divisible by 5 and 7 from 77 to 22."
   ]
  },
  {
   "cell_type": "code",
   "execution_count": 32,
   "metadata": {},
   "outputs": [
    {
     "name": "stdout",
     "output_type": "stream",
     "text": [
      "70 35 "
     ]
    }
   ],
   "source": [
    "start=77\n",
    "end=22\n",
    "while start>=end:\n",
    "    if start%5==0 and start%7==0:\n",
    "        print(start,end=\" \")\n",
    "    start-=1"
   ]
  },
  {
   "attachments": {},
   "cell_type": "markdown",
   "metadata": {},
   "source": [
    "16.WAP to print the ”love you” if value is divisible by 3, or print “hate you” value is \n",
    "divisible by 5, to print “i like you” if divisible by 3 and 5, from 1 to 30."
   ]
  },
  {
   "cell_type": "code",
   "execution_count": 88,
   "metadata": {},
   "outputs": [
    {
     "name": "stdout",
     "output_type": "stream",
     "text": [
      "love you\n",
      "hate you\n",
      "love you\n",
      "love you\n",
      "hate you\n",
      "love you\n",
      "i like you\n",
      "love you\n",
      "hate you\n",
      "love you\n",
      "love you\n",
      "hate you\n",
      "love you\n",
      "i like you\n"
     ]
    }
   ],
   "source": [
    "start=1\n",
    "end=30\n",
    "while start<=end:\n",
    "    if start%3==0 and start%5==0:\n",
    "        print(\"i like you\")\n",
    "    elif start%3==0:\n",
    "        print(\"love you\")\n",
    "    elif start%5==0:\n",
    "        print(\"hate you\")\n",
    "    start+=1 "
   ]
  },
  {
   "attachments": {},
   "cell_type": "markdown",
   "metadata": {},
   "source": [
    "17.WAP to print sum of the 1 to nth natural numbers."
   ]
  },
  {
   "cell_type": "code",
   "execution_count": 93,
   "metadata": {},
   "outputs": [
    {
     "name": "stdout",
     "output_type": "stream",
     "text": [
      "55\n"
     ]
    }
   ],
   "source": [
    "start=1\n",
    "n=10\n",
    "sum=0\n",
    "while start<=n:\n",
    "    sum+=start\n",
    "    start+=1\n",
    "print(sum)    "
   ]
  },
  {
   "attachments": {},
   "cell_type": "markdown",
   "metadata": {},
   "source": [
    "18.WAP to print sum of the even numbers 1 to 20 numbers."
   ]
  },
  {
   "cell_type": "code",
   "execution_count": 94,
   "metadata": {},
   "outputs": [
    {
     "name": "stdout",
     "output_type": "stream",
     "text": [
      "110\n"
     ]
    }
   ],
   "source": [
    "start=1\n",
    "end=20\n",
    "sum=0\n",
    "while start<=end:\n",
    "    if start%2==0:\n",
    "        sum+=start\n",
    "    start+=1\n",
    "print(sum)    "
   ]
  },
  {
   "attachments": {},
   "cell_type": "markdown",
   "metadata": {},
   "source": [
    "\n",
    "19.WAP to print products of the 1 to 6 numbers."
   ]
  },
  {
   "cell_type": "code",
   "execution_count": 95,
   "metadata": {},
   "outputs": [
    {
     "name": "stdout",
     "output_type": "stream",
     "text": [
      "720\n"
     ]
    }
   ],
   "source": [
    "start=1\n",
    "end=6\n",
    "product=1\n",
    "while start<=end:\n",
    "    product*=start\n",
    "    start+=1\n",
    "print(product)    "
   ]
  },
  {
   "attachments": {},
   "cell_type": "markdown",
   "metadata": {},
   "source": [
    "20.WAP to count the no of odd values from 1 to 30 numbers."
   ]
  },
  {
   "cell_type": "code",
   "execution_count": 103,
   "metadata": {},
   "outputs": [
    {
     "name": "stdout",
     "output_type": "stream",
     "text": [
      "15\n"
     ]
    }
   ],
   "source": [
    "start=1\n",
    "end=30\n",
    "count=0\n",
    "while start<=end:\n",
    "    if start%2!=0:\n",
    "        count+=1\n",
    "    start+=1\n",
    "print(count)   "
   ]
  },
  {
   "attachments": {},
   "cell_type": "markdown",
   "metadata": {},
   "source": [
    "21.WAP to print the factors of the given number."
   ]
  },
  {
   "cell_type": "code",
   "execution_count": 97,
   "metadata": {},
   "outputs": [
    {
     "name": "stdout",
     "output_type": "stream",
     "text": [
      "1 2 3 4 6 9 12 18 36 "
     ]
    }
   ],
   "source": [
    "n=36\n",
    "start=1\n",
    "while start<=n:\n",
    "    if n%start==0:\n",
    "        print(start,end=\" \")\n",
    "    start+=1"
   ]
  },
  {
   "attachments": {},
   "cell_type": "markdown",
   "metadata": {},
   "source": [
    "22.WAP to sum of the factors of the given number."
   ]
  },
  {
   "cell_type": "code",
   "execution_count": 100,
   "metadata": {},
   "outputs": [
    {
     "name": "stdout",
     "output_type": "stream",
     "text": [
      "91\n"
     ]
    }
   ],
   "source": [
    "n=36\n",
    "start=1\n",
    "sum=0\n",
    "while start<=n:\n",
    "    if n%start==0:\n",
    "        sum+=start\n",
    "    start+=1\n",
    "print(sum)    "
   ]
  },
  {
   "attachments": {},
   "cell_type": "markdown",
   "metadata": {},
   "source": [
    "23.WAP to prod of the factors of the given number."
   ]
  },
  {
   "cell_type": "code",
   "execution_count": 104,
   "metadata": {},
   "outputs": [
    {
     "name": "stdout",
     "output_type": "stream",
     "text": [
      "10077696\n"
     ]
    }
   ],
   "source": [
    "n=36\n",
    "start=1\n",
    "product=1\n",
    "while start<=n:\n",
    "    if n%start==0:\n",
    "        product*=start\n",
    "    start+=1\n",
    "print(product)    "
   ]
  },
  {
   "attachments": {},
   "cell_type": "markdown",
   "metadata": {},
   "source": [
    "24.WAP to print Fibonacci series 0 to nth."
   ]
  },
  {
   "cell_type": "code",
   "execution_count": 105,
   "metadata": {},
   "outputs": [
    {
     "name": "stdout",
     "output_type": "stream",
     "text": [
      "1 2 3 5 8 13 21 34 55 89 144 233 377 610 987 1597 2584 4181 6765 10946 17711 28657 46368 75025 121393 196418 317811 514229 832040 1346269 "
     ]
    }
   ],
   "source": [
    "start=0\n",
    "n=30\n",
    "a=0\n",
    "b=1\n",
    "while start<end:\n",
    "    c=a+b\n",
    "    print(c,end=\" \")\n",
    "    a=b\n",
    "    b=c\n",
    "    start+=1\n",
    "    "
   ]
  },
  {
   "attachments": {},
   "cell_type": "markdown",
   "metadata": {},
   "source": [
    "25.WAP to find out the factorial number of a given number."
   ]
  },
  {
   "cell_type": "code",
   "execution_count": 109,
   "metadata": {},
   "outputs": [
    {
     "name": "stdout",
     "output_type": "stream",
     "text": [
      "479001600\n"
     ]
    }
   ],
   "source": [
    "n=12\n",
    "fact=1\n",
    "while n:\n",
    "    fact*=n\n",
    "    n=n-1\n",
    "print(fact)"
   ]
  },
  {
   "attachments": {},
   "cell_type": "markdown",
   "metadata": {},
   "source": [
    "26.WAP to print the factorial numbers in the given range m to n."
   ]
  },
  {
   "cell_type": "code",
   "execution_count": 31,
   "metadata": {},
   "outputs": [
    {
     "ename": "KeyboardInterrupt",
     "evalue": "",
     "output_type": "error",
     "traceback": [
      "\u001b[1;31m---------------------------------------------------------------------------\u001b[0m",
      "\u001b[1;31mKeyboardInterrupt\u001b[0m                         Traceback (most recent call last)",
      "Cell \u001b[1;32mIn[31], line 4\u001b[0m\n\u001b[0;32m      2\u001b[0m n\u001b[39m=\u001b[39m\u001b[39m16\u001b[39m \n\u001b[0;32m      3\u001b[0m fact\u001b[39m=\u001b[39m\u001b[39m1\u001b[39m \n\u001b[1;32m----> 4\u001b[0m \u001b[39mwhile\u001b[39;00m m\u001b[39m<\u001b[39m\u001b[39m=\u001b[39mn: \n\u001b[0;32m      5\u001b[0m     fact\u001b[39m*\u001b[39m\u001b[39m=\u001b[39mm \n\u001b[0;32m      6\u001b[0m     m\u001b[39m=\u001b[39mm\u001b[39m-\u001b[39m\u001b[39m1\u001b[39m \n",
      "\u001b[1;31mKeyboardInterrupt\u001b[0m: "
     ]
    }
   ],
   "source": [
    "m=6         #############################\n",
    "n=16 \n",
    "fact=1 \n",
    "while m<=n: \n",
    "    fact*=m \n",
    "    m=m-1 \n",
    "if m==n: \n",
    "    print(fact) "
   ]
  },
  {
   "attachments": {},
   "cell_type": "markdown",
   "metadata": {},
   "source": [
    "27.WAP to check whether a given number is a prime number or not."
   ]
  },
  {
   "cell_type": "code",
   "execution_count": 148,
   "metadata": {},
   "outputs": [
    {
     "name": "stdout",
     "output_type": "stream",
     "text": [
      "prime number\n"
     ]
    }
   ],
   "source": [
    "n=2\n",
    "start=1\n",
    "count=0\n",
    "while start<=n:\n",
    "    if n%start==0:\n",
    "        count+=1\n",
    "    start+=1\n",
    "if count==2:        \n",
    "   print(\"prime number\")\n",
    "else:\n",
    "    print(\"not a prime number\")    "
   ]
  },
  {
   "attachments": {},
   "cell_type": "markdown",
   "metadata": {},
   "source": [
    "28.WAP to print the prime numbers in the given range m to n.\n"
   ]
  },
  {
   "cell_type": "code",
   "execution_count": 67,
   "metadata": {},
   "outputs": [
    {
     "name": "stdout",
     "output_type": "stream",
     "text": [
      "2 3 5 7 11 13 17 19 23 29 31 37 41 43 47 53 59 61 67 71 73 79 83 89 97 "
     ]
    }
   ],
   "source": [
    "start=1\n",
    "end=100\n",
    "while start<=100:\n",
    "    count=0\n",
    "    i=2\n",
    "    while i<=start//2:\n",
    "        if start%i==0:\n",
    "            count+=1\n",
    "            break\n",
    "        i+=1\n",
    "    if count==0 and start!=1:\n",
    "        print(\"%d\" %start,end=' ')\n",
    "    start+=1            \n",
    "    \n",
    "           "
   ]
  },
  {
   "attachments": {},
   "cell_type": "markdown",
   "metadata": {},
   "source": [
    "29.WAP to check whether a given number is an armstrong number or not."
   ]
  },
  {
   "cell_type": "code",
   "execution_count": 152,
   "metadata": {},
   "outputs": [
    {
     "name": "stdout",
     "output_type": "stream",
     "text": [
      "153\n",
      "armstrong number\n"
     ]
    }
   ],
   "source": [
    "n=153\n",
    "m=n\n",
    "sum=0\n",
    "count=3\n",
    "while n:\n",
    "    res=n%10\n",
    "    sum=sum+res**(count)\n",
    "    n=n//10 \n",
    "print(sum)\n",
    "if sum==m:\n",
    "    print(\"armstrong number\")\n",
    "else:\n",
    "    print(\"not an armstrong number\")     "
   ]
  },
  {
   "attachments": {},
   "cell_type": "markdown",
   "metadata": {},
   "source": [
    "30.WAP to print the armstrong numbers in the given range m to n."
   ]
  },
  {
   "cell_type": "code",
   "execution_count": null,
   "metadata": {},
   "outputs": [],
   "source": []
  },
  {
   "attachments": {},
   "cell_type": "markdown",
   "metadata": {},
   "source": [
    "31.Write a program to print prime series 1 to nth."
   ]
  },
  {
   "cell_type": "code",
   "execution_count": 23,
   "metadata": {},
   "outputs": [
    {
     "name": "stdout",
     "output_type": "stream",
     "text": [
      "2 3 5 7 11 13 17 19 23 29 31 37 41 43 47 "
     ]
    }
   ],
   "source": [
    "start=1\n",
    "end=50\n",
    "while start<=end:\n",
    "    count=0\n",
    "    i=2\n",
    "    while i<=start//2:\n",
    "        if start%i==0:\n",
    "            count+=1\n",
    "            break\n",
    "        i+=1\n",
    "    if count==0 and start!=1:\n",
    "        print(\"%d\" %start,end=' ')\n",
    "    start+=1        "
   ]
  },
  {
   "attachments": {},
   "cell_type": "markdown",
   "metadata": {},
   "source": [
    "32.Write a program to print 1 to 100 prime numbers in fibonacci series."
   ]
  },
  {
   "cell_type": "code",
   "execution_count": 3,
   "metadata": {},
   "outputs": [
    {
     "name": "stdout",
     "output_type": "stream",
     "text": [
      "0 1 1 2 3 5 8 13 21 34 55 89 144 "
     ]
    }
   ],
   "source": [
    "m=1\n",
    "n=12\n",
    "a=0\n",
    "b=1\n",
    "print(a,b,end=' ')\n",
    "while m<n:\n",
    "    c=a+b\n",
    "    print(c,end=' ')\n",
    "    a=b\n",
    "    b=c\n",
    "    m+=1\n",
    "    "
   ]
  },
  {
   "attachments": {},
   "cell_type": "markdown",
   "metadata": {},
   "source": [
    "33.Write a program Sum of prime numbers in a given collection."
   ]
  },
  {
   "cell_type": "code",
   "execution_count": null,
   "metadata": {},
   "outputs": [],
   "source": []
  },
  {
   "attachments": {},
   "cell_type": "markdown",
   "metadata": {},
   "source": [
    "34.WAP to the given number is palindrome or not."
   ]
  },
  {
   "cell_type": "code",
   "execution_count": 158,
   "metadata": {},
   "outputs": [
    {
     "name": "stdout",
     "output_type": "stream",
     "text": [
      "palindrome\n"
     ]
    }
   ],
   "source": [
    "n=12321\n",
    "m=n\n",
    "sum=0\n",
    "while n:\n",
    "    res=n%10\n",
    "    sum=sum*10+res\n",
    "    n=n//10\n",
    "if sum==m:\n",
    "    print(\"palindrome\")\n",
    "else:\n",
    "    print(\"not a palindrome\")    "
   ]
  },
  {
   "attachments": {},
   "cell_type": "markdown",
   "metadata": {},
   "source": [
    "35.WAP to check whether the length of the string is even or odd. If it is even, print \n",
    "that string 10 times. If it is not printed 5 times."
   ]
  },
  {
   "cell_type": "code",
   "execution_count": 22,
   "metadata": {},
   "outputs": [
    {
     "name": "stdout",
     "output_type": "stream",
     "text": [
      "dharanidharanidharanidharanidharani\n"
     ]
    }
   ],
   "source": [
    "st=\"dharani\"\n",
    "start=1\n",
    "end=len(st)\n",
    "while start<end:\n",
    "    if end%2==0:\n",
    "        print(st*10)\n",
    "    start+=1    \n",
    "if end%2!=0:\n",
    "    print(st*5) \n",
    "start+=1            \n"
   ]
  },
  {
   "attachments": {},
   "cell_type": "markdown",
   "metadata": {},
   "source": [
    "36.WAP to print the uppercase character from ‘A’ to ‘Z’ by using a while loop."
   ]
  },
  {
   "cell_type": "code",
   "execution_count": 18,
   "metadata": {},
   "outputs": [
    {
     "name": "stdout",
     "output_type": "stream",
     "text": [
      "A B C D E F G H I J K L M N O P Q R S T U V W X Y Z "
     ]
    }
   ],
   "source": [
    "start=65\n",
    "end=90\n",
    "while start<=end:\n",
    "    print(chr(start),end=\" \")\n",
    "    start+=1"
   ]
  },
  {
   "attachments": {},
   "cell_type": "markdown",
   "metadata": {},
   "source": [
    "37.WAP to print the lowercase character from ‘a’ to ‘z’ by using a while loop."
   ]
  },
  {
   "cell_type": "code",
   "execution_count": 17,
   "metadata": {},
   "outputs": [
    {
     "name": "stdout",
     "output_type": "stream",
     "text": [
      "a b c d e f g h i j k l m n o p q r s t u v w x y z "
     ]
    }
   ],
   "source": [
    "start=97\n",
    "end=122\n",
    "while start<=end:\n",
    "    print(chr(start),end=\" \")\n",
    "    start+=1"
   ]
  },
  {
   "attachments": {},
   "cell_type": "markdown",
   "metadata": {},
   "source": [
    "38.WAP to print the ascii numbers character from ‘0’ to ‘9’ by using a while loop."
   ]
  },
  {
   "cell_type": "code",
   "execution_count": 19,
   "metadata": {},
   "outputs": [
    {
     "name": "stdout",
     "output_type": "stream",
     "text": [
      "0 1 2 3 4 5 6 7 8 9 "
     ]
    }
   ],
   "source": [
    "start=48\n",
    "end=57\n",
    "while start<=end:\n",
    "    print(chr(start),end=\" \")\n",
    "    start+=1"
   ]
  },
  {
   "attachments": {},
   "cell_type": "markdown",
   "metadata": {},
   "source": [
    "39.WAP to print the uppercase character from ‘E’ to ‘U’ by using a while loop."
   ]
  },
  {
   "cell_type": "code",
   "execution_count": 20,
   "metadata": {},
   "outputs": [
    {
     "name": "stdout",
     "output_type": "stream",
     "text": [
      "E F G H I J K L M N O P Q R S T U "
     ]
    }
   ],
   "source": [
    "start=69\n",
    "end=85\n",
    "while start<=end:\n",
    "    print(chr(start),end=\" \")\n",
    "    start+=1"
   ]
  },
  {
   "attachments": {},
   "cell_type": "markdown",
   "metadata": {},
   "source": [
    "40.WAP to print the uppercase character from ‘Z’ to ‘A’ by using a while loop."
   ]
  },
  {
   "cell_type": "code",
   "execution_count": 21,
   "metadata": {},
   "outputs": [
    {
     "name": "stdout",
     "output_type": "stream",
     "text": [
      "Z Y X W V U T S R Q P O N M L K J I H G F E D C B A "
     ]
    }
   ],
   "source": [
    "start=90\n",
    "end=65\n",
    "while start>=end:\n",
    "    print(chr(start),end=\" \")\n",
    "    start-=1"
   ]
  },
  {
   "attachments": {},
   "cell_type": "markdown",
   "metadata": {},
   "source": [
    "41.WAP to print the uppercase character from ‘U’ to ‘G’ by using a while loop."
   ]
  },
  {
   "cell_type": "code",
   "execution_count": 22,
   "metadata": {},
   "outputs": [
    {
     "name": "stdout",
     "output_type": "stream",
     "text": [
      "U T S R Q P O N M L K J I H G "
     ]
    }
   ],
   "source": [
    "start=85\n",
    "end=71\n",
    "while start>=end:\n",
    "    print(chr(start),end=\" \")\n",
    "    start-=1"
   ]
  },
  {
   "attachments": {},
   "cell_type": "markdown",
   "metadata": {},
   "source": [
    "42.WAP to print the lowercase character from ‘i’ to ‘y’ by using a while loop."
   ]
  },
  {
   "cell_type": "code",
   "execution_count": 23,
   "metadata": {},
   "outputs": [
    {
     "name": "stdout",
     "output_type": "stream",
     "text": [
      "i j k l m n o p q r s t u v w x y "
     ]
    }
   ],
   "source": [
    "start=105\n",
    "end=121\n",
    "while start<=end:\n",
    "    print(chr(start),end=\" \")\n",
    "    start+=1"
   ]
  },
  {
   "attachments": {},
   "cell_type": "markdown",
   "metadata": {},
   "source": [
    "43.WAP to print the lowercase character from ‘z’ to ‘a’ by using a while loop."
   ]
  },
  {
   "cell_type": "code",
   "execution_count": 24,
   "metadata": {},
   "outputs": [
    {
     "name": "stdout",
     "output_type": "stream",
     "text": [
      "z y x w v u t s r q p o n m l k j i h g f e d c b a "
     ]
    }
   ],
   "source": [
    "start=122\n",
    "end=97\n",
    "while start>=end:\n",
    "    print(chr(start),end=\" \")\n",
    "    start-=1"
   ]
  },
  {
   "attachments": {},
   "cell_type": "markdown",
   "metadata": {},
   "source": [
    "44.WAP to print the lowercase character from ‘p’ to ‘c’ by using a while loop."
   ]
  },
  {
   "cell_type": "code",
   "execution_count": 25,
   "metadata": {},
   "outputs": [
    {
     "name": "stdout",
     "output_type": "stream",
     "text": [
      "p o n m l k j i h g f e d c "
     ]
    }
   ],
   "source": [
    "start=112\n",
    "end=99\n",
    "while start>=end:\n",
    "    print(chr(start),end=\" \")\n",
    "    start-=1"
   ]
  },
  {
   "attachments": {},
   "cell_type": "markdown",
   "metadata": {},
   "source": [
    "45.WAP to print the uppercase characters based on even ascii values."
   ]
  },
  {
   "cell_type": "code",
   "execution_count": 28,
   "metadata": {},
   "outputs": [
    {
     "name": "stdout",
     "output_type": "stream",
     "text": [
      "B D F H J L N P R T V X Z "
     ]
    }
   ],
   "source": [
    "start=65\n",
    "end=90\n",
    "while start<=end:\n",
    "    if start%2==0:\n",
    "        print(chr(start),end=\" \")\n",
    "    start+=1"
   ]
  },
  {
   "attachments": {},
   "cell_type": "markdown",
   "metadata": {},
   "source": [
    "46.WAP to print the lowercase characters based on even ascii values."
   ]
  },
  {
   "cell_type": "code",
   "execution_count": 29,
   "metadata": {},
   "outputs": [
    {
     "name": "stdout",
     "output_type": "stream",
     "text": [
      "b d f h j l n p r t v x z "
     ]
    }
   ],
   "source": [
    "start=97\n",
    "end=122\n",
    "while start<=end:\n",
    "    if start%2==0:\n",
    "        print(chr(start),end=\" \")\n",
    "    start+=1"
   ]
  },
  {
   "attachments": {},
   "cell_type": "markdown",
   "metadata": {},
   "source": [
    "47.WAP to print the uppercase characters based on odd ascii values."
   ]
  },
  {
   "cell_type": "code",
   "execution_count": 30,
   "metadata": {},
   "outputs": [
    {
     "name": "stdout",
     "output_type": "stream",
     "text": [
      "A C E G I K M O Q S U W Y "
     ]
    }
   ],
   "source": [
    "start=65\n",
    "end=90\n",
    "while start<=end:\n",
    "    if start%2!=0:\n",
    "        print(chr(start),end=\" \")\n",
    "    start+=1"
   ]
  },
  {
   "attachments": {},
   "cell_type": "markdown",
   "metadata": {},
   "source": [
    "48.WAP to print the lowercase characters based on odd ascii values."
   ]
  },
  {
   "cell_type": "code",
   "execution_count": 31,
   "metadata": {},
   "outputs": [
    {
     "name": "stdout",
     "output_type": "stream",
     "text": [
      "a c e g i k m o q s u w y "
     ]
    }
   ],
   "source": [
    "start=97\n",
    "end=122\n",
    "while start<=end:\n",
    "    if start%2!=0:\n",
    "        print(chr(start),end=\" \")\n",
    "    start+=1"
   ]
  },
  {
   "attachments": {},
   "cell_type": "markdown",
   "metadata": {},
   "source": [
    "49.WAP to print all the even characters from ‘A’ to ‘Z’."
   ]
  },
  {
   "cell_type": "code",
   "execution_count": 2,
   "metadata": {},
   "outputs": [
    {
     "name": "stdout",
     "output_type": "stream",
     "text": [
      "B D F H J L N P R T V X Z "
     ]
    }
   ],
   "source": [
    "start=65\n",
    "end=90\n",
    "while start<=end:\n",
    "    if start%2==0:\n",
    "        print(chr(start),end=\" \")\n",
    "    start+=1"
   ]
  },
  {
   "attachments": {},
   "cell_type": "markdown",
   "metadata": {},
   "source": [
    "50.WAP to print all the odd characters from ‘a’ to ‘z’."
   ]
  },
  {
   "cell_type": "code",
   "execution_count": 3,
   "metadata": {},
   "outputs": [
    {
     "name": "stdout",
     "output_type": "stream",
     "text": [
      "a c e g i k m o q s u w y "
     ]
    }
   ],
   "source": [
    "start=97\n",
    "end=122\n",
    "while start<=end:\n",
    "    if start%2!=0:\n",
    "        print(chr(start),end=\" \")\n",
    "    start+=1"
   ]
  },
  {
   "attachments": {},
   "cell_type": "markdown",
   "metadata": {},
   "source": [
    "51.WAP to count the number of vowels present in D to V."
   ]
  },
  {
   "cell_type": "code",
   "execution_count": 49,
   "metadata": {},
   "outputs": [
    {
     "name": "stdout",
     "output_type": "stream",
     "text": [
      "4\n"
     ]
    }
   ],
   "source": [
    "start=68\n",
    "end=86\n",
    "count=0\n",
    "while start<=end:\n",
    "    if (chr(start)) in \"AEIOUaeiou\":\n",
    "        count+=1\n",
    "    start+=1\n",
    "print(count)   "
   ]
  },
  {
   "attachments": {},
   "cell_type": "markdown",
   "metadata": {},
   "source": [
    "52.WAP to count the number of vowels present in u to e."
   ]
  },
  {
   "cell_type": "code",
   "execution_count": 4,
   "metadata": {},
   "outputs": [
    {
     "name": "stdout",
     "output_type": "stream",
     "text": [
      "4\n"
     ]
    }
   ],
   "source": [
    "start=117\n",
    "end=101\n",
    "count=0\n",
    "while start>=end:\n",
    "    if (chr(start)) in \"AEIOUaeiou\":\n",
    "        count+=1\n",
    "    start-=1\n",
    "print(count) "
   ]
  },
  {
   "attachments": {},
   "cell_type": "markdown",
   "metadata": {},
   "source": [
    "53.WAP to print the square of the number in between the range from m to n which is multiple of 3. WAP to print a number from range m to n which is divisible by 5."
   ]
  },
  {
   "cell_type": "code",
   "execution_count": 45,
   "metadata": {},
   "outputs": [
    {
     "name": "stdout",
     "output_type": "stream",
     "text": [
      "9 36 81 *--**--**--**--**--**--**--**--*\n",
      "5 10 15 20 25 30 35 40 45 50 "
     ]
    }
   ],
   "source": [
    "m=1\n",
    "n=10\n",
    "while m<=n:\n",
    "    if m%3==0:\n",
    "        print(m**2,end=\" \")\n",
    "    m+=1\n",
    "print(\"*--*\"*8)\n",
    "m=5\n",
    "n=50\n",
    "while m<=n:\n",
    "    if m%5==0:\n",
    "        print(m,end=\" \")\n",
    "    m+=1"
   ]
  },
  {
   "attachments": {},
   "cell_type": "markdown",
   "metadata": {},
   "source": [
    "54.Write a program which takes an integer number and find the sum of digits and repeat until the sum gets a single digit in the end.\n",
    "Example:\n",
    "Input 5643\n",
    " \n",
    "Example:\n",
    " 5+6+4+3 =>18 \n",
    " 1+8=>9\n",
    "Output 9"
   ]
  },
  {
   "cell_type": "code",
   "execution_count": 6,
   "metadata": {},
   "outputs": [
    {
     "name": "stdout",
     "output_type": "stream",
     "text": [
      "18\n",
      "9\n"
     ]
    }
   ],
   "source": [
    "n=5643\n",
    "sum=0\n",
    "while n:\n",
    "    res=n%10\n",
    "    sum+=res \n",
    "    n=n//10\n",
    "print(sum)     \n",
    "sum1=0\n",
    "while sum:\n",
    "    res1=sum%10\n",
    "    sum1+=res1\n",
    "    sum=sum//10\n",
    "print(sum1) "
   ]
  },
  {
   "cell_type": "code",
   "execution_count": 4,
   "metadata": {},
   "outputs": [
    {
     "name": "stdout",
     "output_type": "stream",
     "text": [
      "9\n"
     ]
    }
   ],
   "source": [
    "n=5643\n",
    "while n>9:\n",
    "    sum=0\n",
    "    while n:\n",
    "        res=n%10\n",
    "        sum+=res\n",
    "        n=n//10\n",
    "    if sum>9:\n",
    "        n=sum\n",
    "    else:\n",
    "        print(sum)\n",
    "        break        "
   ]
  },
  {
   "attachments": {},
   "cell_type": "markdown",
   "metadata": {},
   "source": [
    "55.Write a program to count the numbers of 2’s between 0 and n\n",
    "Input n=35\n",
    " Example: 2,12,20,21,22,23,24,25,26,27,28,29,32\n",
    "Output 14\n"
   ]
  },
  {
   "cell_type": "code",
   "execution_count": 1,
   "metadata": {},
   "outputs": [
    {
     "name": "stdout",
     "output_type": "stream",
     "text": [
      "2 3 4 5 6 7 8 9 10 11 12 13 14 15 16 17 18 19 20 21 22 23 24 25 26 27 28 29 30 31 32 33 34 35 "
     ]
    }
   ],
   "source": [
    "start=2           ############################\n",
    "end=35\n",
    "count=0\n",
    "while start<=end:\n",
    "    print(start,end=\" \")\n",
    "    start+=1\n",
    "    #if count==2:\n",
    "        "
   ]
  },
  {
   "attachments": {},
   "cell_type": "markdown",
   "metadata": {},
   "source": [
    "56.WAP to print all the characters in a given string."
   ]
  },
  {
   "cell_type": "code",
   "execution_count": 25,
   "metadata": {},
   "outputs": [
    {
     "name": "stdout",
     "output_type": "stream",
     "text": [
      "dharani"
     ]
    }
   ],
   "source": [
    "st=\"dharani\" \n",
    "start=0\n",
    "end=len(st)\n",
    "while start<end:\n",
    "    print(st[start],end=\"\")\n",
    "    start+=1"
   ]
  },
  {
   "attachments": {},
   "cell_type": "markdown",
   "metadata": {},
   "source": [
    "57.WAP to print all the items present in the string between the range from m to n."
   ]
  },
  {
   "cell_type": "code",
   "execution_count": 2,
   "metadata": {},
   "outputs": [
    {
     "name": "stdout",
     "output_type": "stream",
     "text": [
      "d h a r a n i 1 2 "
     ]
    }
   ],
   "source": [
    "st=\"dharani1234\"  \n",
    "start=0\n",
    "end=9\n",
    "while start<end:\n",
    "    print(st[start],end=\" \")\n",
    "    start+=1"
   ]
  },
  {
   "attachments": {},
   "cell_type": "markdown",
   "metadata": {},
   "source": [
    "58.WAP to print the uppercase characters in a given string."
   ]
  },
  {
   "cell_type": "code",
   "execution_count": 40,
   "metadata": {},
   "outputs": [
    {
     "name": "stdout",
     "output_type": "stream",
     "text": [
      "D R N "
     ]
    }
   ],
   "source": [
    "st=\"DhaRaNi\"  \n",
    "start=0\n",
    "end=len(st)\n",
    "while start<end:\n",
    "    if 'A'<=st[start]<='Z':\n",
    "        print(st[start],end=\" \")\n",
    "    start+=1    "
   ]
  },
  {
   "attachments": {},
   "cell_type": "markdown",
   "metadata": {},
   "source": [
    "59.WAP to print the lowercase characters in a given string."
   ]
  },
  {
   "cell_type": "code",
   "execution_count": 41,
   "metadata": {},
   "outputs": [
    {
     "name": "stdout",
     "output_type": "stream",
     "text": [
      "h a a i "
     ]
    }
   ],
   "source": [
    "st=\"DhaRaNi\"  \n",
    "start=0\n",
    "end=len(st)\n",
    "while start<end:\n",
    "    if 'a'<=st[start]<='z':\n",
    "        print(st[start],end=\" \")\n",
    "    start+=1  "
   ]
  },
  {
   "attachments": {},
   "cell_type": "markdown",
   "metadata": {},
   "source": [
    "60.WAP to print the ascii numbers(Digits) characters in a given string."
   ]
  },
  {
   "cell_type": "code",
   "execution_count": 42,
   "metadata": {},
   "outputs": [
    {
     "name": "stdout",
     "output_type": "stream",
     "text": [
      "68 104 97 82 97 78 105 "
     ]
    }
   ],
   "source": [
    "st=\"DhaRaNi\"  \n",
    "start=0\n",
    "end=len(st)\n",
    "while start<end:\n",
    "        print(ord(st[start]),end=\" \")\n",
    "        start+=1  "
   ]
  },
  {
   "attachments": {},
   "cell_type": "markdown",
   "metadata": {},
   "source": [
    "61.WAP to print the special characters in a given string."
   ]
  },
  {
   "cell_type": "code",
   "execution_count": 43,
   "metadata": {},
   "outputs": [
    {
     "name": "stdout",
     "output_type": "stream",
     "text": [
      "@ @ ! "
     ]
    }
   ],
   "source": [
    "st=\"Dh@r@n!i\"\n",
    "start=0\n",
    "while start<end:\n",
    "    if not ('A'<=st[start]<='Z' or 'a'<=st[start]<='z' or '0'<=st[start]<='9'):\n",
    "        print(st[start],end=\" \")\n",
    "    start+=1  "
   ]
  },
  {
   "attachments": {},
   "cell_type": "markdown",
   "metadata": {},
   "source": [
    "62.WAP to Print the vowels in a given string."
   ]
  },
  {
   "cell_type": "code",
   "execution_count": 45,
   "metadata": {},
   "outputs": [
    {
     "name": "stdout",
     "output_type": "stream",
     "text": [
      "a a i "
     ]
    }
   ],
   "source": [
    "st=\"dharani\"  \n",
    "start=0\n",
    "while start<end:\n",
    "    if st[start] in \"AEIOUaeiou\":\n",
    "        print(st[start],end=\" \")\n",
    "    start+=1    "
   ]
  },
  {
   "attachments": {},
   "cell_type": "markdown",
   "metadata": {},
   "source": [
    "63.WAP to Print the consonants in a given string."
   ]
  },
  {
   "cell_type": "code",
   "execution_count": 46,
   "metadata": {},
   "outputs": [
    {
     "name": "stdout",
     "output_type": "stream",
     "text": [
      "d h r n "
     ]
    }
   ],
   "source": [
    "st=\"dharani\"  \n",
    "start=0\n",
    "while start<end:\n",
    "    if st[start] not in \"AEIOUaeiou\":\n",
    "        print(st[start],end=\" \")\n",
    "    start+=1 "
   ]
  },
  {
   "attachments": {},
   "cell_type": "markdown",
   "metadata": {},
   "source": [
    "64.WAP to print the reverse of the characters in a given string."
   ]
  },
  {
   "cell_type": "code",
   "execution_count": 82,
   "metadata": {},
   "outputs": [
    {
     "name": "stdout",
     "output_type": "stream",
     "text": [
      "inarahd\n"
     ]
    }
   ],
   "source": [
    "st=\"dharani\" \n",
    "start=0\n",
    "end=len(st)\n",
    "while start<end:\n",
    "    start+=1\n",
    "    print(st[::-1])\n",
    "    break\n",
    "    \n",
    "\n"
   ]
  },
  {
   "attachments": {},
   "cell_type": "markdown",
   "metadata": {},
   "source": [
    "65.WAP to print even position values characters in a given string."
   ]
  },
  {
   "cell_type": "code",
   "execution_count": 85,
   "metadata": {},
   "outputs": [
    {
     "name": "stdout",
     "output_type": "stream",
     "text": [
      "d a a i "
     ]
    }
   ],
   "source": [
    "st=\"dharani\"  \n",
    "start=0\n",
    "end=len(st)\n",
    "while start<end:\n",
    "    if start%2==0:\n",
    "        print(st[start],end=\" \")\n",
    "    start+=1"
   ]
  },
  {
   "attachments": {},
   "cell_type": "markdown",
   "metadata": {},
   "source": [
    "66.WAP to print odd position values characters in a given string."
   ]
  },
  {
   "cell_type": "code",
   "execution_count": 86,
   "metadata": {},
   "outputs": [
    {
     "name": "stdout",
     "output_type": "stream",
     "text": [
      "h r n "
     ]
    }
   ],
   "source": [
    "st=\"dharani\"  \n",
    "start=0\n",
    "end=len(st)\n",
    "while start<end:\n",
    "    if start%2!=0:\n",
    "        print(st[start],end=\" \")\n",
    "    start+=1"
   ]
  },
  {
   "attachments": {},
   "cell_type": "markdown",
   "metadata": {},
   "source": [
    "67.I/p: ‘hello world 123 haii’\n",
    "o/p:’eoo123aii’"
   ]
  },
  {
   "cell_type": "code",
   "execution_count": 95,
   "metadata": {},
   "outputs": [
    {
     "name": "stdout",
     "output_type": "stream",
     "text": [
      "eoo123aii"
     ]
    }
   ],
   "source": [
    "st=\"hello world 123 haii\"\n",
    "start=1\n",
    "end=7\n",
    "while start<=end:\n",
    "    print(st[start],end=\"\")\n",
    "    start+=3\n",
    "start=12\n",
    "end=14\n",
    "while start<=end:\n",
    "    print(st[start],end=\"\")\n",
    "    start+=1 \n",
    "start=17\n",
    "end=19\n",
    "while start<=end:\n",
    "    print(st[start],end=\"\")\n",
    "    start+=1        \n"
   ]
  },
  {
   "attachments": {},
   "cell_type": "markdown",
   "metadata": {},
   "source": [
    "68.I/p: ‘hello world 123 haii’\n",
    "o/p:’eo o 123 aii’"
   ]
  },
  {
   "cell_type": "code",
   "execution_count": 104,
   "metadata": {},
   "outputs": [
    {
     "name": "stdout",
     "output_type": "stream",
     "text": [
      "eo o 123 aii"
     ]
    }
   ],
   "source": [
    "st=\"hello world 123 haii\"\n",
    "start=1\n",
    "end=4\n",
    "while start<=end:\n",
    "    print(st[start],end=\"\")\n",
    "    start+=3\n",
    "start=5\n",
    "end=7\n",
    "while start<=end:\n",
    "    print(st[start],end=\"\")\n",
    "    start+=2 \n",
    "start=11\n",
    "end=15\n",
    "while start<=end:\n",
    "    print(st[start],end=\"\")\n",
    "    start+=1\n",
    "start=17\n",
    "end=19\n",
    "while start<=end:\n",
    "    print(st[start],end=\"\")\n",
    "    start+=1           "
   ]
  },
  {
   "attachments": {},
   "cell_type": "markdown",
   "metadata": {},
   "source": [
    "69.I/p: ‘hello world 123 haii’\n",
    "   o/p:’eo o aii’"
   ]
  },
  {
   "cell_type": "code",
   "execution_count": 19,
   "metadata": {},
   "outputs": [
    {
     "name": "stdout",
     "output_type": "stream",
     "text": [
      "eo o aii"
     ]
    }
   ],
   "source": [
    "st=\"hello world 123 haii\"\n",
    "start=1\n",
    "end=4\n",
    "while start<=end:\n",
    "    print(st[start],end=\"\")\n",
    "    start+=3\n",
    "start=5\n",
    "end=7\n",
    "while start<=end:\n",
    "    print(st[start],end=\"\")\n",
    "    start+=2 \n",
    "start=15\n",
    "end=20\n",
    "while start<=end:\n",
    "    print(st[start],end='')\n",
    "    start+=2\n",
    "start=19\n",
    "end=19\n",
    "while start==end:\n",
    "    print(st[start],end=\"\")\n",
    "    start+=1            "
   ]
  },
  {
   "cell_type": "markdown",
   "metadata": {},
   "source": [
    "70.I/p: ‘hello world 123 haii’\n",
    "   o/p:’hll world haii’"
   ]
  },
  {
   "cell_type": "code",
   "execution_count": 38,
   "metadata": {},
   "outputs": [
    {
     "name": "stdout",
     "output_type": "stream",
     "text": [
      "hll world haii"
     ]
    }
   ],
   "source": [
    "st=\"hello world 123 haii\"\n",
    "start=0\n",
    "end=2\n",
    "while start<=end:\n",
    "    print(st[start],end=\"\")\n",
    "    start+=2\n",
    "start=3\n",
    "end=start\n",
    "while start==end:\n",
    "    print(st[start],end=\"\")\n",
    "    start+=1\n",
    "start=5\n",
    "end=10\n",
    "while start<=end:\n",
    "    print(st[start],end=\"\")\n",
    "    start+=1 \n",
    "start=15\n",
    "while start<len(st):\n",
    "    print(st[start],end=\"\")\n",
    "    start+=1           "
   ]
  },
  {
   "cell_type": "markdown",
   "metadata": {},
   "source": [
    "71.i/p:’hello world’\n",
    "   o/p:’hll wrld’\n",
    "   o/p:’eoo’"
   ]
  },
  {
   "cell_type": "code",
   "execution_count": 61,
   "metadata": {},
   "outputs": [
    {
     "name": "stdout",
     "output_type": "stream",
     "text": [
      "hll wrld\n",
      "eoo"
     ]
    }
   ],
   "source": [
    "st=\"hello world\"\n",
    "start=0\n",
    "end=2\n",
    "while start<=end:\n",
    "    print(st[start],end=\"\")\n",
    "    start+=2\n",
    "start=3\n",
    "end=start\n",
    "while start==end:\n",
    "    print(st[start],end=\"\")\n",
    "    start+=1 \n",
    "start=5\n",
    "end=6\n",
    "while start<=end:\n",
    "    print(st[start],end=\"\")\n",
    "    start+=1 \n",
    "start=8\n",
    "end=len(st)\n",
    "while start<len(st):\n",
    "    print(st[start],end=\"\")\n",
    "    start+=1\n",
    "\n",
    "print()    \n",
    "\n",
    "start=1\n",
    "end=4\n",
    "while start<=end:\n",
    "    print(st[start],end=\"\")\n",
    "    start+=3\n",
    "start=4\n",
    "while start==4:\n",
    "    print(st[start],end=\"\")\n",
    "    start+=1                        \n"
   ]
  },
  {
   "cell_type": "markdown",
   "metadata": {},
   "source": [
    "72.i/p:’12hello3 4world4’\n",
    "   o/p:’hll wrld’\n",
    "   o/p:’eoo’\n",
    "   o/p:’12344’"
   ]
  },
  {
   "cell_type": "code",
   "execution_count": 80,
   "metadata": {},
   "outputs": [
    {
     "name": "stdout",
     "output_type": "stream",
     "text": [
      "hll wrld\n",
      "eoo\n",
      "12344"
     ]
    }
   ],
   "source": [
    "st=\"12hello3 4world4\"\n",
    "start=2\n",
    "end=4\n",
    "while start<=end:\n",
    "    print(st[start],end=\"\")\n",
    "    start+=2\n",
    "start=5\n",
    "while start==5:\n",
    "    print(st[start],end=\"\")\n",
    "    start+=1\n",
    "start=8\n",
    "end=12\n",
    "while start<=end:\n",
    "    print(st[start],end=\"\")\n",
    "    start+=2 \n",
    "start=-3\n",
    "end=-2\n",
    "while start<=end:\n",
    "    print(st[start],end=\"\")\n",
    "    start+=1 \n",
    "print()         \n",
    "start=3\n",
    "end=6\n",
    "while start<=end:\n",
    "    print(st[start],end=\"\")\n",
    "    start+=3\n",
    "start=-5\n",
    "while start==-5:\n",
    "    print(st[start],end=\"\")\n",
    "    start+=1\n",
    "print()\n",
    "start=0\n",
    "end=1\n",
    "while start<=end:\n",
    "    print(st[start],end=\"\")\n",
    "    start+=1\n",
    "start=7\n",
    "end=9\n",
    "while start<=end:\n",
    "    print(st[start],end=\"\")\n",
    "    start+=2\n",
    "start=-1\n",
    "while start==-1:\n",
    "    print(st[start],end=\"\")\n",
    "    start+=1               \n",
    "    "
   ]
  },
  {
   "cell_type": "markdown",
   "metadata": {},
   "source": [
    "73.i/p:’(*12hello3$ $4#world4*)’\n",
    "   o/p:’hllwrld’\n",
    "   o/p:’eoo’\n",
    "   o/p:’12344’\n",
    "   o/p:’(*$ $#*)"
   ]
  },
  {
   "cell_type": "code",
   "execution_count": 105,
   "metadata": {},
   "outputs": [
    {
     "name": "stdout",
     "output_type": "stream",
     "text": [
      "hllwrld\n",
      "eoo\n",
      "12344\n",
      "(*$ $#*)"
     ]
    }
   ],
   "source": [
    "st=\"(*12hello3$ $4#world4*)\"\n",
    "start=4\n",
    "end=6\n",
    "while start<=end:\n",
    "    print(st[start],end=\"\")\n",
    "    start+=2\n",
    "start=7\n",
    "while start==7:\n",
    "    print(st[start],end=\"\")\n",
    "    start+=1\n",
    "start=15\n",
    "while start==15:\n",
    "    print(st[start],end=\"\") \n",
    "    start+=1\n",
    "start=17\n",
    "end=19\n",
    "while start<=end:\n",
    "    print(st[start],end=\"\")\n",
    "    start+=1 \n",
    "print()\n",
    "start=5\n",
    "end=8\n",
    "while start<=end:\n",
    "    print(st[start],end=\"\")\n",
    "    start+=3\n",
    "start=16\n",
    "while start==16:\n",
    "    print(st[start],end=\"\")\n",
    "    start+=1\n",
    "print()\n",
    "start=2\n",
    "end=3\n",
    "while start<=end:\n",
    "    print(st[start],end=\"\")\n",
    "    start+=1\n",
    "start=9\n",
    "end=13\n",
    "while start<=end:\n",
    "    print(st[start],end=\"\")\n",
    "    start+=4\n",
    "start=20\n",
    "while start==20:\n",
    "    print(st[start],end=\"\")\n",
    "    start+=1\n",
    "print()\n",
    "start=0\n",
    "end=1\n",
    "while start<=end:\n",
    "    print(st[start],end=\"\")\n",
    "    start+=1 \n",
    "start=10\n",
    "end=12\n",
    "while start<=end:\n",
    "    print(st[start],end=\"\")\n",
    "    start+=1\n",
    "start=14\n",
    "while start==14:\n",
    "    print(st[start],end=\"\")\n",
    "    start+=1\n",
    "start=21\n",
    "end=22\n",
    "while start<=end:\n",
    "    print(st[start],end=\"\")\n",
    "    start+=1                                            "
   ]
  },
  {
   "cell_type": "markdown",
   "metadata": {},
   "source": [
    "75.i/p: ’(*12hello3$ $4#world4*)’\n",
    "   o/p: ')*#$ $*(,44321,ooe,dlrwllh'"
   ]
  },
  {
   "cell_type": "code",
   "execution_count": 175,
   "metadata": {},
   "outputs": [
    {
     "name": "stdout",
     "output_type": "stream",
     "text": [
      "')*#$ $*(,44321,ooe,dlrwllh"
     ]
    }
   ],
   "source": [
    "print(\"'\",end=\"\")\n",
    "st=\"(*12hello3$ $4#world4*)\"\n",
    "start=-1\n",
    "end=-2\n",
    "while start>=end:\n",
    "    print(st[start],end=\"\")\n",
    "    start-=1\n",
    "start=-9\n",
    "end=-11\n",
    "while start>=end:\n",
    "    print(st[start],end=\"\")\n",
    "    start-=2\n",
    "start=11\n",
    "end=12\n",
    "while start<=end:\n",
    "    print(st[start],end=\"\")\n",
    "    start+=1\n",
    "start=1\n",
    "end=0\n",
    "while start>=end:\n",
    "    print(st[start],end=\"\")\n",
    "    start-=1\n",
    "print(\",\",end=\"\") \n",
    "start=-3\n",
    "end=-10\n",
    "while start>=end:\n",
    "    print(st[start],end=\"\")\n",
    "    start-=7 \n",
    "start=9\n",
    "while start==9:\n",
    "    print(st[start],end=\"\")\n",
    "    start+=1\n",
    "start=3\n",
    "end=2\n",
    "while start>=end:\n",
    "    print(st[start],end=\"\")\n",
    "    start-=1\n",
    "print(\",\",end=\"\")\n",
    "start=8\n",
    "while start==8:\n",
    "    print(st[start],end=\"\")\n",
    "    start+=1\n",
    "start=8\n",
    "end=5\n",
    "while start>=end:\n",
    "    print(st[start],end=\"\")\n",
    "    start-=3\n",
    "print(\",\",end=\"\")\n",
    "start=19\n",
    "end=17\n",
    "while start>=end:\n",
    "    print(st[start],end=\"\")\n",
    "    start-=1\n",
    "start=15\n",
    "end=18\n",
    "while start<=end:\n",
    "    print(st[start],end=\"\")\n",
    "    start+=3 \n",
    "start=6\n",
    "end=4\n",
    "while start>=end:\n",
    "    print(st[start],end=\"\")\n",
    "    start-=2                           "
   ]
  },
  {
   "cell_type": "markdown",
   "metadata": {},
   "source": [
    "76.i/p:’(*12hello3$ $4#world4*)’\n",
    "   o/p:’hllwrld,eoo,12344,(*$ $#*)’"
   ]
  },
  {
   "cell_type": "code",
   "execution_count": 176,
   "metadata": {},
   "outputs": [
    {
     "name": "stdout",
     "output_type": "stream",
     "text": [
      "'hllwrld,eoo,12344,(*$ $#*)"
     ]
    }
   ],
   "source": [
    "print(\"'\",end=\"\")\n",
    "st=\"(*12hello3$ $4#world4*)\"\n",
    "start=4\n",
    "end=6\n",
    "while start<=end:\n",
    "    print(st[start],end=\"\")\n",
    "    start+=2\n",
    "start=7\n",
    "while start==7:\n",
    "    print(st[start],end=\"\")\n",
    "    start+=1\n",
    "start=15\n",
    "while start==15:\n",
    "    print(st[start],end=\"\") \n",
    "    start+=1\n",
    "start=17\n",
    "end=19\n",
    "while start<=end:\n",
    "    print(st[start],end=\"\")\n",
    "    start+=1 \n",
    "print(\",\",end=\"\")    \n",
    "start=5\n",
    "end=8\n",
    "while start<=end:\n",
    "    print(st[start],end=\"\")\n",
    "    start+=3\n",
    "start=16\n",
    "while start==16:\n",
    "    print(st[start],end=\"\")\n",
    "    start+=1\n",
    "print(\",\",end=\"\")\n",
    "start=2\n",
    "end=3\n",
    "while start<=end:\n",
    "    print(st[start],end=\"\")\n",
    "    start+=1\n",
    "start=9\n",
    "end=13\n",
    "while start<=end:\n",
    "    print(st[start],end=\"\")\n",
    "    start+=4\n",
    "start=20\n",
    "while start==20:\n",
    "    print(st[start],end=\"\")\n",
    "    start+=1\n",
    "print(\",\",end=\"\")\n",
    "start=0\n",
    "end=1\n",
    "while start<=end:\n",
    "    print(st[start],end=\"\")\n",
    "    start+=1 \n",
    "start=10\n",
    "end=12\n",
    "while start<=end:\n",
    "    print(st[start],end=\"\")\n",
    "    start+=1\n",
    "start=14\n",
    "while start==14:\n",
    "    print(st[start],end=\"\")\n",
    "    start+=1\n",
    "start=21\n",
    "end=22\n",
    "while start<=end:\n",
    "    print(st[start],end=\"\")\n",
    "    start+=1                                      "
   ]
  },
  {
   "cell_type": "markdown",
   "metadata": {},
   "source": [
    "77.i/p: ’(*12hello3$ $4#world4*)’\n",
    "   o/p:’,hllwrld,)*#$ $*(’,eoo,44321’"
   ]
  },
  {
   "cell_type": "code",
   "execution_count": 177,
   "metadata": {},
   "outputs": [
    {
     "name": "stdout",
     "output_type": "stream",
     "text": [
      "',hllwrld,)*#$ $ $*(',eoo,44321'\n"
     ]
    }
   ],
   "source": [
    "print(\"'\",end=\"\")\n",
    "print(\",\",end=\"\")\n",
    "start=4\n",
    "end=6\n",
    "while start<=end:\n",
    "    print(st[start],end=\"\")\n",
    "    start+=2\n",
    "start=7\n",
    "while start==7:\n",
    "    print(st[start],end=\"\")\n",
    "    start+=1\n",
    "start=15\n",
    "while start==15:\n",
    "    print(st[start],end=\"\") \n",
    "    start+=1\n",
    "start=17\n",
    "end=19\n",
    "while start<=end:\n",
    "    print(st[start],end=\"\")\n",
    "    start+=1 \n",
    "print(\",\",end=\"\")\n",
    "start=-1\n",
    "end=-2\n",
    "while start>=end:\n",
    "    print(st[start],end=\"\")\n",
    "    start-=1\n",
    "start=-9\n",
    "end=-11\n",
    "while start>=end:\n",
    "    print(st[start],end=\"\")\n",
    "    start-=2\n",
    "start=11\n",
    "end=12\n",
    "while start<=end:\n",
    "    print(st[start],end=\"\")\n",
    "    start+=1\n",
    "start=11\n",
    "end=12\n",
    "while start<=end:\n",
    "    print(st[start],end=\"\")\n",
    "    start+=1\n",
    "start=1\n",
    "end=0\n",
    "while start>=end:\n",
    "    print(st[start],end=\"\")\n",
    "    start-=1\n",
    "print(\"'\",end=\"\")\n",
    "print(\",\",end=\"\")    \n",
    "start=5\n",
    "end=8\n",
    "while start<=end:\n",
    "    print(st[start],end=\"\")\n",
    "    start+=3\n",
    "start=16\n",
    "while start==16:\n",
    "    print(st[start],end=\"\")\n",
    "    start+=1\n",
    "print(\",\",end=\"\")\n",
    "start=-3\n",
    "end=-10\n",
    "while start>=end:\n",
    "    print(st[start],end=\"\")\n",
    "    start-=7 \n",
    "start=9\n",
    "while start==9:\n",
    "    print(st[start],end=\"\")\n",
    "    start+=1\n",
    "start=3\n",
    "end=2\n",
    "while start>=end:\n",
    "    print(st[start],end=\"\")\n",
    "    start-=1\n",
    "print(\"'\")    \n"
   ]
  },
  {
   "cell_type": "markdown",
   "metadata": {},
   "source": [
    "78.i/p: ’(*12hello3$ $4#world4*)’\n",
    "   o/p: ')*#$ $*(,44321,ooe,dlrwllh'"
   ]
  },
  {
   "cell_type": "code",
   "execution_count": 178,
   "metadata": {},
   "outputs": [
    {
     "name": "stdout",
     "output_type": "stream",
     "text": [
      "')*#$ $*(,44321,ooe,dlrwllh"
     ]
    }
   ],
   "source": [
    "print(\"'\",end=\"\")\n",
    "st=\"(*12hello3$ $4#world4*)\"\n",
    "start=-1\n",
    "end=-2\n",
    "while start>=end:\n",
    "    print(st[start],end=\"\")\n",
    "    start-=1\n",
    "start=-9\n",
    "end=-11\n",
    "while start>=end:\n",
    "    print(st[start],end=\"\")\n",
    "    start-=2\n",
    "start=11\n",
    "end=12\n",
    "while start<=end:\n",
    "    print(st[start],end=\"\")\n",
    "    start+=1\n",
    "start=1\n",
    "end=0\n",
    "while start>=end:\n",
    "    print(st[start],end=\"\")\n",
    "    start-=1\n",
    "print(\",\",end=\"\") \n",
    "start=-3\n",
    "end=-10\n",
    "while start>=end:\n",
    "    print(st[start],end=\"\")\n",
    "    start-=7 \n",
    "start=9\n",
    "while start==9:\n",
    "    print(st[start],end=\"\")\n",
    "    start+=1\n",
    "start=3\n",
    "end=2\n",
    "while start>=end:\n",
    "    print(st[start],end=\"\")\n",
    "    start-=1\n",
    "print(\",\",end=\"\")\n",
    "start=8\n",
    "while start==8:\n",
    "    print(st[start],end=\"\")\n",
    "    start+=1\n",
    "start=8\n",
    "end=5\n",
    "while start>=end:\n",
    "    print(st[start],end=\"\")\n",
    "    start-=3\n",
    "print(\",\",end=\"\")\n",
    "start=19\n",
    "end=17\n",
    "while start>=end:\n",
    "    print(st[start],end=\"\")\n",
    "    start-=1\n",
    "start=15\n",
    "end=18\n",
    "while start<=end:\n",
    "    print(st[start],end=\"\")\n",
    "    start+=3 \n",
    "start=6\n",
    "end=4\n",
    "while start>=end:\n",
    "    print(st[start],end=\"\")\n",
    "    start-=2                           "
   ]
  },
  {
   "cell_type": "markdown",
   "metadata": {},
   "source": [
    "79.i/p: ’(*12hello3$ $4#world4*)’\n",
    "   o/p:’dlrwllh)*#$ $*(ooe44321’"
   ]
  },
  {
   "cell_type": "code",
   "execution_count": 183,
   "metadata": {},
   "outputs": [
    {
     "name": "stdout",
     "output_type": "stream",
     "text": [
      "'dlrwllh)*#$ $*(ooe44321'\n"
     ]
    }
   ],
   "source": [
    "print(\"'\",end=\"\")\n",
    "start=19\n",
    "end=17\n",
    "while start>=end:\n",
    "    print(st[start],end=\"\")\n",
    "    start-=1\n",
    "start=15\n",
    "end=18\n",
    "while start<=end:\n",
    "    print(st[start],end=\"\")\n",
    "    start+=3 \n",
    "start=6\n",
    "end=4\n",
    "while start>=end:\n",
    "    print(st[start],end=\"\")\n",
    "    start-=2\n",
    "start=-1\n",
    "end=-2\n",
    "while start>=end:\n",
    "    print(st[start],end=\"\")\n",
    "    start-=1\n",
    "start=-9\n",
    "end=-11\n",
    "while start>=end:\n",
    "    print(st[start],end=\"\")\n",
    "    start-=2\n",
    "start=11\n",
    "end=12\n",
    "while start<=end:\n",
    "    print(st[start],end=\"\")\n",
    "    start+=1\n",
    "start=1\n",
    "end=0\n",
    "while start>=end:\n",
    "    print(st[start],end=\"\")\n",
    "    start-=1\n",
    "start=8\n",
    "while start==8:\n",
    "    print(st[start],end=\"\")\n",
    "    start+=1\n",
    "start=8\n",
    "end=5\n",
    "while start>=end:\n",
    "    print(st[start],end=\"\")\n",
    "    start-=3\n",
    "start=-3\n",
    "end=-10\n",
    "while start>=end:\n",
    "    print(st[start],end=\"\")\n",
    "    start-=7 \n",
    "start=9\n",
    "while start==9:\n",
    "    print(st[start],end=\"\")\n",
    "    start+=1\n",
    "start=3\n",
    "end=2\n",
    "while start>=end:\n",
    "    print(st[start],end=\"\")\n",
    "    start-=1\n",
    "print(\"'\")    \n"
   ]
  },
  {
   "cell_type": "markdown",
   "metadata": {},
   "source": [
    "80.I/p:’HELLOWORLD’\n",
    "   o/p:’h$ll*w*rld’"
   ]
  },
  {
   "cell_type": "code",
   "execution_count": 39,
   "metadata": {},
   "outputs": [
    {
     "name": "stdout",
     "output_type": "stream",
     "text": [
      "'h$ll*w*rld'"
     ]
    }
   ],
   "source": [
    "st=\"'HELLOWORLD'\"\n",
    "start=0\n",
    "while start==0:\n",
    "    print(st[start],end=\"\")\n",
    "    start+=1\n",
    "start=1\n",
    "while start==1:\n",
    "    print(chr(ord(st[start])+32),end=\"\")\n",
    "    start+=1       \n",
    "start=2\n",
    "while start==2:\n",
    "    print(\"$\",end=\"\")\n",
    "    start+=1\n",
    "start=3\n",
    "end=4\n",
    "while start<=end:\n",
    "    print(chr(ord(st[start])+32),end=\"\")\n",
    "    start+=1 \n",
    "start=5\n",
    "while start==5:\n",
    "    print(\"*\",end=\"\")\n",
    "    start+=1 \n",
    "start=6\n",
    "while start==6:\n",
    "    print(chr(ord(st[start])+32),end=\"\")\n",
    "    start+=1         \n",
    "start=7\n",
    "while start==7:\n",
    "    print(\"*\",end=\"\")\n",
    "    start+=1\n",
    "start=9\n",
    "while start<len(st):\n",
    "    print(chr(ord(st[start-1])+32),end=\"\")\n",
    "    start+=1\n",
    "start=11\n",
    "while start==11:\n",
    "    print(st[start],end=\"\")\n",
    "    start+=1\n"
   ]
  },
  {
   "cell_type": "markdown",
   "metadata": {},
   "source": [
    "81.I/p:’123HELLO WORLD456’\n",
    "   o/p:’hllwrld21’"
   ]
  },
  {
   "cell_type": "code",
   "execution_count": 51,
   "metadata": {},
   "outputs": [
    {
     "name": "stdout",
     "output_type": "stream",
     "text": [
      "'123hllwrld21'"
     ]
    }
   ],
   "source": [
    "st=\"'123HELLO WORLD456'\"\n",
    "start=0\n",
    "end=3\n",
    "while start<=end:\n",
    "    print(st[start],end=\"\")\n",
    "    start+=1\n",
    "start=4\n",
    "while start==4:\n",
    "    print(chr(ord(st[start])+32),end=\"\")\n",
    "    start+=1 \n",
    "start=6\n",
    "end=7\n",
    "while start<=end:\n",
    "    print(chr(ord(st[start])+32),end=\"\")\n",
    "    start+=1\n",
    "start=10\n",
    "while start==10:\n",
    "    print(chr(ord(st[start])+32),end=\"\")\n",
    "    start+=1\n",
    "start=12\n",
    "end=14\n",
    "while start<=end:\n",
    "    print(chr(ord(st[start])+32),end=\"\")\n",
    "    start+=1\n",
    "start=15\n",
    "while start==15:\n",
    "    print(\"2\",end=\"\")\n",
    "    start+=1\n",
    "start=17\n",
    "while start==17:\n",
    "    print(\"1\",end=\"\")\n",
    "    start+=1\n",
    "start=18\n",
    "while start==18:\n",
    "    print(st[start],end=\"\")\n",
    "    start+=1                \n"
   ]
  },
  {
   "cell_type": "markdown",
   "metadata": {},
   "source": [
    "82.I/p:’123HELLO WORLD456’\n",
    "   o/p:’123hEllO wOrld456’"
   ]
  },
  {
   "cell_type": "code",
   "execution_count": 59,
   "metadata": {},
   "outputs": [
    {
     "name": "stdout",
     "output_type": "stream",
     "text": [
      "'123hEllO wOrld456'"
     ]
    }
   ],
   "source": [
    "st=\"'123HELLO WORLD456'\"\n",
    "start=0\n",
    "end=3\n",
    "while start<=end:\n",
    "    print(st[start],end=\"\")\n",
    "    start+=1\n",
    "start=4\n",
    "while start==4:\n",
    "    print(chr(ord(st[start])+32),end=\"\")\n",
    "    start+=1\n",
    "start=5\n",
    "while start==5:\n",
    "    print(st[start],end=\"\")\n",
    "    start+=1\n",
    "start=6\n",
    "end=7\n",
    "while start<=end:\n",
    "    print(chr(ord(st[start])+32),end=\"\")\n",
    "    start+=1\n",
    "start=8\n",
    "end=9\n",
    "while start<=end:\n",
    "    print(st[start],end=\"\")\n",
    "    start+=1\n",
    "start=10 \n",
    "while start==10:\n",
    "    print(chr(ord(st[start])+32),end=\"\")\n",
    "    start+=1\n",
    "start=11\n",
    "while start==11:\n",
    "    print(st[start],end=\"\")\n",
    "    start+=1\n",
    "start=12\n",
    "end=14\n",
    "while start<=end:\n",
    "    print(chr(ord(st[start])+32),end=\"\")\n",
    "    start+=1\n",
    "start=15\n",
    "while start<len(st):\n",
    "    print(st[start],end=\"\")\n",
    "    start+=1                        \n"
   ]
  },
  {
   "cell_type": "markdown",
   "metadata": {},
   "source": [
    "83.I/p:’123HELLO WORLD456’\n",
    "   o/p:’321hEllO wOrld654’"
   ]
  },
  {
   "cell_type": "code",
   "execution_count": 69,
   "metadata": {},
   "outputs": [
    {
     "name": "stdout",
     "output_type": "stream",
     "text": [
      "'321hEllO wOrld654'"
     ]
    }
   ],
   "source": [
    "st=\"'123HELLO WORLD456'\"\n",
    "start=0\n",
    "while start==0:\n",
    "    print(st[start],end=\"\")\n",
    "    start+=1  \n",
    "start=3\n",
    "end=1\n",
    "while start>=end:\n",
    "    print(st[start],end=\"\")\n",
    "    start-=1\n",
    "start=4\n",
    "while start==4:\n",
    "    print(chr(ord(st[start])+32),end=\"\")\n",
    "    start+=1\n",
    "start=5\n",
    "while start==5:\n",
    "    print(st[start],end=\"\")\n",
    "    start+=1\n",
    "start=6\n",
    "end=7\n",
    "while start<=end:\n",
    "    print(chr(ord(st[start])+32),end=\"\")\n",
    "    start+=1            \n",
    "start=8\n",
    "end=9\n",
    "while start<=end:\n",
    "    print(st[start],end=\"\")\n",
    "    start+=1\n",
    "start=10 \n",
    "while start==10:\n",
    "    print(chr(ord(st[start])+32),end=\"\")\n",
    "    start+=1\n",
    "start=11\n",
    "while start==11:\n",
    "    print(st[start],end=\"\")\n",
    "    start+=1\n",
    "start=12\n",
    "end=14\n",
    "while start<=end:\n",
    "    print(chr(ord(st[start])+32),end=\"\")\n",
    "    start+=1\n",
    "start=17\n",
    "end=15\n",
    "while start>=end:\n",
    "    print(st[start],end=\"\")\n",
    "    start-=1\n",
    "start=18\n",
    "while start==18:\n",
    "    print(st[start],end=\"\")\n",
    "    start+=1                "
   ]
  },
  {
   "cell_type": "markdown",
   "metadata": {},
   "source": [
    "84.I/p:’123HELLO WORLD456’\n",
    "   o/p:’321*E**O *O***654’"
   ]
  },
  {
   "cell_type": "code",
   "execution_count": null,
   "metadata": {},
   "outputs": [],
   "source": []
  },
  {
   "cell_type": "markdown",
   "metadata": {},
   "source": [
    "85.I/p:’123HELLO WORLD456’\n",
    "   o/p:’123*E**O *O***456’"
   ]
  },
  {
   "cell_type": "code",
   "execution_count": null,
   "metadata": {},
   "outputs": [],
   "source": []
  },
  {
   "cell_type": "markdown",
   "metadata": {},
   "source": [
    "86.I/p:’HELLOWORLD’\n",
    "   o/p:’h$ll*w*rld'"
   ]
  },
  {
   "cell_type": "code",
   "execution_count": 52,
   "metadata": {},
   "outputs": [
    {
     "name": "stdout",
     "output_type": "stream",
     "text": [
      "'h$ll*w*rld'"
     ]
    }
   ],
   "source": [
    "st=\"'HELLOWORLD'\"\n",
    "start=0\n",
    "while start==0:\n",
    "    print(st[start],end=\"\")\n",
    "    start+=1\n",
    "start=1\n",
    "while start==1:\n",
    "    print(chr(ord(st[start])+32),end=\"\")\n",
    "    start+=1       \n",
    "start=2\n",
    "while start==2:\n",
    "    print(\"$\",end=\"\")\n",
    "    start+=1\n",
    "start=3\n",
    "end=4\n",
    "while start<=end:\n",
    "    print(chr(ord(st[start])+32),end=\"\")\n",
    "    start+=1 \n",
    "start=5\n",
    "while start==5:\n",
    "    print(\"*\",end=\"\")\n",
    "    start+=1 \n",
    "start=6\n",
    "while start==6:\n",
    "    print(chr(ord(st[start])+32),end=\"\")\n",
    "    start+=1         \n",
    "start=7\n",
    "while start==7:\n",
    "    print(\"*\",end=\"\")\n",
    "    start+=1\n",
    "start=9\n",
    "while start<len(st):\n",
    "    print(chr(ord(st[start-1])+32),end=\"\")\n",
    "    start+=1\n",
    "start=11\n",
    "while start==11:\n",
    "    print(st[start],end=\"\")\n",
    "    start+=1\n"
   ]
  },
  {
   "cell_type": "markdown",
   "metadata": {},
   "source": [
    "87.i/p: ‘abc’\n",
    "   i/p: ‘xyz’\n",
    "   o/p:’axbycz’"
   ]
  },
  {
   "cell_type": "code",
   "execution_count": 53,
   "metadata": {},
   "outputs": [
    {
     "name": "stdout",
     "output_type": "stream",
     "text": [
      "axbycz"
     ]
    },
    {
     "ename": "IndexError",
     "evalue": "string index out of range",
     "output_type": "error",
     "traceback": [
      "\u001b[1;31m---------------------------------------------------------------------------\u001b[0m",
      "\u001b[1;31mIndexError\u001b[0m                                Traceback (most recent call last)",
      "Cell \u001b[1;32mIn[53], line 4\u001b[0m\n\u001b[0;32m      2\u001b[0m st1\u001b[39m=\u001b[39m\u001b[39m\"\u001b[39m\u001b[39mxyz\u001b[39m\u001b[39m\"\u001b[39m\n\u001b[0;32m      3\u001b[0m start\u001b[39m=\u001b[39m\u001b[39m0\u001b[39m\n\u001b[1;32m----> 4\u001b[0m \u001b[39mwhile\u001b[39;00m \u001b[39mord\u001b[39m(st[start])\u001b[39m<\u001b[39m\u001b[39m=\u001b[39m\u001b[39mord\u001b[39m(st1[start]):\n\u001b[0;32m      5\u001b[0m     \u001b[39mprint\u001b[39m(st[start]\u001b[39m+\u001b[39mst1[start],end\u001b[39m=\u001b[39m\u001b[39m\"\u001b[39m\u001b[39m\"\u001b[39m)\n\u001b[0;32m      6\u001b[0m     start\u001b[39m+\u001b[39m\u001b[39m=\u001b[39m\u001b[39m1\u001b[39m\n",
      "\u001b[1;31mIndexError\u001b[0m: string index out of range"
     ]
    }
   ],
   "source": [
    "st=\"abc\"\n",
    "st1=\"xyz\"\n",
    "start=0\n",
    "while ord(st[start])<=ord(st1[start]):\n",
    "    print(st[start]+st1[start],end=\"\")\n",
    "    start+=1"
   ]
  },
  {
   "cell_type": "markdown",
   "metadata": {},
   "source": [
    "88.i/p: ‘abc’\n",
    "   i/p: ‘xyzw’\n",
    "   o/p:’axbyczw’"
   ]
  },
  {
   "cell_type": "code",
   "execution_count": 6,
   "metadata": {},
   "outputs": [
    {
     "name": "stdout",
     "output_type": "stream",
     "text": [
      "axbycz"
     ]
    },
    {
     "ename": "IndexError",
     "evalue": "string index out of range",
     "output_type": "error",
     "traceback": [
      "\u001b[1;31m---------------------------------------------------------------------------\u001b[0m",
      "\u001b[1;31mIndexError\u001b[0m                                Traceback (most recent call last)",
      "Cell \u001b[1;32mIn[6], line 4\u001b[0m\n\u001b[0;32m      2\u001b[0m st1\u001b[39m=\u001b[39m\u001b[39m\"\u001b[39m\u001b[39mxyzw\u001b[39m\u001b[39m\"\u001b[39m\n\u001b[0;32m      3\u001b[0m start\u001b[39m=\u001b[39m\u001b[39m0\u001b[39m\n\u001b[1;32m----> 4\u001b[0m \u001b[39mwhile\u001b[39;00m \u001b[39mord\u001b[39m(st[start])\u001b[39m<\u001b[39m\u001b[39m=\u001b[39m\u001b[39mord\u001b[39m(st1[start]):\n\u001b[0;32m      5\u001b[0m     \u001b[39mprint\u001b[39m(st[start]\u001b[39m+\u001b[39mst1[start],end\u001b[39m=\u001b[39m\u001b[39m\"\u001b[39m\u001b[39m\"\u001b[39m)\n\u001b[0;32m      6\u001b[0m     start\u001b[39m+\u001b[39m\u001b[39m=\u001b[39m\u001b[39m1\u001b[39m\n",
      "\u001b[1;31mIndexError\u001b[0m: string index out of range"
     ]
    }
   ],
   "source": [
    "st=\"abc\"\n",
    "st1=\"xyzw\"\n",
    "start=0\n",
    "while ord(st[start])<=ord(st1[start]):\n",
    "    print(st[start]+st1[start],end=\"\")\n",
    "    start+=1"
   ]
  },
  {
   "cell_type": "markdown",
   "metadata": {},
   "source": [
    "89.i/p: ‘abcd’\n",
    "   i/p: ‘xyz’\n",
    "   o/p:’axbyczd’"
   ]
  },
  {
   "cell_type": "code",
   "execution_count": 10,
   "metadata": {},
   "outputs": [
    {
     "name": "stdout",
     "output_type": "stream",
     "text": [
      "axbycz"
     ]
    },
    {
     "ename": "IndexError",
     "evalue": "string index out of range",
     "output_type": "error",
     "traceback": [
      "\u001b[1;31m---------------------------------------------------------------------------\u001b[0m",
      "\u001b[1;31mIndexError\u001b[0m                                Traceback (most recent call last)",
      "Cell \u001b[1;32mIn[10], line 4\u001b[0m\n\u001b[0;32m      2\u001b[0m st1\u001b[39m=\u001b[39m\u001b[39m\"\u001b[39m\u001b[39mxyz\u001b[39m\u001b[39m\"\u001b[39m\n\u001b[0;32m      3\u001b[0m start\u001b[39m=\u001b[39m\u001b[39m0\u001b[39m\n\u001b[1;32m----> 4\u001b[0m \u001b[39mwhile\u001b[39;00m \u001b[39mord\u001b[39m(st[start])\u001b[39m<\u001b[39m\u001b[39mord\u001b[39m(st1[start]):\n\u001b[0;32m      5\u001b[0m     \u001b[39mprint\u001b[39m(st[start]\u001b[39m+\u001b[39mst1[start],end\u001b[39m=\u001b[39m\u001b[39m\"\u001b[39m\u001b[39m\"\u001b[39m)\n\u001b[0;32m      6\u001b[0m     start\u001b[39m+\u001b[39m\u001b[39m=\u001b[39m\u001b[39m1\u001b[39m\n",
      "\u001b[1;31mIndexError\u001b[0m: string index out of range"
     ]
    }
   ],
   "source": [
    "st=\"abcd\"\n",
    "st1=\"xyz\"\n",
    "start=0\n",
    "while ord(st[start])<ord(st1[start]):\n",
    "    print(st[start]+st1[start],end=\"\")\n",
    "    start+=1"
   ]
  },
  {
   "cell_type": "markdown",
   "metadata": {},
   "source": [
    "90.i/p: ‘abc’\n",
    "   i/p: ‘xyzwop’\n",
    "   o/p:’axbyczwop’"
   ]
  },
  {
   "cell_type": "code",
   "execution_count": null,
   "metadata": {},
   "outputs": [],
   "source": []
  },
  {
   "cell_type": "markdown",
   "metadata": {},
   "source": [
    "91.i/p:’abc123’\n",
    "   o/p:’a1b2c3’"
   ]
  },
  {
   "cell_type": "code",
   "execution_count": null,
   "metadata": {},
   "outputs": [],
   "source": []
  },
  {
   "cell_type": "markdown",
   "metadata": {},
   "source": [
    "92.i/p:’abc12’\n",
    "   o/p:’a1b2c’"
   ]
  },
  {
   "cell_type": "code",
   "execution_count": null,
   "metadata": {},
   "outputs": [],
   "source": []
  },
  {
   "cell_type": "markdown",
   "metadata": {},
   "source": [
    "93.i/p: ‘abc1234’\n",
    "   o/p: ‘a1b2c34’"
   ]
  },
  {
   "cell_type": "code",
   "execution_count": null,
   "metadata": {},
   "outputs": [],
   "source": []
  },
  {
   "cell_type": "markdown",
   "metadata": {},
   "source": [
    "94.i/p: ‘1a2bc34’\n",
    "   o/p:’a1b2c34’"
   ]
  },
  {
   "cell_type": "code",
   "execution_count": null,
   "metadata": {},
   "outputs": [],
   "source": []
  },
  {
   "cell_type": "markdown",
   "metadata": {},
   "source": [
    "95.i/p:’abcdnmpoijkl12yzabcd5’\n",
    "   o/p:3"
   ]
  },
  {
   "cell_type": "code",
   "execution_count": null,
   "metadata": {},
   "outputs": [],
   "source": []
  },
  {
   "cell_type": "markdown",
   "metadata": {},
   "source": [
    "96.I/P: ‘HAII HELLO’\n",
    "O/P: ‘HA1I2I3 HE4LLO5’"
   ]
  },
  {
   "cell_type": "code",
   "execution_count": null,
   "metadata": {},
   "outputs": [],
   "source": []
  },
  {
   "cell_type": "markdown",
   "metadata": {},
   "source": [
    "97.I/P: ‘HAII HELLO’\n",
    "   O/P: ‘H1AII 2H3EL4L5O'"
   ]
  }
 ],
 "metadata": {
  "kernelspec": {
   "display_name": "Python 3",
   "language": "python",
   "name": "python3"
  },
  "language_info": {
   "codemirror_mode": {
    "name": "ipython",
    "version": 3
   },
   "file_extension": ".py",
   "mimetype": "text/x-python",
   "name": "python",
   "nbconvert_exporter": "python",
   "pygments_lexer": "ipython3",
   "version": "3.11.3"
  },
  "orig_nbformat": 4
 },
 "nbformat": 4,
 "nbformat_minor": 2
}
