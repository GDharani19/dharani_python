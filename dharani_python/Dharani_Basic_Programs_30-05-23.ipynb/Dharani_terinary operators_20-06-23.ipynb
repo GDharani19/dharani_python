{
 "cells": [
  {
   "attachments": {},
   "cell_type": "markdown",
   "metadata": {},
   "source": [
    "TERINARY OPERATOR\n",
    "\n",
    "* It is a conditional operator based on the condition ,it will return the output.\n",
    "* so anyone want to built the small conditional programs like if else statement.\n",
    "* instead of if else , we can use terenary operator . here we have to use only operators with list or dictionary. \n",
    "* by using this operator we can reduce the lines of the code."
   ]
  },
  {
   "cell_type": "code",
   "execution_count": 3,
   "metadata": {},
   "outputs": [
    {
     "name": "stdout",
     "output_type": "stream",
     "text": [
      "positive\n",
      "positive\n",
      "positive\n",
      "positive\n",
      "negative\n",
      "positive\n",
      "negative\n",
      "positive\n",
      "negative\n"
     ]
    }
   ],
   "source": [
    "n=10\n",
    "if n>0:\n",
    "    print(\"positive\")\n",
    "else:\n",
    "    print(\"negative\")  \n",
    "\n",
    "n=10\n",
    "if n>0:print(\"positive\")\n",
    "else:print(\"negative\")\n",
    "\n",
    "n=10\n",
    "print(\"positive\" if n>0 else \"negative\")\n",
    "\n",
    "n=10\n",
    "res=[\"negative\",\"positive\"][n>0]\n",
    "print(res)\n",
    "\n",
    "n=-10\n",
    "res=[\"negative\",\"positive\"][n>0]\n",
    "print(res)\n",
    "\n",
    "n=10\n",
    "res={False:\"negative\",True:\"positive\"}[n>0]\n",
    "print(res)\n",
    "n=-10\n",
    "res={False:\"negative\",True:\"positive\"}[n>0]\n",
    "print(res)\n",
    "n=10\n",
    "res={0:\"negative\",1:\"positive\"}[n>0]\n",
    "print(res)\n",
    "\n",
    "n=-10\n",
    "res={False:\"negative\",True:\"positive\"}[n>0]\n",
    "print(res)"
   ]
  }
 ],
 "metadata": {
  "kernelspec": {
   "display_name": "Python 3",
   "language": "python",
   "name": "python3"
  },
  "language_info": {
   "codemirror_mode": {
    "name": "ipython",
    "version": 3
   },
   "file_extension": ".py",
   "mimetype": "text/x-python",
   "name": "python",
   "nbconvert_exporter": "python",
   "pygments_lexer": "ipython3",
   "version": "3.11.3"
  },
  "orig_nbformat": 4
 },
 "nbformat": 4,
 "nbformat_minor": 2
}
