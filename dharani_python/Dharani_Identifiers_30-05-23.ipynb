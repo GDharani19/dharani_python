{
 "cells": [
  {
   "attachments": {},
   "cell_type": "markdown",
   "metadata": {},
   "source": [
    "IDENTIFIERS\n",
    "\n",
    "* Identifier is a name given to the real time objects.\n",
    "* If we want to change any real time objects or memory We have to use concept name called \"identifier\".\n",
    "* The identifiers are created by end users (or) developers by the help of identifier rules.\n",
    "* Identifiers are variable name,function name,class name,object name,library name,package name,module name or file name.\n",
    "\n",
    "IDENTIFIER RULES :\n",
    "\n",
    "* Identifier should not be a keyword\n",
    "* Identifier name should not start with numeric characters\n",
    "* Identifier should not be a special character except underscore\n",
    "* Identifier should not be a space either starting or middle and we can use at the end of the character\n",
    "* Instead of space we can use underscore(_)\n",
    "* As an industrial rule identifier should not exceed 31 characters\n",
    "\n",
    "NOTE:\n",
    "\n",
    "* Python will accept 'n' no of characters as a identifiers\n",
    "* Identifier is a case-sensitive\n",
    "\n",
    "ASCII VALUES :\n",
    "\n",
    "'A'= 65    to    'Z'= 90 \n",
    "'a'= 97    to    'z'= 122\n",
    "'0'= 48    to    '9'= 57\n",
    "\n",
    "PATTERNS :\n",
    "\n",
    "Pascal case    (\"HelloWorld\")\n",
    "Camel case     (helloWorld\")\n",
    "Snake case     (\"hello_world\")\n",
    "Dragon case    (__hello__world__)"
   ]
  }
 ],
 "metadata": {
  "language_info": {
   "name": "python"
  },
  "orig_nbformat": 4
 },
 "nbformat": 4,
 "nbformat_minor": 2
}
