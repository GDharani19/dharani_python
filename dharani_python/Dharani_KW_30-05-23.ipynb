{
 "cells": [
  {
   "attachments": {},
   "cell_type": "markdown",
   "metadata": {},
   "source": [
    "KEYWORDS\n",
    "\n",
    "* Keywords are standard/reserved/predefined words.\n",
    "* Each and every keyword have unique meaning and functionality.\n",
    "* Each and every keyword is designed by python developers.\n",
    "* As a developer or end user they have to utilize but they can't create new keywords.\n",
    "* We can't or end user can't modify the functionality or meaning or name."
   ]
  },
  {
   "attachments": {},
   "cell_type": "markdown",
   "metadata": {},
   "source": [
    "FETCHING KEYWORDS FROM IDLE"
   ]
  },
  {
   "cell_type": "code",
   "execution_count": 1,
   "metadata": {},
   "outputs": [],
   "source": [
    "from keyword import kwlist  # only in IDLE"
   ]
  },
  {
   "attachments": {},
   "cell_type": "markdown",
   "metadata": {},
   "source": [
    "KEYWORDS\n",
    "\n",
    "['False','None','True','and','as','assert','async','break','class','continue','def','elif','except','finally','for','form','global','if','import','if','import','in','is','lambda','nonlocal','not','or','pass','raise','return','try','while','with','yield']"
   ]
  },
  {
   "attachments": {},
   "cell_type": "markdown",
   "metadata": {},
   "source": [
    "* False , None , True these are the 3 keywords as well as values.\n",
    "* We can't use keywords as a variable or function name.\n",
    "* Based on python 3.6 version total 33 keywords.\n",
    "                  3.7 version total 35 keywords.\n",
    "                  3.8 version total 35 keywords.\n",
    "                  3.9 version total 36 keywords.\n",
    "                  3.10 version total 35 keywords.\n",
    "                  3.11 version total 35 keywords."
   ]
  }
 ],
 "metadata": {
  "kernelspec": {
   "display_name": "Python 3",
   "language": "python",
   "name": "python3"
  },
  "language_info": {
   "codemirror_mode": {
    "name": "ipython",
    "version": 3
   },
   "file_extension": ".py",
   "mimetype": "text/x-python",
   "name": "python",
   "nbconvert_exporter": "python",
   "pygments_lexer": "ipython3",
   "version": "3.11.3"
  },
  "orig_nbformat": 4
 },
 "nbformat": 4,
 "nbformat_minor": 2
}
