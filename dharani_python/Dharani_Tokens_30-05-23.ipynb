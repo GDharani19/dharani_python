{
 "cells": [
  {
   "attachments": {},
   "cell_type": "markdown",
   "metadata": {},
   "source": [
    "TOKEN\n",
    "\n",
    "* Token refers to the smallest individual unit of a programs's  source code.\n",
    "* This code will perform specific tasks.\n",
    "* Mainly tokens are divided into 4 types.They are\n",
    "         \n",
    "         Keywords\n",
    "         Identifiers\n",
    "         Literals\n",
    "         Operators"
   ]
  },
  {
   "attachments": {},
   "cell_type": "markdown",
   "metadata": {},
   "source": [
    "KEYWORDS:\n",
    "\n",
    "* Keywords are standard/reserved/pre-defined words.\n",
    "* Each and every keyword have unique meaning and functionality.\n",
    "* Each and every keyword is designed by python developers.\n",
    "* As a developers or end user they have to utilize but they can't create new keywords.\n",
    "* End users can't modify the functionality or meaning.\n",
    "\n",
    "FETCHING KEYWORDS FROM IDLE:\n",
    "\n",
    "from keyword import kwlist\n",
    "kwlist ------ List of all keywords"
   ]
  },
  {
   "cell_type": "code",
   "execution_count": 1,
   "metadata": {},
   "outputs": [
    {
     "data": {
      "text/plain": [
       "['False',\n",
       " 'None',\n",
       " 'True',\n",
       " 'and',\n",
       " 'as',\n",
       " 'assert',\n",
       " 'async',\n",
       " 'await',\n",
       " 'break',\n",
       " 'class',\n",
       " 'continue',\n",
       " 'def',\n",
       " 'del',\n",
       " 'elif',\n",
       " 'else',\n",
       " 'except',\n",
       " 'finally',\n",
       " 'for',\n",
       " 'from',\n",
       " 'global',\n",
       " 'if',\n",
       " 'import',\n",
       " 'in',\n",
       " 'is',\n",
       " 'lambda',\n",
       " 'nonlocal',\n",
       " 'not',\n",
       " 'or',\n",
       " 'pass',\n",
       " 'raise',\n",
       " 'return',\n",
       " 'try',\n",
       " 'while',\n",
       " 'with',\n",
       " 'yield']"
      ]
     },
     "execution_count": 1,
     "metadata": {},
     "output_type": "execute_result"
    }
   ],
   "source": [
    "from keyword import kwlist\n",
    "kwlist  "
   ]
  },
  {
   "attachments": {},
   "cell_type": "markdown",
   "metadata": {},
   "source": [
    "* False,True,None these three are the keywords as well as values.\n",
    "* We can't use keywords as a variable or function name.\n",
    "* Based on the python \n",
    "* 3.6 version total 33 keywords\n",
    "* 3.7 version total 35 keywords\n",
    "* 3.8 version total 35 keywords\n",
    "* 3.9 version total 36 keywords\n",
    "* 3.10 version total 35 keywords\n",
    "* 3.11 version total 35 keywords\n",
    "                      \n"
   ]
  }
 ],
 "metadata": {
  "kernelspec": {
   "display_name": "Python 3",
   "language": "python",
   "name": "python3"
  },
  "language_info": {
   "codemirror_mode": {
    "name": "ipython",
    "version": 3
   },
   "file_extension": ".py",
   "mimetype": "text/x-python",
   "name": "python",
   "nbconvert_exporter": "python",
   "pygments_lexer": "ipython3",
   "version": "3.11.3"
  },
  "orig_nbformat": 4
 },
 "nbformat": 4,
 "nbformat_minor": 2
}
