{
 "cells": [
  {
   "attachments": {},
   "cell_type": "markdown",
   "metadata": {},
   "source": [
    "TOKEN\n",
    "\n",
    "* Token refers to the smallest individual unit of a programs's  source code.\n",
    "* This code will perform specific tasks.\n",
    "* Mainly tokens are divided into 4 types.They are\n",
    "         \n",
    "         Keywords\n",
    "         Identifiers\n",
    "         Literals\n",
    "         Operators"
   ]
  }
 ],
 "metadata": {
  "language_info": {
   "name": "python"
  },
  "orig_nbformat": 4
 },
 "nbformat": 4,
 "nbformat_minor": 2
}
