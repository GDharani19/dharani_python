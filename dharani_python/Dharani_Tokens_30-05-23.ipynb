{
 "cells": [
  {
   "attachments": {},
   "cell_type": "markdown",
   "metadata": {},
   "source": [
    "TOKEN\n",
    "\n",
    "* Token refers to the smallest individual unit of a programs's  source code.\n",
    "* This code will perform specific tasks.\n",
    "* Mainly tokens are divided into 4 types.They are\n",
    "         \n",
    "         Keywords\n",
    "         Identifiers\n",
    "         Literals\n",
    "         Operators"
   ]
  }
 ],
 "metadata": {
  "kernelspec": {
   "display_name": "Python 3",
   "language": "python",
   "name": "python3"
  },
  "language_info": {
   "codemirror_mode": {
    "name": "ipython",
    "version": 3
   },
   "file_extension": ".py",
   "mimetype": "text/x-python",
   "name": "python",
   "nbconvert_exporter": "python",
   "pygments_lexer": "ipython3",
   "version": "3.11.3"
  },
  "orig_nbformat": 4
 },
 "nbformat": 4,
 "nbformat_minor": 2
}
