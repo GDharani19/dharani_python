{
 "cells": [
  {
   "cell_type": "code",
   "execution_count": 1,
   "metadata": {},
   "outputs": [
    {
     "name": "stdout",
     "output_type": "stream",
     "text": [
      "Hello World!\n"
     ]
    }
   ],
   "source": [
    "# 1 . WAP TO PRINT \"Hello World!\"\n",
    "\n",
    "a=\"Hello World!\"\n",
    "print(a)"
   ]
  },
  {
   "cell_type": "code",
   "execution_count": 3,
   "metadata": {},
   "outputs": [
    {
     "name": "stdout",
     "output_type": "stream",
     "text": [
      "even\n",
      "odd\n"
     ]
    }
   ],
   "source": [
    "# 2.WAP TO CHECK IF THE GIVEN NUMBER IS EVEN OR NOT.\n",
    "\n",
    "n=4\n",
    "if n%2==0:\n",
    "    print(\"even\")\n",
    "else:\n",
    "    print(\"odd\")\n",
    "\n",
    "n=5\n",
    "if n%2==0:\n",
    "    print(\"even\")\n",
    "else:\n",
    "    print(\"odd\")\n",
    "            "
   ]
  },
  {
   "cell_type": "code",
   "execution_count": 4,
   "metadata": {},
   "outputs": [
    {
     "name": "stdout",
     "output_type": "stream",
     "text": [
      "24\n"
     ]
    }
   ],
   "source": [
    "# 3.WAP to find the factorial of a given number.\n",
    "\n",
    "n=4\n",
    "fact=1\n",
    "while n:\n",
    "    fact*=n\n",
    "    n=n-1\n",
    "print(fact)    \n"
   ]
  },
  {
   "cell_type": "code",
   "execution_count": 32,
   "metadata": {},
   "outputs": [
    {
     "name": "stdout",
     "output_type": "stream",
     "text": [
      "inarahd\n",
      "inarahd"
     ]
    },
    {
     "ename": "IndexError",
     "evalue": "string index out of range",
     "output_type": "error",
     "traceback": [
      "\u001b[1;31m---------------------------------------------------------------------------\u001b[0m",
      "\u001b[1;31mIndexError\u001b[0m                                Traceback (most recent call last)",
      "Cell \u001b[1;32mIn[32], line 11\u001b[0m\n\u001b[0;32m      9\u001b[0m end\u001b[39m=\u001b[39m\u001b[39mlen\u001b[39m(st)\n\u001b[0;32m     10\u001b[0m \u001b[39mwhile\u001b[39;00m start\u001b[39m<\u001b[39mend: \n\u001b[1;32m---> 11\u001b[0m     \u001b[39mprint\u001b[39m(st[start],end\u001b[39m=\u001b[39m\u001b[39m\"\u001b[39m\u001b[39m\"\u001b[39m)\n\u001b[0;32m     12\u001b[0m     start\u001b[39m-\u001b[39m\u001b[39m=\u001b[39m\u001b[39m1\u001b[39m\n",
      "\u001b[1;31mIndexError\u001b[0m: string index out of range"
     ]
    }
   ],
   "source": [
    "# 4.WAP TO REVERSE A STRING.\n",
    "\n",
    "\n",
    "st=\"dharani\"  \n",
    "print(st[::-1])\n",
    "\n",
    "st=\"dharani\" \n",
    "start=-1\n",
    "end=len(st)\n",
    "while start<end: \n",
    "    print(st[start],end=\"\")\n",
    "    start-=1\n"
   ]
  },
  {
   "cell_type": "code",
   "execution_count": 34,
   "metadata": {},
   "outputs": [
    {
     "name": "stdout",
     "output_type": "stream",
     "text": [
      "palindrome\n",
      "not a palindrome\n"
     ]
    }
   ],
   "source": [
    "# 5.WAP to check the string is palindrome or not.\n",
    "\n",
    "st=\"dad\"\n",
    "if st==st[::-1]:\n",
    "    print(\"palindrome\")\n",
    "else:\n",
    "    print(\"not a palindrome\") \n",
    "\n",
    "\n",
    "st=\"dady\"\n",
    "if st==st[::-1]:\n",
    "    print(\"palindrome\")\n",
    "else:\n",
    "    print(\"not a palindrome\")     \n"
   ]
  },
  {
   "cell_type": "code",
   "execution_count": 60,
   "metadata": {},
   "outputs": [],
   "source": [
    "# 5.WAP TO FIND THE LARGEST ELEMENT IN THE GIVEN LIST.\n",
    "\n",
    "l=[1,2,3,4,7,5]\n",
    "start=0\n",
    "f=0\n",
    "while start>len(l):\n",
    "    if l[start]>f:\n",
    "        l[start]=f\n",
    "    start+=1   \n",
    "\n",
    "\n"
   ]
  }
 ],
 "metadata": {
  "kernelspec": {
   "display_name": "Python 3",
   "language": "python",
   "name": "python3"
  },
  "language_info": {
   "codemirror_mode": {
    "name": "ipython",
    "version": 3
   },
   "file_extension": ".py",
   "mimetype": "text/x-python",
   "name": "python",
   "nbconvert_exporter": "python",
   "pygments_lexer": "ipython3",
   "version": "3.11.3"
  },
  "orig_nbformat": 4
 },
 "nbformat": 4,
 "nbformat_minor": 2
}
