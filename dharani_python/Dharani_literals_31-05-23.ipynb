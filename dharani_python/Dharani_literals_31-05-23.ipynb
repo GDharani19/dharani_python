{
 "cells": [
  {
   "attachments": {},
   "cell_type": "markdown",
   "metadata": {},
   "source": [
    "LITERALS \n",
    "\n",
    "* Literals are nothing but a raw data or raw facts\n",
    "* literals are classified into 2 types \n",
    "         \n",
    "         * NUMERICAL LITERALS\n",
    "         * CHARACTER LITERALS\n",
    "\n",
    "NUMERICAL LITERALS \n",
    "\n",
    " * Binary (0b1010)\n",
    " * decimal (without decimal point = integer  ,  with decimal point = float)\n",
    " * octal (0o123)\n",
    " * hexa decimal (0x151)\n",
    "\n",
    "CHARACTER LITERALS\n",
    "\n",
    "* Upper case (\"A-Z\")\n",
    "* Lower case (\"a-z\")\n",
    "* ASCII Numbers (\"0-9\")\n",
    "* Special cahracters (@#$%^&*)\n"
   ]
  }
 ],
 "metadata": {
  "language_info": {
   "name": "python"
  },
  "orig_nbformat": 4
 },
 "nbformat": 4,
 "nbformat_minor": 2
}
