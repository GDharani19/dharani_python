{
 "cells": [
  {
   "attachments": {},
   "cell_type": "markdown",
   "metadata": {},
   "source": [
    "INDEXING \n",
    "\n",
    "* Indexing is a phenomenon of extracting the specific data item or element from the collection.\n",
    "* by the help of indexing values we are extracting the data items from the collection.\n",
    "\n",
    "SYNTAX :\n",
    "\n",
    "Variable name [index value]  (+ve index values or -ve index values)\n",
    "\n",
    "* Indexing is mainly divided into 2 types . they are :\n",
    " \n",
    " 1.Positive indexing\n",
    " 2.Negative indexing\n",
    "* it will store the data in the form of sequence manner or orderd manner with structural manner. "
   ]
  },
  {
   "cell_type": "code",
   "execution_count": 1,
   "metadata": {},
   "outputs": [
    {
     "name": "stdout",
     "output_type": "stream",
     "text": [
      "a\n",
      "p\n",
      "p\n",
      "l\n",
      "e\n",
      "e\n",
      "l\n",
      "p\n",
      "p\n",
      "a\n"
     ]
    },
    {
     "ename": "IndexError",
     "evalue": "string index out of range",
     "output_type": "error",
     "traceback": [
      "\u001b[1;31m---------------------------------------------------------------------------\u001b[0m",
      "\u001b[1;31mIndexError\u001b[0m                                Traceback (most recent call last)",
      "Cell \u001b[1;32mIn[1], line 13\u001b[0m\n\u001b[0;32m     11\u001b[0m \u001b[39mprint\u001b[39m(y[\u001b[39m-\u001b[39m\u001b[39m4\u001b[39m])\n\u001b[0;32m     12\u001b[0m \u001b[39mprint\u001b[39m(y[\u001b[39m-\u001b[39m\u001b[39m5\u001b[39m])\n\u001b[1;32m---> 13\u001b[0m \u001b[39mprint\u001b[39m(y[\u001b[39m-\u001b[39;49m\u001b[39m6\u001b[39;49m])\n",
      "\u001b[1;31mIndexError\u001b[0m: string index out of range"
     ]
    }
   ],
   "source": [
    "y=\"apple\"\n",
    "id(y)\n",
    "print(y[0])   # positive indexing\n",
    "print(y[1])\n",
    "print(y[2])\n",
    "print(y[3])\n",
    "print(y[4])\n",
    "print(y[-1])    # negative indexing\n",
    "print(y[-2])\n",
    "print(y[-3])\n",
    "print(y[-4])\n",
    "print(y[-5])\n",
    "print(y[-6])"
   ]
  },
  {
   "attachments": {},
   "cell_type": "markdown",
   "metadata": {},
   "source": [
    "SLICING\n",
    "\n",
    "* S licing is a phenomenon of extracting the required sequence of elements from the collection.\n",
    "* slicing operations , we can apply only on multi value data types such as (string,list,tuple).\n",
    "* slicing will not support the set and dictionary , because it doesn't support indexing.\n",
    "* slicing can be done using the index values .\n",
    "\n",
    "* if we are traversing or considering from left to right we always considered as +ve slicing.\n",
    "\n",
    "SYNTAX\n",
    "\n",
    "Variable_name [starting value:end value+1:+updation]\n",
    "\n",
    "* if we are traversing or considering from right to left we always considered as -ve slicing.\n",
    "\n",
    "SYNTAX\n",
    "\n",
    "Variable_name [starting value:end value-1:-updation]\n",
    "\n",
    "RULES FOR +VE SLICING : (WITH POSITIVE INDEX VALUES) :\n",
    "\n",
    "1.SI < EI+1\n",
    "2.Updation should be +ve\n",
    "3.difference between values should be the same\n",
    "\n",
    "RULES FOR -VE SLICING : (WITH NEGATIVE INDEX VALUES) :\n",
    "\n",
    "1.SI > EI-1\n",
    "2.Updation should be -ve\n",
    "3.difference between values should be the same"
   ]
  },
  {
   "cell_type": "code",
   "execution_count": 25,
   "metadata": {},
   "outputs": [
    {
     "name": "stdout",
     "output_type": "stream",
     "text": [
      "PYSPIDERS\n",
      "PYSPID\n",
      "SPIDER\n",
      "PYSP\n",
      "IDER\n",
      "SREDIPSYP\n",
      "DIPSYP\n",
      "REDIPS\n",
      "PSYP\n",
      "REDI\n"
     ]
    }
   ],
   "source": [
    "# POSITIVE SLICING (with positive index values)\n",
    "\n",
    "a=\"PYSPIDERS\"\n",
    "print(a[::1])\n",
    "print(a[:5+1:])\n",
    "print(a[2:7+1:1])\n",
    "print(a[0:3+1:1])\n",
    "print(a[4:7+1:1])\n",
    "\n",
    "# NEGATIVE SLICING (with negative index values)\n",
    "\n",
    "a=\"PYSPIDERS\"\n",
    "print(a[::-1])\n",
    "print(a[-4:-9-1:-1])\n",
    "print(a[-2:-7-1:-1])\n",
    "print(a[-6:-9-1:-1])\n",
    "print(a[-2:-5-1:-1])\n",
    "\n",
    "# POSITIVE SLICING (with negative index values)\n",
    "\n",
    "\n"
   ]
  }
 ],
 "metadata": {
  "kernelspec": {
   "display_name": "Python 3",
   "language": "python",
   "name": "python3"
  },
  "language_info": {
   "codemirror_mode": {
    "name": "ipython",
    "version": 3
   },
   "file_extension": ".py",
   "mimetype": "text/x-python",
   "name": "python",
   "nbconvert_exporter": "python",
   "pygments_lexer": "ipython3",
   "version": "3.11.3"
  },
  "orig_nbformat": 4
 },
 "nbformat": 4,
 "nbformat_minor": 2
}
