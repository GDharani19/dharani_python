{
 "cells": [
  {
   "cell_type": "code",
   "execution_count": 33,
   "metadata": {},
   "outputs": [
    {
     "name": "stdout",
     "output_type": "stream",
     "text": [
      "                                                 body\n",
      "0   We are sorry to know about your experience. We...\n",
      "1   Our representatives will be happy to review yo...\n",
      "2   Our representatives will be happy to review yo...\n",
      "3          We are sorry to know about your experience\n",
      "4   Our representatives will be happy to review yo...\n",
      "5   Our representatives will be happy to review yo...\n",
      "6          We are sorry to know about your experience\n",
      "7   Our representatives will be happy to review yo...\n",
      "8          We are sorry to know about your experience\n",
      "9   Our representatives will be happy to review yo...\n",
      "10         We are sorry to know about your experience\n",
      "11         We are sorry to know about your experience\n",
      "12  Our representatives will be happy to review yo...\n",
      "13         We are sorry to know about your experience\n",
      "14         We are sorry to know about your experience\n",
      "15         We are sorry to know about your experience\n",
      "16         We are sorry to know about your experience\n",
      "17  Our representatives will be happy to review yo...\n",
      "18  Our representatives will be happy to review yo...\n",
      "19         We are sorry to know about your experience\n"
     ]
    }
   ],
   "source": [
    "import pandas as pd\n",
    "#import csv\n",
    "\n",
    "data = pd.read_csv(\"Data Bleanding File One.csv\")\n",
    "print(data.iloc[:,1:2])\n",
    "\n",
    "#with open(\"Data Bleanding File One.csv\",'r') as csv_file:\n",
    "    #csv_reader = csv.reader(csv_file)\n",
    "\n",
    "    #print(csv_reader)\n",
    "\n",
    "    #for line in csv_reader:\n",
    "        #print(line[0])"
   ]
  }
 ],
 "metadata": {
  "kernelspec": {
   "display_name": "Python 3",
   "language": "python",
   "name": "python3"
  },
  "language_info": {
   "codemirror_mode": {
    "name": "ipython",
    "version": 3
   },
   "file_extension": ".py",
   "mimetype": "text/x-python",
   "name": "python",
   "nbconvert_exporter": "python",
   "pygments_lexer": "ipython3",
   "version": "3.11.3"
  }
 },
 "nbformat": 4,
 "nbformat_minor": 2
}
